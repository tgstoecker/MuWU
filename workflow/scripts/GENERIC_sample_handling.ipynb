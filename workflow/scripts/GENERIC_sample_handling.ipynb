{
 "cells": [
  {
   "cell_type": "code",
   "execution_count": 1,
   "id": "3d76589a",
   "metadata": {},
   "outputs": [],
   "source": [
    "import pandas as pd\n",
    "import yaml\n",
    "import os.path\n",
    "from os import path"
   ]
  },
  {
   "cell_type": "code",
   "execution_count": 5,
   "id": "d96dabca",
   "metadata": {},
   "outputs": [
    {
     "data": {
      "text/html": [
       "<div>\n",
       "<style scoped>\n",
       "    .dataframe tbody tr th:only-of-type {\n",
       "        vertical-align: middle;\n",
       "    }\n",
       "\n",
       "    .dataframe tbody tr th {\n",
       "        vertical-align: top;\n",
       "    }\n",
       "\n",
       "    .dataframe thead th {\n",
       "        text-align: right;\n",
       "    }\n",
       "</style>\n",
       "<table border=\"1\" class=\"dataframe\">\n",
       "  <thead>\n",
       "    <tr style=\"text-align: right;\">\n",
       "      <th></th>\n",
       "      <th>sample</th>\n",
       "      <th>fq1</th>\n",
       "      <th>fq2</th>\n",
       "    </tr>\n",
       "    <tr>\n",
       "      <th>sample</th>\n",
       "      <th></th>\n",
       "      <th></th>\n",
       "      <th></th>\n",
       "    </tr>\n",
       "  </thead>\n",
       "  <tbody>\n",
       "    <tr>\n",
       "      <th>Row-01</th>\n",
       "      <td>Row-01</td>\n",
       "      <td>Row-01_1.fq.gz</td>\n",
       "      <td>Row-01_2.fq.gz</td>\n",
       "    </tr>\n",
       "    <tr>\n",
       "      <th>Row-02</th>\n",
       "      <td>Row-02</td>\n",
       "      <td>Row-02_2.fq.gz</td>\n",
       "      <td>Row-02_2.fq.gz</td>\n",
       "    </tr>\n",
       "    <tr>\n",
       "      <th>Row-03</th>\n",
       "      <td>Row-03</td>\n",
       "      <td>Row-03_3.fq.gz</td>\n",
       "      <td>Row-03_2.fq.gz</td>\n",
       "    </tr>\n",
       "    <tr>\n",
       "      <th>Row-04</th>\n",
       "      <td>Row-04</td>\n",
       "      <td>Row-04_4.fq.gz</td>\n",
       "      <td>Row-04_2.fq.gz</td>\n",
       "    </tr>\n",
       "    <tr>\n",
       "      <th>Col-01</th>\n",
       "      <td>Col-01</td>\n",
       "      <td>Col-01_1.fq.gz</td>\n",
       "      <td>Col-01_2.fq.gz</td>\n",
       "    </tr>\n",
       "    <tr>\n",
       "      <th>Col-02</th>\n",
       "      <td>Col-02</td>\n",
       "      <td>Col-02_1.fq.gz</td>\n",
       "      <td>Col-02_2.fq.gz</td>\n",
       "    </tr>\n",
       "    <tr>\n",
       "      <th>Col-03</th>\n",
       "      <td>Col-03</td>\n",
       "      <td>Col-03_1.fq.gz</td>\n",
       "      <td>Col-03_2.fq.gz</td>\n",
       "    </tr>\n",
       "    <tr>\n",
       "      <th>Col-04</th>\n",
       "      <td>Col-04</td>\n",
       "      <td>Col-04_1.fq.gz</td>\n",
       "      <td>Col-04_2.fq.gz</td>\n",
       "    </tr>\n",
       "  </tbody>\n",
       "</table>\n",
       "</div>"
      ],
      "text/plain": [
       "        sample             fq1             fq2\n",
       "sample                                        \n",
       "Row-01  Row-01  Row-01_1.fq.gz  Row-01_2.fq.gz\n",
       "Row-02  Row-02  Row-02_2.fq.gz  Row-02_2.fq.gz\n",
       "Row-03  Row-03  Row-03_3.fq.gz  Row-03_2.fq.gz\n",
       "Row-04  Row-04  Row-04_4.fq.gz  Row-04_2.fq.gz\n",
       "Col-01  Col-01  Col-01_1.fq.gz  Col-01_2.fq.gz\n",
       "Col-02  Col-02  Col-02_1.fq.gz  Col-02_2.fq.gz\n",
       "Col-03  Col-03  Col-03_1.fq.gz  Col-03_2.fq.gz\n",
       "Col-04  Col-04  Col-04_1.fq.gz  Col-04_2.fq.gz"
      ]
     },
     "execution_count": 5,
     "metadata": {},
     "output_type": "execute_result"
    }
   ],
   "source": [
    "samples = pd.read_csv(\"../../config/samples.tsv\", dtype=str, sep=\"\\t\").set_index([\"sample\"], drop=False)\n",
    "samples"
   ]
  },
  {
   "cell_type": "code",
   "execution_count": 23,
   "id": "073bdd4c",
   "metadata": {},
   "outputs": [
    {
     "data": {
      "text/plain": [
       "['Row-01',\n",
       " 'Row-02',\n",
       " 'Row-03',\n",
       " 'Row-04',\n",
       " 'Col-01',\n",
       " 'Col-02',\n",
       " 'Col-03',\n",
       " 'Col-04']"
      ]
     },
     "execution_count": 23,
     "metadata": {},
     "output_type": "execute_result"
    }
   ],
   "source": [
    "SAMPLES = samples['sample'].to_list()\n",
    "SAMPLES"
   ]
  },
  {
   "cell_type": "code",
   "execution_count": 50,
   "id": "5899a33a",
   "metadata": {},
   "outputs": [],
   "source": [
    "def is_single_end_GENERIC_experiment(SAMPLES):\n",
    "    fq2_present = pd.isnull(samples.loc[(SAMPLES), \"fq2\"]).to_list()\n",
    "    if not any(fq2_present):\n",
    "        return False \n",
    "    else:\n",
    "        return True"
   ]
  },
  {
   "cell_type": "code",
   "execution_count": 51,
   "id": "62443f21",
   "metadata": {},
   "outputs": [
    {
     "data": {
      "text/plain": [
       "False"
      ]
     },
     "execution_count": 51,
     "metadata": {},
     "output_type": "execute_result"
    }
   ],
   "source": [
    "is_single_end_GENERIC_experiment(SAMPLES)"
   ]
  },
  {
   "cell_type": "code",
   "execution_count": 45,
   "id": "76d52e40",
   "metadata": {},
   "outputs": [],
   "source": [
    "def is_single_end_GENERIC(sample):\n",
    "    \"\"\"Determine whether unit is single-end.\"\"\"\n",
    "    fq2_present = pd.isnull(samples.loc[(sample), \"fq2\"])\n",
    "    if isinstance(fq2_present, pd.core.series.Series):\n",
    "        # if this is the case, get_fastqs cannot work properly\n",
    "        raise ValueError(\n",
    "            f\"Multiple fq2 entries found for sample-unit combination {sample}-{unit}.\\n\"\n",
    "            \"This is most likely due to a faulty units.tsv file, e.g. \"\n",
    "            \"a unit name is used twice for the same sample.\\n\"\n",
    "            \"Try checking your units.tsv for duplicates.\"\n",
    "        )\n",
    "    return fq2_present"
   ]
  },
  {
   "cell_type": "code",
   "execution_count": 46,
   "id": "c7f54451",
   "metadata": {},
   "outputs": [
    {
     "data": {
      "text/plain": [
       "False"
      ]
     },
     "execution_count": 46,
     "metadata": {},
     "output_type": "execute_result"
    }
   ],
   "source": [
    "is_single_end_GENERIC(\"Row-01\")"
   ]
  },
  {
   "cell_type": "code",
   "execution_count": 16,
   "id": "09324fd3",
   "metadata": {
    "scrolled": true
   },
   "outputs": [],
   "source": [
    "def get_fastqs_GENERIC(sample):\n",
    "        rd = \"../../rawreads\"\n",
    "        \"\"\"Get raw FASTQ files from unit sheet.\"\"\"\n",
    "        if is_single_end_GENERIC(sample):\n",
    "            s = samples.loc[ (sample), [\"fq1\"] ].dropna()\n",
    "            return [ f\"{rd}/{s.fq1}\" ]\n",
    "        else:\n",
    "            u = samples.loc[ (sample), [\"fq1\", \"fq2\"] ].dropna()\n",
    "            return [ f\"{rd}/{u.fq1}\", f\"{rd}/{u.fq2}\" ]"
   ]
  },
  {
   "cell_type": "code",
   "execution_count": 32,
   "id": "5685b3e1",
   "metadata": {},
   "outputs": [
    {
     "data": {
      "text/plain": [
       "['../../rawreads/Row-01_1.fq.gz', '../../rawreads/Row-01_2.fq.gz']"
      ]
     },
     "execution_count": 32,
     "metadata": {},
     "output_type": "execute_result"
    }
   ],
   "source": [
    "get_fastqs_GENERIC(\"Row-01\")"
   ]
  },
  {
   "cell_type": "code",
   "execution_count": 33,
   "id": "dda5162e",
   "metadata": {},
   "outputs": [],
   "source": [
    "def get_fastqs_fastqc_1_GENERIC(sample):\n",
    "    rd = \"../../rawreads\"\n",
    "    \"\"\"Get raw FASTQ files from sample sheet.\"\"\"\n",
    "    s = samples.loc[ (sample), [\"fq1\"] ].dropna()\n",
    "    return [ f\"{rd}/{s.fq1}\" ]"
   ]
  },
  {
   "cell_type": "code",
   "execution_count": 34,
   "id": "22ddf657",
   "metadata": {},
   "outputs": [
    {
     "data": {
      "text/plain": [
       "['../../rawreads/Row-01_1.fq.gz']"
      ]
     },
     "execution_count": 34,
     "metadata": {},
     "output_type": "execute_result"
    }
   ],
   "source": [
    "get_fastqs_fastqc_1_GENERIC(\"Row-01\")"
   ]
  },
  {
   "cell_type": "code",
   "execution_count": 38,
   "id": "b8e5af35",
   "metadata": {},
   "outputs": [],
   "source": [
    "def get_fastqs_fastqc_2_GENERIC(sample):\n",
    "    rd = \"../../rawreads\"\n",
    "    \"\"\"Get raw FASTQ files from sample sheet.\"\"\"\n",
    "    s = samples.loc[ (sample), [\"fq2\"] ].dropna()\n",
    "    return [ f\"{rd}/{s.fq2}\" ]"
   ]
  },
  {
   "cell_type": "code",
   "execution_count": 39,
   "id": "32fae1f9",
   "metadata": {},
   "outputs": [
    {
     "data": {
      "text/plain": [
       "['../../rawreads/Row-01_2.fq.gz']"
      ]
     },
     "execution_count": 39,
     "metadata": {},
     "output_type": "execute_result"
    }
   ],
   "source": [
    "get_fastqs_fastqc_2_GENERIC(\"Row-01\")"
   ]
  }
 ],
 "metadata": {
  "kernelspec": {
   "display_name": "Python 3",
   "language": "python",
   "name": "python3"
  },
  "language_info": {
   "codemirror_mode": {
    "name": "ipython",
    "version": 3
   },
   "file_extension": ".py",
   "mimetype": "text/x-python",
   "name": "python",
   "nbconvert_exporter": "python",
   "pygments_lexer": "ipython3",
   "version": "3.9.4"
  }
 },
 "nbformat": 4,
 "nbformat_minor": 5
}
