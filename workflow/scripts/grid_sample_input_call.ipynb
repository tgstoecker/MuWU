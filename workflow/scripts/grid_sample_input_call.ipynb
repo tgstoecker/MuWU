{
 "cells": [
  {
   "cell_type": "code",
   "execution_count": 1,
   "id": "483afbf2",
   "metadata": {},
   "outputs": [],
   "source": [
    "import pandas as pd"
   ]
  },
  {
   "cell_type": "code",
   "execution_count": 2,
   "id": "67419007",
   "metadata": {},
   "outputs": [
    {
     "name": "stdout",
     "output_type": "stream",
     "text": [
      "/scratch2/cropbio/stoecker/MuWU/revision_branch/MuWU/workflow/scripts\r\n"
     ]
    }
   ],
   "source": [
    "!pwd"
   ]
  },
  {
   "cell_type": "code",
   "execution_count": null,
   "id": "991217f5",
   "metadata": {},
   "outputs": [],
   "source": []
  },
  {
   "cell_type": "code",
   "execution_count": 122,
   "id": "742a34ed",
   "metadata": {},
   "outputs": [
    {
     "data": {
      "text/plain": [
       "['Row-01',\n",
       " 'Row-02',\n",
       " 'Row-03',\n",
       " 'Row-04',\n",
       " 'Col-01',\n",
       " 'Col-02',\n",
       " 'Col-03',\n",
       " 'Col-04']"
      ]
     },
     "execution_count": 122,
     "metadata": {},
     "output_type": "execute_result"
    }
   ],
   "source": [
    "samples = pd.read_csv(\"../../config/grid_sample_sheet.tsv\", dtype=str, sep=\"\\t\").set_index([\"num\", \"base_name\"], drop=False)\n",
    "samples.index = samples.index.set_levels( [i.astype(str) for i in samples.index.levels])  # enforce str in index\n",
    "a = samples[\"base_name\"].tolist()\n",
    "a\n",
    "#samples[[\"fq_1_end\"]].values\n",
    "#samples[[\"fq_2_end\"]].values\n",
    "\n",
    "#samples\n",
    "\n",
    "#samples.loc[ (\"1\", \"Col-01\"), [\"dim\"]]"
   ]
  },
  {
   "cell_type": "code",
   "execution_count": 131,
   "id": "9f5661f4",
   "metadata": {},
   "outputs": [
    {
     "data": {
      "text/plain": [
       "['Row-01',\n",
       " 'Row-02',\n",
       " 'Row-03',\n",
       " 'Row-04',\n",
       " 'Col-01',\n",
       " 'Col-02',\n",
       " 'Col-03',\n",
       " 'Col-04']"
      ]
     },
     "execution_count": 131,
     "metadata": {},
     "output_type": "execute_result"
    }
   ],
   "source": [
    "samples = pd.read_csv(\"../../config/grid_sample_sheet.tsv\", dtype=str, sep=\"\\t\").set_index([\"base_name\"], drop=False)\n",
    "#samples.index = samples.index.set_levels( [i.astype(str) for i in samples.index.levels])  # enforce str in index\n",
    "samples.index\n",
    "samples[\"base_name\"].tolist()"
   ]
  },
  {
   "cell_type": "code",
   "execution_count": 126,
   "id": "c1487d38",
   "metadata": {
    "scrolled": true
   },
   "outputs": [
    {
     "data": {
      "text/plain": [
       "['rawreads/Row-01_1.fq.gz', 'rawreads/Row-01_2.fq.gz']"
      ]
     },
     "execution_count": 126,
     "metadata": {},
     "output_type": "execute_result"
    }
   ],
   "source": [
    "##PE_samples\n",
    "def get_PE_fastqs():\n",
    "    \"\"\"Get raw FASTQ files based on automatically generated grid_sample_sheet.tsv.\"\"\"\n",
    "    s = samples.loc[ (\"Row-01\"), [\"base_name\", \"fq_1_end\", \"fq_2_end\"] ].dropna()\n",
    "    return [ f\"rawreads/{s.base_name}{s.fq_1_end}\", f\"rawreads/{s.base_name}{s.fq_2_end}\"  ]\n",
    "    #return [ f\"rawreads/{s.fq1}\", f\"rawreads/{s.fq2}\"  ]\n",
    "get_PE_fastqs()"
   ]
  },
  {
   "cell_type": "code",
   "execution_count": null,
   "id": "9d982d70",
   "metadata": {},
   "outputs": [],
   "source": [
    "##SE_samples\n",
    "def get_SE_fastqs(wildcards):\n",
    "    \"\"\"Get raw FASTQ files from unit sheet.\"\"\"\n",
    "    if is_single_end(wildcards.sample, wildcards.unit):\n",
    "        s = samples.loc[ (wildcards.sample, wildcards.unit), [\"fq1\"] ].dropna()\n",
    "        return [ f\"rawreads/{s.fq1}\" ]\n",
    "    else:\n",
    "        return\n",
    "\n",
    "\n",
    "\n"
   ]
  },
  {
   "cell_type": "code",
   "execution_count": null,
   "id": "a57e544e",
   "metadata": {},
   "outputs": [],
   "source": [
    "!pwd"
   ]
  }
 ],
 "metadata": {
  "kernelspec": {
   "display_name": "Python 3",
   "language": "python",
   "name": "python3"
  },
  "language_info": {
   "codemirror_mode": {
    "name": "ipython",
    "version": 3
   },
   "file_extension": ".py",
   "mimetype": "text/x-python",
   "name": "python",
   "nbconvert_exporter": "python",
   "pygments_lexer": "ipython3",
   "version": "3.9.4"
  }
 },
 "nbformat": 4,
 "nbformat_minor": 5
}
