{
 "cells": [
  {
   "cell_type": "code",
   "execution_count": 14,
   "id": "f0ff1820",
   "metadata": {},
   "outputs": [
    {
     "name": "stderr",
     "output_type": "stream",
     "text": [
      "Updating HTML index of packages in '.Library'\n",
      "\n",
      "Making 'packages.html' ...\n",
      " done\n",
      "\n",
      "'getOption(\"repos\")' replaces Bioconductor standard repositories, see\n",
      "'?repositories' for details\n",
      "\n",
      "replacement repositories:\n",
      "    CRAN: https://cran.r-project.org\n",
      "\n",
      "\n",
      "Bioconductor version 3.13 (BiocManager 1.30.16), R 4.1.0 (2021-05-18)\n",
      "\n",
      "Installing package(s) 'BiocVersion', 'IRanges'\n",
      "\n",
      "also installing the dependencies ‘BiocGenerics’, ‘S4Vectors’\n",
      "\n",
      "\n",
      "Updating HTML index of packages in '.Library'\n",
      "\n",
      "Making 'packages.html' ...\n",
      " done\n",
      "\n",
      "Old packages: 'fansi'\n",
      "\n"
     ]
    }
   ],
   "source": [
    "###install.packages(\"tidygenomics\")\n",
    "#install.packages(\"dplyr\")\n",
    "#install.packages(\"fuzzyjoin\")\n",
    "#install.packages(\"readxl\")\n",
    "#if (!requireNamespace(\"BiocManager\", quietly = TRUE))\n",
    "#    install.packages(\"BiocManager\")\n",
    "#BiocManager::install(\"IRanges\")"
   ]
  },
  {
   "cell_type": "code",
   "execution_count": 1,
   "id": "1077ae0f",
   "metadata": {
    "scrolled": true
   },
   "outputs": [
    {
     "name": "stderr",
     "output_type": "stream",
     "text": [
      "\n",
      "Attaching package: ‘dplyr’\n",
      "\n",
      "\n",
      "The following objects are masked from ‘package:stats’:\n",
      "\n",
      "    filter, lag\n",
      "\n",
      "\n",
      "The following objects are masked from ‘package:base’:\n",
      "\n",
      "    intersect, setdiff, setequal, union\n",
      "\n",
      "\n",
      "Loading required package: BiocGenerics\n",
      "\n",
      "Loading required package: parallel\n",
      "\n",
      "\n",
      "Attaching package: ‘BiocGenerics’\n",
      "\n",
      "\n",
      "The following objects are masked from ‘package:parallel’:\n",
      "\n",
      "    clusterApply, clusterApplyLB, clusterCall, clusterEvalQ,\n",
      "    clusterExport, clusterMap, parApply, parCapply, parLapply,\n",
      "    parLapplyLB, parRapply, parSapply, parSapplyLB\n",
      "\n",
      "\n",
      "The following objects are masked from ‘package:dplyr’:\n",
      "\n",
      "    combine, intersect, setdiff, union\n",
      "\n",
      "\n",
      "The following objects are masked from ‘package:stats’:\n",
      "\n",
      "    IQR, mad, sd, var, xtabs\n",
      "\n",
      "\n",
      "The following objects are masked from ‘package:base’:\n",
      "\n",
      "    anyDuplicated, append, as.data.frame, basename, cbind, colnames,\n",
      "    dirname, do.call, duplicated, eval, evalq, Filter, Find, get, grep,\n",
      "    grepl, intersect, is.unsorted, lapply, Map, mapply, match, mget,\n",
      "    order, paste, pmax, pmax.int, pmin, pmin.int, Position, rank,\n",
      "    rbind, Reduce, rownames, sapply, setdiff, sort, table, tapply,\n",
      "    union, unique, unsplit, which.max, which.min\n",
      "\n",
      "\n",
      "Loading required package: S4Vectors\n",
      "\n",
      "Loading required package: stats4\n",
      "\n",
      "\n",
      "Attaching package: ‘S4Vectors’\n",
      "\n",
      "\n",
      "The following objects are masked from ‘package:dplyr’:\n",
      "\n",
      "    first, rename\n",
      "\n",
      "\n",
      "The following objects are masked from ‘package:base’:\n",
      "\n",
      "    expand.grid, I, unname\n",
      "\n",
      "\n",
      "\n",
      "Attaching package: ‘IRanges’\n",
      "\n",
      "\n",
      "The following objects are masked from ‘package:dplyr’:\n",
      "\n",
      "    collapse, desc, slice\n",
      "\n",
      "\n"
     ]
    }
   ],
   "source": [
    "#library(tidygenomics)\n",
    "library(dplyr)\n",
    "library(fuzzyjoin)\n",
    "library(readxl)\n",
    "library(IRanges)"
   ]
  },
  {
   "cell_type": "code",
   "execution_count": 2,
   "id": "ce9c7d28",
   "metadata": {},
   "outputs": [
    {
     "name": "stderr",
     "output_type": "stream",
     "text": [
      "`summarise()` has grouped output by 'GeneID'. You can override using the `.groups` argument.\n",
      "\n"
     ]
    }
   ],
   "source": [
    "## Read in tables with identified germinal Mu insertions; \n",
    "all_ins <- read.csv(\"../../results/insertions_table_final/all_identified_insertions.csv\", header=TRUE)\n",
    "\n",
    "\n",
    "\n",
    "## Read Annotation File\n",
    "#setwd(\"../FGS/\")\n",
    "#MY_gff3 <- list.files(getwd(), pattern=\"\\\\.gff3$\")\n",
    "annotation <- read.delim(\"../../resources/final_annotation_table\", header=FALSE, comment.char=\"#\")\n",
    "# add column names\n",
    "colnames(annotation) <- c(\"GeneID\", \"Chr\", \"Start\", \"End\")\n",
    "\n",
    "# reduce genes to ONE entry which is the longest\n",
    "# multiple entries per gene likely, since after gffread, transcripts of different lengths are included (share name)\n",
    "# we find the min and max positions (start & end coordinate with greatest distance) per gene and keep this record  \n",
    "annotation <- annotation %>%\n",
    "  group_by(GeneID, Chr) %>%\n",
    "  summarise(Start = min(Start), End = max(End))\n",
    "\n",
    "# compute gene_length\n",
    "annotation <- annotation %>% \n",
    "  mutate(Gene_length = End - Start + 1)\n",
    "\n",
    "\n",
    "# relocate Gene column before gene_length\n",
    "#annotation <- annotation %>%\n",
    "#  relocate(Gene, .before = gene_length)"
   ]
  },
  {
   "cell_type": "code",
   "execution_count": 4,
   "id": "b61c52eb",
   "metadata": {},
   "outputs": [
    {
     "data": {
      "text/html": [
       "<table class=\"dataframe\">\n",
       "<caption>A grouped_df: 6 × 5</caption>\n",
       "<thead>\n",
       "\t<tr><th scope=col>GeneID</th><th scope=col>Chr</th><th scope=col>Start</th><th scope=col>End</th><th scope=col>Gene_length</th></tr>\n",
       "\t<tr><th scope=col>&lt;chr&gt;</th><th scope=col>&lt;chr&gt;</th><th scope=col>&lt;int&gt;</th><th scope=col>&lt;int&gt;</th><th scope=col>&lt;dbl&gt;</th></tr>\n",
       "</thead>\n",
       "<tbody>\n",
       "\t<tr><td>ENSRNA049437471</td><td>1</td><td> 2815814</td><td> 2815887</td><td>74</td></tr>\n",
       "\t<tr><td>ENSRNA049437473</td><td>1</td><td> 2998702</td><td> 2998773</td><td>72</td></tr>\n",
       "\t<tr><td>ENSRNA049437518</td><td>1</td><td> 5888817</td><td> 5888890</td><td>74</td></tr>\n",
       "\t<tr><td>ENSRNA049437607</td><td>1</td><td>10109832</td><td>10109903</td><td>72</td></tr>\n",
       "\t<tr><td>ENSRNA049437614</td><td>1</td><td>10573120</td><td>10573190</td><td>71</td></tr>\n",
       "\t<tr><td>ENSRNA049437658</td><td>1</td><td>18379795</td><td>18379867</td><td>73</td></tr>\n",
       "</tbody>\n",
       "</table>\n"
      ],
      "text/latex": [
       "A grouped\\_df: 6 × 5\n",
       "\\begin{tabular}{lllll}\n",
       " GeneID & Chr & Start & End & Gene\\_length\\\\\n",
       " <chr> & <chr> & <int> & <int> & <dbl>\\\\\n",
       "\\hline\n",
       "\t ENSRNA049437471 & 1 &  2815814 &  2815887 & 74\\\\\n",
       "\t ENSRNA049437473 & 1 &  2998702 &  2998773 & 72\\\\\n",
       "\t ENSRNA049437518 & 1 &  5888817 &  5888890 & 74\\\\\n",
       "\t ENSRNA049437607 & 1 & 10109832 & 10109903 & 72\\\\\n",
       "\t ENSRNA049437614 & 1 & 10573120 & 10573190 & 71\\\\\n",
       "\t ENSRNA049437658 & 1 & 18379795 & 18379867 & 73\\\\\n",
       "\\end{tabular}\n"
      ],
      "text/markdown": [
       "\n",
       "A grouped_df: 6 × 5\n",
       "\n",
       "| GeneID &lt;chr&gt; | Chr &lt;chr&gt; | Start &lt;int&gt; | End &lt;int&gt; | Gene_length &lt;dbl&gt; |\n",
       "|---|---|---|---|---|\n",
       "| ENSRNA049437471 | 1 |  2815814 |  2815887 | 74 |\n",
       "| ENSRNA049437473 | 1 |  2998702 |  2998773 | 72 |\n",
       "| ENSRNA049437518 | 1 |  5888817 |  5888890 | 74 |\n",
       "| ENSRNA049437607 | 1 | 10109832 | 10109903 | 72 |\n",
       "| ENSRNA049437614 | 1 | 10573120 | 10573190 | 71 |\n",
       "| ENSRNA049437658 | 1 | 18379795 | 18379867 | 73 |\n",
       "\n"
      ],
      "text/plain": [
       "  GeneID          Chr Start    End      Gene_length\n",
       "1 ENSRNA049437471 1    2815814  2815887 74         \n",
       "2 ENSRNA049437473 1    2998702  2998773 72         \n",
       "3 ENSRNA049437518 1    5888817  5888890 74         \n",
       "4 ENSRNA049437607 1   10109832 10109903 72         \n",
       "5 ENSRNA049437614 1   10573120 10573190 71         \n",
       "6 ENSRNA049437658 1   18379795 18379867 73         "
      ]
     },
     "metadata": {},
     "output_type": "display_data"
    },
    {
     "data": {
      "text/html": [
       "<table class=\"dataframe\">\n",
       "<caption>A grouped_df: 6 × 5</caption>\n",
       "<thead>\n",
       "\t<tr><th scope=col>GeneID</th><th scope=col>Chr</th><th scope=col>Start</th><th scope=col>End</th><th scope=col>Gene_length</th></tr>\n",
       "\t<tr><th scope=col>&lt;chr&gt;</th><th scope=col>&lt;chr&gt;</th><th scope=col>&lt;dbl&gt;</th><th scope=col>&lt;dbl&gt;</th><th scope=col>&lt;dbl&gt;</th></tr>\n",
       "</thead>\n",
       "<tbody>\n",
       "\t<tr><td>ENSRNA049437471</td><td>1</td><td> 2815714</td><td> 2815987</td><td>74</td></tr>\n",
       "\t<tr><td>ENSRNA049437473</td><td>1</td><td> 2998602</td><td> 2998873</td><td>72</td></tr>\n",
       "\t<tr><td>ENSRNA049437518</td><td>1</td><td> 5888717</td><td> 5888990</td><td>74</td></tr>\n",
       "\t<tr><td>ENSRNA049437607</td><td>1</td><td>10109732</td><td>10110003</td><td>72</td></tr>\n",
       "\t<tr><td>ENSRNA049437614</td><td>1</td><td>10573020</td><td>10573290</td><td>71</td></tr>\n",
       "\t<tr><td>ENSRNA049437658</td><td>1</td><td>18379695</td><td>18379967</td><td>73</td></tr>\n",
       "</tbody>\n",
       "</table>\n"
      ],
      "text/latex": [
       "A grouped\\_df: 6 × 5\n",
       "\\begin{tabular}{lllll}\n",
       " GeneID & Chr & Start & End & Gene\\_length\\\\\n",
       " <chr> & <chr> & <dbl> & <dbl> & <dbl>\\\\\n",
       "\\hline\n",
       "\t ENSRNA049437471 & 1 &  2815714 &  2815987 & 74\\\\\n",
       "\t ENSRNA049437473 & 1 &  2998602 &  2998873 & 72\\\\\n",
       "\t ENSRNA049437518 & 1 &  5888717 &  5888990 & 74\\\\\n",
       "\t ENSRNA049437607 & 1 & 10109732 & 10110003 & 72\\\\\n",
       "\t ENSRNA049437614 & 1 & 10573020 & 10573290 & 71\\\\\n",
       "\t ENSRNA049437658 & 1 & 18379695 & 18379967 & 73\\\\\n",
       "\\end{tabular}\n"
      ],
      "text/markdown": [
       "\n",
       "A grouped_df: 6 × 5\n",
       "\n",
       "| GeneID &lt;chr&gt; | Chr &lt;chr&gt; | Start &lt;dbl&gt; | End &lt;dbl&gt; | Gene_length &lt;dbl&gt; |\n",
       "|---|---|---|---|---|\n",
       "| ENSRNA049437471 | 1 |  2815714 |  2815987 | 74 |\n",
       "| ENSRNA049437473 | 1 |  2998602 |  2998873 | 72 |\n",
       "| ENSRNA049437518 | 1 |  5888717 |  5888990 | 74 |\n",
       "| ENSRNA049437607 | 1 | 10109732 | 10110003 | 72 |\n",
       "| ENSRNA049437614 | 1 | 10573020 | 10573290 | 71 |\n",
       "| ENSRNA049437658 | 1 | 18379695 | 18379967 | 73 |\n",
       "\n"
      ],
      "text/plain": [
       "  GeneID          Chr Start    End      Gene_length\n",
       "1 ENSRNA049437471 1    2815714  2815987 74         \n",
       "2 ENSRNA049437473 1    2998602  2998873 72         \n",
       "3 ENSRNA049437518 1    5888717  5888990 74         \n",
       "4 ENSRNA049437607 1   10109732 10110003 72         \n",
       "5 ENSRNA049437614 1   10573020 10573290 71         \n",
       "6 ENSRNA049437658 1   18379695 18379967 73         "
      ]
     },
     "metadata": {},
     "output_type": "display_data"
    }
   ],
   "source": [
    "head(annotation)\n",
    "extension = 100\n",
    "annotation <- annotation %>%\n",
    "  mutate(Start = Start -extension, End = End + extension)\n",
    "head(annotation)"
   ]
  },
  {
   "cell_type": "code",
   "execution_count": 18,
   "id": "07c18e66",
   "metadata": {},
   "outputs": [
    {
     "data": {
      "text/html": [
       "<table class=\"dataframe\">\n",
       "<caption>A data.frame: 6 × 6</caption>\n",
       "<thead>\n",
       "\t<tr><th></th><th scope=col>Chr</th><th scope=col>Start</th><th scope=col>End</th><th scope=col>Sample</th><th scope=col>StartReads</th><th scope=col>EndReads</th></tr>\n",
       "\t<tr><th></th><th scope=col>&lt;chr&gt;</th><th scope=col>&lt;int&gt;</th><th scope=col>&lt;int&gt;</th><th scope=col>&lt;chr&gt;</th><th scope=col>&lt;int&gt;</th><th scope=col>&lt;int&gt;</th></tr>\n",
       "</thead>\n",
       "<tbody>\n",
       "\t<tr><th scope=row>1</th><td>1</td><td> 262679</td><td> 262687</td><td>Col-01</td><td> 3</td><td>13</td></tr>\n",
       "\t<tr><th scope=row>2</th><td>1</td><td>1231462</td><td>1231470</td><td>Col-01</td><td>39</td><td> 3</td></tr>\n",
       "\t<tr><th scope=row>3</th><td>1</td><td>2113392</td><td>2113400</td><td>Col-01</td><td>37</td><td> 8</td></tr>\n",
       "\t<tr><th scope=row>4</th><td>1</td><td>2113407</td><td>2113415</td><td>Col-01</td><td>18</td><td> 2</td></tr>\n",
       "\t<tr><th scope=row>5</th><td>1</td><td>2170572</td><td>2170580</td><td>Col-01</td><td>41</td><td> 4</td></tr>\n",
       "\t<tr><th scope=row>6</th><td>1</td><td>2232236</td><td>2232244</td><td>Col-01</td><td> 2</td><td> 2</td></tr>\n",
       "</tbody>\n",
       "</table>\n"
      ],
      "text/latex": [
       "A data.frame: 6 × 6\n",
       "\\begin{tabular}{r|llllll}\n",
       "  & Chr & Start & End & Sample & StartReads & EndReads\\\\\n",
       "  & <chr> & <int> & <int> & <chr> & <int> & <int>\\\\\n",
       "\\hline\n",
       "\t1 & 1 &  262679 &  262687 & Col-01 &  3 & 13\\\\\n",
       "\t2 & 1 & 1231462 & 1231470 & Col-01 & 39 &  3\\\\\n",
       "\t3 & 1 & 2113392 & 2113400 & Col-01 & 37 &  8\\\\\n",
       "\t4 & 1 & 2113407 & 2113415 & Col-01 & 18 &  2\\\\\n",
       "\t5 & 1 & 2170572 & 2170580 & Col-01 & 41 &  4\\\\\n",
       "\t6 & 1 & 2232236 & 2232244 & Col-01 &  2 &  2\\\\\n",
       "\\end{tabular}\n"
      ],
      "text/markdown": [
       "\n",
       "A data.frame: 6 × 6\n",
       "\n",
       "| <!--/--> | Chr &lt;chr&gt; | Start &lt;int&gt; | End &lt;int&gt; | Sample &lt;chr&gt; | StartReads &lt;int&gt; | EndReads &lt;int&gt; |\n",
       "|---|---|---|---|---|---|---|\n",
       "| 1 | 1 |  262679 |  262687 | Col-01 |  3 | 13 |\n",
       "| 2 | 1 | 1231462 | 1231470 | Col-01 | 39 |  3 |\n",
       "| 3 | 1 | 2113392 | 2113400 | Col-01 | 37 |  8 |\n",
       "| 4 | 1 | 2113407 | 2113415 | Col-01 | 18 |  2 |\n",
       "| 5 | 1 | 2170572 | 2170580 | Col-01 | 41 |  4 |\n",
       "| 6 | 1 | 2232236 | 2232244 | Col-01 |  2 |  2 |\n",
       "\n"
      ],
      "text/plain": [
       "  Chr Start   End     Sample StartReads EndReads\n",
       "1 1    262679  262687 Col-01  3         13      \n",
       "2 1   1231462 1231470 Col-01 39          3      \n",
       "3 1   2113392 2113400 Col-01 37          8      \n",
       "4 1   2113407 2113415 Col-01 18          2      \n",
       "5 1   2170572 2170580 Col-01 41          4      \n",
       "6 1   2232236 2232244 Col-01  2          2      "
      ]
     },
     "metadata": {},
     "output_type": "display_data"
    },
    {
     "data": {
      "text/html": [
       "<table class=\"dataframe\">\n",
       "<caption>A grouped_df: 6 × 5</caption>\n",
       "<thead>\n",
       "\t<tr><th scope=col>GeneID</th><th scope=col>Chr</th><th scope=col>Start</th><th scope=col>End</th><th scope=col>Gene_length</th></tr>\n",
       "\t<tr><th scope=col>&lt;chr&gt;</th><th scope=col>&lt;chr&gt;</th><th scope=col>&lt;int&gt;</th><th scope=col>&lt;int&gt;</th><th scope=col>&lt;dbl&gt;</th></tr>\n",
       "</thead>\n",
       "<tbody>\n",
       "\t<tr><td>ENSRNA049437471</td><td>1</td><td> 2815814</td><td> 2815887</td><td>74</td></tr>\n",
       "\t<tr><td>ENSRNA049437473</td><td>1</td><td> 2998702</td><td> 2998773</td><td>72</td></tr>\n",
       "\t<tr><td>ENSRNA049437518</td><td>1</td><td> 5888817</td><td> 5888890</td><td>74</td></tr>\n",
       "\t<tr><td>ENSRNA049437607</td><td>1</td><td>10109832</td><td>10109903</td><td>72</td></tr>\n",
       "\t<tr><td>ENSRNA049437614</td><td>1</td><td>10573120</td><td>10573190</td><td>71</td></tr>\n",
       "\t<tr><td>ENSRNA049437658</td><td>1</td><td>18379795</td><td>18379867</td><td>73</td></tr>\n",
       "</tbody>\n",
       "</table>\n"
      ],
      "text/latex": [
       "A grouped\\_df: 6 × 5\n",
       "\\begin{tabular}{lllll}\n",
       " GeneID & Chr & Start & End & Gene\\_length\\\\\n",
       " <chr> & <chr> & <int> & <int> & <dbl>\\\\\n",
       "\\hline\n",
       "\t ENSRNA049437471 & 1 &  2815814 &  2815887 & 74\\\\\n",
       "\t ENSRNA049437473 & 1 &  2998702 &  2998773 & 72\\\\\n",
       "\t ENSRNA049437518 & 1 &  5888817 &  5888890 & 74\\\\\n",
       "\t ENSRNA049437607 & 1 & 10109832 & 10109903 & 72\\\\\n",
       "\t ENSRNA049437614 & 1 & 10573120 & 10573190 & 71\\\\\n",
       "\t ENSRNA049437658 & 1 & 18379795 & 18379867 & 73\\\\\n",
       "\\end{tabular}\n"
      ],
      "text/markdown": [
       "\n",
       "A grouped_df: 6 × 5\n",
       "\n",
       "| GeneID &lt;chr&gt; | Chr &lt;chr&gt; | Start &lt;int&gt; | End &lt;int&gt; | Gene_length &lt;dbl&gt; |\n",
       "|---|---|---|---|---|\n",
       "| ENSRNA049437471 | 1 |  2815814 |  2815887 | 74 |\n",
       "| ENSRNA049437473 | 1 |  2998702 |  2998773 | 72 |\n",
       "| ENSRNA049437518 | 1 |  5888817 |  5888890 | 74 |\n",
       "| ENSRNA049437607 | 1 | 10109832 | 10109903 | 72 |\n",
       "| ENSRNA049437614 | 1 | 10573120 | 10573190 | 71 |\n",
       "| ENSRNA049437658 | 1 | 18379795 | 18379867 | 73 |\n",
       "\n"
      ],
      "text/plain": [
       "  GeneID          Chr Start    End      Gene_length\n",
       "1 ENSRNA049437471 1    2815814  2815887 74         \n",
       "2 ENSRNA049437473 1    2998702  2998773 72         \n",
       "3 ENSRNA049437518 1    5888817  5888890 74         \n",
       "4 ENSRNA049437607 1   10109832 10109903 72         \n",
       "5 ENSRNA049437614 1   10573120 10573190 71         \n",
       "6 ENSRNA049437658 1   18379795 18379867 73         "
      ]
     },
     "metadata": {},
     "output_type": "display_data"
    },
    {
     "data": {
      "text/html": [
       "46430"
      ],
      "text/latex": [
       "46430"
      ],
      "text/markdown": [
       "46430"
      ],
      "text/plain": [
       "[1] 46430"
      ]
     },
     "metadata": {},
     "output_type": "display_data"
    }
   ],
   "source": [
    "head(all_ins)\n",
    "head(annotation)\n",
    "nrow(annotation)"
   ]
  },
  {
   "cell_type": "code",
   "execution_count": 36,
   "id": "e0554362",
   "metadata": {},
   "outputs": [
    {
     "data": {
      "text/html": [
       "<table class=\"dataframe\">\n",
       "<caption>A data.frame: 6 × 11</caption>\n",
       "<thead>\n",
       "\t<tr><th></th><th scope=col>Chr.x</th><th scope=col>Start.x</th><th scope=col>End.x</th><th scope=col>Sample</th><th scope=col>StartReads</th><th scope=col>EndReads</th><th scope=col>GeneID</th><th scope=col>Chr.y</th><th scope=col>Start.y</th><th scope=col>End.y</th><th scope=col>Gene_length</th></tr>\n",
       "\t<tr><th></th><th scope=col>&lt;chr&gt;</th><th scope=col>&lt;int&gt;</th><th scope=col>&lt;int&gt;</th><th scope=col>&lt;chr&gt;</th><th scope=col>&lt;int&gt;</th><th scope=col>&lt;int&gt;</th><th scope=col>&lt;chr&gt;</th><th scope=col>&lt;chr&gt;</th><th scope=col>&lt;int&gt;</th><th scope=col>&lt;int&gt;</th><th scope=col>&lt;dbl&gt;</th></tr>\n",
       "</thead>\n",
       "<tbody>\n",
       "\t<tr><th scope=row>1</th><td>1</td><td>1231462</td><td>1231470</td><td>Col-01</td><td>39</td><td> 3</td><td>Zm00001d027276</td><td>1</td><td>1226063</td><td>1236227</td><td>10165</td></tr>\n",
       "\t<tr><th scope=row>2</th><td>1</td><td>2113392</td><td>2113400</td><td>Col-01</td><td>37</td><td> 8</td><td>Zm00001d027296</td><td>1</td><td>2109189</td><td>2113478</td><td> 4290</td></tr>\n",
       "\t<tr><th scope=row>3</th><td>1</td><td>2113407</td><td>2113415</td><td>Col-01</td><td>18</td><td> 2</td><td>Zm00001d027296</td><td>1</td><td>2109189</td><td>2113478</td><td> 4290</td></tr>\n",
       "\t<tr><th scope=row>4</th><td>1</td><td>2170572</td><td>2170580</td><td>Col-01</td><td>41</td><td> 4</td><td>Zm00001d022653</td><td>1</td><td>2170280</td><td>2170983</td><td>  704</td></tr>\n",
       "\t<tr><th scope=row>5</th><td>1</td><td>2809859</td><td>2809867</td><td>Col-01</td><td>43</td><td>13</td><td>Zm00001d027314</td><td>1</td><td>2809751</td><td>2811917</td><td> 2167</td></tr>\n",
       "\t<tr><th scope=row>6</th><td>1</td><td>2869732</td><td>2869740</td><td>Col-01</td><td>37</td><td> 8</td><td>Zm00001d027319</td><td>1</td><td>2869707</td><td>2878262</td><td> 8556</td></tr>\n",
       "</tbody>\n",
       "</table>\n"
      ],
      "text/latex": [
       "A data.frame: 6 × 11\n",
       "\\begin{tabular}{r|lllllllllll}\n",
       "  & Chr.x & Start.x & End.x & Sample & StartReads & EndReads & GeneID & Chr.y & Start.y & End.y & Gene\\_length\\\\\n",
       "  & <chr> & <int> & <int> & <chr> & <int> & <int> & <chr> & <chr> & <int> & <int> & <dbl>\\\\\n",
       "\\hline\n",
       "\t1 & 1 & 1231462 & 1231470 & Col-01 & 39 &  3 & Zm00001d027276 & 1 & 1226063 & 1236227 & 10165\\\\\n",
       "\t2 & 1 & 2113392 & 2113400 & Col-01 & 37 &  8 & Zm00001d027296 & 1 & 2109189 & 2113478 &  4290\\\\\n",
       "\t3 & 1 & 2113407 & 2113415 & Col-01 & 18 &  2 & Zm00001d027296 & 1 & 2109189 & 2113478 &  4290\\\\\n",
       "\t4 & 1 & 2170572 & 2170580 & Col-01 & 41 &  4 & Zm00001d022653 & 1 & 2170280 & 2170983 &   704\\\\\n",
       "\t5 & 1 & 2809859 & 2809867 & Col-01 & 43 & 13 & Zm00001d027314 & 1 & 2809751 & 2811917 &  2167\\\\\n",
       "\t6 & 1 & 2869732 & 2869740 & Col-01 & 37 &  8 & Zm00001d027319 & 1 & 2869707 & 2878262 &  8556\\\\\n",
       "\\end{tabular}\n"
      ],
      "text/markdown": [
       "\n",
       "A data.frame: 6 × 11\n",
       "\n",
       "| <!--/--> | Chr.x &lt;chr&gt; | Start.x &lt;int&gt; | End.x &lt;int&gt; | Sample &lt;chr&gt; | StartReads &lt;int&gt; | EndReads &lt;int&gt; | GeneID &lt;chr&gt; | Chr.y &lt;chr&gt; | Start.y &lt;int&gt; | End.y &lt;int&gt; | Gene_length &lt;dbl&gt; |\n",
       "|---|---|---|---|---|---|---|---|---|---|---|---|\n",
       "| 1 | 1 | 1231462 | 1231470 | Col-01 | 39 |  3 | Zm00001d027276 | 1 | 1226063 | 1236227 | 10165 |\n",
       "| 2 | 1 | 2113392 | 2113400 | Col-01 | 37 |  8 | Zm00001d027296 | 1 | 2109189 | 2113478 |  4290 |\n",
       "| 3 | 1 | 2113407 | 2113415 | Col-01 | 18 |  2 | Zm00001d027296 | 1 | 2109189 | 2113478 |  4290 |\n",
       "| 4 | 1 | 2170572 | 2170580 | Col-01 | 41 |  4 | Zm00001d022653 | 1 | 2170280 | 2170983 |   704 |\n",
       "| 5 | 1 | 2809859 | 2809867 | Col-01 | 43 | 13 | Zm00001d027314 | 1 | 2809751 | 2811917 |  2167 |\n",
       "| 6 | 1 | 2869732 | 2869740 | Col-01 | 37 |  8 | Zm00001d027319 | 1 | 2869707 | 2878262 |  8556 |\n",
       "\n"
      ],
      "text/plain": [
       "  Chr.x Start.x End.x   Sample StartReads EndReads GeneID         Chr.y Start.y\n",
       "1 1     1231462 1231470 Col-01 39          3       Zm00001d027276 1     1226063\n",
       "2 1     2113392 2113400 Col-01 37          8       Zm00001d027296 1     2109189\n",
       "3 1     2113407 2113415 Col-01 18          2       Zm00001d027296 1     2109189\n",
       "4 1     2170572 2170580 Col-01 41          4       Zm00001d022653 1     2170280\n",
       "5 1     2809859 2809867 Col-01 43         13       Zm00001d027314 1     2809751\n",
       "6 1     2869732 2869740 Col-01 37          8       Zm00001d027319 1     2869707\n",
       "  End.y   Gene_length\n",
       "1 1236227 10165      \n",
       "2 2113478  4290      \n",
       "3 2113478  4290      \n",
       "4 2170983   704      \n",
       "5 2811917  2167      \n",
       "6 2878262  8556      "
      ]
     },
     "metadata": {},
     "output_type": "display_data"
    }
   ],
   "source": [
    "# join MuGerminal table with annotation\n",
    "all_ins_annotated <- fuzzyjoin::genome_inner_join(all_ins, \n",
    "                                annotation, \n",
    "                                by=c(\"Chr\", \"Start\", \"End\") \n",
    "                                )\n",
    "head(all_ins_annotated)"
   ]
  },
  {
   "cell_type": "code",
   "execution_count": 37,
   "id": "5c29e331",
   "metadata": {},
   "outputs": [],
   "source": [
    "# rename, relocate and drop the columns to create a useful table\n",
    "all_ins_annotated <- all_ins_annotated %>%\n",
    "  dplyr::rename(\n",
    "    Chr = \"Chr.y\",\n",
    "    Start = \"Start.y\",\n",
    "    End = \"End.y\",\n",
    "    InsertionStart = \"Start.x\",\n",
    "    InsertionEnd = \"End.x\"\n",
    "  ) %>%\n",
    "  relocate(\n",
    "    Sample, InsertionStart, InsertionEnd, StartReads, EndReads, .before = Gene_length\n",
    "  ) %>%\n",
    "  select(\n",
    "    -Chr.x\n",
    "  )"
   ]
  },
  {
   "cell_type": "code",
   "execution_count": 38,
   "id": "70cb8947",
   "metadata": {},
   "outputs": [],
   "source": [
    "# order the table as to have intersecting samples next to one another\n",
    "all_ins_annotated <- all_ins_annotated %>%\n",
    "  arrange(., Chr, Start, InsertionStart)"
   ]
  },
  {
   "cell_type": "code",
   "execution_count": 39,
   "id": "e19f4830",
   "metadata": {},
   "outputs": [],
   "source": [
    "#setwd(\"MuSeq_table_final/\")\n",
    "write.csv(all_ins_annotated, \n",
    "          \"../../results/insertions_table_final/all_identified_insertions_annotated.csv\", \n",
    "          row.names=F)"
   ]
  },
  {
   "cell_type": "code",
   "execution_count": null,
   "id": "83ff56f0",
   "metadata": {},
   "outputs": [],
   "source": []
  },
  {
   "cell_type": "code",
   "execution_count": null,
   "id": "d8fc8c5f",
   "metadata": {},
   "outputs": [],
   "source": []
  },
  {
   "cell_type": "code",
   "execution_count": null,
   "id": "af109907",
   "metadata": {},
   "outputs": [],
   "source": []
  }
 ],
 "metadata": {
  "kernelspec": {
   "display_name": "R",
   "language": "R",
   "name": "ir"
  },
  "language_info": {
   "codemirror_mode": "r",
   "file_extension": ".r",
   "mimetype": "text/x-r-source",
   "name": "R",
   "pygments_lexer": "r",
   "version": "4.1.0"
  }
 },
 "nbformat": 4,
 "nbformat_minor": 5
}
