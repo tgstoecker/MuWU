{
 "cells": [
  {
   "cell_type": "code",
   "execution_count": null,
   "id": "46f89d53",
   "metadata": {},
   "outputs": [],
   "source": [
    "#install.packages(\"stringr\")\n",
    "#install.packages(\"tidyr\")\n",
    "#install.packages(\"dplyr\")"
   ]
  },
  {
   "cell_type": "code",
   "execution_count": 1,
   "id": "75a97ad2",
   "metadata": {},
   "outputs": [
    {
     "name": "stderr",
     "output_type": "stream",
     "text": [
      "\n",
      "Attaching package: ‘dplyr’\n",
      "\n",
      "\n",
      "The following objects are masked from ‘package:stats’:\n",
      "\n",
      "    filter, lag\n",
      "\n",
      "\n",
      "The following objects are masked from ‘package:base’:\n",
      "\n",
      "    intersect, setdiff, setequal, union\n",
      "\n",
      "\n"
     ]
    }
   ],
   "source": [
    "library(readxl)\n",
    "library(stringr)\n",
    "#library(tidyr)\n",
    "library(dplyr)"
   ]
  },
  {
   "cell_type": "code",
   "execution_count": 118,
   "id": "2f979633",
   "metadata": {},
   "outputs": [
    {
     "name": "stderr",
     "output_type": "stream",
     "text": [
      "New names:\n",
      "* `` -> ...1\n",
      "\n"
     ]
    }
   ],
   "source": [
    "MY_STOCK <- list.files(\"config/stock_matrix/\", pattern=\"\\\\.xlsx$\")\n",
    "stock <- as.data.frame(read_excel(paste0(\"config/stock_matrix/\", MY_STOCK)))\n",
    "names(stock)[1] <- \"X__1\"\n",
    "rownames(stock) <- stock$X__1\n",
    "stock <- stock[, -1]\n",
    "stock <- as.matrix(stock)"
   ]
  },
  {
   "cell_type": "code",
   "execution_count": 119,
   "id": "d60bcfb7",
   "metadata": {},
   "outputs": [
    {
     "data": {
      "text/html": [
       "<table class=\"dataframe\">\n",
       "<caption>A matrix: 4 × 4 of type chr</caption>\n",
       "<thead>\n",
       "\t<tr><th></th><th scope=col>Col-01</th><th scope=col>Col-02</th><th scope=col>Col-03</th><th scope=col>Col-04</th></tr>\n",
       "</thead>\n",
       "<tbody>\n",
       "\t<tr><th scope=row>Row-01</th><td>D-0078</td><td>D-0079</td><td>D-0080</td><td>D-0081</td></tr>\n",
       "\t<tr><th scope=row>Row-02</th><td>D-0102</td><td>D-0103</td><td>D-0104</td><td>D-0105</td></tr>\n",
       "\t<tr><th scope=row>Row-03</th><td>D-0126</td><td>D-0127</td><td>D-0128</td><td>D-0129</td></tr>\n",
       "\t<tr><th scope=row>Row-04</th><td>D-0150</td><td>D-0151</td><td>D-0152</td><td>D-0153</td></tr>\n",
       "</tbody>\n",
       "</table>\n"
      ],
      "text/latex": [
       "A matrix: 4 × 4 of type chr\n",
       "\\begin{tabular}{r|llll}\n",
       "  & Col-01 & Col-02 & Col-03 & Col-04\\\\\n",
       "\\hline\n",
       "\tRow-01 & D-0078 & D-0079 & D-0080 & D-0081\\\\\n",
       "\tRow-02 & D-0102 & D-0103 & D-0104 & D-0105\\\\\n",
       "\tRow-03 & D-0126 & D-0127 & D-0128 & D-0129\\\\\n",
       "\tRow-04 & D-0150 & D-0151 & D-0152 & D-0153\\\\\n",
       "\\end{tabular}\n"
      ],
      "text/markdown": [
       "\n",
       "A matrix: 4 × 4 of type chr\n",
       "\n",
       "| <!--/--> | Col-01 | Col-02 | Col-03 | Col-04 |\n",
       "|---|---|---|---|---|\n",
       "| Row-01 | D-0078 | D-0079 | D-0080 | D-0081 |\n",
       "| Row-02 | D-0102 | D-0103 | D-0104 | D-0105 |\n",
       "| Row-03 | D-0126 | D-0127 | D-0128 | D-0129 |\n",
       "| Row-04 | D-0150 | D-0151 | D-0152 | D-0153 |\n",
       "\n"
      ],
      "text/plain": [
       "       Col-01 Col-02 Col-03 Col-04\n",
       "Row-01 D-0078 D-0079 D-0080 D-0081\n",
       "Row-02 D-0102 D-0103 D-0104 D-0105\n",
       "Row-03 D-0126 D-0127 D-0128 D-0129\n",
       "Row-04 D-0150 D-0151 D-0152 D-0153"
      ]
     },
     "metadata": {},
     "output_type": "display_data"
    },
    {
     "data": {
      "text/html": [
       "<style>\n",
       ".list-inline {list-style: none; margin:0; padding: 0}\n",
       ".list-inline>li {display: inline-block}\n",
       ".list-inline>li:not(:last-child)::after {content: \"\\00b7\"; padding: 0 .5ex}\n",
       "</style>\n",
       "<ol class=list-inline><li>'Row-01'</li><li>'Row-02'</li><li>'Row-03'</li><li>'Row-04'</li></ol>\n"
      ],
      "text/latex": [
       "\\begin{enumerate*}\n",
       "\\item 'Row-01'\n",
       "\\item 'Row-02'\n",
       "\\item 'Row-03'\n",
       "\\item 'Row-04'\n",
       "\\end{enumerate*}\n"
      ],
      "text/markdown": [
       "1. 'Row-01'\n",
       "2. 'Row-02'\n",
       "3. 'Row-03'\n",
       "4. 'Row-04'\n",
       "\n",
       "\n"
      ],
      "text/plain": [
       "[1] \"Row-01\" \"Row-02\" \"Row-03\" \"Row-04\""
      ]
     },
     "metadata": {},
     "output_type": "display_data"
    },
    {
     "data": {
      "text/html": [
       "<table class=\"dataframe\">\n",
       "<caption>A matrix: 4 × 4 of type chr</caption>\n",
       "<thead>\n",
       "\t<tr><th></th><th scope=col>Col-01</th><th scope=col>Col-02</th><th scope=col>Col-03</th><th scope=col>Col-04</th></tr>\n",
       "</thead>\n",
       "<tbody>\n",
       "\t<tr><th scope=row>Row-01</th><td>D-0078</td><td>D-0079</td><td>D-0080</td><td>D-0081</td></tr>\n",
       "\t<tr><th scope=row>Row-02</th><td>D-0102</td><td>D-0103</td><td>D-0104</td><td>D-0105</td></tr>\n",
       "\t<tr><th scope=row>Row-03</th><td>D-0126</td><td>D-0127</td><td>D-0128</td><td>D-0129</td></tr>\n",
       "\t<tr><th scope=row>Row-04</th><td>D-0150</td><td>D-0151</td><td>D-0152</td><td>D-0153</td></tr>\n",
       "</tbody>\n",
       "</table>\n"
      ],
      "text/latex": [
       "A matrix: 4 × 4 of type chr\n",
       "\\begin{tabular}{r|llll}\n",
       "  & Col-01 & Col-02 & Col-03 & Col-04\\\\\n",
       "\\hline\n",
       "\tRow-01 & D-0078 & D-0079 & D-0080 & D-0081\\\\\n",
       "\tRow-02 & D-0102 & D-0103 & D-0104 & D-0105\\\\\n",
       "\tRow-03 & D-0126 & D-0127 & D-0128 & D-0129\\\\\n",
       "\tRow-04 & D-0150 & D-0151 & D-0152 & D-0153\\\\\n",
       "\\end{tabular}\n"
      ],
      "text/markdown": [
       "\n",
       "A matrix: 4 × 4 of type chr\n",
       "\n",
       "| <!--/--> | Col-01 | Col-02 | Col-03 | Col-04 |\n",
       "|---|---|---|---|---|\n",
       "| Row-01 | D-0078 | D-0079 | D-0080 | D-0081 |\n",
       "| Row-02 | D-0102 | D-0103 | D-0104 | D-0105 |\n",
       "| Row-03 | D-0126 | D-0127 | D-0128 | D-0129 |\n",
       "| Row-04 | D-0150 | D-0151 | D-0152 | D-0153 |\n",
       "\n"
      ],
      "text/plain": [
       "       Col-01 Col-02 Col-03 Col-04\n",
       "Row-01 D-0078 D-0079 D-0080 D-0081\n",
       "Row-02 D-0102 D-0103 D-0104 D-0105\n",
       "Row-03 D-0126 D-0127 D-0128 D-0129\n",
       "Row-04 D-0150 D-0151 D-0152 D-0153"
      ]
     },
     "metadata": {},
     "output_type": "display_data"
    }
   ],
   "source": [
    "stock\n",
    "base::rownames(stock)\n",
    "#base::colnames(stock)[2] <- \"xanadu\"\n",
    "stock"
   ]
  },
  {
   "cell_type": "code",
   "execution_count": 112,
   "id": "144cb2d7",
   "metadata": {},
   "outputs": [
    {
     "name": "stdout",
     "output_type": "stream",
     "text": [
      " Named chr [1:4] \"Col-01_1.fq.gz\" \"xanadu_1.fq.gz\" \"Col-03_1.fq.gz\" ...\n",
      " - attr(*, \"names\")= chr [1:4] \"Col-01\" \"xanadu\" \"Col-03\" \"Col-04\"\n"
     ]
    }
   ],
   "source": [
    "# infer SE vs. PE\n",
    "str(\n",
    "all_col_samples\n",
    "    )"
   ]
  },
  {
   "cell_type": "code",
   "execution_count": 120,
   "id": "f7b16015",
   "metadata": {},
   "outputs": [],
   "source": [
    "# compute grid dimension length of row and column\n",
    "row_dim_length <- length(rownames(stock))\n",
    "col_dim_length <- length(colnames(stock))\n",
    "\n",
    "# function returning all files sharing pattern\n",
    "list_all_files <- function(x){\n",
    "  list.files(path=\"rawreads/\", pattern=x)  \n",
    "}\n",
    "\n",
    "# apply \"list_all_files\" function to all row & column samples\n",
    "all_row_samples <- sapply(X = base::rownames(stock), FUN = list_all_files)\n",
    "all_col_samples <- sapply(X = base::colnames(stock), FUN = list_all_files)"
   ]
  },
  {
   "cell_type": "code",
   "execution_count": 121,
   "id": "5eb4ec94",
   "metadata": {},
   "outputs": [
    {
     "data": {
      "text/html": [
       "<table class=\"dataframe\">\n",
       "<caption>A matrix: 2 × 4 of type chr</caption>\n",
       "<thead>\n",
       "\t<tr><th scope=col>Row-01</th><th scope=col>Row-02</th><th scope=col>Row-03</th><th scope=col>Row-04</th></tr>\n",
       "</thead>\n",
       "<tbody>\n",
       "\t<tr><td>Row-01_1.fq.gz</td><td>Row-02_1.fq.gz</td><td>Row-03_1.fq.gz</td><td>Row-04_1.fq.gz</td></tr>\n",
       "\t<tr><td>Row-01_2.fq.gz</td><td>Row-02_2.fq.gz</td><td>Row-03_2.fq.gz</td><td>Row-04_2.fq.gz</td></tr>\n",
       "</tbody>\n",
       "</table>\n"
      ],
      "text/latex": [
       "A matrix: 2 × 4 of type chr\n",
       "\\begin{tabular}{llll}\n",
       " Row-01 & Row-02 & Row-03 & Row-04\\\\\n",
       "\\hline\n",
       "\t Row-01\\_1.fq.gz & Row-02\\_1.fq.gz & Row-03\\_1.fq.gz & Row-04\\_1.fq.gz\\\\\n",
       "\t Row-01\\_2.fq.gz & Row-02\\_2.fq.gz & Row-03\\_2.fq.gz & Row-04\\_2.fq.gz\\\\\n",
       "\\end{tabular}\n"
      ],
      "text/markdown": [
       "\n",
       "A matrix: 2 × 4 of type chr\n",
       "\n",
       "| Row-01 | Row-02 | Row-03 | Row-04 |\n",
       "|---|---|---|---|\n",
       "| Row-01_1.fq.gz | Row-02_1.fq.gz | Row-03_1.fq.gz | Row-04_1.fq.gz |\n",
       "| Row-01_2.fq.gz | Row-02_2.fq.gz | Row-03_2.fq.gz | Row-04_2.fq.gz |\n",
       "\n"
      ],
      "text/plain": [
       "     Row-01         Row-02         Row-03         Row-04        \n",
       "[1,] Row-01_1.fq.gz Row-02_1.fq.gz Row-03_1.fq.gz Row-04_1.fq.gz\n",
       "[2,] Row-01_2.fq.gz Row-02_2.fq.gz Row-03_2.fq.gz Row-04_2.fq.gz"
      ]
     },
     "metadata": {},
     "output_type": "display_data"
    },
    {
     "data": {
      "text/html": [
       "<table class=\"dataframe\">\n",
       "<caption>A matrix: 2 × 4 of type chr</caption>\n",
       "<thead>\n",
       "\t<tr><th scope=col>Col-01</th><th scope=col>Col-02</th><th scope=col>Col-03</th><th scope=col>Col-04</th></tr>\n",
       "</thead>\n",
       "<tbody>\n",
       "\t<tr><td>Col-01_1.fq.gz</td><td>Col-02_1.fq.gz</td><td>Col-03_1.fq.gz</td><td>Col-04_1.fq.gz</td></tr>\n",
       "\t<tr><td>Col-01_2.fq.gz</td><td>Col-02_2.fq.gz</td><td>Col-03_2.fq.gz</td><td>Col-04_2.fq.gz</td></tr>\n",
       "</tbody>\n",
       "</table>\n"
      ],
      "text/latex": [
       "A matrix: 2 × 4 of type chr\n",
       "\\begin{tabular}{llll}\n",
       " Col-01 & Col-02 & Col-03 & Col-04\\\\\n",
       "\\hline\n",
       "\t Col-01\\_1.fq.gz & Col-02\\_1.fq.gz & Col-03\\_1.fq.gz & Col-04\\_1.fq.gz\\\\\n",
       "\t Col-01\\_2.fq.gz & Col-02\\_2.fq.gz & Col-03\\_2.fq.gz & Col-04\\_2.fq.gz\\\\\n",
       "\\end{tabular}\n"
      ],
      "text/markdown": [
       "\n",
       "A matrix: 2 × 4 of type chr\n",
       "\n",
       "| Col-01 | Col-02 | Col-03 | Col-04 |\n",
       "|---|---|---|---|\n",
       "| Col-01_1.fq.gz | Col-02_1.fq.gz | Col-03_1.fq.gz | Col-04_1.fq.gz |\n",
       "| Col-01_2.fq.gz | Col-02_2.fq.gz | Col-03_2.fq.gz | Col-04_2.fq.gz |\n",
       "\n"
      ],
      "text/plain": [
       "     Col-01         Col-02         Col-03         Col-04        \n",
       "[1,] Col-01_1.fq.gz Col-02_1.fq.gz Col-03_1.fq.gz Col-04_1.fq.gz\n",
       "[2,] Col-01_2.fq.gz Col-02_2.fq.gz Col-03_2.fq.gz Col-04_2.fq.gz"
      ]
     },
     "metadata": {},
     "output_type": "display_data"
    }
   ],
   "source": [
    "all_row_samples\n",
    "all_col_samples"
   ]
  },
  {
   "cell_type": "code",
   "execution_count": 122,
   "id": "7e761e3b",
   "metadata": {},
   "outputs": [
    {
     "name": "stdout",
     "output_type": "stream",
     "text": [
      "[1] \"Paired-end data detected - continuing in PE mode\"\n"
     ]
    }
   ],
   "source": [
    "# decider condition in which mode to continue\n",
    "# first we check if row/column sample files are themselves consistently matrixes -> thus PE\n",
    "# in else if, we check if we truly have one sample per row or column position -> thereby SE\n",
    "# for both SE or PE we write a read_type.yaml containing info of SE/PE - that we can parse later\n",
    "if (is.matrix(all_row_samples) & is.matrix(all_col_samples)) {\n",
    "    print(\"Paired-end data detected - continuing in PE mode\")\n",
    "    PE <- TRUE\n",
    "    read_type_file <- file(\"config/read_type.yaml\")\n",
    "    writeLines(c(\"read_type: PE\"), read_type_file)\n",
    "    close(read_type_file)\n",
    "} else if (length(all_row_samples) == row_dim_length & length(all_col_samples) == col_dim_length) {\n",
    "    print(\"Single-end data detected - continuing in SE\")\n",
    "    PE <- FALSE\n",
    "    read_type_file <- file(\"config/read_type.yaml\")\n",
    "    writeLines(c(\"read_type: SE\"), read_type_file)\n",
    "    close(read_type_file)\n",
    "} else {\n",
    "    print(\"Input data seems incorrect - inconsistent # of fastq files for either SE or PE input set\")\n",
    "}"
   ]
  },
  {
   "cell_type": "code",
   "execution_count": 123,
   "id": "43edd9ac",
   "metadata": {},
   "outputs": [],
   "source": [
    "# whether PE or SE (so PE == FALSE) - create appropiate sample and mode sheet\n",
    "if (PE == TRUE) {\n",
    "  row_tibble <- tibble(\n",
    "    dim=\"row\",\n",
    "    num=seq.int(ncol(all_row_samples)),\n",
    "    base_name = colnames(all_row_samples),\n",
    "    fq_1_file = all_row_samples[1,],\n",
    "    fq_2_file = all_row_samples[2,],\n",
    "    row.names = NULL  \n",
    "  )\n",
    "\n",
    "  col_tibble <- tibble(\n",
    "    dim=\"col\",\n",
    "    num=seq.int(ncol(all_col_samples)),\n",
    "    base_name = colnames(all_col_samples),\n",
    "    fq_1_file = all_col_samples[1,],\n",
    "    fq_2_file = all_col_samples[2,],\n",
    "    row.names = NULL  \n",
    "  )\n",
    "\n",
    "  row_col_tibble <- rbind(row_tibble, col_tibble)\n",
    "  row_col_tibble\n",
    "\n",
    "  row_col_tibble_final <- row_col_tibble %>%\n",
    "    mutate(fq_1_end = str_remove(fq_1_file, pattern = c(base::rownames(stock), base::colnames(stock)))) %>%\n",
    "    mutate(fq_2_end = str_remove(fq_2_file, pattern = c(base::rownames(stock), base::colnames(stock))))\n",
    "    \n",
    "  # write generated sample sheet to 'config/grid_sample_sheet.tsv'\n",
    "  write.table(row_col_tibble_final, \n",
    "              file='config/grid_sample_sheet.tsv', \n",
    "              quote=FALSE, \n",
    "              sep='\\t', \n",
    "              col.names = TRUE,\n",
    "              row.names = FALSE)\n",
    "    \n",
    "} else if (PE == FALSE) {\n",
    "    row_tibble <- tibble(\n",
    "      dim = \"row\",\n",
    "      num = seq.int(length(all_row_samples)),\n",
    "      base_name = names(all_row_samples),\n",
    "      fq_1_file = all_row_samples\n",
    "    )\n",
    "\n",
    "  col_tibble <- tibble(\n",
    "    dim=\"col\",\n",
    "    num=seq.int(length(all_col_samples)),\n",
    "    base_name = names(all_col_samples),\n",
    "    fq_1_file = all_col_samples\n",
    "  )\n",
    "\n",
    "  row_col_tibble <- rbind(row_tibble, col_tibble)\n",
    "\n",
    "  row_col_tibble_final <- row_col_tibble %>%\n",
    "    mutate(fq_1_end = str_remove(fq_1_file, pattern = c(base::rownames(stock), base::colnames(stock))))  \n",
    "    \n",
    "  # write generated sample sheet to 'config/grid_sample_sheet.tsv'\n",
    "  write.table(row_col_tibble_final, \n",
    "              file='config/grid_sample_sheet.tsv', \n",
    "              quote=FALSE, \n",
    "              sep='\\t', \n",
    "              col.names = TRUE,\n",
    "              row.names = FALSE)\n",
    "    \n",
    "} else {\n",
    "    print(\"Sth. somewhere went horribly wrong. You should not be able to be here.\")\n",
    "    print(\"Edge case encountered - contact maintainer of MuWU.\")\n",
    "}\n"
   ]
  },
  {
   "cell_type": "code",
   "execution_count": 109,
   "id": "837f16c0",
   "metadata": {},
   "outputs": [],
   "source": [
    "#read_type_file <- file(\"config/read_type.yaml\")\n",
    "#writeLines(c(\"read_type: SE\"), read_type_file)\n",
    "#close(read_type_file)\n"
   ]
  },
  {
   "cell_type": "code",
   "execution_count": 108,
   "id": "80c6eb42",
   "metadata": {},
   "outputs": [],
   "source": [
    "# write generated sample sheet to 'config/grid_sample_sheet.tsv'\n",
    "#write.table(row_col_tibble_final, \n",
    "#            file='config/grid_sample_sheet.tsv', \n",
    "#            quote=FALSE, \n",
    "#            sep='\\t', \n",
    "#            col.names = TRUE,\n",
    "#            row.names = FALSE)"
   ]
  }
 ],
 "metadata": {
  "kernelspec": {
   "display_name": "R",
   "language": "R",
   "name": "ir"
  },
  "language_info": {
   "codemirror_mode": "r",
   "file_extension": ".r",
   "mimetype": "text/x-r-source",
   "name": "R",
   "pygments_lexer": "r",
   "version": "4.1.0"
  }
 },
 "nbformat": 4,
 "nbformat_minor": 5
}
