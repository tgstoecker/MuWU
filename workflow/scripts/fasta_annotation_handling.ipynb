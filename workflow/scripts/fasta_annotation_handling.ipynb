{
 "cells": [
  {
   "cell_type": "code",
   "execution_count": 167,
   "id": "be5685eb",
   "metadata": {},
   "outputs": [],
   "source": [
    "import os\n",
    "import posixpath\n",
    "import gzip\n",
    "import shutil\n",
    "\n",
    "from urllib.request import urlretrieve\n",
    "from urllib.request import urlcleanup"
   ]
  },
  {
   "cell_type": "code",
   "execution_count": 159,
   "id": "3201d4a3",
   "metadata": {},
   "outputs": [],
   "source": [
    "fasta = \"ftp://ftp.ensemblgenomes.org/pub/plants/release-50/fasta/zea_mays/dna/Zea_mays.B73_RefGen_v4.dna.toplevel.fa.gz\"\n",
    "annotation = \"ftp://ftp.ensemblgenomes.org/pub/plants/release-50/gtf/zea_mays/Zea_mays.B73_RefGen_v4.50.gtf.gz\""
   ]
  },
  {
   "cell_type": "code",
   "execution_count": 66,
   "id": "810108de",
   "metadata": {},
   "outputs": [],
   "source": [
    "extensions=[\".gff\", \".gff3\", \".gbff\", \".gtf\", \".dat\",\n",
    "            \".gff.gz\", \".gff3.gz\", \".gbff.gz\", \".gtf.gz\", \".dat.gz\"]\n",
    "genbank=[\".gbff\", \".dat\", \".gbff.gz\", \".dat.gz\"]\n",
    "#extensions"
   ]
  },
  {
   "cell_type": "code",
   "execution_count": 4,
   "id": "96404d31",
   "metadata": {},
   "outputs": [],
   "source": [
    "def is_url(file):\n",
    "    return (\n",
    "        file.startswith(\"http\")\n",
    "        or file.startswith(\"ftp\")\n",
    "        or file.startswith(\"sftp\")\n",
    "    )"
   ]
  },
  {
   "cell_type": "code",
   "execution_count": 126,
   "id": "aef08df7",
   "metadata": {},
   "outputs": [],
   "source": [
    "def is_valid_annotation_file(annotation):\n",
    "    for ext in extensions:\n",
    "        if annotation.endswith(\"{}\".format(ext)):\n",
    "            return True"
   ]
  },
  {
   "cell_type": "code",
   "execution_count": 127,
   "id": "d69a993d",
   "metadata": {},
   "outputs": [],
   "source": [
    "def get_annotation_ext(annotation):\n",
    "    for ext in extensions:\n",
    "        if annotation.endswith(\"{}\".format(ext)):\n",
    "            return ext    "
   ]
  },
  {
   "cell_type": "code",
   "execution_count": 136,
   "id": "d5d45244",
   "metadata": {},
   "outputs": [],
   "source": [
    "def is_gbff(file):\n",
    "    for ext in genbank:\n",
    "        if file.endswith(\"{}\".format(ext)):\n",
    "            return True"
   ]
  },
  {
   "cell_type": "code",
   "execution_count": 141,
   "id": "7392b433",
   "metadata": {},
   "outputs": [
    {
     "data": {
      "text/plain": [
       "True"
      ]
     },
     "execution_count": 141,
     "metadata": {},
     "output_type": "execute_result"
    }
   ],
   "source": [
    "is_gbff(annotation)"
   ]
  },
  {
   "cell_type": "code",
   "execution_count": 117,
   "id": "d432931c",
   "metadata": {},
   "outputs": [],
   "source": [
    "def is_gzipped(file):\n",
    "    return(\n",
    "        file.endswith(\".gz\")\n",
    "    )"
   ]
  },
  {
   "cell_type": "code",
   "execution_count": 119,
   "id": "266b21a6",
   "metadata": {},
   "outputs": [],
   "source": [
    "def handle_fasta(fasta, annotation):\n",
    "    if is_url(fasta) and not is_gbff(annotation):\n",
    "        print(\"download fasta\")\n",
    "        if is_gzipped(fasta):\n",
    "            urlretrieve(fasta,'genome.fa.gz')\n",
    "        else:\n",
    "            urlretrieve(fasta,'genome.fa')\n",
    "    else:\n",
    "        print(\"return & use fasta file\")\n",
    "        return(fasta)"
   ]
  },
  {
   "cell_type": "code",
   "execution_count": 168,
   "id": "3deef1d2",
   "metadata": {},
   "outputs": [],
   "source": [
    "def download_annotation(annotation):\n",
    "    urlcleanup()\n",
    "    if is_url(annotation) and is_valid_annotation_file(annotation):\n",
    "        print(\"downloading annotation\")\n",
    "        urlretrieve(annotation, 'annotation' + get_annotation_ext(annotation))"
   ]
  },
  {
   "cell_type": "code",
   "execution_count": 175,
   "id": "8ca3916b",
   "metadata": {},
   "outputs": [],
   "source": [
    "def gunzip_annotation(annotation):\n",
    "    with gzip.open('annotation' + get_annotation_ext(annotation), 'rb') as f_in:\n",
    "        with open('annotation' + get_annotation_ext(annotation).replace(\".gz\", \"\"), 'wb') as f_out:\n",
    "            shutil.copyfileobj(f_in, f_out)"
   ]
  },
  {
   "cell_type": "code",
   "execution_count": 176,
   "id": "95d3905f",
   "metadata": {},
   "outputs": [],
   "source": [
    "gunzip_annotation(annotation)"
   ]
  },
  {
   "cell_type": "code",
   "execution_count": null,
   "id": "928a7838",
   "metadata": {},
   "outputs": [],
   "source": []
  },
  {
   "cell_type": "code",
   "execution_count": 160,
   "id": "d640a1ac",
   "metadata": {},
   "outputs": [
    {
     "data": {
      "text/plain": [
       "('annoation.gff.gz', <email.message.Message at 0x7fbdc928e5b0>)"
      ]
     },
     "execution_count": 160,
     "metadata": {},
     "output_type": "execute_result"
    }
   ],
   "source": []
  }
 ],
 "metadata": {
  "kernelspec": {
   "display_name": "Python 3",
   "language": "python",
   "name": "python3"
  },
  "language_info": {
   "codemirror_mode": {
    "name": "ipython",
    "version": 3
   },
   "file_extension": ".py",
   "mimetype": "text/x-python",
   "name": "python",
   "nbconvert_exporter": "python",
   "pygments_lexer": "ipython3",
   "version": "3.9.4"
  }
 },
 "nbformat": 4,
 "nbformat_minor": 5
}
