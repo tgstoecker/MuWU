{
 "cells": [
  {
   "cell_type": "code",
   "execution_count": 1,
   "id": "9aca42b5",
   "metadata": {},
   "outputs": [],
   "source": [
    "import os\n",
    "import posixpath\n",
    "import gzip\n",
    "import shutil\n",
    "\n",
    "from urllib.request import urlretrieve\n",
    "from urllib.request import urlcleanup"
   ]
  },
  {
   "cell_type": "code",
   "execution_count": 34,
   "id": "4ed9f84d",
   "metadata": {},
   "outputs": [
    {
     "data": {
      "text/plain": [
       "'/scratch2/cropbio/stoecker/MuWU/revision_branch/MuWU'"
      ]
     },
     "execution_count": 34,
     "metadata": {},
     "output_type": "execute_result"
    }
   ],
   "source": [
    "os.getcwd()\n",
    "os.chdir(\"../../\")\n",
    "os.getcwd()"
   ]
  },
  {
   "cell_type": "code",
   "execution_count": 112,
   "id": "4e584756",
   "metadata": {},
   "outputs": [],
   "source": [
    "fasta = \"ftp://ftp.ensemblgenomes.org/pub/plants/release-50/fasta/zea_mays/dna/Zea_mays.B73_RefGen_v4.dna.toplevel.fa.gz\"\n",
    "#fasta = \"/scratch2/cropbio/stoecker/MuWU/data/Col-01_1.fq.gz\"\n",
    "#fasta = \"/scratch2/cropbio/stoecker/MuWU/data/gsdsdfsf.fasta\"\n",
    "#annotation = \"ftp://ftp.ensemblgenomes.org/pub/plants/release-50/gtf/zea_mays/Zea_mays.B73_RefGen_v4.50.gtf.gz\"\n",
    "annotation = \"https://ftp.ncbi.nlm.nih.gov/genomes/refseq/plant/Zea_mays/all_assembly_versions/suppressed/GCF_000005005.2_B73_RefGen_v4/GCF_000005005.2_B73_RefGen_v4_genomic.gbff.gz\"\n",
    "#annotation = \"/scratch2/cropbio/stoecker/MuWU/revision_branch/MuWU/gabbawabba.gbff.gz\"\n",
    "assembly_report = \"https://ftp.ncbi.nlm.nih.gov/genomes/refseq/plant/Zea_mays/all_assembly_versions/suppressed/GCF_000005005.2_B73_RefGen_v4/GCF_000005005.2_B73_RefGen_v4_assembly_report.txt\""
   ]
  },
  {
   "cell_type": "code",
   "execution_count": 110,
   "id": "80c11c0f",
   "metadata": {},
   "outputs": [],
   "source": [
    "extensions=[\".gff\", \".gff3\", \".gbff\", \".gtf\", \".dat\", \".gff.gz\", \".gff3.gz\", \".gbff.gz\", \".gtf.gz\", \".dat.gz\"]\n",
    "genbank=[\".gbff\", \".dat\", \".gbff.gz\", \".dat.gz\"]\n",
    "#extensions"
   ]
  },
  {
   "cell_type": "code",
   "execution_count": 108,
   "id": "908fae88",
   "metadata": {},
   "outputs": [],
   "source": [
    "def is_url(file):\n",
    "    return (\n",
    "        file.startswith(\"http\")\n",
    "        or file.startswith(\"ftp\")\n",
    "        or file.startswith(\"sftp\")\n",
    "    )"
   ]
  },
  {
   "cell_type": "code",
   "execution_count": 10,
   "id": "20c46337",
   "metadata": {},
   "outputs": [],
   "source": [
    "def is_valid_annotation_file(annotation):\n",
    "    for ext in extensions:\n",
    "        if annotation.endswith(\"{}\".format(ext)):\n",
    "            return True"
   ]
  },
  {
   "cell_type": "code",
   "execution_count": 11,
   "id": "e4b40a9a",
   "metadata": {},
   "outputs": [],
   "source": [
    "def get_file_ext(annotation):\n",
    "    for ext in extensions:\n",
    "        if annotation.endswith(\"{}\".format(ext)):\n",
    "            return ext    "
   ]
  },
  {
   "cell_type": "code",
   "execution_count": 12,
   "id": "782e7b6f",
   "metadata": {},
   "outputs": [],
   "source": [
    "def is_gbff(file):\n",
    "    for ext in genbank:\n",
    "        if file.endswith(\"{}\".format(ext)):\n",
    "            return True"
   ]
  },
  {
   "cell_type": "code",
   "execution_count": 21,
   "id": "8feab70a",
   "metadata": {},
   "outputs": [],
   "source": [
    "is_gbff(annotation)"
   ]
  },
  {
   "cell_type": "code",
   "execution_count": 13,
   "id": "85d49909",
   "metadata": {},
   "outputs": [],
   "source": [
    "def is_gzipped(file):\n",
    "    return(\n",
    "        file.endswith(\".gz\")\n",
    "    )"
   ]
  },
  {
   "cell_type": "code",
   "execution_count": 71,
   "id": "2e3d6ffe",
   "metadata": {},
   "outputs": [],
   "source": [
    "def handle_fasta(fasta, annotation):\n",
    "    if not is_gbff(annotation):\n",
    "        if is_url(fasta):\n",
    "            print(\"Downloading fasta\")\n",
    "            if is_gzipped(fasta):\n",
    "                urlretrieve(fasta,'resources/genome.fa.gz')\n",
    "                print(\"Unpacking fasta\")\n",
    "                with gzip.open('resources/genome.fa.gz', 'rb') as f_in:\n",
    "                    with open('resources/genome.fa', 'wb') as f_out:\n",
    "                        shutil.copyfileobj(f_in, f_out)\n",
    "            else:\n",
    "                urlretrieve(fasta,'resources/genome.fa')\n",
    "        elif not is_url(fasta):\n",
    "            print(\"Gunzipping or linking fasta file already on file system to resources/ dir\")\n",
    "            if is_gzipped(fasta):\n",
    "                with gzip.open(fasta, 'rb') as f_in:\n",
    "                    with open('resources/genome.fa', 'wb') as f_out:\n",
    "                        shutil.copyfileobj(f_in, f_out)\n",
    "            else:\n",
    "                os.symlink(fasta, \"resources/genome.fa\")"
   ]
  },
  {
   "cell_type": "code",
   "execution_count": 106,
   "id": "79f1613a",
   "metadata": {},
   "outputs": [],
   "source": [
    "def gunzip_annotation(annotation_file):\n",
    "#    with gzip.open('annotation' + get_file_ext(annotation), 'rb') as f_in:\n",
    "#        with open('annotation' + get_file_ext(annotation).replace(\".gz\", \"\"), 'wb') as f_out:\n",
    "    with gzip.open(annotation_file, 'rb') as f_in:\n",
    "        with open(annotation_file.replace(\".gz\", \"\"), 'wb') as f_out:\n",
    "            shutil.copyfileobj(f_in, f_out)"
   ]
  },
  {
   "cell_type": "code",
   "execution_count": 118,
   "id": "55732e9f",
   "metadata": {},
   "outputs": [],
   "source": [
    "def handle_annotation(annotation):\n",
    "    urlcleanup()\n",
    "    if is_valid_annotation_file(annotation) and not is_gzipped(annotation):\n",
    "        if is_url(annotation):\n",
    "            print(\"Downloading annotation\")\n",
    "            urlretrieve(annotation, 'resources/annotation')\n",
    "        elif not is_url(annotation):\n",
    "            printing(\"Linking annotation\")\n",
    "            os.symlink(annotation, 'resources/annotation' + get_file_ext(annotation))\n",
    "    if is_valid_annotation_file(annotation) and is_gzipped(annotation):\n",
    "        if is_url(annotation):\n",
    "            print(\"Downloading annotation\")\n",
    "            urlretrieve(annotation, 'resources/annotation.gz')\n",
    "        elif not is_url(annotation):\n",
    "            print(\"Linking annotation\")\n",
    "            os.symlink(annotation, \"resources/annotation.gz\")\n",
    "        print(\"Unpacking annotation\")\n",
    "        gunzip_annotation('resources/annotation.gz')\n",
    "        print(\"Done!\")"
   ]
  },
  {
   "cell_type": "code",
   "execution_count": 25,
   "id": "fb9a45ea",
   "metadata": {},
   "outputs": [
    {
     "name": "stdout",
     "output_type": "stream",
     "text": [
      "Downloading annotation\n",
      "Unpacking annotation\n"
     ]
    }
   ],
   "source": [
    "handle_annotation(annotation)"
   ]
  },
  {
   "cell_type": "code",
   "execution_count": 119,
   "id": "277c3a50",
   "metadata": {},
   "outputs": [],
   "source": [
    "def fasta_annotation_handling(fasta, annotation, assembly_report):\n",
    "    # check if annotation is valid file - based on file extensions\n",
    "    if is_valid_annotation_file(annotation):\n",
    "        print(\"Annotation file type is supported - continuing:\")\n",
    "        # dealing with the fasta file\n",
    "        # download/link fasta to resources/ dir\n",
    "        # we only download/link/use fasta if annotation is NOT in GenBank format\n",
    "        handle_fasta(fasta, annotation)\n",
    "        # dealing with the annotation file\n",
    "        handle_annotation(annotation)\n",
    "        # if user supplied genbank file also download report\n",
    "        if is_gbff(annotation):\n",
    "            print(\"Supplied annotation in GenBank format - also getting assembly report.\")\n",
    "            if is_url(report):\n",
    "                urlretrieve(assembly_report, 'resources/assembly_report.txt')\n",
    "            else:\n",
    "                os.symlink(assembly_report, \"resources/assembly_report.txt\")\n",
    "        print(\"All done!\")\n",
    "        # create status based upon which we know whether to treat annotation with GenBank or GFF(3)/GTF rules\n",
    "#        status = \"\"\n",
    "#        if is_gbff(annotation):\n",
    "#            status = \"genbank\"\n",
    "#            print(\"Pipeline will continue with GenBank annotation rules\")\n",
    "#        else:\n",
    "#            status = \"normal\"\n",
    "#            print(\"Pipeline will continue with GFF(3)/GTF annotation rules\")            \n",
    "#        return status\n",
    "    else:\n",
    "        print(\"Unrecognized annotation file type!\")\n",
    "        print(\"Valid files are:\")\n",
    "        print(extensions)"
   ]
  },
  {
   "cell_type": "code",
   "execution_count": 121,
   "id": "a9989bb2",
   "metadata": {},
   "outputs": [
    {
     "name": "stdout",
     "output_type": "stream",
     "text": [
      "Annotation file type is supported - continuing:\n",
      "Downloading annotation\n",
      "Unpacking annotation\n",
      "Done!\n",
      "Supplied annotation in GenBank format - also getting assembly report.\n",
      "All done!\n"
     ]
    }
   ],
   "source": [
    "fasta_annotation_handling(fasta, annotation, assembly_report)"
   ]
  }
 ],
 "metadata": {
  "kernelspec": {
   "display_name": "Python 3",
   "language": "python",
   "name": "python3"
  },
  "language_info": {
   "codemirror_mode": {
    "name": "ipython",
    "version": 3
   },
   "file_extension": ".py",
   "mimetype": "text/x-python",
   "name": "python",
   "nbconvert_exporter": "python",
   "pygments_lexer": "ipython3",
   "version": "3.9.4"
  }
 },
 "nbformat": 4,
 "nbformat_minor": 5
}
