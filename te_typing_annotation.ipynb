{
 "cells": [
  {
   "cell_type": "markdown",
   "id": "f3bbaf62-9fdb-47db-9bf0-3f6d6c2661e2",
   "metadata": {},
   "source": [
    "### Code in the Rscript"
   ]
  },
  {
   "cell_type": "code",
   "execution_count": 102,
   "id": "4ed00b0d-fb9e-4dbd-b744-54258a637cc5",
   "metadata": {},
   "outputs": [
    {
     "name": "stderr",
     "output_type": "stream",
     "text": [
      "Updating HTML index of packages in '.Library'\n",
      "\n",
      "Making 'packages.html' ...\n",
      " done\n",
      "\n"
     ]
    }
   ],
   "source": [
    "install.packages(\"stringr\")\n",
    "install.packages(\"data.table\")\n",
    "install.packages(\"foreach\")\n",
    "install.packages(\"doParallel\")"
   ]
  },
  {
   "cell_type": "code",
   "execution_count": 3,
   "id": "faa925d7-3174-4e02-9a4c-3dc3ee4549dc",
   "metadata": {
    "tags": []
   },
   "outputs": [],
   "source": [
    "library(dplyr)\n",
    "library(fuzzyjoin)\n",
    "library(readxl)\n",
    "library(IRanges)\n",
    "\n",
    "library(stringr)\n",
    "library(tidyr)\n",
    "library(tibble)\n",
    "\n",
    "library(data.table)\n",
    "\n",
    "library(foreach)\n",
    "library(doParallel)"
   ]
  },
  {
   "cell_type": "code",
   "execution_count": 4,
   "id": "d10950f6-23c8-4544-b320-bd10c87bd9da",
   "metadata": {},
   "outputs": [
    {
     "data": {
      "text/html": [
       "1"
      ],
      "text/latex": [
       "1"
      ],
      "text/markdown": [
       "1"
      ],
      "text/plain": [
       "[1] 1"
      ]
     },
     "metadata": {},
     "output_type": "display_data"
    },
    {
     "data": {
      "text/html": [
       "1"
      ],
      "text/latex": [
       "1"
      ],
      "text/markdown": [
       "1"
      ],
      "text/plain": [
       "[1] 1"
      ]
     },
     "metadata": {},
     "output_type": "display_data"
    }
   ],
   "source": [
    "#OMG - this was really annoying xD\n",
    "#depending on where one uses data.table (used by GenomicDistributions) one has to consider the local amount of cores..\n",
    "#https://stackoverflow.com/questions/23107237/r-3-1-0-crashes-with-segfault-when-loading-data-table-package-1-9-2\n",
    "#apparently the default number of threads is set by data.table to the max number available\n",
    "#on a system like our work compute server with 128 cores and some packages you are bound to run into memory and address problems\n",
    "\n",
    "#one can either set global params in bash etc. e.g.: \n",
    "#setenv OMP_NUM_THREADS 1\n",
    "\n",
    "#the other option is to use the openmp utils - https://jangorecki.gitlab.io/data.cube/library/data.table/html/openmp-utils.html,\n",
    "#to quickly set the number of threads to sth. feasible\n",
    "data.table::getDTthreads()\n",
    "data.table::setDTthreads(1)\n",
    "data.table::getDTthreads()"
   ]
  },
  {
   "cell_type": "code",
   "execution_count": 6,
   "id": "7bf8f4bb-55e1-4841-94a9-725de3e5d0bd",
   "metadata": {},
   "outputs": [
    {
     "data": {
      "text/html": [
       "1000"
      ],
      "text/latex": [
       "1000"
      ],
      "text/markdown": [
       "1000"
      ],
      "text/plain": [
       "[1] 1000"
      ]
     },
     "metadata": {},
     "output_type": "display_data"
    },
    {
     "data": {
      "text/html": [
       "<table class=\"dataframe\">\n",
       "<caption>A data.frame: 6 × 6</caption>\n",
       "<thead>\n",
       "\t<tr><th></th><th scope=col>Chr</th><th scope=col>InsertionStart</th><th scope=col>InsertionEnd</th><th scope=col>Sample</th><th scope=col>StartReads</th><th scope=col>EndReads</th></tr>\n",
       "\t<tr><th></th><th scope=col>&lt;int&gt;</th><th scope=col>&lt;int&gt;</th><th scope=col>&lt;int&gt;</th><th scope=col>&lt;chr&gt;</th><th scope=col>&lt;int&gt;</th><th scope=col>&lt;int&gt;</th></tr>\n",
       "</thead>\n",
       "<tbody>\n",
       "\t<tr><th scope=row>1</th><td>1</td><td>  46269</td><td>  46277</td><td>Col_01</td><td>14</td><td> 8</td></tr>\n",
       "\t<tr><th scope=row>2</th><td>1</td><td> 205528</td><td> 205536</td><td>Col_01</td><td>38</td><td>75</td></tr>\n",
       "\t<tr><th scope=row>3</th><td>1</td><td> 564703</td><td> 564711</td><td>Col_01</td><td> 2</td><td> 4</td></tr>\n",
       "\t<tr><th scope=row>4</th><td>1</td><td> 564728</td><td> 564736</td><td>Col_01</td><td>15</td><td> 7</td></tr>\n",
       "\t<tr><th scope=row>5</th><td>1</td><td>1018196</td><td>1018204</td><td>Col_01</td><td> 2</td><td> 8</td></tr>\n",
       "\t<tr><th scope=row>6</th><td>1</td><td>1018202</td><td>1018210</td><td>Col_01</td><td>29</td><td> 6</td></tr>\n",
       "</tbody>\n",
       "</table>\n"
      ],
      "text/latex": [
       "A data.frame: 6 × 6\n",
       "\\begin{tabular}{r|llllll}\n",
       "  & Chr & InsertionStart & InsertionEnd & Sample & StartReads & EndReads\\\\\n",
       "  & <int> & <int> & <int> & <chr> & <int> & <int>\\\\\n",
       "\\hline\n",
       "\t1 & 1 &   46269 &   46277 & Col\\_01 & 14 &  8\\\\\n",
       "\t2 & 1 &  205528 &  205536 & Col\\_01 & 38 & 75\\\\\n",
       "\t3 & 1 &  564703 &  564711 & Col\\_01 &  2 &  4\\\\\n",
       "\t4 & 1 &  564728 &  564736 & Col\\_01 & 15 &  7\\\\\n",
       "\t5 & 1 & 1018196 & 1018204 & Col\\_01 &  2 &  8\\\\\n",
       "\t6 & 1 & 1018202 & 1018210 & Col\\_01 & 29 &  6\\\\\n",
       "\\end{tabular}\n"
      ],
      "text/markdown": [
       "\n",
       "A data.frame: 6 × 6\n",
       "\n",
       "| <!--/--> | Chr &lt;int&gt; | InsertionStart &lt;int&gt; | InsertionEnd &lt;int&gt; | Sample &lt;chr&gt; | StartReads &lt;int&gt; | EndReads &lt;int&gt; |\n",
       "|---|---|---|---|---|---|---|\n",
       "| 1 | 1 |   46269 |   46277 | Col_01 | 14 |  8 |\n",
       "| 2 | 1 |  205528 |  205536 | Col_01 | 38 | 75 |\n",
       "| 3 | 1 |  564703 |  564711 | Col_01 |  2 |  4 |\n",
       "| 4 | 1 |  564728 |  564736 | Col_01 | 15 |  7 |\n",
       "| 5 | 1 | 1018196 | 1018204 | Col_01 |  2 |  8 |\n",
       "| 6 | 1 | 1018202 | 1018210 | Col_01 | 29 |  6 |\n",
       "\n"
      ],
      "text/plain": [
       "  Chr InsertionStart InsertionEnd Sample StartReads EndReads\n",
       "1 1     46269          46277      Col_01 14          8      \n",
       "2 1    205528         205536      Col_01 38         75      \n",
       "3 1    564703         564711      Col_01  2          4      \n",
       "4 1    564728         564736      Col_01 15          7      \n",
       "5 1   1018196        1018204      Col_01  2          8      \n",
       "6 1   1018202        1018210      Col_01 29          6      "
      ]
     },
     "metadata": {},
     "output_type": "display_data"
    }
   ],
   "source": [
    "#samples <- snakemake@params[[\"samples\"]]\n",
    "#all_types <- snakemake@params[[\"all_types\"]]\n",
    "\n",
    "\n",
    "samples <- c('Row_01', 'Row_02', 'Row_03', 'Row_04',\n",
    "          'Row_05', 'Row_06', 'Row_07', 'Row_08',\n",
    "          'Row_09', 'Row_10', 'Row_11', 'Row_12',\n",
    "          'Row_13', 'Row_14', 'Row_15', 'Row_16',\n",
    "          'Row_17', 'Row_18', 'Row_19', 'Row_20',\n",
    "          'Row_21', 'Row_22', 'Row_23', 'Row_24',\n",
    "          'Col_01', 'Col_02', 'Col_03', 'Col_04',\n",
    "          'Col_05', 'Col_06', 'Col_07', 'Col_08',\n",
    "          'Col_09', 'Col_10', 'Col_11', 'Col_12',\n",
    "          'Col_13', 'Col_14', 'Col_15', 'Col_16',\n",
    "          'Col_17', 'Col_18', 'Col_19', 'Col_20',\n",
    "          'Col_21', 'Col_22', 'Col_23', 'Col_24')\n",
    "\n",
    "#samples <- c('Row_01', 'Row_02', 'Row_03', 'Row_04',\n",
    "#             'Col_01', 'Col_02', 'Col_03', 'Col_04')\n",
    "\n",
    "#samples <- c('Row_01', 'Col_01')\n",
    "\n",
    "all_types <- c(\"Mu1_L\", \"Mu1_R\",\n",
    "\"Mu2_L\",\n",
    "\"Mu2_R\",\n",
    "\"Mu3_L\",\n",
    "\"Mu3_R\",\n",
    "\"Mu4_L\",\n",
    "\"Mu4_R\",\n",
    "\"Mu5_L\",\n",
    "\"Mu5_R\",\n",
    "\"Mu6_L\",\n",
    "\"Mu6_R\",\n",
    "\"Mu7_L\",\n",
    "\"Mu7_R\",\n",
    "\"Mu8_L\",\n",
    "\"Mu8_R\",\n",
    "\"MuDR_L\",\n",
    "\"MuDR_R\",\n",
    "\"Mu10_L\",\n",
    "\"Mu10_R\",\n",
    "\"Mu11_L\",\n",
    "\"Mu11_R\",\n",
    "\"Mu12_L\",\n",
    "\"Mu12_R\",\n",
    "\"Mu13_L\",\n",
    "\"Mu13_R\",\n",
    "\"Mu14_L\",\n",
    "\"Mu14_R\",\n",
    "\"Mu15_L\",\n",
    "\"Mu15_R\",\n",
    "\"Mu16_L\",\n",
    "\"Mu16_R\",\n",
    "\"Mu17_L\",\n",
    "\"Mu17_R\",\n",
    "\"Mu18_L\",\n",
    "\"Mu18_R\",\n",
    "\"Mu19_L\",\n",
    "\"Mu19_R\")\n",
    "\n",
    "\n",
    "\n",
    "all_insertions <- read.csv(\"results/insertions_table_final/all_identified_insertions.csv\", header = TRUE)\n",
    "\n",
    "#all_insertions <- all_insertions %>%\n",
    "#  filter(Sample %in% samples)\n",
    "\n",
    "#all_insertions <- all_insertions[1:10000,]\n",
    "\n",
    "nrow(all_insertions)\n",
    "head(all_insertions)"
   ]
  },
  {
   "cell_type": "code",
   "execution_count": 7,
   "id": "f6346dab-2d4a-47de-bad0-4f88481032cc",
   "metadata": {},
   "outputs": [
    {
     "data": {
      "text/html": [
       "<table class=\"dataframe\">\n",
       "<caption>A data.frame: 6 × 7</caption>\n",
       "<thead>\n",
       "\t<tr><th></th><th scope=col>Chr</th><th scope=col>InsertionStart</th><th scope=col>InsertionEnd</th><th scope=col>Sample</th><th scope=col>StartReads</th><th scope=col>EndReads</th><th scope=col>uncategorized</th></tr>\n",
       "\t<tr><th></th><th scope=col>&lt;int&gt;</th><th scope=col>&lt;int&gt;</th><th scope=col>&lt;int&gt;</th><th scope=col>&lt;chr&gt;</th><th scope=col>&lt;int&gt;</th><th scope=col>&lt;int&gt;</th><th scope=col>&lt;dbl&gt;</th></tr>\n",
       "</thead>\n",
       "<tbody>\n",
       "\t<tr><th scope=row>1</th><td>1</td><td>  46269</td><td>  46277</td><td>Col_01</td><td>14</td><td> 8</td><td>0</td></tr>\n",
       "\t<tr><th scope=row>2</th><td>1</td><td> 205528</td><td> 205536</td><td>Col_01</td><td>38</td><td>75</td><td>0</td></tr>\n",
       "\t<tr><th scope=row>3</th><td>1</td><td> 564703</td><td> 564711</td><td>Col_01</td><td> 2</td><td> 4</td><td>0</td></tr>\n",
       "\t<tr><th scope=row>4</th><td>1</td><td> 564728</td><td> 564736</td><td>Col_01</td><td>15</td><td> 7</td><td>0</td></tr>\n",
       "\t<tr><th scope=row>5</th><td>1</td><td>1018196</td><td>1018204</td><td>Col_01</td><td> 2</td><td> 8</td><td>0</td></tr>\n",
       "\t<tr><th scope=row>6</th><td>1</td><td>1018202</td><td>1018210</td><td>Col_01</td><td>29</td><td> 6</td><td>0</td></tr>\n",
       "</tbody>\n",
       "</table>\n"
      ],
      "text/latex": [
       "A data.frame: 6 × 7\n",
       "\\begin{tabular}{r|lllllll}\n",
       "  & Chr & InsertionStart & InsertionEnd & Sample & StartReads & EndReads & uncategorized\\\\\n",
       "  & <int> & <int> & <int> & <chr> & <int> & <int> & <dbl>\\\\\n",
       "\\hline\n",
       "\t1 & 1 &   46269 &   46277 & Col\\_01 & 14 &  8 & 0\\\\\n",
       "\t2 & 1 &  205528 &  205536 & Col\\_01 & 38 & 75 & 0\\\\\n",
       "\t3 & 1 &  564703 &  564711 & Col\\_01 &  2 &  4 & 0\\\\\n",
       "\t4 & 1 &  564728 &  564736 & Col\\_01 & 15 &  7 & 0\\\\\n",
       "\t5 & 1 & 1018196 & 1018204 & Col\\_01 &  2 &  8 & 0\\\\\n",
       "\t6 & 1 & 1018202 & 1018210 & Col\\_01 & 29 &  6 & 0\\\\\n",
       "\\end{tabular}\n"
      ],
      "text/markdown": [
       "\n",
       "A data.frame: 6 × 7\n",
       "\n",
       "| <!--/--> | Chr &lt;int&gt; | InsertionStart &lt;int&gt; | InsertionEnd &lt;int&gt; | Sample &lt;chr&gt; | StartReads &lt;int&gt; | EndReads &lt;int&gt; | uncategorized &lt;dbl&gt; |\n",
       "|---|---|---|---|---|---|---|---|\n",
       "| 1 | 1 |   46269 |   46277 | Col_01 | 14 |  8 | 0 |\n",
       "| 2 | 1 |  205528 |  205536 | Col_01 | 38 | 75 | 0 |\n",
       "| 3 | 1 |  564703 |  564711 | Col_01 |  2 |  4 | 0 |\n",
       "| 4 | 1 |  564728 |  564736 | Col_01 | 15 |  7 | 0 |\n",
       "| 5 | 1 | 1018196 | 1018204 | Col_01 |  2 |  8 | 0 |\n",
       "| 6 | 1 | 1018202 | 1018210 | Col_01 | 29 |  6 | 0 |\n",
       "\n"
      ],
      "text/plain": [
       "  Chr InsertionStart InsertionEnd Sample StartReads EndReads uncategorized\n",
       "1 1     46269          46277      Col_01 14          8       0            \n",
       "2 1    205528         205536      Col_01 38         75       0            \n",
       "3 1    564703         564711      Col_01  2          4       0            \n",
       "4 1    564728         564736      Col_01 15          7       0            \n",
       "5 1   1018196        1018204      Col_01  2          8       0            \n",
       "6 1   1018202        1018210      Col_01 29          6       0            "
      ]
     },
     "metadata": {},
     "output_type": "display_data"
    }
   ],
   "source": [
    "all_insertions %>%\n",
    "  add_column(uncategorized = 0) %>%\n",
    "  #set type of chromosome column to character\n",
    "  mutate(Chr = as.character(Chr)) %>%\n",
    "  head()"
   ]
  },
  {
   "cell_type": "code",
   "execution_count": 8,
   "id": "3a909ce1-942f-441d-a8f4-9715ca37dc57",
   "metadata": {},
   "outputs": [
    {
     "name": "stderr",
     "output_type": "stream",
     "text": [
      "All supplied TE types:\n",
      "\n"
     ]
    },
    {
     "data": {
      "text/html": [
       "<style>\n",
       ".list-inline {list-style: none; margin:0; padding: 0}\n",
       ".list-inline>li {display: inline-block}\n",
       ".list-inline>li:not(:last-child)::after {content: \"\\00b7\"; padding: 0 .5ex}\n",
       "</style>\n",
       "<ol class=list-inline><li>'Mu1'</li><li>'Mu2'</li><li>'Mu3'</li><li>'Mu4'</li><li>'Mu5'</li><li>'Mu6'</li><li>'Mu7'</li><li>'Mu8'</li><li>'MuDR'</li><li>'Mu10'</li><li>'Mu11'</li><li>'Mu12'</li><li>'Mu13'</li><li>'Mu14'</li><li>'Mu15'</li><li>'Mu16'</li><li>'Mu17'</li><li>'Mu18'</li><li>'Mu19'</li></ol>\n"
      ],
      "text/latex": [
       "\\begin{enumerate*}\n",
       "\\item 'Mu1'\n",
       "\\item 'Mu2'\n",
       "\\item 'Mu3'\n",
       "\\item 'Mu4'\n",
       "\\item 'Mu5'\n",
       "\\item 'Mu6'\n",
       "\\item 'Mu7'\n",
       "\\item 'Mu8'\n",
       "\\item 'MuDR'\n",
       "\\item 'Mu10'\n",
       "\\item 'Mu11'\n",
       "\\item 'Mu12'\n",
       "\\item 'Mu13'\n",
       "\\item 'Mu14'\n",
       "\\item 'Mu15'\n",
       "\\item 'Mu16'\n",
       "\\item 'Mu17'\n",
       "\\item 'Mu18'\n",
       "\\item 'Mu19'\n",
       "\\end{enumerate*}\n"
      ],
      "text/markdown": [
       "1. 'Mu1'\n",
       "2. 'Mu2'\n",
       "3. 'Mu3'\n",
       "4. 'Mu4'\n",
       "5. 'Mu5'\n",
       "6. 'Mu6'\n",
       "7. 'Mu7'\n",
       "8. 'Mu8'\n",
       "9. 'MuDR'\n",
       "10. 'Mu10'\n",
       "11. 'Mu11'\n",
       "12. 'Mu12'\n",
       "13. 'Mu13'\n",
       "14. 'Mu14'\n",
       "15. 'Mu15'\n",
       "16. 'Mu16'\n",
       "17. 'Mu17'\n",
       "18. 'Mu18'\n",
       "19. 'Mu19'\n",
       "\n",
       "\n"
      ],
      "text/plain": [
       " [1] \"Mu1\"  \"Mu2\"  \"Mu3\"  \"Mu4\"  \"Mu5\"  \"Mu6\"  \"Mu7\"  \"Mu8\"  \"MuDR\" \"Mu10\"\n",
       "[11] \"Mu11\" \"Mu12\" \"Mu13\" \"Mu14\" \"Mu15\" \"Mu16\" \"Mu17\" \"Mu18\" \"Mu19\""
      ]
     },
     "metadata": {},
     "output_type": "display_data"
    }
   ],
   "source": [
    "base_all_types <- all_types %>% \n",
    "  str_remove(., c(\"_L\")) %>%\n",
    "  str_remove(., c(\"_R\")) %>%\n",
    "  unique()\n",
    "\n",
    "message(\"All supplied TE types:\")\n",
    "base_all_types"
   ]
  },
  {
   "cell_type": "code",
   "execution_count": 10,
   "id": "447f442c-8933-47a4-8c08-302838cae3df",
   "metadata": {},
   "outputs": [
    {
     "data": {
      "text/html": [
       "<table class=\"dataframe\">\n",
       "<caption>A data.frame: 6 × 45</caption>\n",
       "<thead>\n",
       "\t<tr><th></th><th scope=col>Chr</th><th scope=col>InsertionStart</th><th scope=col>InsertionEnd</th><th scope=col>Sample</th><th scope=col>StartReads</th><th scope=col>EndReads</th><th scope=col>Mu1_L</th><th scope=col>Mu1_R</th><th scope=col>Mu2_L</th><th scope=col>Mu2_R</th><th scope=col>⋯</th><th scope=col>Mu15_R</th><th scope=col>Mu16_L</th><th scope=col>Mu16_R</th><th scope=col>Mu17_L</th><th scope=col>Mu17_R</th><th scope=col>Mu18_L</th><th scope=col>Mu18_R</th><th scope=col>Mu19_L</th><th scope=col>Mu19_R</th><th scope=col>uncategorized</th></tr>\n",
       "\t<tr><th></th><th scope=col>&lt;int&gt;</th><th scope=col>&lt;int&gt;</th><th scope=col>&lt;int&gt;</th><th scope=col>&lt;chr&gt;</th><th scope=col>&lt;int&gt;</th><th scope=col>&lt;int&gt;</th><th scope=col>&lt;dbl&gt;</th><th scope=col>&lt;dbl&gt;</th><th scope=col>&lt;dbl&gt;</th><th scope=col>&lt;dbl&gt;</th><th scope=col>⋯</th><th scope=col>&lt;dbl&gt;</th><th scope=col>&lt;dbl&gt;</th><th scope=col>&lt;dbl&gt;</th><th scope=col>&lt;dbl&gt;</th><th scope=col>&lt;dbl&gt;</th><th scope=col>&lt;dbl&gt;</th><th scope=col>&lt;dbl&gt;</th><th scope=col>&lt;dbl&gt;</th><th scope=col>&lt;dbl&gt;</th><th scope=col>&lt;dbl&gt;</th></tr>\n",
       "</thead>\n",
       "<tbody>\n",
       "\t<tr><th scope=row>1</th><td>1</td><td>  46269</td><td>  46277</td><td>Col_01</td><td>14</td><td> 8</td><td>0</td><td>0</td><td>0</td><td>0</td><td>⋯</td><td>0</td><td>0</td><td>0</td><td>0</td><td>0</td><td>0</td><td>0</td><td>0</td><td>0</td><td>0</td></tr>\n",
       "\t<tr><th scope=row>2</th><td>1</td><td> 205528</td><td> 205536</td><td>Col_01</td><td>38</td><td>75</td><td>0</td><td>0</td><td>0</td><td>0</td><td>⋯</td><td>0</td><td>0</td><td>0</td><td>0</td><td>0</td><td>0</td><td>0</td><td>0</td><td>0</td><td>0</td></tr>\n",
       "\t<tr><th scope=row>3</th><td>1</td><td> 564703</td><td> 564711</td><td>Col_01</td><td> 2</td><td> 4</td><td>0</td><td>0</td><td>0</td><td>0</td><td>⋯</td><td>0</td><td>0</td><td>0</td><td>0</td><td>0</td><td>0</td><td>0</td><td>0</td><td>0</td><td>0</td></tr>\n",
       "\t<tr><th scope=row>4</th><td>1</td><td> 564728</td><td> 564736</td><td>Col_01</td><td>15</td><td> 7</td><td>0</td><td>0</td><td>0</td><td>0</td><td>⋯</td><td>0</td><td>0</td><td>0</td><td>0</td><td>0</td><td>0</td><td>0</td><td>0</td><td>0</td><td>0</td></tr>\n",
       "\t<tr><th scope=row>5</th><td>1</td><td>1018196</td><td>1018204</td><td>Col_01</td><td> 2</td><td> 8</td><td>0</td><td>0</td><td>0</td><td>0</td><td>⋯</td><td>0</td><td>0</td><td>0</td><td>0</td><td>0</td><td>0</td><td>0</td><td>0</td><td>0</td><td>0</td></tr>\n",
       "\t<tr><th scope=row>6</th><td>1</td><td>1018202</td><td>1018210</td><td>Col_01</td><td>29</td><td> 6</td><td>0</td><td>0</td><td>0</td><td>0</td><td>⋯</td><td>0</td><td>0</td><td>0</td><td>0</td><td>0</td><td>0</td><td>0</td><td>0</td><td>0</td><td>0</td></tr>\n",
       "</tbody>\n",
       "</table>\n"
      ],
      "text/latex": [
       "A data.frame: 6 × 45\n",
       "\\begin{tabular}{r|lllllllllllllllllllll}\n",
       "  & Chr & InsertionStart & InsertionEnd & Sample & StartReads & EndReads & Mu1\\_L & Mu1\\_R & Mu2\\_L & Mu2\\_R & ⋯ & Mu15\\_R & Mu16\\_L & Mu16\\_R & Mu17\\_L & Mu17\\_R & Mu18\\_L & Mu18\\_R & Mu19\\_L & Mu19\\_R & uncategorized\\\\\n",
       "  & <int> & <int> & <int> & <chr> & <int> & <int> & <dbl> & <dbl> & <dbl> & <dbl> & ⋯ & <dbl> & <dbl> & <dbl> & <dbl> & <dbl> & <dbl> & <dbl> & <dbl> & <dbl> & <dbl>\\\\\n",
       "\\hline\n",
       "\t1 & 1 &   46269 &   46277 & Col\\_01 & 14 &  8 & 0 & 0 & 0 & 0 & ⋯ & 0 & 0 & 0 & 0 & 0 & 0 & 0 & 0 & 0 & 0\\\\\n",
       "\t2 & 1 &  205528 &  205536 & Col\\_01 & 38 & 75 & 0 & 0 & 0 & 0 & ⋯ & 0 & 0 & 0 & 0 & 0 & 0 & 0 & 0 & 0 & 0\\\\\n",
       "\t3 & 1 &  564703 &  564711 & Col\\_01 &  2 &  4 & 0 & 0 & 0 & 0 & ⋯ & 0 & 0 & 0 & 0 & 0 & 0 & 0 & 0 & 0 & 0\\\\\n",
       "\t4 & 1 &  564728 &  564736 & Col\\_01 & 15 &  7 & 0 & 0 & 0 & 0 & ⋯ & 0 & 0 & 0 & 0 & 0 & 0 & 0 & 0 & 0 & 0\\\\\n",
       "\t5 & 1 & 1018196 & 1018204 & Col\\_01 &  2 &  8 & 0 & 0 & 0 & 0 & ⋯ & 0 & 0 & 0 & 0 & 0 & 0 & 0 & 0 & 0 & 0\\\\\n",
       "\t6 & 1 & 1018202 & 1018210 & Col\\_01 & 29 &  6 & 0 & 0 & 0 & 0 & ⋯ & 0 & 0 & 0 & 0 & 0 & 0 & 0 & 0 & 0 & 0\\\\\n",
       "\\end{tabular}\n"
      ],
      "text/markdown": [
       "\n",
       "A data.frame: 6 × 45\n",
       "\n",
       "| <!--/--> | Chr &lt;int&gt; | InsertionStart &lt;int&gt; | InsertionEnd &lt;int&gt; | Sample &lt;chr&gt; | StartReads &lt;int&gt; | EndReads &lt;int&gt; | Mu1_L &lt;dbl&gt; | Mu1_R &lt;dbl&gt; | Mu2_L &lt;dbl&gt; | Mu2_R &lt;dbl&gt; | ⋯ ⋯ | Mu15_R &lt;dbl&gt; | Mu16_L &lt;dbl&gt; | Mu16_R &lt;dbl&gt; | Mu17_L &lt;dbl&gt; | Mu17_R &lt;dbl&gt; | Mu18_L &lt;dbl&gt; | Mu18_R &lt;dbl&gt; | Mu19_L &lt;dbl&gt; | Mu19_R &lt;dbl&gt; | uncategorized &lt;dbl&gt; |\n",
       "|---|---|---|---|---|---|---|---|---|---|---|---|---|---|---|---|---|---|---|---|---|---|\n",
       "| 1 | 1 |   46269 |   46277 | Col_01 | 14 |  8 | 0 | 0 | 0 | 0 | ⋯ | 0 | 0 | 0 | 0 | 0 | 0 | 0 | 0 | 0 | 0 |\n",
       "| 2 | 1 |  205528 |  205536 | Col_01 | 38 | 75 | 0 | 0 | 0 | 0 | ⋯ | 0 | 0 | 0 | 0 | 0 | 0 | 0 | 0 | 0 | 0 |\n",
       "| 3 | 1 |  564703 |  564711 | Col_01 |  2 |  4 | 0 | 0 | 0 | 0 | ⋯ | 0 | 0 | 0 | 0 | 0 | 0 | 0 | 0 | 0 | 0 |\n",
       "| 4 | 1 |  564728 |  564736 | Col_01 | 15 |  7 | 0 | 0 | 0 | 0 | ⋯ | 0 | 0 | 0 | 0 | 0 | 0 | 0 | 0 | 0 | 0 |\n",
       "| 5 | 1 | 1018196 | 1018204 | Col_01 |  2 |  8 | 0 | 0 | 0 | 0 | ⋯ | 0 | 0 | 0 | 0 | 0 | 0 | 0 | 0 | 0 | 0 |\n",
       "| 6 | 1 | 1018202 | 1018210 | Col_01 | 29 |  6 | 0 | 0 | 0 | 0 | ⋯ | 0 | 0 | 0 | 0 | 0 | 0 | 0 | 0 | 0 | 0 |\n",
       "\n"
      ],
      "text/plain": [
       "  Chr InsertionStart InsertionEnd Sample StartReads EndReads Mu1_L Mu1_R Mu2_L\n",
       "1 1     46269          46277      Col_01 14          8       0     0     0    \n",
       "2 1    205528         205536      Col_01 38         75       0     0     0    \n",
       "3 1    564703         564711      Col_01  2          4       0     0     0    \n",
       "4 1    564728         564736      Col_01 15          7       0     0     0    \n",
       "5 1   1018196        1018204      Col_01  2          8       0     0     0    \n",
       "6 1   1018202        1018210      Col_01 29          6       0     0     0    \n",
       "  Mu2_R ⋯ Mu15_R Mu16_L Mu16_R Mu17_L Mu17_R Mu18_L Mu18_R Mu19_L Mu19_R\n",
       "1 0     ⋯ 0      0      0      0      0      0      0      0      0     \n",
       "2 0     ⋯ 0      0      0      0      0      0      0      0      0     \n",
       "3 0     ⋯ 0      0      0      0      0      0      0      0      0     \n",
       "4 0     ⋯ 0      0      0      0      0      0      0      0      0     \n",
       "5 0     ⋯ 0      0      0      0      0      0      0      0      0     \n",
       "6 0     ⋯ 0      0      0      0      0      0      0      0      0     \n",
       "  uncategorized\n",
       "1 0            \n",
       "2 0            \n",
       "3 0            \n",
       "4 0            \n",
       "5 0            \n",
       "6 0            "
      ]
     },
     "metadata": {},
     "output_type": "display_data"
    }
   ],
   "source": [
    "#create insertions table with additional columns per (Mu) element/type\n",
    "all_insertions_typed <- all_insertions\n",
    "\n",
    "all_insertions_typed[,all_types]=0\n",
    "#add additional column for uncategorized reads\n",
    "#all_insertions_typed[,\"uncategorized\"]=0\n",
    "all_insertions_typed <- all_insertions_typed %>%\n",
    "  add_column(uncategorized = 0)\n",
    "\n",
    "\n",
    "\n",
    "head(all_insertions_typed)\n",
    "\n",
    "#for (t in all_types) {\n",
    "#  all_insertions_typed %>%\n",
    "#  tibble::add_column(get(t) = 0) %>%\n",
    "#  head() %>% print()\n",
    "#}"
   ]
  },
  {
   "cell_type": "markdown",
   "id": "326621ed-f765-4e07-b7ad-e9301873b551",
   "metadata": {},
   "source": [
    "### Create cluster function"
   ]
  },
  {
   "cell_type": "code",
   "execution_count": 143,
   "id": "6f9235ad-d3c1-4b9a-a124-29a15b14f292",
   "metadata": {},
   "outputs": [],
   "source": [
    "stopImplicitCluster()\n",
    "#stopCluster(my.cluster)\n"
   ]
  },
  {
   "cell_type": "code",
   "execution_count": null,
   "id": "c7c2aa78-114a-4f44-a6d2-1f5324d10faa",
   "metadata": {},
   "outputs": [],
   "source": []
  },
  {
   "cell_type": "code",
   "execution_count": 13,
   "id": "b22ff127-8b79-4cac-8781-253299fc161e",
   "metadata": {},
   "outputs": [],
   "source": [
    "#### FORK cluster since I expect a Linux machine\n",
    "#### autostop=TRUE since I don't want to handle this manually\n",
    "#with my.cluster & stopCluster(my.cluster) I could check the status\n",
    "\n",
    "setup_cluster <- function(){\n",
    "\n",
    "  #define cluster\n",
    "  parallel::detectCores()\n",
    "  n.cores <- 48\n",
    "  n.cores\n",
    "\n",
    "  #create the cluster - FORK because this way libraries, variables etc. are copied to the clusters!\n",
    "  my.cluster <- parallel::makeForkCluster(\n",
    "    n.cores, \n",
    "    type = \"FORK\",\n",
    "    autostop=TRUE\n",
    "  )\n",
    "\n",
    "  setDTthreads(1)\n",
    "    \n",
    "  #check cluster definition (optional)\n",
    "  print(my.cluster)\n",
    "\n",
    "  #register it to be used by %dopar%\n",
    "  doParallel::registerDoParallel(cl = my.cluster)\n",
    "\n",
    "  #check if it is registered (optional)\n",
    "  print(\n",
    "    foreach::getDoParRegistered()\n",
    "  )\n",
    "  #how many workers are available? (optional)\n",
    "  print(\n",
    "    foreach::getDoParWorkers()\n",
    "  )\n",
    "\n",
    "}"
   ]
  },
  {
   "cell_type": "markdown",
   "id": "06ea603a-3676-4fd4-9bd8-7efae42bc5ca",
   "metadata": {},
   "source": [
    "### Create completely remove cluster function"
   ]
  },
  {
   "cell_type": "code",
   "execution_count": 38,
   "id": "a66691ec-8972-414f-9fdb-c3e2427da877",
   "metadata": {
    "collapsed": true,
    "jupyter": {
     "outputs_hidden": true
    },
    "tags": []
   },
   "outputs": [
    {
     "name": "stderr",
     "output_type": "stream",
     "text": [
      "Removing all unwanted FORK connections - purging closed cluster sockets\n",
      "\n",
      "This will kill zombie proesses and free up RAM\n",
      "\n"
     ]
    },
    {
     "data": {
      "text/html": [
       "<ol>\n",
       "\t<li>NULL</li>\n",
       "\t<li>NULL</li>\n",
       "\t<li>NULL</li>\n",
       "\t<li>NULL</li>\n",
       "\t<li>NULL</li>\n",
       "\t<li>NULL</li>\n",
       "\t<li>NULL</li>\n",
       "\t<li>NULL</li>\n",
       "\t<li>NULL</li>\n",
       "\t<li>NULL</li>\n",
       "\t<li>NULL</li>\n",
       "\t<li>NULL</li>\n",
       "\t<li>NULL</li>\n",
       "\t<li>NULL</li>\n",
       "\t<li>NULL</li>\n",
       "\t<li>NULL</li>\n",
       "\t<li>NULL</li>\n",
       "\t<li>NULL</li>\n",
       "\t<li>NULL</li>\n",
       "\t<li>NULL</li>\n",
       "\t<li>NULL</li>\n",
       "\t<li>NULL</li>\n",
       "\t<li>NULL</li>\n",
       "\t<li>NULL</li>\n",
       "\t<li>NULL</li>\n",
       "\t<li>NULL</li>\n",
       "\t<li>NULL</li>\n",
       "\t<li>NULL</li>\n",
       "\t<li>NULL</li>\n",
       "\t<li>NULL</li>\n",
       "\t<li>NULL</li>\n",
       "\t<li>NULL</li>\n",
       "\t<li>NULL</li>\n",
       "\t<li>NULL</li>\n",
       "\t<li>NULL</li>\n",
       "\t<li>NULL</li>\n",
       "\t<li>NULL</li>\n",
       "\t<li>NULL</li>\n",
       "\t<li>NULL</li>\n",
       "\t<li>NULL</li>\n",
       "\t<li>NULL</li>\n",
       "\t<li>NULL</li>\n",
       "\t<li>NULL</li>\n",
       "\t<li>NULL</li>\n",
       "\t<li>NULL</li>\n",
       "\t<li>NULL</li>\n",
       "\t<li>NULL</li>\n",
       "\t<li>NULL</li>\n",
       "</ol>\n"
      ],
      "text/latex": [
       "\\begin{enumerate}\n",
       "\\item NULL\n",
       "\\item NULL\n",
       "\\item NULL\n",
       "\\item NULL\n",
       "\\item NULL\n",
       "\\item NULL\n",
       "\\item NULL\n",
       "\\item NULL\n",
       "\\item NULL\n",
       "\\item NULL\n",
       "\\item NULL\n",
       "\\item NULL\n",
       "\\item NULL\n",
       "\\item NULL\n",
       "\\item NULL\n",
       "\\item NULL\n",
       "\\item NULL\n",
       "\\item NULL\n",
       "\\item NULL\n",
       "\\item NULL\n",
       "\\item NULL\n",
       "\\item NULL\n",
       "\\item NULL\n",
       "\\item NULL\n",
       "\\item NULL\n",
       "\\item NULL\n",
       "\\item NULL\n",
       "\\item NULL\n",
       "\\item NULL\n",
       "\\item NULL\n",
       "\\item NULL\n",
       "\\item NULL\n",
       "\\item NULL\n",
       "\\item NULL\n",
       "\\item NULL\n",
       "\\item NULL\n",
       "\\item NULL\n",
       "\\item NULL\n",
       "\\item NULL\n",
       "\\item NULL\n",
       "\\item NULL\n",
       "\\item NULL\n",
       "\\item NULL\n",
       "\\item NULL\n",
       "\\item NULL\n",
       "\\item NULL\n",
       "\\item NULL\n",
       "\\item NULL\n",
       "\\end{enumerate}\n"
      ],
      "text/markdown": [
       "1. NULL\n",
       "2. NULL\n",
       "3. NULL\n",
       "4. NULL\n",
       "5. NULL\n",
       "6. NULL\n",
       "7. NULL\n",
       "8. NULL\n",
       "9. NULL\n",
       "10. NULL\n",
       "11. NULL\n",
       "12. NULL\n",
       "13. NULL\n",
       "14. NULL\n",
       "15. NULL\n",
       "16. NULL\n",
       "17. NULL\n",
       "18. NULL\n",
       "19. NULL\n",
       "20. NULL\n",
       "21. NULL\n",
       "22. NULL\n",
       "23. NULL\n",
       "24. NULL\n",
       "25. NULL\n",
       "26. NULL\n",
       "27. NULL\n",
       "28. NULL\n",
       "29. NULL\n",
       "30. NULL\n",
       "31. NULL\n",
       "32. NULL\n",
       "33. NULL\n",
       "34. NULL\n",
       "35. NULL\n",
       "36. NULL\n",
       "37. NULL\n",
       "38. NULL\n",
       "39. NULL\n",
       "40. NULL\n",
       "41. NULL\n",
       "42. NULL\n",
       "43. NULL\n",
       "44. NULL\n",
       "45. NULL\n",
       "46. NULL\n",
       "47. NULL\n",
       "48. NULL\n",
       "\n",
       "\n"
      ],
      "text/plain": [
       "[[1]]\n",
       "NULL\n",
       "\n",
       "[[2]]\n",
       "NULL\n",
       "\n",
       "[[3]]\n",
       "NULL\n",
       "\n",
       "[[4]]\n",
       "NULL\n",
       "\n",
       "[[5]]\n",
       "NULL\n",
       "\n",
       "[[6]]\n",
       "NULL\n",
       "\n",
       "[[7]]\n",
       "NULL\n",
       "\n",
       "[[8]]\n",
       "NULL\n",
       "\n",
       "[[9]]\n",
       "NULL\n",
       "\n",
       "[[10]]\n",
       "NULL\n",
       "\n",
       "[[11]]\n",
       "NULL\n",
       "\n",
       "[[12]]\n",
       "NULL\n",
       "\n",
       "[[13]]\n",
       "NULL\n",
       "\n",
       "[[14]]\n",
       "NULL\n",
       "\n",
       "[[15]]\n",
       "NULL\n",
       "\n",
       "[[16]]\n",
       "NULL\n",
       "\n",
       "[[17]]\n",
       "NULL\n",
       "\n",
       "[[18]]\n",
       "NULL\n",
       "\n",
       "[[19]]\n",
       "NULL\n",
       "\n",
       "[[20]]\n",
       "NULL\n",
       "\n",
       "[[21]]\n",
       "NULL\n",
       "\n",
       "[[22]]\n",
       "NULL\n",
       "\n",
       "[[23]]\n",
       "NULL\n",
       "\n",
       "[[24]]\n",
       "NULL\n",
       "\n",
       "[[25]]\n",
       "NULL\n",
       "\n",
       "[[26]]\n",
       "NULL\n",
       "\n",
       "[[27]]\n",
       "NULL\n",
       "\n",
       "[[28]]\n",
       "NULL\n",
       "\n",
       "[[29]]\n",
       "NULL\n",
       "\n",
       "[[30]]\n",
       "NULL\n",
       "\n",
       "[[31]]\n",
       "NULL\n",
       "\n",
       "[[32]]\n",
       "NULL\n",
       "\n",
       "[[33]]\n",
       "NULL\n",
       "\n",
       "[[34]]\n",
       "NULL\n",
       "\n",
       "[[35]]\n",
       "NULL\n",
       "\n",
       "[[36]]\n",
       "NULL\n",
       "\n",
       "[[37]]\n",
       "NULL\n",
       "\n",
       "[[38]]\n",
       "NULL\n",
       "\n",
       "[[39]]\n",
       "NULL\n",
       "\n",
       "[[40]]\n",
       "NULL\n",
       "\n",
       "[[41]]\n",
       "NULL\n",
       "\n",
       "[[42]]\n",
       "NULL\n",
       "\n",
       "[[43]]\n",
       "NULL\n",
       "\n",
       "[[44]]\n",
       "NULL\n",
       "\n",
       "[[45]]\n",
       "NULL\n",
       "\n",
       "[[46]]\n",
       "NULL\n",
       "\n",
       "[[47]]\n",
       "NULL\n",
       "\n",
       "[[48]]\n",
       "NULL\n"
      ]
     },
     "metadata": {},
     "output_type": "display_data"
    }
   ],
   "source": [
    "#a function to get and close connection (to cluster sockets in our case)\n",
    "burn_socks <- function(x){\n",
    "  close.connection(getConnection(x))\n",
    "}\n",
    "\n",
    "\n",
    "#function to truly get rid of old Cluster/sockets\n",
    "rm_cluster <- function(){\n",
    "  stopImplicitCluster()\n",
    "\n",
    "  connections <- showConnections(all = FALSE) \n",
    "  socket_connections <- as.data.frame(connections) %>%\n",
    "    filter(class == \"sockconn\") %>%\n",
    "    rownames()\n",
    "\n",
    "  message(\"Removing all unwanted FORK connections - purging closed cluster sockets\")\n",
    "  message(\"This will kill zombie proesses and free up RAM\")\n",
    "\n",
    "  lapply(X = socket_connections, \n",
    "         FUN = burn_socks)\n",
    "\n",
    "}\n",
    "\n",
    "rm_cluster()"
   ]
  },
  {
   "cell_type": "markdown",
   "id": "75d3bcdd-4019-44c7-acb8-3ed35872e04a",
   "metadata": {},
   "source": [
    "### Get sample level files with te type information"
   ]
  },
  {
   "cell_type": "code",
   "execution_count": 15,
   "id": "d095bfcc-d69a-42c5-af8c-762f9368f03e",
   "metadata": {},
   "outputs": [
    {
     "name": "stdout",
     "output_type": "stream",
     "text": [
      "socket cluster with 48 nodes on host ‘localhost’\n",
      "[1] TRUE\n",
      "[1] 48\n"
     ]
    },
    {
     "data": {
      "text/plain": [
       "<environment: R_GlobalEnv>"
      ]
     },
     "metadata": {},
     "output_type": "display_data"
    }
   ],
   "source": [
    "#setup & start FORK cluster\n",
    "setup_cluster()\n",
    "\n",
    "#read-in final sample files\n",
    "type_files_list <- foreach(s = samples, .final = function(s) setNames(s, paste0(samples, \"_type_file\"))) %dopar% {\n",
    "  tmp_type_file <- fread(paste0(\"results/te_typing/pre_sorting/\", s, \"/\", s, \"_te_types_merged.tsv\"), header = TRUE, sep=\"\\t\")\n",
    "  tmp_type_file$Strand <- as.character(tmp_type_file$Strand)\n",
    "  assign(paste0(s, \"_type_file\"), tmp_type_file)\n",
    "    \n",
    "  return(get(paste0(s, \"_type_file\")))\n",
    "}\n",
    "\n",
    "#stop cluster\n",
    "#stopCluster(my.cluster)\n",
    "\n",
    "##really cool - extracting dfs/tibbles from list object by simply sending them to the global environment\n",
    "#https://stackoverflow.com/questions/59169631/split-a-list-into-separate-data-frame-in-r\n",
    "list2env(type_files_list, envir = .GlobalEnv)\n",
    "\n",
    "\n",
    "#get rid of cluster\n",
    "rm_cluster()\n",
    "                           \n",
    "#quick check\n",
    "#head(`Row_02_type_file`)"
   ]
  },
  {
   "cell_type": "markdown",
   "id": "ddbd18d7-69d0-4c53-b789-4d6ab203a14c",
   "metadata": {},
   "source": [
    "### Get SAM files and perform some formatting"
   ]
  },
  {
   "cell_type": "code",
   "execution_count": 17,
   "id": "c6ae7751-0a8b-429f-a4df-9988e537269b",
   "metadata": {
    "collapsed": true,
    "jupyter": {
     "outputs_hidden": true
    },
    "tags": []
   },
   "outputs": [
    {
     "name": "stdout",
     "output_type": "stream",
     "text": [
      "socket cluster with 48 nodes on host ‘localhost’\n",
      "[1] TRUE\n",
      "[1] 48\n"
     ]
    },
    {
     "data": {
      "text/plain": [
       "   user  system elapsed \n",
       " 16.825   3.135  20.900 "
      ]
     },
     "metadata": {},
     "output_type": "display_data"
    },
    {
     "data": {
      "text/plain": [
       "<environment: R_GlobalEnv>"
      ]
     },
     "metadata": {},
     "output_type": "display_data"
    },
    {
     "name": "stderr",
     "output_type": "stream",
     "text": [
      "Removing all unwanted FORK connections - purging closed cluster sockets\n",
      "\n",
      "This will kill zombie proesses and free up RAM\n",
      "\n"
     ]
    },
    {
     "data": {
      "text/html": [
       "<ol>\n",
       "\t<li>NULL</li>\n",
       "\t<li>NULL</li>\n",
       "\t<li>NULL</li>\n",
       "\t<li>NULL</li>\n",
       "\t<li>NULL</li>\n",
       "\t<li>NULL</li>\n",
       "\t<li>NULL</li>\n",
       "\t<li>NULL</li>\n",
       "\t<li>NULL</li>\n",
       "\t<li>NULL</li>\n",
       "\t<li>NULL</li>\n",
       "\t<li>NULL</li>\n",
       "\t<li>NULL</li>\n",
       "\t<li>NULL</li>\n",
       "\t<li>NULL</li>\n",
       "\t<li>NULL</li>\n",
       "\t<li>NULL</li>\n",
       "\t<li>NULL</li>\n",
       "\t<li>NULL</li>\n",
       "\t<li>NULL</li>\n",
       "\t<li>NULL</li>\n",
       "\t<li>NULL</li>\n",
       "\t<li>NULL</li>\n",
       "\t<li>NULL</li>\n",
       "\t<li>NULL</li>\n",
       "\t<li>NULL</li>\n",
       "\t<li>NULL</li>\n",
       "\t<li>NULL</li>\n",
       "\t<li>NULL</li>\n",
       "\t<li>NULL</li>\n",
       "\t<li>NULL</li>\n",
       "\t<li>NULL</li>\n",
       "\t<li>NULL</li>\n",
       "\t<li>NULL</li>\n",
       "\t<li>NULL</li>\n",
       "\t<li>NULL</li>\n",
       "\t<li>NULL</li>\n",
       "\t<li>NULL</li>\n",
       "\t<li>NULL</li>\n",
       "\t<li>NULL</li>\n",
       "\t<li>NULL</li>\n",
       "\t<li>NULL</li>\n",
       "\t<li>NULL</li>\n",
       "\t<li>NULL</li>\n",
       "\t<li>NULL</li>\n",
       "\t<li>NULL</li>\n",
       "\t<li>NULL</li>\n",
       "\t<li>NULL</li>\n",
       "</ol>\n"
      ],
      "text/latex": [
       "\\begin{enumerate}\n",
       "\\item NULL\n",
       "\\item NULL\n",
       "\\item NULL\n",
       "\\item NULL\n",
       "\\item NULL\n",
       "\\item NULL\n",
       "\\item NULL\n",
       "\\item NULL\n",
       "\\item NULL\n",
       "\\item NULL\n",
       "\\item NULL\n",
       "\\item NULL\n",
       "\\item NULL\n",
       "\\item NULL\n",
       "\\item NULL\n",
       "\\item NULL\n",
       "\\item NULL\n",
       "\\item NULL\n",
       "\\item NULL\n",
       "\\item NULL\n",
       "\\item NULL\n",
       "\\item NULL\n",
       "\\item NULL\n",
       "\\item NULL\n",
       "\\item NULL\n",
       "\\item NULL\n",
       "\\item NULL\n",
       "\\item NULL\n",
       "\\item NULL\n",
       "\\item NULL\n",
       "\\item NULL\n",
       "\\item NULL\n",
       "\\item NULL\n",
       "\\item NULL\n",
       "\\item NULL\n",
       "\\item NULL\n",
       "\\item NULL\n",
       "\\item NULL\n",
       "\\item NULL\n",
       "\\item NULL\n",
       "\\item NULL\n",
       "\\item NULL\n",
       "\\item NULL\n",
       "\\item NULL\n",
       "\\item NULL\n",
       "\\item NULL\n",
       "\\item NULL\n",
       "\\item NULL\n",
       "\\end{enumerate}\n"
      ],
      "text/markdown": [
       "1. NULL\n",
       "2. NULL\n",
       "3. NULL\n",
       "4. NULL\n",
       "5. NULL\n",
       "6. NULL\n",
       "7. NULL\n",
       "8. NULL\n",
       "9. NULL\n",
       "10. NULL\n",
       "11. NULL\n",
       "12. NULL\n",
       "13. NULL\n",
       "14. NULL\n",
       "15. NULL\n",
       "16. NULL\n",
       "17. NULL\n",
       "18. NULL\n",
       "19. NULL\n",
       "20. NULL\n",
       "21. NULL\n",
       "22. NULL\n",
       "23. NULL\n",
       "24. NULL\n",
       "25. NULL\n",
       "26. NULL\n",
       "27. NULL\n",
       "28. NULL\n",
       "29. NULL\n",
       "30. NULL\n",
       "31. NULL\n",
       "32. NULL\n",
       "33. NULL\n",
       "34. NULL\n",
       "35. NULL\n",
       "36. NULL\n",
       "37. NULL\n",
       "38. NULL\n",
       "39. NULL\n",
       "40. NULL\n",
       "41. NULL\n",
       "42. NULL\n",
       "43. NULL\n",
       "44. NULL\n",
       "45. NULL\n",
       "46. NULL\n",
       "47. NULL\n",
       "48. NULL\n",
       "\n",
       "\n"
      ],
      "text/plain": [
       "[[1]]\n",
       "NULL\n",
       "\n",
       "[[2]]\n",
       "NULL\n",
       "\n",
       "[[3]]\n",
       "NULL\n",
       "\n",
       "[[4]]\n",
       "NULL\n",
       "\n",
       "[[5]]\n",
       "NULL\n",
       "\n",
       "[[6]]\n",
       "NULL\n",
       "\n",
       "[[7]]\n",
       "NULL\n",
       "\n",
       "[[8]]\n",
       "NULL\n",
       "\n",
       "[[9]]\n",
       "NULL\n",
       "\n",
       "[[10]]\n",
       "NULL\n",
       "\n",
       "[[11]]\n",
       "NULL\n",
       "\n",
       "[[12]]\n",
       "NULL\n",
       "\n",
       "[[13]]\n",
       "NULL\n",
       "\n",
       "[[14]]\n",
       "NULL\n",
       "\n",
       "[[15]]\n",
       "NULL\n",
       "\n",
       "[[16]]\n",
       "NULL\n",
       "\n",
       "[[17]]\n",
       "NULL\n",
       "\n",
       "[[18]]\n",
       "NULL\n",
       "\n",
       "[[19]]\n",
       "NULL\n",
       "\n",
       "[[20]]\n",
       "NULL\n",
       "\n",
       "[[21]]\n",
       "NULL\n",
       "\n",
       "[[22]]\n",
       "NULL\n",
       "\n",
       "[[23]]\n",
       "NULL\n",
       "\n",
       "[[24]]\n",
       "NULL\n",
       "\n",
       "[[25]]\n",
       "NULL\n",
       "\n",
       "[[26]]\n",
       "NULL\n",
       "\n",
       "[[27]]\n",
       "NULL\n",
       "\n",
       "[[28]]\n",
       "NULL\n",
       "\n",
       "[[29]]\n",
       "NULL\n",
       "\n",
       "[[30]]\n",
       "NULL\n",
       "\n",
       "[[31]]\n",
       "NULL\n",
       "\n",
       "[[32]]\n",
       "NULL\n",
       "\n",
       "[[33]]\n",
       "NULL\n",
       "\n",
       "[[34]]\n",
       "NULL\n",
       "\n",
       "[[35]]\n",
       "NULL\n",
       "\n",
       "[[36]]\n",
       "NULL\n",
       "\n",
       "[[37]]\n",
       "NULL\n",
       "\n",
       "[[38]]\n",
       "NULL\n",
       "\n",
       "[[39]]\n",
       "NULL\n",
       "\n",
       "[[40]]\n",
       "NULL\n",
       "\n",
       "[[41]]\n",
       "NULL\n",
       "\n",
       "[[42]]\n",
       "NULL\n",
       "\n",
       "[[43]]\n",
       "NULL\n",
       "\n",
       "[[44]]\n",
       "NULL\n",
       "\n",
       "[[45]]\n",
       "NULL\n",
       "\n",
       "[[46]]\n",
       "NULL\n",
       "\n",
       "[[47]]\n",
       "NULL\n",
       "\n",
       "[[48]]\n",
       "NULL\n"
      ]
     },
     "metadata": {},
     "output_type": "display_data"
    }
   ],
   "source": [
    "#https://privefl.github.io/blog/a-guide-to-parallelism-in-r/\n",
    "#https://stackoverflow.com/questions/27276269/foreach-keep-names\n",
    "\n",
    "#setup & start FORK cluster\n",
    "setup_cluster()\n",
    "\n",
    "system.time(\n",
    "\n",
    "#need to load all sam files\n",
    "sam_object_list <- foreach(s = samples, .final = function(s) setNames(s, paste0(\"sam_\", samples))) %dopar% {\n",
    "    print(s)\n",
    "    SAM_path <- paste0(\"results/dedup_sam/\", s, \".dedup.sam\")\n",
    "    SAM_object <- paste0(\"sam_\", s)\n",
    "#    assign(SAM_object, read.csv(SAM_path, sep = \"\\t\", header = FALSE, row.names = NULL))\n",
    "    assign(SAM_object, fread(SAM_path, select=c(1,2,3,4,10), sep = \"\\t\", header=FALSE, fill=TRUE))\n",
    "    #take only the first four columns and the sequence\n",
    "#    assign(SAM_object, get(SAM_object)[,c(1:4,10)])\n",
    "    assign(SAM_object,\n",
    "           get(SAM_object) %>%\n",
    "             #some renaming of the header\n",
    "             dplyr::rename(Name=V1, Flag=V2, Chr=V3, Start=V4) %>%\n",
    "             #set type of chromosome column to character\n",
    "             mutate(Chr = as.character(Chr)) %>%\n",
    "             #compute lengths of the alignments\n",
    "             mutate(Length = str_length(V10)) %>%\n",
    "             #compute and add End coordinate of reads\n",
    "             mutate(End = Start+Length-1) %>%\n",
    "             #drop Lengh & V10 (Sequence) columns\n",
    "             select(-V10, -Length)\n",
    "    )\n",
    "    return(get(SAM_object))\n",
    "}\n",
    "\n",
    ")\n",
    "                           \n",
    "##really cool - extracting dfs/tibbles from list object by simply sending them to the global environment\n",
    "#https://stackoverflow.com/questions/59169631/split-a-list-into-separate-data-frame-in-r\n",
    "list2env(sam_object_list, envir = .GlobalEnv)\n",
    "                \n",
    "    \n",
    "#get rid of cluster\n",
    "rm_cluster()    \n",
    "\n",
    "#quick check\n",
    "#head(sam_Col_04)"
   ]
  },
  {
   "cell_type": "markdown",
   "id": "abb04f56-5a5e-4df2-b9fa-e872e5889069",
   "metadata": {},
   "source": [
    "### Function to read SAM bitwise encoding - and return whether read is forward or reverse mate"
   ]
  },
  {
   "cell_type": "code",
   "execution_count": 18,
   "id": "b8d2048b-3168-4126-9a89-60c3a32831fb",
   "metadata": {},
   "outputs": [],
   "source": [
    "#quick function to analyse bitwise encoding of SAM flag\n",
    "#modified, but core idea idea from here - https://stackoverflow.com/a/12088263\n",
    "number2binary = function(number, noBits) {\n",
    "       binary_vector = rev(as.numeric(intToBits(number)))\n",
    "       if(missing(noBits)) {\n",
    "          return(rev(binary_vector))\n",
    "       } else {\n",
    "          return(rev(binary_vector[-(1:(length(binary_vector) - noBits))]))\n",
    "       }\n",
    "}\n",
    "\n",
    "#num=163\n",
    "#number2binary(num, 8)[7]\n",
    "#number2binary(num, 8)[8]"
   ]
  },
  {
   "cell_type": "markdown",
   "id": "9c9f2c89-7686-4a79-8c91-c86c304cd67c",
   "metadata": {},
   "source": [
    "### Annotating with type information"
   ]
  },
  {
   "cell_type": "code",
   "execution_count": 19,
   "id": "cc6da5ac-2aaf-4020-8553-428d169c4253",
   "metadata": {},
   "outputs": [
    {
     "name": "stdout",
     "output_type": "stream",
     "text": [
      "socket cluster with 48 nodes on host ‘localhost’\n",
      "[1] TRUE\n",
      "[1] 48\n"
     ]
    },
    {
     "ename": "ERROR",
     "evalue": "Error in {: task 1 failed - \"Can't join on `x$Chr` x `y$Chr` because of incompatible types.\n\u001b[34mℹ\u001b[39m `x$Chr` is of type <integer>>.\n\u001b[34mℹ\u001b[39m `y$Chr` is of type <character>>.\"\n",
     "output_type": "error",
     "traceback": [
      "Error in {: task 1 failed - \"Can't join on `x$Chr` x `y$Chr` because of incompatible types.\n\u001b[34mℹ\u001b[39m `x$Chr` is of type <integer>>.\n\u001b[34mℹ\u001b[39m `y$Chr` is of type <character>>.\"\nTraceback:\n",
      "1. foreach(row = 1:nrow(all_insertions_typed[1:1000, ])) %dopar% \n .     {\n .         tmp_ins <- all_insertions_typed[row, ]\n .         tmp_sam <- get(paste0(\"sam_\", tmp_ins$Sample))\n .         tmp_type_file <- get(paste0(tmp_ins$Sample, \"_type_file\"))\n .         tmp_merge_ins_sam <- fuzzyjoin::genome_inner_join(tmp_ins, \n .             tmp_sam, by = c(\"Chr\", InsertionStart = \"Start\", \n .                 InsertionEnd = \"End\")) %>% select(Name, Flag, \n .             Chr.y, Start, End) %>% dplyr::rename(Chr = Chr.y) %>% \n .             filter(Start == tmp_ins$InsertionStart | End == tmp_ins$InsertionEnd) %>% \n .             rowwise() %>% mutate(Strand = case_when(number2binary(Flag, \n .             8)[7] == 1 & number2binary(Flag, 8)[8] == 0 ~ \"1\", \n .             number2binary(Flag, 8)[7] == 0 & number2binary(Flag, \n .                 8)[8] == 1 ~ \"2\", TRUE ~ \"LOST\")) %>% select(-Flag) %>% \n .             relocate(Strand, .after = Name)\n .         tmp_merge_ins_sam_typed_summary <- dplyr::left_join(tmp_merge_ins_sam, \n .             tmp_type_file, by = c(Name = \"Name\", Strand = \"Strand\"), \n .             na_matches = \"na\") %>% group_by(Type) %>% summarize(n = n()) %>% \n .             tidyr::replace_na(list(Type = \"uncategorized\"))\n .         for (t in tmp_merge_ins_sam_typed_summary$Type) {\n .             tmp_ins <- tmp_ins %>% mutate(`:=`({\n .                 {\n .                   t\n .                 }\n .             }, tmp_merge_ins_sam_typed_summary %>% filter(Type == \n .                 {\n .                   {\n .                     t\n .                   }\n .                 }) %>% pull(n)))\n .         }\n .         return(tmp_ins)\n .     }",
      "2. e$fun(obj, substitute(ex), parent.frame(), e$data)"
     ]
    }
   ],
   "source": [
    "setup_cluster()\n",
    "\n",
    "#system.time(\n",
    "\n",
    "pre_ait_annotated <- foreach(row = 1:nrow(all_insertions_typed[1:1000,])) %dopar% {\n",
    "  \n",
    "  #take row to work on\n",
    "  tmp_ins <- all_insertions_typed[row,]\n",
    "\n",
    "  #match Sample with sam object\n",
    "  tmp_sam <- get(paste0(\"sam_\", tmp_ins$Sample))\n",
    "\n",
    "  #match sample of insertion file with te typing file\n",
    "  tmp_type_file <- get(paste0(tmp_ins$Sample, \"_type_file\"))\n",
    "\n",
    "\n",
    "  # fuzzyjoin for overlap + end or start needs to match\n",
    "  tmp_merge_ins_sam <- fuzzyjoin::genome_inner_join(tmp_ins,\n",
    "                             tmp_sam, \n",
    "                              by=c(\"Chr\", \"InsertionStart\"=\"Start\", \"InsertionEnd\"=\"End\")\n",
    "                            ) %>%\n",
    "#                       select(Name, Strand, Chr.y, Start, End) %>%\n",
    "                       select(Name, Flag, Chr.y, Start, End) %>%\n",
    "                       dplyr::rename(Chr=Chr.y) %>%\n",
    "                       filter(Start == tmp_ins$InsertionStart | \n",
    "                              #Start == tmp_ins$InsertionEnd | \n",
    "                              #End == tmp_ins$InsertionStart | \n",
    "                              End == tmp_ins$InsertionEnd\n",
    "                             ) %>%\n",
    "                       #translate Flag into forward (+) or reverse (-) strand mapping/read\n",
    "                       rowwise() %>%\n",
    "                       mutate(\n",
    "                         Strand = case_when(\n",
    "                           number2binary(Flag, 8)[7] == 1 & number2binary(Flag, 8)[8] == 0 ~ \"1\",\n",
    "                           number2binary(Flag, 8)[7] == 0 & number2binary(Flag, 8)[8] == 1 ~ \"2\",\n",
    "                           TRUE ~ \"LOST\"\n",
    "                         )\n",
    "                       ) %>%\n",
    "                       select(-Flag) %>%\n",
    "                       relocate(Strand, .after=Name) #%>%\n",
    "\n",
    "  #associate sam reads with type information\n",
    "  tmp_merge_ins_sam_typed_summary <- dplyr::left_join(tmp_merge_ins_sam,\n",
    "#                                     dplyr::left_join(.,\n",
    "                                                      tmp_type_file, \n",
    "                                                      by = c(\"Name\"=\"Name\", \"Strand\"=\"Strand\"), \n",
    "                                                      na_matches = \"na\") %>%\n",
    "  group_by(Type) %>%\n",
    "  summarize(n = n()) %>%\n",
    "  #change NA to uncategorized\n",
    "  tidyr::replace_na(list(Type = \"uncategorized\"))\n",
    "\n",
    "    \n",
    "#    setDT(tmp_merge_ins_sam)\n",
    "#    setDT(tmp_type_file)\n",
    "#    setkey(tmp_merge_ins_sam, \"Name\", \"Strand\")\n",
    "#    setkey(tmp_type_file, \"Name\", \"Strand\")\n",
    "#tmp_merge_ins_sam_typed_summary <- tmp_type_file[tmp_merge_ins_sam] %>% \n",
    "#      group_by(Type) %>%\n",
    "#      summarize(n = n()) %>%\n",
    "#      #change NA to uncategorized\n",
    "#      tidyr::replace_na(list(Type = \"uncategorized\"))  \n",
    "    \n",
    "    \n",
    "    \n",
    "    \n",
    "  #add number of type association to current row\n",
    "  for (t in tmp_merge_ins_sam_typed_summary$Type) {\n",
    "#  for (t in tmp_merge_ins_sam$Type) {\n",
    "    tmp_ins <- tmp_ins %>%\n",
    "    mutate({{t}} := tmp_merge_ins_sam_typed_summary %>%\n",
    "#      mutate({{t}} := tmp_merge_ins_sam %>%\n",
    "                 filter(Type == {{t}}) %>%\n",
    "                 pull(n)\n",
    "          )\n",
    "  }\n",
    "    \n",
    "###  #switch out new for old row in table\n",
    "###  all_insertions_typed[row,] <- tmp_ins\n",
    "    \n",
    "    \n",
    "  return(tmp_ins)\n",
    "}\n",
    "\n",
    "#)\n",
    "\n",
    "ait_annotated <- bind_rows(pre_ait_annotated)\n",
    "\n",
    "\n",
    "#get rid of cluster\n",
    "rm_cluster()    \n",
    "\n",
    "\n",
    "#quick check\n",
    "head(ait_annotated)"
   ]
  },
  {
   "cell_type": "code",
   "execution_count": 130,
   "id": "903085c8-2870-44c0-8fe8-9f1a012e33d8",
   "metadata": {},
   "outputs": [
    {
     "data": {
      "text/html": [
       "<table class=\"dataframe\">\n",
       "<caption>A data.frame: 6 × 48</caption>\n",
       "<thead>\n",
       "\t<tr><th></th><th scope=col>GeneID</th><th scope=col>Chr</th><th scope=col>GeneStart</th><th scope=col>GeneEnd</th><th scope=col>Sample</th><th scope=col>InsertionStart</th><th scope=col>InsertionEnd</th><th scope=col>StartReads</th><th scope=col>EndReads</th><th scope=col>Gene_length</th><th scope=col>⋯</th><th scope=col>Mu15_R</th><th scope=col>Mu16_L</th><th scope=col>Mu16_R</th><th scope=col>Mu17_L</th><th scope=col>Mu17_R</th><th scope=col>Mu18_L</th><th scope=col>Mu18_R</th><th scope=col>Mu19_L</th><th scope=col>Mu19_R</th><th scope=col>uncategorized</th></tr>\n",
       "\t<tr><th></th><th scope=col>&lt;chr&gt;</th><th scope=col>&lt;chr&gt;</th><th scope=col>&lt;int&gt;</th><th scope=col>&lt;int&gt;</th><th scope=col>&lt;chr&gt;</th><th scope=col>&lt;int&gt;</th><th scope=col>&lt;int&gt;</th><th scope=col>&lt;int&gt;</th><th scope=col>&lt;int&gt;</th><th scope=col>&lt;int&gt;</th><th scope=col>⋯</th><th scope=col>&lt;dbl&gt;</th><th scope=col>&lt;dbl&gt;</th><th scope=col>&lt;dbl&gt;</th><th scope=col>&lt;dbl&gt;</th><th scope=col>&lt;dbl&gt;</th><th scope=col>&lt;dbl&gt;</th><th scope=col>&lt;dbl&gt;</th><th scope=col>&lt;dbl&gt;</th><th scope=col>&lt;dbl&gt;</th><th scope=col>&lt;dbl&gt;</th></tr>\n",
       "</thead>\n",
       "<tbody>\n",
       "\t<tr><th scope=row>1</th><td>Zm00001eb000010</td><td>1</td><td>34617</td><td>40204</td><td>Row_22</td><td>34706</td><td>34714</td><td> 8</td><td>10</td><td>5588</td><td>⋯</td><td>0</td><td>0</td><td>0</td><td>4</td><td>0</td><td>0</td><td>0</td><td>0</td><td>0</td><td> 8</td></tr>\n",
       "\t<tr><th scope=row>2</th><td>Zm00001eb000010</td><td>1</td><td>34617</td><td>40204</td><td>Col_24</td><td>34706</td><td>34714</td><td>10</td><td> 8</td><td>5588</td><td>⋯</td><td>0</td><td>0</td><td>0</td><td>1</td><td>0</td><td>0</td><td>0</td><td>0</td><td>0</td><td>14</td></tr>\n",
       "\t<tr><th scope=row>3</th><td>Zm00001eb000020</td><td>1</td><td>41214</td><td>46762</td><td>Row_13</td><td>46184</td><td>46192</td><td> 5</td><td> 6</td><td>5549</td><td>⋯</td><td>0</td><td>0</td><td>0</td><td>0</td><td>0</td><td>0</td><td>0</td><td>0</td><td>0</td><td> 7</td></tr>\n",
       "\t<tr><th scope=row>4</th><td>Zm00001eb000020</td><td>1</td><td>41214</td><td>46762</td><td>Col_02</td><td>46184</td><td>46192</td><td>14</td><td> 6</td><td>5549</td><td>⋯</td><td>0</td><td>1</td><td>0</td><td>4</td><td>0</td><td>0</td><td>0</td><td>1</td><td>0</td><td>10</td></tr>\n",
       "\t<tr><th scope=row>5</th><td>Zm00001eb000020</td><td>1</td><td>41214</td><td>46762</td><td>Row_12</td><td>46255</td><td>46263</td><td> 4</td><td> 8</td><td>5549</td><td>⋯</td><td>0</td><td>0</td><td>0</td><td>3</td><td>0</td><td>0</td><td>0</td><td>0</td><td>0</td><td> 8</td></tr>\n",
       "\t<tr><th scope=row>6</th><td>Zm00001eb000020</td><td>1</td><td>41214</td><td>46762</td><td>Col_03</td><td>46255</td><td>46263</td><td> 8</td><td>14</td><td>5549</td><td>⋯</td><td>0</td><td>1</td><td>0</td><td>1</td><td>0</td><td>0</td><td>0</td><td>1</td><td>0</td><td>10</td></tr>\n",
       "</tbody>\n",
       "</table>\n"
      ],
      "text/latex": [
       "A data.frame: 6 × 48\n",
       "\\begin{tabular}{r|lllllllllllllllllllll}\n",
       "  & GeneID & Chr & GeneStart & GeneEnd & Sample & InsertionStart & InsertionEnd & StartReads & EndReads & Gene\\_length & ⋯ & Mu15\\_R & Mu16\\_L & Mu16\\_R & Mu17\\_L & Mu17\\_R & Mu18\\_L & Mu18\\_R & Mu19\\_L & Mu19\\_R & uncategorized\\\\\n",
       "  & <chr> & <chr> & <int> & <int> & <chr> & <int> & <int> & <int> & <int> & <int> & ⋯ & <dbl> & <dbl> & <dbl> & <dbl> & <dbl> & <dbl> & <dbl> & <dbl> & <dbl> & <dbl>\\\\\n",
       "\\hline\n",
       "\t1 & Zm00001eb000010 & 1 & 34617 & 40204 & Row\\_22 & 34706 & 34714 &  8 & 10 & 5588 & ⋯ & 0 & 0 & 0 & 4 & 0 & 0 & 0 & 0 & 0 &  8\\\\\n",
       "\t2 & Zm00001eb000010 & 1 & 34617 & 40204 & Col\\_24 & 34706 & 34714 & 10 &  8 & 5588 & ⋯ & 0 & 0 & 0 & 1 & 0 & 0 & 0 & 0 & 0 & 14\\\\\n",
       "\t3 & Zm00001eb000020 & 1 & 41214 & 46762 & Row\\_13 & 46184 & 46192 &  5 &  6 & 5549 & ⋯ & 0 & 0 & 0 & 0 & 0 & 0 & 0 & 0 & 0 &  7\\\\\n",
       "\t4 & Zm00001eb000020 & 1 & 41214 & 46762 & Col\\_02 & 46184 & 46192 & 14 &  6 & 5549 & ⋯ & 0 & 1 & 0 & 4 & 0 & 0 & 0 & 1 & 0 & 10\\\\\n",
       "\t5 & Zm00001eb000020 & 1 & 41214 & 46762 & Row\\_12 & 46255 & 46263 &  4 &  8 & 5549 & ⋯ & 0 & 0 & 0 & 3 & 0 & 0 & 0 & 0 & 0 &  8\\\\\n",
       "\t6 & Zm00001eb000020 & 1 & 41214 & 46762 & Col\\_03 & 46255 & 46263 &  8 & 14 & 5549 & ⋯ & 0 & 1 & 0 & 1 & 0 & 0 & 0 & 1 & 0 & 10\\\\\n",
       "\\end{tabular}\n"
      ],
      "text/markdown": [
       "\n",
       "A data.frame: 6 × 48\n",
       "\n",
       "| <!--/--> | GeneID &lt;chr&gt; | Chr &lt;chr&gt; | GeneStart &lt;int&gt; | GeneEnd &lt;int&gt; | Sample &lt;chr&gt; | InsertionStart &lt;int&gt; | InsertionEnd &lt;int&gt; | StartReads &lt;int&gt; | EndReads &lt;int&gt; | Gene_length &lt;int&gt; | ⋯ ⋯ | Mu15_R &lt;dbl&gt; | Mu16_L &lt;dbl&gt; | Mu16_R &lt;dbl&gt; | Mu17_L &lt;dbl&gt; | Mu17_R &lt;dbl&gt; | Mu18_L &lt;dbl&gt; | Mu18_R &lt;dbl&gt; | Mu19_L &lt;dbl&gt; | Mu19_R &lt;dbl&gt; | uncategorized &lt;dbl&gt; |\n",
       "|---|---|---|---|---|---|---|---|---|---|---|---|---|---|---|---|---|---|---|---|---|---|\n",
       "| 1 | Zm00001eb000010 | 1 | 34617 | 40204 | Row_22 | 34706 | 34714 |  8 | 10 | 5588 | ⋯ | 0 | 0 | 0 | 4 | 0 | 0 | 0 | 0 | 0 |  8 |\n",
       "| 2 | Zm00001eb000010 | 1 | 34617 | 40204 | Col_24 | 34706 | 34714 | 10 |  8 | 5588 | ⋯ | 0 | 0 | 0 | 1 | 0 | 0 | 0 | 0 | 0 | 14 |\n",
       "| 3 | Zm00001eb000020 | 1 | 41214 | 46762 | Row_13 | 46184 | 46192 |  5 |  6 | 5549 | ⋯ | 0 | 0 | 0 | 0 | 0 | 0 | 0 | 0 | 0 |  7 |\n",
       "| 4 | Zm00001eb000020 | 1 | 41214 | 46762 | Col_02 | 46184 | 46192 | 14 |  6 | 5549 | ⋯ | 0 | 1 | 0 | 4 | 0 | 0 | 0 | 1 | 0 | 10 |\n",
       "| 5 | Zm00001eb000020 | 1 | 41214 | 46762 | Row_12 | 46255 | 46263 |  4 |  8 | 5549 | ⋯ | 0 | 0 | 0 | 3 | 0 | 0 | 0 | 0 | 0 |  8 |\n",
       "| 6 | Zm00001eb000020 | 1 | 41214 | 46762 | Col_03 | 46255 | 46263 |  8 | 14 | 5549 | ⋯ | 0 | 1 | 0 | 1 | 0 | 0 | 0 | 1 | 0 | 10 |\n",
       "\n"
      ],
      "text/plain": [
       "  GeneID          Chr GeneStart GeneEnd Sample InsertionStart InsertionEnd\n",
       "1 Zm00001eb000010 1   34617     40204   Row_22 34706          34714       \n",
       "2 Zm00001eb000010 1   34617     40204   Col_24 34706          34714       \n",
       "3 Zm00001eb000020 1   41214     46762   Row_13 46184          46192       \n",
       "4 Zm00001eb000020 1   41214     46762   Col_02 46184          46192       \n",
       "5 Zm00001eb000020 1   41214     46762   Row_12 46255          46263       \n",
       "6 Zm00001eb000020 1   41214     46762   Col_03 46255          46263       \n",
       "  StartReads EndReads Gene_length ⋯ Mu15_R Mu16_L Mu16_R Mu17_L Mu17_R Mu18_L\n",
       "1  8         10       5588        ⋯ 0      0      0      4      0      0     \n",
       "2 10          8       5588        ⋯ 0      0      0      1      0      0     \n",
       "3  5          6       5549        ⋯ 0      0      0      0      0      0     \n",
       "4 14          6       5549        ⋯ 0      1      0      4      0      0     \n",
       "5  4          8       5549        ⋯ 0      0      0      3      0      0     \n",
       "6  8         14       5549        ⋯ 0      1      0      1      0      0     \n",
       "  Mu18_R Mu19_L Mu19_R uncategorized\n",
       "1 0      0      0       8           \n",
       "2 0      0      0      14           \n",
       "3 0      0      0       7           \n",
       "4 0      1      0      10           \n",
       "5 0      0      0       8           \n",
       "6 0      1      0      10           "
      ]
     },
     "metadata": {},
     "output_type": "display_data"
    }
   ],
   "source": [
    "head(ait_annotated)"
   ]
  },
  {
   "cell_type": "markdown",
   "id": "47938305-3eb1-42c8-853a-602ff1303038",
   "metadata": {},
   "source": [
    "### Annotating with likely/best candidate/s, uncategorized reads and percentages etc."
   ]
  },
  {
   "cell_type": "code",
   "execution_count": 179,
   "id": "a847de12-11e3-4154-ae72-e9a7d5e6d480",
   "metadata": {},
   "outputs": [
    {
     "data": {
      "text/html": [
       "<table class=\"dataframe\">\n",
       "<caption>A rowwise_df: 5 × 77</caption>\n",
       "<thead>\n",
       "\t<tr><th scope=col>Chr</th><th scope=col>InsertionStart</th><th scope=col>InsertionEnd</th><th scope=col>Sample</th><th scope=col>StartReads</th><th scope=col>EndReads</th><th scope=col>TotalReads</th><th scope=col>Mu1_L</th><th scope=col>Mu1_R</th><th scope=col>Mu2_L</th><th scope=col>⋯</th><th scope=col>all_n_max_value</th><th scope=col>type_n_max_value</th><th scope=col>all_TIES</th><th scope=col>type_TIES</th><th scope=col>all_max_name</th><th scope=col>type_max_name</th><th scope=col>perc_uncategorized</th><th scope=col>perc_best_type_of_types</th><th scope=col>all_candidates</th><th scope=col>type_candidates</th></tr>\n",
       "\t<tr><th scope=col>&lt;chr&gt;</th><th scope=col>&lt;int&gt;</th><th scope=col>&lt;int&gt;</th><th scope=col>&lt;chr&gt;</th><th scope=col>&lt;int&gt;</th><th scope=col>&lt;int&gt;</th><th scope=col>&lt;int&gt;</th><th scope=col>&lt;dbl&gt;</th><th scope=col>&lt;dbl&gt;</th><th scope=col>&lt;dbl&gt;</th><th scope=col>⋯</th><th scope=col>&lt;int&gt;</th><th scope=col>&lt;int&gt;</th><th scope=col>&lt;chr&gt;</th><th scope=col>&lt;chr&gt;</th><th scope=col>&lt;chr&gt;</th><th scope=col>&lt;chr&gt;</th><th scope=col>&lt;dbl&gt;</th><th scope=col>&lt;dbl&gt;</th><th scope=col>&lt;list&gt;</th><th scope=col>&lt;list&gt;</th></tr>\n",
       "</thead>\n",
       "<tbody>\n",
       "\t<tr><td>1</td><td>  46269</td><td>  46277</td><td>Col_01</td><td>14</td><td> 8</td><td> 22</td><td>4</td><td> 7</td><td>0</td><td>⋯</td><td>2</td><td>2</td><td>WINNER</td><td>WINNER</td><td>Mu1          </td><td>Mu1 </td><td>0.3181818</td><td>0.5000000</td><td>Mu1</td><td>Mu1</td></tr>\n",
       "\t<tr><td>1</td><td> 205528</td><td> 205536</td><td>Col_01</td><td>38</td><td>75</td><td>113</td><td>5</td><td>15</td><td>0</td><td>⋯</td><td>2</td><td>2</td><td>WINNER</td><td>WINNER</td><td>uncategorized</td><td>Mu1 </td><td>0.6637168</td><td>0.1769912</td><td>Mu1          , uncategorized</td><td>Mu1</td></tr>\n",
       "\t<tr><td>1</td><td> 564703</td><td> 564711</td><td>Col_01</td><td> 2</td><td> 4</td><td>  6</td><td>0</td><td> 2</td><td>0</td><td>⋯</td><td>2</td><td>5</td><td>WINNER</td><td>TIED  </td><td>uncategorized</td><td>TIED</td><td>0.5000000</td><td>0.3333333</td><td>Mu1          , Mu5          , Mu7          , Mu17         , uncategorized</td><td>Mu1 , Mu5 , Mu7 , Mu17</td></tr>\n",
       "\t<tr><td>1</td><td> 564728</td><td> 564736</td><td>Col_01</td><td>15</td><td> 7</td><td> 22</td><td>1</td><td> 0</td><td>0</td><td>⋯</td><td>2</td><td>3</td><td>WINNER</td><td>TIED  </td><td>uncategorized</td><td>TIED</td><td>0.7272727</td><td>0.1363636</td><td>Mu8          , MuDR         , uncategorized</td><td>Mu8 , MuDR</td></tr>\n",
       "\t<tr><td>1</td><td>1018196</td><td>1018204</td><td>Col_01</td><td> 2</td><td> 8</td><td> 10</td><td>0</td><td> 1</td><td>0</td><td>⋯</td><td>2</td><td>5</td><td>WINNER</td><td>TIED  </td><td>uncategorized</td><td>TIED</td><td>0.9000000</td><td>0.1000000</td><td>Mu1          , Mu5          , Mu7          , Mu17         , uncategorized</td><td>Mu1 , Mu5 , Mu7 , Mu17</td></tr>\n",
       "</tbody>\n",
       "</table>\n"
      ],
      "text/latex": [
       "A rowwise\\_df: 5 × 77\n",
       "\\begin{tabular}{lllllllllllllllllllll}\n",
       " Chr & InsertionStart & InsertionEnd & Sample & StartReads & EndReads & TotalReads & Mu1\\_L & Mu1\\_R & Mu2\\_L & ⋯ & all\\_n\\_max\\_value & type\\_n\\_max\\_value & all\\_TIES & type\\_TIES & all\\_max\\_name & type\\_max\\_name & perc\\_uncategorized & perc\\_best\\_type\\_of\\_types & all\\_candidates & type\\_candidates\\\\\n",
       " <chr> & <int> & <int> & <chr> & <int> & <int> & <int> & <dbl> & <dbl> & <dbl> & ⋯ & <int> & <int> & <chr> & <chr> & <chr> & <chr> & <dbl> & <dbl> & <list> & <list>\\\\\n",
       "\\hline\n",
       "\t 1 &   46269 &   46277 & Col\\_01 & 14 &  8 &  22 & 4 &  7 & 0 & ⋯ & 2 & 2 & WINNER & WINNER & Mu1           & Mu1  & 0.3181818 & 0.5000000 & Mu1 & Mu1\\\\\n",
       "\t 1 &  205528 &  205536 & Col\\_01 & 38 & 75 & 113 & 5 & 15 & 0 & ⋯ & 2 & 2 & WINNER & WINNER & uncategorized & Mu1  & 0.6637168 & 0.1769912 & Mu1          , uncategorized & Mu1\\\\\n",
       "\t 1 &  564703 &  564711 & Col\\_01 &  2 &  4 &   6 & 0 &  2 & 0 & ⋯ & 2 & 5 & WINNER & TIED   & uncategorized & TIED & 0.5000000 & 0.3333333 & Mu1          , Mu5          , Mu7          , Mu17         , uncategorized & Mu1 , Mu5 , Mu7 , Mu17\\\\\n",
       "\t 1 &  564728 &  564736 & Col\\_01 & 15 &  7 &  22 & 1 &  0 & 0 & ⋯ & 2 & 3 & WINNER & TIED   & uncategorized & TIED & 0.7272727 & 0.1363636 & Mu8          , MuDR         , uncategorized & Mu8 , MuDR\\\\\n",
       "\t 1 & 1018196 & 1018204 & Col\\_01 &  2 &  8 &  10 & 0 &  1 & 0 & ⋯ & 2 & 5 & WINNER & TIED   & uncategorized & TIED & 0.9000000 & 0.1000000 & Mu1          , Mu5          , Mu7          , Mu17         , uncategorized & Mu1 , Mu5 , Mu7 , Mu17\\\\\n",
       "\\end{tabular}\n"
      ],
      "text/markdown": [
       "\n",
       "A rowwise_df: 5 × 77\n",
       "\n",
       "| Chr &lt;chr&gt; | InsertionStart &lt;int&gt; | InsertionEnd &lt;int&gt; | Sample &lt;chr&gt; | StartReads &lt;int&gt; | EndReads &lt;int&gt; | TotalReads &lt;int&gt; | Mu1_L &lt;dbl&gt; | Mu1_R &lt;dbl&gt; | Mu2_L &lt;dbl&gt; | ⋯ ⋯ | all_n_max_value &lt;int&gt; | type_n_max_value &lt;int&gt; | all_TIES &lt;chr&gt; | type_TIES &lt;chr&gt; | all_max_name &lt;chr&gt; | type_max_name &lt;chr&gt; | perc_uncategorized &lt;dbl&gt; | perc_best_type_of_types &lt;dbl&gt; | all_candidates &lt;list&gt; | type_candidates &lt;list&gt; |\n",
       "|---|---|---|---|---|---|---|---|---|---|---|---|---|---|---|---|---|---|---|---|---|\n",
       "| 1 |   46269 |   46277 | Col_01 | 14 |  8 |  22 | 4 |  7 | 0 | ⋯ | 2 | 2 | WINNER | WINNER | Mu1           | Mu1  | 0.3181818 | 0.5000000 | Mu1 | Mu1 |\n",
       "| 1 |  205528 |  205536 | Col_01 | 38 | 75 | 113 | 5 | 15 | 0 | ⋯ | 2 | 2 | WINNER | WINNER | uncategorized | Mu1  | 0.6637168 | 0.1769912 | Mu1          , uncategorized | Mu1 |\n",
       "| 1 |  564703 |  564711 | Col_01 |  2 |  4 |   6 | 0 |  2 | 0 | ⋯ | 2 | 5 | WINNER | TIED   | uncategorized | TIED | 0.5000000 | 0.3333333 | Mu1          , Mu5          , Mu7          , Mu17         , uncategorized | Mu1 , Mu5 , Mu7 , Mu17 |\n",
       "| 1 |  564728 |  564736 | Col_01 | 15 |  7 |  22 | 1 |  0 | 0 | ⋯ | 2 | 3 | WINNER | TIED   | uncategorized | TIED | 0.7272727 | 0.1363636 | Mu8          , MuDR         , uncategorized | Mu8 , MuDR |\n",
       "| 1 | 1018196 | 1018204 | Col_01 |  2 |  8 |  10 | 0 |  1 | 0 | ⋯ | 2 | 5 | WINNER | TIED   | uncategorized | TIED | 0.9000000 | 0.1000000 | Mu1          , Mu5          , Mu7          , Mu17         , uncategorized | Mu1 , Mu5 , Mu7 , Mu17 |\n",
       "\n"
      ],
      "text/plain": [
       "  Chr InsertionStart InsertionEnd Sample StartReads EndReads TotalReads Mu1_L\n",
       "1 1     46269          46277      Col_01 14          8        22        4    \n",
       "2 1    205528         205536      Col_01 38         75       113        5    \n",
       "3 1    564703         564711      Col_01  2          4         6        0    \n",
       "4 1    564728         564736      Col_01 15          7        22        1    \n",
       "5 1   1018196        1018204      Col_01  2          8        10        0    \n",
       "  Mu1_R Mu2_L ⋯ all_n_max_value type_n_max_value all_TIES type_TIES\n",
       "1  7    0     ⋯ 2               2                WINNER   WINNER   \n",
       "2 15    0     ⋯ 2               2                WINNER   WINNER   \n",
       "3  2    0     ⋯ 2               5                WINNER   TIED     \n",
       "4  0    0     ⋯ 2               3                WINNER   TIED     \n",
       "5  1    0     ⋯ 2               5                WINNER   TIED     \n",
       "  all_max_name  type_max_name perc_uncategorized perc_best_type_of_types\n",
       "1 Mu1           Mu1           0.3181818          0.5000000              \n",
       "2 uncategorized Mu1           0.6637168          0.1769912              \n",
       "3 uncategorized TIED          0.5000000          0.3333333              \n",
       "4 uncategorized TIED          0.7272727          0.1363636              \n",
       "5 uncategorized TIED          0.9000000          0.1000000              \n",
       "  all_candidates                                                           \n",
       "1 Mu1                                                                      \n",
       "2 Mu1          , uncategorized                                             \n",
       "3 Mu1          , Mu5          , Mu7          , Mu17         , uncategorized\n",
       "4 Mu8          , MuDR         , uncategorized                              \n",
       "5 Mu1          , Mu5          , Mu7          , Mu17         , uncategorized\n",
       "  type_candidates       \n",
       "1 Mu1                   \n",
       "2 Mu1                   \n",
       "3 Mu1 , Mu5 , Mu7 , Mu17\n",
       "4 Mu8 , MuDR            \n",
       "5 Mu1 , Mu5 , Mu7 , Mu17"
      ]
     },
     "metadata": {},
     "output_type": "display_data"
    }
   ],
   "source": [
    "#a <- function() {\n",
    "\n",
    "#compute TotalReads per insertion and total (left+right) reads per type per insertion\n",
    "for (t in base_all_types) {\n",
    "    \n",
    "  tmp_left <- paste0(t, \"_L\")\n",
    "  tmp_right <- paste0(t, \"_R\")\n",
    "    \n",
    "  ait_annotated <- ait_annotated %>%\n",
    "    #add total amount of reads supporting insertion\n",
    "    mutate(TotalReads = StartReads + EndReads) %>%\n",
    "    dplyr::relocate(TotalReads, .after = EndReads) %>%\n",
    "    #add total amount of support reads per (Mu) type\n",
    "    mutate(\"{t}_total\" := .data[[tmp_left]] + .data[[tmp_right]]) \n",
    "}\n",
    "\n",
    "    \n",
    "#move uncategorized to the end of the df\n",
    "ait_annotated <- ait_annotated %>%\n",
    " relocate(uncategorized, .after = last_col())\n",
    "\n",
    "\n",
    "\n",
    "\n",
    "########### starting here - cluster I guess ################\n",
    "\n",
    "\n",
    "\n",
    "#compute the maximum value found among types/types+uncategorized per insertion\n",
    "ait_annotated <- ait_annotated %>%\n",
    "  rowwise() %>%\n",
    "  #max value for all total and uncategorized columns\n",
    "  mutate(all_max_value = max(across(ends_with(c(\"_total\", \"uncategorized\"))))) %>%\n",
    "  #also compute max value for all types excl. uncategorized\n",
    "  mutate(type_max_value = max(across(ends_with(\"_total\")))) %>%\n",
    "  #number of max values for all total and uncategorized columns\n",
    "  #also, catch edge case when no type has any associated values/reads\n",
    "  mutate(all_n_max_value = case_when(\n",
    "           all_max_value > 0 ~ length(which(across(ends_with(c(\"_total\", \"uncategorized\", \"all_max_value\")))==all_max_value)),\n",
    "           TRUE ~ as.integer(0)\n",
    "    )\n",
    "  ) %>%\n",
    "  #number of max values for all total columns excl. uncategorized\n",
    "  #again, catch edge case when no type has any associated values/reads\n",
    "  mutate(type_n_max_value = case_when(\n",
    "            type_max_value > 0 ~ length(which(across(ends_with(c(\"_total\", \"type_max_value\")))==type_max_value)),\n",
    "            TRUE ~ as.integer(0)\n",
    "         )\n",
    "  )\n",
    "\n",
    "\n",
    "    \n",
    "#loop over df to identify uncear cases in which the max support for type classification is tied\n",
    "#create column with info on whether or not one type is more often than others\n",
    "ait_annotated <- ait_annotated %>%\n",
    "  mutate(all_TIES = \n",
    "    case_when(\n",
    "      all_n_max_value > 2 ~ \"TIED\",\n",
    "      all_n_max_value == 2 ~ \"WINNER\",\n",
    "      TRUE ~ \"NO READS\"\n",
    "    ) \n",
    "  ) %>%\n",
    "  mutate(type_TIES = \n",
    "    case_when(\n",
    "      type_n_max_value > 2 ~ \"TIED\",\n",
    "      type_n_max_value == 2 ~ \"WINNER\",\n",
    "      TRUE ~ \"NO READS\"\n",
    "    ) \n",
    "  )\n",
    "\n",
    "\n",
    "#isolate columns for all and type (without uncategorized) and write into vector\n",
    "all_sss_count_cols <- ait_annotated %>%\n",
    "  select(ends_with(c(\"_total\", \"uncategorized\"))) %>%\n",
    "  names()\n",
    "\n",
    "type_sss_count_cols <- ait_annotated %>%\n",
    "  select(ends_with(\"_total\")) %>%\n",
    "  names()\n",
    "\n",
    "\n",
    "#extract the name of the max value type/uncategorized or infer that it is unclear (\"TIED\")\n",
    "ait_annotated <- ait_annotated %>%\n",
    "  rowwise() %>%\n",
    "  #porbably a better way to do this - case_when() strict; \"WINNER\" code is a \"hidden\" list thus we have to add [1] on top\n",
    "  mutate(all_max_name = \n",
    "    case_when(\n",
    "      all_TIES == \"WINNER\" ~ names(.[,c(all_sss_count_cols)])[which(across(ends_with(c(\"_total\", \"uncategorized\")))==all_max_value)][1],\n",
    "      all_TIES == \"TIED\" ~ \"TIED\",\n",
    "      TRUE ~ \"NO READS\"\n",
    "         )\n",
    "  ) %>%\n",
    "    mutate(type_max_name = \n",
    "    case_when(\n",
    "      type_TIES == \"WINNER\" ~ names(.[,c(type_sss_count_cols)])[which(across(ends_with(\"_total\"))==type_max_value)][1],\n",
    "      type_TIES == \"TIED\" ~ \"TIED\",\n",
    "      TRUE ~ \"NO READS\"\n",
    "         )\n",
    "  ) %>%\n",
    "  mutate(all_max_name = str_remove(all_max_name, \"_total\")) %>%\n",
    "  mutate(type_max_name = str_remove(type_max_name, \"_total\"))\n",
    "\n",
    "    \n",
    "    \n",
    "#compute stats:\n",
    "#percent uncategorized of all reads (TotalReads)\n",
    "#percent of the best type/s of all reads (TotalReads) \n",
    "ait_annotated <- ait_annotated %>%\n",
    "  mutate(perc_uncategorized = uncategorized/TotalReads) %>%\n",
    "  mutate(perc_best_type_of_types = type_max_value/TotalReads)\n",
    "\n",
    "\n",
    "#add list elements as df entries per insertion - what are likely candidates (important in unclear cases):\n",
    "#excl. uncategorized\n",
    "#incl. uncategorized\n",
    "ait_annotated <- ait_annotated %>%\n",
    "  mutate(\n",
    "      all_candidates = case_when(\n",
    "          type_max_value > 0 ~ list(names(.[,c(all_sss_count_cols)])[which(across(ends_with(c(\"_total\", \"uncategorized\"))) >= type_max_value)]),\n",
    "          type_max_value == 0 & all_max_value > 0 ~ list(c(\"uncategorized\")),\n",
    "          TRUE ~ list(NA)\n",
    "        )\n",
    "      ) %>%\n",
    "  mutate(\n",
    "      type_candidates = case_when(\n",
    "          type_max_value > 0 ~ list(names(.[,c(type_sss_count_cols)])[which(across(ends_with(\"_total\")) >= type_max_value)]),\n",
    "          TRUE ~ list(NA)\n",
    "        )\n",
    "      ) %>%\n",
    "  mutate(all_candidates = list(str_remove(all_candidates, \"_total\"))) %>%\n",
    "  mutate(type_candidates = list(str_remove(type_candidates, \"_total\")))\n",
    "    \n",
    "#}\n",
    "\n",
    "#system.time(\n",
    "#  a()\n",
    "#)\n",
    "    \n",
    "head(ait_annotated, n=5)"
   ]
  },
  {
   "cell_type": "code",
   "execution_count": 154,
   "id": "20fc3217-9e7b-431f-b35a-5b0c6b332587",
   "metadata": {},
   "outputs": [
    {
     "data": {
      "text/html": [
       "<table class=\"dataframe\">\n",
       "<caption>A data.frame: 5 × 44</caption>\n",
       "<thead>\n",
       "\t<tr><th></th><th scope=col>Chr</th><th scope=col>InsertionStart</th><th scope=col>InsertionEnd</th><th scope=col>Sample</th><th scope=col>StartReads</th><th scope=col>EndReads</th><th scope=col>Mu1_L</th><th scope=col>Mu1_R</th><th scope=col>Mu2_L</th><th scope=col>Mu2_R</th><th scope=col>⋯</th><th scope=col>Mu16_L</th><th scope=col>Mu16_R</th><th scope=col>Mu17_L</th><th scope=col>Mu17_R</th><th scope=col>Mu18_L</th><th scope=col>Mu18_R</th><th scope=col>Mu19_L</th><th scope=col>Mu19_R</th><th scope=col>uncategorized</th><th scope=col>Mu6_L</th></tr>\n",
       "\t<tr><th></th><th scope=col>&lt;chr&gt;</th><th scope=col>&lt;int&gt;</th><th scope=col>&lt;int&gt;</th><th scope=col>&lt;chr&gt;</th><th scope=col>&lt;int&gt;</th><th scope=col>&lt;int&gt;</th><th scope=col>&lt;dbl&gt;</th><th scope=col>&lt;dbl&gt;</th><th scope=col>&lt;dbl&gt;</th><th scope=col>&lt;dbl&gt;</th><th scope=col>⋯</th><th scope=col>&lt;dbl&gt;</th><th scope=col>&lt;dbl&gt;</th><th scope=col>&lt;dbl&gt;</th><th scope=col>&lt;dbl&gt;</th><th scope=col>&lt;dbl&gt;</th><th scope=col>&lt;dbl&gt;</th><th scope=col>&lt;dbl&gt;</th><th scope=col>&lt;dbl&gt;</th><th scope=col>&lt;dbl&gt;</th><th scope=col>&lt;int&gt;</th></tr>\n",
       "</thead>\n",
       "<tbody>\n",
       "\t<tr><th scope=row>1</th><td>1</td><td>  46269</td><td>  46277</td><td>Col_01</td><td>14</td><td> 8</td><td>4</td><td> 7</td><td>0</td><td>4</td><td>⋯</td><td>3</td><td>0</td><td> 7</td><td>0</td><td>0</td><td>0</td><td>3</td><td>0</td><td> 7</td><td>NA</td></tr>\n",
       "\t<tr><th scope=row>2</th><td>1</td><td> 205528</td><td> 205536</td><td>Col_01</td><td>38</td><td>75</td><td>5</td><td>15</td><td>0</td><td>5</td><td>⋯</td><td>8</td><td>0</td><td>15</td><td>0</td><td>0</td><td>0</td><td>8</td><td>0</td><td>75</td><td>NA</td></tr>\n",
       "\t<tr><th scope=row>3</th><td>1</td><td> 564703</td><td> 564711</td><td>Col_01</td><td> 2</td><td> 4</td><td>0</td><td> 2</td><td>0</td><td>0</td><td>⋯</td><td>1</td><td>0</td><td> 2</td><td>0</td><td>0</td><td>0</td><td>1</td><td>0</td><td> 3</td><td>NA</td></tr>\n",
       "\t<tr><th scope=row>4</th><td>1</td><td> 564728</td><td> 564736</td><td>Col_01</td><td>15</td><td> 7</td><td>1</td><td> 0</td><td>0</td><td>1</td><td>⋯</td><td>2</td><td>0</td><td> 0</td><td>0</td><td>0</td><td>0</td><td>2</td><td>0</td><td>16</td><td>NA</td></tr>\n",
       "\t<tr><th scope=row>5</th><td>1</td><td>1018196</td><td>1018204</td><td>Col_01</td><td> 2</td><td> 8</td><td>0</td><td> 1</td><td>0</td><td>0</td><td>⋯</td><td>0</td><td>0</td><td> 1</td><td>0</td><td>0</td><td>0</td><td>0</td><td>0</td><td> 9</td><td>NA</td></tr>\n",
       "</tbody>\n",
       "</table>\n"
      ],
      "text/latex": [
       "A data.frame: 5 × 44\n",
       "\\begin{tabular}{r|lllllllllllllllllllll}\n",
       "  & Chr & InsertionStart & InsertionEnd & Sample & StartReads & EndReads & Mu1\\_L & Mu1\\_R & Mu2\\_L & Mu2\\_R & ⋯ & Mu16\\_L & Mu16\\_R & Mu17\\_L & Mu17\\_R & Mu18\\_L & Mu18\\_R & Mu19\\_L & Mu19\\_R & uncategorized & Mu6\\_L\\\\\n",
       "  & <chr> & <int> & <int> & <chr> & <int> & <int> & <dbl> & <dbl> & <dbl> & <dbl> & ⋯ & <dbl> & <dbl> & <dbl> & <dbl> & <dbl> & <dbl> & <dbl> & <dbl> & <dbl> & <int>\\\\\n",
       "\\hline\n",
       "\t1 & 1 &   46269 &   46277 & Col\\_01 & 14 &  8 & 4 &  7 & 0 & 4 & ⋯ & 3 & 0 &  7 & 0 & 0 & 0 & 3 & 0 &  7 & NA\\\\\n",
       "\t2 & 1 &  205528 &  205536 & Col\\_01 & 38 & 75 & 5 & 15 & 0 & 5 & ⋯ & 8 & 0 & 15 & 0 & 0 & 0 & 8 & 0 & 75 & NA\\\\\n",
       "\t3 & 1 &  564703 &  564711 & Col\\_01 &  2 &  4 & 0 &  2 & 0 & 0 & ⋯ & 1 & 0 &  2 & 0 & 0 & 0 & 1 & 0 &  3 & NA\\\\\n",
       "\t4 & 1 &  564728 &  564736 & Col\\_01 & 15 &  7 & 1 &  0 & 0 & 1 & ⋯ & 2 & 0 &  0 & 0 & 0 & 0 & 2 & 0 & 16 & NA\\\\\n",
       "\t5 & 1 & 1018196 & 1018204 & Col\\_01 &  2 &  8 & 0 &  1 & 0 & 0 & ⋯ & 0 & 0 &  1 & 0 & 0 & 0 & 0 & 0 &  9 & NA\\\\\n",
       "\\end{tabular}\n"
      ],
      "text/markdown": [
       "\n",
       "A data.frame: 5 × 44\n",
       "\n",
       "| <!--/--> | Chr &lt;chr&gt; | InsertionStart &lt;int&gt; | InsertionEnd &lt;int&gt; | Sample &lt;chr&gt; | StartReads &lt;int&gt; | EndReads &lt;int&gt; | Mu1_L &lt;dbl&gt; | Mu1_R &lt;dbl&gt; | Mu2_L &lt;dbl&gt; | Mu2_R &lt;dbl&gt; | ⋯ ⋯ | Mu16_L &lt;dbl&gt; | Mu16_R &lt;dbl&gt; | Mu17_L &lt;dbl&gt; | Mu17_R &lt;dbl&gt; | Mu18_L &lt;dbl&gt; | Mu18_R &lt;dbl&gt; | Mu19_L &lt;dbl&gt; | Mu19_R &lt;dbl&gt; | uncategorized &lt;dbl&gt; | Mu6_L &lt;int&gt; |\n",
       "|---|---|---|---|---|---|---|---|---|---|---|---|---|---|---|---|---|---|---|---|---|---|\n",
       "| 1 | 1 |   46269 |   46277 | Col_01 | 14 |  8 | 4 |  7 | 0 | 4 | ⋯ | 3 | 0 |  7 | 0 | 0 | 0 | 3 | 0 |  7 | NA |\n",
       "| 2 | 1 |  205528 |  205536 | Col_01 | 38 | 75 | 5 | 15 | 0 | 5 | ⋯ | 8 | 0 | 15 | 0 | 0 | 0 | 8 | 0 | 75 | NA |\n",
       "| 3 | 1 |  564703 |  564711 | Col_01 |  2 |  4 | 0 |  2 | 0 | 0 | ⋯ | 1 | 0 |  2 | 0 | 0 | 0 | 1 | 0 |  3 | NA |\n",
       "| 4 | 1 |  564728 |  564736 | Col_01 | 15 |  7 | 1 |  0 | 0 | 1 | ⋯ | 2 | 0 |  0 | 0 | 0 | 0 | 2 | 0 | 16 | NA |\n",
       "| 5 | 1 | 1018196 | 1018204 | Col_01 |  2 |  8 | 0 |  1 | 0 | 0 | ⋯ | 0 | 0 |  1 | 0 | 0 | 0 | 0 | 0 |  9 | NA |\n",
       "\n"
      ],
      "text/plain": [
       "  Chr InsertionStart InsertionEnd Sample StartReads EndReads Mu1_L Mu1_R Mu2_L\n",
       "1 1     46269          46277      Col_01 14          8       4      7    0    \n",
       "2 1    205528         205536      Col_01 38         75       5     15    0    \n",
       "3 1    564703         564711      Col_01  2          4       0      2    0    \n",
       "4 1    564728         564736      Col_01 15          7       1      0    0    \n",
       "5 1   1018196        1018204      Col_01  2          8       0      1    0    \n",
       "  Mu2_R ⋯ Mu16_L Mu16_R Mu17_L Mu17_R Mu18_L Mu18_R Mu19_L Mu19_R uncategorized\n",
       "1 4     ⋯ 3      0       7     0      0      0      3      0       7           \n",
       "2 5     ⋯ 8      0      15     0      0      0      8      0      75           \n",
       "3 0     ⋯ 1      0       2     0      0      0      1      0       3           \n",
       "4 1     ⋯ 2      0       0     0      0      0      2      0      16           \n",
       "5 0     ⋯ 0      0       1     0      0      0      0      0       9           \n",
       "  Mu6_L\n",
       "1 NA   \n",
       "2 NA   \n",
       "3 NA   \n",
       "4 NA   \n",
       "5 NA   "
      ]
     },
     "metadata": {},
     "output_type": "display_data"
    }
   ],
   "source": [
    "abcd <- ait_annotated\n",
    "head(abcd[1:5,])"
   ]
  },
  {
   "cell_type": "code",
   "execution_count": null,
   "id": "156b958e-24fa-4c17-9ab1-bcbe52f4205c",
   "metadata": {},
   "outputs": [],
   "source": [
    "##faster with parallel"
   ]
  },
  {
   "cell_type": "code",
   "execution_count": 177,
   "id": "c5519fc3-e1c4-4663-8d02-567ef5f50693",
   "metadata": {},
   "outputs": [
    {
     "name": "stdout",
     "output_type": "stream",
     "text": [
      "socket cluster with 48 nodes on host ‘localhost’\n",
      "[1] TRUE\n",
      "[1] 48\n"
     ]
    },
    {
     "data": {
      "text/html": [
       "<table class=\"dataframe\">\n",
       "<caption>A rowwise_df: 5 × 77</caption>\n",
       "<thead>\n",
       "\t<tr><th scope=col>Chr</th><th scope=col>InsertionStart</th><th scope=col>InsertionEnd</th><th scope=col>Sample</th><th scope=col>StartReads</th><th scope=col>EndReads</th><th scope=col>TotalReads</th><th scope=col>Mu1_L</th><th scope=col>Mu1_R</th><th scope=col>Mu2_L</th><th scope=col>⋯</th><th scope=col>all_n_max_value</th><th scope=col>type_n_max_value</th><th scope=col>all_TIES</th><th scope=col>type_TIES</th><th scope=col>all_max_name</th><th scope=col>type_max_name</th><th scope=col>perc_uncategorized</th><th scope=col>perc_best_type_of_types</th><th scope=col>all_candidates</th><th scope=col>type_candidates</th></tr>\n",
       "\t<tr><th scope=col>&lt;chr&gt;</th><th scope=col>&lt;int&gt;</th><th scope=col>&lt;int&gt;</th><th scope=col>&lt;chr&gt;</th><th scope=col>&lt;int&gt;</th><th scope=col>&lt;int&gt;</th><th scope=col>&lt;int&gt;</th><th scope=col>&lt;dbl&gt;</th><th scope=col>&lt;dbl&gt;</th><th scope=col>&lt;dbl&gt;</th><th scope=col>⋯</th><th scope=col>&lt;int&gt;</th><th scope=col>&lt;int&gt;</th><th scope=col>&lt;chr&gt;</th><th scope=col>&lt;chr&gt;</th><th scope=col>&lt;chr&gt;</th><th scope=col>&lt;chr&gt;</th><th scope=col>&lt;dbl&gt;</th><th scope=col>&lt;dbl&gt;</th><th scope=col>&lt;list&gt;</th><th scope=col>&lt;list&gt;</th></tr>\n",
       "</thead>\n",
       "<tbody>\n",
       "\t<tr><td>1</td><td>  46269</td><td>  46277</td><td>Col_01</td><td>14</td><td> 8</td><td> 22</td><td>4</td><td> 7</td><td>0</td><td>⋯</td><td>2</td><td>2</td><td>WINNER</td><td>WINNER</td><td>Mu1          </td><td>Mu1 </td><td>0.3181818</td><td>0.5000000</td><td>Mu1</td><td>Mu1</td></tr>\n",
       "\t<tr><td>1</td><td> 205528</td><td> 205536</td><td>Col_01</td><td>38</td><td>75</td><td>113</td><td>5</td><td>15</td><td>0</td><td>⋯</td><td>2</td><td>2</td><td>WINNER</td><td>WINNER</td><td>uncategorized</td><td>Mu1 </td><td>0.6637168</td><td>0.1769912</td><td>Mu1          , uncategorized</td><td>Mu1</td></tr>\n",
       "\t<tr><td>1</td><td> 564703</td><td> 564711</td><td>Col_01</td><td> 2</td><td> 4</td><td>  6</td><td>0</td><td> 2</td><td>0</td><td>⋯</td><td>2</td><td>5</td><td>WINNER</td><td>TIED  </td><td>uncategorized</td><td>TIED</td><td>0.5000000</td><td>0.3333333</td><td>Mu1          , Mu5          , Mu7          , Mu17         , uncategorized</td><td>Mu1 , Mu5 , Mu7 , Mu17</td></tr>\n",
       "\t<tr><td>1</td><td> 564728</td><td> 564736</td><td>Col_01</td><td>15</td><td> 7</td><td> 22</td><td>1</td><td> 0</td><td>0</td><td>⋯</td><td>2</td><td>3</td><td>WINNER</td><td>TIED  </td><td>uncategorized</td><td>TIED</td><td>0.7272727</td><td>0.1363636</td><td>Mu8          , MuDR         , uncategorized</td><td>Mu8 , MuDR</td></tr>\n",
       "\t<tr><td>1</td><td>1018196</td><td>1018204</td><td>Col_01</td><td> 2</td><td> 8</td><td> 10</td><td>0</td><td> 1</td><td>0</td><td>⋯</td><td>2</td><td>5</td><td>WINNER</td><td>TIED  </td><td>uncategorized</td><td>TIED</td><td>0.9000000</td><td>0.1000000</td><td>Mu1          , Mu5          , Mu7          , Mu17         , uncategorized</td><td>Mu1 , Mu5 , Mu7 , Mu17</td></tr>\n",
       "</tbody>\n",
       "</table>\n"
      ],
      "text/latex": [
       "A rowwise\\_df: 5 × 77\n",
       "\\begin{tabular}{lllllllllllllllllllll}\n",
       " Chr & InsertionStart & InsertionEnd & Sample & StartReads & EndReads & TotalReads & Mu1\\_L & Mu1\\_R & Mu2\\_L & ⋯ & all\\_n\\_max\\_value & type\\_n\\_max\\_value & all\\_TIES & type\\_TIES & all\\_max\\_name & type\\_max\\_name & perc\\_uncategorized & perc\\_best\\_type\\_of\\_types & all\\_candidates & type\\_candidates\\\\\n",
       " <chr> & <int> & <int> & <chr> & <int> & <int> & <int> & <dbl> & <dbl> & <dbl> & ⋯ & <int> & <int> & <chr> & <chr> & <chr> & <chr> & <dbl> & <dbl> & <list> & <list>\\\\\n",
       "\\hline\n",
       "\t 1 &   46269 &   46277 & Col\\_01 & 14 &  8 &  22 & 4 &  7 & 0 & ⋯ & 2 & 2 & WINNER & WINNER & Mu1           & Mu1  & 0.3181818 & 0.5000000 & Mu1 & Mu1\\\\\n",
       "\t 1 &  205528 &  205536 & Col\\_01 & 38 & 75 & 113 & 5 & 15 & 0 & ⋯ & 2 & 2 & WINNER & WINNER & uncategorized & Mu1  & 0.6637168 & 0.1769912 & Mu1          , uncategorized & Mu1\\\\\n",
       "\t 1 &  564703 &  564711 & Col\\_01 &  2 &  4 &   6 & 0 &  2 & 0 & ⋯ & 2 & 5 & WINNER & TIED   & uncategorized & TIED & 0.5000000 & 0.3333333 & Mu1          , Mu5          , Mu7          , Mu17         , uncategorized & Mu1 , Mu5 , Mu7 , Mu17\\\\\n",
       "\t 1 &  564728 &  564736 & Col\\_01 & 15 &  7 &  22 & 1 &  0 & 0 & ⋯ & 2 & 3 & WINNER & TIED   & uncategorized & TIED & 0.7272727 & 0.1363636 & Mu8          , MuDR         , uncategorized & Mu8 , MuDR\\\\\n",
       "\t 1 & 1018196 & 1018204 & Col\\_01 &  2 &  8 &  10 & 0 &  1 & 0 & ⋯ & 2 & 5 & WINNER & TIED   & uncategorized & TIED & 0.9000000 & 0.1000000 & Mu1          , Mu5          , Mu7          , Mu17         , uncategorized & Mu1 , Mu5 , Mu7 , Mu17\\\\\n",
       "\\end{tabular}\n"
      ],
      "text/markdown": [
       "\n",
       "A rowwise_df: 5 × 77\n",
       "\n",
       "| Chr &lt;chr&gt; | InsertionStart &lt;int&gt; | InsertionEnd &lt;int&gt; | Sample &lt;chr&gt; | StartReads &lt;int&gt; | EndReads &lt;int&gt; | TotalReads &lt;int&gt; | Mu1_L &lt;dbl&gt; | Mu1_R &lt;dbl&gt; | Mu2_L &lt;dbl&gt; | ⋯ ⋯ | all_n_max_value &lt;int&gt; | type_n_max_value &lt;int&gt; | all_TIES &lt;chr&gt; | type_TIES &lt;chr&gt; | all_max_name &lt;chr&gt; | type_max_name &lt;chr&gt; | perc_uncategorized &lt;dbl&gt; | perc_best_type_of_types &lt;dbl&gt; | all_candidates &lt;list&gt; | type_candidates &lt;list&gt; |\n",
       "|---|---|---|---|---|---|---|---|---|---|---|---|---|---|---|---|---|---|---|---|---|\n",
       "| 1 |   46269 |   46277 | Col_01 | 14 |  8 |  22 | 4 |  7 | 0 | ⋯ | 2 | 2 | WINNER | WINNER | Mu1           | Mu1  | 0.3181818 | 0.5000000 | Mu1 | Mu1 |\n",
       "| 1 |  205528 |  205536 | Col_01 | 38 | 75 | 113 | 5 | 15 | 0 | ⋯ | 2 | 2 | WINNER | WINNER | uncategorized | Mu1  | 0.6637168 | 0.1769912 | Mu1          , uncategorized | Mu1 |\n",
       "| 1 |  564703 |  564711 | Col_01 |  2 |  4 |   6 | 0 |  2 | 0 | ⋯ | 2 | 5 | WINNER | TIED   | uncategorized | TIED | 0.5000000 | 0.3333333 | Mu1          , Mu5          , Mu7          , Mu17         , uncategorized | Mu1 , Mu5 , Mu7 , Mu17 |\n",
       "| 1 |  564728 |  564736 | Col_01 | 15 |  7 |  22 | 1 |  0 | 0 | ⋯ | 2 | 3 | WINNER | TIED   | uncategorized | TIED | 0.7272727 | 0.1363636 | Mu8          , MuDR         , uncategorized | Mu8 , MuDR |\n",
       "| 1 | 1018196 | 1018204 | Col_01 |  2 |  8 |  10 | 0 |  1 | 0 | ⋯ | 2 | 5 | WINNER | TIED   | uncategorized | TIED | 0.9000000 | 0.1000000 | Mu1          , Mu5          , Mu7          , Mu17         , uncategorized | Mu1 , Mu5 , Mu7 , Mu17 |\n",
       "\n"
      ],
      "text/plain": [
       "  Chr InsertionStart InsertionEnd Sample StartReads EndReads TotalReads Mu1_L\n",
       "1 1     46269          46277      Col_01 14          8        22        4    \n",
       "2 1    205528         205536      Col_01 38         75       113        5    \n",
       "3 1    564703         564711      Col_01  2          4         6        0    \n",
       "4 1    564728         564736      Col_01 15          7        22        1    \n",
       "5 1   1018196        1018204      Col_01  2          8        10        0    \n",
       "  Mu1_R Mu2_L ⋯ all_n_max_value type_n_max_value all_TIES type_TIES\n",
       "1  7    0     ⋯ 2               2                WINNER   WINNER   \n",
       "2 15    0     ⋯ 2               2                WINNER   WINNER   \n",
       "3  2    0     ⋯ 2               5                WINNER   TIED     \n",
       "4  0    0     ⋯ 2               3                WINNER   TIED     \n",
       "5  1    0     ⋯ 2               5                WINNER   TIED     \n",
       "  all_max_name  type_max_name perc_uncategorized perc_best_type_of_types\n",
       "1 Mu1           Mu1           0.3181818          0.5000000              \n",
       "2 uncategorized Mu1           0.6637168          0.1769912              \n",
       "3 uncategorized TIED          0.5000000          0.3333333              \n",
       "4 uncategorized TIED          0.7272727          0.1363636              \n",
       "5 uncategorized TIED          0.9000000          0.1000000              \n",
       "  all_candidates                                                           \n",
       "1 Mu1                                                                      \n",
       "2 Mu1          , uncategorized                                             \n",
       "3 Mu1          , Mu5          , Mu7          , Mu17         , uncategorized\n",
       "4 Mu8          , MuDR         , uncategorized                              \n",
       "5 Mu1          , Mu5          , Mu7          , Mu17         , uncategorized\n",
       "  type_candidates       \n",
       "1 Mu1                   \n",
       "2 Mu1                   \n",
       "3 Mu1 , Mu5 , Mu7 , Mu17\n",
       "4 Mu8 , MuDR            \n",
       "5 Mu1 , Mu5 , Mu7 , Mu17"
      ]
     },
     "metadata": {},
     "output_type": "display_data"
    }
   ],
   "source": [
    "abcd <- ait_annotated\n",
    "\n",
    "#a <- function() {\n",
    "\n",
    "#compute TotalReads per insertion and total (left+right) reads per type per insertion\n",
    "for (t in base_all_types) {\n",
    "    \n",
    "  tmp_left <- paste0(t, \"_L\")\n",
    "  tmp_right <- paste0(t, \"_R\")\n",
    "    \n",
    "  abcd <- abcd %>%\n",
    "    #add total amount of reads supporting insertion\n",
    "    mutate(TotalReads = StartReads + EndReads) %>%\n",
    "    dplyr::relocate(TotalReads, .after = EndReads) %>%\n",
    "    #add total amount of support reads per (Mu) type\n",
    "    mutate(\"{t}_total\" := .data[[tmp_left]] + .data[[tmp_right]]) \n",
    "}\n",
    "\n",
    "    \n",
    "#isolate columns for all and type (without uncategorized) and write into vector\n",
    "all_sss_count_cols <- abcd %>%\n",
    "  select(ends_with(c(\"_total\", \"uncategorized\"))) %>%\n",
    "  names()\n",
    "\n",
    "type_sss_count_cols <- abcd %>%\n",
    "  select(ends_with(\"_total\")) %>%\n",
    "  names()\n",
    "    \n",
    "#head(abcd)\n",
    "\n",
    "#abcd <- abcd %>% select(-ends_with(c(\"_L\", \"_R\"))) %>% select(-GeneID, -Chr, -GeneStart, -GeneEnd, \n",
    "#                                                              -Sample, -InsertionStart, -InsertionEnd, -StartReads, -EndReads,\n",
    "#                                                              -Gene_length, -stock)\n",
    "\n",
    "#head(abcd)\n",
    "    \n",
    "setup_cluster()\n",
    "    \n",
    "pre_abcd_final <- foreach(row = 1:nrow(abcd[1:1000,])) %dopar% {\n",
    "\n",
    "    \n",
    "row_abcd <- abcd[row,] %>%\n",
    "  rowwise() %>%\n",
    "  #max value for all total and uncategorized columns\n",
    "  mutate(all_max_value = max(across(ends_with(c(\"_total\", \"uncategorized\"))))) %>%\n",
    "  #also compute max value for all types excl. uncategorized\n",
    "  mutate(type_max_value = max(across(ends_with(\"_total\")))) %>%\n",
    "  #number of max values for all total and uncategorized columns\n",
    "  #also, catch edge case when no type has any associated values/reads\n",
    "  mutate(all_n_max_value = case_when(\n",
    "           all_max_value > 0 ~ length(which(across(ends_with(c(\"_total\", \"uncategorized\", \"all_max_value\")))==all_max_value)),\n",
    "           TRUE ~ as.integer(0)\n",
    "    )\n",
    "  ) %>%\n",
    "  #number of max values for all total columns excl. uncategorized\n",
    "  #again, catch edge case when no type has any associated values/reads\n",
    "  mutate(type_n_max_value = case_when(\n",
    "            type_max_value > 0 ~ length(which(across(ends_with(c(\"_total\", \"type_max_value\")))==type_max_value)),\n",
    "            TRUE ~ as.integer(0)\n",
    "         )\n",
    "  )\n",
    "\n",
    "\n",
    "    \n",
    "#loop over df to identify uncear cases in which the max support for type classification is tied\n",
    "#create column with info on whether or not one type is more often than others\n",
    "row_abcd <- row_abcd %>%\n",
    "  mutate(all_TIES = \n",
    "    case_when(\n",
    "      all_n_max_value > 2 ~ \"TIED\",\n",
    "      all_n_max_value == 2 ~ \"WINNER\",\n",
    "      TRUE ~ \"NO READS\"\n",
    "    ) \n",
    "  ) %>%\n",
    "  mutate(type_TIES = \n",
    "    case_when(\n",
    "      type_n_max_value > 2 ~ \"TIED\",\n",
    "      type_n_max_value == 2 ~ \"WINNER\",\n",
    "      TRUE ~ \"NO READS\"\n",
    "    ) \n",
    "  )\n",
    "\n",
    "\n",
    "#extract the name of the max value type/uncategorized or infer that it is unclear (\"TIED\")\n",
    "row_abcd <- row_abcd %>%\n",
    "  rowwise() %>%\n",
    "  #porbably a better way to do this - case_when() strict; \"WINNER\" code is a \"hidden\" list thus we have to add [1] on top\n",
    "  mutate(all_max_name = \n",
    "    case_when(\n",
    "      all_TIES == \"WINNER\" ~ names(.[,c(all_sss_count_cols)])[which(across(ends_with(c(\"_total\", \"uncategorized\")))==all_max_value)][1],\n",
    "      all_TIES == \"TIED\" ~ \"TIED\",\n",
    "      TRUE ~ \"NO READS\"\n",
    "         )\n",
    "  ) %>%\n",
    "    mutate(type_max_name = \n",
    "    case_when(\n",
    "      type_TIES == \"WINNER\" ~ names(.[,c(type_sss_count_cols)])[which(across(ends_with(\"_total\"))==type_max_value)][1],\n",
    "      type_TIES == \"TIED\" ~ \"TIED\",\n",
    "      TRUE ~ \"NO READS\"\n",
    "         )\n",
    "  ) %>%\n",
    "  mutate(all_max_name = str_remove(all_max_name, \"_total\")) %>%\n",
    "  mutate(type_max_name = str_remove(type_max_name, \"_total\"))\n",
    "\n",
    "    \n",
    "    \n",
    "#compute stats:\n",
    "#percent uncategorized of all reads (TotalReads)\n",
    "#percent of the best type/s of all reads (TotalReads) \n",
    "row_abcd <- row_abcd %>%\n",
    "  mutate(perc_uncategorized = uncategorized/TotalReads) %>%\n",
    "  mutate(perc_best_type_of_types = type_max_value/TotalReads)\n",
    "\n",
    "\n",
    "#add list elements as df entries per insertion - what are likely candidates (important in unclear cases):\n",
    "#excl. uncategorized\n",
    "#incl. uncategorized\n",
    "row_abcd <- row_abcd %>%\n",
    "  mutate(\n",
    "      all_candidates = case_when(\n",
    "          type_max_value > 0 ~ list(names(.[,c(all_sss_count_cols)])[which(across(ends_with(c(\"_total\", \"uncategorized\"))) >= type_max_value)]),\n",
    "          type_max_value == 0 & all_max_value > 0 ~ list(c(\"uncategorized\")),\n",
    "          TRUE ~ list(NA)\n",
    "        )\n",
    "      ) %>%\n",
    "  mutate(\n",
    "      type_candidates = case_when(\n",
    "          type_max_value > 0 ~ list(names(.[,c(type_sss_count_cols)])[which(across(ends_with(\"_total\")) >= type_max_value)]),\n",
    "          TRUE ~ list(NA)\n",
    "        )\n",
    "      ) %>%\n",
    "  mutate(all_candidates = list(str_remove(all_candidates, \"_total\"))) %>%\n",
    "  mutate(type_candidates = list(str_remove(type_candidates, \"_total\")))\n",
    "    \n",
    "    \n",
    "    return(row_abcd)\n",
    "}\n",
    "    \n",
    "#}\n",
    "\n",
    "#system.time(\n",
    "#  a()\n",
    "#)\n",
    "    \n",
    "\n",
    "abcd_final <- bind_rows(pre_abcd_final)\n",
    "\n",
    "head(abcd_final, n=5)"
   ]
  },
  {
   "cell_type": "markdown",
   "id": "39ffb251-b4a5-43d7-a7e4-5f09bbf6dede",
   "metadata": {},
   "source": [
    "### since we only perform all of this once - for the all_NOT_annotated set - we now merge with the other 1 (GENERIC) or 3 tables (GRID)"
   ]
  },
  {
   "cell_type": "code",
   "execution_count": 208,
   "id": "3d8f6856-10a0-4fb8-b60d-5cbae7e50f64",
   "metadata": {},
   "outputs": [
    {
     "data": {
      "text/html": [
       "1000"
      ],
      "text/latex": [
       "1000"
      ],
      "text/markdown": [
       "1000"
      ],
      "text/plain": [
       "[1] 1000"
      ]
     },
     "metadata": {},
     "output_type": "display_data"
    },
    {
     "data": {
      "text/html": [
       "201"
      ],
      "text/latex": [
       "201"
      ],
      "text/markdown": [
       "201"
      ],
      "text/plain": [
       "[1] 201"
      ]
     },
     "metadata": {},
     "output_type": "display_data"
    }
   ],
   "source": [
    "#using all these columns of the un-/annotated germinal and annotated all tables might be overkill..\n",
    "#but this way I can spot if sth. upstream destroyed the coordinates read counts\n",
    "\n",
    "germinal_insertions <- read.csv(\"results/insertions_table_final/germinal_identified_insertions.csv\", header = TRUE)\n",
    "all_insertions_annotated <- read.csv(\"results/insertions_table_final/all_identified_insertions_annotated.csv\", header = TRUE)\n",
    "germinal_insertions_annotated <- read.csv(\"results/insertions_table_final/germinal_identified_insertions_annotated.csv\", header = TRUE)\n",
    "\n",
    "#head(germinal_insertions_annotated)\n",
    "nrow(abcd_final)\n",
    "dplyr::left_join(abcd_final[200:400,1:6], abcd_final[,1:10], keep = FALSE, na_matches = \"never\", by=c(\"Chr\"=\"Chr\", \n",
    "                                                       \"InsertionStart\"=\"InsertionStart\", \n",
    "                                                       \"InsertionEnd\"=\"InsertionEnd\", \n",
    "                                                       \"Sample\"=\"Sample\", \n",
    "                                                       \"StartReads\"=\"StartReads\", \n",
    "                                                       \"EndReads\"=\"EndReads\")) %>% \n",
    "  #rows not also found in our big type annotated table will hava NA under TotalReads ;D\n",
    "  filter(!is.na(TotalReads)) %>% \n",
    "  nrow()"
   ]
  },
  {
   "cell_type": "code",
   "execution_count": 39,
   "id": "c9ef755c-9ae8-4560-a9b6-f38e00f78132",
   "metadata": {},
   "outputs": [
    {
     "name": "stderr",
     "output_type": "stream",
     "text": [
      "Removing all unwanted FORK connections - purging closed cluster sockets\n",
      "\n",
      "This will kill zombie proesses and free up RAM\n",
      "\n"
     ]
    },
    {
     "data": {
      "text/html": [
       "<ol>\n",
       "</ol>\n"
      ],
      "text/latex": [
       "\\begin{enumerate}\n",
       "\\end{enumerate}\n"
      ],
      "text/markdown": [
       "\n",
       "\n"
      ],
      "text/plain": [
       "list()"
      ]
     },
     "metadata": {},
     "output_type": "display_data"
    }
   ],
   "source": [
    "rm_cluster()"
   ]
  },
  {
   "cell_type": "markdown",
   "id": "a070f08a-177d-4f11-8c3d-51c83f936bae",
   "metadata": {},
   "source": [
    "### write complete table to output"
   ]
  },
  {
   "cell_type": "code",
   "execution_count": 135,
   "id": "a4cc78bb-012c-4d47-9322-7a43d211436c",
   "metadata": {},
   "outputs": [],
   "source": [
    "data.table::fwrite(ait_annotated, \n",
    "                   \"results/insertions_table_final_te_typed/complete.csv\", \n",
    "                   row.names=F)"
   ]
  },
  {
   "cell_type": "markdown",
   "id": "71c8b9bb-4d21-4698-baef-13d63241f7b7",
   "metadata": {},
   "source": [
    "### create assessment table for collaborators\n",
    "- simple extension of insertion table with of te typing information\n",
    "- reduced information (more to the point)"
   ]
  },
  {
   "cell_type": "code",
   "execution_count": 131,
   "id": "9aae1d5c-9839-4c35-af0b-f3bbf7eb0c2c",
   "metadata": {},
   "outputs": [
    {
     "data": {
      "text/html": [
       "<table class=\"dataframe\">\n",
       "<caption>A rowwise_df: 6 × 15</caption>\n",
       "<thead>\n",
       "\t<tr><th scope=col>GeneID</th><th scope=col>Chr</th><th scope=col>GeneStart</th><th scope=col>GeneEnd</th><th scope=col>Sample</th><th scope=col>InsertionStart</th><th scope=col>InsertionEnd</th><th scope=col>StartReads</th><th scope=col>EndReads</th><th scope=col>Gene_length</th><th scope=col>stock</th><th scope=col>perc_uncategorized</th><th scope=col>perc_best_type_of_types</th><th scope=col>all_candidates</th><th scope=col>type_candidates</th></tr>\n",
       "\t<tr><th scope=col>&lt;chr&gt;</th><th scope=col>&lt;chr&gt;</th><th scope=col>&lt;int&gt;</th><th scope=col>&lt;int&gt;</th><th scope=col>&lt;chr&gt;</th><th scope=col>&lt;int&gt;</th><th scope=col>&lt;int&gt;</th><th scope=col>&lt;int&gt;</th><th scope=col>&lt;int&gt;</th><th scope=col>&lt;int&gt;</th><th scope=col>&lt;chr&gt;</th><th scope=col>&lt;dbl&gt;</th><th scope=col>&lt;dbl&gt;</th><th scope=col>&lt;list&gt;</th><th scope=col>&lt;list&gt;</th></tr>\n",
       "</thead>\n",
       "<tbody>\n",
       "\t<tr><td>Zm00001d027266</td><td>1</td><td>1027058</td><td>1030126</td><td>Col_01</td><td>1027631</td><td>1027639</td><td> 6</td><td> 4</td><td>3069</td><td>A-0337</td><td>0.5000000</td><td>0.8000000</td><td>MuDR</td><td>MuDR</td></tr>\n",
       "\t<tr><td>Zm00001d027302</td><td>1</td><td>2284852</td><td>2289401</td><td>Col_01</td><td>2289335</td><td>2289343</td><td>18</td><td>19</td><td>4550</td><td>A-0505</td><td>0.5675676</td><td>0.5405405</td><td>MuDR         , uncategorized</td><td>MuDR</td></tr>\n",
       "\t<tr><td>Zm00001d027385</td><td>1</td><td>4118697</td><td>4120755</td><td>Col_01</td><td>4120674</td><td>4120682</td><td> 2</td><td> 4</td><td>2059</td><td>A-0169</td><td>0.8333333</td><td>0.3333333</td><td>Mu7          , Mu17         , uncategorized</td><td>Mu7 , Mu17</td></tr>\n",
       "\t<tr><td>Zm00001d027403</td><td>1</td><td>4494975</td><td>4499451</td><td>Col_01</td><td>4498708</td><td>4498716</td><td>40</td><td>26</td><td>4477</td><td>A-0529</td><td>0.6666667</td><td>0.2424242</td><td>Mu4          , uncategorized</td><td>Mu4</td></tr>\n",
       "\t<tr><td>Zm00001d027446</td><td>1</td><td>5491481</td><td>5495299</td><td>Col_01</td><td>5492178</td><td>5492186</td><td> 7</td><td> 2</td><td>3819</td><td>A-0553</td><td>0.3333333</td><td>0.6666667</td><td>Mu4</td><td>Mu4</td></tr>\n",
       "\t<tr><td>Zm00001d027447</td><td>1</td><td>5496540</td><td>5500644</td><td>Col_01</td><td>5500602</td><td>5500610</td><td> 9</td><td> 3</td><td>4105</td><td>A-0025</td><td>0.6666667</td><td>0.3333333</td><td>MuDR         , uncategorized</td><td>MuDR</td></tr>\n",
       "</tbody>\n",
       "</table>\n"
      ],
      "text/latex": [
       "A rowwise\\_df: 6 × 15\n",
       "\\begin{tabular}{lllllllllllllll}\n",
       " GeneID & Chr & GeneStart & GeneEnd & Sample & InsertionStart & InsertionEnd & StartReads & EndReads & Gene\\_length & stock & perc\\_uncategorized & perc\\_best\\_type\\_of\\_types & all\\_candidates & type\\_candidates\\\\\n",
       " <chr> & <chr> & <int> & <int> & <chr> & <int> & <int> & <int> & <int> & <int> & <chr> & <dbl> & <dbl> & <list> & <list>\\\\\n",
       "\\hline\n",
       "\t Zm00001d027266 & 1 & 1027058 & 1030126 & Col\\_01 & 1027631 & 1027639 &  6 &  4 & 3069 & A-0337 & 0.5000000 & 0.8000000 & MuDR & MuDR\\\\\n",
       "\t Zm00001d027302 & 1 & 2284852 & 2289401 & Col\\_01 & 2289335 & 2289343 & 18 & 19 & 4550 & A-0505 & 0.5675676 & 0.5405405 & MuDR         , uncategorized & MuDR\\\\\n",
       "\t Zm00001d027385 & 1 & 4118697 & 4120755 & Col\\_01 & 4120674 & 4120682 &  2 &  4 & 2059 & A-0169 & 0.8333333 & 0.3333333 & Mu7          , Mu17         , uncategorized & Mu7 , Mu17\\\\\n",
       "\t Zm00001d027403 & 1 & 4494975 & 4499451 & Col\\_01 & 4498708 & 4498716 & 40 & 26 & 4477 & A-0529 & 0.6666667 & 0.2424242 & Mu4          , uncategorized & Mu4\\\\\n",
       "\t Zm00001d027446 & 1 & 5491481 & 5495299 & Col\\_01 & 5492178 & 5492186 &  7 &  2 & 3819 & A-0553 & 0.3333333 & 0.6666667 & Mu4 & Mu4\\\\\n",
       "\t Zm00001d027447 & 1 & 5496540 & 5500644 & Col\\_01 & 5500602 & 5500610 &  9 &  3 & 4105 & A-0025 & 0.6666667 & 0.3333333 & MuDR         , uncategorized & MuDR\\\\\n",
       "\\end{tabular}\n"
      ],
      "text/markdown": [
       "\n",
       "A rowwise_df: 6 × 15\n",
       "\n",
       "| GeneID &lt;chr&gt; | Chr &lt;chr&gt; | GeneStart &lt;int&gt; | GeneEnd &lt;int&gt; | Sample &lt;chr&gt; | InsertionStart &lt;int&gt; | InsertionEnd &lt;int&gt; | StartReads &lt;int&gt; | EndReads &lt;int&gt; | Gene_length &lt;int&gt; | stock &lt;chr&gt; | perc_uncategorized &lt;dbl&gt; | perc_best_type_of_types &lt;dbl&gt; | all_candidates &lt;list&gt; | type_candidates &lt;list&gt; |\n",
       "|---|---|---|---|---|---|---|---|---|---|---|---|---|---|---|\n",
       "| Zm00001d027266 | 1 | 1027058 | 1030126 | Col_01 | 1027631 | 1027639 |  6 |  4 | 3069 | A-0337 | 0.5000000 | 0.8000000 | MuDR | MuDR |\n",
       "| Zm00001d027302 | 1 | 2284852 | 2289401 | Col_01 | 2289335 | 2289343 | 18 | 19 | 4550 | A-0505 | 0.5675676 | 0.5405405 | MuDR         , uncategorized | MuDR |\n",
       "| Zm00001d027385 | 1 | 4118697 | 4120755 | Col_01 | 4120674 | 4120682 |  2 |  4 | 2059 | A-0169 | 0.8333333 | 0.3333333 | Mu7          , Mu17         , uncategorized | Mu7 , Mu17 |\n",
       "| Zm00001d027403 | 1 | 4494975 | 4499451 | Col_01 | 4498708 | 4498716 | 40 | 26 | 4477 | A-0529 | 0.6666667 | 0.2424242 | Mu4          , uncategorized | Mu4 |\n",
       "| Zm00001d027446 | 1 | 5491481 | 5495299 | Col_01 | 5492178 | 5492186 |  7 |  2 | 3819 | A-0553 | 0.3333333 | 0.6666667 | Mu4 | Mu4 |\n",
       "| Zm00001d027447 | 1 | 5496540 | 5500644 | Col_01 | 5500602 | 5500610 |  9 |  3 | 4105 | A-0025 | 0.6666667 | 0.3333333 | MuDR         , uncategorized | MuDR |\n",
       "\n"
      ],
      "text/plain": [
       "  GeneID         Chr GeneStart GeneEnd Sample InsertionStart InsertionEnd\n",
       "1 Zm00001d027266 1   1027058   1030126 Col_01 1027631        1027639     \n",
       "2 Zm00001d027302 1   2284852   2289401 Col_01 2289335        2289343     \n",
       "3 Zm00001d027385 1   4118697   4120755 Col_01 4120674        4120682     \n",
       "4 Zm00001d027403 1   4494975   4499451 Col_01 4498708        4498716     \n",
       "5 Zm00001d027446 1   5491481   5495299 Col_01 5492178        5492186     \n",
       "6 Zm00001d027447 1   5496540   5500644 Col_01 5500602        5500610     \n",
       "  StartReads EndReads Gene_length stock  perc_uncategorized\n",
       "1  6          4       3069        A-0337 0.5000000         \n",
       "2 18         19       4550        A-0505 0.5675676         \n",
       "3  2          4       2059        A-0169 0.8333333         \n",
       "4 40         26       4477        A-0529 0.6666667         \n",
       "5  7          2       3819        A-0553 0.3333333         \n",
       "6  9          3       4105        A-0025 0.6666667         \n",
       "  perc_best_type_of_types all_candidates                             \n",
       "1 0.8000000               MuDR                                       \n",
       "2 0.5405405               MuDR         , uncategorized               \n",
       "3 0.3333333               Mu7          , Mu17         , uncategorized\n",
       "4 0.2424242               Mu4          , uncategorized               \n",
       "5 0.6666667               Mu4                                        \n",
       "6 0.3333333               MuDR         , uncategorized               \n",
       "  type_candidates\n",
       "1 MuDR           \n",
       "2 MuDR           \n",
       "3 Mu7 , Mu17     \n",
       "4 Mu4            \n",
       "5 Mu4            \n",
       "6 MuDR           "
      ]
     },
     "metadata": {},
     "output_type": "display_data"
    }
   ],
   "source": [
    "#check the type of input table\n",
    "#three possibilites:\n",
    "#1 germinal-annotated\n",
    "#2 all-annotated\n",
    "#3 germinal/all UNannotated\n",
    "#data.table fwrite can deal with coluns containing lists (elements become seperated by \"|\")\n",
    "\n",
    "if ( all(c(\"GeneID\", \"stock\") %in% names(ait_annotated)) ) {\n",
    "  ait_annotated %>%\n",
    "  select(GeneID, Chr, GeneStart, GeneEnd, Sample, InsertionStart, InsertionEnd, StartReads, EndReads, Gene_length, stock,\n",
    "         perc_uncategorized, perc_best_type_of_types, all_candidates, type_candidates) %>%\n",
    "  head()\n",
    "} else if ( \"GeneID\" %in% names(ait_annotated) && !(\"stock\" %in% names(ait_annotated)) ) {\n",
    "  ait_annotated %>%\n",
    "  select(GeneID, Chr, GeneStart, GeneEnd, Sample, InsertionStart, InsertionEnd, StartReads, EndReads, Gene_length,\n",
    "         perc_uncategorized, perc_best_type_of_types, all_candidates, type_candidates) %>%\n",
    "  head()\n",
    "} else {\n",
    "  out <- ait_annotated %>%\n",
    "  select(Chr, Sample, InsertionStart, InsertionEnd, StartReads, EndReads,\n",
    "         perc_uncategorized, perc_best_type_of_types, all_candidates, type_candidates)\n",
    "  head(out)\n",
    "#  data.table::fwrite(out, \n",
    "#            \"results/insertions_table_final_te_typed/all_identified_insertions_annotated_te_typed.csv\", \n",
    "#                     \"out_test.csv\",\n",
    "#            row.names=F)\n",
    "}"
   ]
  },
  {
   "cell_type": "markdown",
   "id": "f3bc3996-1792-4a1f-bee5-94c26bf0ebff",
   "metadata": {},
   "source": [
    "### create stats file for library run\n",
    "- insertions categorized\n",
    "- insertions uncategorized\n",
    "- unclear vs clear"
   ]
  },
  {
   "cell_type": "code",
   "execution_count": 134,
   "id": "99dc33fe-c2d4-4c58-9cdd-4f4ea60567dc",
   "metadata": {},
   "outputs": [
    {
     "data": {
      "text/html": [
       "<table class=\"dataframe\">\n",
       "<caption>A tibble: 6 × 2</caption>\n",
       "<thead>\n",
       "\t<tr><th scope=col>type_candidates</th><th scope=col>count</th></tr>\n",
       "\t<tr><th scope=col>&lt;list&gt;</th><th scope=col>&lt;int&gt;</th></tr>\n",
       "</thead>\n",
       "<tbody>\n",
       "\t<tr><td>MuDR</td><td>344</td></tr>\n",
       "\t<tr><td>Mu4</td><td>181</td></tr>\n",
       "\t<tr><td>Mu7 , Mu17</td><td>126</td></tr>\n",
       "\t<tr><td>NA</td><td> 60</td></tr>\n",
       "\t<tr><td>Mu7 , MuDR, Mu17</td><td> 49</td></tr>\n",
       "\t<tr><td>Mu4 , MuDR</td><td> 42</td></tr>\n",
       "</tbody>\n",
       "</table>\n"
      ],
      "text/latex": [
       "A tibble: 6 × 2\n",
       "\\begin{tabular}{ll}\n",
       " type\\_candidates & count\\\\\n",
       " <list> & <int>\\\\\n",
       "\\hline\n",
       "\t MuDR & 344\\\\\n",
       "\t Mu4 & 181\\\\\n",
       "\t Mu7 , Mu17 & 126\\\\\n",
       "\t NA &  60\\\\\n",
       "\t Mu7 , MuDR, Mu17 &  49\\\\\n",
       "\t Mu4 , MuDR &  42\\\\\n",
       "\\end{tabular}\n"
      ],
      "text/markdown": [
       "\n",
       "A tibble: 6 × 2\n",
       "\n",
       "| type_candidates &lt;list&gt; | count &lt;int&gt; |\n",
       "|---|---|\n",
       "| MuDR | 344 |\n",
       "| Mu4 | 181 |\n",
       "| Mu7 , Mu17 | 126 |\n",
       "| NA |  60 |\n",
       "| Mu7 , MuDR, Mu17 |  49 |\n",
       "| Mu4 , MuDR |  42 |\n",
       "\n"
      ],
      "text/plain": [
       "  type_candidates  count\n",
       "1 MuDR             344  \n",
       "2 Mu4              181  \n",
       "3 Mu7 , Mu17       126  \n",
       "4 NA                60  \n",
       "5 Mu7 , MuDR, Mu17  49  \n",
       "6 Mu4 , MuDR        42  "
      ]
     },
     "metadata": {},
     "output_type": "display_data"
    },
    {
     "data": {
      "text/html": [
       "<table class=\"dataframe\">\n",
       "<caption>A tibble: 6 × 2</caption>\n",
       "<thead>\n",
       "\t<tr><th scope=col>all_candidates</th><th scope=col>count</th></tr>\n",
       "\t<tr><th scope=col>&lt;list&gt;</th><th scope=col>&lt;int&gt;</th></tr>\n",
       "</thead>\n",
       "<tbody>\n",
       "\t<tr><td>MuDR         , uncategorized</td><td>278</td></tr>\n",
       "\t<tr><td>Mu4          , uncategorized</td><td>155</td></tr>\n",
       "\t<tr><td>Mu7          , Mu17         , uncategorized</td><td>111</td></tr>\n",
       "\t<tr><td>MuDR</td><td> 66</td></tr>\n",
       "\t<tr><td>uncategorized</td><td> 60</td></tr>\n",
       "\t<tr><td>Mu7          , MuDR         , Mu17         , uncategorized</td><td> 46</td></tr>\n",
       "</tbody>\n",
       "</table>\n"
      ],
      "text/latex": [
       "A tibble: 6 × 2\n",
       "\\begin{tabular}{ll}\n",
       " all\\_candidates & count\\\\\n",
       " <list> & <int>\\\\\n",
       "\\hline\n",
       "\t MuDR         , uncategorized & 278\\\\\n",
       "\t Mu4          , uncategorized & 155\\\\\n",
       "\t Mu7          , Mu17         , uncategorized & 111\\\\\n",
       "\t MuDR &  66\\\\\n",
       "\t uncategorized &  60\\\\\n",
       "\t Mu7          , MuDR         , Mu17         , uncategorized &  46\\\\\n",
       "\\end{tabular}\n"
      ],
      "text/markdown": [
       "\n",
       "A tibble: 6 × 2\n",
       "\n",
       "| all_candidates &lt;list&gt; | count &lt;int&gt; |\n",
       "|---|---|\n",
       "| MuDR         , uncategorized | 278 |\n",
       "| Mu4          , uncategorized | 155 |\n",
       "| Mu7          , Mu17         , uncategorized | 111 |\n",
       "| MuDR |  66 |\n",
       "| uncategorized |  60 |\n",
       "| Mu7          , MuDR         , Mu17         , uncategorized |  46 |\n",
       "\n"
      ],
      "text/plain": [
       "  all_candidates                                             count\n",
       "1 MuDR         , uncategorized                               278  \n",
       "2 Mu4          , uncategorized                               155  \n",
       "3 Mu7          , Mu17         , uncategorized                111  \n",
       "4 MuDR                                                        66  \n",
       "5 uncategorized                                               60  \n",
       "6 Mu7          , MuDR         , Mu17         , uncategorized  46  "
      ]
     },
     "metadata": {},
     "output_type": "display_data"
    }
   ],
   "source": [
    "type_candidates_stats <- ait_annotated %>%\n",
    "  group_by(type_candidates) %>%\n",
    "  summarize(count = n()) %>%\n",
    "  arrange(desc(count))\n",
    "\n",
    "all_candidates_stats <- ait_annotated %>%\n",
    "  group_by(all_candidates) %>%\n",
    "  summarize(count = n()) %>%\n",
    "  arrange(desc(count))\n",
    "\n",
    "head(type_candidates_stats)\n",
    "head(all_candidates_stats)\n",
    "\n",
    "data.table::fwrite(type_candidates_stats, \n",
    "                   \"results/insertions_table_final_te_typed/stats1.csv\", \n",
    "                   row.names=F)\n",
    "\n",
    "data.table::fwrite(all_candidates_stats, \n",
    "                   \"results/insertions_table_final_te_typed/stats2.csv\", \n",
    "                   row.names=F)"
   ]
  },
  {
   "cell_type": "markdown",
   "id": "267af806-bb95-4589-a049-7e099397dfe4",
   "metadata": {},
   "source": [
    "### create files for insertions with uncategorized reads"
   ]
  },
  {
   "cell_type": "code",
   "execution_count": null,
   "id": "4bd62e70-57cd-40b3-bc76-96b0b1bef28b",
   "metadata": {
    "tags": []
   },
   "outputs": [],
   "source": [
    "ait_annotated %>%\n",
    "  filter(type_max_name == \"NO READS\") %>%\n",
    "  head(n=1)\n",
    "\n",
    "ait_annotated %>%\n",
    "  filter(type_max_name == \"NO READS\") %>%\n",
    "  nrow()\n",
    "\n",
    "ait_annotated %>%\n",
    "  filter(perc_uncategorized > 0.5) %>%\n",
    "  nrow()\n",
    "\n",
    "\n",
    "#create subset df with only uncategorized insertions / or with a percentage cutoff\n",
    "unc_ait_annotated <- ait_annotated %>%\n",
    "  filter(type_max_name == \"NO READS\")\n",
    "\n",
    "#perhaps make this a config.yaml parameter\n",
    "#unc_ait_annotated <- ait_annotated %>%\n",
    "#  filter(perc_uncategorized > 0.5)\n",
    "\n",
    "\n",
    "# create empty dataframe/tibble\n",
    "all_uncategorized_ins <- tibble(\n",
    "                           Name = character(),\n",
    "                           Strand = character(),\n",
    "                           Chr = character(),\n",
    "                           InsertionStart = integer(),\n",
    "                           InsertionEnd = integer(),\n",
    "                           Sample = character()\n",
    "                         )\n",
    "\n",
    "#loop through all rows\n",
    "setup_cluster()\n",
    "\n",
    "pre_unc_ins <- foreach(cur_row = 1:nrow(unc_ait_annotated)) %dopar% {\n",
    "\n",
    "    #match Sample with sam object\n",
    "    tmp_sam <- get(paste0(\"sam_\", unc_ait_annotated[cur_row,]$Sample))\n",
    "\n",
    "    #match sample of insertion file with te typing file\n",
    "    tmp_type_file <- get(paste0(unc_ait_annotated[cur_row,]$Sample, \"_type_file\"))\n",
    "\n",
    "    # fuzzyjoin for overlap + end or start needs to match\n",
    "    tmp_merge_ins_sam <- fuzzyjoin::genome_inner_join(unc_ait_annotated[cur_row,],\n",
    "                                                      tmp_sam, \n",
    "                                                      by=c(\"Chr\", \"InsertionStart\"=\"Start\", \"InsertionEnd\"=\"End\")\n",
    "                          ) %>%\n",
    "    select(Name, Flag, Chr.y, Start, End, Sample, InsertionStart, InsertionEnd) %>%\n",
    "    dplyr::rename(Chr=Chr.y) %>%\n",
    "    filter(Start == unc_ait_annotated[cur_row,]$InsertionStart | \n",
    "           #Start == unc_ait_annotated[cur_row,]$InsertionEnd | \n",
    "           #End == unc_ait_annotated[cur_row,]$InsertionStart | \n",
    "           End == unc_ait_annotated[cur_row,]$InsertionEnd\n",
    "          ) %>%\n",
    "    #translate Flag into forward (+) or reverse (-) strand mapping/read\n",
    "    rowwise() %>%\n",
    "    mutate(\n",
    "      Strand = case_when(\n",
    "        number2binary(Flag, 8)[7] == 1 & number2binary(Flag, 8)[8] == 0 ~ \"1\",\n",
    "        number2binary(Flag, 8)[7] == 0 & number2binary(Flag, 8)[8] == 1 ~ \"2\",\n",
    "        TRUE ~ \"LOST\"\n",
    "      )\n",
    "    ) %>%\n",
    "    select(-Flag) %>%\n",
    "    relocate(Strand, .after=Name)\n",
    "    \n",
    "\n",
    "\n",
    "#    all_uncategorized_ins <- bind_rows(all_uncategorized_ins, tmp_merge_ins_sam)\n",
    "    return(tmp_merge_ins_sam)\n",
    "}\n",
    "\n",
    "\n",
    "unc_ins <- bind_rows(pre_unc_ins)\n",
    "\n",
    "#quick check\n",
    "head(unc_ins)"
   ]
  },
  {
   "cell_type": "code",
   "execution_count": null,
   "id": "75ad6c5f-c08d-4dea-a67d-5f3ee149471c",
   "metadata": {},
   "outputs": [],
   "source": [
    "#split into forward and reverse reads\n",
    "strand_1_uncategorized_ins <- unc_ins %>%\n",
    "  filter(Strand == \"1\")\n",
    "\n",
    "strand_2_uncategorized_ins <- unc_ins %>%\n",
    "  filter(Strand == \"2\")\n",
    "\n",
    "\n",
    "#create files only with headers\n",
    "headers_all_uncategorized_ins <- unc_ins %>%\n",
    "  select(Name)\n",
    "\n",
    "headers_strand_1_uncategorized_ins <- strand_1_uncategorized_ins %>%\n",
    "  select(Name)\n",
    "\n",
    "headers_strand_2_uncategorized_ins <- strand_2_uncategorized_ins %>%\n",
    "  select(Name)\n",
    "\n",
    "#write table for all_uncategorized_ins\n",
    "write.csv(unc_ins, \"all_uncategorized_ins.csv\", quote=FALSE, row.names=FALSE)\n",
    "\n",
    "#header files for strand 1 and 2 seperate\n",
    "write.csv(headers_strand_1_uncategorized_ins, \"results/insertions_table_final_te_typed/headers_strand_1_uncategorized_ins.csv\", quote=FALSE, row.names=FALSE)\n",
    "write.csv(headers_strand_2_uncategorized_ins, \"results/insertions_table_final_te_typed/headers_strand_2_uncategorized_ins.csv\", quote=FALSE, row.names=FALSE)"
   ]
  },
  {
   "cell_type": "code",
   "execution_count": null,
   "id": "f2473ff8-7a35-4668-a8ac-87a6cf216a27",
   "metadata": {},
   "outputs": [],
   "source": []
  },
  {
   "cell_type": "code",
   "execution_count": 24,
   "id": "d3f14140-1510-4a95-8e26-00efe2aa736a",
   "metadata": {},
   "outputs": [
    {
     "name": "stdout",
     "output_type": "stream",
     "text": [
      "[1] \"results/insertions_table_final/germinal_identified_insertions_annotated.csv\"\n",
      "[1] \"2\"\n",
      "[1] \"3\"\n",
      "[1] \"4\"\n"
     ]
    }
   ],
   "source": [
    "germinal_annotated = \"results/insertions_table_final/germinal_identified_insertions_annotated.csv\"\n",
    "germinal_NOT_annotated = 2 \n",
    "all_annotated = 3\n",
    "all_NOT_annotated = 4\n",
    "\n",
    "input_list <- list(germinal_annotated, \n",
    "                   germinal_NOT_annotated, \n",
    "                   all_annotated, \n",
    "                   all_NOT_annotated)\n",
    "\n",
    "names(input_list) <- c(\"germinal_annotated\", \n",
    "                       \"germinal_NOT_annotated\", \n",
    "                       \"all_annotated\", \n",
    "                       \"all_NOT_annotated\")\n",
    "\n",
    "for (i in 1:length(input_list)) {\n",
    "  names(input_list[i])\n",
    "  print(as.character(input_list[i]))\n",
    "}\n"
   ]
  },
  {
   "cell_type": "code",
   "execution_count": 19,
   "id": "19f7742f-00d8-4d5d-897f-3a6846ce8695",
   "metadata": {},
   "outputs": [
    {
     "data": {
      "text/html": [
       "<dl>\n",
       "\t<dt>$germinal_annotated</dt>\n",
       "\t\t<dd>1</dd>\n",
       "\t<dt>$germinal_NOT_annotated</dt>\n",
       "\t\t<dd>2</dd>\n",
       "\t<dt>$all_annotated</dt>\n",
       "\t\t<dd>3</dd>\n",
       "\t<dt>$all_NOT_annotated</dt>\n",
       "\t\t<dd>4</dd>\n",
       "</dl>\n"
      ],
      "text/latex": [
       "\\begin{description}\n",
       "\\item[\\$germinal\\_annotated] 1\n",
       "\\item[\\$germinal\\_NOT\\_annotated] 2\n",
       "\\item[\\$all\\_annotated] 3\n",
       "\\item[\\$all\\_NOT\\_annotated] 4\n",
       "\\end{description}\n"
      ],
      "text/markdown": [
       "$germinal_annotated\n",
       ":   1\n",
       "$germinal_NOT_annotated\n",
       ":   2\n",
       "$all_annotated\n",
       ":   3\n",
       "$all_NOT_annotated\n",
       ":   4\n",
       "\n",
       "\n"
      ],
      "text/plain": [
       "$germinal_annotated\n",
       "[1] 1\n",
       "\n",
       "$germinal_NOT_annotated\n",
       "[1] 2\n",
       "\n",
       "$all_annotated\n",
       "[1] 3\n",
       "\n",
       "$all_NOT_annotated\n",
       "[1] 4\n"
      ]
     },
     "metadata": {},
     "output_type": "display_data"
    }
   ],
   "source": [
    "input_list"
   ]
  },
  {
   "cell_type": "code",
   "execution_count": 16,
   "id": "afdcd83f-823e-4c62-aa9a-733e04f0bdf7",
   "metadata": {},
   "outputs": [
    {
     "data": {
      "text/html": [
       "<ol>\n",
       "\t<li>1</li>\n",
       "\t<li>2</li>\n",
       "\t<li>3</li>\n",
       "\t<li>4</li>\n",
       "</ol>\n"
      ],
      "text/latex": [
       "\\begin{enumerate}\n",
       "\\item 1\n",
       "\\item 2\n",
       "\\item 3\n",
       "\\item 4\n",
       "\\end{enumerate}\n"
      ],
      "text/markdown": [
       "1. 1\n",
       "2. 2\n",
       "3. 3\n",
       "4. 4\n",
       "\n",
       "\n"
      ],
      "text/plain": [
       "[[1]]\n",
       "[1] 1\n",
       "\n",
       "[[2]]\n",
       "[1] 2\n",
       "\n",
       "[[3]]\n",
       "[1] 3\n",
       "\n",
       "[[4]]\n",
       "[1] 4\n"
      ]
     },
     "metadata": {},
     "output_type": "display_data"
    }
   ],
   "source": [
    "input_list"
   ]
  },
  {
   "cell_type": "markdown",
   "id": "a471dc07-88f1-41a4-8e24-59590c02a578",
   "metadata": {},
   "source": [
    "## dev notes and tests"
   ]
  },
  {
   "cell_type": "code",
   "execution_count": 11,
   "id": "d820db4e-f3d8-45d9-856d-c6a052989aeb",
   "metadata": {},
   "outputs": [],
   "source": [
    "#all_insertions_typed %>%\n",
    "#  filter(MuDR_L != 0) %>%\n",
    "#  select(MuDR_L, MuDR_R, Mu8_L, Mu8_R)\n",
    "\n",
    "#all_insertions_typed %>%\n",
    "#  filter(Mu5_R != 0) %>%\n",
    "#  select(Mu5_R, Mu7_L, Mu7_R)"
   ]
  },
  {
   "cell_type": "code",
   "execution_count": 57,
   "id": "2fcb44d8-08ff-45ba-b397-36efef5bec9d",
   "metadata": {},
   "outputs": [
    {
     "data": {
      "text/html": [
       "<table class=\"dataframe\">\n",
       "<caption>A data.frame: 1 × 47</caption>\n",
       "<thead>\n",
       "\t<tr><th></th><th scope=col>GeneID</th><th scope=col>Chr</th><th scope=col>Start</th><th scope=col>End</th><th scope=col>Sample</th><th scope=col>InsertionStart</th><th scope=col>InsertionEnd</th><th scope=col>StartReads</th><th scope=col>EndReads</th><th scope=col>Gene_length</th><th scope=col>⋯</th><th scope=col>Mu15_R</th><th scope=col>Mu16_L</th><th scope=col>Mu16_R</th><th scope=col>Mu17_L</th><th scope=col>Mu17_R</th><th scope=col>Mu18_L</th><th scope=col>Mu18_R</th><th scope=col>Mu19_L</th><th scope=col>Mu19_R</th><th scope=col>uncategorized</th></tr>\n",
       "\t<tr><th></th><th scope=col>&lt;chr&gt;</th><th scope=col>&lt;chr&gt;</th><th scope=col>&lt;int&gt;</th><th scope=col>&lt;int&gt;</th><th scope=col>&lt;chr&gt;</th><th scope=col>&lt;int&gt;</th><th scope=col>&lt;int&gt;</th><th scope=col>&lt;int&gt;</th><th scope=col>&lt;int&gt;</th><th scope=col>&lt;int&gt;</th><th scope=col>⋯</th><th scope=col>&lt;dbl&gt;</th><th scope=col>&lt;dbl&gt;</th><th scope=col>&lt;dbl&gt;</th><th scope=col>&lt;dbl&gt;</th><th scope=col>&lt;dbl&gt;</th><th scope=col>&lt;dbl&gt;</th><th scope=col>&lt;dbl&gt;</th><th scope=col>&lt;dbl&gt;</th><th scope=col>&lt;dbl&gt;</th><th scope=col>&lt;dbl&gt;</th></tr>\n",
       "</thead>\n",
       "<tbody>\n",
       "\t<tr><th scope=row>1</th><td>Zm00001d027276</td><td>1</td><td>1226063</td><td>1236227</td><td>Row-02</td><td>1235418</td><td>1235426</td><td>10</td><td>4</td><td>10165</td><td>⋯</td><td>0</td><td>0</td><td>0</td><td>0</td><td>0</td><td>0</td><td>0</td><td>0</td><td>0</td><td>0</td></tr>\n",
       "</tbody>\n",
       "</table>\n"
      ],
      "text/latex": [
       "A data.frame: 1 × 47\n",
       "\\begin{tabular}{r|lllllllllllllllllllll}\n",
       "  & GeneID & Chr & Start & End & Sample & InsertionStart & InsertionEnd & StartReads & EndReads & Gene\\_length & ⋯ & Mu15\\_R & Mu16\\_L & Mu16\\_R & Mu17\\_L & Mu17\\_R & Mu18\\_L & Mu18\\_R & Mu19\\_L & Mu19\\_R & uncategorized\\\\\n",
       "  & <chr> & <chr> & <int> & <int> & <chr> & <int> & <int> & <int> & <int> & <int> & ⋯ & <dbl> & <dbl> & <dbl> & <dbl> & <dbl> & <dbl> & <dbl> & <dbl> & <dbl> & <dbl>\\\\\n",
       "\\hline\n",
       "\t1 & Zm00001d027276 & 1 & 1226063 & 1236227 & Row-02 & 1235418 & 1235426 & 10 & 4 & 10165 & ⋯ & 0 & 0 & 0 & 0 & 0 & 0 & 0 & 0 & 0 & 0\\\\\n",
       "\\end{tabular}\n"
      ],
      "text/markdown": [
       "\n",
       "A data.frame: 1 × 47\n",
       "\n",
       "| <!--/--> | GeneID &lt;chr&gt; | Chr &lt;chr&gt; | Start &lt;int&gt; | End &lt;int&gt; | Sample &lt;chr&gt; | InsertionStart &lt;int&gt; | InsertionEnd &lt;int&gt; | StartReads &lt;int&gt; | EndReads &lt;int&gt; | Gene_length &lt;int&gt; | ⋯ ⋯ | Mu15_R &lt;dbl&gt; | Mu16_L &lt;dbl&gt; | Mu16_R &lt;dbl&gt; | Mu17_L &lt;dbl&gt; | Mu17_R &lt;dbl&gt; | Mu18_L &lt;dbl&gt; | Mu18_R &lt;dbl&gt; | Mu19_L &lt;dbl&gt; | Mu19_R &lt;dbl&gt; | uncategorized &lt;dbl&gt; |\n",
       "|---|---|---|---|---|---|---|---|---|---|---|---|---|---|---|---|---|---|---|---|---|---|\n",
       "| 1 | Zm00001d027276 | 1 | 1226063 | 1236227 | Row-02 | 1235418 | 1235426 | 10 | 4 | 10165 | ⋯ | 0 | 0 | 0 | 0 | 0 | 0 | 0 | 0 | 0 | 0 |\n",
       "\n"
      ],
      "text/plain": [
       "  GeneID         Chr Start   End     Sample InsertionStart InsertionEnd\n",
       "1 Zm00001d027276 1   1226063 1236227 Row-02 1235418        1235426     \n",
       "  StartReads EndReads Gene_length ⋯ Mu15_R Mu16_L Mu16_R Mu17_L Mu17_R Mu18_L\n",
       "1 10         4        10165       ⋯ 0      0      0      0      0      0     \n",
       "  Mu18_R Mu19_L Mu19_R uncategorized\n",
       "1 0      0      0      0            "
      ]
     },
     "metadata": {},
     "output_type": "display_data"
    },
    {
     "data": {
      "text/html": [
       "<table class=\"dataframe\">\n",
       "<caption>A rowwise_df: 6 × 5</caption>\n",
       "<thead>\n",
       "\t<tr><th scope=col>Name</th><th scope=col>Strand</th><th scope=col>Chr</th><th scope=col>Start</th><th scope=col>End</th></tr>\n",
       "\t<tr><th scope=col>&lt;chr&gt;</th><th scope=col>&lt;chr&gt;</th><th scope=col>&lt;chr&gt;</th><th scope=col>&lt;int&gt;</th><th scope=col>&lt;dbl&gt;</th></tr>\n",
       "</thead>\n",
       "<tbody>\n",
       "\t<tr><td>E00591:404:HFCMWCCX2:7:1101:24759:36258</td><td>1</td><td>1</td><td> 56107</td><td> 56207</td></tr>\n",
       "\t<tr><td>E00591:404:HFCMWCCX2:7:1101:24759:36258</td><td>2</td><td>1</td><td> 56112</td><td> 56207</td></tr>\n",
       "\t<tr><td>E00591:404:HFCMWCCX2:7:1102:27945:33691</td><td>1</td><td>1</td><td> 56215</td><td> 56265</td></tr>\n",
       "\t<tr><td>E00591:404:HFCMWCCX2:7:1102:27945:33691</td><td>2</td><td>1</td><td> 56215</td><td> 56265</td></tr>\n",
       "\t<tr><td>E00591:404:HFCMWCCX2:7:1101:7364:5423  </td><td>2</td><td>1</td><td>215243</td><td>215271</td></tr>\n",
       "\t<tr><td>E00591:404:HFCMWCCX2:7:1101:25570:72930</td><td>2</td><td>1</td><td>215243</td><td>215282</td></tr>\n",
       "</tbody>\n",
       "</table>\n"
      ],
      "text/latex": [
       "A rowwise\\_df: 6 × 5\n",
       "\\begin{tabular}{lllll}\n",
       " Name & Strand & Chr & Start & End\\\\\n",
       " <chr> & <chr> & <chr> & <int> & <dbl>\\\\\n",
       "\\hline\n",
       "\t E00591:404:HFCMWCCX2:7:1101:24759:36258 & 1 & 1 &  56107 &  56207\\\\\n",
       "\t E00591:404:HFCMWCCX2:7:1101:24759:36258 & 2 & 1 &  56112 &  56207\\\\\n",
       "\t E00591:404:HFCMWCCX2:7:1102:27945:33691 & 1 & 1 &  56215 &  56265\\\\\n",
       "\t E00591:404:HFCMWCCX2:7:1102:27945:33691 & 2 & 1 &  56215 &  56265\\\\\n",
       "\t E00591:404:HFCMWCCX2:7:1101:7364:5423   & 2 & 1 & 215243 & 215271\\\\\n",
       "\t E00591:404:HFCMWCCX2:7:1101:25570:72930 & 2 & 1 & 215243 & 215282\\\\\n",
       "\\end{tabular}\n"
      ],
      "text/markdown": [
       "\n",
       "A rowwise_df: 6 × 5\n",
       "\n",
       "| Name &lt;chr&gt; | Strand &lt;chr&gt; | Chr &lt;chr&gt; | Start &lt;int&gt; | End &lt;dbl&gt; |\n",
       "|---|---|---|---|---|\n",
       "| E00591:404:HFCMWCCX2:7:1101:24759:36258 | 1 | 1 |  56107 |  56207 |\n",
       "| E00591:404:HFCMWCCX2:7:1101:24759:36258 | 2 | 1 |  56112 |  56207 |\n",
       "| E00591:404:HFCMWCCX2:7:1102:27945:33691 | 1 | 1 |  56215 |  56265 |\n",
       "| E00591:404:HFCMWCCX2:7:1102:27945:33691 | 2 | 1 |  56215 |  56265 |\n",
       "| E00591:404:HFCMWCCX2:7:1101:7364:5423   | 2 | 1 | 215243 | 215271 |\n",
       "| E00591:404:HFCMWCCX2:7:1101:25570:72930 | 2 | 1 | 215243 | 215282 |\n",
       "\n"
      ],
      "text/plain": [
       "  Name                                    Strand Chr Start  End   \n",
       "1 E00591:404:HFCMWCCX2:7:1101:24759:36258 1      1    56107  56207\n",
       "2 E00591:404:HFCMWCCX2:7:1101:24759:36258 2      1    56112  56207\n",
       "3 E00591:404:HFCMWCCX2:7:1102:27945:33691 1      1    56215  56265\n",
       "4 E00591:404:HFCMWCCX2:7:1102:27945:33691 2      1    56215  56265\n",
       "5 E00591:404:HFCMWCCX2:7:1101:7364:5423   2      1   215243 215271\n",
       "6 E00591:404:HFCMWCCX2:7:1101:25570:72930 2      1   215243 215282"
      ]
     },
     "metadata": {},
     "output_type": "display_data"
    },
    {
     "data": {
      "text/html": [
       "<table class=\"dataframe\">\n",
       "<caption>A data.frame: 6 × 3</caption>\n",
       "<thead>\n",
       "\t<tr><th></th><th scope=col>Name</th><th scope=col>Strand</th><th scope=col>Type</th></tr>\n",
       "\t<tr><th></th><th scope=col>&lt;chr&gt;</th><th scope=col>&lt;chr&gt;</th><th scope=col>&lt;chr&gt;</th></tr>\n",
       "</thead>\n",
       "<tbody>\n",
       "\t<tr><th scope=row>1</th><td>E00591:404:HFCMWCCX2:7:1101:10815:1590</td><td>1</td><td>Mu11_L</td></tr>\n",
       "\t<tr><th scope=row>2</th><td>E00591:404:HFCMWCCX2:7:1101:10683:1608</td><td>1</td><td>Mu11_L</td></tr>\n",
       "\t<tr><th scope=row>3</th><td>E00591:404:HFCMWCCX2:7:1101:13007:1661</td><td>1</td><td>Mu11_L</td></tr>\n",
       "\t<tr><th scope=row>4</th><td>E00591:404:HFCMWCCX2:7:1101:8866:1696 </td><td>1</td><td>Mu11_L</td></tr>\n",
       "\t<tr><th scope=row>5</th><td>E00591:404:HFCMWCCX2:7:1101:7182:1942 </td><td>1</td><td>Mu11_L</td></tr>\n",
       "\t<tr><th scope=row>6</th><td>E00591:404:HFCMWCCX2:7:1101:17289:2047</td><td>1</td><td>Mu11_L</td></tr>\n",
       "</tbody>\n",
       "</table>\n"
      ],
      "text/latex": [
       "A data.frame: 6 × 3\n",
       "\\begin{tabular}{r|lll}\n",
       "  & Name & Strand & Type\\\\\n",
       "  & <chr> & <chr> & <chr>\\\\\n",
       "\\hline\n",
       "\t1 & E00591:404:HFCMWCCX2:7:1101:10815:1590 & 1 & Mu11\\_L\\\\\n",
       "\t2 & E00591:404:HFCMWCCX2:7:1101:10683:1608 & 1 & Mu11\\_L\\\\\n",
       "\t3 & E00591:404:HFCMWCCX2:7:1101:13007:1661 & 1 & Mu11\\_L\\\\\n",
       "\t4 & E00591:404:HFCMWCCX2:7:1101:8866:1696  & 1 & Mu11\\_L\\\\\n",
       "\t5 & E00591:404:HFCMWCCX2:7:1101:7182:1942  & 1 & Mu11\\_L\\\\\n",
       "\t6 & E00591:404:HFCMWCCX2:7:1101:17289:2047 & 1 & Mu11\\_L\\\\\n",
       "\\end{tabular}\n"
      ],
      "text/markdown": [
       "\n",
       "A data.frame: 6 × 3\n",
       "\n",
       "| <!--/--> | Name &lt;chr&gt; | Strand &lt;chr&gt; | Type &lt;chr&gt; |\n",
       "|---|---|---|---|\n",
       "| 1 | E00591:404:HFCMWCCX2:7:1101:10815:1590 | 1 | Mu11_L |\n",
       "| 2 | E00591:404:HFCMWCCX2:7:1101:10683:1608 | 1 | Mu11_L |\n",
       "| 3 | E00591:404:HFCMWCCX2:7:1101:13007:1661 | 1 | Mu11_L |\n",
       "| 4 | E00591:404:HFCMWCCX2:7:1101:8866:1696  | 1 | Mu11_L |\n",
       "| 5 | E00591:404:HFCMWCCX2:7:1101:7182:1942  | 1 | Mu11_L |\n",
       "| 6 | E00591:404:HFCMWCCX2:7:1101:17289:2047 | 1 | Mu11_L |\n",
       "\n"
      ],
      "text/plain": [
       "  Name                                   Strand Type  \n",
       "1 E00591:404:HFCMWCCX2:7:1101:10815:1590 1      Mu11_L\n",
       "2 E00591:404:HFCMWCCX2:7:1101:10683:1608 1      Mu11_L\n",
       "3 E00591:404:HFCMWCCX2:7:1101:13007:1661 1      Mu11_L\n",
       "4 E00591:404:HFCMWCCX2:7:1101:8866:1696  1      Mu11_L\n",
       "5 E00591:404:HFCMWCCX2:7:1101:7182:1942  1      Mu11_L\n",
       "6 E00591:404:HFCMWCCX2:7:1101:17289:2047 1      Mu11_L"
      ]
     },
     "metadata": {},
     "output_type": "display_data"
    },
    {
     "data": {
      "text/html": [
       "<table class=\"dataframe\">\n",
       "<caption>A data.frame: 18 × 5</caption>\n",
       "<thead>\n",
       "\t<tr><th scope=col>Name</th><th scope=col>Strand</th><th scope=col>Chr.y</th><th scope=col>Start.y</th><th scope=col>End.y</th></tr>\n",
       "\t<tr><th scope=col>&lt;chr&gt;</th><th scope=col>&lt;chr&gt;</th><th scope=col>&lt;chr&gt;</th><th scope=col>&lt;int&gt;</th><th scope=col>&lt;dbl&gt;</th></tr>\n",
       "</thead>\n",
       "<tbody>\n",
       "\t<tr><td>E00591:404:HFCMWCCX2:7:1101:11140:33516</td><td>1</td><td>1</td><td>1235303</td><td>1235411</td></tr>\n",
       "\t<tr><td>E00591:404:HFCMWCCX2:7:1101:11140:33516</td><td>2</td><td>1</td><td>1235331</td><td>1235426</td></tr>\n",
       "\t<tr><td>E00591:404:HFCMWCCX2:7:1101:13910:27275</td><td>1</td><td>1</td><td>1235334</td><td>1235425</td></tr>\n",
       "\t<tr><td>E00591:404:HFCMWCCX2:7:1102:13778:5493 </td><td>1</td><td>1</td><td>1235362</td><td>1235426</td></tr>\n",
       "\t<tr><td>E00591:404:HFCMWCCX2:7:1101:13910:27275</td><td>2</td><td>1</td><td>1235368</td><td>1235426</td></tr>\n",
       "\t<tr><td>E00591:404:HFCMWCCX2:7:1102:13778:5493 </td><td>2</td><td>1</td><td>1235408</td><td>1235426</td></tr>\n",
       "\t<tr><td>E00591:404:HFCMWCCX2:7:1101:23338:34957</td><td>2</td><td>1</td><td>1235418</td><td>1235464</td></tr>\n",
       "\t<tr><td>E00591:404:HFCMWCCX2:7:1101:11809:56405</td><td>2</td><td>1</td><td>1235418</td><td>1235464</td></tr>\n",
       "\t<tr><td>E00591:404:HFCMWCCX2:7:1101:11038:66742</td><td>2</td><td>1</td><td>1235418</td><td>1235460</td></tr>\n",
       "\t<tr><td>E00591:404:HFCMWCCX2:7:1102:29812:4227 </td><td>2</td><td>1</td><td>1235418</td><td>1235447</td></tr>\n",
       "\t<tr><td>E00591:404:HFCMWCCX2:7:1102:18375:31810</td><td>2</td><td>1</td><td>1235418</td><td>1235472</td></tr>\n",
       "\t<tr><td>E00591:404:HFCMWCCX2:7:1101:23338:34957</td><td>1</td><td>1</td><td>1235418</td><td>1235467</td></tr>\n",
       "\t<tr><td>E00591:404:HFCMWCCX2:7:1101:11809:56405</td><td>1</td><td>1</td><td>1235418</td><td>1235464</td></tr>\n",
       "\t<tr><td>E00591:404:HFCMWCCX2:7:1101:11038:66742</td><td>1</td><td>1</td><td>1235418</td><td>1235460</td></tr>\n",
       "\t<tr><td>E00591:404:HFCMWCCX2:7:1102:29812:4227 </td><td>1</td><td>1</td><td>1235418</td><td>1235447</td></tr>\n",
       "\t<tr><td>E00591:404:HFCMWCCX2:7:1102:18375:31810</td><td>1</td><td>1</td><td>1235418</td><td>1235475</td></tr>\n",
       "\t<tr><td>E00591:404:HFCMWCCX2:7:1101:27306:51605</td><td>2</td><td>1</td><td>1236180</td><td>1236195</td></tr>\n",
       "\t<tr><td>E00591:404:HFCMWCCX2:7:1101:27306:51605</td><td>1</td><td>1</td><td>1236183</td><td>1236195</td></tr>\n",
       "</tbody>\n",
       "</table>\n"
      ],
      "text/latex": [
       "A data.frame: 18 × 5\n",
       "\\begin{tabular}{lllll}\n",
       " Name & Strand & Chr.y & Start.y & End.y\\\\\n",
       " <chr> & <chr> & <chr> & <int> & <dbl>\\\\\n",
       "\\hline\n",
       "\t E00591:404:HFCMWCCX2:7:1101:11140:33516 & 1 & 1 & 1235303 & 1235411\\\\\n",
       "\t E00591:404:HFCMWCCX2:7:1101:11140:33516 & 2 & 1 & 1235331 & 1235426\\\\\n",
       "\t E00591:404:HFCMWCCX2:7:1101:13910:27275 & 1 & 1 & 1235334 & 1235425\\\\\n",
       "\t E00591:404:HFCMWCCX2:7:1102:13778:5493  & 1 & 1 & 1235362 & 1235426\\\\\n",
       "\t E00591:404:HFCMWCCX2:7:1101:13910:27275 & 2 & 1 & 1235368 & 1235426\\\\\n",
       "\t E00591:404:HFCMWCCX2:7:1102:13778:5493  & 2 & 1 & 1235408 & 1235426\\\\\n",
       "\t E00591:404:HFCMWCCX2:7:1101:23338:34957 & 2 & 1 & 1235418 & 1235464\\\\\n",
       "\t E00591:404:HFCMWCCX2:7:1101:11809:56405 & 2 & 1 & 1235418 & 1235464\\\\\n",
       "\t E00591:404:HFCMWCCX2:7:1101:11038:66742 & 2 & 1 & 1235418 & 1235460\\\\\n",
       "\t E00591:404:HFCMWCCX2:7:1102:29812:4227  & 2 & 1 & 1235418 & 1235447\\\\\n",
       "\t E00591:404:HFCMWCCX2:7:1102:18375:31810 & 2 & 1 & 1235418 & 1235472\\\\\n",
       "\t E00591:404:HFCMWCCX2:7:1101:23338:34957 & 1 & 1 & 1235418 & 1235467\\\\\n",
       "\t E00591:404:HFCMWCCX2:7:1101:11809:56405 & 1 & 1 & 1235418 & 1235464\\\\\n",
       "\t E00591:404:HFCMWCCX2:7:1101:11038:66742 & 1 & 1 & 1235418 & 1235460\\\\\n",
       "\t E00591:404:HFCMWCCX2:7:1102:29812:4227  & 1 & 1 & 1235418 & 1235447\\\\\n",
       "\t E00591:404:HFCMWCCX2:7:1102:18375:31810 & 1 & 1 & 1235418 & 1235475\\\\\n",
       "\t E00591:404:HFCMWCCX2:7:1101:27306:51605 & 2 & 1 & 1236180 & 1236195\\\\\n",
       "\t E00591:404:HFCMWCCX2:7:1101:27306:51605 & 1 & 1 & 1236183 & 1236195\\\\\n",
       "\\end{tabular}\n"
      ],
      "text/markdown": [
       "\n",
       "A data.frame: 18 × 5\n",
       "\n",
       "| Name &lt;chr&gt; | Strand &lt;chr&gt; | Chr.y &lt;chr&gt; | Start.y &lt;int&gt; | End.y &lt;dbl&gt; |\n",
       "|---|---|---|---|---|\n",
       "| E00591:404:HFCMWCCX2:7:1101:11140:33516 | 1 | 1 | 1235303 | 1235411 |\n",
       "| E00591:404:HFCMWCCX2:7:1101:11140:33516 | 2 | 1 | 1235331 | 1235426 |\n",
       "| E00591:404:HFCMWCCX2:7:1101:13910:27275 | 1 | 1 | 1235334 | 1235425 |\n",
       "| E00591:404:HFCMWCCX2:7:1102:13778:5493  | 1 | 1 | 1235362 | 1235426 |\n",
       "| E00591:404:HFCMWCCX2:7:1101:13910:27275 | 2 | 1 | 1235368 | 1235426 |\n",
       "| E00591:404:HFCMWCCX2:7:1102:13778:5493  | 2 | 1 | 1235408 | 1235426 |\n",
       "| E00591:404:HFCMWCCX2:7:1101:23338:34957 | 2 | 1 | 1235418 | 1235464 |\n",
       "| E00591:404:HFCMWCCX2:7:1101:11809:56405 | 2 | 1 | 1235418 | 1235464 |\n",
       "| E00591:404:HFCMWCCX2:7:1101:11038:66742 | 2 | 1 | 1235418 | 1235460 |\n",
       "| E00591:404:HFCMWCCX2:7:1102:29812:4227  | 2 | 1 | 1235418 | 1235447 |\n",
       "| E00591:404:HFCMWCCX2:7:1102:18375:31810 | 2 | 1 | 1235418 | 1235472 |\n",
       "| E00591:404:HFCMWCCX2:7:1101:23338:34957 | 1 | 1 | 1235418 | 1235467 |\n",
       "| E00591:404:HFCMWCCX2:7:1101:11809:56405 | 1 | 1 | 1235418 | 1235464 |\n",
       "| E00591:404:HFCMWCCX2:7:1101:11038:66742 | 1 | 1 | 1235418 | 1235460 |\n",
       "| E00591:404:HFCMWCCX2:7:1102:29812:4227  | 1 | 1 | 1235418 | 1235447 |\n",
       "| E00591:404:HFCMWCCX2:7:1102:18375:31810 | 1 | 1 | 1235418 | 1235475 |\n",
       "| E00591:404:HFCMWCCX2:7:1101:27306:51605 | 2 | 1 | 1236180 | 1236195 |\n",
       "| E00591:404:HFCMWCCX2:7:1101:27306:51605 | 1 | 1 | 1236183 | 1236195 |\n",
       "\n"
      ],
      "text/plain": [
       "   Name                                    Strand Chr.y Start.y End.y  \n",
       "1  E00591:404:HFCMWCCX2:7:1101:11140:33516 1      1     1235303 1235411\n",
       "2  E00591:404:HFCMWCCX2:7:1101:11140:33516 2      1     1235331 1235426\n",
       "3  E00591:404:HFCMWCCX2:7:1101:13910:27275 1      1     1235334 1235425\n",
       "4  E00591:404:HFCMWCCX2:7:1102:13778:5493  1      1     1235362 1235426\n",
       "5  E00591:404:HFCMWCCX2:7:1101:13910:27275 2      1     1235368 1235426\n",
       "6  E00591:404:HFCMWCCX2:7:1102:13778:5493  2      1     1235408 1235426\n",
       "7  E00591:404:HFCMWCCX2:7:1101:23338:34957 2      1     1235418 1235464\n",
       "8  E00591:404:HFCMWCCX2:7:1101:11809:56405 2      1     1235418 1235464\n",
       "9  E00591:404:HFCMWCCX2:7:1101:11038:66742 2      1     1235418 1235460\n",
       "10 E00591:404:HFCMWCCX2:7:1102:29812:4227  2      1     1235418 1235447\n",
       "11 E00591:404:HFCMWCCX2:7:1102:18375:31810 2      1     1235418 1235472\n",
       "12 E00591:404:HFCMWCCX2:7:1101:23338:34957 1      1     1235418 1235467\n",
       "13 E00591:404:HFCMWCCX2:7:1101:11809:56405 1      1     1235418 1235464\n",
       "14 E00591:404:HFCMWCCX2:7:1101:11038:66742 1      1     1235418 1235460\n",
       "15 E00591:404:HFCMWCCX2:7:1102:29812:4227  1      1     1235418 1235447\n",
       "16 E00591:404:HFCMWCCX2:7:1102:18375:31810 1      1     1235418 1235475\n",
       "17 E00591:404:HFCMWCCX2:7:1101:27306:51605 2      1     1236180 1236195\n",
       "18 E00591:404:HFCMWCCX2:7:1101:27306:51605 1      1     1236183 1236195"
      ]
     },
     "metadata": {},
     "output_type": "display_data"
    }
   ],
   "source": [
    "tmp_ins <- all_insertions_typed[1,]\n",
    "head(tmp_ins)\n",
    "#tmp_ins\n",
    "\n",
    "#tmp_ins$Sample\n",
    "#tmp_ins$Start\n",
    "#tmp_ins$End\n",
    "\n",
    "\n",
    "#match Sample with sam object\n",
    "tmp_sam <- get(paste0(\"sam_\", tmp_ins$Sample))\n",
    "head(tmp_sam)\n",
    "\n",
    "#match sample of insertion file with te typing file\n",
    "tmp_type_file <- get(paste0(tmp_ins$Sample, \"_type_file\"))\n",
    "head(`Row-02_type_file`)\n",
    "\n",
    "# fuzzyjoin for overlap + end or start needs to match\n",
    "tmp_merge_ins_sam <- fuzzyjoin::genome_inner_join(tmp_ins,\n",
    "                             tmp_sam, \n",
    "                              by=c(\"Chr\", \"Start\", \"End\")\n",
    "                            ) %>%\n",
    "select(Name, Strand, Chr.y, Start.y, End.y) #%>%\n",
    "#nrow()\n",
    "#dplyr::rename(Chr=Chr.y, Start=Start.y, End=End.y) %>%\n",
    "#filter(Start == tmp_ins$Start | \n",
    "#       Start == tmp_ins$End | \n",
    "#       End == tmp_ins$Start | \n",
    "#       End == tmp_ins$End)\n",
    "\n",
    "\n",
    "tmp_merge_ins_sam"
   ]
  },
  {
   "cell_type": "code",
   "execution_count": 119,
   "id": "eddb81de-cc6f-46e6-99ff-415ad08e3367",
   "metadata": {},
   "outputs": [
    {
     "data": {
      "text/html": [
       "<table class=\"dataframe\">\n",
       "<caption>A data.frame: 6 × 43</caption>\n",
       "<thead>\n",
       "\t<tr><th></th><th scope=col>Chr</th><th scope=col>Start</th><th scope=col>End</th><th scope=col>Sample</th><th scope=col>StartReads</th><th scope=col>EndReads</th><th scope=col>Mu1_L</th><th scope=col>Mu1_R</th><th scope=col>Mu2_L</th><th scope=col>Mu2_R</th><th scope=col>⋯</th><th scope=col>Mu15_R</th><th scope=col>Mu16_L</th><th scope=col>Mu16_R</th><th scope=col>Mu17_L</th><th scope=col>Mu17_R</th><th scope=col>Mu18_L</th><th scope=col>Mu18_R</th><th scope=col>Mu19_L</th><th scope=col>Mu19_R</th><th scope=col>uncategorized</th></tr>\n",
       "\t<tr><th></th><th scope=col>&lt;chr&gt;</th><th scope=col>&lt;int&gt;</th><th scope=col>&lt;int&gt;</th><th scope=col>&lt;chr&gt;</th><th scope=col>&lt;int&gt;</th><th scope=col>&lt;int&gt;</th><th scope=col>&lt;dbl&gt;</th><th scope=col>&lt;dbl&gt;</th><th scope=col>&lt;dbl&gt;</th><th scope=col>&lt;dbl&gt;</th><th scope=col>⋯</th><th scope=col>&lt;dbl&gt;</th><th scope=col>&lt;dbl&gt;</th><th scope=col>&lt;dbl&gt;</th><th scope=col>&lt;dbl&gt;</th><th scope=col>&lt;dbl&gt;</th><th scope=col>&lt;dbl&gt;</th><th scope=col>&lt;dbl&gt;</th><th scope=col>&lt;dbl&gt;</th><th scope=col>&lt;dbl&gt;</th><th scope=col>&lt;dbl&gt;</th></tr>\n",
       "</thead>\n",
       "<tbody>\n",
       "\t<tr><th scope=row>1</th><td>1</td><td>3124440</td><td>3124448</td><td>Col-01</td><td> 2</td><td>2</td><td>0</td><td>0</td><td>0</td><td>0</td><td>⋯</td><td>0</td><td>0</td><td>0</td><td>0</td><td>0</td><td>0</td><td>0</td><td>0</td><td>0</td><td> 4</td></tr>\n",
       "\t<tr><th scope=row>2</th><td>1</td><td>3772030</td><td>3772038</td><td>Col-01</td><td> 2</td><td>2</td><td>2</td><td>2</td><td>0</td><td>2</td><td>⋯</td><td>0</td><td>0</td><td>0</td><td>2</td><td>2</td><td>0</td><td>0</td><td>0</td><td>0</td><td> 0</td></tr>\n",
       "\t<tr><th scope=row>3</th><td>1</td><td>4498708</td><td>4498716</td><td>Col-01</td><td> 8</td><td>5</td><td>0</td><td>2</td><td>0</td><td>0</td><td>⋯</td><td>0</td><td>2</td><td>0</td><td>2</td><td>2</td><td>0</td><td>0</td><td>2</td><td>0</td><td> 6</td></tr>\n",
       "\t<tr><th scope=row>4</th><td>1</td><td>4736284</td><td>4736292</td><td>Col-01</td><td> 4</td><td>2</td><td>0</td><td>0</td><td>0</td><td>0</td><td>⋯</td><td>0</td><td>1</td><td>0</td><td>0</td><td>0</td><td>0</td><td>0</td><td>1</td><td>0</td><td> 3</td></tr>\n",
       "\t<tr><th scope=row>5</th><td>1</td><td>4909718</td><td>4909726</td><td>Col-01</td><td> 9</td><td>8</td><td>0</td><td>2</td><td>0</td><td>0</td><td>⋯</td><td>0</td><td>0</td><td>0</td><td>2</td><td>2</td><td>0</td><td>0</td><td>0</td><td>0</td><td>11</td></tr>\n",
       "\t<tr><th scope=row>6</th><td>1</td><td>8308462</td><td>8308470</td><td>Col-01</td><td>12</td><td>2</td><td>1</td><td>2</td><td>0</td><td>1</td><td>⋯</td><td>0</td><td>0</td><td>0</td><td>2</td><td>2</td><td>0</td><td>0</td><td>0</td><td>0</td><td> 9</td></tr>\n",
       "</tbody>\n",
       "</table>\n"
      ],
      "text/latex": [
       "A data.frame: 6 × 43\n",
       "\\begin{tabular}{r|lllllllllllllllllllll}\n",
       "  & Chr & Start & End & Sample & StartReads & EndReads & Mu1\\_L & Mu1\\_R & Mu2\\_L & Mu2\\_R & ⋯ & Mu15\\_R & Mu16\\_L & Mu16\\_R & Mu17\\_L & Mu17\\_R & Mu18\\_L & Mu18\\_R & Mu19\\_L & Mu19\\_R & uncategorized\\\\\n",
       "  & <chr> & <int> & <int> & <chr> & <int> & <int> & <dbl> & <dbl> & <dbl> & <dbl> & ⋯ & <dbl> & <dbl> & <dbl> & <dbl> & <dbl> & <dbl> & <dbl> & <dbl> & <dbl> & <dbl>\\\\\n",
       "\\hline\n",
       "\t1 & 1 & 3124440 & 3124448 & Col-01 &  2 & 2 & 0 & 0 & 0 & 0 & ⋯ & 0 & 0 & 0 & 0 & 0 & 0 & 0 & 0 & 0 &  4\\\\\n",
       "\t2 & 1 & 3772030 & 3772038 & Col-01 &  2 & 2 & 2 & 2 & 0 & 2 & ⋯ & 0 & 0 & 0 & 2 & 2 & 0 & 0 & 0 & 0 &  0\\\\\n",
       "\t3 & 1 & 4498708 & 4498716 & Col-01 &  8 & 5 & 0 & 2 & 0 & 0 & ⋯ & 0 & 2 & 0 & 2 & 2 & 0 & 0 & 2 & 0 &  6\\\\\n",
       "\t4 & 1 & 4736284 & 4736292 & Col-01 &  4 & 2 & 0 & 0 & 0 & 0 & ⋯ & 0 & 1 & 0 & 0 & 0 & 0 & 0 & 1 & 0 &  3\\\\\n",
       "\t5 & 1 & 4909718 & 4909726 & Col-01 &  9 & 8 & 0 & 2 & 0 & 0 & ⋯ & 0 & 0 & 0 & 2 & 2 & 0 & 0 & 0 & 0 & 11\\\\\n",
       "\t6 & 1 & 8308462 & 8308470 & Col-01 & 12 & 2 & 1 & 2 & 0 & 1 & ⋯ & 0 & 0 & 0 & 2 & 2 & 0 & 0 & 0 & 0 &  9\\\\\n",
       "\\end{tabular}\n"
      ],
      "text/markdown": [
       "\n",
       "A data.frame: 6 × 43\n",
       "\n",
       "| <!--/--> | Chr &lt;chr&gt; | Start &lt;int&gt; | End &lt;int&gt; | Sample &lt;chr&gt; | StartReads &lt;int&gt; | EndReads &lt;int&gt; | Mu1_L &lt;dbl&gt; | Mu1_R &lt;dbl&gt; | Mu2_L &lt;dbl&gt; | Mu2_R &lt;dbl&gt; | ⋯ ⋯ | Mu15_R &lt;dbl&gt; | Mu16_L &lt;dbl&gt; | Mu16_R &lt;dbl&gt; | Mu17_L &lt;dbl&gt; | Mu17_R &lt;dbl&gt; | Mu18_L &lt;dbl&gt; | Mu18_R &lt;dbl&gt; | Mu19_L &lt;dbl&gt; | Mu19_R &lt;dbl&gt; | uncategorized &lt;dbl&gt; |\n",
       "|---|---|---|---|---|---|---|---|---|---|---|---|---|---|---|---|---|---|---|---|---|---|\n",
       "| 1 | 1 | 3124440 | 3124448 | Col-01 |  2 | 2 | 0 | 0 | 0 | 0 | ⋯ | 0 | 0 | 0 | 0 | 0 | 0 | 0 | 0 | 0 |  4 |\n",
       "| 2 | 1 | 3772030 | 3772038 | Col-01 |  2 | 2 | 2 | 2 | 0 | 2 | ⋯ | 0 | 0 | 0 | 2 | 2 | 0 | 0 | 0 | 0 |  0 |\n",
       "| 3 | 1 | 4498708 | 4498716 | Col-01 |  8 | 5 | 0 | 2 | 0 | 0 | ⋯ | 0 | 2 | 0 | 2 | 2 | 0 | 0 | 2 | 0 |  6 |\n",
       "| 4 | 1 | 4736284 | 4736292 | Col-01 |  4 | 2 | 0 | 0 | 0 | 0 | ⋯ | 0 | 1 | 0 | 0 | 0 | 0 | 0 | 1 | 0 |  3 |\n",
       "| 5 | 1 | 4909718 | 4909726 | Col-01 |  9 | 8 | 0 | 2 | 0 | 0 | ⋯ | 0 | 0 | 0 | 2 | 2 | 0 | 0 | 0 | 0 | 11 |\n",
       "| 6 | 1 | 8308462 | 8308470 | Col-01 | 12 | 2 | 1 | 2 | 0 | 1 | ⋯ | 0 | 0 | 0 | 2 | 2 | 0 | 0 | 0 | 0 |  9 |\n",
       "\n"
      ],
      "text/plain": [
       "  Chr Start   End     Sample StartReads EndReads Mu1_L Mu1_R Mu2_L Mu2_R ⋯\n",
       "1 1   3124440 3124448 Col-01  2         2        0     0     0     0     ⋯\n",
       "2 1   3772030 3772038 Col-01  2         2        2     2     0     2     ⋯\n",
       "3 1   4498708 4498716 Col-01  8         5        0     2     0     0     ⋯\n",
       "4 1   4736284 4736292 Col-01  4         2        0     0     0     0     ⋯\n",
       "5 1   4909718 4909726 Col-01  9         8        0     2     0     0     ⋯\n",
       "6 1   8308462 8308470 Col-01 12         2        1     2     0     1     ⋯\n",
       "  Mu15_R Mu16_L Mu16_R Mu17_L Mu17_R Mu18_L Mu18_R Mu19_L Mu19_R uncategorized\n",
       "1 0      0      0      0      0      0      0      0      0       4           \n",
       "2 0      0      0      2      2      0      0      0      0       0           \n",
       "3 0      2      0      2      2      0      0      2      0       6           \n",
       "4 0      1      0      0      0      0      0      1      0       3           \n",
       "5 0      0      0      2      2      0      0      0      0      11           \n",
       "6 0      0      0      2      2      0      0      0      0       9           "
      ]
     },
     "metadata": {},
     "output_type": "display_data"
    }
   ],
   "source": [
    "head(all_insertions_typed)"
   ]
  },
  {
   "cell_type": "code",
   "execution_count": 87,
   "id": "ecc7b1a2-1d3c-4979-af87-bd262d6908ab",
   "metadata": {},
   "outputs": [],
   "source": [
    "tmp_merge_ins_sam_typed_summary <- dplyr::left_join(tmp_merge_ins_sam, tmp_type_file, by = c(\"Name\"=\"Name\", \"Strand\"=\"Strand\"), na_matches = \"na\") %>%\n",
    "  group_by(Type) %>%\n",
    "  summarize(n = n()) %>%\n",
    "  #change NA to uncategorized\n",
    "  tidyr::replace_na(list(Type = \"uncategorized\"))\n",
    "\n",
    "for (t in tmp_merge_ins_sam_typed_summary$Type) {\n",
    "  tmp_ins <- tmp_ins %>%\n",
    "  mutate({{t}} := tmp_merge_ins_sam_typed_summary %>%\n",
    "                 filter(Type == {{t}}) %>%\n",
    "                 pull(n)\n",
    "         )\n",
    "}"
   ]
  },
  {
   "cell_type": "code",
   "execution_count": 88,
   "id": "1cc789b3-861d-47bd-9635-75f4c0b4bfd8",
   "metadata": {},
   "outputs": [
    {
     "data": {
      "text/html": [
       "<table class=\"dataframe\">\n",
       "<caption>A tibble: 6 × 2</caption>\n",
       "<thead>\n",
       "\t<tr><th scope=col>Type</th><th scope=col>n</th></tr>\n",
       "\t<tr><th scope=col>&lt;chr&gt;</th><th scope=col>&lt;int&gt;</th></tr>\n",
       "</thead>\n",
       "<tbody>\n",
       "\t<tr><td>Mu1_R </td><td>2</td></tr>\n",
       "\t<tr><td>Mu11_L</td><td>2</td></tr>\n",
       "\t<tr><td>Mu14_L</td><td>2</td></tr>\n",
       "\t<tr><td>Mu16_L</td><td>2</td></tr>\n",
       "\t<tr><td>Mu17_L</td><td>2</td></tr>\n",
       "\t<tr><td>Mu17_R</td><td>2</td></tr>\n",
       "</tbody>\n",
       "</table>\n"
      ],
      "text/latex": [
       "A tibble: 6 × 2\n",
       "\\begin{tabular}{ll}\n",
       " Type & n\\\\\n",
       " <chr> & <int>\\\\\n",
       "\\hline\n",
       "\t Mu1\\_R  & 2\\\\\n",
       "\t Mu11\\_L & 2\\\\\n",
       "\t Mu14\\_L & 2\\\\\n",
       "\t Mu16\\_L & 2\\\\\n",
       "\t Mu17\\_L & 2\\\\\n",
       "\t Mu17\\_R & 2\\\\\n",
       "\\end{tabular}\n"
      ],
      "text/markdown": [
       "\n",
       "A tibble: 6 × 2\n",
       "\n",
       "| Type &lt;chr&gt; | n &lt;int&gt; |\n",
       "|---|---|\n",
       "| Mu1_R  | 2 |\n",
       "| Mu11_L | 2 |\n",
       "| Mu14_L | 2 |\n",
       "| Mu16_L | 2 |\n",
       "| Mu17_L | 2 |\n",
       "| Mu17_R | 2 |\n",
       "\n"
      ],
      "text/plain": [
       "  Type   n\n",
       "1 Mu1_R  2\n",
       "2 Mu11_L 2\n",
       "3 Mu14_L 2\n",
       "4 Mu16_L 2\n",
       "5 Mu17_L 2\n",
       "6 Mu17_R 2"
      ]
     },
     "metadata": {},
     "output_type": "display_data"
    },
    {
     "data": {
      "text/html": [
       "<style>\n",
       ".list-inline {list-style: none; margin:0; padding: 0}\n",
       ".list-inline>li {display: inline-block}\n",
       ".list-inline>li:not(:last-child)::after {content: \"\\00b7\"; padding: 0 .5ex}\n",
       "</style>\n",
       "<ol class=list-inline><li>'Mu1_R'</li><li>'Mu11_L'</li><li>'Mu14_L'</li><li>'Mu16_L'</li><li>'Mu17_L'</li><li>'Mu17_R'</li><li>'Mu19_L'</li><li>'Mu5_R'</li><li>'Mu7_L'</li><li>'Mu7_R'</li><li>'Mu8_R'</li><li>'MuDR_L'</li><li>'MuDR_R'</li><li>'uncategorized'</li></ol>\n"
      ],
      "text/latex": [
       "\\begin{enumerate*}\n",
       "\\item 'Mu1\\_R'\n",
       "\\item 'Mu11\\_L'\n",
       "\\item 'Mu14\\_L'\n",
       "\\item 'Mu16\\_L'\n",
       "\\item 'Mu17\\_L'\n",
       "\\item 'Mu17\\_R'\n",
       "\\item 'Mu19\\_L'\n",
       "\\item 'Mu5\\_R'\n",
       "\\item 'Mu7\\_L'\n",
       "\\item 'Mu7\\_R'\n",
       "\\item 'Mu8\\_R'\n",
       "\\item 'MuDR\\_L'\n",
       "\\item 'MuDR\\_R'\n",
       "\\item 'uncategorized'\n",
       "\\end{enumerate*}\n"
      ],
      "text/markdown": [
       "1. 'Mu1_R'\n",
       "2. 'Mu11_L'\n",
       "3. 'Mu14_L'\n",
       "4. 'Mu16_L'\n",
       "5. 'Mu17_L'\n",
       "6. 'Mu17_R'\n",
       "7. 'Mu19_L'\n",
       "8. 'Mu5_R'\n",
       "9. 'Mu7_L'\n",
       "10. 'Mu7_R'\n",
       "11. 'Mu8_R'\n",
       "12. 'MuDR_L'\n",
       "13. 'MuDR_R'\n",
       "14. 'uncategorized'\n",
       "\n",
       "\n"
      ],
      "text/plain": [
       " [1] \"Mu1_R\"         \"Mu11_L\"        \"Mu14_L\"        \"Mu16_L\"       \n",
       " [5] \"Mu17_L\"        \"Mu17_R\"        \"Mu19_L\"        \"Mu5_R\"        \n",
       " [9] \"Mu7_L\"         \"Mu7_R\"         \"Mu8_R\"         \"MuDR_L\"       \n",
       "[13] \"MuDR_R\"        \"uncategorized\""
      ]
     },
     "metadata": {},
     "output_type": "display_data"
    }
   ],
   "source": [
    "head(tmp_merge_ins_sam_typed_summary)\n",
    "\n",
    "tmp_merge_ins_sam_typed_summary$Type"
   ]
  },
  {
   "cell_type": "code",
   "execution_count": 16,
   "id": "17b65951-cdc2-47d7-a99d-5235aed65b92",
   "metadata": {},
   "outputs": [
    {
     "data": {
      "text/html": [
       "<table class=\"dataframe\">\n",
       "<caption>A data.frame: 1 × 43</caption>\n",
       "<thead>\n",
       "\t<tr><th></th><th scope=col>Chr</th><th scope=col>Start</th><th scope=col>End</th><th scope=col>Sample</th><th scope=col>StartReads</th><th scope=col>EndReads</th><th scope=col>Mu1_L</th><th scope=col>Mu1_R</th><th scope=col>Mu2_L</th><th scope=col>Mu2_R</th><th scope=col>⋯</th><th scope=col>Mu15_R</th><th scope=col>Mu16_L</th><th scope=col>Mu16_R</th><th scope=col>Mu17_L</th><th scope=col>Mu17_R</th><th scope=col>Mu18_L</th><th scope=col>Mu18_R</th><th scope=col>Mu19_L</th><th scope=col>Mu19_R</th><th scope=col>uncategorized</th></tr>\n",
       "\t<tr><th></th><th scope=col>&lt;chr&gt;</th><th scope=col>&lt;int&gt;</th><th scope=col>&lt;int&gt;</th><th scope=col>&lt;chr&gt;</th><th scope=col>&lt;int&gt;</th><th scope=col>&lt;int&gt;</th><th scope=col>&lt;dbl&gt;</th><th scope=col>&lt;int&gt;</th><th scope=col>&lt;dbl&gt;</th><th scope=col>&lt;dbl&gt;</th><th scope=col>⋯</th><th scope=col>&lt;dbl&gt;</th><th scope=col>&lt;int&gt;</th><th scope=col>&lt;dbl&gt;</th><th scope=col>&lt;int&gt;</th><th scope=col>&lt;int&gt;</th><th scope=col>&lt;dbl&gt;</th><th scope=col>&lt;dbl&gt;</th><th scope=col>&lt;int&gt;</th><th scope=col>&lt;dbl&gt;</th><th scope=col>&lt;int&gt;</th></tr>\n",
       "</thead>\n",
       "<tbody>\n",
       "\t<tr><th scope=row>3</th><td>1</td><td>4498708</td><td>4498716</td><td>Col-01</td><td>8</td><td>5</td><td>0</td><td>2</td><td>0</td><td>0</td><td>⋯</td><td>0</td><td>2</td><td>0</td><td>2</td><td>2</td><td>0</td><td>0</td><td>2</td><td>0</td><td>6</td></tr>\n",
       "</tbody>\n",
       "</table>\n"
      ],
      "text/latex": [
       "A data.frame: 1 × 43\n",
       "\\begin{tabular}{r|lllllllllllllllllllll}\n",
       "  & Chr & Start & End & Sample & StartReads & EndReads & Mu1\\_L & Mu1\\_R & Mu2\\_L & Mu2\\_R & ⋯ & Mu15\\_R & Mu16\\_L & Mu16\\_R & Mu17\\_L & Mu17\\_R & Mu18\\_L & Mu18\\_R & Mu19\\_L & Mu19\\_R & uncategorized\\\\\n",
       "  & <chr> & <int> & <int> & <chr> & <int> & <int> & <dbl> & <int> & <dbl> & <dbl> & ⋯ & <dbl> & <int> & <dbl> & <int> & <int> & <dbl> & <dbl> & <int> & <dbl> & <int>\\\\\n",
       "\\hline\n",
       "\t3 & 1 & 4498708 & 4498716 & Col-01 & 8 & 5 & 0 & 2 & 0 & 0 & ⋯ & 0 & 2 & 0 & 2 & 2 & 0 & 0 & 2 & 0 & 6\\\\\n",
       "\\end{tabular}\n"
      ],
      "text/markdown": [
       "\n",
       "A data.frame: 1 × 43\n",
       "\n",
       "| <!--/--> | Chr &lt;chr&gt; | Start &lt;int&gt; | End &lt;int&gt; | Sample &lt;chr&gt; | StartReads &lt;int&gt; | EndReads &lt;int&gt; | Mu1_L &lt;dbl&gt; | Mu1_R &lt;int&gt; | Mu2_L &lt;dbl&gt; | Mu2_R &lt;dbl&gt; | ⋯ ⋯ | Mu15_R &lt;dbl&gt; | Mu16_L &lt;int&gt; | Mu16_R &lt;dbl&gt; | Mu17_L &lt;int&gt; | Mu17_R &lt;int&gt; | Mu18_L &lt;dbl&gt; | Mu18_R &lt;dbl&gt; | Mu19_L &lt;int&gt; | Mu19_R &lt;dbl&gt; | uncategorized &lt;int&gt; |\n",
       "|---|---|---|---|---|---|---|---|---|---|---|---|---|---|---|---|---|---|---|---|---|---|\n",
       "| 3 | 1 | 4498708 | 4498716 | Col-01 | 8 | 5 | 0 | 2 | 0 | 0 | ⋯ | 0 | 2 | 0 | 2 | 2 | 0 | 0 | 2 | 0 | 6 |\n",
       "\n"
      ],
      "text/plain": [
       "  Chr Start   End     Sample StartReads EndReads Mu1_L Mu1_R Mu2_L Mu2_R ⋯\n",
       "3 1   4498708 4498716 Col-01 8          5        0     2     0     0     ⋯\n",
       "  Mu15_R Mu16_L Mu16_R Mu17_L Mu17_R Mu18_L Mu18_R Mu19_L Mu19_R uncategorized\n",
       "3 0      2      0      2      2      0      0      2      0      6            "
      ]
     },
     "metadata": {},
     "output_type": "display_data"
    }
   ],
   "source": [
    "head(tmp_ins)"
   ]
  },
  {
   "cell_type": "code",
   "execution_count": 89,
   "id": "687b8aeb-5bc6-42ce-8cce-bf6cf27712e3",
   "metadata": {},
   "outputs": [
    {
     "name": "stdout",
     "output_type": "stream",
     "text": [
      "[1] \"Mu1_R\"\n",
      "[1] \"Mu11_L\"\n",
      "[1] \"Mu14_L\"\n",
      "[1] \"Mu16_L\"\n",
      "[1] \"Mu17_L\"\n",
      "[1] \"Mu17_R\"\n",
      "[1] \"Mu19_L\"\n",
      "[1] \"Mu5_R\"\n",
      "[1] \"Mu7_L\"\n",
      "[1] \"Mu7_R\"\n",
      "[1] \"Mu8_R\"\n",
      "[1] \"MuDR_L\"\n",
      "[1] \"MuDR_R\"\n",
      "[1] \"uncategorized\"\n"
     ]
    }
   ],
   "source": [
    "for (t in tmp_merge_ins_sam_typed_summary$Type) {\n",
    "  print(t)\n",
    "}"
   ]
  },
  {
   "cell_type": "code",
   "execution_count": 28,
   "id": "05a871c2-2125-43e4-ba54-f572ac8ad764",
   "metadata": {},
   "outputs": [
    {
     "data": {
      "text/html": [
       "<table class=\"dataframe\">\n",
       "<caption>A data.frame: 1 × 43</caption>\n",
       "<thead>\n",
       "\t<tr><th></th><th scope=col>Chr</th><th scope=col>Start</th><th scope=col>End</th><th scope=col>Sample</th><th scope=col>StartReads</th><th scope=col>EndReads</th><th scope=col>Mu1_L</th><th scope=col>Mu1_R</th><th scope=col>Mu2_L</th><th scope=col>Mu2_R</th><th scope=col>⋯</th><th scope=col>Mu15_R</th><th scope=col>Mu16_L</th><th scope=col>Mu16_R</th><th scope=col>Mu17_L</th><th scope=col>Mu17_R</th><th scope=col>Mu18_L</th><th scope=col>Mu18_R</th><th scope=col>Mu19_L</th><th scope=col>Mu19_R</th><th scope=col>uncategorized</th></tr>\n",
       "\t<tr><th></th><th scope=col>&lt;chr&gt;</th><th scope=col>&lt;int&gt;</th><th scope=col>&lt;int&gt;</th><th scope=col>&lt;chr&gt;</th><th scope=col>&lt;int&gt;</th><th scope=col>&lt;int&gt;</th><th scope=col>&lt;dbl&gt;</th><th scope=col>&lt;dbl&gt;</th><th scope=col>&lt;dbl&gt;</th><th scope=col>&lt;dbl&gt;</th><th scope=col>⋯</th><th scope=col>&lt;dbl&gt;</th><th scope=col>&lt;dbl&gt;</th><th scope=col>&lt;dbl&gt;</th><th scope=col>&lt;dbl&gt;</th><th scope=col>&lt;dbl&gt;</th><th scope=col>&lt;dbl&gt;</th><th scope=col>&lt;dbl&gt;</th><th scope=col>&lt;dbl&gt;</th><th scope=col>&lt;dbl&gt;</th><th scope=col>&lt;int&gt;</th></tr>\n",
       "</thead>\n",
       "<tbody>\n",
       "\t<tr><th scope=row>4680</th><td>B73V4_ctg75</td><td>127090</td><td>127098</td><td>Row-04</td><td>2</td><td>2</td><td>0</td><td>0</td><td>0</td><td>0</td><td>⋯</td><td>0</td><td>0</td><td>0</td><td>0</td><td>0</td><td>0</td><td>0</td><td>0</td><td>0</td><td>2</td></tr>\n",
       "</tbody>\n",
       "</table>\n"
      ],
      "text/latex": [
       "A data.frame: 1 × 43\n",
       "\\begin{tabular}{r|lllllllllllllllllllll}\n",
       "  & Chr & Start & End & Sample & StartReads & EndReads & Mu1\\_L & Mu1\\_R & Mu2\\_L & Mu2\\_R & ⋯ & Mu15\\_R & Mu16\\_L & Mu16\\_R & Mu17\\_L & Mu17\\_R & Mu18\\_L & Mu18\\_R & Mu19\\_L & Mu19\\_R & uncategorized\\\\\n",
       "  & <chr> & <int> & <int> & <chr> & <int> & <int> & <dbl> & <dbl> & <dbl> & <dbl> & ⋯ & <dbl> & <dbl> & <dbl> & <dbl> & <dbl> & <dbl> & <dbl> & <dbl> & <dbl> & <int>\\\\\n",
       "\\hline\n",
       "\t4680 & B73V4\\_ctg75 & 127090 & 127098 & Row-04 & 2 & 2 & 0 & 0 & 0 & 0 & ⋯ & 0 & 0 & 0 & 0 & 0 & 0 & 0 & 0 & 0 & 2\\\\\n",
       "\\end{tabular}\n"
      ],
      "text/markdown": [
       "\n",
       "A data.frame: 1 × 43\n",
       "\n",
       "| <!--/--> | Chr &lt;chr&gt; | Start &lt;int&gt; | End &lt;int&gt; | Sample &lt;chr&gt; | StartReads &lt;int&gt; | EndReads &lt;int&gt; | Mu1_L &lt;dbl&gt; | Mu1_R &lt;dbl&gt; | Mu2_L &lt;dbl&gt; | Mu2_R &lt;dbl&gt; | ⋯ ⋯ | Mu15_R &lt;dbl&gt; | Mu16_L &lt;dbl&gt; | Mu16_R &lt;dbl&gt; | Mu17_L &lt;dbl&gt; | Mu17_R &lt;dbl&gt; | Mu18_L &lt;dbl&gt; | Mu18_R &lt;dbl&gt; | Mu19_L &lt;dbl&gt; | Mu19_R &lt;dbl&gt; | uncategorized &lt;int&gt; |\n",
       "|---|---|---|---|---|---|---|---|---|---|---|---|---|---|---|---|---|---|---|---|---|---|\n",
       "| 4680 | B73V4_ctg75 | 127090 | 127098 | Row-04 | 2 | 2 | 0 | 0 | 0 | 0 | ⋯ | 0 | 0 | 0 | 0 | 0 | 0 | 0 | 0 | 0 | 2 |\n",
       "\n"
      ],
      "text/plain": [
       "     Chr         Start  End    Sample StartReads EndReads Mu1_L Mu1_R Mu2_L\n",
       "4680 B73V4_ctg75 127090 127098 Row-04 2          2        0     0     0    \n",
       "     Mu2_R ⋯ Mu15_R Mu16_L Mu16_R Mu17_L Mu17_R Mu18_L Mu18_R Mu19_L Mu19_R\n",
       "4680 0     ⋯ 0      0      0      0      0      0      0      0      0     \n",
       "     uncategorized\n",
       "4680 2            "
      ]
     },
     "metadata": {},
     "output_type": "display_data"
    }
   ],
   "source": [
    "for (t in tmp_merge_ins_sam_typed_summary$Type) {\n",
    "  tmp_ins <- tmp_ins %>%\n",
    "  mutate({{t}} := tmp_merge_ins_sam_typed_summary %>%\n",
    "                 filter(Type == {{t}}) %>%\n",
    "                 pull(n)\n",
    "         )\n",
    "}\n",
    "\n",
    "head(tmp_ins)\n",
    "\n",
    "#tmp_ins %>%\n",
    "#  mutate(Mu1_R = tmp_merge_ins_sam_typed_summary %>%\n",
    "#                 filter(Type == \"Mu1_R\") %>%\n",
    "#                 pull(n)\n",
    "#         )"
   ]
  },
  {
   "cell_type": "code",
   "execution_count": 19,
   "id": "661ccd38-afa3-4978-85ad-cb243902cf74",
   "metadata": {},
   "outputs": [
    {
     "data": {
      "text/html": [
       "2"
      ],
      "text/latex": [
       "2"
      ],
      "text/markdown": [
       "2"
      ],
      "text/plain": [
       "[1] 2"
      ]
     },
     "metadata": {},
     "output_type": "display_data"
    }
   ],
   "source": [
    "tmp_merge_ins_sam_typed_summary %>%\n",
    "  filter(Type == \"Mu1_R\") %>%\n",
    "  pull(n)"
   ]
  },
  {
   "cell_type": "code",
   "execution_count": 20,
   "id": "a587176c-8d85-43d2-a7c0-2aeff7d7d3ee",
   "metadata": {
    "collapsed": true,
    "jupyter": {
     "outputs_hidden": true
    },
    "tags": []
   },
   "outputs": [
    {
     "ename": "ERROR",
     "evalue": "Error in h(simpleError(msg, call)): error in evaluating the argument 'x' in selecting a method for function 'head': object 'ttt' not found\n",
     "output_type": "error",
     "traceback": [
      "Error in h(simpleError(msg, call)): error in evaluating the argument 'x' in selecting a method for function 'head': object 'ttt' not found\nTraceback:\n",
      "1. head(ttt)",
      "2. .handleSimpleError(function (cond) \n . .Internal(C_tryCatchHelper(addr, 1L, cond)), \"object 'ttt' not found\", \n .     base::quote(head(ttt)))",
      "3. h(simpleError(msg, call))"
     ]
    }
   ],
   "source": [
    "head(ttt)"
   ]
  },
  {
   "cell_type": "code",
   "execution_count": null,
   "id": "9f171121-a1cc-401d-a8d4-0654527fb39e",
   "metadata": {},
   "outputs": [],
   "source": []
  },
  {
   "cell_type": "code",
   "execution_count": 38,
   "id": "3b8f60f1-20f4-410b-be46-acc59356612f",
   "metadata": {
    "tags": []
   },
   "outputs": [
    {
     "data": {
      "text/html": [
       "<table class=\"dataframe\">\n",
       "<caption>A data.frame: 6 × 62</caption>\n",
       "<thead>\n",
       "\t<tr><th></th><th scope=col>Chr</th><th scope=col>Start</th><th scope=col>End</th><th scope=col>Sample</th><th scope=col>StartReads</th><th scope=col>EndReads</th><th scope=col>TotalReads</th><th scope=col>Mu1_L</th><th scope=col>Mu1_R</th><th scope=col>Mu2_L</th><th scope=col>⋯</th><th scope=col>Mu11_total</th><th scope=col>Mu12_total</th><th scope=col>Mu13_total</th><th scope=col>Mu14_total</th><th scope=col>Mu15_total</th><th scope=col>Mu16_total</th><th scope=col>Mu17_total</th><th scope=col>Mu18_total</th><th scope=col>Mu19_total</th><th scope=col>uncategorized</th></tr>\n",
       "\t<tr><th></th><th scope=col>&lt;chr&gt;</th><th scope=col>&lt;int&gt;</th><th scope=col>&lt;int&gt;</th><th scope=col>&lt;chr&gt;</th><th scope=col>&lt;int&gt;</th><th scope=col>&lt;int&gt;</th><th scope=col>&lt;int&gt;</th><th scope=col>&lt;dbl&gt;</th><th scope=col>&lt;dbl&gt;</th><th scope=col>&lt;dbl&gt;</th><th scope=col>⋯</th><th scope=col>&lt;dbl&gt;</th><th scope=col>&lt;dbl&gt;</th><th scope=col>&lt;dbl&gt;</th><th scope=col>&lt;dbl&gt;</th><th scope=col>&lt;dbl&gt;</th><th scope=col>&lt;dbl&gt;</th><th scope=col>&lt;dbl&gt;</th><th scope=col>&lt;dbl&gt;</th><th scope=col>&lt;dbl&gt;</th><th scope=col>&lt;dbl&gt;</th></tr>\n",
       "</thead>\n",
       "<tbody>\n",
       "\t<tr><th scope=row>1</th><td>1</td><td>3124440</td><td>3124448</td><td>Col-01</td><td> 2</td><td>2</td><td> 4</td><td>0</td><td>0</td><td>0</td><td>⋯</td><td>0</td><td>0</td><td>0</td><td>0</td><td>0</td><td>0</td><td>0</td><td>0</td><td>0</td><td> 4</td></tr>\n",
       "\t<tr><th scope=row>2</th><td>1</td><td>3772030</td><td>3772038</td><td>Col-01</td><td> 2</td><td>2</td><td> 4</td><td>2</td><td>2</td><td>0</td><td>⋯</td><td>0</td><td>0</td><td>0</td><td>0</td><td>0</td><td>0</td><td>4</td><td>0</td><td>0</td><td> 0</td></tr>\n",
       "\t<tr><th scope=row>3</th><td>1</td><td>4498708</td><td>4498716</td><td>Col-01</td><td> 8</td><td>5</td><td>13</td><td>0</td><td>2</td><td>0</td><td>⋯</td><td>2</td><td>0</td><td>0</td><td>2</td><td>0</td><td>2</td><td>4</td><td>0</td><td>2</td><td> 6</td></tr>\n",
       "\t<tr><th scope=row>4</th><td>1</td><td>4736284</td><td>4736292</td><td>Col-01</td><td> 4</td><td>2</td><td> 6</td><td>0</td><td>0</td><td>0</td><td>⋯</td><td>1</td><td>0</td><td>0</td><td>1</td><td>0</td><td>1</td><td>0</td><td>0</td><td>1</td><td> 3</td></tr>\n",
       "\t<tr><th scope=row>5</th><td>1</td><td>4909718</td><td>4909726</td><td>Col-01</td><td> 9</td><td>8</td><td>17</td><td>0</td><td>2</td><td>0</td><td>⋯</td><td>0</td><td>0</td><td>0</td><td>0</td><td>0</td><td>0</td><td>4</td><td>0</td><td>0</td><td>11</td></tr>\n",
       "\t<tr><th scope=row>6</th><td>1</td><td>8308462</td><td>8308470</td><td>Col-01</td><td>12</td><td>2</td><td>14</td><td>1</td><td>2</td><td>0</td><td>⋯</td><td>0</td><td>0</td><td>0</td><td>0</td><td>0</td><td>0</td><td>4</td><td>0</td><td>0</td><td> 9</td></tr>\n",
       "</tbody>\n",
       "</table>\n"
      ],
      "text/latex": [
       "A data.frame: 6 × 62\n",
       "\\begin{tabular}{r|lllllllllllllllllllll}\n",
       "  & Chr & Start & End & Sample & StartReads & EndReads & TotalReads & Mu1\\_L & Mu1\\_R & Mu2\\_L & ⋯ & Mu11\\_total & Mu12\\_total & Mu13\\_total & Mu14\\_total & Mu15\\_total & Mu16\\_total & Mu17\\_total & Mu18\\_total & Mu19\\_total & uncategorized\\\\\n",
       "  & <chr> & <int> & <int> & <chr> & <int> & <int> & <int> & <dbl> & <dbl> & <dbl> & ⋯ & <dbl> & <dbl> & <dbl> & <dbl> & <dbl> & <dbl> & <dbl> & <dbl> & <dbl> & <dbl>\\\\\n",
       "\\hline\n",
       "\t1 & 1 & 3124440 & 3124448 & Col-01 &  2 & 2 &  4 & 0 & 0 & 0 & ⋯ & 0 & 0 & 0 & 0 & 0 & 0 & 0 & 0 & 0 &  4\\\\\n",
       "\t2 & 1 & 3772030 & 3772038 & Col-01 &  2 & 2 &  4 & 2 & 2 & 0 & ⋯ & 0 & 0 & 0 & 0 & 0 & 0 & 4 & 0 & 0 &  0\\\\\n",
       "\t3 & 1 & 4498708 & 4498716 & Col-01 &  8 & 5 & 13 & 0 & 2 & 0 & ⋯ & 2 & 0 & 0 & 2 & 0 & 2 & 4 & 0 & 2 &  6\\\\\n",
       "\t4 & 1 & 4736284 & 4736292 & Col-01 &  4 & 2 &  6 & 0 & 0 & 0 & ⋯ & 1 & 0 & 0 & 1 & 0 & 1 & 0 & 0 & 1 &  3\\\\\n",
       "\t5 & 1 & 4909718 & 4909726 & Col-01 &  9 & 8 & 17 & 0 & 2 & 0 & ⋯ & 0 & 0 & 0 & 0 & 0 & 0 & 4 & 0 & 0 & 11\\\\\n",
       "\t6 & 1 & 8308462 & 8308470 & Col-01 & 12 & 2 & 14 & 1 & 2 & 0 & ⋯ & 0 & 0 & 0 & 0 & 0 & 0 & 4 & 0 & 0 &  9\\\\\n",
       "\\end{tabular}\n"
      ],
      "text/markdown": [
       "\n",
       "A data.frame: 6 × 62\n",
       "\n",
       "| <!--/--> | Chr &lt;chr&gt; | Start &lt;int&gt; | End &lt;int&gt; | Sample &lt;chr&gt; | StartReads &lt;int&gt; | EndReads &lt;int&gt; | TotalReads &lt;int&gt; | Mu1_L &lt;dbl&gt; | Mu1_R &lt;dbl&gt; | Mu2_L &lt;dbl&gt; | ⋯ ⋯ | Mu11_total &lt;dbl&gt; | Mu12_total &lt;dbl&gt; | Mu13_total &lt;dbl&gt; | Mu14_total &lt;dbl&gt; | Mu15_total &lt;dbl&gt; | Mu16_total &lt;dbl&gt; | Mu17_total &lt;dbl&gt; | Mu18_total &lt;dbl&gt; | Mu19_total &lt;dbl&gt; | uncategorized &lt;dbl&gt; |\n",
       "|---|---|---|---|---|---|---|---|---|---|---|---|---|---|---|---|---|---|---|---|---|---|\n",
       "| 1 | 1 | 3124440 | 3124448 | Col-01 |  2 | 2 |  4 | 0 | 0 | 0 | ⋯ | 0 | 0 | 0 | 0 | 0 | 0 | 0 | 0 | 0 |  4 |\n",
       "| 2 | 1 | 3772030 | 3772038 | Col-01 |  2 | 2 |  4 | 2 | 2 | 0 | ⋯ | 0 | 0 | 0 | 0 | 0 | 0 | 4 | 0 | 0 |  0 |\n",
       "| 3 | 1 | 4498708 | 4498716 | Col-01 |  8 | 5 | 13 | 0 | 2 | 0 | ⋯ | 2 | 0 | 0 | 2 | 0 | 2 | 4 | 0 | 2 |  6 |\n",
       "| 4 | 1 | 4736284 | 4736292 | Col-01 |  4 | 2 |  6 | 0 | 0 | 0 | ⋯ | 1 | 0 | 0 | 1 | 0 | 1 | 0 | 0 | 1 |  3 |\n",
       "| 5 | 1 | 4909718 | 4909726 | Col-01 |  9 | 8 | 17 | 0 | 2 | 0 | ⋯ | 0 | 0 | 0 | 0 | 0 | 0 | 4 | 0 | 0 | 11 |\n",
       "| 6 | 1 | 8308462 | 8308470 | Col-01 | 12 | 2 | 14 | 1 | 2 | 0 | ⋯ | 0 | 0 | 0 | 0 | 0 | 0 | 4 | 0 | 0 |  9 |\n",
       "\n"
      ],
      "text/plain": [
       "  Chr Start   End     Sample StartReads EndReads TotalReads Mu1_L Mu1_R Mu2_L ⋯\n",
       "1 1   3124440 3124448 Col-01  2         2         4         0     0     0     ⋯\n",
       "2 1   3772030 3772038 Col-01  2         2         4         2     2     0     ⋯\n",
       "3 1   4498708 4498716 Col-01  8         5        13         0     2     0     ⋯\n",
       "4 1   4736284 4736292 Col-01  4         2         6         0     0     0     ⋯\n",
       "5 1   4909718 4909726 Col-01  9         8        17         0     2     0     ⋯\n",
       "6 1   8308462 8308470 Col-01 12         2        14         1     2     0     ⋯\n",
       "  Mu11_total Mu12_total Mu13_total Mu14_total Mu15_total Mu16_total Mu17_total\n",
       "1 0          0          0          0          0          0          0         \n",
       "2 0          0          0          0          0          0          4         \n",
       "3 2          0          0          2          0          2          4         \n",
       "4 1          0          0          1          0          1          0         \n",
       "5 0          0          0          0          0          0          4         \n",
       "6 0          0          0          0          0          0          4         \n",
       "  Mu18_total Mu19_total uncategorized\n",
       "1 0          0           4           \n",
       "2 0          0           0           \n",
       "3 0          2           6           \n",
       "4 0          1           3           \n",
       "5 0          0          11           \n",
       "6 0          0           9           "
      ]
     },
     "metadata": {},
     "output_type": "display_data"
    },
    {
     "data": {
      "text/html": [
       "<table class=\"dataframe\">\n",
       "<caption>A rowwise_df: 6 × 66</caption>\n",
       "<thead>\n",
       "\t<tr><th scope=col>Chr</th><th scope=col>Start</th><th scope=col>End</th><th scope=col>Sample</th><th scope=col>StartReads</th><th scope=col>EndReads</th><th scope=col>TotalReads</th><th scope=col>Mu1_L</th><th scope=col>Mu1_R</th><th scope=col>Mu2_L</th><th scope=col>⋯</th><th scope=col>Mu15_total</th><th scope=col>Mu16_total</th><th scope=col>Mu17_total</th><th scope=col>Mu18_total</th><th scope=col>Mu19_total</th><th scope=col>uncategorized</th><th scope=col>all_max_value</th><th scope=col>type_max_value</th><th scope=col>all_n_max_value</th><th scope=col>type_n_max_value</th></tr>\n",
       "\t<tr><th scope=col>&lt;chr&gt;</th><th scope=col>&lt;int&gt;</th><th scope=col>&lt;int&gt;</th><th scope=col>&lt;chr&gt;</th><th scope=col>&lt;int&gt;</th><th scope=col>&lt;int&gt;</th><th scope=col>&lt;int&gt;</th><th scope=col>&lt;dbl&gt;</th><th scope=col>&lt;dbl&gt;</th><th scope=col>&lt;dbl&gt;</th><th scope=col>⋯</th><th scope=col>&lt;dbl&gt;</th><th scope=col>&lt;dbl&gt;</th><th scope=col>&lt;dbl&gt;</th><th scope=col>&lt;dbl&gt;</th><th scope=col>&lt;dbl&gt;</th><th scope=col>&lt;dbl&gt;</th><th scope=col>&lt;dbl&gt;</th><th scope=col>&lt;dbl&gt;</th><th scope=col>&lt;int&gt;</th><th scope=col>&lt;int&gt;</th></tr>\n",
       "</thead>\n",
       "<tbody>\n",
       "\t<tr><td>1</td><td>3124440</td><td>3124448</td><td>Col-01</td><td> 2</td><td>2</td><td> 4</td><td>0</td><td>0</td><td>0</td><td>⋯</td><td>0</td><td>0</td><td>0</td><td>0</td><td>0</td><td> 4</td><td> 4</td><td>0</td><td>2</td><td>0</td></tr>\n",
       "\t<tr><td>1</td><td>3772030</td><td>3772038</td><td>Col-01</td><td> 2</td><td>2</td><td> 4</td><td>2</td><td>2</td><td>0</td><td>⋯</td><td>0</td><td>0</td><td>4</td><td>0</td><td>0</td><td> 0</td><td> 4</td><td>4</td><td>4</td><td>4</td></tr>\n",
       "\t<tr><td>1</td><td>4498708</td><td>4498716</td><td>Col-01</td><td> 8</td><td>5</td><td>13</td><td>0</td><td>2</td><td>0</td><td>⋯</td><td>0</td><td>2</td><td>4</td><td>0</td><td>2</td><td> 6</td><td> 6</td><td>6</td><td>3</td><td>2</td></tr>\n",
       "\t<tr><td>1</td><td>4736284</td><td>4736292</td><td>Col-01</td><td> 4</td><td>2</td><td> 6</td><td>0</td><td>0</td><td>0</td><td>⋯</td><td>0</td><td>1</td><td>0</td><td>0</td><td>1</td><td> 3</td><td> 4</td><td>4</td><td>2</td><td>2</td></tr>\n",
       "\t<tr><td>1</td><td>4909718</td><td>4909726</td><td>Col-01</td><td> 9</td><td>8</td><td>17</td><td>0</td><td>2</td><td>0</td><td>⋯</td><td>0</td><td>0</td><td>4</td><td>0</td><td>0</td><td>11</td><td>11</td><td>8</td><td>2</td><td>2</td></tr>\n",
       "\t<tr><td>1</td><td>8308462</td><td>8308470</td><td>Col-01</td><td>12</td><td>2</td><td>14</td><td>1</td><td>2</td><td>0</td><td>⋯</td><td>0</td><td>0</td><td>4</td><td>0</td><td>0</td><td> 9</td><td> 9</td><td>4</td><td>2</td><td>4</td></tr>\n",
       "</tbody>\n",
       "</table>\n"
      ],
      "text/latex": [
       "A rowwise\\_df: 6 × 66\n",
       "\\begin{tabular}{lllllllllllllllllllll}\n",
       " Chr & Start & End & Sample & StartReads & EndReads & TotalReads & Mu1\\_L & Mu1\\_R & Mu2\\_L & ⋯ & Mu15\\_total & Mu16\\_total & Mu17\\_total & Mu18\\_total & Mu19\\_total & uncategorized & all\\_max\\_value & type\\_max\\_value & all\\_n\\_max\\_value & type\\_n\\_max\\_value\\\\\n",
       " <chr> & <int> & <int> & <chr> & <int> & <int> & <int> & <dbl> & <dbl> & <dbl> & ⋯ & <dbl> & <dbl> & <dbl> & <dbl> & <dbl> & <dbl> & <dbl> & <dbl> & <int> & <int>\\\\\n",
       "\\hline\n",
       "\t 1 & 3124440 & 3124448 & Col-01 &  2 & 2 &  4 & 0 & 0 & 0 & ⋯ & 0 & 0 & 0 & 0 & 0 &  4 &  4 & 0 & 2 & 0\\\\\n",
       "\t 1 & 3772030 & 3772038 & Col-01 &  2 & 2 &  4 & 2 & 2 & 0 & ⋯ & 0 & 0 & 4 & 0 & 0 &  0 &  4 & 4 & 4 & 4\\\\\n",
       "\t 1 & 4498708 & 4498716 & Col-01 &  8 & 5 & 13 & 0 & 2 & 0 & ⋯ & 0 & 2 & 4 & 0 & 2 &  6 &  6 & 6 & 3 & 2\\\\\n",
       "\t 1 & 4736284 & 4736292 & Col-01 &  4 & 2 &  6 & 0 & 0 & 0 & ⋯ & 0 & 1 & 0 & 0 & 1 &  3 &  4 & 4 & 2 & 2\\\\\n",
       "\t 1 & 4909718 & 4909726 & Col-01 &  9 & 8 & 17 & 0 & 2 & 0 & ⋯ & 0 & 0 & 4 & 0 & 0 & 11 & 11 & 8 & 2 & 2\\\\\n",
       "\t 1 & 8308462 & 8308470 & Col-01 & 12 & 2 & 14 & 1 & 2 & 0 & ⋯ & 0 & 0 & 4 & 0 & 0 &  9 &  9 & 4 & 2 & 4\\\\\n",
       "\\end{tabular}\n"
      ],
      "text/markdown": [
       "\n",
       "A rowwise_df: 6 × 66\n",
       "\n",
       "| Chr &lt;chr&gt; | Start &lt;int&gt; | End &lt;int&gt; | Sample &lt;chr&gt; | StartReads &lt;int&gt; | EndReads &lt;int&gt; | TotalReads &lt;int&gt; | Mu1_L &lt;dbl&gt; | Mu1_R &lt;dbl&gt; | Mu2_L &lt;dbl&gt; | ⋯ ⋯ | Mu15_total &lt;dbl&gt; | Mu16_total &lt;dbl&gt; | Mu17_total &lt;dbl&gt; | Mu18_total &lt;dbl&gt; | Mu19_total &lt;dbl&gt; | uncategorized &lt;dbl&gt; | all_max_value &lt;dbl&gt; | type_max_value &lt;dbl&gt; | all_n_max_value &lt;int&gt; | type_n_max_value &lt;int&gt; |\n",
       "|---|---|---|---|---|---|---|---|---|---|---|---|---|---|---|---|---|---|---|---|---|\n",
       "| 1 | 3124440 | 3124448 | Col-01 |  2 | 2 |  4 | 0 | 0 | 0 | ⋯ | 0 | 0 | 0 | 0 | 0 |  4 |  4 | 0 | 2 | 0 |\n",
       "| 1 | 3772030 | 3772038 | Col-01 |  2 | 2 |  4 | 2 | 2 | 0 | ⋯ | 0 | 0 | 4 | 0 | 0 |  0 |  4 | 4 | 4 | 4 |\n",
       "| 1 | 4498708 | 4498716 | Col-01 |  8 | 5 | 13 | 0 | 2 | 0 | ⋯ | 0 | 2 | 4 | 0 | 2 |  6 |  6 | 6 | 3 | 2 |\n",
       "| 1 | 4736284 | 4736292 | Col-01 |  4 | 2 |  6 | 0 | 0 | 0 | ⋯ | 0 | 1 | 0 | 0 | 1 |  3 |  4 | 4 | 2 | 2 |\n",
       "| 1 | 4909718 | 4909726 | Col-01 |  9 | 8 | 17 | 0 | 2 | 0 | ⋯ | 0 | 0 | 4 | 0 | 0 | 11 | 11 | 8 | 2 | 2 |\n",
       "| 1 | 8308462 | 8308470 | Col-01 | 12 | 2 | 14 | 1 | 2 | 0 | ⋯ | 0 | 0 | 4 | 0 | 0 |  9 |  9 | 4 | 2 | 4 |\n",
       "\n"
      ],
      "text/plain": [
       "  Chr Start   End     Sample StartReads EndReads TotalReads Mu1_L Mu1_R Mu2_L ⋯\n",
       "1 1   3124440 3124448 Col-01  2         2         4         0     0     0     ⋯\n",
       "2 1   3772030 3772038 Col-01  2         2         4         2     2     0     ⋯\n",
       "3 1   4498708 4498716 Col-01  8         5        13         0     2     0     ⋯\n",
       "4 1   4736284 4736292 Col-01  4         2         6         0     0     0     ⋯\n",
       "5 1   4909718 4909726 Col-01  9         8        17         0     2     0     ⋯\n",
       "6 1   8308462 8308470 Col-01 12         2        14         1     2     0     ⋯\n",
       "  Mu15_total Mu16_total Mu17_total Mu18_total Mu19_total uncategorized\n",
       "1 0          0          0          0          0           4           \n",
       "2 0          0          4          0          0           0           \n",
       "3 0          2          4          0          2           6           \n",
       "4 0          1          0          0          1           3           \n",
       "5 0          0          4          0          0          11           \n",
       "6 0          0          4          0          0           9           \n",
       "  all_max_value type_max_value all_n_max_value type_n_max_value\n",
       "1  4            0              2               0               \n",
       "2  4            4              4               4               \n",
       "3  6            6              3               2               \n",
       "4  4            4              2               2               \n",
       "5 11            8              2               2               \n",
       "6  9            4              2               4               "
      ]
     },
     "metadata": {},
     "output_type": "display_data"
    },
    {
     "data": {
      "text/html": [
       "<table class=\"dataframe\">\n",
       "<caption>A rowwise_df: 1 × 18</caption>\n",
       "<thead>\n",
       "\t<tr><th scope=col>Mu1_total</th><th scope=col>Mu2_total</th><th scope=col>Mu3_total</th><th scope=col>Mu4_total</th><th scope=col>Mu5_total</th><th scope=col>Mu7_total</th><th scope=col>Mu8_total</th><th scope=col>MuDR_total</th><th scope=col>Mu10_total</th><th scope=col>Mu11_total</th><th scope=col>Mu12_total</th><th scope=col>Mu13_total</th><th scope=col>Mu14_total</th><th scope=col>Mu15_total</th><th scope=col>Mu16_total</th><th scope=col>Mu17_total</th><th scope=col>Mu18_total</th><th scope=col>Mu19_total</th></tr>\n",
       "\t<tr><th scope=col>&lt;dbl&gt;</th><th scope=col>&lt;dbl&gt;</th><th scope=col>&lt;dbl&gt;</th><th scope=col>&lt;dbl&gt;</th><th scope=col>&lt;dbl&gt;</th><th scope=col>&lt;dbl&gt;</th><th scope=col>&lt;dbl&gt;</th><th scope=col>&lt;dbl&gt;</th><th scope=col>&lt;dbl&gt;</th><th scope=col>&lt;dbl&gt;</th><th scope=col>&lt;dbl&gt;</th><th scope=col>&lt;dbl&gt;</th><th scope=col>&lt;dbl&gt;</th><th scope=col>&lt;dbl&gt;</th><th scope=col>&lt;dbl&gt;</th><th scope=col>&lt;dbl&gt;</th><th scope=col>&lt;dbl&gt;</th><th scope=col>&lt;dbl&gt;</th></tr>\n",
       "</thead>\n",
       "<tbody>\n",
       "\t<tr><td>0</td><td>0</td><td>0</td><td>0</td><td>0</td><td>0</td><td>0</td><td>0</td><td>0</td><td>0</td><td>0</td><td>0</td><td>0</td><td>0</td><td>0</td><td>0</td><td>0</td><td>0</td></tr>\n",
       "</tbody>\n",
       "</table>\n"
      ],
      "text/latex": [
       "A rowwise\\_df: 1 × 18\n",
       "\\begin{tabular}{llllllllllllllllll}\n",
       " Mu1\\_total & Mu2\\_total & Mu3\\_total & Mu4\\_total & Mu5\\_total & Mu7\\_total & Mu8\\_total & MuDR\\_total & Mu10\\_total & Mu11\\_total & Mu12\\_total & Mu13\\_total & Mu14\\_total & Mu15\\_total & Mu16\\_total & Mu17\\_total & Mu18\\_total & Mu19\\_total\\\\\n",
       " <dbl> & <dbl> & <dbl> & <dbl> & <dbl> & <dbl> & <dbl> & <dbl> & <dbl> & <dbl> & <dbl> & <dbl> & <dbl> & <dbl> & <dbl> & <dbl> & <dbl> & <dbl>\\\\\n",
       "\\hline\n",
       "\t 0 & 0 & 0 & 0 & 0 & 0 & 0 & 0 & 0 & 0 & 0 & 0 & 0 & 0 & 0 & 0 & 0 & 0\\\\\n",
       "\\end{tabular}\n"
      ],
      "text/markdown": [
       "\n",
       "A rowwise_df: 1 × 18\n",
       "\n",
       "| Mu1_total &lt;dbl&gt; | Mu2_total &lt;dbl&gt; | Mu3_total &lt;dbl&gt; | Mu4_total &lt;dbl&gt; | Mu5_total &lt;dbl&gt; | Mu7_total &lt;dbl&gt; | Mu8_total &lt;dbl&gt; | MuDR_total &lt;dbl&gt; | Mu10_total &lt;dbl&gt; | Mu11_total &lt;dbl&gt; | Mu12_total &lt;dbl&gt; | Mu13_total &lt;dbl&gt; | Mu14_total &lt;dbl&gt; | Mu15_total &lt;dbl&gt; | Mu16_total &lt;dbl&gt; | Mu17_total &lt;dbl&gt; | Mu18_total &lt;dbl&gt; | Mu19_total &lt;dbl&gt; |\n",
       "|---|---|---|---|---|---|---|---|---|---|---|---|---|---|---|---|---|---|\n",
       "| 0 | 0 | 0 | 0 | 0 | 0 | 0 | 0 | 0 | 0 | 0 | 0 | 0 | 0 | 0 | 0 | 0 | 0 |\n",
       "\n"
      ],
      "text/plain": [
       "  Mu1_total Mu2_total Mu3_total Mu4_total Mu5_total Mu7_total Mu8_total\n",
       "1 0         0         0         0         0         0         0        \n",
       "  MuDR_total Mu10_total Mu11_total Mu12_total Mu13_total Mu14_total Mu15_total\n",
       "1 0          0          0          0          0          0          0         \n",
       "  Mu16_total Mu17_total Mu18_total Mu19_total\n",
       "1 0          0          0          0         "
      ]
     },
     "metadata": {},
     "output_type": "display_data"
    },
    {
     "data": {
      "text/html": [
       "<table class=\"dataframe\">\n",
       "<caption>A rowwise_df: 6 × 68</caption>\n",
       "<thead>\n",
       "\t<tr><th scope=col>Chr</th><th scope=col>Start</th><th scope=col>End</th><th scope=col>Sample</th><th scope=col>StartReads</th><th scope=col>EndReads</th><th scope=col>TotalReads</th><th scope=col>Mu1_L</th><th scope=col>Mu1_R</th><th scope=col>Mu2_L</th><th scope=col>⋯</th><th scope=col>Mu17_total</th><th scope=col>Mu18_total</th><th scope=col>Mu19_total</th><th scope=col>uncategorized</th><th scope=col>all_max_value</th><th scope=col>type_max_value</th><th scope=col>all_n_max_value</th><th scope=col>type_n_max_value</th><th scope=col>all_TIES</th><th scope=col>type_TIES</th></tr>\n",
       "\t<tr><th scope=col>&lt;chr&gt;</th><th scope=col>&lt;int&gt;</th><th scope=col>&lt;int&gt;</th><th scope=col>&lt;chr&gt;</th><th scope=col>&lt;int&gt;</th><th scope=col>&lt;int&gt;</th><th scope=col>&lt;int&gt;</th><th scope=col>&lt;dbl&gt;</th><th scope=col>&lt;dbl&gt;</th><th scope=col>&lt;dbl&gt;</th><th scope=col>⋯</th><th scope=col>&lt;dbl&gt;</th><th scope=col>&lt;dbl&gt;</th><th scope=col>&lt;dbl&gt;</th><th scope=col>&lt;dbl&gt;</th><th scope=col>&lt;dbl&gt;</th><th scope=col>&lt;dbl&gt;</th><th scope=col>&lt;int&gt;</th><th scope=col>&lt;int&gt;</th><th scope=col>&lt;chr&gt;</th><th scope=col>&lt;chr&gt;</th></tr>\n",
       "</thead>\n",
       "<tbody>\n",
       "\t<tr><td>1</td><td>3124440</td><td>3124448</td><td>Col-01</td><td> 2</td><td>2</td><td> 4</td><td>0</td><td>0</td><td>0</td><td>⋯</td><td>0</td><td>0</td><td>0</td><td> 4</td><td> 4</td><td>0</td><td>2</td><td>0</td><td>WINNER</td><td>NO READS</td></tr>\n",
       "\t<tr><td>1</td><td>3772030</td><td>3772038</td><td>Col-01</td><td> 2</td><td>2</td><td> 4</td><td>2</td><td>2</td><td>0</td><td>⋯</td><td>4</td><td>0</td><td>0</td><td> 0</td><td> 4</td><td>4</td><td>4</td><td>4</td><td>TIED  </td><td>TIED    </td></tr>\n",
       "\t<tr><td>1</td><td>4498708</td><td>4498716</td><td>Col-01</td><td> 8</td><td>5</td><td>13</td><td>0</td><td>2</td><td>0</td><td>⋯</td><td>4</td><td>0</td><td>2</td><td> 6</td><td> 6</td><td>6</td><td>3</td><td>2</td><td>TIED  </td><td>WINNER  </td></tr>\n",
       "\t<tr><td>1</td><td>4736284</td><td>4736292</td><td>Col-01</td><td> 4</td><td>2</td><td> 6</td><td>0</td><td>0</td><td>0</td><td>⋯</td><td>0</td><td>0</td><td>1</td><td> 3</td><td> 4</td><td>4</td><td>2</td><td>2</td><td>WINNER</td><td>WINNER  </td></tr>\n",
       "\t<tr><td>1</td><td>4909718</td><td>4909726</td><td>Col-01</td><td> 9</td><td>8</td><td>17</td><td>0</td><td>2</td><td>0</td><td>⋯</td><td>4</td><td>0</td><td>0</td><td>11</td><td>11</td><td>8</td><td>2</td><td>2</td><td>WINNER</td><td>WINNER  </td></tr>\n",
       "\t<tr><td>1</td><td>8308462</td><td>8308470</td><td>Col-01</td><td>12</td><td>2</td><td>14</td><td>1</td><td>2</td><td>0</td><td>⋯</td><td>4</td><td>0</td><td>0</td><td> 9</td><td> 9</td><td>4</td><td>2</td><td>4</td><td>WINNER</td><td>TIED    </td></tr>\n",
       "</tbody>\n",
       "</table>\n"
      ],
      "text/latex": [
       "A rowwise\\_df: 6 × 68\n",
       "\\begin{tabular}{lllllllllllllllllllll}\n",
       " Chr & Start & End & Sample & StartReads & EndReads & TotalReads & Mu1\\_L & Mu1\\_R & Mu2\\_L & ⋯ & Mu17\\_total & Mu18\\_total & Mu19\\_total & uncategorized & all\\_max\\_value & type\\_max\\_value & all\\_n\\_max\\_value & type\\_n\\_max\\_value & all\\_TIES & type\\_TIES\\\\\n",
       " <chr> & <int> & <int> & <chr> & <int> & <int> & <int> & <dbl> & <dbl> & <dbl> & ⋯ & <dbl> & <dbl> & <dbl> & <dbl> & <dbl> & <dbl> & <int> & <int> & <chr> & <chr>\\\\\n",
       "\\hline\n",
       "\t 1 & 3124440 & 3124448 & Col-01 &  2 & 2 &  4 & 0 & 0 & 0 & ⋯ & 0 & 0 & 0 &  4 &  4 & 0 & 2 & 0 & WINNER & NO READS\\\\\n",
       "\t 1 & 3772030 & 3772038 & Col-01 &  2 & 2 &  4 & 2 & 2 & 0 & ⋯ & 4 & 0 & 0 &  0 &  4 & 4 & 4 & 4 & TIED   & TIED    \\\\\n",
       "\t 1 & 4498708 & 4498716 & Col-01 &  8 & 5 & 13 & 0 & 2 & 0 & ⋯ & 4 & 0 & 2 &  6 &  6 & 6 & 3 & 2 & TIED   & WINNER  \\\\\n",
       "\t 1 & 4736284 & 4736292 & Col-01 &  4 & 2 &  6 & 0 & 0 & 0 & ⋯ & 0 & 0 & 1 &  3 &  4 & 4 & 2 & 2 & WINNER & WINNER  \\\\\n",
       "\t 1 & 4909718 & 4909726 & Col-01 &  9 & 8 & 17 & 0 & 2 & 0 & ⋯ & 4 & 0 & 0 & 11 & 11 & 8 & 2 & 2 & WINNER & WINNER  \\\\\n",
       "\t 1 & 8308462 & 8308470 & Col-01 & 12 & 2 & 14 & 1 & 2 & 0 & ⋯ & 4 & 0 & 0 &  9 &  9 & 4 & 2 & 4 & WINNER & TIED    \\\\\n",
       "\\end{tabular}\n"
      ],
      "text/markdown": [
       "\n",
       "A rowwise_df: 6 × 68\n",
       "\n",
       "| Chr &lt;chr&gt; | Start &lt;int&gt; | End &lt;int&gt; | Sample &lt;chr&gt; | StartReads &lt;int&gt; | EndReads &lt;int&gt; | TotalReads &lt;int&gt; | Mu1_L &lt;dbl&gt; | Mu1_R &lt;dbl&gt; | Mu2_L &lt;dbl&gt; | ⋯ ⋯ | Mu17_total &lt;dbl&gt; | Mu18_total &lt;dbl&gt; | Mu19_total &lt;dbl&gt; | uncategorized &lt;dbl&gt; | all_max_value &lt;dbl&gt; | type_max_value &lt;dbl&gt; | all_n_max_value &lt;int&gt; | type_n_max_value &lt;int&gt; | all_TIES &lt;chr&gt; | type_TIES &lt;chr&gt; |\n",
       "|---|---|---|---|---|---|---|---|---|---|---|---|---|---|---|---|---|---|---|---|---|\n",
       "| 1 | 3124440 | 3124448 | Col-01 |  2 | 2 |  4 | 0 | 0 | 0 | ⋯ | 0 | 0 | 0 |  4 |  4 | 0 | 2 | 0 | WINNER | NO READS |\n",
       "| 1 | 3772030 | 3772038 | Col-01 |  2 | 2 |  4 | 2 | 2 | 0 | ⋯ | 4 | 0 | 0 |  0 |  4 | 4 | 4 | 4 | TIED   | TIED     |\n",
       "| 1 | 4498708 | 4498716 | Col-01 |  8 | 5 | 13 | 0 | 2 | 0 | ⋯ | 4 | 0 | 2 |  6 |  6 | 6 | 3 | 2 | TIED   | WINNER   |\n",
       "| 1 | 4736284 | 4736292 | Col-01 |  4 | 2 |  6 | 0 | 0 | 0 | ⋯ | 0 | 0 | 1 |  3 |  4 | 4 | 2 | 2 | WINNER | WINNER   |\n",
       "| 1 | 4909718 | 4909726 | Col-01 |  9 | 8 | 17 | 0 | 2 | 0 | ⋯ | 4 | 0 | 0 | 11 | 11 | 8 | 2 | 2 | WINNER | WINNER   |\n",
       "| 1 | 8308462 | 8308470 | Col-01 | 12 | 2 | 14 | 1 | 2 | 0 | ⋯ | 4 | 0 | 0 |  9 |  9 | 4 | 2 | 4 | WINNER | TIED     |\n",
       "\n"
      ],
      "text/plain": [
       "  Chr Start   End     Sample StartReads EndReads TotalReads Mu1_L Mu1_R Mu2_L ⋯\n",
       "1 1   3124440 3124448 Col-01  2         2         4         0     0     0     ⋯\n",
       "2 1   3772030 3772038 Col-01  2         2         4         2     2     0     ⋯\n",
       "3 1   4498708 4498716 Col-01  8         5        13         0     2     0     ⋯\n",
       "4 1   4736284 4736292 Col-01  4         2         6         0     0     0     ⋯\n",
       "5 1   4909718 4909726 Col-01  9         8        17         0     2     0     ⋯\n",
       "6 1   8308462 8308470 Col-01 12         2        14         1     2     0     ⋯\n",
       "  Mu17_total Mu18_total Mu19_total uncategorized all_max_value type_max_value\n",
       "1 0          0          0           4             4            0             \n",
       "2 4          0          0           0             4            4             \n",
       "3 4          0          2           6             6            6             \n",
       "4 0          0          1           3             4            4             \n",
       "5 4          0          0          11            11            8             \n",
       "6 4          0          0           9             9            4             \n",
       "  all_n_max_value type_n_max_value all_TIES type_TIES\n",
       "1 2               0                WINNER   NO READS \n",
       "2 4               4                TIED     TIED     \n",
       "3 3               2                TIED     WINNER   \n",
       "4 2               2                WINNER   WINNER   \n",
       "5 2               2                WINNER   WINNER   \n",
       "6 2               4                WINNER   TIED     "
      ]
     },
     "metadata": {},
     "output_type": "display_data"
    },
    {
     "data": {
      "text/html": [
       "<table class=\"dataframe\">\n",
       "<caption>A rowwise_df: 5 × 70</caption>\n",
       "<thead>\n",
       "\t<tr><th scope=col>Chr</th><th scope=col>Start</th><th scope=col>End</th><th scope=col>Sample</th><th scope=col>StartReads</th><th scope=col>EndReads</th><th scope=col>TotalReads</th><th scope=col>Mu1_L</th><th scope=col>Mu1_R</th><th scope=col>Mu2_L</th><th scope=col>⋯</th><th scope=col>Mu19_total</th><th scope=col>uncategorized</th><th scope=col>all_max_value</th><th scope=col>type_max_value</th><th scope=col>all_n_max_value</th><th scope=col>type_n_max_value</th><th scope=col>all_TIES</th><th scope=col>type_TIES</th><th scope=col>all_max_name</th><th scope=col>type_max_name</th></tr>\n",
       "\t<tr><th scope=col>&lt;chr&gt;</th><th scope=col>&lt;int&gt;</th><th scope=col>&lt;int&gt;</th><th scope=col>&lt;chr&gt;</th><th scope=col>&lt;int&gt;</th><th scope=col>&lt;int&gt;</th><th scope=col>&lt;int&gt;</th><th scope=col>&lt;dbl&gt;</th><th scope=col>&lt;dbl&gt;</th><th scope=col>&lt;dbl&gt;</th><th scope=col>⋯</th><th scope=col>&lt;dbl&gt;</th><th scope=col>&lt;dbl&gt;</th><th scope=col>&lt;dbl&gt;</th><th scope=col>&lt;dbl&gt;</th><th scope=col>&lt;int&gt;</th><th scope=col>&lt;int&gt;</th><th scope=col>&lt;chr&gt;</th><th scope=col>&lt;chr&gt;</th><th scope=col>&lt;chr&gt;</th><th scope=col>&lt;chr&gt;</th></tr>\n",
       "</thead>\n",
       "<tbody>\n",
       "\t<tr><td>1</td><td>3124440</td><td>3124448</td><td>Col-01</td><td>2</td><td>2</td><td> 4</td><td>0</td><td>0</td><td>0</td><td>⋯</td><td>0</td><td> 4</td><td> 4</td><td>0</td><td>2</td><td>0</td><td>WINNER</td><td>NO READS</td><td>uncategorized</td><td>NO READS</td></tr>\n",
       "\t<tr><td>1</td><td>3772030</td><td>3772038</td><td>Col-01</td><td>2</td><td>2</td><td> 4</td><td>2</td><td>2</td><td>0</td><td>⋯</td><td>0</td><td> 0</td><td> 4</td><td>4</td><td>4</td><td>4</td><td>TIED  </td><td>TIED    </td><td>TIED         </td><td>TIED    </td></tr>\n",
       "\t<tr><td>1</td><td>4498708</td><td>4498716</td><td>Col-01</td><td>8</td><td>5</td><td>13</td><td>0</td><td>2</td><td>0</td><td>⋯</td><td>2</td><td> 6</td><td> 6</td><td>6</td><td>3</td><td>2</td><td>TIED  </td><td>WINNER  </td><td>TIED         </td><td>MuDR    </td></tr>\n",
       "\t<tr><td>1</td><td>4736284</td><td>4736292</td><td>Col-01</td><td>4</td><td>2</td><td> 6</td><td>0</td><td>0</td><td>0</td><td>⋯</td><td>1</td><td> 3</td><td> 4</td><td>4</td><td>2</td><td>2</td><td>WINNER</td><td>WINNER  </td><td>MuDR         </td><td>MuDR    </td></tr>\n",
       "\t<tr><td>1</td><td>4909718</td><td>4909726</td><td>Col-01</td><td>9</td><td>8</td><td>17</td><td>0</td><td>2</td><td>0</td><td>⋯</td><td>0</td><td>11</td><td>11</td><td>8</td><td>2</td><td>2</td><td>WINNER</td><td>WINNER  </td><td>uncategorized</td><td>Mu4     </td></tr>\n",
       "</tbody>\n",
       "</table>\n"
      ],
      "text/latex": [
       "A rowwise\\_df: 5 × 70\n",
       "\\begin{tabular}{lllllllllllllllllllll}\n",
       " Chr & Start & End & Sample & StartReads & EndReads & TotalReads & Mu1\\_L & Mu1\\_R & Mu2\\_L & ⋯ & Mu19\\_total & uncategorized & all\\_max\\_value & type\\_max\\_value & all\\_n\\_max\\_value & type\\_n\\_max\\_value & all\\_TIES & type\\_TIES & all\\_max\\_name & type\\_max\\_name\\\\\n",
       " <chr> & <int> & <int> & <chr> & <int> & <int> & <int> & <dbl> & <dbl> & <dbl> & ⋯ & <dbl> & <dbl> & <dbl> & <dbl> & <int> & <int> & <chr> & <chr> & <chr> & <chr>\\\\\n",
       "\\hline\n",
       "\t 1 & 3124440 & 3124448 & Col-01 & 2 & 2 &  4 & 0 & 0 & 0 & ⋯ & 0 &  4 &  4 & 0 & 2 & 0 & WINNER & NO READS & uncategorized & NO READS\\\\\n",
       "\t 1 & 3772030 & 3772038 & Col-01 & 2 & 2 &  4 & 2 & 2 & 0 & ⋯ & 0 &  0 &  4 & 4 & 4 & 4 & TIED   & TIED     & TIED          & TIED    \\\\\n",
       "\t 1 & 4498708 & 4498716 & Col-01 & 8 & 5 & 13 & 0 & 2 & 0 & ⋯ & 2 &  6 &  6 & 6 & 3 & 2 & TIED   & WINNER   & TIED          & MuDR    \\\\\n",
       "\t 1 & 4736284 & 4736292 & Col-01 & 4 & 2 &  6 & 0 & 0 & 0 & ⋯ & 1 &  3 &  4 & 4 & 2 & 2 & WINNER & WINNER   & MuDR          & MuDR    \\\\\n",
       "\t 1 & 4909718 & 4909726 & Col-01 & 9 & 8 & 17 & 0 & 2 & 0 & ⋯ & 0 & 11 & 11 & 8 & 2 & 2 & WINNER & WINNER   & uncategorized & Mu4     \\\\\n",
       "\\end{tabular}\n"
      ],
      "text/markdown": [
       "\n",
       "A rowwise_df: 5 × 70\n",
       "\n",
       "| Chr &lt;chr&gt; | Start &lt;int&gt; | End &lt;int&gt; | Sample &lt;chr&gt; | StartReads &lt;int&gt; | EndReads &lt;int&gt; | TotalReads &lt;int&gt; | Mu1_L &lt;dbl&gt; | Mu1_R &lt;dbl&gt; | Mu2_L &lt;dbl&gt; | ⋯ ⋯ | Mu19_total &lt;dbl&gt; | uncategorized &lt;dbl&gt; | all_max_value &lt;dbl&gt; | type_max_value &lt;dbl&gt; | all_n_max_value &lt;int&gt; | type_n_max_value &lt;int&gt; | all_TIES &lt;chr&gt; | type_TIES &lt;chr&gt; | all_max_name &lt;chr&gt; | type_max_name &lt;chr&gt; |\n",
       "|---|---|---|---|---|---|---|---|---|---|---|---|---|---|---|---|---|---|---|---|---|\n",
       "| 1 | 3124440 | 3124448 | Col-01 | 2 | 2 |  4 | 0 | 0 | 0 | ⋯ | 0 |  4 |  4 | 0 | 2 | 0 | WINNER | NO READS | uncategorized | NO READS |\n",
       "| 1 | 3772030 | 3772038 | Col-01 | 2 | 2 |  4 | 2 | 2 | 0 | ⋯ | 0 |  0 |  4 | 4 | 4 | 4 | TIED   | TIED     | TIED          | TIED     |\n",
       "| 1 | 4498708 | 4498716 | Col-01 | 8 | 5 | 13 | 0 | 2 | 0 | ⋯ | 2 |  6 |  6 | 6 | 3 | 2 | TIED   | WINNER   | TIED          | MuDR     |\n",
       "| 1 | 4736284 | 4736292 | Col-01 | 4 | 2 |  6 | 0 | 0 | 0 | ⋯ | 1 |  3 |  4 | 4 | 2 | 2 | WINNER | WINNER   | MuDR          | MuDR     |\n",
       "| 1 | 4909718 | 4909726 | Col-01 | 9 | 8 | 17 | 0 | 2 | 0 | ⋯ | 0 | 11 | 11 | 8 | 2 | 2 | WINNER | WINNER   | uncategorized | Mu4      |\n",
       "\n"
      ],
      "text/plain": [
       "  Chr Start   End     Sample StartReads EndReads TotalReads Mu1_L Mu1_R Mu2_L ⋯\n",
       "1 1   3124440 3124448 Col-01 2          2         4         0     0     0     ⋯\n",
       "2 1   3772030 3772038 Col-01 2          2         4         2     2     0     ⋯\n",
       "3 1   4498708 4498716 Col-01 8          5        13         0     2     0     ⋯\n",
       "4 1   4736284 4736292 Col-01 4          2         6         0     0     0     ⋯\n",
       "5 1   4909718 4909726 Col-01 9          8        17         0     2     0     ⋯\n",
       "  Mu19_total uncategorized all_max_value type_max_value all_n_max_value\n",
       "1 0           4             4            0              2              \n",
       "2 0           0             4            4              4              \n",
       "3 2           6             6            6              3              \n",
       "4 1           3             4            4              2              \n",
       "5 0          11            11            8              2              \n",
       "  type_n_max_value all_TIES type_TIES all_max_name  type_max_name\n",
       "1 0                WINNER   NO READS  uncategorized NO READS     \n",
       "2 4                TIED     TIED      TIED          TIED         \n",
       "3 2                TIED     WINNER    TIED          MuDR         \n",
       "4 2                WINNER   WINNER    MuDR          MuDR         \n",
       "5 2                WINNER   WINNER    uncategorized Mu4          "
      ]
     },
     "metadata": {},
     "output_type": "display_data"
    },
    {
     "data": {
      "text/html": [
       "<table class=\"dataframe\">\n",
       "<caption>A rowwise_df: 6 × 72</caption>\n",
       "<thead>\n",
       "\t<tr><th scope=col>Chr</th><th scope=col>Start</th><th scope=col>End</th><th scope=col>Sample</th><th scope=col>StartReads</th><th scope=col>EndReads</th><th scope=col>TotalReads</th><th scope=col>Mu1_L</th><th scope=col>Mu1_R</th><th scope=col>Mu2_L</th><th scope=col>⋯</th><th scope=col>all_max_value</th><th scope=col>type_max_value</th><th scope=col>all_n_max_value</th><th scope=col>type_n_max_value</th><th scope=col>all_TIES</th><th scope=col>type_TIES</th><th scope=col>all_max_name</th><th scope=col>type_max_name</th><th scope=col>perc_uncategorized</th><th scope=col>perc_best_type</th></tr>\n",
       "\t<tr><th scope=col>&lt;chr&gt;</th><th scope=col>&lt;int&gt;</th><th scope=col>&lt;int&gt;</th><th scope=col>&lt;chr&gt;</th><th scope=col>&lt;int&gt;</th><th scope=col>&lt;int&gt;</th><th scope=col>&lt;int&gt;</th><th scope=col>&lt;dbl&gt;</th><th scope=col>&lt;dbl&gt;</th><th scope=col>&lt;dbl&gt;</th><th scope=col>⋯</th><th scope=col>&lt;dbl&gt;</th><th scope=col>&lt;dbl&gt;</th><th scope=col>&lt;int&gt;</th><th scope=col>&lt;int&gt;</th><th scope=col>&lt;chr&gt;</th><th scope=col>&lt;chr&gt;</th><th scope=col>&lt;chr&gt;</th><th scope=col>&lt;chr&gt;</th><th scope=col>&lt;dbl&gt;</th><th scope=col>&lt;dbl&gt;</th></tr>\n",
       "</thead>\n",
       "<tbody>\n",
       "\t<tr><td>1</td><td>3124440</td><td>3124448</td><td>Col-01</td><td> 2</td><td>2</td><td> 4</td><td>0</td><td>0</td><td>0</td><td>⋯</td><td> 4</td><td>0</td><td>2</td><td>0</td><td>WINNER</td><td>NO READS</td><td>uncategorized</td><td>NO READS</td><td>1.0000000</td><td>0.0000000</td></tr>\n",
       "\t<tr><td>1</td><td>3772030</td><td>3772038</td><td>Col-01</td><td> 2</td><td>2</td><td> 4</td><td>2</td><td>2</td><td>0</td><td>⋯</td><td> 4</td><td>4</td><td>4</td><td>4</td><td>TIED  </td><td>TIED    </td><td>TIED         </td><td>TIED    </td><td>0.0000000</td><td>1.0000000</td></tr>\n",
       "\t<tr><td>1</td><td>4498708</td><td>4498716</td><td>Col-01</td><td> 8</td><td>5</td><td>13</td><td>0</td><td>2</td><td>0</td><td>⋯</td><td> 6</td><td>6</td><td>3</td><td>2</td><td>TIED  </td><td>WINNER  </td><td>TIED         </td><td>MuDR    </td><td>0.4615385</td><td>0.4615385</td></tr>\n",
       "\t<tr><td>1</td><td>4736284</td><td>4736292</td><td>Col-01</td><td> 4</td><td>2</td><td> 6</td><td>0</td><td>0</td><td>0</td><td>⋯</td><td> 4</td><td>4</td><td>2</td><td>2</td><td>WINNER</td><td>WINNER  </td><td>MuDR         </td><td>MuDR    </td><td>0.5000000</td><td>0.6666667</td></tr>\n",
       "\t<tr><td>1</td><td>4909718</td><td>4909726</td><td>Col-01</td><td> 9</td><td>8</td><td>17</td><td>0</td><td>2</td><td>0</td><td>⋯</td><td>11</td><td>8</td><td>2</td><td>2</td><td>WINNER</td><td>WINNER  </td><td>uncategorized</td><td>Mu4     </td><td>0.6470588</td><td>0.4705882</td></tr>\n",
       "\t<tr><td>1</td><td>8308462</td><td>8308470</td><td>Col-01</td><td>12</td><td>2</td><td>14</td><td>1</td><td>2</td><td>0</td><td>⋯</td><td> 9</td><td>4</td><td>2</td><td>4</td><td>WINNER</td><td>TIED    </td><td>uncategorized</td><td>TIED    </td><td>0.6428571</td><td>0.2857143</td></tr>\n",
       "</tbody>\n",
       "</table>\n"
      ],
      "text/latex": [
       "A rowwise\\_df: 6 × 72\n",
       "\\begin{tabular}{lllllllllllllllllllll}\n",
       " Chr & Start & End & Sample & StartReads & EndReads & TotalReads & Mu1\\_L & Mu1\\_R & Mu2\\_L & ⋯ & all\\_max\\_value & type\\_max\\_value & all\\_n\\_max\\_value & type\\_n\\_max\\_value & all\\_TIES & type\\_TIES & all\\_max\\_name & type\\_max\\_name & perc\\_uncategorized & perc\\_best\\_type\\\\\n",
       " <chr> & <int> & <int> & <chr> & <int> & <int> & <int> & <dbl> & <dbl> & <dbl> & ⋯ & <dbl> & <dbl> & <int> & <int> & <chr> & <chr> & <chr> & <chr> & <dbl> & <dbl>\\\\\n",
       "\\hline\n",
       "\t 1 & 3124440 & 3124448 & Col-01 &  2 & 2 &  4 & 0 & 0 & 0 & ⋯ &  4 & 0 & 2 & 0 & WINNER & NO READS & uncategorized & NO READS & 1.0000000 & 0.0000000\\\\\n",
       "\t 1 & 3772030 & 3772038 & Col-01 &  2 & 2 &  4 & 2 & 2 & 0 & ⋯ &  4 & 4 & 4 & 4 & TIED   & TIED     & TIED          & TIED     & 0.0000000 & 1.0000000\\\\\n",
       "\t 1 & 4498708 & 4498716 & Col-01 &  8 & 5 & 13 & 0 & 2 & 0 & ⋯ &  6 & 6 & 3 & 2 & TIED   & WINNER   & TIED          & MuDR     & 0.4615385 & 0.4615385\\\\\n",
       "\t 1 & 4736284 & 4736292 & Col-01 &  4 & 2 &  6 & 0 & 0 & 0 & ⋯ &  4 & 4 & 2 & 2 & WINNER & WINNER   & MuDR          & MuDR     & 0.5000000 & 0.6666667\\\\\n",
       "\t 1 & 4909718 & 4909726 & Col-01 &  9 & 8 & 17 & 0 & 2 & 0 & ⋯ & 11 & 8 & 2 & 2 & WINNER & WINNER   & uncategorized & Mu4      & 0.6470588 & 0.4705882\\\\\n",
       "\t 1 & 8308462 & 8308470 & Col-01 & 12 & 2 & 14 & 1 & 2 & 0 & ⋯ &  9 & 4 & 2 & 4 & WINNER & TIED     & uncategorized & TIED     & 0.6428571 & 0.2857143\\\\\n",
       "\\end{tabular}\n"
      ],
      "text/markdown": [
       "\n",
       "A rowwise_df: 6 × 72\n",
       "\n",
       "| Chr &lt;chr&gt; | Start &lt;int&gt; | End &lt;int&gt; | Sample &lt;chr&gt; | StartReads &lt;int&gt; | EndReads &lt;int&gt; | TotalReads &lt;int&gt; | Mu1_L &lt;dbl&gt; | Mu1_R &lt;dbl&gt; | Mu2_L &lt;dbl&gt; | ⋯ ⋯ | all_max_value &lt;dbl&gt; | type_max_value &lt;dbl&gt; | all_n_max_value &lt;int&gt; | type_n_max_value &lt;int&gt; | all_TIES &lt;chr&gt; | type_TIES &lt;chr&gt; | all_max_name &lt;chr&gt; | type_max_name &lt;chr&gt; | perc_uncategorized &lt;dbl&gt; | perc_best_type &lt;dbl&gt; |\n",
       "|---|---|---|---|---|---|---|---|---|---|---|---|---|---|---|---|---|---|---|---|---|\n",
       "| 1 | 3124440 | 3124448 | Col-01 |  2 | 2 |  4 | 0 | 0 | 0 | ⋯ |  4 | 0 | 2 | 0 | WINNER | NO READS | uncategorized | NO READS | 1.0000000 | 0.0000000 |\n",
       "| 1 | 3772030 | 3772038 | Col-01 |  2 | 2 |  4 | 2 | 2 | 0 | ⋯ |  4 | 4 | 4 | 4 | TIED   | TIED     | TIED          | TIED     | 0.0000000 | 1.0000000 |\n",
       "| 1 | 4498708 | 4498716 | Col-01 |  8 | 5 | 13 | 0 | 2 | 0 | ⋯ |  6 | 6 | 3 | 2 | TIED   | WINNER   | TIED          | MuDR     | 0.4615385 | 0.4615385 |\n",
       "| 1 | 4736284 | 4736292 | Col-01 |  4 | 2 |  6 | 0 | 0 | 0 | ⋯ |  4 | 4 | 2 | 2 | WINNER | WINNER   | MuDR          | MuDR     | 0.5000000 | 0.6666667 |\n",
       "| 1 | 4909718 | 4909726 | Col-01 |  9 | 8 | 17 | 0 | 2 | 0 | ⋯ | 11 | 8 | 2 | 2 | WINNER | WINNER   | uncategorized | Mu4      | 0.6470588 | 0.4705882 |\n",
       "| 1 | 8308462 | 8308470 | Col-01 | 12 | 2 | 14 | 1 | 2 | 0 | ⋯ |  9 | 4 | 2 | 4 | WINNER | TIED     | uncategorized | TIED     | 0.6428571 | 0.2857143 |\n",
       "\n"
      ],
      "text/plain": [
       "  Chr Start   End     Sample StartReads EndReads TotalReads Mu1_L Mu1_R Mu2_L ⋯\n",
       "1 1   3124440 3124448 Col-01  2         2         4         0     0     0     ⋯\n",
       "2 1   3772030 3772038 Col-01  2         2         4         2     2     0     ⋯\n",
       "3 1   4498708 4498716 Col-01  8         5        13         0     2     0     ⋯\n",
       "4 1   4736284 4736292 Col-01  4         2         6         0     0     0     ⋯\n",
       "5 1   4909718 4909726 Col-01  9         8        17         0     2     0     ⋯\n",
       "6 1   8308462 8308470 Col-01 12         2        14         1     2     0     ⋯\n",
       "  all_max_value type_max_value all_n_max_value type_n_max_value all_TIES\n",
       "1  4            0              2               0                WINNER  \n",
       "2  4            4              4               4                TIED    \n",
       "3  6            6              3               2                TIED    \n",
       "4  4            4              2               2                WINNER  \n",
       "5 11            8              2               2                WINNER  \n",
       "6  9            4              2               4                WINNER  \n",
       "  type_TIES all_max_name  type_max_name perc_uncategorized perc_best_type\n",
       "1 NO READS  uncategorized NO READS      1.0000000          0.0000000     \n",
       "2 TIED      TIED          TIED          0.0000000          1.0000000     \n",
       "3 WINNER    TIED          MuDR          0.4615385          0.4615385     \n",
       "4 WINNER    MuDR          MuDR          0.5000000          0.6666667     \n",
       "5 WINNER    uncategorized Mu4           0.6470588          0.4705882     \n",
       "6 TIED      uncategorized TIED          0.6428571          0.2857143     "
      ]
     },
     "metadata": {},
     "output_type": "display_data"
    },
    {
     "data": {
      "text/html": [
       "<table class=\"dataframe\">\n",
       "<caption>A rowwise_df: 5 × 74</caption>\n",
       "<thead>\n",
       "\t<tr><th scope=col>Chr</th><th scope=col>Start</th><th scope=col>End</th><th scope=col>Sample</th><th scope=col>StartReads</th><th scope=col>EndReads</th><th scope=col>TotalReads</th><th scope=col>Mu1_L</th><th scope=col>Mu1_R</th><th scope=col>Mu2_L</th><th scope=col>⋯</th><th scope=col>all_n_max_value</th><th scope=col>type_n_max_value</th><th scope=col>all_TIES</th><th scope=col>type_TIES</th><th scope=col>all_max_name</th><th scope=col>type_max_name</th><th scope=col>perc_uncategorized</th><th scope=col>perc_best_type</th><th scope=col>all_candidates</th><th scope=col>type_candidates</th></tr>\n",
       "\t<tr><th scope=col>&lt;chr&gt;</th><th scope=col>&lt;int&gt;</th><th scope=col>&lt;int&gt;</th><th scope=col>&lt;chr&gt;</th><th scope=col>&lt;int&gt;</th><th scope=col>&lt;int&gt;</th><th scope=col>&lt;int&gt;</th><th scope=col>&lt;dbl&gt;</th><th scope=col>&lt;dbl&gt;</th><th scope=col>&lt;dbl&gt;</th><th scope=col>⋯</th><th scope=col>&lt;int&gt;</th><th scope=col>&lt;int&gt;</th><th scope=col>&lt;chr&gt;</th><th scope=col>&lt;chr&gt;</th><th scope=col>&lt;chr&gt;</th><th scope=col>&lt;chr&gt;</th><th scope=col>&lt;dbl&gt;</th><th scope=col>&lt;dbl&gt;</th><th scope=col>&lt;list&gt;</th><th scope=col>&lt;list&gt;</th></tr>\n",
       "</thead>\n",
       "<tbody>\n",
       "\t<tr><td>1</td><td>3124440</td><td>3124448</td><td>Col-01</td><td>2</td><td>2</td><td> 4</td><td>0</td><td>0</td><td>0</td><td>⋯</td><td>2</td><td>0</td><td>WINNER</td><td>NO READS</td><td>uncategorized</td><td>NO READS</td><td>1.0000000</td><td>0.0000000</td><td>uncategorized</td><td>NA</td></tr>\n",
       "\t<tr><td>1</td><td>3772030</td><td>3772038</td><td>Col-01</td><td>2</td><td>2</td><td> 4</td><td>2</td><td>2</td><td>0</td><td>⋯</td><td>4</td><td>4</td><td>TIED  </td><td>TIED    </td><td>TIED         </td><td>TIED    </td><td>0.0000000</td><td>1.0000000</td><td>Mu1 , Mu7 , Mu17</td><td>Mu1 , Mu7 , Mu17</td></tr>\n",
       "\t<tr><td>1</td><td>4498708</td><td>4498716</td><td>Col-01</td><td>8</td><td>5</td><td>13</td><td>0</td><td>2</td><td>0</td><td>⋯</td><td>3</td><td>2</td><td>TIED  </td><td>WINNER  </td><td>TIED         </td><td>MuDR    </td><td>0.4615385</td><td>0.4615385</td><td>MuDR         , uncategorized</td><td>MuDR</td></tr>\n",
       "\t<tr><td>1</td><td>4736284</td><td>4736292</td><td>Col-01</td><td>4</td><td>2</td><td> 6</td><td>0</td><td>0</td><td>0</td><td>⋯</td><td>2</td><td>2</td><td>WINNER</td><td>WINNER  </td><td>MuDR         </td><td>MuDR    </td><td>0.5000000</td><td>0.6666667</td><td>MuDR</td><td>MuDR</td></tr>\n",
       "\t<tr><td>1</td><td>4909718</td><td>4909726</td><td>Col-01</td><td>9</td><td>8</td><td>17</td><td>0</td><td>2</td><td>0</td><td>⋯</td><td>2</td><td>2</td><td>WINNER</td><td>WINNER  </td><td>uncategorized</td><td>Mu4     </td><td>0.6470588</td><td>0.4705882</td><td>Mu4          , uncategorized</td><td>Mu4</td></tr>\n",
       "</tbody>\n",
       "</table>\n"
      ],
      "text/latex": [
       "A rowwise\\_df: 5 × 74\n",
       "\\begin{tabular}{lllllllllllllllllllll}\n",
       " Chr & Start & End & Sample & StartReads & EndReads & TotalReads & Mu1\\_L & Mu1\\_R & Mu2\\_L & ⋯ & all\\_n\\_max\\_value & type\\_n\\_max\\_value & all\\_TIES & type\\_TIES & all\\_max\\_name & type\\_max\\_name & perc\\_uncategorized & perc\\_best\\_type & all\\_candidates & type\\_candidates\\\\\n",
       " <chr> & <int> & <int> & <chr> & <int> & <int> & <int> & <dbl> & <dbl> & <dbl> & ⋯ & <int> & <int> & <chr> & <chr> & <chr> & <chr> & <dbl> & <dbl> & <list> & <list>\\\\\n",
       "\\hline\n",
       "\t 1 & 3124440 & 3124448 & Col-01 & 2 & 2 &  4 & 0 & 0 & 0 & ⋯ & 2 & 0 & WINNER & NO READS & uncategorized & NO READS & 1.0000000 & 0.0000000 & uncategorized & NA\\\\\n",
       "\t 1 & 3772030 & 3772038 & Col-01 & 2 & 2 &  4 & 2 & 2 & 0 & ⋯ & 4 & 4 & TIED   & TIED     & TIED          & TIED     & 0.0000000 & 1.0000000 & Mu1 , Mu7 , Mu17 & Mu1 , Mu7 , Mu17\\\\\n",
       "\t 1 & 4498708 & 4498716 & Col-01 & 8 & 5 & 13 & 0 & 2 & 0 & ⋯ & 3 & 2 & TIED   & WINNER   & TIED          & MuDR     & 0.4615385 & 0.4615385 & MuDR         , uncategorized & MuDR\\\\\n",
       "\t 1 & 4736284 & 4736292 & Col-01 & 4 & 2 &  6 & 0 & 0 & 0 & ⋯ & 2 & 2 & WINNER & WINNER   & MuDR          & MuDR     & 0.5000000 & 0.6666667 & MuDR & MuDR\\\\\n",
       "\t 1 & 4909718 & 4909726 & Col-01 & 9 & 8 & 17 & 0 & 2 & 0 & ⋯ & 2 & 2 & WINNER & WINNER   & uncategorized & Mu4      & 0.6470588 & 0.4705882 & Mu4          , uncategorized & Mu4\\\\\n",
       "\\end{tabular}\n"
      ],
      "text/markdown": [
       "\n",
       "A rowwise_df: 5 × 74\n",
       "\n",
       "| Chr &lt;chr&gt; | Start &lt;int&gt; | End &lt;int&gt; | Sample &lt;chr&gt; | StartReads &lt;int&gt; | EndReads &lt;int&gt; | TotalReads &lt;int&gt; | Mu1_L &lt;dbl&gt; | Mu1_R &lt;dbl&gt; | Mu2_L &lt;dbl&gt; | ⋯ ⋯ | all_n_max_value &lt;int&gt; | type_n_max_value &lt;int&gt; | all_TIES &lt;chr&gt; | type_TIES &lt;chr&gt; | all_max_name &lt;chr&gt; | type_max_name &lt;chr&gt; | perc_uncategorized &lt;dbl&gt; | perc_best_type &lt;dbl&gt; | all_candidates &lt;list&gt; | type_candidates &lt;list&gt; |\n",
       "|---|---|---|---|---|---|---|---|---|---|---|---|---|---|---|---|---|---|---|---|---|\n",
       "| 1 | 3124440 | 3124448 | Col-01 | 2 | 2 |  4 | 0 | 0 | 0 | ⋯ | 2 | 0 | WINNER | NO READS | uncategorized | NO READS | 1.0000000 | 0.0000000 | uncategorized | NA |\n",
       "| 1 | 3772030 | 3772038 | Col-01 | 2 | 2 |  4 | 2 | 2 | 0 | ⋯ | 4 | 4 | TIED   | TIED     | TIED          | TIED     | 0.0000000 | 1.0000000 | Mu1 , Mu7 , Mu17 | Mu1 , Mu7 , Mu17 |\n",
       "| 1 | 4498708 | 4498716 | Col-01 | 8 | 5 | 13 | 0 | 2 | 0 | ⋯ | 3 | 2 | TIED   | WINNER   | TIED          | MuDR     | 0.4615385 | 0.4615385 | MuDR         , uncategorized | MuDR |\n",
       "| 1 | 4736284 | 4736292 | Col-01 | 4 | 2 |  6 | 0 | 0 | 0 | ⋯ | 2 | 2 | WINNER | WINNER   | MuDR          | MuDR     | 0.5000000 | 0.6666667 | MuDR | MuDR |\n",
       "| 1 | 4909718 | 4909726 | Col-01 | 9 | 8 | 17 | 0 | 2 | 0 | ⋯ | 2 | 2 | WINNER | WINNER   | uncategorized | Mu4      | 0.6470588 | 0.4705882 | Mu4          , uncategorized | Mu4 |\n",
       "\n"
      ],
      "text/plain": [
       "  Chr Start   End     Sample StartReads EndReads TotalReads Mu1_L Mu1_R Mu2_L ⋯\n",
       "1 1   3124440 3124448 Col-01 2          2         4         0     0     0     ⋯\n",
       "2 1   3772030 3772038 Col-01 2          2         4         2     2     0     ⋯\n",
       "3 1   4498708 4498716 Col-01 8          5        13         0     2     0     ⋯\n",
       "4 1   4736284 4736292 Col-01 4          2         6         0     0     0     ⋯\n",
       "5 1   4909718 4909726 Col-01 9          8        17         0     2     0     ⋯\n",
       "  all_n_max_value type_n_max_value all_TIES type_TIES all_max_name \n",
       "1 2               0                WINNER   NO READS  uncategorized\n",
       "2 4               4                TIED     TIED      TIED         \n",
       "3 3               2                TIED     WINNER    TIED         \n",
       "4 2               2                WINNER   WINNER    MuDR         \n",
       "5 2               2                WINNER   WINNER    uncategorized\n",
       "  type_max_name perc_uncategorized perc_best_type all_candidates              \n",
       "1 NO READS      1.0000000          0.0000000      uncategorized               \n",
       "2 TIED          0.0000000          1.0000000      Mu1 , Mu7 , Mu17            \n",
       "3 MuDR          0.4615385          0.4615385      MuDR         , uncategorized\n",
       "4 MuDR          0.5000000          0.6666667      MuDR                        \n",
       "5 Mu4           0.6470588          0.4705882      Mu4          , uncategorized\n",
       "  type_candidates \n",
       "1 NA              \n",
       "2 Mu1 , Mu7 , Mu17\n",
       "3 MuDR            \n",
       "4 MuDR            \n",
       "5 Mu4             "
      ]
     },
     "metadata": {},
     "output_type": "display_data"
    }
   ],
   "source": [
    "ait_annotated <- all_insertions_typed[1:100,]\n",
    "\n",
    "#compute TotalReads per insertion and total (left+right) reads per type per insertion\n",
    "for (t in base_all_types) {\n",
    "    \n",
    "  tmp_left <- paste0(t, \"_L\")\n",
    "  tmp_right <- paste0(t, \"_R\")\n",
    "    \n",
    "  ait_annotated <- ait_annotated %>%\n",
    "    #add total amount of reads supporting insertion\n",
    "    mutate(TotalReads = StartReads + EndReads) %>%\n",
    "    dplyr::relocate(TotalReads, .after = EndReads) %>%\n",
    "    #add total amount of support reads per (Mu) type\n",
    "    mutate(\"{t}_total\" := .data[[tmp_left]] + .data[[tmp_right]]) \n",
    "}\n",
    "\n",
    "#move uncategorized to the end of the df\n",
    "ait_annotated <- ait_annotated %>%\n",
    " relocate(uncategorized, .after = last_col())\n",
    "\n",
    "head(ait_annotated)\n",
    "\n",
    "\n",
    "#compute the maximum value found among types/types+uncategorized per insertion\n",
    "ait_annotated <- ait_annotated %>%\n",
    "  rowwise() %>%\n",
    "  #max value for all total and uncategorized columns\n",
    "  mutate(all_max_value = max(across(ends_with(c(\"_total\", \"uncategorized\"))))) %>%\n",
    "  #also compute max value for all types excl. uncategorized\n",
    "  mutate(type_max_value = max(across(ends_with(\"_total\")))) %>%\n",
    "  #number of max values for all total and uncategorized columns\n",
    "  #also, catch edge case when no type has any associated values/reads\n",
    "  mutate(all_n_max_value = case_when(\n",
    "           all_max_value > 0 ~ length(which(across(ends_with(c(\"_total\", \"uncategorized\", \"all_max_value\")))==all_max_value)),\n",
    "           TRUE ~ as.integer(0)\n",
    "    )\n",
    "  ) %>%\n",
    "  #number of max values for all total columns excl. uncategorized\n",
    "  #again, catch edge case when no type has any associated values/reads\n",
    "  mutate(type_n_max_value = case_when(\n",
    "            type_max_value > 0 ~ length(which(across(ends_with(c(\"_total\", \"type_max_value\")))==type_max_value)),\n",
    "            TRUE ~ as.integer(0)\n",
    "         )\n",
    "  )\n",
    "\n",
    "head(ait_annotated)\n",
    "\n",
    "ait_annotated[1,] %>%\n",
    "  select(., ends_with(\"_total\"))\n",
    "\n",
    "#loop over df to identify uncear cases in which the max support for type classification is tied\n",
    "#create column with info on whether or not one type is more often than others\n",
    "ait_annotated <- ait_annotated %>%\n",
    "  mutate(all_TIES = \n",
    "    case_when(\n",
    "      all_n_max_value > 2 ~ \"TIED\",\n",
    "      all_n_max_value == 2 ~ \"WINNER\",\n",
    "      TRUE ~ \"NO READS\"\n",
    "    ) \n",
    "  ) %>%\n",
    "  mutate(type_TIES = \n",
    "    case_when(\n",
    "      type_n_max_value > 2 ~ \"TIED\",\n",
    "      type_n_max_value == 2 ~ \"WINNER\",\n",
    "      TRUE ~ \"NO READS\"\n",
    "    ) \n",
    "  )\n",
    "\n",
    "head(ait_annotated)\n",
    "\n",
    "\n",
    "#isolate columns for all and type (without uncategorized) and write into vector\n",
    "all_sss_count_cols <- ait_annotated %>%\n",
    "  select(ends_with(c(\"_total\", \"uncategorized\"))) %>%\n",
    "  names()\n",
    "\n",
    "type_sss_count_cols <- ait_annotated %>%\n",
    "  select(ends_with(\"_total\")) %>%\n",
    "  names()\n",
    "\n",
    "\n",
    "#extract the name of the max value type/uncategorized or infer that it is unclear (\"TIED\")\n",
    "ait_annotated <- ait_annotated %>%\n",
    "  rowwise() %>%\n",
    "  #porbably a better way to do this - case_when() strict; \"WINNER\" code is a \"hidden\" list thus we have to add [1] on top\n",
    "  mutate(all_max_name = \n",
    "    case_when(\n",
    "      all_TIES == \"WINNER\" ~ names(.[,c(all_sss_count_cols)])[which(across(ends_with(c(\"_total\", \"uncategorized\")))==all_max_value)][1],\n",
    "      all_TIES == \"TIED\" ~ \"TIED\",\n",
    "      TRUE ~ \"NO READS\"\n",
    "         )\n",
    "  ) %>%\n",
    "    mutate(type_max_name = \n",
    "    case_when(\n",
    "      type_TIES == \"WINNER\" ~ names(.[,c(type_sss_count_cols)])[which(across(ends_with(\"_total\"))==type_max_value)][1],\n",
    "      type_TIES == \"TIED\" ~ \"TIED\",\n",
    "      TRUE ~ \"NO READS\"\n",
    "         )\n",
    "  ) %>%\n",
    "  mutate(all_max_name = str_remove(all_max_name, \"_total\")) %>%\n",
    "  mutate(type_max_name = str_remove(type_max_name, \"_total\"))\n",
    "\n",
    "head(ait_annotated, n=5)\n",
    "\n",
    "\n",
    "#compute stats:\n",
    "#percent uncategorized of all reads (TotalReads)\n",
    "#percent of the best type/s of all reads (TotalReads) \n",
    "ait_annotated <- ait_annotated %>%\n",
    "  mutate(perc_uncategorized = uncategorized/TotalReads) %>%\n",
    "  mutate(perc_best_type = type_max_value/TotalReads)\n",
    "\n",
    "head(ait_annotated)\n",
    "\n",
    "#add list elements as df entries per insertion - what are likely candidates (important in unclear cases):\n",
    "#excl. uncategorized\n",
    "#incl. uncategorized\n",
    "ait_annotated <- ait_annotated %>%\n",
    "  mutate(\n",
    "      all_candidates = case_when(\n",
    "          type_max_value > 0 ~ list(names(.[,c(all_sss_count_cols)])[which(across(ends_with(c(\"_total\", \"uncategorized\"))) >= type_max_value)]),\n",
    "          type_max_value == 0 & all_max_value > 0 ~ list(c(\"uncategorized\")),\n",
    "          TRUE ~ list(NA)\n",
    "        )\n",
    "      ) %>%\n",
    "  mutate(\n",
    "      type_candidates = case_when(\n",
    "          type_max_value > 0 ~ list(names(.[,c(type_sss_count_cols)])[which(across(ends_with(\"_total\")) >= type_max_value)]),\n",
    "          TRUE ~ list(NA)\n",
    "        )\n",
    "      ) %>%\n",
    "  mutate(all_candidates = list(str_remove(all_candidates, \"_total\"))) %>%\n",
    "  mutate(type_candidates = list(str_remove(type_candidates, \"_total\")))\n",
    "\n",
    "head(ait_annotated, n=5)"
   ]
  },
  {
   "cell_type": "markdown",
   "id": "cb3739ff-09e1-4af2-b389-2aecc953a41f",
   "metadata": {},
   "source": [
    "### investigating cases"
   ]
  },
  {
   "cell_type": "code",
   "execution_count": 13,
   "id": "954dd79b-ee77-48a5-959a-03ffb8e5f491",
   "metadata": {},
   "outputs": [
    {
     "data": {
      "text/html": [
       "27"
      ],
      "text/latex": [
       "27"
      ],
      "text/markdown": [
       "27"
      ],
      "text/plain": [
       "[1] 27"
      ]
     },
     "metadata": {},
     "output_type": "display_data"
    },
    {
     "data": {
      "text/html": [
       "227"
      ],
      "text/latex": [
       "227"
      ],
      "text/markdown": [
       "227"
      ],
      "text/plain": [
       "[1] 227"
      ]
     },
     "metadata": {},
     "output_type": "display_data"
    }
   ],
   "source": [
    "ait_annotated %>%\n",
    "  filter(type_max_name == \"NO READS\") %>%\n",
    "#  select(contains(\"value\")) %>%\n",
    "  nrow()\n",
    "\n",
    "ait_annotated %>%\n",
    "  filter(perc_uncategorized > 0.5) %>%\n",
    "#  select(contains(\"value\")) %>%\n",
    "  nrow()"
   ]
  },
  {
   "cell_type": "code",
   "execution_count": 57,
   "id": "5fef3ccf-292c-4e39-8e5a-042e74251eef",
   "metadata": {},
   "outputs": [
    {
     "name": "stderr",
     "output_type": "stream",
     "text": [
      "Warning message in cbind(parts$left, ellip_h, parts$right, deparse.level = 0L):\n",
      "“number of rows of result is not a multiple of vector length (arg 2)”\n",
      "Warning message in cbind(parts$left, ellip_h, parts$right, deparse.level = 0L):\n",
      "“number of rows of result is not a multiple of vector length (arg 2)”\n",
      "Warning message in cbind(parts$left, ellip_h, parts$right, deparse.level = 0L):\n",
      "“number of rows of result is not a multiple of vector length (arg 2)”\n",
      "Warning message in cbind(parts$left, ellip_h, parts$right, deparse.level = 0L):\n",
      "“number of rows of result is not a multiple of vector length (arg 2)”\n"
     ]
    },
    {
     "data": {
      "text/html": [
       "<table class=\"dataframe\">\n",
       "<caption>A rowwise_df: 0 × 74</caption>\n",
       "<thead>\n",
       "\t<tr><th scope=col>Chr</th><th scope=col>Start</th><th scope=col>End</th><th scope=col>Sample</th><th scope=col>StartReads</th><th scope=col>EndReads</th><th scope=col>TotalReads</th><th scope=col>Mu1_L</th><th scope=col>Mu1_R</th><th scope=col>Mu2_L</th><th scope=col>⋯</th><th scope=col>all_n_max_value</th><th scope=col>type_n_max_value</th><th scope=col>all_TIES</th><th scope=col>type_TIES</th><th scope=col>all_max_name</th><th scope=col>type_max_name</th><th scope=col>perc_uncategorized</th><th scope=col>perc_best_type</th><th scope=col>all_candidates</th><th scope=col>type_candidates</th></tr>\n",
       "\t<tr><th scope=col>&lt;chr&gt;</th><th scope=col>&lt;int&gt;</th><th scope=col>&lt;int&gt;</th><th scope=col>&lt;chr&gt;</th><th scope=col>&lt;int&gt;</th><th scope=col>&lt;int&gt;</th><th scope=col>&lt;int&gt;</th><th scope=col>&lt;dbl&gt;</th><th scope=col>&lt;dbl&gt;</th><th scope=col>&lt;dbl&gt;</th><th scope=col>⋯</th><th scope=col>&lt;int&gt;</th><th scope=col>&lt;int&gt;</th><th scope=col>&lt;chr&gt;</th><th scope=col>&lt;chr&gt;</th><th scope=col>&lt;chr&gt;</th><th scope=col>&lt;chr&gt;</th><th scope=col>&lt;dbl&gt;</th><th scope=col>&lt;dbl&gt;</th><th scope=col>&lt;list&gt;</th><th scope=col>&lt;list&gt;</th></tr>\n",
       "</thead>\n",
       "<tbody>\n",
       "</tbody>\n",
       "</table>\n"
      ],
      "text/latex": [
       "A rowwise\\_df: 0 × 74\n",
       "\\begin{tabular}{lllllllllllllllllllll}\n",
       " Chr & Start & End & Sample & StartReads & EndReads & TotalReads & Mu1\\_L & Mu1\\_R & Mu2\\_L & ⋯ & all\\_n\\_max\\_value & type\\_n\\_max\\_value & all\\_TIES & type\\_TIES & all\\_max\\_name & type\\_max\\_name & perc\\_uncategorized & perc\\_best\\_type & all\\_candidates & type\\_candidates\\\\\n",
       " <chr> & <int> & <int> & <chr> & <int> & <int> & <int> & <dbl> & <dbl> & <dbl> & ⋯ & <int> & <int> & <chr> & <chr> & <chr> & <chr> & <dbl> & <dbl> & <list> & <list>\\\\\n",
       "\\hline\n",
       "\\end{tabular}\n"
      ],
      "text/markdown": [
       "\n",
       "A rowwise_df: 0 × 74\n",
       "\n",
       "| Chr &lt;chr&gt; | Start &lt;int&gt; | End &lt;int&gt; | Sample &lt;chr&gt; | StartReads &lt;int&gt; | EndReads &lt;int&gt; | TotalReads &lt;int&gt; | Mu1_L &lt;dbl&gt; | Mu1_R &lt;dbl&gt; | Mu2_L &lt;dbl&gt; | ⋯ ⋯ | all_n_max_value &lt;int&gt; | type_n_max_value &lt;int&gt; | all_TIES &lt;chr&gt; | type_TIES &lt;chr&gt; | all_max_name &lt;chr&gt; | type_max_name &lt;chr&gt; | perc_uncategorized &lt;dbl&gt; | perc_best_type &lt;dbl&gt; | all_candidates &lt;list&gt; | type_candidates &lt;list&gt; |\n",
       "|---|---|---|---|---|---|---|---|---|---|---|---|---|---|---|---|---|---|---|---|---|\n",
       "\n"
      ],
      "text/plain": [
       "     Chr Start End Sample StartReads EndReads TotalReads Mu1_L Mu1_R Mu2_L ⋯\n",
       "     all_n_max_value type_n_max_value all_TIES type_TIES all_max_name\n",
       "     type_max_name perc_uncategorized perc_best_type all_candidates\n",
       "     type_candidates"
      ]
     },
     "metadata": {},
     "output_type": "display_data"
    },
    {
     "data": {
      "text/html": [],
      "text/latex": [],
      "text/markdown": [],
      "text/plain": [
       "character(0)"
      ]
     },
     "metadata": {},
     "output_type": "display_data"
    },
    {
     "ename": "ERROR",
     "evalue": "Error in get(paste0(\"sam_\", cur_ins$Sample)): object 'sam_' not found\n",
     "output_type": "error",
     "traceback": [
      "Error in get(paste0(\"sam_\", cur_ins$Sample)): object 'sam_' not found\nTraceback:\n",
      "1. get(paste0(\"sam_\", cur_ins$Sample))",
      "2. get(paste0(\"sam_\", cur_ins$Sample))"
     ]
    }
   ],
   "source": [
    "### getting reads for particular insertion\n",
    "\n",
    "#chose insertion - we extract its corresponding row\n",
    "cur_ins <- ait_annotated %>%\n",
    "  filter(type_max_name == \"NO READS\") %>%\n",
    "  filter(Chr==1 & Start==69324787 & End==69324795)\n",
    "\n",
    "cur_ins\n",
    "cur_ins$Sample\n",
    "\n",
    "#match Sample with sam object\n",
    "tmp_sam <- get(paste0(\"sam_\", cur_ins$Sample))\n",
    "\n",
    "#match sample of insertion file with te typing file\n",
    "tmp_type_file <- get(paste0(cur_ins$Sample, \"_type_file\"))\n",
    "\n",
    "\n",
    "# fuzzyjoin for overlap + end or start needs to match\n",
    "tmp_merge_ins_sam <- fuzzyjoin::genome_inner_join(cur_ins,\n",
    "                             tmp_sam, \n",
    "                              by=c(\"Chr\", \"Start\", \"End\")\n",
    "                            ) %>%\n",
    "select(Name, Strand, Chr.y, Start.y, End.y) %>%\n",
    "dplyr::rename(Chr=Chr.y, Start=Start.y, End=End.y) %>%\n",
    "filter(Start == cur_ins$Start | \n",
    "       Start == cur_ins$End | \n",
    "       End == cur_ins$Start | \n",
    "       End == cur_ins$End)\n",
    "\n",
    "\n",
    "head(tmp_merge_ins_sam)"
   ]
  },
  {
   "cell_type": "markdown",
   "id": "89a299d2-804c-450c-b6e8-d545baff0c72",
   "metadata": {},
   "source": [
    "### getting all uncategorized reads - with only uncategorized read support"
   ]
  },
  {
   "cell_type": "code",
   "execution_count": 25,
   "id": "ed42434b-3bc2-4605-a2fe-a9464f592be0",
   "metadata": {},
   "outputs": [
    {
     "data": {
      "text/html": [
       "<table class=\"dataframe\">\n",
       "<caption>A rowwise_df: 1 × 80</caption>\n",
       "<thead>\n",
       "\t<tr><th scope=col>GeneID</th><th scope=col>Chr</th><th scope=col>GeneStart</th><th scope=col>GeneEnd</th><th scope=col>Sample</th><th scope=col>InsertionStart</th><th scope=col>InsertionEnd</th><th scope=col>StartReads</th><th scope=col>EndReads</th><th scope=col>TotalReads</th><th scope=col>⋯</th><th scope=col>all_n_max_value</th><th scope=col>type_n_max_value</th><th scope=col>all_TIES</th><th scope=col>type_TIES</th><th scope=col>all_max_name</th><th scope=col>type_max_name</th><th scope=col>perc_uncategorized</th><th scope=col>perc_best_type</th><th scope=col>all_candidates</th><th scope=col>type_candidates</th></tr>\n",
       "\t<tr><th scope=col>&lt;chr&gt;</th><th scope=col>&lt;chr&gt;</th><th scope=col>&lt;int&gt;</th><th scope=col>&lt;int&gt;</th><th scope=col>&lt;chr&gt;</th><th scope=col>&lt;int&gt;</th><th scope=col>&lt;int&gt;</th><th scope=col>&lt;int&gt;</th><th scope=col>&lt;int&gt;</th><th scope=col>&lt;int&gt;</th><th scope=col>⋯</th><th scope=col>&lt;int&gt;</th><th scope=col>&lt;int&gt;</th><th scope=col>&lt;chr&gt;</th><th scope=col>&lt;chr&gt;</th><th scope=col>&lt;chr&gt;</th><th scope=col>&lt;chr&gt;</th><th scope=col>&lt;dbl&gt;</th><th scope=col>&lt;dbl&gt;</th><th scope=col>&lt;list&gt;</th><th scope=col>&lt;list&gt;</th></tr>\n",
       "</thead>\n",
       "<tbody>\n",
       "\t<tr><td>Zm00001d027242</td><td>1</td><td>209979</td><td>215403</td><td>Col_05</td><td>215021</td><td>215029</td><td>2</td><td>2</td><td>4</td><td>⋯</td><td>2</td><td>0</td><td>WINNER</td><td>NO READS</td><td>uncategorized</td><td>NO READS</td><td>1</td><td>0</td><td>uncategorized</td><td>NA</td></tr>\n",
       "</tbody>\n",
       "</table>\n"
      ],
      "text/latex": [
       "A rowwise\\_df: 1 × 80\n",
       "\\begin{tabular}{lllllllllllllllllllll}\n",
       " GeneID & Chr & GeneStart & GeneEnd & Sample & InsertionStart & InsertionEnd & StartReads & EndReads & TotalReads & ⋯ & all\\_n\\_max\\_value & type\\_n\\_max\\_value & all\\_TIES & type\\_TIES & all\\_max\\_name & type\\_max\\_name & perc\\_uncategorized & perc\\_best\\_type & all\\_candidates & type\\_candidates\\\\\n",
       " <chr> & <chr> & <int> & <int> & <chr> & <int> & <int> & <int> & <int> & <int> & ⋯ & <int> & <int> & <chr> & <chr> & <chr> & <chr> & <dbl> & <dbl> & <list> & <list>\\\\\n",
       "\\hline\n",
       "\t Zm00001d027242 & 1 & 209979 & 215403 & Col\\_05 & 215021 & 215029 & 2 & 2 & 4 & ⋯ & 2 & 0 & WINNER & NO READS & uncategorized & NO READS & 1 & 0 & uncategorized & NA\\\\\n",
       "\\end{tabular}\n"
      ],
      "text/markdown": [
       "\n",
       "A rowwise_df: 1 × 80\n",
       "\n",
       "| GeneID &lt;chr&gt; | Chr &lt;chr&gt; | GeneStart &lt;int&gt; | GeneEnd &lt;int&gt; | Sample &lt;chr&gt; | InsertionStart &lt;int&gt; | InsertionEnd &lt;int&gt; | StartReads &lt;int&gt; | EndReads &lt;int&gt; | TotalReads &lt;int&gt; | ⋯ ⋯ | all_n_max_value &lt;int&gt; | type_n_max_value &lt;int&gt; | all_TIES &lt;chr&gt; | type_TIES &lt;chr&gt; | all_max_name &lt;chr&gt; | type_max_name &lt;chr&gt; | perc_uncategorized &lt;dbl&gt; | perc_best_type &lt;dbl&gt; | all_candidates &lt;list&gt; | type_candidates &lt;list&gt; |\n",
       "|---|---|---|---|---|---|---|---|---|---|---|---|---|---|---|---|---|---|---|---|---|\n",
       "| Zm00001d027242 | 1 | 209979 | 215403 | Col_05 | 215021 | 215029 | 2 | 2 | 4 | ⋯ | 2 | 0 | WINNER | NO READS | uncategorized | NO READS | 1 | 0 | uncategorized | NA |\n",
       "\n"
      ],
      "text/plain": [
       "  GeneID         Chr GeneStart GeneEnd Sample InsertionStart InsertionEnd\n",
       "1 Zm00001d027242 1   209979    215403  Col_05 215021         215029      \n",
       "  StartReads EndReads TotalReads ⋯ all_n_max_value type_n_max_value all_TIES\n",
       "1 2          2        4          ⋯ 2               0                WINNER  \n",
       "  type_TIES all_max_name  type_max_name perc_uncategorized perc_best_type\n",
       "1 NO READS  uncategorized NO READS      1                  0             \n",
       "  all_candidates type_candidates\n",
       "1 uncategorized  NA             "
      ]
     },
     "metadata": {},
     "output_type": "display_data"
    },
    {
     "data": {
      "text/html": [
       "606"
      ],
      "text/latex": [
       "606"
      ],
      "text/markdown": [
       "606"
      ],
      "text/plain": [
       "[1] 606"
      ]
     },
     "metadata": {},
     "output_type": "display_data"
    },
    {
     "data": {
      "text/html": [
       "8008"
      ],
      "text/latex": [
       "8008"
      ],
      "text/markdown": [
       "8008"
      ],
      "text/plain": [
       "[1] 8008"
      ]
     },
     "metadata": {},
     "output_type": "display_data"
    }
   ],
   "source": []
  },
  {
   "cell_type": "markdown",
   "id": "f4482993-9ee5-4f4f-bd80-f6e015fb60cb",
   "metadata": {
    "tags": []
   },
   "source": [
    "### distribution of counts"
   ]
  },
  {
   "cell_type": "code",
   "execution_count": 93,
   "id": "b42d8b64-cb76-4b7c-8cc6-2345df1b52e1",
   "metadata": {},
   "outputs": [
    {
     "data": {
      "text/html": [
       "<table class=\"dataframe\">\n",
       "<caption>A tibble: 7 × 2</caption>\n",
       "<thead>\n",
       "\t<tr><th scope=col>type_max_name</th><th scope=col>look</th></tr>\n",
       "\t<tr><th scope=col>&lt;chr&gt;</th><th scope=col>&lt;int&gt;</th></tr>\n",
       "</thead>\n",
       "<tbody>\n",
       "\t<tr><td>Mu1     </td><td> 113</td></tr>\n",
       "\t<tr><td>Mu11    </td><td>   1</td></tr>\n",
       "\t<tr><td>Mu4     </td><td> 662</td></tr>\n",
       "\t<tr><td>Mu8     </td><td>   2</td></tr>\n",
       "\t<tr><td>MuDR    </td><td>1430</td></tr>\n",
       "\t<tr><td>NO READS</td><td> 533</td></tr>\n",
       "\t<tr><td>TIED    </td><td>1939</td></tr>\n",
       "</tbody>\n",
       "</table>\n"
      ],
      "text/latex": [
       "A tibble: 7 × 2\n",
       "\\begin{tabular}{ll}\n",
       " type\\_max\\_name & look\\\\\n",
       " <chr> & <int>\\\\\n",
       "\\hline\n",
       "\t Mu1      &  113\\\\\n",
       "\t Mu11     &    1\\\\\n",
       "\t Mu4      &  662\\\\\n",
       "\t Mu8      &    2\\\\\n",
       "\t MuDR     & 1430\\\\\n",
       "\t NO READS &  533\\\\\n",
       "\t TIED     & 1939\\\\\n",
       "\\end{tabular}\n"
      ],
      "text/markdown": [
       "\n",
       "A tibble: 7 × 2\n",
       "\n",
       "| type_max_name &lt;chr&gt; | look &lt;int&gt; |\n",
       "|---|---|\n",
       "| Mu1      |  113 |\n",
       "| Mu11     |    1 |\n",
       "| Mu4      |  662 |\n",
       "| Mu8      |    2 |\n",
       "| MuDR     | 1430 |\n",
       "| NO READS |  533 |\n",
       "| TIED     | 1939 |\n",
       "\n"
      ],
      "text/plain": [
       "  type_max_name look\n",
       "1 Mu1            113\n",
       "2 Mu11             1\n",
       "3 Mu4            662\n",
       "4 Mu8              2\n",
       "5 MuDR          1430\n",
       "6 NO READS       533\n",
       "7 TIED          1939"
      ]
     },
     "metadata": {},
     "output_type": "display_data"
    }
   ],
   "source": [
    "sss %>%\n",
    "#  filter(Sample == \"Row-01\") %>%\n",
    "  group_by(type_max_name) %>%\n",
    "  summarize(look = n())"
   ]
  },
  {
   "cell_type": "code",
   "execution_count": 98,
   "id": "af2d43f9-fdd3-44cb-a5cb-5bdea310180a",
   "metadata": {},
   "outputs": [
    {
     "data": {
      "image/png": "[encoded data removed]",
      "text/plain": [
       "Plot with title “Histogram of .”"
      ]
     },
     "metadata": {
      "image/png": {
       "height": 420,
       "width": 420
      }
     },
     "output_type": "display_data"
    },
    {
     "data": {
      "image/png": "[encoded data removed]",
      "text/plain": [
       "Plot with title “Histogram of .”"
      ]
     },
     "metadata": {
      "image/png": {
       "height": 420,
       "width": 420
      }
     },
     "output_type": "display_data"
    }
   ],
   "source": [
    "sss %>%\n",
    "  pull(all_max_value) %>%\n",
    "  log() %>%\n",
    "  hist()\n",
    "\n",
    "sss %>%\n",
    "  pull(type_max_value) %>%\n",
    "  log() %>%\n",
    "  hist()"
   ]
  },
  {
   "cell_type": "code",
   "execution_count": 109,
   "id": "ef8db82c-efba-46bc-b7a7-5123ef4077b3",
   "metadata": {},
   "outputs": [
    {
     "data": {
      "text/html": [
       "<table class=\"dataframe\">\n",
       "<caption>A rowwise_df: 6 × 2</caption>\n",
       "<thead>\n",
       "\t<tr><th scope=col>TotalReads</th><th scope=col>type_max_value</th></tr>\n",
       "\t<tr><th scope=col>&lt;int&gt;</th><th scope=col>&lt;dbl&gt;</th></tr>\n",
       "</thead>\n",
       "<tbody>\n",
       "\t<tr><td> 4</td><td>0</td></tr>\n",
       "\t<tr><td> 4</td><td>4</td></tr>\n",
       "\t<tr><td>13</td><td>6</td></tr>\n",
       "\t<tr><td> 6</td><td>4</td></tr>\n",
       "\t<tr><td>17</td><td>8</td></tr>\n",
       "\t<tr><td>14</td><td>4</td></tr>\n",
       "</tbody>\n",
       "</table>\n"
      ],
      "text/latex": [
       "A rowwise\\_df: 6 × 2\n",
       "\\begin{tabular}{ll}\n",
       " TotalReads & type\\_max\\_value\\\\\n",
       " <int> & <dbl>\\\\\n",
       "\\hline\n",
       "\t  4 & 0\\\\\n",
       "\t  4 & 4\\\\\n",
       "\t 13 & 6\\\\\n",
       "\t  6 & 4\\\\\n",
       "\t 17 & 8\\\\\n",
       "\t 14 & 4\\\\\n",
       "\\end{tabular}\n"
      ],
      "text/markdown": [
       "\n",
       "A rowwise_df: 6 × 2\n",
       "\n",
       "| TotalReads &lt;int&gt; | type_max_value &lt;dbl&gt; |\n",
       "|---|---|\n",
       "|  4 | 0 |\n",
       "|  4 | 4 |\n",
       "| 13 | 6 |\n",
       "|  6 | 4 |\n",
       "| 17 | 8 |\n",
       "| 14 | 4 |\n",
       "\n"
      ],
      "text/plain": [
       "  TotalReads type_max_value\n",
       "1  4         0             \n",
       "2  4         4             \n",
       "3 13         6             \n",
       "4  6         4             \n",
       "5 17         8             \n",
       "6 14         4             "
      ]
     },
     "metadata": {},
     "output_type": "display_data"
    },
    {
     "data": {
      "text/html": [
       "65933"
      ],
      "text/latex": [
       "65933"
      ],
      "text/markdown": [
       "65933"
      ],
      "text/plain": [
       "[1] 65933"
      ]
     },
     "metadata": {},
     "output_type": "display_data"
    },
    {
     "data": {
      "text/html": [
       "24606"
      ],
      "text/latex": [
       "24606"
      ],
      "text/markdown": [
       "24606"
      ],
      "text/plain": [
       "[1] 24606"
      ]
     },
     "metadata": {},
     "output_type": "display_data"
    }
   ],
   "source": [
    "sss %>%\n",
    "  select(TotalReads, type_max_value) %>%\n",
    "  head()\n",
    "\n",
    "sss %>%\n",
    "  pull(TotalReads) %>%\n",
    "  sum()\n",
    "\n",
    "\n",
    "sss %>%\n",
    "  pull(type_max_value) %>%\n",
    "  sum()\n"
   ]
  },
  {
   "cell_type": "code",
   "execution_count": 111,
   "id": "5196ebf1-6e43-4e13-a84d-b6f02a60a0d9",
   "metadata": {},
   "outputs": [
    {
     "data": {
      "text/html": [
       "0.140287244852918"
      ],
      "text/latex": [
       "0.140287244852918"
      ],
      "text/markdown": [
       "0.140287244852918"
      ],
      "text/plain": [
       "[1] 0.1402872"
      ]
     },
     "metadata": {},
     "output_type": "display_data"
    }
   ],
   "source": [
    "q <- 8\n",
    "m <- 24606\n",
    "n <- 65933 - 24606\n",
    "k <- 17\n",
    "\n",
    "\n",
    "phyper(q, m, n, k, lower.tail = FALSE)"
   ]
  },
  {
   "cell_type": "code",
   "execution_count": 41,
   "id": "9031a583-47cb-4b66-8afd-ee59f317a897",
   "metadata": {},
   "outputs": [],
   "source": [
    "#?phyper"
   ]
  },
  {
   "cell_type": "code",
   "execution_count": null,
   "id": "85d05961-5943-4d6a-9822-d5404dd0dfd4",
   "metadata": {},
   "outputs": [],
   "source": []
  },
  {
   "cell_type": "code",
   "execution_count": null,
   "id": "26188e86-155f-4a52-b410-701ebb01be2f",
   "metadata": {},
   "outputs": [],
   "source": []
  },
  {
   "cell_type": "markdown",
   "id": "a367298f-c941-4988-80a3-83d2494f451d",
   "metadata": {},
   "source": [
    "### Playing around with the typing results"
   ]
  },
  {
   "cell_type": "code",
   "execution_count": 4,
   "id": "49ae43b1-5d4a-4b4c-b2cf-06ae52627af2",
   "metadata": {},
   "outputs": [],
   "source": [
    "#install.packages(\"ggplot2\")\n",
    "library(ggplot2)"
   ]
  },
  {
   "cell_type": "code",
   "execution_count": null,
   "id": "34841fbe-317a-4766-8385-47e56ba68179",
   "metadata": {},
   "outputs": [],
   "source": []
  },
  {
   "cell_type": "code",
   "execution_count": 9,
   "id": "a88909bd-ac12-4934-8058-cd889a4f2723",
   "metadata": {},
   "outputs": [
    {
     "data": {
      "text/html": [
       "<table class=\"dataframe\">\n",
       "<caption>A data.table: 30 × 2</caption>\n",
       "<thead>\n",
       "\t<tr><th scope=col>type_candidates</th><th scope=col>count</th></tr>\n",
       "\t<tr><th scope=col>&lt;chr&gt;</th><th scope=col>&lt;int&gt;</th></tr>\n",
       "</thead>\n",
       "<tbody>\n",
       "\t<tr><td>Mu8|MuDR                                     </td><td>15450</td></tr>\n",
       "\t<tr><td>Mu1                                          </td><td>13058</td></tr>\n",
       "\t<tr><td>Mu1|Mu5|Mu7|Mu17                             </td><td> 6400</td></tr>\n",
       "\t<tr><td>Mu3|Mu4                                      </td><td> 3705</td></tr>\n",
       "\t<tr><td>                                             </td><td> 3304</td></tr>\n",
       "\t<tr><td>Mu1|Mu2                                      </td><td> 3172</td></tr>\n",
       "\t<tr><td>Mu11|Mu14|Mu16|Mu19                          </td><td> 2931</td></tr>\n",
       "\t<tr><td>Mu1|Mu5|Mu7|Mu8|MuDR|Mu17                    </td><td> 1632</td></tr>\n",
       "\t<tr><td>Mu1|Mu8|MuDR                                 </td><td> 1044</td></tr>\n",
       "\t<tr><td>Mu3|Mu4|Mu8|MuDR                             </td><td>  987</td></tr>\n",
       "\t<tr><td>Mu1|Mu2|Mu8|MuDR                             </td><td>  919</td></tr>\n",
       "\t<tr><td>Mu8|MuDR|Mu11|Mu14|Mu16|Mu19                 </td><td>  853</td></tr>\n",
       "\t<tr><td>Mu1|Mu3|Mu4|Mu5|Mu7|Mu17                     </td><td>  597</td></tr>\n",
       "\t<tr><td>Mu1|Mu5|Mu7|Mu11|Mu14|Mu16|Mu17|Mu19         </td><td>  532</td></tr>\n",
       "\t<tr><td>Mu1|Mu2|Mu3|Mu4                              </td><td>  361</td></tr>\n",
       "\t<tr><td>Mu3|Mu4|Mu11|Mu14|Mu16|Mu19                  </td><td>  330</td></tr>\n",
       "\t<tr><td>Mu1|Mu2|Mu11|Mu14|Mu16|Mu19                  </td><td>  325</td></tr>\n",
       "\t<tr><td>Mu1|Mu3|Mu4|Mu5|Mu7|Mu8|MuDR|Mu17            </td><td>  280</td></tr>\n",
       "\t<tr><td>Mu1|Mu3|Mu4                                  </td><td>  276</td></tr>\n",
       "\t<tr><td>Mu1|Mu5|Mu7|Mu8|MuDR|Mu11|Mu14|Mu16|Mu17|Mu19</td><td>  203</td></tr>\n",
       "\t<tr><td>Mu1|Mu11|Mu14|Mu16|Mu19                      </td><td>  203</td></tr>\n",
       "\t<tr><td>Mu1|Mu2|Mu3|Mu4|Mu8|MuDR                     </td><td>  184</td></tr>\n",
       "\t<tr><td>Mu3|Mu4|Mu8|MuDR|Mu11|Mu14|Mu16|Mu19         </td><td>  159</td></tr>\n",
       "\t<tr><td>Mu8                                          </td><td>  148</td></tr>\n",
       "\t<tr><td>Mu11                                         </td><td>  125</td></tr>\n",
       "\t<tr><td>Mu1|Mu2|Mu8|MuDR|Mu11|Mu14|Mu16|Mu19         </td><td>  123</td></tr>\n",
       "\t<tr><td>Mu1|Mu3|Mu4|Mu5|Mu7|Mu11|Mu14|Mu16|Mu17|Mu19 </td><td>  100</td></tr>\n",
       "\t<tr><td>Mu1|Mu3|Mu4|Mu8|MuDR                         </td><td>   65</td></tr>\n",
       "\t<tr><td>Mu1|Mu8|MuDR|Mu11|Mu14|Mu16|Mu19             </td><td>   53</td></tr>\n",
       "\t<tr><td>Mu1|Mu2|Mu3|Mu4|Mu11|Mu14|Mu16|Mu19          </td><td>   51</td></tr>\n",
       "</tbody>\n",
       "</table>\n"
      ],
      "text/latex": [
       "A data.table: 30 × 2\n",
       "\\begin{tabular}{ll}\n",
       " type\\_candidates & count\\\\\n",
       " <chr> & <int>\\\\\n",
       "\\hline\n",
       "\t Mu8\\textbar{}MuDR                                      & 15450\\\\\n",
       "\t Mu1                                           & 13058\\\\\n",
       "\t Mu1\\textbar{}Mu5\\textbar{}Mu7\\textbar{}Mu17                              &  6400\\\\\n",
       "\t Mu3\\textbar{}Mu4                                       &  3705\\\\\n",
       "\t                                               &  3304\\\\\n",
       "\t Mu1\\textbar{}Mu2                                       &  3172\\\\\n",
       "\t Mu11\\textbar{}Mu14\\textbar{}Mu16\\textbar{}Mu19                           &  2931\\\\\n",
       "\t Mu1\\textbar{}Mu5\\textbar{}Mu7\\textbar{}Mu8\\textbar{}MuDR\\textbar{}Mu17                     &  1632\\\\\n",
       "\t Mu1\\textbar{}Mu8\\textbar{}MuDR                                  &  1044\\\\\n",
       "\t Mu3\\textbar{}Mu4\\textbar{}Mu8\\textbar{}MuDR                              &   987\\\\\n",
       "\t Mu1\\textbar{}Mu2\\textbar{}Mu8\\textbar{}MuDR                              &   919\\\\\n",
       "\t Mu8\\textbar{}MuDR\\textbar{}Mu11\\textbar{}Mu14\\textbar{}Mu16\\textbar{}Mu19                  &   853\\\\\n",
       "\t Mu1\\textbar{}Mu3\\textbar{}Mu4\\textbar{}Mu5\\textbar{}Mu7\\textbar{}Mu17                      &   597\\\\\n",
       "\t Mu1\\textbar{}Mu5\\textbar{}Mu7\\textbar{}Mu11\\textbar{}Mu14\\textbar{}Mu16\\textbar{}Mu17\\textbar{}Mu19          &   532\\\\\n",
       "\t Mu1\\textbar{}Mu2\\textbar{}Mu3\\textbar{}Mu4                               &   361\\\\\n",
       "\t Mu3\\textbar{}Mu4\\textbar{}Mu11\\textbar{}Mu14\\textbar{}Mu16\\textbar{}Mu19                   &   330\\\\\n",
       "\t Mu1\\textbar{}Mu2\\textbar{}Mu11\\textbar{}Mu14\\textbar{}Mu16\\textbar{}Mu19                   &   325\\\\\n",
       "\t Mu1\\textbar{}Mu3\\textbar{}Mu4\\textbar{}Mu5\\textbar{}Mu7\\textbar{}Mu8\\textbar{}MuDR\\textbar{}Mu17             &   280\\\\\n",
       "\t Mu1\\textbar{}Mu3\\textbar{}Mu4                                   &   276\\\\\n",
       "\t Mu1\\textbar{}Mu5\\textbar{}Mu7\\textbar{}Mu8\\textbar{}MuDR\\textbar{}Mu11\\textbar{}Mu14\\textbar{}Mu16\\textbar{}Mu17\\textbar{}Mu19 &   203\\\\\n",
       "\t Mu1\\textbar{}Mu11\\textbar{}Mu14\\textbar{}Mu16\\textbar{}Mu19                       &   203\\\\\n",
       "\t Mu1\\textbar{}Mu2\\textbar{}Mu3\\textbar{}Mu4\\textbar{}Mu8\\textbar{}MuDR                      &   184\\\\\n",
       "\t Mu3\\textbar{}Mu4\\textbar{}Mu8\\textbar{}MuDR\\textbar{}Mu11\\textbar{}Mu14\\textbar{}Mu16\\textbar{}Mu19          &   159\\\\\n",
       "\t Mu8                                           &   148\\\\\n",
       "\t Mu11                                          &   125\\\\\n",
       "\t Mu1\\textbar{}Mu2\\textbar{}Mu8\\textbar{}MuDR\\textbar{}Mu11\\textbar{}Mu14\\textbar{}Mu16\\textbar{}Mu19          &   123\\\\\n",
       "\t Mu1\\textbar{}Mu3\\textbar{}Mu4\\textbar{}Mu5\\textbar{}Mu7\\textbar{}Mu11\\textbar{}Mu14\\textbar{}Mu16\\textbar{}Mu17\\textbar{}Mu19  &   100\\\\\n",
       "\t Mu1\\textbar{}Mu3\\textbar{}Mu4\\textbar{}Mu8\\textbar{}MuDR                          &    65\\\\\n",
       "\t Mu1\\textbar{}Mu8\\textbar{}MuDR\\textbar{}Mu11\\textbar{}Mu14\\textbar{}Mu16\\textbar{}Mu19              &    53\\\\\n",
       "\t Mu1\\textbar{}Mu2\\textbar{}Mu3\\textbar{}Mu4\\textbar{}Mu11\\textbar{}Mu14\\textbar{}Mu16\\textbar{}Mu19           &    51\\\\\n",
       "\\end{tabular}\n"
      ],
      "text/markdown": [
       "\n",
       "A data.table: 30 × 2\n",
       "\n",
       "| type_candidates &lt;chr&gt; | count &lt;int&gt; |\n",
       "|---|---|\n",
       "| Mu8|MuDR                                      | 15450 |\n",
       "| Mu1                                           | 13058 |\n",
       "| Mu1|Mu5|Mu7|Mu17                              |  6400 |\n",
       "| Mu3|Mu4                                       |  3705 |\n",
       "| <!----> |  3304 |\n",
       "| Mu1|Mu2                                       |  3172 |\n",
       "| Mu11|Mu14|Mu16|Mu19                           |  2931 |\n",
       "| Mu1|Mu5|Mu7|Mu8|MuDR|Mu17                     |  1632 |\n",
       "| Mu1|Mu8|MuDR                                  |  1044 |\n",
       "| Mu3|Mu4|Mu8|MuDR                              |   987 |\n",
       "| Mu1|Mu2|Mu8|MuDR                              |   919 |\n",
       "| Mu8|MuDR|Mu11|Mu14|Mu16|Mu19                  |   853 |\n",
       "| Mu1|Mu3|Mu4|Mu5|Mu7|Mu17                      |   597 |\n",
       "| Mu1|Mu5|Mu7|Mu11|Mu14|Mu16|Mu17|Mu19          |   532 |\n",
       "| Mu1|Mu2|Mu3|Mu4                               |   361 |\n",
       "| Mu3|Mu4|Mu11|Mu14|Mu16|Mu19                   |   330 |\n",
       "| Mu1|Mu2|Mu11|Mu14|Mu16|Mu19                   |   325 |\n",
       "| Mu1|Mu3|Mu4|Mu5|Mu7|Mu8|MuDR|Mu17             |   280 |\n",
       "| Mu1|Mu3|Mu4                                   |   276 |\n",
       "| Mu1|Mu5|Mu7|Mu8|MuDR|Mu11|Mu14|Mu16|Mu17|Mu19 |   203 |\n",
       "| Mu1|Mu11|Mu14|Mu16|Mu19                       |   203 |\n",
       "| Mu1|Mu2|Mu3|Mu4|Mu8|MuDR                      |   184 |\n",
       "| Mu3|Mu4|Mu8|MuDR|Mu11|Mu14|Mu16|Mu19          |   159 |\n",
       "| Mu8                                           |   148 |\n",
       "| Mu11                                          |   125 |\n",
       "| Mu1|Mu2|Mu8|MuDR|Mu11|Mu14|Mu16|Mu19          |   123 |\n",
       "| Mu1|Mu3|Mu4|Mu5|Mu7|Mu11|Mu14|Mu16|Mu17|Mu19  |   100 |\n",
       "| Mu1|Mu3|Mu4|Mu8|MuDR                          |    65 |\n",
       "| Mu1|Mu8|MuDR|Mu11|Mu14|Mu16|Mu19              |    53 |\n",
       "| Mu1|Mu2|Mu3|Mu4|Mu11|Mu14|Mu16|Mu19           |    51 |\n",
       "\n"
      ],
      "text/plain": [
       "   type_candidates                               count\n",
       "1  Mu8|MuDR                                      15450\n",
       "2  Mu1                                           13058\n",
       "3  Mu1|Mu5|Mu7|Mu17                               6400\n",
       "4  Mu3|Mu4                                        3705\n",
       "5                                                 3304\n",
       "6  Mu1|Mu2                                        3172\n",
       "7  Mu11|Mu14|Mu16|Mu19                            2931\n",
       "8  Mu1|Mu5|Mu7|Mu8|MuDR|Mu17                      1632\n",
       "9  Mu1|Mu8|MuDR                                   1044\n",
       "10 Mu3|Mu4|Mu8|MuDR                                987\n",
       "11 Mu1|Mu2|Mu8|MuDR                                919\n",
       "12 Mu8|MuDR|Mu11|Mu14|Mu16|Mu19                    853\n",
       "13 Mu1|Mu3|Mu4|Mu5|Mu7|Mu17                        597\n",
       "14 Mu1|Mu5|Mu7|Mu11|Mu14|Mu16|Mu17|Mu19            532\n",
       "15 Mu1|Mu2|Mu3|Mu4                                 361\n",
       "16 Mu3|Mu4|Mu11|Mu14|Mu16|Mu19                     330\n",
       "17 Mu1|Mu2|Mu11|Mu14|Mu16|Mu19                     325\n",
       "18 Mu1|Mu3|Mu4|Mu5|Mu7|Mu8|MuDR|Mu17               280\n",
       "19 Mu1|Mu3|Mu4                                     276\n",
       "20 Mu1|Mu5|Mu7|Mu8|MuDR|Mu11|Mu14|Mu16|Mu17|Mu19   203\n",
       "21 Mu1|Mu11|Mu14|Mu16|Mu19                         203\n",
       "22 Mu1|Mu2|Mu3|Mu4|Mu8|MuDR                        184\n",
       "23 Mu3|Mu4|Mu8|MuDR|Mu11|Mu14|Mu16|Mu19            159\n",
       "24 Mu8                                             148\n",
       "25 Mu11                                            125\n",
       "26 Mu1|Mu2|Mu8|MuDR|Mu11|Mu14|Mu16|Mu19            123\n",
       "27 Mu1|Mu3|Mu4|Mu5|Mu7|Mu11|Mu14|Mu16|Mu17|Mu19    100\n",
       "28 Mu1|Mu3|Mu4|Mu8|MuDR                             65\n",
       "29 Mu1|Mu8|MuDR|Mu11|Mu14|Mu16|Mu19                 53\n",
       "30 Mu1|Mu2|Mu3|Mu4|Mu11|Mu14|Mu16|Mu19              51"
      ]
     },
     "metadata": {},
     "output_type": "display_data"
    }
   ],
   "source": [
    "all_candidates_set <- fread(\"results/insertions_table_final_te_typed/type_candidate_stats_germinal_identified_insertions_annotated.csv\", sep=\",\", header=TRUE)\n",
    "head(all_candidates_set, n=30)"
   ]
  },
  {
   "cell_type": "code",
   "execution_count": 6,
   "id": "2191b138-eb58-4897-9c7e-9fb78fb095a7",
   "metadata": {},
   "outputs": [
    {
     "data": {
      "image/png": "[encoded data removed]",
      "text/plain": [
       "plot without title"
      ]
     },
     "metadata": {
      "image/png": {
       "height": 960,
       "width": 1500
      }
     },
     "output_type": "display_data"
    }
   ],
   "source": [
    "options(repr.plot.width=25, repr.plot.height=16)\n",
    "\n",
    "all_candidates_set %>%\n",
    "  head(n = 20) %>%\n",
    "  #plotting\n",
    "  #quick tips on reordering bars; https://sebastiansauer.github.io/ordering-bars/\n",
    "  ggplot(., aes(x= reorder(all_candidates, -count), y=count)) +\n",
    "    geom_col(fill = \"darkblue\") +\n",
    "    xlab(\"Most likely subtype/element\") +\n",
    "    ylab(\"Frequency\") +\n",
    "#    title(\"ddd\") +\n",
    "    theme(axis.text.y=element_text(size=12, face=\"bold\"),\n",
    "          axis.text.x=element_text(size=12, face=\"bold\", angle = 315, hjust = 0),\n",
    "          axis.title=element_text(size=20,face=\"bold\"),\n",
    "          plot.margin = unit(c(1,2,1,1), \"cm\"))"
   ]
  },
  {
   "cell_type": "code",
   "execution_count": null,
   "id": "ab3b3991-b503-485c-ae57-2149d011ac7e",
   "metadata": {},
   "outputs": [],
   "source": []
  },
  {
   "cell_type": "code",
   "execution_count": null,
   "id": "7bf99778-d0d7-4099-a239-9657a8597a56",
   "metadata": {},
   "outputs": [],
   "source": []
  },
  {
   "cell_type": "markdown",
   "id": "9158270f-02b4-4a4f-b1bd-f01b018b1e07",
   "metadata": {},
   "source": [
    "## Playing around with the clustering results"
   ]
  },
  {
   "cell_type": "code",
   "execution_count": 6,
   "id": "6c0b7f68-e73b-4f0f-859e-3c1d2b993e93",
   "metadata": {},
   "outputs": [
    {
     "name": "stderr",
     "output_type": "stream",
     "text": [
      "also installing the dependencies ‘colorspace’, ‘nlme’, ‘Matrix’, ‘farver’, ‘labeling’, ‘munsell’, ‘RColorBrewer’, ‘viridisLite’, ‘gtable’, ‘isoband’, ‘MASS’, ‘mgcv’, ‘scales’, ‘withr’\n",
      "\n",
      "\n",
      "Updating HTML index of packages in '.Library'\n",
      "\n",
      "Making 'packages.html' ...\n",
      " done\n",
      "\n"
     ]
    }
   ],
   "source": [
    "#install.packages(\"ggplot2\")\n",
    "library(ggplot2)"
   ]
  },
  {
   "cell_type": "code",
   "execution_count": 24,
   "id": "60a00817-e23c-4516-b7eb-b2af97419509",
   "metadata": {},
   "outputs": [
    {
     "data": {
      "text/html": [
       "<table class=\"dataframe\">\n",
       "<caption>A data.table: 6 × 3</caption>\n",
       "<thead>\n",
       "\t<tr><th scope=col>rep_read</th><th scope=col>freq</th><th scope=col>motif</th></tr>\n",
       "\t<tr><th scope=col>&lt;chr&gt;</th><th scope=col>&lt;int&gt;</th><th scope=col>&lt;chr&gt;</th></tr>\n",
       "</thead>\n",
       "<tbody>\n",
       "\t<tr><td>HISEQ:638:CC9MVANXX:6:1101:8454:90774\\1 </td><td>3935</td><td>CGCTCTTCGTCCATAATGGCAATTATCTC</td></tr>\n",
       "\t<tr><td>HISEQ:638:CC9MVANXX:6:1101:15163:55403\\1</td><td>2866</td><td>CTCTCTTCGTCTATAATGGCAATTATCTC</td></tr>\n",
       "\t<tr><td>HISEQ:638:CC9MVANXX:6:1101:5469:83060\\1 </td><td>2429</td><td>CGCTCTTCTTCTATAATGGCAATTATCTC</td></tr>\n",
       "\t<tr><td>HISEQ:638:CC9MVANXX:6:1101:17590:10404\\1</td><td>2258</td><td>CCCTCTTCGTCTATAATGGCAATTATCTC</td></tr>\n",
       "\t<tr><td>HISEQ:638:CC9MVANXX:6:1101:15345:24148\\1</td><td>1929</td><td>CGCTCTTCTTCCATAATGGCAATTATCTC</td></tr>\n",
       "\t<tr><td>HISEQ:638:CC9MVANXX:6:1101:6445:82894\\1 </td><td>1213</td><td>CCCTCTTCTTCTATAATGGCAATTATCTC</td></tr>\n",
       "</tbody>\n",
       "</table>\n"
      ],
      "text/latex": [
       "A data.table: 6 × 3\n",
       "\\begin{tabular}{lll}\n",
       " rep\\_read & freq & motif\\\\\n",
       " <chr> & <int> & <chr>\\\\\n",
       "\\hline\n",
       "\t HISEQ:638:CC9MVANXX:6:1101:8454:90774\\textbackslash{}1  & 3935 & CGCTCTTCGTCCATAATGGCAATTATCTC\\\\\n",
       "\t HISEQ:638:CC9MVANXX:6:1101:15163:55403\\textbackslash{}1 & 2866 & CTCTCTTCGTCTATAATGGCAATTATCTC\\\\\n",
       "\t HISEQ:638:CC9MVANXX:6:1101:5469:83060\\textbackslash{}1  & 2429 & CGCTCTTCTTCTATAATGGCAATTATCTC\\\\\n",
       "\t HISEQ:638:CC9MVANXX:6:1101:17590:10404\\textbackslash{}1 & 2258 & CCCTCTTCGTCTATAATGGCAATTATCTC\\\\\n",
       "\t HISEQ:638:CC9MVANXX:6:1101:15345:24148\\textbackslash{}1 & 1929 & CGCTCTTCTTCCATAATGGCAATTATCTC\\\\\n",
       "\t HISEQ:638:CC9MVANXX:6:1101:6445:82894\\textbackslash{}1  & 1213 & CCCTCTTCTTCTATAATGGCAATTATCTC\\\\\n",
       "\\end{tabular}\n"
      ],
      "text/markdown": [
       "\n",
       "A data.table: 6 × 3\n",
       "\n",
       "| rep_read &lt;chr&gt; | freq &lt;int&gt; | motif &lt;chr&gt; |\n",
       "|---|---|---|\n",
       "| HISEQ:638:CC9MVANXX:6:1101:8454:90774\\1  | 3935 | CGCTCTTCGTCCATAATGGCAATTATCTC |\n",
       "| HISEQ:638:CC9MVANXX:6:1101:15163:55403\\1 | 2866 | CTCTCTTCGTCTATAATGGCAATTATCTC |\n",
       "| HISEQ:638:CC9MVANXX:6:1101:5469:83060\\1  | 2429 | CGCTCTTCTTCTATAATGGCAATTATCTC |\n",
       "| HISEQ:638:CC9MVANXX:6:1101:17590:10404\\1 | 2258 | CCCTCTTCGTCTATAATGGCAATTATCTC |\n",
       "| HISEQ:638:CC9MVANXX:6:1101:15345:24148\\1 | 1929 | CGCTCTTCTTCCATAATGGCAATTATCTC |\n",
       "| HISEQ:638:CC9MVANXX:6:1101:6445:82894\\1  | 1213 | CCCTCTTCTTCTATAATGGCAATTATCTC |\n",
       "\n"
      ],
      "text/plain": [
       "  rep_read                                  freq motif                        \n",
       "1 HISEQ:638:CC9MVANXX:6:1101:8454:90774\\\\1  3935 CGCTCTTCGTCCATAATGGCAATTATCTC\n",
       "2 HISEQ:638:CC9MVANXX:6:1101:15163:55403\\\\1 2866 CTCTCTTCGTCTATAATGGCAATTATCTC\n",
       "3 HISEQ:638:CC9MVANXX:6:1101:5469:83060\\\\1  2429 CGCTCTTCTTCTATAATGGCAATTATCTC\n",
       "4 HISEQ:638:CC9MVANXX:6:1101:17590:10404\\\\1 2258 CCCTCTTCGTCTATAATGGCAATTATCTC\n",
       "5 HISEQ:638:CC9MVANXX:6:1101:15345:24148\\\\1 1929 CGCTCTTCTTCCATAATGGCAATTATCTC\n",
       "6 HISEQ:638:CC9MVANXX:6:1101:6445:82894\\\\1  1213 CCCTCTTCTTCTATAATGGCAATTATCTC"
      ]
     },
     "metadata": {},
     "output_type": "display_data"
    }
   ],
   "source": [
    "final_clstr <- fread(\"results/te_typing/uncategorized_clustered/final_clstr_file_germinal_identified_insertions_annotated.tsv\", sep=\"\\t\")\n",
    "names(final_clstr) <- c(\"rep_read\", \"freq\", \"motif\")\n",
    "head(final_clstr)"
   ]
  },
  {
   "cell_type": "code",
   "execution_count": 28,
   "id": "17deb0b1-2aa6-49f5-ac93-5935aa2f9ffb",
   "metadata": {},
   "outputs": [
    {
     "data": {
      "text/html": [
       "17154"
      ],
      "text/latex": [
       "17154"
      ],
      "text/markdown": [
       "17154"
      ],
      "text/plain": [
       "[1] 17154"
      ]
     },
     "metadata": {},
     "output_type": "display_data"
    },
    {
     "data": {
      "text/html": [
       "15741"
      ],
      "text/latex": [
       "15741"
      ],
      "text/markdown": [
       "15741"
      ],
      "text/plain": [
       "[1] 15741"
      ]
     },
     "metadata": {},
     "output_type": "display_data"
    },
    {
     "data": {
      "text/html": [
       "91.76"
      ],
      "text/latex": [
       "91.76"
      ],
      "text/markdown": [
       "91.76"
      ],
      "text/plain": [
       "[1] 91.76"
      ]
     },
     "metadata": {},
     "output_type": "display_data"
    }
   ],
   "source": [
    "total_uncategorized_reads <- sum(final_clstr$freq)\n",
    "top_7_motifs <- sum(final_clstr$freq[1:7])\n",
    "\n",
    "total_uncategorized_reads\n",
    "top_7_motifs\n",
    "\n",
    "round(\n",
    "  (top_7_motifs/total_uncategorized_reads)*100,\n",
    "  digits = 2  \n",
    ")"
   ]
  },
  {
   "cell_type": "code",
   "execution_count": 21,
   "id": "4b080085-f3c8-4029-858c-493b260e5dbd",
   "metadata": {},
   "outputs": [
    {
     "data": {
      "image/png": "[encoded data removed]",
      "text/plain": [
       "plot without title"
      ]
     },
     "metadata": {
      "image/png": {
       "height": 600,
       "width": 960
      }
     },
     "output_type": "display_data"
    }
   ],
   "source": [
    "options(repr.plot.width=16, repr.plot.height=10)\n",
    "\n",
    "final_clstr %>%\n",
    "  head(n = 20) %>%\n",
    "  #plotting\n",
    "  #quick tips on reordering bars; https://sebastiansauer.github.io/ordering-bars/\n",
    "  ggplot(., aes(y= reorder(motif, freq), x=freq)) +\n",
    "    geom_col(fill = \"darkblue\") +\n",
    "    xlab(\"Frequency of motif in uncategorized insertions\") +\n",
    "    ylab(\"Motif\") +\n",
    "    theme(axis.text=element_text(size=12, face=\"bold\"),\n",
    "          axis.title=element_text(size=16,face=\"bold\"))"
   ]
  },
  {
   "cell_type": "code",
   "execution_count": null,
   "id": "d4fd64ab-8b41-4fae-8f9f-c0023110bc85",
   "metadata": {},
   "outputs": [],
   "source": []
  },
  {
   "cell_type": "code",
   "execution_count": null,
   "id": "12e15563-aa25-4e86-8043-7a495872dee7",
   "metadata": {},
   "outputs": [],
   "source": []
  },
  {
   "cell_type": "code",
   "execution_count": null,
   "id": "d6ea9e0f-3ca0-4411-baac-fc587b837074",
   "metadata": {},
   "outputs": [],
   "source": []
  }
 ],
 "metadata": {
  "kernelspec": {
   "display_name": "R",
   "language": "R",
   "name": "ir"
  },
  "language_info": {
   "codemirror_mode": "r",
   "file_extension": ".r",
   "mimetype": "text/x-r-source",
   "name": "R",
   "pygments_lexer": "r",
   "version": "4.1.0"
  }
 },
 "nbformat": 4,
 "nbformat_minor": 5
}
