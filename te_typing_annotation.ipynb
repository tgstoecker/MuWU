{
 "cells": [
  {
   "cell_type": "markdown",
   "id": "f3bbaf62-9fdb-47db-9bf0-3f6d6c2661e2",
   "metadata": {},
   "source": [
    "### Code in the Rscript"
   ]
  },
  {
   "cell_type": "code",
   "execution_count": 102,
   "id": "4ed00b0d-fb9e-4dbd-b744-54258a637cc5",
   "metadata": {},
   "outputs": [
    {
     "name": "stderr",
     "output_type": "stream",
     "text": [
      "Updating HTML index of packages in '.Library'\n",
      "\n",
      "Making 'packages.html' ...\n",
      " done\n",
      "\n"
     ]
    }
   ],
   "source": [
    "install.packages(\"data.table\")"
   ]
  },
  {
   "cell_type": "code",
   "execution_count": 2,
   "id": "faa925d7-3174-4e02-9a4c-3dc3ee4549dc",
   "metadata": {
    "tags": []
   },
   "outputs": [],
   "source": [
    "library(dplyr)\n",
    "library(fuzzyjoin)\n",
    "library(readxl)\n",
    "library(IRanges)\n",
    "\n",
    "#install.packages(\"stringr\")\n",
    "library(stringr)\n",
    "library(tidyr)\n",
    "library(tibble)\n",
    "\n",
    "library(data.table)"
   ]
  },
  {
   "cell_type": "code",
   "execution_count": 3,
   "id": "7bf8f4bb-55e1-4841-94a9-725de3e5d0bd",
   "metadata": {},
   "outputs": [
    {
     "data": {
      "text/html": [
       "220104"
      ],
      "text/latex": [
       "220104"
      ],
      "text/markdown": [
       "220104"
      ],
      "text/plain": [
       "[1] 220104"
      ]
     },
     "metadata": {},
     "output_type": "display_data"
    },
    {
     "data": {
      "text/html": [
       "<table class=\"dataframe\">\n",
       "<caption>A data.frame: 6 × 6</caption>\n",
       "<thead>\n",
       "\t<tr><th></th><th scope=col>Chr</th><th scope=col>InsertionStart</th><th scope=col>InsertionEnd</th><th scope=col>Sample</th><th scope=col>StartReads</th><th scope=col>EndReads</th></tr>\n",
       "\t<tr><th></th><th scope=col>&lt;chr&gt;</th><th scope=col>&lt;int&gt;</th><th scope=col>&lt;int&gt;</th><th scope=col>&lt;chr&gt;</th><th scope=col>&lt;int&gt;</th><th scope=col>&lt;int&gt;</th></tr>\n",
       "</thead>\n",
       "<tbody>\n",
       "\t<tr><th scope=row>1</th><td>1</td><td> 215100</td><td> 215108</td><td>Col_01</td><td>25</td><td>58</td></tr>\n",
       "\t<tr><th scope=row>2</th><td>1</td><td>1027631</td><td>1027639</td><td>Col_01</td><td> 6</td><td> 4</td></tr>\n",
       "\t<tr><th scope=row>3</th><td>1</td><td>1027759</td><td>1027767</td><td>Col_01</td><td> 7</td><td>20</td></tr>\n",
       "\t<tr><th scope=row>4</th><td>1</td><td>2289335</td><td>2289343</td><td>Col_01</td><td>18</td><td>19</td></tr>\n",
       "\t<tr><th scope=row>5</th><td>1</td><td>2298158</td><td>2298166</td><td>Col_01</td><td> 2</td><td> 2</td></tr>\n",
       "\t<tr><th scope=row>6</th><td>1</td><td>2524312</td><td>2524320</td><td>Col_01</td><td> 2</td><td> 3</td></tr>\n",
       "</tbody>\n",
       "</table>\n"
      ],
      "text/latex": [
       "A data.frame: 6 × 6\n",
       "\\begin{tabular}{r|llllll}\n",
       "  & Chr & InsertionStart & InsertionEnd & Sample & StartReads & EndReads\\\\\n",
       "  & <chr> & <int> & <int> & <chr> & <int> & <int>\\\\\n",
       "\\hline\n",
       "\t1 & 1 &  215100 &  215108 & Col\\_01 & 25 & 58\\\\\n",
       "\t2 & 1 & 1027631 & 1027639 & Col\\_01 &  6 &  4\\\\\n",
       "\t3 & 1 & 1027759 & 1027767 & Col\\_01 &  7 & 20\\\\\n",
       "\t4 & 1 & 2289335 & 2289343 & Col\\_01 & 18 & 19\\\\\n",
       "\t5 & 1 & 2298158 & 2298166 & Col\\_01 &  2 &  2\\\\\n",
       "\t6 & 1 & 2524312 & 2524320 & Col\\_01 &  2 &  3\\\\\n",
       "\\end{tabular}\n"
      ],
      "text/markdown": [
       "\n",
       "A data.frame: 6 × 6\n",
       "\n",
       "| <!--/--> | Chr &lt;chr&gt; | InsertionStart &lt;int&gt; | InsertionEnd &lt;int&gt; | Sample &lt;chr&gt; | StartReads &lt;int&gt; | EndReads &lt;int&gt; |\n",
       "|---|---|---|---|---|---|---|\n",
       "| 1 | 1 |  215100 |  215108 | Col_01 | 25 | 58 |\n",
       "| 2 | 1 | 1027631 | 1027639 | Col_01 |  6 |  4 |\n",
       "| 3 | 1 | 1027759 | 1027767 | Col_01 |  7 | 20 |\n",
       "| 4 | 1 | 2289335 | 2289343 | Col_01 | 18 | 19 |\n",
       "| 5 | 1 | 2298158 | 2298166 | Col_01 |  2 |  2 |\n",
       "| 6 | 1 | 2524312 | 2524320 | Col_01 |  2 |  3 |\n",
       "\n"
      ],
      "text/plain": [
       "  Chr InsertionStart InsertionEnd Sample StartReads EndReads\n",
       "1 1    215100         215108      Col_01 25         58      \n",
       "2 1   1027631        1027639      Col_01  6          4      \n",
       "3 1   1027759        1027767      Col_01  7         20      \n",
       "4 1   2289335        2289343      Col_01 18         19      \n",
       "5 1   2298158        2298166      Col_01  2          2      \n",
       "6 1   2524312        2524320      Col_01  2          3      "
      ]
     },
     "metadata": {},
     "output_type": "display_data"
    }
   ],
   "source": [
    "#samples <- snakemake@params[[\"samples\"]]\n",
    "#all_types <- snakemake@params[[\"all_types\"]]\n",
    "\n",
    "\n",
    "samples <- c('Row_01', 'Row_02', 'Row_03', 'Row_04',\n",
    "          'Row_05', 'Row_06', 'Row_07', 'Row_08',\n",
    "          'Row_09', 'Row_10', 'Row_11', 'Row_12',\n",
    "          'Row_13', 'Row_14', 'Row_15', 'Row_16',\n",
    "          'Row_17', 'Row_18', 'Row_19', 'Row_20',\n",
    "          'Row_21', 'Row_22', 'Row_23', 'Row_24',\n",
    "          'Col_01', 'Col_02', 'Col_03', 'Col_04',\n",
    "          'Col_05', 'Col_06', 'Col_07', 'Col_08',\n",
    "          'Col_09', 'Col_10', 'Col_11', 'Col_12',\n",
    "          'Col_13', 'Col_14', 'Col_15', 'Col_16',\n",
    "          'Col_17', 'Col_18', 'Col_19', 'Col_20',\n",
    "          'Col_21', 'Col_22', 'Col_23', 'Col_24')\n",
    "\n",
    "\n",
    "all_types <- c(\"Mu1_L\", \"Mu1_R\",\n",
    "\"Mu2_L\",\n",
    "\"Mu2_R\",\n",
    "\"Mu3_L\",\n",
    "\"Mu3_R\",\n",
    "\"Mu4_L\",\n",
    "\"Mu4_R\",\n",
    "\"Mu5_L\",\n",
    "\"Mu5_R\",\n",
    "\"Mu7_L\",\n",
    "\"Mu7_R\",\n",
    "\"Mu8_L\",\n",
    "\"Mu8_R\",\n",
    "\"MuDR_L\",\n",
    "\"MuDR_R\",\n",
    "\"Mu10_L\",\n",
    "\"Mu10_R\",\n",
    "\"Mu11_L\",\n",
    "\"Mu11_R\",\n",
    "\"Mu12_L\",\n",
    "\"Mu12_R\",\n",
    "\"Mu13_L\",\n",
    "\"Mu13_R\",\n",
    "\"Mu14_L\",\n",
    "\"Mu14_R\",\n",
    "\"Mu15_L\",\n",
    "\"Mu15_R\",\n",
    "\"Mu16_L\",\n",
    "\"Mu16_R\",\n",
    "\"Mu17_L\",\n",
    "\"Mu17_R\",\n",
    "\"Mu18_L\",\n",
    "\"Mu18_R\",\n",
    "\"Mu19_L\",\n",
    "\"Mu19_R\")\n",
    "\n",
    "\n",
    "\n",
    "all_insertions <- read.csv(\"results/insertions_table_final/all_identified_insertions.csv\", header = TRUE)\n",
    "#all_insertions <- read.csv(\"results/insertions_table_final/germinal_identified_insertions.csv\", header = TRUE)\n",
    "#all_insertions <- read.csv(\"results/insertions_table_final/all_identified_insertions_annotated.csv\", header = TRUE)\n",
    "#all_insertions <- read.csv(\"results/insertions_table_final/germinal_identified_insertions_annotated.csv\", header = TRUE)\n",
    "\n",
    "nrow(all_insertions)\n",
    "head(all_insertions)"
   ]
  },
  {
   "cell_type": "code",
   "execution_count": null,
   "id": "3a909ce1-942f-441d-a8f4-9715ca37dc57",
   "metadata": {},
   "outputs": [],
   "source": []
  },
  {
   "cell_type": "code",
   "execution_count": 4,
   "id": "22233dc5-f8d3-49bc-a3f5-fae9b2543bab",
   "metadata": {},
   "outputs": [
    {
     "data": {
      "text/html": [
       "<style>\n",
       ".list-inline {list-style: none; margin:0; padding: 0}\n",
       ".list-inline>li {display: inline-block}\n",
       ".list-inline>li:not(:last-child)::after {content: \"\\00b7\"; padding: 0 .5ex}\n",
       "</style>\n",
       "<ol class=list-inline><li>'Mu1'</li><li>'Mu2'</li><li>'Mu3'</li><li>'Mu4'</li><li>'Mu5'</li><li>'Mu7'</li><li>'Mu8'</li><li>'MuDR'</li><li>'Mu10'</li><li>'Mu11'</li><li>'Mu12'</li><li>'Mu13'</li><li>'Mu14'</li><li>'Mu15'</li><li>'Mu16'</li><li>'Mu17'</li><li>'Mu18'</li><li>'Mu19'</li></ol>\n"
      ],
      "text/latex": [
       "\\begin{enumerate*}\n",
       "\\item 'Mu1'\n",
       "\\item 'Mu2'\n",
       "\\item 'Mu3'\n",
       "\\item 'Mu4'\n",
       "\\item 'Mu5'\n",
       "\\item 'Mu7'\n",
       "\\item 'Mu8'\n",
       "\\item 'MuDR'\n",
       "\\item 'Mu10'\n",
       "\\item 'Mu11'\n",
       "\\item 'Mu12'\n",
       "\\item 'Mu13'\n",
       "\\item 'Mu14'\n",
       "\\item 'Mu15'\n",
       "\\item 'Mu16'\n",
       "\\item 'Mu17'\n",
       "\\item 'Mu18'\n",
       "\\item 'Mu19'\n",
       "\\end{enumerate*}\n"
      ],
      "text/markdown": [
       "1. 'Mu1'\n",
       "2. 'Mu2'\n",
       "3. 'Mu3'\n",
       "4. 'Mu4'\n",
       "5. 'Mu5'\n",
       "6. 'Mu7'\n",
       "7. 'Mu8'\n",
       "8. 'MuDR'\n",
       "9. 'Mu10'\n",
       "10. 'Mu11'\n",
       "11. 'Mu12'\n",
       "12. 'Mu13'\n",
       "13. 'Mu14'\n",
       "14. 'Mu15'\n",
       "15. 'Mu16'\n",
       "16. 'Mu17'\n",
       "17. 'Mu18'\n",
       "18. 'Mu19'\n",
       "\n",
       "\n"
      ],
      "text/plain": [
       " [1] \"Mu1\"  \"Mu2\"  \"Mu3\"  \"Mu4\"  \"Mu5\"  \"Mu7\"  \"Mu8\"  \"MuDR\" \"Mu10\" \"Mu11\"\n",
       "[11] \"Mu12\" \"Mu13\" \"Mu14\" \"Mu15\" \"Mu16\" \"Mu17\" \"Mu18\" \"Mu19\""
      ]
     },
     "metadata": {},
     "output_type": "display_data"
    }
   ],
   "source": [
    "base_all_types <- str_remove(all_types, c(\"_L\"))\n",
    "base_all_types <- str_remove(base_all_types, c(\"_R\"))\n",
    "base_all_types <- unique(base_all_types)\n",
    "base_all_types"
   ]
  },
  {
   "cell_type": "code",
   "execution_count": 5,
   "id": "447f442c-8933-47a4-8c08-302838cae3df",
   "metadata": {},
   "outputs": [
    {
     "data": {
      "text/html": [
       "<table class=\"dataframe\">\n",
       "<caption>A data.frame: 6 × 43</caption>\n",
       "<thead>\n",
       "\t<tr><th></th><th scope=col>Chr</th><th scope=col>InsertionStart</th><th scope=col>InsertionEnd</th><th scope=col>Sample</th><th scope=col>StartReads</th><th scope=col>EndReads</th><th scope=col>Mu1_L</th><th scope=col>Mu1_R</th><th scope=col>Mu2_L</th><th scope=col>Mu2_R</th><th scope=col>⋯</th><th scope=col>Mu15_R</th><th scope=col>Mu16_L</th><th scope=col>Mu16_R</th><th scope=col>Mu17_L</th><th scope=col>Mu17_R</th><th scope=col>Mu18_L</th><th scope=col>Mu18_R</th><th scope=col>Mu19_L</th><th scope=col>Mu19_R</th><th scope=col>uncategorized</th></tr>\n",
       "\t<tr><th></th><th scope=col>&lt;chr&gt;</th><th scope=col>&lt;int&gt;</th><th scope=col>&lt;int&gt;</th><th scope=col>&lt;chr&gt;</th><th scope=col>&lt;int&gt;</th><th scope=col>&lt;int&gt;</th><th scope=col>&lt;dbl&gt;</th><th scope=col>&lt;dbl&gt;</th><th scope=col>&lt;dbl&gt;</th><th scope=col>&lt;dbl&gt;</th><th scope=col>⋯</th><th scope=col>&lt;dbl&gt;</th><th scope=col>&lt;dbl&gt;</th><th scope=col>&lt;dbl&gt;</th><th scope=col>&lt;dbl&gt;</th><th scope=col>&lt;dbl&gt;</th><th scope=col>&lt;dbl&gt;</th><th scope=col>&lt;dbl&gt;</th><th scope=col>&lt;dbl&gt;</th><th scope=col>&lt;dbl&gt;</th><th scope=col>&lt;dbl&gt;</th></tr>\n",
       "</thead>\n",
       "<tbody>\n",
       "\t<tr><th scope=row>1</th><td>1</td><td> 215100</td><td> 215108</td><td>Col_01</td><td>25</td><td>58</td><td>0</td><td>0</td><td>0</td><td>0</td><td>⋯</td><td>0</td><td>0</td><td>0</td><td>0</td><td>0</td><td>0</td><td>0</td><td>0</td><td>0</td><td>0</td></tr>\n",
       "\t<tr><th scope=row>2</th><td>1</td><td>1027631</td><td>1027639</td><td>Col_01</td><td> 6</td><td> 4</td><td>0</td><td>0</td><td>0</td><td>0</td><td>⋯</td><td>0</td><td>0</td><td>0</td><td>0</td><td>0</td><td>0</td><td>0</td><td>0</td><td>0</td><td>0</td></tr>\n",
       "\t<tr><th scope=row>3</th><td>1</td><td>1027759</td><td>1027767</td><td>Col_01</td><td> 7</td><td>20</td><td>0</td><td>0</td><td>0</td><td>0</td><td>⋯</td><td>0</td><td>0</td><td>0</td><td>0</td><td>0</td><td>0</td><td>0</td><td>0</td><td>0</td><td>0</td></tr>\n",
       "\t<tr><th scope=row>4</th><td>1</td><td>2289335</td><td>2289343</td><td>Col_01</td><td>18</td><td>19</td><td>0</td><td>0</td><td>0</td><td>0</td><td>⋯</td><td>0</td><td>0</td><td>0</td><td>0</td><td>0</td><td>0</td><td>0</td><td>0</td><td>0</td><td>0</td></tr>\n",
       "\t<tr><th scope=row>5</th><td>1</td><td>2298158</td><td>2298166</td><td>Col_01</td><td> 2</td><td> 2</td><td>0</td><td>0</td><td>0</td><td>0</td><td>⋯</td><td>0</td><td>0</td><td>0</td><td>0</td><td>0</td><td>0</td><td>0</td><td>0</td><td>0</td><td>0</td></tr>\n",
       "\t<tr><th scope=row>6</th><td>1</td><td>2524312</td><td>2524320</td><td>Col_01</td><td> 2</td><td> 3</td><td>0</td><td>0</td><td>0</td><td>0</td><td>⋯</td><td>0</td><td>0</td><td>0</td><td>0</td><td>0</td><td>0</td><td>0</td><td>0</td><td>0</td><td>0</td></tr>\n",
       "</tbody>\n",
       "</table>\n"
      ],
      "text/latex": [
       "A data.frame: 6 × 43\n",
       "\\begin{tabular}{r|lllllllllllllllllllll}\n",
       "  & Chr & InsertionStart & InsertionEnd & Sample & StartReads & EndReads & Mu1\\_L & Mu1\\_R & Mu2\\_L & Mu2\\_R & ⋯ & Mu15\\_R & Mu16\\_L & Mu16\\_R & Mu17\\_L & Mu17\\_R & Mu18\\_L & Mu18\\_R & Mu19\\_L & Mu19\\_R & uncategorized\\\\\n",
       "  & <chr> & <int> & <int> & <chr> & <int> & <int> & <dbl> & <dbl> & <dbl> & <dbl> & ⋯ & <dbl> & <dbl> & <dbl> & <dbl> & <dbl> & <dbl> & <dbl> & <dbl> & <dbl> & <dbl>\\\\\n",
       "\\hline\n",
       "\t1 & 1 &  215100 &  215108 & Col\\_01 & 25 & 58 & 0 & 0 & 0 & 0 & ⋯ & 0 & 0 & 0 & 0 & 0 & 0 & 0 & 0 & 0 & 0\\\\\n",
       "\t2 & 1 & 1027631 & 1027639 & Col\\_01 &  6 &  4 & 0 & 0 & 0 & 0 & ⋯ & 0 & 0 & 0 & 0 & 0 & 0 & 0 & 0 & 0 & 0\\\\\n",
       "\t3 & 1 & 1027759 & 1027767 & Col\\_01 &  7 & 20 & 0 & 0 & 0 & 0 & ⋯ & 0 & 0 & 0 & 0 & 0 & 0 & 0 & 0 & 0 & 0\\\\\n",
       "\t4 & 1 & 2289335 & 2289343 & Col\\_01 & 18 & 19 & 0 & 0 & 0 & 0 & ⋯ & 0 & 0 & 0 & 0 & 0 & 0 & 0 & 0 & 0 & 0\\\\\n",
       "\t5 & 1 & 2298158 & 2298166 & Col\\_01 &  2 &  2 & 0 & 0 & 0 & 0 & ⋯ & 0 & 0 & 0 & 0 & 0 & 0 & 0 & 0 & 0 & 0\\\\\n",
       "\t6 & 1 & 2524312 & 2524320 & Col\\_01 &  2 &  3 & 0 & 0 & 0 & 0 & ⋯ & 0 & 0 & 0 & 0 & 0 & 0 & 0 & 0 & 0 & 0\\\\\n",
       "\\end{tabular}\n"
      ],
      "text/markdown": [
       "\n",
       "A data.frame: 6 × 43\n",
       "\n",
       "| <!--/--> | Chr &lt;chr&gt; | InsertionStart &lt;int&gt; | InsertionEnd &lt;int&gt; | Sample &lt;chr&gt; | StartReads &lt;int&gt; | EndReads &lt;int&gt; | Mu1_L &lt;dbl&gt; | Mu1_R &lt;dbl&gt; | Mu2_L &lt;dbl&gt; | Mu2_R &lt;dbl&gt; | ⋯ ⋯ | Mu15_R &lt;dbl&gt; | Mu16_L &lt;dbl&gt; | Mu16_R &lt;dbl&gt; | Mu17_L &lt;dbl&gt; | Mu17_R &lt;dbl&gt; | Mu18_L &lt;dbl&gt; | Mu18_R &lt;dbl&gt; | Mu19_L &lt;dbl&gt; | Mu19_R &lt;dbl&gt; | uncategorized &lt;dbl&gt; |\n",
       "|---|---|---|---|---|---|---|---|---|---|---|---|---|---|---|---|---|---|---|---|---|---|\n",
       "| 1 | 1 |  215100 |  215108 | Col_01 | 25 | 58 | 0 | 0 | 0 | 0 | ⋯ | 0 | 0 | 0 | 0 | 0 | 0 | 0 | 0 | 0 | 0 |\n",
       "| 2 | 1 | 1027631 | 1027639 | Col_01 |  6 |  4 | 0 | 0 | 0 | 0 | ⋯ | 0 | 0 | 0 | 0 | 0 | 0 | 0 | 0 | 0 | 0 |\n",
       "| 3 | 1 | 1027759 | 1027767 | Col_01 |  7 | 20 | 0 | 0 | 0 | 0 | ⋯ | 0 | 0 | 0 | 0 | 0 | 0 | 0 | 0 | 0 | 0 |\n",
       "| 4 | 1 | 2289335 | 2289343 | Col_01 | 18 | 19 | 0 | 0 | 0 | 0 | ⋯ | 0 | 0 | 0 | 0 | 0 | 0 | 0 | 0 | 0 | 0 |\n",
       "| 5 | 1 | 2298158 | 2298166 | Col_01 |  2 |  2 | 0 | 0 | 0 | 0 | ⋯ | 0 | 0 | 0 | 0 | 0 | 0 | 0 | 0 | 0 | 0 |\n",
       "| 6 | 1 | 2524312 | 2524320 | Col_01 |  2 |  3 | 0 | 0 | 0 | 0 | ⋯ | 0 | 0 | 0 | 0 | 0 | 0 | 0 | 0 | 0 | 0 |\n",
       "\n"
      ],
      "text/plain": [
       "  Chr InsertionStart InsertionEnd Sample StartReads EndReads Mu1_L Mu1_R Mu2_L\n",
       "1 1    215100         215108      Col_01 25         58       0     0     0    \n",
       "2 1   1027631        1027639      Col_01  6          4       0     0     0    \n",
       "3 1   1027759        1027767      Col_01  7         20       0     0     0    \n",
       "4 1   2289335        2289343      Col_01 18         19       0     0     0    \n",
       "5 1   2298158        2298166      Col_01  2          2       0     0     0    \n",
       "6 1   2524312        2524320      Col_01  2          3       0     0     0    \n",
       "  Mu2_R ⋯ Mu15_R Mu16_L Mu16_R Mu17_L Mu17_R Mu18_L Mu18_R Mu19_L Mu19_R\n",
       "1 0     ⋯ 0      0      0      0      0      0      0      0      0     \n",
       "2 0     ⋯ 0      0      0      0      0      0      0      0      0     \n",
       "3 0     ⋯ 0      0      0      0      0      0      0      0      0     \n",
       "4 0     ⋯ 0      0      0      0      0      0      0      0      0     \n",
       "5 0     ⋯ 0      0      0      0      0      0      0      0      0     \n",
       "6 0     ⋯ 0      0      0      0      0      0      0      0      0     \n",
       "  uncategorized\n",
       "1 0            \n",
       "2 0            \n",
       "3 0            \n",
       "4 0            \n",
       "5 0            \n",
       "6 0            "
      ]
     },
     "metadata": {},
     "output_type": "display_data"
    }
   ],
   "source": [
    "#create insertions table with additional columns per (Mu) element/type\n",
    "all_insertions_typed <- all_insertions\n",
    "\n",
    "all_insertions_typed[,all_types]=0\n",
    "#add additional column for uncategorized reads\n",
    "all_insertions_typed[,\"uncategorized\"]=0\n",
    "\n",
    "head(all_insertions_typed)\n",
    "\n",
    "#for (t in all_types) {\n",
    "#  all_insertions_typed %>%\n",
    "#  tibble::add_column(get(t) = 0) %>%\n",
    "#  head() %>% print()\n",
    "#}"
   ]
  },
  {
   "cell_type": "code",
   "execution_count": 6,
   "id": "d095bfcc-d69a-42c5-af8c-762f9368f03e",
   "metadata": {},
   "outputs": [
    {
     "data": {
      "text/html": [
       "<table class=\"dataframe\">\n",
       "<caption>A data.table: 6 × 3</caption>\n",
       "<thead>\n",
       "\t<tr><th scope=col>Name</th><th scope=col>Strand</th><th scope=col>Type</th></tr>\n",
       "\t<tr><th scope=col>&lt;chr&gt;</th><th scope=col>&lt;chr&gt;</th><th scope=col>&lt;chr&gt;</th></tr>\n",
       "</thead>\n",
       "<tbody>\n",
       "\t<tr><td>HISEQ:461:C9U3VANXX:5:1101:4516:2249 </td><td>1</td><td>Mu11_L</td></tr>\n",
       "\t<tr><td>HISEQ:461:C9U3VANXX:5:1101:6662:2482 </td><td>1</td><td>Mu11_L</td></tr>\n",
       "\t<tr><td>HISEQ:461:C9U3VANXX:5:1101:15583:2390</td><td>1</td><td>Mu11_L</td></tr>\n",
       "\t<tr><td>HISEQ:461:C9U3VANXX:5:1101:21206:3115</td><td>1</td><td>Mu11_L</td></tr>\n",
       "\t<tr><td>HISEQ:461:C9U3VANXX:5:1101:2577:4039 </td><td>1</td><td>Mu11_L</td></tr>\n",
       "\t<tr><td>HISEQ:461:C9U3VANXX:5:1101:14158:5627</td><td>1</td><td>Mu11_L</td></tr>\n",
       "</tbody>\n",
       "</table>\n"
      ],
      "text/latex": [
       "A data.table: 6 × 3\n",
       "\\begin{tabular}{lll}\n",
       " Name & Strand & Type\\\\\n",
       " <chr> & <chr> & <chr>\\\\\n",
       "\\hline\n",
       "\t HISEQ:461:C9U3VANXX:5:1101:4516:2249  & 1 & Mu11\\_L\\\\\n",
       "\t HISEQ:461:C9U3VANXX:5:1101:6662:2482  & 1 & Mu11\\_L\\\\\n",
       "\t HISEQ:461:C9U3VANXX:5:1101:15583:2390 & 1 & Mu11\\_L\\\\\n",
       "\t HISEQ:461:C9U3VANXX:5:1101:21206:3115 & 1 & Mu11\\_L\\\\\n",
       "\t HISEQ:461:C9U3VANXX:5:1101:2577:4039  & 1 & Mu11\\_L\\\\\n",
       "\t HISEQ:461:C9U3VANXX:5:1101:14158:5627 & 1 & Mu11\\_L\\\\\n",
       "\\end{tabular}\n"
      ],
      "text/markdown": [
       "\n",
       "A data.table: 6 × 3\n",
       "\n",
       "| Name &lt;chr&gt; | Strand &lt;chr&gt; | Type &lt;chr&gt; |\n",
       "|---|---|---|\n",
       "| HISEQ:461:C9U3VANXX:5:1101:4516:2249  | 1 | Mu11_L |\n",
       "| HISEQ:461:C9U3VANXX:5:1101:6662:2482  | 1 | Mu11_L |\n",
       "| HISEQ:461:C9U3VANXX:5:1101:15583:2390 | 1 | Mu11_L |\n",
       "| HISEQ:461:C9U3VANXX:5:1101:21206:3115 | 1 | Mu11_L |\n",
       "| HISEQ:461:C9U3VANXX:5:1101:2577:4039  | 1 | Mu11_L |\n",
       "| HISEQ:461:C9U3VANXX:5:1101:14158:5627 | 1 | Mu11_L |\n",
       "\n"
      ],
      "text/plain": [
       "  Name                                  Strand Type  \n",
       "1 HISEQ:461:C9U3VANXX:5:1101:4516:2249  1      Mu11_L\n",
       "2 HISEQ:461:C9U3VANXX:5:1101:6662:2482  1      Mu11_L\n",
       "3 HISEQ:461:C9U3VANXX:5:1101:15583:2390 1      Mu11_L\n",
       "4 HISEQ:461:C9U3VANXX:5:1101:21206:3115 1      Mu11_L\n",
       "5 HISEQ:461:C9U3VANXX:5:1101:2577:4039  1      Mu11_L\n",
       "6 HISEQ:461:C9U3VANXX:5:1101:14158:5627 1      Mu11_L"
      ]
     },
     "metadata": {},
     "output_type": "display_data"
    }
   ],
   "source": [
    "#read-in final sample files\n",
    "for (s in samples) {\n",
    "  tmp_type_file <- fread(paste0(\"results/te_typing/pre_sorting/\", s, \"/\", s, \"_te_types_merged.tsv\"), header = TRUE, sep=\"\\t\")\n",
    "  tmp_type_file$Strand <- as.character(tmp_type_file$Strand)\n",
    "  assign(paste0(s, \"_type_file\"), tmp_type_file)\n",
    "}\n",
    "\n",
    "head(`Row_02_type_file`)"
   ]
  },
  {
   "cell_type": "code",
   "execution_count": null,
   "id": "f5e1cd8d-4e79-468b-aa36-691d460060a8",
   "metadata": {},
   "outputs": [],
   "source": []
  },
  {
   "cell_type": "code",
   "execution_count": 7,
   "id": "b8d2048b-3168-4126-9a89-60c3a32831fb",
   "metadata": {},
   "outputs": [],
   "source": [
    "#quick function to analyse bitwise encoding of SAM flag\n",
    "#modified, but core idea idea from here - https://stackoverflow.com/a/12088263\n",
    "number2binary = function(number, noBits) {\n",
    "       binary_vector = rev(as.numeric(intToBits(number)))\n",
    "       if(missing(noBits)) {\n",
    "          return(rev(binary_vector))\n",
    "       } else {\n",
    "          return(rev(binary_vector[-(1:(length(binary_vector) - noBits))]))\n",
    "       }\n",
    "}\n",
    "\n",
    "#num=163\n",
    "#number2binary(num, 8)[7]\n",
    "#number2binary(num, 8)[8]"
   ]
  },
  {
   "cell_type": "code",
   "execution_count": 8,
   "id": "e2bf699c-985f-4fcc-b2b7-3b932900b5bb",
   "metadata": {},
   "outputs": [
    {
     "data": {
      "text/html": [
       "<style>\n",
       ".list-inline {list-style: none; margin:0; padding: 0}\n",
       ".list-inline>li {display: inline-block}\n",
       ".list-inline>li:not(:last-child)::after {content: \"\\00b7\"; padding: 0 .5ex}\n",
       "</style>\n",
       "<ol class=list-inline><li>'Row_01'</li><li>'Row_02'</li></ol>\n"
      ],
      "text/latex": [
       "\\begin{enumerate*}\n",
       "\\item 'Row\\_01'\n",
       "\\item 'Row\\_02'\n",
       "\\end{enumerate*}\n"
      ],
      "text/markdown": [
       "1. 'Row_01'\n",
       "2. 'Row_02'\n",
       "\n",
       "\n"
      ],
      "text/plain": [
       "[1] \"Row_01\" \"Row_02\""
      ]
     },
     "metadata": {},
     "output_type": "display_data"
    }
   ],
   "source": [
    "samples[1:2]"
   ]
  },
  {
   "cell_type": "code",
   "execution_count": 122,
   "id": "2d51e19c-1f64-4b8e-bbd2-2413913af836",
   "metadata": {},
   "outputs": [
    {
     "data": {
      "text/html": [
       "<table class=\"dataframe\">\n",
       "<caption>A data.table: 6 × 5</caption>\n",
       "<thead>\n",
       "\t<tr><th scope=col>V1</th><th scope=col>V2</th><th scope=col>V3</th><th scope=col>V4</th><th scope=col>V10</th></tr>\n",
       "\t<tr><th scope=col>&lt;chr&gt;</th><th scope=col>&lt;int&gt;</th><th scope=col>&lt;chr&gt;</th><th scope=col>&lt;int&gt;</th><th scope=col>&lt;chr&gt;</th></tr>\n",
       "</thead>\n",
       "<tbody>\n",
       "\t<tr><td>HISEQ:461:C9U3VANXX:5:1103:4134:44701 </td><td> 99</td><td>1</td><td>55381</td><td>GTGGGAGGTGACGTTGGGGAGCGGGATGCCTTTGTCGGCGCAGCCGTCCTCGACCATTTTCTTG                                </td></tr>\n",
       "\t<tr><td>HISEQ:461:C9U3VANXX:5:1206:21103:43041</td><td>133</td><td>1</td><td>55381</td><td>CAAGATTCTTACCTAATGGAAATTCTACCAAAAAA                                                             </td></tr>\n",
       "\t<tr><td>HISEQ:461:C9U3VANXX:5:1103:4134:44701 </td><td>147</td><td>1</td><td>55381</td><td>GTGGGAGGTGACGTTGGGGAGCGGGATGCCTTTGTCGGCGCAGCCGTCCTCGACCATTTTCTTG                                </td></tr>\n",
       "\t<tr><td>HISEQ:461:C9U3VANXX:5:2304:18901:21568</td><td>163</td><td>1</td><td>55739</td><td>AGCAGCGAGTTAATTTCAAACATAGGACTCCGAAGGTGGCGCTTTTCACATGTAGAGGAGCTCCTTGTATGTTTCAAAAATGAGACTATTCCACGC</td></tr>\n",
       "\t<tr><td>HISEQ:461:C9U3VANXX:5:2304:18901:21568</td><td> 83</td><td>1</td><td>55739</td><td>AGCAGCGAGTTAATTTCAAACATAGGACTCCGAAGGTGGCGCTTTTCACATGTAGAGGAGCTCCTTGTATGTTTCAAAAATGAGACTATTCCACGC</td></tr>\n",
       "\t<tr><td>HISEQ:461:C9U3VANXX:5:2101:12970:6800 </td><td> 73</td><td>1</td><td>82518</td><td>TTGCCATTATGA                                                                                    </td></tr>\n",
       "</tbody>\n",
       "</table>\n"
      ],
      "text/latex": [
       "A data.table: 6 × 5\n",
       "\\begin{tabular}{lllll}\n",
       " V1 & V2 & V3 & V4 & V10\\\\\n",
       " <chr> & <int> & <chr> & <int> & <chr>\\\\\n",
       "\\hline\n",
       "\t HISEQ:461:C9U3VANXX:5:1103:4134:44701  &  99 & 1 & 55381 & GTGGGAGGTGACGTTGGGGAGCGGGATGCCTTTGTCGGCGCAGCCGTCCTCGACCATTTTCTTG                                \\\\\n",
       "\t HISEQ:461:C9U3VANXX:5:1206:21103:43041 & 133 & 1 & 55381 & CAAGATTCTTACCTAATGGAAATTCTACCAAAAAA                                                             \\\\\n",
       "\t HISEQ:461:C9U3VANXX:5:1103:4134:44701  & 147 & 1 & 55381 & GTGGGAGGTGACGTTGGGGAGCGGGATGCCTTTGTCGGCGCAGCCGTCCTCGACCATTTTCTTG                                \\\\\n",
       "\t HISEQ:461:C9U3VANXX:5:2304:18901:21568 & 163 & 1 & 55739 & AGCAGCGAGTTAATTTCAAACATAGGACTCCGAAGGTGGCGCTTTTCACATGTAGAGGAGCTCCTTGTATGTTTCAAAAATGAGACTATTCCACGC\\\\\n",
       "\t HISEQ:461:C9U3VANXX:5:2304:18901:21568 &  83 & 1 & 55739 & AGCAGCGAGTTAATTTCAAACATAGGACTCCGAAGGTGGCGCTTTTCACATGTAGAGGAGCTCCTTGTATGTTTCAAAAATGAGACTATTCCACGC\\\\\n",
       "\t HISEQ:461:C9U3VANXX:5:2101:12970:6800  &  73 & 1 & 82518 & TTGCCATTATGA                                                                                    \\\\\n",
       "\\end{tabular}\n"
      ],
      "text/markdown": [
       "\n",
       "A data.table: 6 × 5\n",
       "\n",
       "| V1 &lt;chr&gt; | V2 &lt;int&gt; | V3 &lt;chr&gt; | V4 &lt;int&gt; | V10 &lt;chr&gt; |\n",
       "|---|---|---|---|---|\n",
       "| HISEQ:461:C9U3VANXX:5:1103:4134:44701  |  99 | 1 | 55381 | GTGGGAGGTGACGTTGGGGAGCGGGATGCCTTTGTCGGCGCAGCCGTCCTCGACCATTTTCTTG                                 |\n",
       "| HISEQ:461:C9U3VANXX:5:1206:21103:43041 | 133 | 1 | 55381 | CAAGATTCTTACCTAATGGAAATTCTACCAAAAAA                                                              |\n",
       "| HISEQ:461:C9U3VANXX:5:1103:4134:44701  | 147 | 1 | 55381 | GTGGGAGGTGACGTTGGGGAGCGGGATGCCTTTGTCGGCGCAGCCGTCCTCGACCATTTTCTTG                                 |\n",
       "| HISEQ:461:C9U3VANXX:5:2304:18901:21568 | 163 | 1 | 55739 | AGCAGCGAGTTAATTTCAAACATAGGACTCCGAAGGTGGCGCTTTTCACATGTAGAGGAGCTCCTTGTATGTTTCAAAAATGAGACTATTCCACGC |\n",
       "| HISEQ:461:C9U3VANXX:5:2304:18901:21568 |  83 | 1 | 55739 | AGCAGCGAGTTAATTTCAAACATAGGACTCCGAAGGTGGCGCTTTTCACATGTAGAGGAGCTCCTTGTATGTTTCAAAAATGAGACTATTCCACGC |\n",
       "| HISEQ:461:C9U3VANXX:5:2101:12970:6800  |  73 | 1 | 82518 | TTGCCATTATGA                                                                                     |\n",
       "\n"
      ],
      "text/plain": [
       "  V1                                     V2  V3 V4   \n",
       "1 HISEQ:461:C9U3VANXX:5:1103:4134:44701   99 1  55381\n",
       "2 HISEQ:461:C9U3VANXX:5:1206:21103:43041 133 1  55381\n",
       "3 HISEQ:461:C9U3VANXX:5:1103:4134:44701  147 1  55381\n",
       "4 HISEQ:461:C9U3VANXX:5:2304:18901:21568 163 1  55739\n",
       "5 HISEQ:461:C9U3VANXX:5:2304:18901:21568  83 1  55739\n",
       "6 HISEQ:461:C9U3VANXX:5:2101:12970:6800   73 1  82518\n",
       "  V10                                                                                             \n",
       "1 GTGGGAGGTGACGTTGGGGAGCGGGATGCCTTTGTCGGCGCAGCCGTCCTCGACCATTTTCTTG                                \n",
       "2 CAAGATTCTTACCTAATGGAAATTCTACCAAAAAA                                                             \n",
       "3 GTGGGAGGTGACGTTGGGGAGCGGGATGCCTTTGTCGGCGCAGCCGTCCTCGACCATTTTCTTG                                \n",
       "4 AGCAGCGAGTTAATTTCAAACATAGGACTCCGAAGGTGGCGCTTTTCACATGTAGAGGAGCTCCTTGTATGTTTCAAAAATGAGACTATTCCACGC\n",
       "5 AGCAGCGAGTTAATTTCAAACATAGGACTCCGAAGGTGGCGCTTTTCACATGTAGAGGAGCTCCTTGTATGTTTCAAAAATGAGACTATTCCACGC\n",
       "6 TTGCCATTATGA                                                                                    "
      ]
     },
     "metadata": {},
     "output_type": "display_data"
    },
    {
     "data": {
      "text/html": [
       "478210"
      ],
      "text/latex": [
       "478210"
      ],
      "text/markdown": [
       "478210"
      ],
      "text/plain": [
       "[1] 478210"
      ]
     },
     "metadata": {},
     "output_type": "display_data"
    },
    {
     "data": {
      "text/html": [
       "1000"
      ],
      "text/latex": [
       "1000"
      ],
      "text/markdown": [
       "1000"
      ],
      "text/plain": [
       "[1] 1000"
      ]
     },
     "metadata": {},
     "output_type": "display_data"
    }
   ],
   "source": [
    "#sam_Col_01 <- fread(\"results/dedup_sam/Col_01.dedup.sam\", select=c(1,2,3,4,10), sep = \"\\t\", header=FALSE, fill=TRUE)\n",
    "#head(dt_test)\n",
    "#nrow(sam_Col_01)\n",
    "#nrow(sam_Col_01[1:1000,])"
   ]
  },
  {
   "cell_type": "code",
   "execution_count": 9,
   "id": "f840cf12-6425-4881-a4c2-064ddd7f135f",
   "metadata": {},
   "outputs": [
    {
     "name": "stderr",
     "output_type": "stream",
     "text": [
      "Loading required package: iterators\n",
      "\n"
     ]
    }
   ],
   "source": [
    "#install.packages(\"foreach\")\n",
    "#install.packages(\"doParallel\")\n",
    "\n",
    "library(foreach)\n",
    "library(doParallel)"
   ]
  },
  {
   "cell_type": "code",
   "execution_count": 66,
   "id": "86947ea2-8631-4af5-b324-bba70bb6abb1",
   "metadata": {},
   "outputs": [
    {
     "data": {
      "text/html": [
       "<style>\n",
       ".list-inline {list-style: none; margin:0; padding: 0}\n",
       ".list-inline>li {display: inline-block}\n",
       ".list-inline>li:not(:last-child)::after {content: \"\\00b7\"; padding: 0 .5ex}\n",
       "</style>\n",
       "<ol class=list-inline><li>1</li><li>1.4142135623731</li><li>1.73205080756888</li><li>2</li><li>2.23606797749979</li><li>2.44948974278318</li><li>2.64575131106459</li><li>2.82842712474619</li><li>3</li><li>3.16227766016838</li></ol>\n"
      ],
      "text/latex": [
       "\\begin{enumerate*}\n",
       "\\item 1\n",
       "\\item 1.4142135623731\n",
       "\\item 1.73205080756888\n",
       "\\item 2\n",
       "\\item 2.23606797749979\n",
       "\\item 2.44948974278318\n",
       "\\item 2.64575131106459\n",
       "\\item 2.82842712474619\n",
       "\\item 3\n",
       "\\item 3.16227766016838\n",
       "\\end{enumerate*}\n"
      ],
      "text/markdown": [
       "1. 1\n",
       "2. 1.4142135623731\n",
       "3. 1.73205080756888\n",
       "4. 2\n",
       "5. 2.23606797749979\n",
       "6. 2.44948974278318\n",
       "7. 2.64575131106459\n",
       "8. 2.82842712474619\n",
       "9. 3\n",
       "10. 3.16227766016838\n",
       "\n",
       "\n"
      ],
      "text/plain": [
       " [1] 1.000000 1.414214 1.732051 2.000000 2.236068 2.449490 2.645751 2.828427\n",
       " [9] 3.000000 3.162278"
      ]
     },
     "metadata": {},
     "output_type": "display_data"
    }
   ],
   "source": [
    "x <- vector()\n",
    "for(i in 1:10){\n",
    "  x[i] <- sqrt(i)\n",
    "  }\n",
    "x"
   ]
  },
  {
   "cell_type": "code",
   "execution_count": 69,
   "id": "9d6c12a5-e5d6-407d-b47b-e9f8b6fef99e",
   "metadata": {},
   "outputs": [
    {
     "data": {
      "text/html": [
       "<style>\n",
       ".list-inline {list-style: none; margin:0; padding: 0}\n",
       ".list-inline>li {display: inline-block}\n",
       ".list-inline>li:not(:last-child)::after {content: \"\\00b7\"; padding: 0 .5ex}\n",
       "</style>\n",
       "<ol class=list-inline><li>1</li><li>1.4142135623731</li><li>1.73205080756888</li><li>2</li><li>2.23606797749979</li><li>2.44948974278318</li><li>2.64575131106459</li><li>2.82842712474619</li><li>3</li><li>3.16227766016838</li></ol>\n"
      ],
      "text/latex": [
       "\\begin{enumerate*}\n",
       "\\item 1\n",
       "\\item 1.4142135623731\n",
       "\\item 1.73205080756888\n",
       "\\item 2\n",
       "\\item 2.23606797749979\n",
       "\\item 2.44948974278318\n",
       "\\item 2.64575131106459\n",
       "\\item 2.82842712474619\n",
       "\\item 3\n",
       "\\item 3.16227766016838\n",
       "\\end{enumerate*}\n"
      ],
      "text/markdown": [
       "1. 1\n",
       "2. 1.4142135623731\n",
       "3. 1.73205080756888\n",
       "4. 2\n",
       "5. 2.23606797749979\n",
       "6. 2.44948974278318\n",
       "7. 2.64575131106459\n",
       "8. 2.82842712474619\n",
       "9. 3\n",
       "10. 3.16227766016838\n",
       "\n",
       "\n"
      ],
      "text/plain": [
       " [1] 1.000000 1.414214 1.732051 2.000000 2.236068 2.449490 2.645751 2.828427\n",
       " [9] 3.000000 3.162278"
      ]
     },
     "metadata": {},
     "output_type": "display_data"
    }
   ],
   "source": [
    "x <- foreach(\n",
    "  i = 1:10, \n",
    "  .combine = 'c'\n",
    ") %dopar% {\n",
    "    sqrt(i)\n",
    "  }\n",
    "x"
   ]
  },
  {
   "cell_type": "code",
   "execution_count": 44,
   "id": "b22ff127-8b79-4cac-8781-253299fc161e",
   "metadata": {},
   "outputs": [
    {
     "data": {
      "text/html": [
       "256"
      ],
      "text/latex": [
       "256"
      ],
      "text/markdown": [
       "256"
      ],
      "text/plain": [
       "[1] 256"
      ]
     },
     "metadata": {},
     "output_type": "display_data"
    },
    {
     "data": {
      "text/html": [
       "48"
      ],
      "text/latex": [
       "48"
      ],
      "text/markdown": [
       "48"
      ],
      "text/plain": [
       "[1] 48"
      ]
     },
     "metadata": {},
     "output_type": "display_data"
    },
    {
     "name": "stdout",
     "output_type": "stream",
     "text": [
      "socket cluster with 48 nodes on host ‘localhost’\n"
     ]
    },
    {
     "data": {
      "text/html": [
       "TRUE"
      ],
      "text/latex": [
       "TRUE"
      ],
      "text/markdown": [
       "TRUE"
      ],
      "text/plain": [
       "[1] TRUE"
      ]
     },
     "metadata": {},
     "output_type": "display_data"
    },
    {
     "data": {
      "text/html": [
       "48"
      ],
      "text/latex": [
       "48"
      ],
      "text/markdown": [
       "48"
      ],
      "text/plain": [
       "[1] 48"
      ]
     },
     "metadata": {},
     "output_type": "display_data"
    }
   ],
   "source": [
    "#define cluster\n",
    "parallel::detectCores()\n",
    "n.cores <- 48\n",
    "n.cores\n",
    "\n",
    "#create the cluster - FORK because this way libraries, variables etc. are copied to the clusters!\n",
    "my.cluster <- parallel::makeForkCluster(\n",
    "  n.cores, \n",
    "  type = \"FORK\"\n",
    "  )\n",
    "\n",
    "#check cluster definition (optional)\n",
    "print(my.cluster)\n",
    "\n",
    "#register it to be used by %dopar%\n",
    "doParallel::registerDoParallel(cl = my.cluster)\n",
    "\n",
    "#check if it is registered (optional)\n",
    "foreach::getDoParRegistered()\n",
    "\n",
    "#how many workers are available? (optional)\n",
    "foreach::getDoParWorkers()"
   ]
  },
  {
   "cell_type": "code",
   "execution_count": 83,
   "id": "c20037eb-fe52-4e54-8f05-3d3a79c42f33",
   "metadata": {},
   "outputs": [
    {
     "data": {
      "text/html": [
       "<style>\n",
       ".list-inline {list-style: none; margin:0; padding: 0}\n",
       ".list-inline>li {display: inline-block}\n",
       ".list-inline>li:not(:last-child)::after {content: \"\\00b7\"; padding: 0 .5ex}\n",
       "</style>\n",
       "<ol class=list-inline><li>1</li><li>1.4142135623731</li><li>1.73205080756888</li><li>2</li><li>2.23606797749979</li><li>2.44948974278318</li><li>2.64575131106459</li><li>2.82842712474619</li><li>3</li><li>3.16227766016838</li></ol>\n"
      ],
      "text/latex": [
       "\\begin{enumerate*}\n",
       "\\item 1\n",
       "\\item 1.4142135623731\n",
       "\\item 1.73205080756888\n",
       "\\item 2\n",
       "\\item 2.23606797749979\n",
       "\\item 2.44948974278318\n",
       "\\item 2.64575131106459\n",
       "\\item 2.82842712474619\n",
       "\\item 3\n",
       "\\item 3.16227766016838\n",
       "\\end{enumerate*}\n"
      ],
      "text/markdown": [
       "1. 1\n",
       "2. 1.4142135623731\n",
       "3. 1.73205080756888\n",
       "4. 2\n",
       "5. 2.23606797749979\n",
       "6. 2.44948974278318\n",
       "7. 2.64575131106459\n",
       "8. 2.82842712474619\n",
       "9. 3\n",
       "10. 3.16227766016838\n",
       "\n",
       "\n"
      ],
      "text/plain": [
       " [1] 1.000000 1.414214 1.732051 2.000000 2.236068 2.449490 2.645751 2.828427\n",
       " [9] 3.000000 3.162278"
      ]
     },
     "metadata": {},
     "output_type": "display_data"
    }
   ],
   "source": [
    "#truly running tasks in parallel\n",
    "x <- foreach(\n",
    "  i = 1:10, \n",
    "  .combine = 'c'\n",
    ") %dopar% {\n",
    "    sqrt(i)\n",
    "  }\n",
    "x"
   ]
  },
  {
   "cell_type": "code",
   "execution_count": 43,
   "id": "4f64e07d-72b8-491c-91b3-57362dbc7095",
   "metadata": {},
   "outputs": [],
   "source": [
    "stopCluster(my.cluster)"
   ]
  },
  {
   "cell_type": "code",
   "execution_count": null,
   "id": "7ca8eff9-3a0a-4913-9334-a8810c74ef11",
   "metadata": {},
   "outputs": [],
   "source": []
  },
  {
   "cell_type": "code",
   "execution_count": null,
   "id": "ed0411ae-1c8e-4296-aaa4-e968230fdc6b",
   "metadata": {},
   "outputs": [],
   "source": []
  },
  {
   "cell_type": "code",
   "execution_count": 60,
   "id": "c6ae7751-0a8b-429f-a4df-9988e537269b",
   "metadata": {
    "tags": []
   },
   "outputs": [],
   "source": [
    "#https://privefl.github.io/blog/a-guide-to-parallelism-in-r/\n",
    "#https://stackoverflow.com/questions/27276269/foreach-keep-names\n",
    "\n",
    "#need to load all sam files\n",
    "sam_object_list <- foreach(s = samples, .final = function(s) setNames(s, paste0(\"sam_\", samples))) %dopar% {\n",
    "    SAM_path <- paste0(\"results/dedup_sam/\", s, \".dedup.sam\")\n",
    "    SAM_object <- paste0(\"sam_\", s)\n",
    "#    assign(SAM_object, read.csv(SAM_path, sep = \"\\t\", header = FALSE, row.names = NULL))\n",
    "    assign(SAM_object, fread(SAM_path, select=c(1,2,3,4,10), sep = \"\\t\", header=FALSE, fill=TRUE))\n",
    "    #take only the first four columns and the sequence\n",
    "#    assign(SAM_object, get(SAM_object)[,c(1:4,10)])\n",
    "    assign(SAM_object,\n",
    "           get(SAM_object) %>%\n",
    "             #some renaming of the header\n",
    "             dplyr::rename(Name=V1, Flag=V2, Chr=V3, Start=V4) %>%\n",
    "             #compute lengths of the alignments\n",
    "             mutate(Length = str_length(V10)) %>%\n",
    "             #compute and add End coordinate of reads\n",
    "             mutate(End = Start+Length-1) %>%\n",
    "             #drop Lengh & V10 (Sequence) columns\n",
    "             select(-V10, -Length) %>%\n",
    "             #translate Flag into forward (+) or reverse (-) strand mapping/read\n",
    "#             rowwise() %>%\n",
    "#             mutate(\n",
    "#               Strand = case_when(\n",
    "#                 number2binary(Flag, 8)[7] == 1 & number2binary(Flag, 8)[8] == 0 ~ \"1\",\n",
    "#                 number2binary(Flag, 8)[7] == 0 & number2binary(Flag, 8)[8] == 1 ~ \"2\",\n",
    "#                 TRUE ~ \"LOST\"\n",
    "#               )\n",
    "#             ) %>%\n",
    "#            select(-Flag) %>%\n",
    "#            relocate(Strand, .after=Name)\n",
    "             relocate(Flag, .after=Name)\n",
    "    )\n",
    "    return(get(SAM_object))\n",
    "}"
   ]
  },
  {
   "cell_type": "code",
   "execution_count": 50,
   "id": "435725d2-2d8f-4b84-be44-9f1a430d03e9",
   "metadata": {},
   "outputs": [
    {
     "data": {
      "text/html": [
       "<style>\n",
       ".list-inline {list-style: none; margin:0; padding: 0}\n",
       ".list-inline>li {display: inline-block}\n",
       ".list-inline>li:not(:last-child)::after {content: \"\\00b7\"; padding: 0 .5ex}\n",
       "</style>\n",
       "<ol class=list-inline><li>'Row_01'</li><li>'Row_02'</li><li>'Row_03'</li><li>'Row_04'</li><li>'Row_05'</li><li>'Row_06'</li><li>'Row_07'</li><li>'Row_08'</li><li>'Row_09'</li><li>'Row_10'</li><li>'Row_11'</li><li>'Row_12'</li><li>'Row_13'</li><li>'Row_14'</li><li>'Row_15'</li><li>'Row_16'</li><li>'Row_17'</li><li>'Row_18'</li><li>'Row_19'</li><li>'Row_20'</li><li>'Row_21'</li><li>'Row_22'</li><li>'Row_23'</li><li>'Row_24'</li><li>'Col_01'</li><li>'Col_02'</li><li>'Col_03'</li><li>'Col_04'</li><li>'Col_05'</li><li>'Col_06'</li><li>'Col_07'</li><li>'Col_08'</li><li>'Col_09'</li><li>'Col_10'</li><li>'Col_11'</li><li>'Col_12'</li><li>'Col_13'</li><li>'Col_14'</li><li>'Col_15'</li><li>'Col_16'</li><li>'Col_17'</li><li>'Col_18'</li><li>'Col_19'</li><li>'Col_20'</li><li>'Col_21'</li><li>'Col_22'</li><li>'Col_23'</li><li>'Col_24'</li></ol>\n"
      ],
      "text/latex": [
       "\\begin{enumerate*}\n",
       "\\item 'Row\\_01'\n",
       "\\item 'Row\\_02'\n",
       "\\item 'Row\\_03'\n",
       "\\item 'Row\\_04'\n",
       "\\item 'Row\\_05'\n",
       "\\item 'Row\\_06'\n",
       "\\item 'Row\\_07'\n",
       "\\item 'Row\\_08'\n",
       "\\item 'Row\\_09'\n",
       "\\item 'Row\\_10'\n",
       "\\item 'Row\\_11'\n",
       "\\item 'Row\\_12'\n",
       "\\item 'Row\\_13'\n",
       "\\item 'Row\\_14'\n",
       "\\item 'Row\\_15'\n",
       "\\item 'Row\\_16'\n",
       "\\item 'Row\\_17'\n",
       "\\item 'Row\\_18'\n",
       "\\item 'Row\\_19'\n",
       "\\item 'Row\\_20'\n",
       "\\item 'Row\\_21'\n",
       "\\item 'Row\\_22'\n",
       "\\item 'Row\\_23'\n",
       "\\item 'Row\\_24'\n",
       "\\item 'Col\\_01'\n",
       "\\item 'Col\\_02'\n",
       "\\item 'Col\\_03'\n",
       "\\item 'Col\\_04'\n",
       "\\item 'Col\\_05'\n",
       "\\item 'Col\\_06'\n",
       "\\item 'Col\\_07'\n",
       "\\item 'Col\\_08'\n",
       "\\item 'Col\\_09'\n",
       "\\item 'Col\\_10'\n",
       "\\item 'Col\\_11'\n",
       "\\item 'Col\\_12'\n",
       "\\item 'Col\\_13'\n",
       "\\item 'Col\\_14'\n",
       "\\item 'Col\\_15'\n",
       "\\item 'Col\\_16'\n",
       "\\item 'Col\\_17'\n",
       "\\item 'Col\\_18'\n",
       "\\item 'Col\\_19'\n",
       "\\item 'Col\\_20'\n",
       "\\item 'Col\\_21'\n",
       "\\item 'Col\\_22'\n",
       "\\item 'Col\\_23'\n",
       "\\item 'Col\\_24'\n",
       "\\end{enumerate*}\n"
      ],
      "text/markdown": [
       "1. 'Row_01'\n",
       "2. 'Row_02'\n",
       "3. 'Row_03'\n",
       "4. 'Row_04'\n",
       "5. 'Row_05'\n",
       "6. 'Row_06'\n",
       "7. 'Row_07'\n",
       "8. 'Row_08'\n",
       "9. 'Row_09'\n",
       "10. 'Row_10'\n",
       "11. 'Row_11'\n",
       "12. 'Row_12'\n",
       "13. 'Row_13'\n",
       "14. 'Row_14'\n",
       "15. 'Row_15'\n",
       "16. 'Row_16'\n",
       "17. 'Row_17'\n",
       "18. 'Row_18'\n",
       "19. 'Row_19'\n",
       "20. 'Row_20'\n",
       "21. 'Row_21'\n",
       "22. 'Row_22'\n",
       "23. 'Row_23'\n",
       "24. 'Row_24'\n",
       "25. 'Col_01'\n",
       "26. 'Col_02'\n",
       "27. 'Col_03'\n",
       "28. 'Col_04'\n",
       "29. 'Col_05'\n",
       "30. 'Col_06'\n",
       "31. 'Col_07'\n",
       "32. 'Col_08'\n",
       "33. 'Col_09'\n",
       "34. 'Col_10'\n",
       "35. 'Col_11'\n",
       "36. 'Col_12'\n",
       "37. 'Col_13'\n",
       "38. 'Col_14'\n",
       "39. 'Col_15'\n",
       "40. 'Col_16'\n",
       "41. 'Col_17'\n",
       "42. 'Col_18'\n",
       "43. 'Col_19'\n",
       "44. 'Col_20'\n",
       "45. 'Col_21'\n",
       "46. 'Col_22'\n",
       "47. 'Col_23'\n",
       "48. 'Col_24'\n",
       "\n",
       "\n"
      ],
      "text/plain": [
       " [1] \"Row_01\" \"Row_02\" \"Row_03\" \"Row_04\" \"Row_05\" \"Row_06\" \"Row_07\" \"Row_08\"\n",
       " [9] \"Row_09\" \"Row_10\" \"Row_11\" \"Row_12\" \"Row_13\" \"Row_14\" \"Row_15\" \"Row_16\"\n",
       "[17] \"Row_17\" \"Row_18\" \"Row_19\" \"Row_20\" \"Row_21\" \"Row_22\" \"Row_23\" \"Row_24\"\n",
       "[25] \"Col_01\" \"Col_02\" \"Col_03\" \"Col_04\" \"Col_05\" \"Col_06\" \"Col_07\" \"Col_08\"\n",
       "[33] \"Col_09\" \"Col_10\" \"Col_11\" \"Col_12\" \"Col_13\" \"Col_14\" \"Col_15\" \"Col_16\"\n",
       "[41] \"Col_17\" \"Col_18\" \"Col_19\" \"Col_20\" \"Col_21\" \"Col_22\" \"Col_23\" \"Col_24\""
      ]
     },
     "metadata": {},
     "output_type": "display_data"
    }
   ],
   "source": [
    "#samples"
   ]
  },
  {
   "cell_type": "code",
   "execution_count": 61,
   "id": "d7c0cd7b-98d2-4cff-8389-46f16b064677",
   "metadata": {
    "tags": []
   },
   "outputs": [
    {
     "data": {
      "text/html": [
       "<table class=\"dataframe\">\n",
       "<caption>A data.table: 6 × 5</caption>\n",
       "<thead>\n",
       "\t<tr><th scope=col>Name</th><th scope=col>Flag</th><th scope=col>Chr</th><th scope=col>Start</th><th scope=col>End</th></tr>\n",
       "\t<tr><th scope=col>&lt;chr&gt;</th><th scope=col>&lt;int&gt;</th><th scope=col>&lt;chr&gt;</th><th scope=col>&lt;int&gt;</th><th scope=col>&lt;dbl&gt;</th></tr>\n",
       "</thead>\n",
       "<tbody>\n",
       "\t<tr><td>HISEQ:461:C9U3VANXX:5:1103:4134:44701 </td><td> 99</td><td>1</td><td>55381</td><td>55444</td></tr>\n",
       "\t<tr><td>HISEQ:461:C9U3VANXX:5:1206:21103:43041</td><td>133</td><td>1</td><td>55381</td><td>55415</td></tr>\n",
       "\t<tr><td>HISEQ:461:C9U3VANXX:5:1103:4134:44701 </td><td>147</td><td>1</td><td>55381</td><td>55444</td></tr>\n",
       "\t<tr><td>HISEQ:461:C9U3VANXX:5:2304:18901:21568</td><td>163</td><td>1</td><td>55739</td><td>55834</td></tr>\n",
       "\t<tr><td>HISEQ:461:C9U3VANXX:5:2304:18901:21568</td><td> 83</td><td>1</td><td>55739</td><td>55834</td></tr>\n",
       "\t<tr><td>HISEQ:461:C9U3VANXX:5:2101:12970:6800 </td><td> 73</td><td>1</td><td>82518</td><td>82529</td></tr>\n",
       "</tbody>\n",
       "</table>\n"
      ],
      "text/latex": [
       "A data.table: 6 × 5\n",
       "\\begin{tabular}{lllll}\n",
       " Name & Flag & Chr & Start & End\\\\\n",
       " <chr> & <int> & <chr> & <int> & <dbl>\\\\\n",
       "\\hline\n",
       "\t HISEQ:461:C9U3VANXX:5:1103:4134:44701  &  99 & 1 & 55381 & 55444\\\\\n",
       "\t HISEQ:461:C9U3VANXX:5:1206:21103:43041 & 133 & 1 & 55381 & 55415\\\\\n",
       "\t HISEQ:461:C9U3VANXX:5:1103:4134:44701  & 147 & 1 & 55381 & 55444\\\\\n",
       "\t HISEQ:461:C9U3VANXX:5:2304:18901:21568 & 163 & 1 & 55739 & 55834\\\\\n",
       "\t HISEQ:461:C9U3VANXX:5:2304:18901:21568 &  83 & 1 & 55739 & 55834\\\\\n",
       "\t HISEQ:461:C9U3VANXX:5:2101:12970:6800  &  73 & 1 & 82518 & 82529\\\\\n",
       "\\end{tabular}\n"
      ],
      "text/markdown": [
       "\n",
       "A data.table: 6 × 5\n",
       "\n",
       "| Name &lt;chr&gt; | Flag &lt;int&gt; | Chr &lt;chr&gt; | Start &lt;int&gt; | End &lt;dbl&gt; |\n",
       "|---|---|---|---|---|\n",
       "| HISEQ:461:C9U3VANXX:5:1103:4134:44701  |  99 | 1 | 55381 | 55444 |\n",
       "| HISEQ:461:C9U3VANXX:5:1206:21103:43041 | 133 | 1 | 55381 | 55415 |\n",
       "| HISEQ:461:C9U3VANXX:5:1103:4134:44701  | 147 | 1 | 55381 | 55444 |\n",
       "| HISEQ:461:C9U3VANXX:5:2304:18901:21568 | 163 | 1 | 55739 | 55834 |\n",
       "| HISEQ:461:C9U3VANXX:5:2304:18901:21568 |  83 | 1 | 55739 | 55834 |\n",
       "| HISEQ:461:C9U3VANXX:5:2101:12970:6800  |  73 | 1 | 82518 | 82529 |\n",
       "\n"
      ],
      "text/plain": [
       "  Name                                   Flag Chr Start End  \n",
       "1 HISEQ:461:C9U3VANXX:5:1103:4134:44701   99  1   55381 55444\n",
       "2 HISEQ:461:C9U3VANXX:5:1206:21103:43041 133  1   55381 55415\n",
       "3 HISEQ:461:C9U3VANXX:5:1103:4134:44701  147  1   55381 55444\n",
       "4 HISEQ:461:C9U3VANXX:5:2304:18901:21568 163  1   55739 55834\n",
       "5 HISEQ:461:C9U3VANXX:5:2304:18901:21568  83  1   55739 55834\n",
       "6 HISEQ:461:C9U3VANXX:5:2101:12970:6800   73  1   82518 82529"
      ]
     },
     "metadata": {},
     "output_type": "display_data"
    }
   ],
   "source": [
    "#str(sam_object_list)\n",
    "head(sam_object_list$sam_Col_01)"
   ]
  },
  {
   "cell_type": "code",
   "execution_count": 154,
   "id": "d64f3e02-98b6-4278-a948-c0cd9032332f",
   "metadata": {},
   "outputs": [],
   "source": [
    "#?map_chr"
   ]
  },
  {
   "cell_type": "code",
   "execution_count": 127,
   "id": "6269b179-be60-4f64-9e57-b7aa29cccf9f",
   "metadata": {
    "tags": []
   },
   "outputs": [
    {
     "data": {
      "text/plain": [
       "   user  system elapsed \n",
       "  0.219   0.000   0.219 "
      ]
     },
     "metadata": {},
     "output_type": "display_data"
    }
   ],
   "source": [
    "#timing\n",
    "system.time(\n",
    "         sam_Col_01[1:1000,] %>%\n",
    "             #some renaming of the header\n",
    "             dplyr::rename(Name=V1, Flag=V2, Chr=V3, Start=V4) %>%\n",
    "             #compute lengths of the alignments\n",
    "             mutate(Length = str_length(V10)) %>%\n",
    "             #compute and add End coordinate of reads\n",
    "             mutate(End = Start+Length-1) %>%\n",
    "             #drop Lengh & V10 (Sequence) columns\n",
    "             select(-V10, -Length) %>%\n",
    "             #translate Flag into forward (+) or reverse (-) strand mapping/read\n",
    "             rowwise() %>%\n",
    "             mutate(\n",
    "               Strand = case_when(\n",
    "                 number2binary(Flag, 8)[7] == 1 & number2binary(Flag, 8)[8] == 0 ~ \"1\",\n",
    "                 number2binary(Flag, 8)[7] == 0 & number2binary(Flag, 8)[8] == 1 ~ \"2\",\n",
    "                 TRUE ~ \"LOST\"\n",
    "               )\n",
    "             ) %>%\n",
    "            select(-Flag) %>%\n",
    "            relocate(Strand, .after=Name) %>%\n",
    "            head()\n",
    ")"
   ]
  },
  {
   "cell_type": "code",
   "execution_count": 90,
   "id": "d5882799-2aa0-49d5-bf8d-7d3c35a0ff87",
   "metadata": {},
   "outputs": [],
   "source": [
    "#need to load all sam files\n",
    "for (s in samples) {\n",
    "    SAM_path <- paste0(\"results/dedup_sam/\", s, \".dedup.sam\")\n",
    "    SAM_object <- paste0(\"sam_\", s)\n",
    "#    assign(SAM_object, read.csv(SAM_path, sep = \"\\t\", header = FALSE, row.names = NULL))\n",
    "    assign(SAM_object, fread(\"results/dedup_sam/Col_01.dedup.sam\", select=c(1,2,3,4,10), sep = \"\\t\", header=FALSE, fill=TRUE))\n",
    "    #take only the first four columns and the sequence\n",
    "#    assign(SAM_object, get(SAM_object)[,c(1:4,10)])\n",
    "    assign(SAM_object,\n",
    "           get(SAM_object) %>%\n",
    "             #some renaming of the header\n",
    "             dplyr::rename(Name=V1, Flag=V2, Chr=V3, Start=V4) %>%\n",
    "             #compute lengths of the alignments\n",
    "             mutate(Length = str_length(V10)) %>%\n",
    "             #compute and add End coordinate of reads\n",
    "             mutate(End = Start+Length-1) %>%\n",
    "             #drop Lengh & V10 (Sequence) columns\n",
    "             select(-V10, -Length) %>%\n",
    "             #translate Flag into forward (+) or reverse (-) strand mapping/read\n",
    "#             rowwise() %>%\n",
    "#             mutate(\n",
    "#               Strand = case_when(\n",
    "#                 number2binary(Flag, 8)[7] == 1 & number2binary(Flag, 8)[8] == 0 ~ \"1\",\n",
    "#                 number2binary(Flag, 8)[7] == 0 & number2binary(Flag, 8)[8] == 1 ~ \"2\",\n",
    "#                 TRUE ~ \"LOST\"\n",
    "#               )\n",
    "#             ) %>%\n",
    "#            select(-Flag) %>%\n",
    "#            relocate(Strand, .after=Name)\n",
    "            relocate(Flag, .after=Name)\n",
    "    )\n",
    "}"
   ]
  },
  {
   "cell_type": "code",
   "execution_count": 92,
   "id": "58eefc3d-72c2-4e0c-b41f-a70a5fc35de8",
   "metadata": {},
   "outputs": [
    {
     "ename": "ERROR",
     "evalue": "Error in h(simpleError(msg, call)): error in evaluating the argument 'x' in selecting a method for function 'head': object 'sam_Col_14' not found\n",
     "output_type": "error",
     "traceback": [
      "Error in h(simpleError(msg, call)): error in evaluating the argument 'x' in selecting a method for function 'head': object 'sam_Col_14' not found\nTraceback:\n",
      "1. head(sam_Col_14)",
      "2. .handleSimpleError(function (cond) \n . .Internal(C_tryCatchHelper(addr, 1L, cond)), \"object 'sam_Col_14' not found\", \n .     base::quote(head(sam_Col_14)))",
      "3. h(simpleError(msg, call))"
     ]
    }
   ],
   "source": [
    "#head(`sam_`)\n",
    "head(sam)"
   ]
  },
  {
   "cell_type": "markdown",
   "id": "9c9f2c89-7686-4a79-8c91-c86c304cd67c",
   "metadata": {},
   "source": [
    "### Annotating with type information"
   ]
  },
  {
   "cell_type": "code",
   "execution_count": null,
   "id": "cc6da5ac-2aaf-4020-8553-428d169c4253",
   "metadata": {},
   "outputs": [],
   "source": [
    "foreach(row in 1:nrow(all_insertions_typed[1:100,])) {\n",
    "  \n",
    "  #take row to work on\n",
    "  tmp_ins <- all_insertions_typed[row,]\n",
    "\n",
    "  #match Sample with sam object\n",
    "  tmp_sam <- get(paste0(\"sam_\", tmp_ins$Sample))\n",
    "\n",
    "  #match sample of insertion file with te typing file\n",
    "  tmp_type_file <- get(paste0(tmp_ins$Sample, \"_type_file\"))\n",
    "\n",
    "\n",
    "  # fuzzyjoin for overlap + end or start needs to match\n",
    "  tmp_merge_ins_sam <- fuzzyjoin::genome_inner_join(tmp_ins,\n",
    "                             tmp_sam, \n",
    "                              by=c(\"Chr\", \"InsertionStart\"=\"Start\", \"InsertionEnd\"=\"End\")\n",
    "                            ) %>%\n",
    "#                       select(Name, Strand, Chr.y, Start, End) %>%\n",
    "                       select(Name, Flag, Chr.y, Start, End) %>%\n",
    "                       dplyr::rename(Chr=Chr.y) %>%\n",
    "                       filter(Start == tmp_ins$InsertionStart | \n",
    "                              Start == tmp_ins$InsertionEnd | \n",
    "                              End == tmp_ins$InsertionStart | \n",
    "                              End == tmp_ins$InsertionEnd)\n",
    "\n",
    "  #associate sam reads with type information\n",
    "#  tmp_merge_ins_sam_typed_summary <- dplyr::left_join(tmp_merge_ins_sam, \n",
    "#                                                      tmp_type_file, \n",
    "#                                                      by = c(\"Name\"=\"Name\", \"Strand\"=\"Strand\"), \n",
    "#                                                      na_matches = \"na\") %>%\n",
    "#  group_by(Type) %>%\n",
    "#  summarize(n = n()) %>%\n",
    "#  #change NA to uncategorized\n",
    "#  tidyr::replace_na(list(Type = \"uncategorized\"))\n",
    "\n",
    "  #add number of type association to current row\n",
    "#  for (t in tmp_merge_ins_sam_typed_summary$Type) {\n",
    "#    tmp_ins <- tmp_ins %>%\n",
    "#    mutate({{t}} := tmp_merge_ins_sam_typed_summary %>%\n",
    "#                 filter(Type == {{t}}) %>%\n",
    "#                 pull(n)\n",
    "#          )\n",
    "#  }\n",
    "    \n",
    "  #switch out new for old row in table\n",
    "  all_insertions_typed[row,] <- tmp_ins\n",
    "}"
   ]
  },
  {
   "cell_type": "code",
   "execution_count": 106,
   "id": "eb607789-98dd-4a8d-9f82-25da84edcb10",
   "metadata": {
    "tags": []
   },
   "outputs": [
    {
     "data": {
      "text/plain": [
       "   user  system elapsed \n",
       " 11.341   0.047  11.410 "
      ]
     },
     "metadata": {},
     "output_type": "display_data"
    }
   ],
   "source": [
    "system.time(\n",
    "for (row in 1:nrow(all_insertions_typed[1:100,])) {\n",
    "  \n",
    "  #take row to work on\n",
    "  tmp_ins <- all_insertions_typed[row,]\n",
    "\n",
    "  #match Sample with sam object\n",
    "  tmp_sam <- get(paste0(\"sam_\", tmp_ins$Sample))\n",
    "\n",
    "  #match sample of insertion file with te typing file\n",
    "  tmp_type_file <- get(paste0(tmp_ins$Sample, \"_type_file\"))\n",
    "\n",
    "\n",
    "  # fuzzyjoin for overlap + end or start needs to match\n",
    "  tmp_merge_ins_sam <- fuzzyjoin::genome_inner_join(tmp_ins,\n",
    "                             tmp_sam, \n",
    "                              by=c(\"Chr\", \"InsertionStart\"=\"Start\", \"InsertionEnd\"=\"End\")\n",
    "                            ) %>%\n",
    "#                       select(Name, Strand, Chr.y, Start, End) %>%\n",
    "                       select(Name, Flag, Chr.y, Start, End) %>%\n",
    "                       dplyr::rename(Chr=Chr.y) %>%\n",
    "                       filter(Start == tmp_ins$InsertionStart | \n",
    "                              Start == tmp_ins$InsertionEnd | \n",
    "                              End == tmp_ins$InsertionStart | \n",
    "                              End == tmp_ins$InsertionEnd)\n",
    "\n",
    "  #associate sam reads with type information\n",
    "#  tmp_merge_ins_sam_typed_summary <- dplyr::left_join(tmp_merge_ins_sam, \n",
    "#                                                      tmp_type_file, \n",
    "#                                                      by = c(\"Name\"=\"Name\", \"Strand\"=\"Strand\"), \n",
    "#                                                      na_matches = \"na\") %>%\n",
    "#  group_by(Type) %>%\n",
    "#  summarize(n = n()) %>%\n",
    "#  #change NA to uncategorized\n",
    "#  tidyr::replace_na(list(Type = \"uncategorized\"))\n",
    "\n",
    "  #add number of type association to current row\n",
    "#  for (t in tmp_merge_ins_sam_typed_summary$Type) {\n",
    "#    tmp_ins <- tmp_ins %>%\n",
    "#    mutate({{t}} := tmp_merge_ins_sam_typed_summary %>%\n",
    "#                 filter(Type == {{t}}) %>%\n",
    "#                 pull(n)\n",
    "#          )\n",
    "#  }\n",
    "    \n",
    "  #switch out new for old row in table\n",
    "  all_insertions_typed[row,] <- tmp_ins\n",
    "}\n",
    "\n",
    "\n",
    ")"
   ]
  },
  {
   "cell_type": "code",
   "execution_count": 95,
   "id": "6584938b-def3-4c62-834e-2c578df27e57",
   "metadata": {
    "tags": []
   },
   "outputs": [
    {
     "data": {
      "text/html": [
       "132650"
      ],
      "text/latex": [
       "132650"
      ],
      "text/markdown": [
       "132650"
      ],
      "text/plain": [
       "[1] 132650"
      ]
     },
     "metadata": {},
     "output_type": "display_data"
    }
   ],
   "source": [
    "nrow(all_insertions_typed)"
   ]
  },
  {
   "cell_type": "code",
   "execution_count": null,
   "id": "501b74b6-558a-4bec-ade7-7a8908df42d3",
   "metadata": {},
   "outputs": [],
   "source": [
    "nrow(all_insertions_typed)\n",
    "head(all_insertions_typed$Sample)\n",
    "\n",
    "head(tmp_ins)\n",
    "head(tmp_sam)\n",
    "head(tmp_type_file)"
   ]
  },
  {
   "cell_type": "code",
   "execution_count": 45,
   "id": "42646422-ed22-4f8e-bd64-539ef400d43a",
   "metadata": {},
   "outputs": [
    {
     "data": {
      "text/html": [
       "<table class=\"dataframe\">\n",
       "<caption>A data.frame: 6 × 47</caption>\n",
       "<thead>\n",
       "\t<tr><th></th><th scope=col>GeneID</th><th scope=col>Chr</th><th scope=col>Start</th><th scope=col>End</th><th scope=col>Sample</th><th scope=col>InsertionStart</th><th scope=col>InsertionEnd</th><th scope=col>StartReads</th><th scope=col>EndReads</th><th scope=col>Gene_length</th><th scope=col>⋯</th><th scope=col>Mu15_R</th><th scope=col>Mu16_L</th><th scope=col>Mu16_R</th><th scope=col>Mu17_L</th><th scope=col>Mu17_R</th><th scope=col>Mu18_L</th><th scope=col>Mu18_R</th><th scope=col>Mu19_L</th><th scope=col>Mu19_R</th><th scope=col>uncategorized</th></tr>\n",
       "\t<tr><th></th><th scope=col>&lt;chr&gt;</th><th scope=col>&lt;chr&gt;</th><th scope=col>&lt;int&gt;</th><th scope=col>&lt;int&gt;</th><th scope=col>&lt;chr&gt;</th><th scope=col>&lt;int&gt;</th><th scope=col>&lt;int&gt;</th><th scope=col>&lt;int&gt;</th><th scope=col>&lt;int&gt;</th><th scope=col>&lt;int&gt;</th><th scope=col>⋯</th><th scope=col>&lt;dbl&gt;</th><th scope=col>&lt;dbl&gt;</th><th scope=col>&lt;dbl&gt;</th><th scope=col>&lt;dbl&gt;</th><th scope=col>&lt;dbl&gt;</th><th scope=col>&lt;dbl&gt;</th><th scope=col>&lt;dbl&gt;</th><th scope=col>&lt;dbl&gt;</th><th scope=col>&lt;dbl&gt;</th><th scope=col>&lt;dbl&gt;</th></tr>\n",
       "</thead>\n",
       "<tbody>\n",
       "\t<tr><th scope=row>1</th><td>Zm00001d027276</td><td>1</td><td>1226063</td><td>1236227</td><td>Row-02</td><td>1235418</td><td>1235426</td><td>10</td><td> 4</td><td>10165</td><td>⋯</td><td>0</td><td>0</td><td>0</td><td>0</td><td>0</td><td>0</td><td>0</td><td>0</td><td>0</td><td>0</td></tr>\n",
       "\t<tr><th scope=row>2</th><td>Zm00001d027277</td><td>1</td><td>1231545</td><td>1236335</td><td>Row-02</td><td>1235418</td><td>1235426</td><td>10</td><td> 4</td><td> 4791</td><td>⋯</td><td>0</td><td>0</td><td>0</td><td>0</td><td>0</td><td>0</td><td>0</td><td>0</td><td>0</td><td>0</td></tr>\n",
       "\t<tr><th scope=row>3</th><td>Zm00001d027298</td><td>1</td><td>2154232</td><td>2156387</td><td>Col-03</td><td>2156358</td><td>2156366</td><td> 6</td><td> 2</td><td> 2156</td><td>⋯</td><td>0</td><td>0</td><td>0</td><td>0</td><td>0</td><td>0</td><td>0</td><td>0</td><td>0</td><td>0</td></tr>\n",
       "\t<tr><th scope=row>4</th><td>Zm00001d022653</td><td>1</td><td>2170280</td><td>2170983</td><td>Col-03</td><td>2170966</td><td>2170974</td><td>12</td><td>13</td><td>  704</td><td>⋯</td><td>0</td><td>0</td><td>0</td><td>0</td><td>0</td><td>0</td><td>0</td><td>0</td><td>0</td><td>0</td></tr>\n",
       "\t<tr><th scope=row>5</th><td>Zm00001d027320</td><td>1</td><td>2878535</td><td>2889452</td><td>Col-02</td><td>2889077</td><td>2889085</td><td> 4</td><td> 5</td><td>10918</td><td>⋯</td><td>0</td><td>0</td><td>0</td><td>0</td><td>0</td><td>0</td><td>0</td><td>0</td><td>0</td><td>0</td></tr>\n",
       "\t<tr><th scope=row>6</th><td>Zm00001d027320</td><td>1</td><td>2878535</td><td>2889452</td><td>Col-04</td><td>2889077</td><td>2889085</td><td> 8</td><td>14</td><td>10918</td><td>⋯</td><td>0</td><td>0</td><td>0</td><td>0</td><td>0</td><td>0</td><td>0</td><td>0</td><td>0</td><td>0</td></tr>\n",
       "</tbody>\n",
       "</table>\n"
      ],
      "text/latex": [
       "A data.frame: 6 × 47\n",
       "\\begin{tabular}{r|lllllllllllllllllllll}\n",
       "  & GeneID & Chr & Start & End & Sample & InsertionStart & InsertionEnd & StartReads & EndReads & Gene\\_length & ⋯ & Mu15\\_R & Mu16\\_L & Mu16\\_R & Mu17\\_L & Mu17\\_R & Mu18\\_L & Mu18\\_R & Mu19\\_L & Mu19\\_R & uncategorized\\\\\n",
       "  & <chr> & <chr> & <int> & <int> & <chr> & <int> & <int> & <int> & <int> & <int> & ⋯ & <dbl> & <dbl> & <dbl> & <dbl> & <dbl> & <dbl> & <dbl> & <dbl> & <dbl> & <dbl>\\\\\n",
       "\\hline\n",
       "\t1 & Zm00001d027276 & 1 & 1226063 & 1236227 & Row-02 & 1235418 & 1235426 & 10 &  4 & 10165 & ⋯ & 0 & 0 & 0 & 0 & 0 & 0 & 0 & 0 & 0 & 0\\\\\n",
       "\t2 & Zm00001d027277 & 1 & 1231545 & 1236335 & Row-02 & 1235418 & 1235426 & 10 &  4 &  4791 & ⋯ & 0 & 0 & 0 & 0 & 0 & 0 & 0 & 0 & 0 & 0\\\\\n",
       "\t3 & Zm00001d027298 & 1 & 2154232 & 2156387 & Col-03 & 2156358 & 2156366 &  6 &  2 &  2156 & ⋯ & 0 & 0 & 0 & 0 & 0 & 0 & 0 & 0 & 0 & 0\\\\\n",
       "\t4 & Zm00001d022653 & 1 & 2170280 & 2170983 & Col-03 & 2170966 & 2170974 & 12 & 13 &   704 & ⋯ & 0 & 0 & 0 & 0 & 0 & 0 & 0 & 0 & 0 & 0\\\\\n",
       "\t5 & Zm00001d027320 & 1 & 2878535 & 2889452 & Col-02 & 2889077 & 2889085 &  4 &  5 & 10918 & ⋯ & 0 & 0 & 0 & 0 & 0 & 0 & 0 & 0 & 0 & 0\\\\\n",
       "\t6 & Zm00001d027320 & 1 & 2878535 & 2889452 & Col-04 & 2889077 & 2889085 &  8 & 14 & 10918 & ⋯ & 0 & 0 & 0 & 0 & 0 & 0 & 0 & 0 & 0 & 0\\\\\n",
       "\\end{tabular}\n"
      ],
      "text/markdown": [
       "\n",
       "A data.frame: 6 × 47\n",
       "\n",
       "| <!--/--> | GeneID &lt;chr&gt; | Chr &lt;chr&gt; | Start &lt;int&gt; | End &lt;int&gt; | Sample &lt;chr&gt; | InsertionStart &lt;int&gt; | InsertionEnd &lt;int&gt; | StartReads &lt;int&gt; | EndReads &lt;int&gt; | Gene_length &lt;int&gt; | ⋯ ⋯ | Mu15_R &lt;dbl&gt; | Mu16_L &lt;dbl&gt; | Mu16_R &lt;dbl&gt; | Mu17_L &lt;dbl&gt; | Mu17_R &lt;dbl&gt; | Mu18_L &lt;dbl&gt; | Mu18_R &lt;dbl&gt; | Mu19_L &lt;dbl&gt; | Mu19_R &lt;dbl&gt; | uncategorized &lt;dbl&gt; |\n",
       "|---|---|---|---|---|---|---|---|---|---|---|---|---|---|---|---|---|---|---|---|---|---|\n",
       "| 1 | Zm00001d027276 | 1 | 1226063 | 1236227 | Row-02 | 1235418 | 1235426 | 10 |  4 | 10165 | ⋯ | 0 | 0 | 0 | 0 | 0 | 0 | 0 | 0 | 0 | 0 |\n",
       "| 2 | Zm00001d027277 | 1 | 1231545 | 1236335 | Row-02 | 1235418 | 1235426 | 10 |  4 |  4791 | ⋯ | 0 | 0 | 0 | 0 | 0 | 0 | 0 | 0 | 0 | 0 |\n",
       "| 3 | Zm00001d027298 | 1 | 2154232 | 2156387 | Col-03 | 2156358 | 2156366 |  6 |  2 |  2156 | ⋯ | 0 | 0 | 0 | 0 | 0 | 0 | 0 | 0 | 0 | 0 |\n",
       "| 4 | Zm00001d022653 | 1 | 2170280 | 2170983 | Col-03 | 2170966 | 2170974 | 12 | 13 |   704 | ⋯ | 0 | 0 | 0 | 0 | 0 | 0 | 0 | 0 | 0 | 0 |\n",
       "| 5 | Zm00001d027320 | 1 | 2878535 | 2889452 | Col-02 | 2889077 | 2889085 |  4 |  5 | 10918 | ⋯ | 0 | 0 | 0 | 0 | 0 | 0 | 0 | 0 | 0 | 0 |\n",
       "| 6 | Zm00001d027320 | 1 | 2878535 | 2889452 | Col-04 | 2889077 | 2889085 |  8 | 14 | 10918 | ⋯ | 0 | 0 | 0 | 0 | 0 | 0 | 0 | 0 | 0 | 0 |\n",
       "\n"
      ],
      "text/plain": [
       "  GeneID         Chr Start   End     Sample InsertionStart InsertionEnd\n",
       "1 Zm00001d027276 1   1226063 1236227 Row-02 1235418        1235426     \n",
       "2 Zm00001d027277 1   1231545 1236335 Row-02 1235418        1235426     \n",
       "3 Zm00001d027298 1   2154232 2156387 Col-03 2156358        2156366     \n",
       "4 Zm00001d022653 1   2170280 2170983 Col-03 2170966        2170974     \n",
       "5 Zm00001d027320 1   2878535 2889452 Col-02 2889077        2889085     \n",
       "6 Zm00001d027320 1   2878535 2889452 Col-04 2889077        2889085     \n",
       "  StartReads EndReads Gene_length ⋯ Mu15_R Mu16_L Mu16_R Mu17_L Mu17_R Mu18_L\n",
       "1 10          4       10165       ⋯ 0      0      0      0      0      0     \n",
       "2 10          4        4791       ⋯ 0      0      0      0      0      0     \n",
       "3  6          2        2156       ⋯ 0      0      0      0      0      0     \n",
       "4 12         13         704       ⋯ 0      0      0      0      0      0     \n",
       "5  4          5       10918       ⋯ 0      0      0      0      0      0     \n",
       "6  8         14       10918       ⋯ 0      0      0      0      0      0     \n",
       "  Mu18_R Mu19_L Mu19_R uncategorized\n",
       "1 0      0      0      0            \n",
       "2 0      0      0      0            \n",
       "3 0      0      0      0            \n",
       "4 0      0      0      0            \n",
       "5 0      0      0      0            \n",
       "6 0      0      0      0            "
      ]
     },
     "metadata": {},
     "output_type": "display_data"
    },
    {
     "data": {
      "text/html": [
       "3085"
      ],
      "text/latex": [
       "3085"
      ],
      "text/markdown": [
       "3085"
      ],
      "text/plain": [
       "[1] 3085"
      ]
     },
     "metadata": {},
     "output_type": "display_data"
    },
    {
     "data": {
      "text/html": [
       "<table class=\"dataframe\">\n",
       "<caption>A tibble: 0 × 2</caption>\n",
       "<thead>\n",
       "\t<tr><th scope=col>Type</th><th scope=col>n</th></tr>\n",
       "\t<tr><th scope=col>&lt;chr&gt;</th><th scope=col>&lt;int&gt;</th></tr>\n",
       "</thead>\n",
       "<tbody>\n",
       "</tbody>\n",
       "</table>\n"
      ],
      "text/latex": [
       "A tibble: 0 × 2\n",
       "\\begin{tabular}{ll}\n",
       " Type & n\\\\\n",
       " <chr> & <int>\\\\\n",
       "\\hline\n",
       "\\end{tabular}\n"
      ],
      "text/markdown": [
       "\n",
       "A tibble: 0 × 2\n",
       "\n",
       "| Type &lt;chr&gt; | n &lt;int&gt; |\n",
       "|---|---|\n",
       "\n"
      ],
      "text/plain": [
       "     Type n"
      ]
     },
     "metadata": {},
     "output_type": "display_data"
    }
   ],
   "source": [
    "head(all_insertions_typed)\n",
    "nrow(all_insertions_typed)\n",
    "\n",
    "head(tmp_merge_ins_sam_typed_summary)\n",
    "\n",
    "#t(all_insertions_typed[1,])"
   ]
  },
  {
   "cell_type": "markdown",
   "id": "47938305-3eb1-42c8-853a-602ff1303038",
   "metadata": {},
   "source": [
    "### Annotating with likely/best candidate/s, uncategorized reads and percentages etc."
   ]
  },
  {
   "cell_type": "code",
   "execution_count": 35,
   "id": "a847de12-11e3-4154-ae72-e9a7d5e6d480",
   "metadata": {},
   "outputs": [
    {
     "data": {
      "text/html": [
       "<table class=\"dataframe\">\n",
       "<caption>A rowwise_df: 5 × 78</caption>\n",
       "<thead>\n",
       "\t<tr><th scope=col>GeneID</th><th scope=col>Chr</th><th scope=col>Start</th><th scope=col>End</th><th scope=col>Sample</th><th scope=col>InsertionStart</th><th scope=col>InsertionEnd</th><th scope=col>StartReads</th><th scope=col>EndReads</th><th scope=col>TotalReads</th><th scope=col>⋯</th><th scope=col>all_n_max_value</th><th scope=col>type_n_max_value</th><th scope=col>all_TIES</th><th scope=col>type_TIES</th><th scope=col>all_max_name</th><th scope=col>type_max_name</th><th scope=col>perc_uncategorized</th><th scope=col>perc_best_type</th><th scope=col>all_candidates</th><th scope=col>type_candidates</th></tr>\n",
       "\t<tr><th scope=col>&lt;chr&gt;</th><th scope=col>&lt;chr&gt;</th><th scope=col>&lt;int&gt;</th><th scope=col>&lt;int&gt;</th><th scope=col>&lt;chr&gt;</th><th scope=col>&lt;int&gt;</th><th scope=col>&lt;int&gt;</th><th scope=col>&lt;int&gt;</th><th scope=col>&lt;int&gt;</th><th scope=col>&lt;int&gt;</th><th scope=col>⋯</th><th scope=col>&lt;int&gt;</th><th scope=col>&lt;int&gt;</th><th scope=col>&lt;chr&gt;</th><th scope=col>&lt;chr&gt;</th><th scope=col>&lt;chr&gt;</th><th scope=col>&lt;chr&gt;</th><th scope=col>&lt;dbl&gt;</th><th scope=col>&lt;dbl&gt;</th><th scope=col>&lt;list&gt;</th><th scope=col>&lt;list&gt;</th></tr>\n",
       "</thead>\n",
       "<tbody>\n",
       "\t<tr><td>Zm00001d027276</td><td>1</td><td>1226063</td><td>1236227</td><td>Row-02</td><td>1235418</td><td>1235426</td><td>10</td><td> 4</td><td>14</td><td>⋯</td><td>0</td><td>0</td><td>NO READS</td><td>NO READS</td><td>NO READS</td><td>NO READS</td><td>0</td><td>0</td><td>NA</td><td>NA</td></tr>\n",
       "\t<tr><td>Zm00001d027277</td><td>1</td><td>1231545</td><td>1236335</td><td>Row-02</td><td>1235418</td><td>1235426</td><td>10</td><td> 4</td><td>14</td><td>⋯</td><td>0</td><td>0</td><td>NO READS</td><td>NO READS</td><td>NO READS</td><td>NO READS</td><td>0</td><td>0</td><td>NA</td><td>NA</td></tr>\n",
       "\t<tr><td>Zm00001d027298</td><td>1</td><td>2154232</td><td>2156387</td><td>Col-03</td><td>2156358</td><td>2156366</td><td> 6</td><td> 2</td><td> 8</td><td>⋯</td><td>0</td><td>0</td><td>NO READS</td><td>NO READS</td><td>NO READS</td><td>NO READS</td><td>0</td><td>0</td><td>NA</td><td>NA</td></tr>\n",
       "\t<tr><td>Zm00001d022653</td><td>1</td><td>2170280</td><td>2170983</td><td>Col-03</td><td>2170966</td><td>2170974</td><td>12</td><td>13</td><td>25</td><td>⋯</td><td>0</td><td>0</td><td>NO READS</td><td>NO READS</td><td>NO READS</td><td>NO READS</td><td>0</td><td>0</td><td>NA</td><td>NA</td></tr>\n",
       "\t<tr><td>Zm00001d027320</td><td>1</td><td>2878535</td><td>2889452</td><td>Col-02</td><td>2889077</td><td>2889085</td><td> 4</td><td> 5</td><td> 9</td><td>⋯</td><td>0</td><td>0</td><td>NO READS</td><td>NO READS</td><td>NO READS</td><td>NO READS</td><td>0</td><td>0</td><td>NA</td><td>NA</td></tr>\n",
       "</tbody>\n",
       "</table>\n"
      ],
      "text/latex": [
       "A rowwise\\_df: 5 × 78\n",
       "\\begin{tabular}{lllllllllllllllllllll}\n",
       " GeneID & Chr & Start & End & Sample & InsertionStart & InsertionEnd & StartReads & EndReads & TotalReads & ⋯ & all\\_n\\_max\\_value & type\\_n\\_max\\_value & all\\_TIES & type\\_TIES & all\\_max\\_name & type\\_max\\_name & perc\\_uncategorized & perc\\_best\\_type & all\\_candidates & type\\_candidates\\\\\n",
       " <chr> & <chr> & <int> & <int> & <chr> & <int> & <int> & <int> & <int> & <int> & ⋯ & <int> & <int> & <chr> & <chr> & <chr> & <chr> & <dbl> & <dbl> & <list> & <list>\\\\\n",
       "\\hline\n",
       "\t Zm00001d027276 & 1 & 1226063 & 1236227 & Row-02 & 1235418 & 1235426 & 10 &  4 & 14 & ⋯ & 0 & 0 & NO READS & NO READS & NO READS & NO READS & 0 & 0 & NA & NA\\\\\n",
       "\t Zm00001d027277 & 1 & 1231545 & 1236335 & Row-02 & 1235418 & 1235426 & 10 &  4 & 14 & ⋯ & 0 & 0 & NO READS & NO READS & NO READS & NO READS & 0 & 0 & NA & NA\\\\\n",
       "\t Zm00001d027298 & 1 & 2154232 & 2156387 & Col-03 & 2156358 & 2156366 &  6 &  2 &  8 & ⋯ & 0 & 0 & NO READS & NO READS & NO READS & NO READS & 0 & 0 & NA & NA\\\\\n",
       "\t Zm00001d022653 & 1 & 2170280 & 2170983 & Col-03 & 2170966 & 2170974 & 12 & 13 & 25 & ⋯ & 0 & 0 & NO READS & NO READS & NO READS & NO READS & 0 & 0 & NA & NA\\\\\n",
       "\t Zm00001d027320 & 1 & 2878535 & 2889452 & Col-02 & 2889077 & 2889085 &  4 &  5 &  9 & ⋯ & 0 & 0 & NO READS & NO READS & NO READS & NO READS & 0 & 0 & NA & NA\\\\\n",
       "\\end{tabular}\n"
      ],
      "text/markdown": [
       "\n",
       "A rowwise_df: 5 × 78\n",
       "\n",
       "| GeneID &lt;chr&gt; | Chr &lt;chr&gt; | Start &lt;int&gt; | End &lt;int&gt; | Sample &lt;chr&gt; | InsertionStart &lt;int&gt; | InsertionEnd &lt;int&gt; | StartReads &lt;int&gt; | EndReads &lt;int&gt; | TotalReads &lt;int&gt; | ⋯ ⋯ | all_n_max_value &lt;int&gt; | type_n_max_value &lt;int&gt; | all_TIES &lt;chr&gt; | type_TIES &lt;chr&gt; | all_max_name &lt;chr&gt; | type_max_name &lt;chr&gt; | perc_uncategorized &lt;dbl&gt; | perc_best_type &lt;dbl&gt; | all_candidates &lt;list&gt; | type_candidates &lt;list&gt; |\n",
       "|---|---|---|---|---|---|---|---|---|---|---|---|---|---|---|---|---|---|---|---|---|\n",
       "| Zm00001d027276 | 1 | 1226063 | 1236227 | Row-02 | 1235418 | 1235426 | 10 |  4 | 14 | ⋯ | 0 | 0 | NO READS | NO READS | NO READS | NO READS | 0 | 0 | NA | NA |\n",
       "| Zm00001d027277 | 1 | 1231545 | 1236335 | Row-02 | 1235418 | 1235426 | 10 |  4 | 14 | ⋯ | 0 | 0 | NO READS | NO READS | NO READS | NO READS | 0 | 0 | NA | NA |\n",
       "| Zm00001d027298 | 1 | 2154232 | 2156387 | Col-03 | 2156358 | 2156366 |  6 |  2 |  8 | ⋯ | 0 | 0 | NO READS | NO READS | NO READS | NO READS | 0 | 0 | NA | NA |\n",
       "| Zm00001d022653 | 1 | 2170280 | 2170983 | Col-03 | 2170966 | 2170974 | 12 | 13 | 25 | ⋯ | 0 | 0 | NO READS | NO READS | NO READS | NO READS | 0 | 0 | NA | NA |\n",
       "| Zm00001d027320 | 1 | 2878535 | 2889452 | Col-02 | 2889077 | 2889085 |  4 |  5 |  9 | ⋯ | 0 | 0 | NO READS | NO READS | NO READS | NO READS | 0 | 0 | NA | NA |\n",
       "\n"
      ],
      "text/plain": [
       "  GeneID         Chr Start   End     Sample InsertionStart InsertionEnd\n",
       "1 Zm00001d027276 1   1226063 1236227 Row-02 1235418        1235426     \n",
       "2 Zm00001d027277 1   1231545 1236335 Row-02 1235418        1235426     \n",
       "3 Zm00001d027298 1   2154232 2156387 Col-03 2156358        2156366     \n",
       "4 Zm00001d022653 1   2170280 2170983 Col-03 2170966        2170974     \n",
       "5 Zm00001d027320 1   2878535 2889452 Col-02 2889077        2889085     \n",
       "  StartReads EndReads TotalReads ⋯ all_n_max_value type_n_max_value all_TIES\n",
       "1 10          4       14         ⋯ 0               0                NO READS\n",
       "2 10          4       14         ⋯ 0               0                NO READS\n",
       "3  6          2        8         ⋯ 0               0                NO READS\n",
       "4 12         13       25         ⋯ 0               0                NO READS\n",
       "5  4          5        9         ⋯ 0               0                NO READS\n",
       "  type_TIES all_max_name type_max_name perc_uncategorized perc_best_type\n",
       "1 NO READS  NO READS     NO READS      0                  0             \n",
       "2 NO READS  NO READS     NO READS      0                  0             \n",
       "3 NO READS  NO READS     NO READS      0                  0             \n",
       "4 NO READS  NO READS     NO READS      0                  0             \n",
       "5 NO READS  NO READS     NO READS      0                  0             \n",
       "  all_candidates type_candidates\n",
       "1 NA             NA             \n",
       "2 NA             NA             \n",
       "3 NA             NA             \n",
       "4 NA             NA             \n",
       "5 NA             NA             "
      ]
     },
     "metadata": {},
     "output_type": "display_data"
    }
   ],
   "source": [
    "ait_annotated <- all_insertions_typed\n",
    "\n",
    "#compute TotalReads per insertion and total (left+right) reads per type per insertion\n",
    "for (t in base_all_types) {\n",
    "    \n",
    "  tmp_left <- paste0(t, \"_L\")\n",
    "  tmp_right <- paste0(t, \"_R\")\n",
    "    \n",
    "  ait_annotated <- ait_annotated %>%\n",
    "    #add total amount of reads supporting insertion\n",
    "    mutate(TotalReads = StartReads + EndReads) %>%\n",
    "    dplyr::relocate(TotalReads, .after = EndReads) %>%\n",
    "    #add total amount of support reads per (Mu) type\n",
    "    mutate(\"{t}_total\" := .data[[tmp_left]] + .data[[tmp_right]]) \n",
    "}\n",
    "\n",
    "#move uncategorized to the end of the df\n",
    "ait_annotated <- ait_annotated %>%\n",
    " relocate(uncategorized, .after = last_col())\n",
    "\n",
    "#compute the maximum value found among types/types+uncategorized per insertion\n",
    "ait_annotated <- ait_annotated %>%\n",
    "  rowwise() %>%\n",
    "  #max value for all total and uncategorized columns\n",
    "  mutate(all_max_value = max(across(ends_with(c(\"_total\", \"uncategorized\"))))) %>%\n",
    "  #also compute max value for all types excl. uncategorized\n",
    "  mutate(type_max_value = max(across(ends_with(\"_total\")))) %>%\n",
    "  #number of max values for all total and uncategorized columns\n",
    "  #also, catch edge case when no type has any associated values/reads\n",
    "  mutate(all_n_max_value = case_when(\n",
    "           all_max_value > 0 ~ length(which(across(ends_with(c(\"_total\", \"uncategorized\", \"all_max_value\")))==all_max_value)),\n",
    "           TRUE ~ as.integer(0)\n",
    "    )\n",
    "  ) %>%\n",
    "  #number of max values for all total columns excl. uncategorized\n",
    "  #again, catch edge case when no type has any associated values/reads\n",
    "  mutate(type_n_max_value = case_when(\n",
    "            type_max_value > 0 ~ length(which(across(ends_with(c(\"_total\", \"type_max_value\")))==type_max_value)),\n",
    "            TRUE ~ as.integer(0)\n",
    "         )\n",
    "  )\n",
    "\n",
    "\n",
    "#loop over df to identify uncear cases in which the max support for type classification is tied\n",
    "#create column with info on whether or not one type is more often than others\n",
    "ait_annotated <- ait_annotated %>%\n",
    "  mutate(all_TIES = \n",
    "    case_when(\n",
    "      all_n_max_value > 2 ~ \"TIED\",\n",
    "      all_n_max_value == 2 ~ \"WINNER\",\n",
    "      TRUE ~ \"NO READS\"\n",
    "    ) \n",
    "  ) %>%\n",
    "  mutate(type_TIES = \n",
    "    case_when(\n",
    "      type_n_max_value > 2 ~ \"TIED\",\n",
    "      type_n_max_value == 2 ~ \"WINNER\",\n",
    "      TRUE ~ \"NO READS\"\n",
    "    ) \n",
    "  )\n",
    "\n",
    "\n",
    "#isolate columns for all and type (without uncategorized) and write into vector\n",
    "all_sss_count_cols <- ait_annotated %>%\n",
    "  select(ends_with(c(\"_total\", \"uncategorized\"))) %>%\n",
    "  names()\n",
    "\n",
    "type_sss_count_cols <- ait_annotated %>%\n",
    "  select(ends_with(\"_total\")) %>%\n",
    "  names()\n",
    "\n",
    "\n",
    "#extract the name of the max value type/uncategorized or infer that it is unclear (\"TIED\")\n",
    "ait_annotated <- ait_annotated %>%\n",
    "  rowwise() %>%\n",
    "  #porbably a better way to do this - case_when() strict; \"WINNER\" code is a \"hidden\" list thus we have to add [1] on top\n",
    "  mutate(all_max_name = \n",
    "    case_when(\n",
    "      all_TIES == \"WINNER\" ~ names(.[,c(all_sss_count_cols)])[which(across(ends_with(c(\"_total\", \"uncategorized\")))==all_max_value)][1],\n",
    "      all_TIES == \"TIED\" ~ \"TIED\",\n",
    "      TRUE ~ \"NO READS\"\n",
    "         )\n",
    "  ) %>%\n",
    "    mutate(type_max_name = \n",
    "    case_when(\n",
    "      type_TIES == \"WINNER\" ~ names(.[,c(type_sss_count_cols)])[which(across(ends_with(\"_total\"))==type_max_value)][1],\n",
    "      type_TIES == \"TIED\" ~ \"TIED\",\n",
    "      TRUE ~ \"NO READS\"\n",
    "         )\n",
    "  ) %>%\n",
    "  mutate(all_max_name = str_remove(all_max_name, \"_total\")) %>%\n",
    "  mutate(type_max_name = str_remove(type_max_name, \"_total\"))\n",
    "\n",
    "\n",
    "#compute stats:\n",
    "#percent uncategorized of all reads (TotalReads)\n",
    "#percent of the best type/s of all reads (TotalReads) \n",
    "ait_annotated <- ait_annotated %>%\n",
    "  mutate(perc_uncategorized = uncategorized/TotalReads) %>%\n",
    "  mutate(perc_best_type = type_max_value/TotalReads)\n",
    "\n",
    "\n",
    "#add list elements as df entries per insertion - what are likely candidates (important in unclear cases):\n",
    "#excl. uncategorized\n",
    "#incl. uncategorized\n",
    "ait_annotated <- ait_annotated %>%\n",
    "  mutate(\n",
    "      all_candidates = case_when(\n",
    "          type_max_value > 0 ~ list(names(.[,c(all_sss_count_cols)])[which(across(ends_with(c(\"_total\", \"uncategorized\"))) >= type_max_value)]),\n",
    "          type_max_value == 0 & all_max_value > 0 ~ list(c(\"uncategorized\")),\n",
    "          TRUE ~ list(NA)\n",
    "        )\n",
    "      ) %>%\n",
    "  mutate(\n",
    "      type_candidates = case_when(\n",
    "          type_max_value > 0 ~ list(names(.[,c(type_sss_count_cols)])[which(across(ends_with(\"_total\")) >= type_max_value)]),\n",
    "          TRUE ~ list(NA)\n",
    "        )\n",
    "      ) %>%\n",
    "  mutate(all_candidates = list(str_remove(all_candidates, \"_total\"))) %>%\n",
    "  mutate(type_candidates = list(str_remove(type_candidates, \"_total\")))\n",
    "\n",
    "\n",
    "head(ait_annotated, n=5)"
   ]
  },
  {
   "cell_type": "markdown",
   "id": "267af806-bb95-4589-a049-7e099397dfe4",
   "metadata": {},
   "source": [
    "### create files for insertions with uncategorized reads"
   ]
  },
  {
   "cell_type": "code",
   "execution_count": null,
   "id": "f2473ff8-7a35-4668-a8ac-87a6cf216a27",
   "metadata": {},
   "outputs": [],
   "source": []
  },
  {
   "cell_type": "code",
   "execution_count": null,
   "id": "d3f14140-1510-4a95-8e26-00efe2aa736a",
   "metadata": {},
   "outputs": [],
   "source": []
  },
  {
   "cell_type": "code",
   "execution_count": null,
   "id": "afdcd83f-823e-4c62-aa9a-733e04f0bdf7",
   "metadata": {},
   "outputs": [],
   "source": []
  },
  {
   "cell_type": "markdown",
   "id": "a471dc07-88f1-41a4-8e24-59590c02a578",
   "metadata": {},
   "source": [
    "## dev notes and tests"
   ]
  },
  {
   "cell_type": "code",
   "execution_count": 11,
   "id": "d820db4e-f3d8-45d9-856d-c6a052989aeb",
   "metadata": {},
   "outputs": [],
   "source": [
    "#all_insertions_typed %>%\n",
    "#  filter(MuDR_L != 0) %>%\n",
    "#  select(MuDR_L, MuDR_R, Mu8_L, Mu8_R)\n",
    "\n",
    "#all_insertions_typed %>%\n",
    "#  filter(Mu5_R != 0) %>%\n",
    "#  select(Mu5_R, Mu7_L, Mu7_R)"
   ]
  },
  {
   "cell_type": "code",
   "execution_count": 57,
   "id": "2fcb44d8-08ff-45ba-b397-36efef5bec9d",
   "metadata": {},
   "outputs": [
    {
     "data": {
      "text/html": [
       "<table class=\"dataframe\">\n",
       "<caption>A data.frame: 1 × 47</caption>\n",
       "<thead>\n",
       "\t<tr><th></th><th scope=col>GeneID</th><th scope=col>Chr</th><th scope=col>Start</th><th scope=col>End</th><th scope=col>Sample</th><th scope=col>InsertionStart</th><th scope=col>InsertionEnd</th><th scope=col>StartReads</th><th scope=col>EndReads</th><th scope=col>Gene_length</th><th scope=col>⋯</th><th scope=col>Mu15_R</th><th scope=col>Mu16_L</th><th scope=col>Mu16_R</th><th scope=col>Mu17_L</th><th scope=col>Mu17_R</th><th scope=col>Mu18_L</th><th scope=col>Mu18_R</th><th scope=col>Mu19_L</th><th scope=col>Mu19_R</th><th scope=col>uncategorized</th></tr>\n",
       "\t<tr><th></th><th scope=col>&lt;chr&gt;</th><th scope=col>&lt;chr&gt;</th><th scope=col>&lt;int&gt;</th><th scope=col>&lt;int&gt;</th><th scope=col>&lt;chr&gt;</th><th scope=col>&lt;int&gt;</th><th scope=col>&lt;int&gt;</th><th scope=col>&lt;int&gt;</th><th scope=col>&lt;int&gt;</th><th scope=col>&lt;int&gt;</th><th scope=col>⋯</th><th scope=col>&lt;dbl&gt;</th><th scope=col>&lt;dbl&gt;</th><th scope=col>&lt;dbl&gt;</th><th scope=col>&lt;dbl&gt;</th><th scope=col>&lt;dbl&gt;</th><th scope=col>&lt;dbl&gt;</th><th scope=col>&lt;dbl&gt;</th><th scope=col>&lt;dbl&gt;</th><th scope=col>&lt;dbl&gt;</th><th scope=col>&lt;dbl&gt;</th></tr>\n",
       "</thead>\n",
       "<tbody>\n",
       "\t<tr><th scope=row>1</th><td>Zm00001d027276</td><td>1</td><td>1226063</td><td>1236227</td><td>Row-02</td><td>1235418</td><td>1235426</td><td>10</td><td>4</td><td>10165</td><td>⋯</td><td>0</td><td>0</td><td>0</td><td>0</td><td>0</td><td>0</td><td>0</td><td>0</td><td>0</td><td>0</td></tr>\n",
       "</tbody>\n",
       "</table>\n"
      ],
      "text/latex": [
       "A data.frame: 1 × 47\n",
       "\\begin{tabular}{r|lllllllllllllllllllll}\n",
       "  & GeneID & Chr & Start & End & Sample & InsertionStart & InsertionEnd & StartReads & EndReads & Gene\\_length & ⋯ & Mu15\\_R & Mu16\\_L & Mu16\\_R & Mu17\\_L & Mu17\\_R & Mu18\\_L & Mu18\\_R & Mu19\\_L & Mu19\\_R & uncategorized\\\\\n",
       "  & <chr> & <chr> & <int> & <int> & <chr> & <int> & <int> & <int> & <int> & <int> & ⋯ & <dbl> & <dbl> & <dbl> & <dbl> & <dbl> & <dbl> & <dbl> & <dbl> & <dbl> & <dbl>\\\\\n",
       "\\hline\n",
       "\t1 & Zm00001d027276 & 1 & 1226063 & 1236227 & Row-02 & 1235418 & 1235426 & 10 & 4 & 10165 & ⋯ & 0 & 0 & 0 & 0 & 0 & 0 & 0 & 0 & 0 & 0\\\\\n",
       "\\end{tabular}\n"
      ],
      "text/markdown": [
       "\n",
       "A data.frame: 1 × 47\n",
       "\n",
       "| <!--/--> | GeneID &lt;chr&gt; | Chr &lt;chr&gt; | Start &lt;int&gt; | End &lt;int&gt; | Sample &lt;chr&gt; | InsertionStart &lt;int&gt; | InsertionEnd &lt;int&gt; | StartReads &lt;int&gt; | EndReads &lt;int&gt; | Gene_length &lt;int&gt; | ⋯ ⋯ | Mu15_R &lt;dbl&gt; | Mu16_L &lt;dbl&gt; | Mu16_R &lt;dbl&gt; | Mu17_L &lt;dbl&gt; | Mu17_R &lt;dbl&gt; | Mu18_L &lt;dbl&gt; | Mu18_R &lt;dbl&gt; | Mu19_L &lt;dbl&gt; | Mu19_R &lt;dbl&gt; | uncategorized &lt;dbl&gt; |\n",
       "|---|---|---|---|---|---|---|---|---|---|---|---|---|---|---|---|---|---|---|---|---|---|\n",
       "| 1 | Zm00001d027276 | 1 | 1226063 | 1236227 | Row-02 | 1235418 | 1235426 | 10 | 4 | 10165 | ⋯ | 0 | 0 | 0 | 0 | 0 | 0 | 0 | 0 | 0 | 0 |\n",
       "\n"
      ],
      "text/plain": [
       "  GeneID         Chr Start   End     Sample InsertionStart InsertionEnd\n",
       "1 Zm00001d027276 1   1226063 1236227 Row-02 1235418        1235426     \n",
       "  StartReads EndReads Gene_length ⋯ Mu15_R Mu16_L Mu16_R Mu17_L Mu17_R Mu18_L\n",
       "1 10         4        10165       ⋯ 0      0      0      0      0      0     \n",
       "  Mu18_R Mu19_L Mu19_R uncategorized\n",
       "1 0      0      0      0            "
      ]
     },
     "metadata": {},
     "output_type": "display_data"
    },
    {
     "data": {
      "text/html": [
       "<table class=\"dataframe\">\n",
       "<caption>A rowwise_df: 6 × 5</caption>\n",
       "<thead>\n",
       "\t<tr><th scope=col>Name</th><th scope=col>Strand</th><th scope=col>Chr</th><th scope=col>Start</th><th scope=col>End</th></tr>\n",
       "\t<tr><th scope=col>&lt;chr&gt;</th><th scope=col>&lt;chr&gt;</th><th scope=col>&lt;chr&gt;</th><th scope=col>&lt;int&gt;</th><th scope=col>&lt;dbl&gt;</th></tr>\n",
       "</thead>\n",
       "<tbody>\n",
       "\t<tr><td>E00591:404:HFCMWCCX2:7:1101:24759:36258</td><td>1</td><td>1</td><td> 56107</td><td> 56207</td></tr>\n",
       "\t<tr><td>E00591:404:HFCMWCCX2:7:1101:24759:36258</td><td>2</td><td>1</td><td> 56112</td><td> 56207</td></tr>\n",
       "\t<tr><td>E00591:404:HFCMWCCX2:7:1102:27945:33691</td><td>1</td><td>1</td><td> 56215</td><td> 56265</td></tr>\n",
       "\t<tr><td>E00591:404:HFCMWCCX2:7:1102:27945:33691</td><td>2</td><td>1</td><td> 56215</td><td> 56265</td></tr>\n",
       "\t<tr><td>E00591:404:HFCMWCCX2:7:1101:7364:5423  </td><td>2</td><td>1</td><td>215243</td><td>215271</td></tr>\n",
       "\t<tr><td>E00591:404:HFCMWCCX2:7:1101:25570:72930</td><td>2</td><td>1</td><td>215243</td><td>215282</td></tr>\n",
       "</tbody>\n",
       "</table>\n"
      ],
      "text/latex": [
       "A rowwise\\_df: 6 × 5\n",
       "\\begin{tabular}{lllll}\n",
       " Name & Strand & Chr & Start & End\\\\\n",
       " <chr> & <chr> & <chr> & <int> & <dbl>\\\\\n",
       "\\hline\n",
       "\t E00591:404:HFCMWCCX2:7:1101:24759:36258 & 1 & 1 &  56107 &  56207\\\\\n",
       "\t E00591:404:HFCMWCCX2:7:1101:24759:36258 & 2 & 1 &  56112 &  56207\\\\\n",
       "\t E00591:404:HFCMWCCX2:7:1102:27945:33691 & 1 & 1 &  56215 &  56265\\\\\n",
       "\t E00591:404:HFCMWCCX2:7:1102:27945:33691 & 2 & 1 &  56215 &  56265\\\\\n",
       "\t E00591:404:HFCMWCCX2:7:1101:7364:5423   & 2 & 1 & 215243 & 215271\\\\\n",
       "\t E00591:404:HFCMWCCX2:7:1101:25570:72930 & 2 & 1 & 215243 & 215282\\\\\n",
       "\\end{tabular}\n"
      ],
      "text/markdown": [
       "\n",
       "A rowwise_df: 6 × 5\n",
       "\n",
       "| Name &lt;chr&gt; | Strand &lt;chr&gt; | Chr &lt;chr&gt; | Start &lt;int&gt; | End &lt;dbl&gt; |\n",
       "|---|---|---|---|---|\n",
       "| E00591:404:HFCMWCCX2:7:1101:24759:36258 | 1 | 1 |  56107 |  56207 |\n",
       "| E00591:404:HFCMWCCX2:7:1101:24759:36258 | 2 | 1 |  56112 |  56207 |\n",
       "| E00591:404:HFCMWCCX2:7:1102:27945:33691 | 1 | 1 |  56215 |  56265 |\n",
       "| E00591:404:HFCMWCCX2:7:1102:27945:33691 | 2 | 1 |  56215 |  56265 |\n",
       "| E00591:404:HFCMWCCX2:7:1101:7364:5423   | 2 | 1 | 215243 | 215271 |\n",
       "| E00591:404:HFCMWCCX2:7:1101:25570:72930 | 2 | 1 | 215243 | 215282 |\n",
       "\n"
      ],
      "text/plain": [
       "  Name                                    Strand Chr Start  End   \n",
       "1 E00591:404:HFCMWCCX2:7:1101:24759:36258 1      1    56107  56207\n",
       "2 E00591:404:HFCMWCCX2:7:1101:24759:36258 2      1    56112  56207\n",
       "3 E00591:404:HFCMWCCX2:7:1102:27945:33691 1      1    56215  56265\n",
       "4 E00591:404:HFCMWCCX2:7:1102:27945:33691 2      1    56215  56265\n",
       "5 E00591:404:HFCMWCCX2:7:1101:7364:5423   2      1   215243 215271\n",
       "6 E00591:404:HFCMWCCX2:7:1101:25570:72930 2      1   215243 215282"
      ]
     },
     "metadata": {},
     "output_type": "display_data"
    },
    {
     "data": {
      "text/html": [
       "<table class=\"dataframe\">\n",
       "<caption>A data.frame: 6 × 3</caption>\n",
       "<thead>\n",
       "\t<tr><th></th><th scope=col>Name</th><th scope=col>Strand</th><th scope=col>Type</th></tr>\n",
       "\t<tr><th></th><th scope=col>&lt;chr&gt;</th><th scope=col>&lt;chr&gt;</th><th scope=col>&lt;chr&gt;</th></tr>\n",
       "</thead>\n",
       "<tbody>\n",
       "\t<tr><th scope=row>1</th><td>E00591:404:HFCMWCCX2:7:1101:10815:1590</td><td>1</td><td>Mu11_L</td></tr>\n",
       "\t<tr><th scope=row>2</th><td>E00591:404:HFCMWCCX2:7:1101:10683:1608</td><td>1</td><td>Mu11_L</td></tr>\n",
       "\t<tr><th scope=row>3</th><td>E00591:404:HFCMWCCX2:7:1101:13007:1661</td><td>1</td><td>Mu11_L</td></tr>\n",
       "\t<tr><th scope=row>4</th><td>E00591:404:HFCMWCCX2:7:1101:8866:1696 </td><td>1</td><td>Mu11_L</td></tr>\n",
       "\t<tr><th scope=row>5</th><td>E00591:404:HFCMWCCX2:7:1101:7182:1942 </td><td>1</td><td>Mu11_L</td></tr>\n",
       "\t<tr><th scope=row>6</th><td>E00591:404:HFCMWCCX2:7:1101:17289:2047</td><td>1</td><td>Mu11_L</td></tr>\n",
       "</tbody>\n",
       "</table>\n"
      ],
      "text/latex": [
       "A data.frame: 6 × 3\n",
       "\\begin{tabular}{r|lll}\n",
       "  & Name & Strand & Type\\\\\n",
       "  & <chr> & <chr> & <chr>\\\\\n",
       "\\hline\n",
       "\t1 & E00591:404:HFCMWCCX2:7:1101:10815:1590 & 1 & Mu11\\_L\\\\\n",
       "\t2 & E00591:404:HFCMWCCX2:7:1101:10683:1608 & 1 & Mu11\\_L\\\\\n",
       "\t3 & E00591:404:HFCMWCCX2:7:1101:13007:1661 & 1 & Mu11\\_L\\\\\n",
       "\t4 & E00591:404:HFCMWCCX2:7:1101:8866:1696  & 1 & Mu11\\_L\\\\\n",
       "\t5 & E00591:404:HFCMWCCX2:7:1101:7182:1942  & 1 & Mu11\\_L\\\\\n",
       "\t6 & E00591:404:HFCMWCCX2:7:1101:17289:2047 & 1 & Mu11\\_L\\\\\n",
       "\\end{tabular}\n"
      ],
      "text/markdown": [
       "\n",
       "A data.frame: 6 × 3\n",
       "\n",
       "| <!--/--> | Name &lt;chr&gt; | Strand &lt;chr&gt; | Type &lt;chr&gt; |\n",
       "|---|---|---|---|\n",
       "| 1 | E00591:404:HFCMWCCX2:7:1101:10815:1590 | 1 | Mu11_L |\n",
       "| 2 | E00591:404:HFCMWCCX2:7:1101:10683:1608 | 1 | Mu11_L |\n",
       "| 3 | E00591:404:HFCMWCCX2:7:1101:13007:1661 | 1 | Mu11_L |\n",
       "| 4 | E00591:404:HFCMWCCX2:7:1101:8866:1696  | 1 | Mu11_L |\n",
       "| 5 | E00591:404:HFCMWCCX2:7:1101:7182:1942  | 1 | Mu11_L |\n",
       "| 6 | E00591:404:HFCMWCCX2:7:1101:17289:2047 | 1 | Mu11_L |\n",
       "\n"
      ],
      "text/plain": [
       "  Name                                   Strand Type  \n",
       "1 E00591:404:HFCMWCCX2:7:1101:10815:1590 1      Mu11_L\n",
       "2 E00591:404:HFCMWCCX2:7:1101:10683:1608 1      Mu11_L\n",
       "3 E00591:404:HFCMWCCX2:7:1101:13007:1661 1      Mu11_L\n",
       "4 E00591:404:HFCMWCCX2:7:1101:8866:1696  1      Mu11_L\n",
       "5 E00591:404:HFCMWCCX2:7:1101:7182:1942  1      Mu11_L\n",
       "6 E00591:404:HFCMWCCX2:7:1101:17289:2047 1      Mu11_L"
      ]
     },
     "metadata": {},
     "output_type": "display_data"
    },
    {
     "data": {
      "text/html": [
       "<table class=\"dataframe\">\n",
       "<caption>A data.frame: 18 × 5</caption>\n",
       "<thead>\n",
       "\t<tr><th scope=col>Name</th><th scope=col>Strand</th><th scope=col>Chr.y</th><th scope=col>Start.y</th><th scope=col>End.y</th></tr>\n",
       "\t<tr><th scope=col>&lt;chr&gt;</th><th scope=col>&lt;chr&gt;</th><th scope=col>&lt;chr&gt;</th><th scope=col>&lt;int&gt;</th><th scope=col>&lt;dbl&gt;</th></tr>\n",
       "</thead>\n",
       "<tbody>\n",
       "\t<tr><td>E00591:404:HFCMWCCX2:7:1101:11140:33516</td><td>1</td><td>1</td><td>1235303</td><td>1235411</td></tr>\n",
       "\t<tr><td>E00591:404:HFCMWCCX2:7:1101:11140:33516</td><td>2</td><td>1</td><td>1235331</td><td>1235426</td></tr>\n",
       "\t<tr><td>E00591:404:HFCMWCCX2:7:1101:13910:27275</td><td>1</td><td>1</td><td>1235334</td><td>1235425</td></tr>\n",
       "\t<tr><td>E00591:404:HFCMWCCX2:7:1102:13778:5493 </td><td>1</td><td>1</td><td>1235362</td><td>1235426</td></tr>\n",
       "\t<tr><td>E00591:404:HFCMWCCX2:7:1101:13910:27275</td><td>2</td><td>1</td><td>1235368</td><td>1235426</td></tr>\n",
       "\t<tr><td>E00591:404:HFCMWCCX2:7:1102:13778:5493 </td><td>2</td><td>1</td><td>1235408</td><td>1235426</td></tr>\n",
       "\t<tr><td>E00591:404:HFCMWCCX2:7:1101:23338:34957</td><td>2</td><td>1</td><td>1235418</td><td>1235464</td></tr>\n",
       "\t<tr><td>E00591:404:HFCMWCCX2:7:1101:11809:56405</td><td>2</td><td>1</td><td>1235418</td><td>1235464</td></tr>\n",
       "\t<tr><td>E00591:404:HFCMWCCX2:7:1101:11038:66742</td><td>2</td><td>1</td><td>1235418</td><td>1235460</td></tr>\n",
       "\t<tr><td>E00591:404:HFCMWCCX2:7:1102:29812:4227 </td><td>2</td><td>1</td><td>1235418</td><td>1235447</td></tr>\n",
       "\t<tr><td>E00591:404:HFCMWCCX2:7:1102:18375:31810</td><td>2</td><td>1</td><td>1235418</td><td>1235472</td></tr>\n",
       "\t<tr><td>E00591:404:HFCMWCCX2:7:1101:23338:34957</td><td>1</td><td>1</td><td>1235418</td><td>1235467</td></tr>\n",
       "\t<tr><td>E00591:404:HFCMWCCX2:7:1101:11809:56405</td><td>1</td><td>1</td><td>1235418</td><td>1235464</td></tr>\n",
       "\t<tr><td>E00591:404:HFCMWCCX2:7:1101:11038:66742</td><td>1</td><td>1</td><td>1235418</td><td>1235460</td></tr>\n",
       "\t<tr><td>E00591:404:HFCMWCCX2:7:1102:29812:4227 </td><td>1</td><td>1</td><td>1235418</td><td>1235447</td></tr>\n",
       "\t<tr><td>E00591:404:HFCMWCCX2:7:1102:18375:31810</td><td>1</td><td>1</td><td>1235418</td><td>1235475</td></tr>\n",
       "\t<tr><td>E00591:404:HFCMWCCX2:7:1101:27306:51605</td><td>2</td><td>1</td><td>1236180</td><td>1236195</td></tr>\n",
       "\t<tr><td>E00591:404:HFCMWCCX2:7:1101:27306:51605</td><td>1</td><td>1</td><td>1236183</td><td>1236195</td></tr>\n",
       "</tbody>\n",
       "</table>\n"
      ],
      "text/latex": [
       "A data.frame: 18 × 5\n",
       "\\begin{tabular}{lllll}\n",
       " Name & Strand & Chr.y & Start.y & End.y\\\\\n",
       " <chr> & <chr> & <chr> & <int> & <dbl>\\\\\n",
       "\\hline\n",
       "\t E00591:404:HFCMWCCX2:7:1101:11140:33516 & 1 & 1 & 1235303 & 1235411\\\\\n",
       "\t E00591:404:HFCMWCCX2:7:1101:11140:33516 & 2 & 1 & 1235331 & 1235426\\\\\n",
       "\t E00591:404:HFCMWCCX2:7:1101:13910:27275 & 1 & 1 & 1235334 & 1235425\\\\\n",
       "\t E00591:404:HFCMWCCX2:7:1102:13778:5493  & 1 & 1 & 1235362 & 1235426\\\\\n",
       "\t E00591:404:HFCMWCCX2:7:1101:13910:27275 & 2 & 1 & 1235368 & 1235426\\\\\n",
       "\t E00591:404:HFCMWCCX2:7:1102:13778:5493  & 2 & 1 & 1235408 & 1235426\\\\\n",
       "\t E00591:404:HFCMWCCX2:7:1101:23338:34957 & 2 & 1 & 1235418 & 1235464\\\\\n",
       "\t E00591:404:HFCMWCCX2:7:1101:11809:56405 & 2 & 1 & 1235418 & 1235464\\\\\n",
       "\t E00591:404:HFCMWCCX2:7:1101:11038:66742 & 2 & 1 & 1235418 & 1235460\\\\\n",
       "\t E00591:404:HFCMWCCX2:7:1102:29812:4227  & 2 & 1 & 1235418 & 1235447\\\\\n",
       "\t E00591:404:HFCMWCCX2:7:1102:18375:31810 & 2 & 1 & 1235418 & 1235472\\\\\n",
       "\t E00591:404:HFCMWCCX2:7:1101:23338:34957 & 1 & 1 & 1235418 & 1235467\\\\\n",
       "\t E00591:404:HFCMWCCX2:7:1101:11809:56405 & 1 & 1 & 1235418 & 1235464\\\\\n",
       "\t E00591:404:HFCMWCCX2:7:1101:11038:66742 & 1 & 1 & 1235418 & 1235460\\\\\n",
       "\t E00591:404:HFCMWCCX2:7:1102:29812:4227  & 1 & 1 & 1235418 & 1235447\\\\\n",
       "\t E00591:404:HFCMWCCX2:7:1102:18375:31810 & 1 & 1 & 1235418 & 1235475\\\\\n",
       "\t E00591:404:HFCMWCCX2:7:1101:27306:51605 & 2 & 1 & 1236180 & 1236195\\\\\n",
       "\t E00591:404:HFCMWCCX2:7:1101:27306:51605 & 1 & 1 & 1236183 & 1236195\\\\\n",
       "\\end{tabular}\n"
      ],
      "text/markdown": [
       "\n",
       "A data.frame: 18 × 5\n",
       "\n",
       "| Name &lt;chr&gt; | Strand &lt;chr&gt; | Chr.y &lt;chr&gt; | Start.y &lt;int&gt; | End.y &lt;dbl&gt; |\n",
       "|---|---|---|---|---|\n",
       "| E00591:404:HFCMWCCX2:7:1101:11140:33516 | 1 | 1 | 1235303 | 1235411 |\n",
       "| E00591:404:HFCMWCCX2:7:1101:11140:33516 | 2 | 1 | 1235331 | 1235426 |\n",
       "| E00591:404:HFCMWCCX2:7:1101:13910:27275 | 1 | 1 | 1235334 | 1235425 |\n",
       "| E00591:404:HFCMWCCX2:7:1102:13778:5493  | 1 | 1 | 1235362 | 1235426 |\n",
       "| E00591:404:HFCMWCCX2:7:1101:13910:27275 | 2 | 1 | 1235368 | 1235426 |\n",
       "| E00591:404:HFCMWCCX2:7:1102:13778:5493  | 2 | 1 | 1235408 | 1235426 |\n",
       "| E00591:404:HFCMWCCX2:7:1101:23338:34957 | 2 | 1 | 1235418 | 1235464 |\n",
       "| E00591:404:HFCMWCCX2:7:1101:11809:56405 | 2 | 1 | 1235418 | 1235464 |\n",
       "| E00591:404:HFCMWCCX2:7:1101:11038:66742 | 2 | 1 | 1235418 | 1235460 |\n",
       "| E00591:404:HFCMWCCX2:7:1102:29812:4227  | 2 | 1 | 1235418 | 1235447 |\n",
       "| E00591:404:HFCMWCCX2:7:1102:18375:31810 | 2 | 1 | 1235418 | 1235472 |\n",
       "| E00591:404:HFCMWCCX2:7:1101:23338:34957 | 1 | 1 | 1235418 | 1235467 |\n",
       "| E00591:404:HFCMWCCX2:7:1101:11809:56405 | 1 | 1 | 1235418 | 1235464 |\n",
       "| E00591:404:HFCMWCCX2:7:1101:11038:66742 | 1 | 1 | 1235418 | 1235460 |\n",
       "| E00591:404:HFCMWCCX2:7:1102:29812:4227  | 1 | 1 | 1235418 | 1235447 |\n",
       "| E00591:404:HFCMWCCX2:7:1102:18375:31810 | 1 | 1 | 1235418 | 1235475 |\n",
       "| E00591:404:HFCMWCCX2:7:1101:27306:51605 | 2 | 1 | 1236180 | 1236195 |\n",
       "| E00591:404:HFCMWCCX2:7:1101:27306:51605 | 1 | 1 | 1236183 | 1236195 |\n",
       "\n"
      ],
      "text/plain": [
       "   Name                                    Strand Chr.y Start.y End.y  \n",
       "1  E00591:404:HFCMWCCX2:7:1101:11140:33516 1      1     1235303 1235411\n",
       "2  E00591:404:HFCMWCCX2:7:1101:11140:33516 2      1     1235331 1235426\n",
       "3  E00591:404:HFCMWCCX2:7:1101:13910:27275 1      1     1235334 1235425\n",
       "4  E00591:404:HFCMWCCX2:7:1102:13778:5493  1      1     1235362 1235426\n",
       "5  E00591:404:HFCMWCCX2:7:1101:13910:27275 2      1     1235368 1235426\n",
       "6  E00591:404:HFCMWCCX2:7:1102:13778:5493  2      1     1235408 1235426\n",
       "7  E00591:404:HFCMWCCX2:7:1101:23338:34957 2      1     1235418 1235464\n",
       "8  E00591:404:HFCMWCCX2:7:1101:11809:56405 2      1     1235418 1235464\n",
       "9  E00591:404:HFCMWCCX2:7:1101:11038:66742 2      1     1235418 1235460\n",
       "10 E00591:404:HFCMWCCX2:7:1102:29812:4227  2      1     1235418 1235447\n",
       "11 E00591:404:HFCMWCCX2:7:1102:18375:31810 2      1     1235418 1235472\n",
       "12 E00591:404:HFCMWCCX2:7:1101:23338:34957 1      1     1235418 1235467\n",
       "13 E00591:404:HFCMWCCX2:7:1101:11809:56405 1      1     1235418 1235464\n",
       "14 E00591:404:HFCMWCCX2:7:1101:11038:66742 1      1     1235418 1235460\n",
       "15 E00591:404:HFCMWCCX2:7:1102:29812:4227  1      1     1235418 1235447\n",
       "16 E00591:404:HFCMWCCX2:7:1102:18375:31810 1      1     1235418 1235475\n",
       "17 E00591:404:HFCMWCCX2:7:1101:27306:51605 2      1     1236180 1236195\n",
       "18 E00591:404:HFCMWCCX2:7:1101:27306:51605 1      1     1236183 1236195"
      ]
     },
     "metadata": {},
     "output_type": "display_data"
    }
   ],
   "source": [
    "tmp_ins <- all_insertions_typed[1,]\n",
    "head(tmp_ins)\n",
    "#tmp_ins\n",
    "\n",
    "#tmp_ins$Sample\n",
    "#tmp_ins$Start\n",
    "#tmp_ins$End\n",
    "\n",
    "\n",
    "#match Sample with sam object\n",
    "tmp_sam <- get(paste0(\"sam_\", tmp_ins$Sample))\n",
    "head(tmp_sam)\n",
    "\n",
    "#match sample of insertion file with te typing file\n",
    "tmp_type_file <- get(paste0(tmp_ins$Sample, \"_type_file\"))\n",
    "head(`Row-02_type_file`)\n",
    "\n",
    "# fuzzyjoin for overlap + end or start needs to match\n",
    "tmp_merge_ins_sam <- fuzzyjoin::genome_inner_join(tmp_ins,\n",
    "                             tmp_sam, \n",
    "                              by=c(\"Chr\", \"Start\", \"End\")\n",
    "                            ) %>%\n",
    "select(Name, Strand, Chr.y, Start.y, End.y) #%>%\n",
    "#nrow()\n",
    "#dplyr::rename(Chr=Chr.y, Start=Start.y, End=End.y) %>%\n",
    "#filter(Start == tmp_ins$Start | \n",
    "#       Start == tmp_ins$End | \n",
    "#       End == tmp_ins$Start | \n",
    "#       End == tmp_ins$End)\n",
    "\n",
    "\n",
    "tmp_merge_ins_sam"
   ]
  },
  {
   "cell_type": "code",
   "execution_count": 119,
   "id": "eddb81de-cc6f-46e6-99ff-415ad08e3367",
   "metadata": {},
   "outputs": [
    {
     "data": {
      "text/html": [
       "<table class=\"dataframe\">\n",
       "<caption>A data.frame: 6 × 43</caption>\n",
       "<thead>\n",
       "\t<tr><th></th><th scope=col>Chr</th><th scope=col>Start</th><th scope=col>End</th><th scope=col>Sample</th><th scope=col>StartReads</th><th scope=col>EndReads</th><th scope=col>Mu1_L</th><th scope=col>Mu1_R</th><th scope=col>Mu2_L</th><th scope=col>Mu2_R</th><th scope=col>⋯</th><th scope=col>Mu15_R</th><th scope=col>Mu16_L</th><th scope=col>Mu16_R</th><th scope=col>Mu17_L</th><th scope=col>Mu17_R</th><th scope=col>Mu18_L</th><th scope=col>Mu18_R</th><th scope=col>Mu19_L</th><th scope=col>Mu19_R</th><th scope=col>uncategorized</th></tr>\n",
       "\t<tr><th></th><th scope=col>&lt;chr&gt;</th><th scope=col>&lt;int&gt;</th><th scope=col>&lt;int&gt;</th><th scope=col>&lt;chr&gt;</th><th scope=col>&lt;int&gt;</th><th scope=col>&lt;int&gt;</th><th scope=col>&lt;dbl&gt;</th><th scope=col>&lt;dbl&gt;</th><th scope=col>&lt;dbl&gt;</th><th scope=col>&lt;dbl&gt;</th><th scope=col>⋯</th><th scope=col>&lt;dbl&gt;</th><th scope=col>&lt;dbl&gt;</th><th scope=col>&lt;dbl&gt;</th><th scope=col>&lt;dbl&gt;</th><th scope=col>&lt;dbl&gt;</th><th scope=col>&lt;dbl&gt;</th><th scope=col>&lt;dbl&gt;</th><th scope=col>&lt;dbl&gt;</th><th scope=col>&lt;dbl&gt;</th><th scope=col>&lt;dbl&gt;</th></tr>\n",
       "</thead>\n",
       "<tbody>\n",
       "\t<tr><th scope=row>1</th><td>1</td><td>3124440</td><td>3124448</td><td>Col-01</td><td> 2</td><td>2</td><td>0</td><td>0</td><td>0</td><td>0</td><td>⋯</td><td>0</td><td>0</td><td>0</td><td>0</td><td>0</td><td>0</td><td>0</td><td>0</td><td>0</td><td> 4</td></tr>\n",
       "\t<tr><th scope=row>2</th><td>1</td><td>3772030</td><td>3772038</td><td>Col-01</td><td> 2</td><td>2</td><td>2</td><td>2</td><td>0</td><td>2</td><td>⋯</td><td>0</td><td>0</td><td>0</td><td>2</td><td>2</td><td>0</td><td>0</td><td>0</td><td>0</td><td> 0</td></tr>\n",
       "\t<tr><th scope=row>3</th><td>1</td><td>4498708</td><td>4498716</td><td>Col-01</td><td> 8</td><td>5</td><td>0</td><td>2</td><td>0</td><td>0</td><td>⋯</td><td>0</td><td>2</td><td>0</td><td>2</td><td>2</td><td>0</td><td>0</td><td>2</td><td>0</td><td> 6</td></tr>\n",
       "\t<tr><th scope=row>4</th><td>1</td><td>4736284</td><td>4736292</td><td>Col-01</td><td> 4</td><td>2</td><td>0</td><td>0</td><td>0</td><td>0</td><td>⋯</td><td>0</td><td>1</td><td>0</td><td>0</td><td>0</td><td>0</td><td>0</td><td>1</td><td>0</td><td> 3</td></tr>\n",
       "\t<tr><th scope=row>5</th><td>1</td><td>4909718</td><td>4909726</td><td>Col-01</td><td> 9</td><td>8</td><td>0</td><td>2</td><td>0</td><td>0</td><td>⋯</td><td>0</td><td>0</td><td>0</td><td>2</td><td>2</td><td>0</td><td>0</td><td>0</td><td>0</td><td>11</td></tr>\n",
       "\t<tr><th scope=row>6</th><td>1</td><td>8308462</td><td>8308470</td><td>Col-01</td><td>12</td><td>2</td><td>1</td><td>2</td><td>0</td><td>1</td><td>⋯</td><td>0</td><td>0</td><td>0</td><td>2</td><td>2</td><td>0</td><td>0</td><td>0</td><td>0</td><td> 9</td></tr>\n",
       "</tbody>\n",
       "</table>\n"
      ],
      "text/latex": [
       "A data.frame: 6 × 43\n",
       "\\begin{tabular}{r|lllllllllllllllllllll}\n",
       "  & Chr & Start & End & Sample & StartReads & EndReads & Mu1\\_L & Mu1\\_R & Mu2\\_L & Mu2\\_R & ⋯ & Mu15\\_R & Mu16\\_L & Mu16\\_R & Mu17\\_L & Mu17\\_R & Mu18\\_L & Mu18\\_R & Mu19\\_L & Mu19\\_R & uncategorized\\\\\n",
       "  & <chr> & <int> & <int> & <chr> & <int> & <int> & <dbl> & <dbl> & <dbl> & <dbl> & ⋯ & <dbl> & <dbl> & <dbl> & <dbl> & <dbl> & <dbl> & <dbl> & <dbl> & <dbl> & <dbl>\\\\\n",
       "\\hline\n",
       "\t1 & 1 & 3124440 & 3124448 & Col-01 &  2 & 2 & 0 & 0 & 0 & 0 & ⋯ & 0 & 0 & 0 & 0 & 0 & 0 & 0 & 0 & 0 &  4\\\\\n",
       "\t2 & 1 & 3772030 & 3772038 & Col-01 &  2 & 2 & 2 & 2 & 0 & 2 & ⋯ & 0 & 0 & 0 & 2 & 2 & 0 & 0 & 0 & 0 &  0\\\\\n",
       "\t3 & 1 & 4498708 & 4498716 & Col-01 &  8 & 5 & 0 & 2 & 0 & 0 & ⋯ & 0 & 2 & 0 & 2 & 2 & 0 & 0 & 2 & 0 &  6\\\\\n",
       "\t4 & 1 & 4736284 & 4736292 & Col-01 &  4 & 2 & 0 & 0 & 0 & 0 & ⋯ & 0 & 1 & 0 & 0 & 0 & 0 & 0 & 1 & 0 &  3\\\\\n",
       "\t5 & 1 & 4909718 & 4909726 & Col-01 &  9 & 8 & 0 & 2 & 0 & 0 & ⋯ & 0 & 0 & 0 & 2 & 2 & 0 & 0 & 0 & 0 & 11\\\\\n",
       "\t6 & 1 & 8308462 & 8308470 & Col-01 & 12 & 2 & 1 & 2 & 0 & 1 & ⋯ & 0 & 0 & 0 & 2 & 2 & 0 & 0 & 0 & 0 &  9\\\\\n",
       "\\end{tabular}\n"
      ],
      "text/markdown": [
       "\n",
       "A data.frame: 6 × 43\n",
       "\n",
       "| <!--/--> | Chr &lt;chr&gt; | Start &lt;int&gt; | End &lt;int&gt; | Sample &lt;chr&gt; | StartReads &lt;int&gt; | EndReads &lt;int&gt; | Mu1_L &lt;dbl&gt; | Mu1_R &lt;dbl&gt; | Mu2_L &lt;dbl&gt; | Mu2_R &lt;dbl&gt; | ⋯ ⋯ | Mu15_R &lt;dbl&gt; | Mu16_L &lt;dbl&gt; | Mu16_R &lt;dbl&gt; | Mu17_L &lt;dbl&gt; | Mu17_R &lt;dbl&gt; | Mu18_L &lt;dbl&gt; | Mu18_R &lt;dbl&gt; | Mu19_L &lt;dbl&gt; | Mu19_R &lt;dbl&gt; | uncategorized &lt;dbl&gt; |\n",
       "|---|---|---|---|---|---|---|---|---|---|---|---|---|---|---|---|---|---|---|---|---|---|\n",
       "| 1 | 1 | 3124440 | 3124448 | Col-01 |  2 | 2 | 0 | 0 | 0 | 0 | ⋯ | 0 | 0 | 0 | 0 | 0 | 0 | 0 | 0 | 0 |  4 |\n",
       "| 2 | 1 | 3772030 | 3772038 | Col-01 |  2 | 2 | 2 | 2 | 0 | 2 | ⋯ | 0 | 0 | 0 | 2 | 2 | 0 | 0 | 0 | 0 |  0 |\n",
       "| 3 | 1 | 4498708 | 4498716 | Col-01 |  8 | 5 | 0 | 2 | 0 | 0 | ⋯ | 0 | 2 | 0 | 2 | 2 | 0 | 0 | 2 | 0 |  6 |\n",
       "| 4 | 1 | 4736284 | 4736292 | Col-01 |  4 | 2 | 0 | 0 | 0 | 0 | ⋯ | 0 | 1 | 0 | 0 | 0 | 0 | 0 | 1 | 0 |  3 |\n",
       "| 5 | 1 | 4909718 | 4909726 | Col-01 |  9 | 8 | 0 | 2 | 0 | 0 | ⋯ | 0 | 0 | 0 | 2 | 2 | 0 | 0 | 0 | 0 | 11 |\n",
       "| 6 | 1 | 8308462 | 8308470 | Col-01 | 12 | 2 | 1 | 2 | 0 | 1 | ⋯ | 0 | 0 | 0 | 2 | 2 | 0 | 0 | 0 | 0 |  9 |\n",
       "\n"
      ],
      "text/plain": [
       "  Chr Start   End     Sample StartReads EndReads Mu1_L Mu1_R Mu2_L Mu2_R ⋯\n",
       "1 1   3124440 3124448 Col-01  2         2        0     0     0     0     ⋯\n",
       "2 1   3772030 3772038 Col-01  2         2        2     2     0     2     ⋯\n",
       "3 1   4498708 4498716 Col-01  8         5        0     2     0     0     ⋯\n",
       "4 1   4736284 4736292 Col-01  4         2        0     0     0     0     ⋯\n",
       "5 1   4909718 4909726 Col-01  9         8        0     2     0     0     ⋯\n",
       "6 1   8308462 8308470 Col-01 12         2        1     2     0     1     ⋯\n",
       "  Mu15_R Mu16_L Mu16_R Mu17_L Mu17_R Mu18_L Mu18_R Mu19_L Mu19_R uncategorized\n",
       "1 0      0      0      0      0      0      0      0      0       4           \n",
       "2 0      0      0      2      2      0      0      0      0       0           \n",
       "3 0      2      0      2      2      0      0      2      0       6           \n",
       "4 0      1      0      0      0      0      0      1      0       3           \n",
       "5 0      0      0      2      2      0      0      0      0      11           \n",
       "6 0      0      0      2      2      0      0      0      0       9           "
      ]
     },
     "metadata": {},
     "output_type": "display_data"
    }
   ],
   "source": [
    "head(all_insertions_typed)"
   ]
  },
  {
   "cell_type": "code",
   "execution_count": 87,
   "id": "ecc7b1a2-1d3c-4979-af87-bd262d6908ab",
   "metadata": {},
   "outputs": [],
   "source": [
    "tmp_merge_ins_sam_typed_summary <- dplyr::left_join(tmp_merge_ins_sam, tmp_type_file, by = c(\"Name\"=\"Name\", \"Strand\"=\"Strand\"), na_matches = \"na\") %>%\n",
    "  group_by(Type) %>%\n",
    "  summarize(n = n()) %>%\n",
    "  #change NA to uncategorized\n",
    "  tidyr::replace_na(list(Type = \"uncategorized\"))\n",
    "\n",
    "for (t in tmp_merge_ins_sam_typed_summary$Type) {\n",
    "  tmp_ins <- tmp_ins %>%\n",
    "  mutate({{t}} := tmp_merge_ins_sam_typed_summary %>%\n",
    "                 filter(Type == {{t}}) %>%\n",
    "                 pull(n)\n",
    "         )\n",
    "}"
   ]
  },
  {
   "cell_type": "code",
   "execution_count": 88,
   "id": "1cc789b3-861d-47bd-9635-75f4c0b4bfd8",
   "metadata": {},
   "outputs": [
    {
     "data": {
      "text/html": [
       "<table class=\"dataframe\">\n",
       "<caption>A tibble: 6 × 2</caption>\n",
       "<thead>\n",
       "\t<tr><th scope=col>Type</th><th scope=col>n</th></tr>\n",
       "\t<tr><th scope=col>&lt;chr&gt;</th><th scope=col>&lt;int&gt;</th></tr>\n",
       "</thead>\n",
       "<tbody>\n",
       "\t<tr><td>Mu1_R </td><td>2</td></tr>\n",
       "\t<tr><td>Mu11_L</td><td>2</td></tr>\n",
       "\t<tr><td>Mu14_L</td><td>2</td></tr>\n",
       "\t<tr><td>Mu16_L</td><td>2</td></tr>\n",
       "\t<tr><td>Mu17_L</td><td>2</td></tr>\n",
       "\t<tr><td>Mu17_R</td><td>2</td></tr>\n",
       "</tbody>\n",
       "</table>\n"
      ],
      "text/latex": [
       "A tibble: 6 × 2\n",
       "\\begin{tabular}{ll}\n",
       " Type & n\\\\\n",
       " <chr> & <int>\\\\\n",
       "\\hline\n",
       "\t Mu1\\_R  & 2\\\\\n",
       "\t Mu11\\_L & 2\\\\\n",
       "\t Mu14\\_L & 2\\\\\n",
       "\t Mu16\\_L & 2\\\\\n",
       "\t Mu17\\_L & 2\\\\\n",
       "\t Mu17\\_R & 2\\\\\n",
       "\\end{tabular}\n"
      ],
      "text/markdown": [
       "\n",
       "A tibble: 6 × 2\n",
       "\n",
       "| Type &lt;chr&gt; | n &lt;int&gt; |\n",
       "|---|---|\n",
       "| Mu1_R  | 2 |\n",
       "| Mu11_L | 2 |\n",
       "| Mu14_L | 2 |\n",
       "| Mu16_L | 2 |\n",
       "| Mu17_L | 2 |\n",
       "| Mu17_R | 2 |\n",
       "\n"
      ],
      "text/plain": [
       "  Type   n\n",
       "1 Mu1_R  2\n",
       "2 Mu11_L 2\n",
       "3 Mu14_L 2\n",
       "4 Mu16_L 2\n",
       "5 Mu17_L 2\n",
       "6 Mu17_R 2"
      ]
     },
     "metadata": {},
     "output_type": "display_data"
    },
    {
     "data": {
      "text/html": [
       "<style>\n",
       ".list-inline {list-style: none; margin:0; padding: 0}\n",
       ".list-inline>li {display: inline-block}\n",
       ".list-inline>li:not(:last-child)::after {content: \"\\00b7\"; padding: 0 .5ex}\n",
       "</style>\n",
       "<ol class=list-inline><li>'Mu1_R'</li><li>'Mu11_L'</li><li>'Mu14_L'</li><li>'Mu16_L'</li><li>'Mu17_L'</li><li>'Mu17_R'</li><li>'Mu19_L'</li><li>'Mu5_R'</li><li>'Mu7_L'</li><li>'Mu7_R'</li><li>'Mu8_R'</li><li>'MuDR_L'</li><li>'MuDR_R'</li><li>'uncategorized'</li></ol>\n"
      ],
      "text/latex": [
       "\\begin{enumerate*}\n",
       "\\item 'Mu1\\_R'\n",
       "\\item 'Mu11\\_L'\n",
       "\\item 'Mu14\\_L'\n",
       "\\item 'Mu16\\_L'\n",
       "\\item 'Mu17\\_L'\n",
       "\\item 'Mu17\\_R'\n",
       "\\item 'Mu19\\_L'\n",
       "\\item 'Mu5\\_R'\n",
       "\\item 'Mu7\\_L'\n",
       "\\item 'Mu7\\_R'\n",
       "\\item 'Mu8\\_R'\n",
       "\\item 'MuDR\\_L'\n",
       "\\item 'MuDR\\_R'\n",
       "\\item 'uncategorized'\n",
       "\\end{enumerate*}\n"
      ],
      "text/markdown": [
       "1. 'Mu1_R'\n",
       "2. 'Mu11_L'\n",
       "3. 'Mu14_L'\n",
       "4. 'Mu16_L'\n",
       "5. 'Mu17_L'\n",
       "6. 'Mu17_R'\n",
       "7. 'Mu19_L'\n",
       "8. 'Mu5_R'\n",
       "9. 'Mu7_L'\n",
       "10. 'Mu7_R'\n",
       "11. 'Mu8_R'\n",
       "12. 'MuDR_L'\n",
       "13. 'MuDR_R'\n",
       "14. 'uncategorized'\n",
       "\n",
       "\n"
      ],
      "text/plain": [
       " [1] \"Mu1_R\"         \"Mu11_L\"        \"Mu14_L\"        \"Mu16_L\"       \n",
       " [5] \"Mu17_L\"        \"Mu17_R\"        \"Mu19_L\"        \"Mu5_R\"        \n",
       " [9] \"Mu7_L\"         \"Mu7_R\"         \"Mu8_R\"         \"MuDR_L\"       \n",
       "[13] \"MuDR_R\"        \"uncategorized\""
      ]
     },
     "metadata": {},
     "output_type": "display_data"
    }
   ],
   "source": [
    "head(tmp_merge_ins_sam_typed_summary)\n",
    "\n",
    "tmp_merge_ins_sam_typed_summary$Type"
   ]
  },
  {
   "cell_type": "code",
   "execution_count": 16,
   "id": "17b65951-cdc2-47d7-a99d-5235aed65b92",
   "metadata": {},
   "outputs": [
    {
     "data": {
      "text/html": [
       "<table class=\"dataframe\">\n",
       "<caption>A data.frame: 1 × 43</caption>\n",
       "<thead>\n",
       "\t<tr><th></th><th scope=col>Chr</th><th scope=col>Start</th><th scope=col>End</th><th scope=col>Sample</th><th scope=col>StartReads</th><th scope=col>EndReads</th><th scope=col>Mu1_L</th><th scope=col>Mu1_R</th><th scope=col>Mu2_L</th><th scope=col>Mu2_R</th><th scope=col>⋯</th><th scope=col>Mu15_R</th><th scope=col>Mu16_L</th><th scope=col>Mu16_R</th><th scope=col>Mu17_L</th><th scope=col>Mu17_R</th><th scope=col>Mu18_L</th><th scope=col>Mu18_R</th><th scope=col>Mu19_L</th><th scope=col>Mu19_R</th><th scope=col>uncategorized</th></tr>\n",
       "\t<tr><th></th><th scope=col>&lt;chr&gt;</th><th scope=col>&lt;int&gt;</th><th scope=col>&lt;int&gt;</th><th scope=col>&lt;chr&gt;</th><th scope=col>&lt;int&gt;</th><th scope=col>&lt;int&gt;</th><th scope=col>&lt;dbl&gt;</th><th scope=col>&lt;int&gt;</th><th scope=col>&lt;dbl&gt;</th><th scope=col>&lt;dbl&gt;</th><th scope=col>⋯</th><th scope=col>&lt;dbl&gt;</th><th scope=col>&lt;int&gt;</th><th scope=col>&lt;dbl&gt;</th><th scope=col>&lt;int&gt;</th><th scope=col>&lt;int&gt;</th><th scope=col>&lt;dbl&gt;</th><th scope=col>&lt;dbl&gt;</th><th scope=col>&lt;int&gt;</th><th scope=col>&lt;dbl&gt;</th><th scope=col>&lt;int&gt;</th></tr>\n",
       "</thead>\n",
       "<tbody>\n",
       "\t<tr><th scope=row>3</th><td>1</td><td>4498708</td><td>4498716</td><td>Col-01</td><td>8</td><td>5</td><td>0</td><td>2</td><td>0</td><td>0</td><td>⋯</td><td>0</td><td>2</td><td>0</td><td>2</td><td>2</td><td>0</td><td>0</td><td>2</td><td>0</td><td>6</td></tr>\n",
       "</tbody>\n",
       "</table>\n"
      ],
      "text/latex": [
       "A data.frame: 1 × 43\n",
       "\\begin{tabular}{r|lllllllllllllllllllll}\n",
       "  & Chr & Start & End & Sample & StartReads & EndReads & Mu1\\_L & Mu1\\_R & Mu2\\_L & Mu2\\_R & ⋯ & Mu15\\_R & Mu16\\_L & Mu16\\_R & Mu17\\_L & Mu17\\_R & Mu18\\_L & Mu18\\_R & Mu19\\_L & Mu19\\_R & uncategorized\\\\\n",
       "  & <chr> & <int> & <int> & <chr> & <int> & <int> & <dbl> & <int> & <dbl> & <dbl> & ⋯ & <dbl> & <int> & <dbl> & <int> & <int> & <dbl> & <dbl> & <int> & <dbl> & <int>\\\\\n",
       "\\hline\n",
       "\t3 & 1 & 4498708 & 4498716 & Col-01 & 8 & 5 & 0 & 2 & 0 & 0 & ⋯ & 0 & 2 & 0 & 2 & 2 & 0 & 0 & 2 & 0 & 6\\\\\n",
       "\\end{tabular}\n"
      ],
      "text/markdown": [
       "\n",
       "A data.frame: 1 × 43\n",
       "\n",
       "| <!--/--> | Chr &lt;chr&gt; | Start &lt;int&gt; | End &lt;int&gt; | Sample &lt;chr&gt; | StartReads &lt;int&gt; | EndReads &lt;int&gt; | Mu1_L &lt;dbl&gt; | Mu1_R &lt;int&gt; | Mu2_L &lt;dbl&gt; | Mu2_R &lt;dbl&gt; | ⋯ ⋯ | Mu15_R &lt;dbl&gt; | Mu16_L &lt;int&gt; | Mu16_R &lt;dbl&gt; | Mu17_L &lt;int&gt; | Mu17_R &lt;int&gt; | Mu18_L &lt;dbl&gt; | Mu18_R &lt;dbl&gt; | Mu19_L &lt;int&gt; | Mu19_R &lt;dbl&gt; | uncategorized &lt;int&gt; |\n",
       "|---|---|---|---|---|---|---|---|---|---|---|---|---|---|---|---|---|---|---|---|---|---|\n",
       "| 3 | 1 | 4498708 | 4498716 | Col-01 | 8 | 5 | 0 | 2 | 0 | 0 | ⋯ | 0 | 2 | 0 | 2 | 2 | 0 | 0 | 2 | 0 | 6 |\n",
       "\n"
      ],
      "text/plain": [
       "  Chr Start   End     Sample StartReads EndReads Mu1_L Mu1_R Mu2_L Mu2_R ⋯\n",
       "3 1   4498708 4498716 Col-01 8          5        0     2     0     0     ⋯\n",
       "  Mu15_R Mu16_L Mu16_R Mu17_L Mu17_R Mu18_L Mu18_R Mu19_L Mu19_R uncategorized\n",
       "3 0      2      0      2      2      0      0      2      0      6            "
      ]
     },
     "metadata": {},
     "output_type": "display_data"
    }
   ],
   "source": [
    "head(tmp_ins)"
   ]
  },
  {
   "cell_type": "code",
   "execution_count": 89,
   "id": "687b8aeb-5bc6-42ce-8cce-bf6cf27712e3",
   "metadata": {},
   "outputs": [
    {
     "name": "stdout",
     "output_type": "stream",
     "text": [
      "[1] \"Mu1_R\"\n",
      "[1] \"Mu11_L\"\n",
      "[1] \"Mu14_L\"\n",
      "[1] \"Mu16_L\"\n",
      "[1] \"Mu17_L\"\n",
      "[1] \"Mu17_R\"\n",
      "[1] \"Mu19_L\"\n",
      "[1] \"Mu5_R\"\n",
      "[1] \"Mu7_L\"\n",
      "[1] \"Mu7_R\"\n",
      "[1] \"Mu8_R\"\n",
      "[1] \"MuDR_L\"\n",
      "[1] \"MuDR_R\"\n",
      "[1] \"uncategorized\"\n"
     ]
    }
   ],
   "source": [
    "for (t in tmp_merge_ins_sam_typed_summary$Type) {\n",
    "  print(t)\n",
    "}"
   ]
  },
  {
   "cell_type": "code",
   "execution_count": 28,
   "id": "05a871c2-2125-43e4-ba54-f572ac8ad764",
   "metadata": {},
   "outputs": [
    {
     "data": {
      "text/html": [
       "<table class=\"dataframe\">\n",
       "<caption>A data.frame: 1 × 43</caption>\n",
       "<thead>\n",
       "\t<tr><th></th><th scope=col>Chr</th><th scope=col>Start</th><th scope=col>End</th><th scope=col>Sample</th><th scope=col>StartReads</th><th scope=col>EndReads</th><th scope=col>Mu1_L</th><th scope=col>Mu1_R</th><th scope=col>Mu2_L</th><th scope=col>Mu2_R</th><th scope=col>⋯</th><th scope=col>Mu15_R</th><th scope=col>Mu16_L</th><th scope=col>Mu16_R</th><th scope=col>Mu17_L</th><th scope=col>Mu17_R</th><th scope=col>Mu18_L</th><th scope=col>Mu18_R</th><th scope=col>Mu19_L</th><th scope=col>Mu19_R</th><th scope=col>uncategorized</th></tr>\n",
       "\t<tr><th></th><th scope=col>&lt;chr&gt;</th><th scope=col>&lt;int&gt;</th><th scope=col>&lt;int&gt;</th><th scope=col>&lt;chr&gt;</th><th scope=col>&lt;int&gt;</th><th scope=col>&lt;int&gt;</th><th scope=col>&lt;dbl&gt;</th><th scope=col>&lt;dbl&gt;</th><th scope=col>&lt;dbl&gt;</th><th scope=col>&lt;dbl&gt;</th><th scope=col>⋯</th><th scope=col>&lt;dbl&gt;</th><th scope=col>&lt;dbl&gt;</th><th scope=col>&lt;dbl&gt;</th><th scope=col>&lt;dbl&gt;</th><th scope=col>&lt;dbl&gt;</th><th scope=col>&lt;dbl&gt;</th><th scope=col>&lt;dbl&gt;</th><th scope=col>&lt;dbl&gt;</th><th scope=col>&lt;dbl&gt;</th><th scope=col>&lt;int&gt;</th></tr>\n",
       "</thead>\n",
       "<tbody>\n",
       "\t<tr><th scope=row>4680</th><td>B73V4_ctg75</td><td>127090</td><td>127098</td><td>Row-04</td><td>2</td><td>2</td><td>0</td><td>0</td><td>0</td><td>0</td><td>⋯</td><td>0</td><td>0</td><td>0</td><td>0</td><td>0</td><td>0</td><td>0</td><td>0</td><td>0</td><td>2</td></tr>\n",
       "</tbody>\n",
       "</table>\n"
      ],
      "text/latex": [
       "A data.frame: 1 × 43\n",
       "\\begin{tabular}{r|lllllllllllllllllllll}\n",
       "  & Chr & Start & End & Sample & StartReads & EndReads & Mu1\\_L & Mu1\\_R & Mu2\\_L & Mu2\\_R & ⋯ & Mu15\\_R & Mu16\\_L & Mu16\\_R & Mu17\\_L & Mu17\\_R & Mu18\\_L & Mu18\\_R & Mu19\\_L & Mu19\\_R & uncategorized\\\\\n",
       "  & <chr> & <int> & <int> & <chr> & <int> & <int> & <dbl> & <dbl> & <dbl> & <dbl> & ⋯ & <dbl> & <dbl> & <dbl> & <dbl> & <dbl> & <dbl> & <dbl> & <dbl> & <dbl> & <int>\\\\\n",
       "\\hline\n",
       "\t4680 & B73V4\\_ctg75 & 127090 & 127098 & Row-04 & 2 & 2 & 0 & 0 & 0 & 0 & ⋯ & 0 & 0 & 0 & 0 & 0 & 0 & 0 & 0 & 0 & 2\\\\\n",
       "\\end{tabular}\n"
      ],
      "text/markdown": [
       "\n",
       "A data.frame: 1 × 43\n",
       "\n",
       "| <!--/--> | Chr &lt;chr&gt; | Start &lt;int&gt; | End &lt;int&gt; | Sample &lt;chr&gt; | StartReads &lt;int&gt; | EndReads &lt;int&gt; | Mu1_L &lt;dbl&gt; | Mu1_R &lt;dbl&gt; | Mu2_L &lt;dbl&gt; | Mu2_R &lt;dbl&gt; | ⋯ ⋯ | Mu15_R &lt;dbl&gt; | Mu16_L &lt;dbl&gt; | Mu16_R &lt;dbl&gt; | Mu17_L &lt;dbl&gt; | Mu17_R &lt;dbl&gt; | Mu18_L &lt;dbl&gt; | Mu18_R &lt;dbl&gt; | Mu19_L &lt;dbl&gt; | Mu19_R &lt;dbl&gt; | uncategorized &lt;int&gt; |\n",
       "|---|---|---|---|---|---|---|---|---|---|---|---|---|---|---|---|---|---|---|---|---|---|\n",
       "| 4680 | B73V4_ctg75 | 127090 | 127098 | Row-04 | 2 | 2 | 0 | 0 | 0 | 0 | ⋯ | 0 | 0 | 0 | 0 | 0 | 0 | 0 | 0 | 0 | 2 |\n",
       "\n"
      ],
      "text/plain": [
       "     Chr         Start  End    Sample StartReads EndReads Mu1_L Mu1_R Mu2_L\n",
       "4680 B73V4_ctg75 127090 127098 Row-04 2          2        0     0     0    \n",
       "     Mu2_R ⋯ Mu15_R Mu16_L Mu16_R Mu17_L Mu17_R Mu18_L Mu18_R Mu19_L Mu19_R\n",
       "4680 0     ⋯ 0      0      0      0      0      0      0      0      0     \n",
       "     uncategorized\n",
       "4680 2            "
      ]
     },
     "metadata": {},
     "output_type": "display_data"
    }
   ],
   "source": [
    "for (t in tmp_merge_ins_sam_typed_summary$Type) {\n",
    "  tmp_ins <- tmp_ins %>%\n",
    "  mutate({{t}} := tmp_merge_ins_sam_typed_summary %>%\n",
    "                 filter(Type == {{t}}) %>%\n",
    "                 pull(n)\n",
    "         )\n",
    "}\n",
    "\n",
    "head(tmp_ins)\n",
    "\n",
    "#tmp_ins %>%\n",
    "#  mutate(Mu1_R = tmp_merge_ins_sam_typed_summary %>%\n",
    "#                 filter(Type == \"Mu1_R\") %>%\n",
    "#                 pull(n)\n",
    "#         )"
   ]
  },
  {
   "cell_type": "code",
   "execution_count": 19,
   "id": "661ccd38-afa3-4978-85ad-cb243902cf74",
   "metadata": {},
   "outputs": [
    {
     "data": {
      "text/html": [
       "2"
      ],
      "text/latex": [
       "2"
      ],
      "text/markdown": [
       "2"
      ],
      "text/plain": [
       "[1] 2"
      ]
     },
     "metadata": {},
     "output_type": "display_data"
    }
   ],
   "source": [
    "tmp_merge_ins_sam_typed_summary %>%\n",
    "  filter(Type == \"Mu1_R\") %>%\n",
    "  pull(n)"
   ]
  },
  {
   "cell_type": "code",
   "execution_count": 20,
   "id": "a587176c-8d85-43d2-a7c0-2aeff7d7d3ee",
   "metadata": {
    "collapsed": true,
    "jupyter": {
     "outputs_hidden": true
    },
    "tags": []
   },
   "outputs": [
    {
     "ename": "ERROR",
     "evalue": "Error in h(simpleError(msg, call)): error in evaluating the argument 'x' in selecting a method for function 'head': object 'ttt' not found\n",
     "output_type": "error",
     "traceback": [
      "Error in h(simpleError(msg, call)): error in evaluating the argument 'x' in selecting a method for function 'head': object 'ttt' not found\nTraceback:\n",
      "1. head(ttt)",
      "2. .handleSimpleError(function (cond) \n . .Internal(C_tryCatchHelper(addr, 1L, cond)), \"object 'ttt' not found\", \n .     base::quote(head(ttt)))",
      "3. h(simpleError(msg, call))"
     ]
    }
   ],
   "source": [
    "head(ttt)"
   ]
  },
  {
   "cell_type": "code",
   "execution_count": null,
   "id": "9f171121-a1cc-401d-a8d4-0654527fb39e",
   "metadata": {},
   "outputs": [],
   "source": []
  },
  {
   "cell_type": "code",
   "execution_count": 38,
   "id": "3b8f60f1-20f4-410b-be46-acc59356612f",
   "metadata": {
    "tags": []
   },
   "outputs": [
    {
     "data": {
      "text/html": [
       "<table class=\"dataframe\">\n",
       "<caption>A data.frame: 6 × 62</caption>\n",
       "<thead>\n",
       "\t<tr><th></th><th scope=col>Chr</th><th scope=col>Start</th><th scope=col>End</th><th scope=col>Sample</th><th scope=col>StartReads</th><th scope=col>EndReads</th><th scope=col>TotalReads</th><th scope=col>Mu1_L</th><th scope=col>Mu1_R</th><th scope=col>Mu2_L</th><th scope=col>⋯</th><th scope=col>Mu11_total</th><th scope=col>Mu12_total</th><th scope=col>Mu13_total</th><th scope=col>Mu14_total</th><th scope=col>Mu15_total</th><th scope=col>Mu16_total</th><th scope=col>Mu17_total</th><th scope=col>Mu18_total</th><th scope=col>Mu19_total</th><th scope=col>uncategorized</th></tr>\n",
       "\t<tr><th></th><th scope=col>&lt;chr&gt;</th><th scope=col>&lt;int&gt;</th><th scope=col>&lt;int&gt;</th><th scope=col>&lt;chr&gt;</th><th scope=col>&lt;int&gt;</th><th scope=col>&lt;int&gt;</th><th scope=col>&lt;int&gt;</th><th scope=col>&lt;dbl&gt;</th><th scope=col>&lt;dbl&gt;</th><th scope=col>&lt;dbl&gt;</th><th scope=col>⋯</th><th scope=col>&lt;dbl&gt;</th><th scope=col>&lt;dbl&gt;</th><th scope=col>&lt;dbl&gt;</th><th scope=col>&lt;dbl&gt;</th><th scope=col>&lt;dbl&gt;</th><th scope=col>&lt;dbl&gt;</th><th scope=col>&lt;dbl&gt;</th><th scope=col>&lt;dbl&gt;</th><th scope=col>&lt;dbl&gt;</th><th scope=col>&lt;dbl&gt;</th></tr>\n",
       "</thead>\n",
       "<tbody>\n",
       "\t<tr><th scope=row>1</th><td>1</td><td>3124440</td><td>3124448</td><td>Col-01</td><td> 2</td><td>2</td><td> 4</td><td>0</td><td>0</td><td>0</td><td>⋯</td><td>0</td><td>0</td><td>0</td><td>0</td><td>0</td><td>0</td><td>0</td><td>0</td><td>0</td><td> 4</td></tr>\n",
       "\t<tr><th scope=row>2</th><td>1</td><td>3772030</td><td>3772038</td><td>Col-01</td><td> 2</td><td>2</td><td> 4</td><td>2</td><td>2</td><td>0</td><td>⋯</td><td>0</td><td>0</td><td>0</td><td>0</td><td>0</td><td>0</td><td>4</td><td>0</td><td>0</td><td> 0</td></tr>\n",
       "\t<tr><th scope=row>3</th><td>1</td><td>4498708</td><td>4498716</td><td>Col-01</td><td> 8</td><td>5</td><td>13</td><td>0</td><td>2</td><td>0</td><td>⋯</td><td>2</td><td>0</td><td>0</td><td>2</td><td>0</td><td>2</td><td>4</td><td>0</td><td>2</td><td> 6</td></tr>\n",
       "\t<tr><th scope=row>4</th><td>1</td><td>4736284</td><td>4736292</td><td>Col-01</td><td> 4</td><td>2</td><td> 6</td><td>0</td><td>0</td><td>0</td><td>⋯</td><td>1</td><td>0</td><td>0</td><td>1</td><td>0</td><td>1</td><td>0</td><td>0</td><td>1</td><td> 3</td></tr>\n",
       "\t<tr><th scope=row>5</th><td>1</td><td>4909718</td><td>4909726</td><td>Col-01</td><td> 9</td><td>8</td><td>17</td><td>0</td><td>2</td><td>0</td><td>⋯</td><td>0</td><td>0</td><td>0</td><td>0</td><td>0</td><td>0</td><td>4</td><td>0</td><td>0</td><td>11</td></tr>\n",
       "\t<tr><th scope=row>6</th><td>1</td><td>8308462</td><td>8308470</td><td>Col-01</td><td>12</td><td>2</td><td>14</td><td>1</td><td>2</td><td>0</td><td>⋯</td><td>0</td><td>0</td><td>0</td><td>0</td><td>0</td><td>0</td><td>4</td><td>0</td><td>0</td><td> 9</td></tr>\n",
       "</tbody>\n",
       "</table>\n"
      ],
      "text/latex": [
       "A data.frame: 6 × 62\n",
       "\\begin{tabular}{r|lllllllllllllllllllll}\n",
       "  & Chr & Start & End & Sample & StartReads & EndReads & TotalReads & Mu1\\_L & Mu1\\_R & Mu2\\_L & ⋯ & Mu11\\_total & Mu12\\_total & Mu13\\_total & Mu14\\_total & Mu15\\_total & Mu16\\_total & Mu17\\_total & Mu18\\_total & Mu19\\_total & uncategorized\\\\\n",
       "  & <chr> & <int> & <int> & <chr> & <int> & <int> & <int> & <dbl> & <dbl> & <dbl> & ⋯ & <dbl> & <dbl> & <dbl> & <dbl> & <dbl> & <dbl> & <dbl> & <dbl> & <dbl> & <dbl>\\\\\n",
       "\\hline\n",
       "\t1 & 1 & 3124440 & 3124448 & Col-01 &  2 & 2 &  4 & 0 & 0 & 0 & ⋯ & 0 & 0 & 0 & 0 & 0 & 0 & 0 & 0 & 0 &  4\\\\\n",
       "\t2 & 1 & 3772030 & 3772038 & Col-01 &  2 & 2 &  4 & 2 & 2 & 0 & ⋯ & 0 & 0 & 0 & 0 & 0 & 0 & 4 & 0 & 0 &  0\\\\\n",
       "\t3 & 1 & 4498708 & 4498716 & Col-01 &  8 & 5 & 13 & 0 & 2 & 0 & ⋯ & 2 & 0 & 0 & 2 & 0 & 2 & 4 & 0 & 2 &  6\\\\\n",
       "\t4 & 1 & 4736284 & 4736292 & Col-01 &  4 & 2 &  6 & 0 & 0 & 0 & ⋯ & 1 & 0 & 0 & 1 & 0 & 1 & 0 & 0 & 1 &  3\\\\\n",
       "\t5 & 1 & 4909718 & 4909726 & Col-01 &  9 & 8 & 17 & 0 & 2 & 0 & ⋯ & 0 & 0 & 0 & 0 & 0 & 0 & 4 & 0 & 0 & 11\\\\\n",
       "\t6 & 1 & 8308462 & 8308470 & Col-01 & 12 & 2 & 14 & 1 & 2 & 0 & ⋯ & 0 & 0 & 0 & 0 & 0 & 0 & 4 & 0 & 0 &  9\\\\\n",
       "\\end{tabular}\n"
      ],
      "text/markdown": [
       "\n",
       "A data.frame: 6 × 62\n",
       "\n",
       "| <!--/--> | Chr &lt;chr&gt; | Start &lt;int&gt; | End &lt;int&gt; | Sample &lt;chr&gt; | StartReads &lt;int&gt; | EndReads &lt;int&gt; | TotalReads &lt;int&gt; | Mu1_L &lt;dbl&gt; | Mu1_R &lt;dbl&gt; | Mu2_L &lt;dbl&gt; | ⋯ ⋯ | Mu11_total &lt;dbl&gt; | Mu12_total &lt;dbl&gt; | Mu13_total &lt;dbl&gt; | Mu14_total &lt;dbl&gt; | Mu15_total &lt;dbl&gt; | Mu16_total &lt;dbl&gt; | Mu17_total &lt;dbl&gt; | Mu18_total &lt;dbl&gt; | Mu19_total &lt;dbl&gt; | uncategorized &lt;dbl&gt; |\n",
       "|---|---|---|---|---|---|---|---|---|---|---|---|---|---|---|---|---|---|---|---|---|---|\n",
       "| 1 | 1 | 3124440 | 3124448 | Col-01 |  2 | 2 |  4 | 0 | 0 | 0 | ⋯ | 0 | 0 | 0 | 0 | 0 | 0 | 0 | 0 | 0 |  4 |\n",
       "| 2 | 1 | 3772030 | 3772038 | Col-01 |  2 | 2 |  4 | 2 | 2 | 0 | ⋯ | 0 | 0 | 0 | 0 | 0 | 0 | 4 | 0 | 0 |  0 |\n",
       "| 3 | 1 | 4498708 | 4498716 | Col-01 |  8 | 5 | 13 | 0 | 2 | 0 | ⋯ | 2 | 0 | 0 | 2 | 0 | 2 | 4 | 0 | 2 |  6 |\n",
       "| 4 | 1 | 4736284 | 4736292 | Col-01 |  4 | 2 |  6 | 0 | 0 | 0 | ⋯ | 1 | 0 | 0 | 1 | 0 | 1 | 0 | 0 | 1 |  3 |\n",
       "| 5 | 1 | 4909718 | 4909726 | Col-01 |  9 | 8 | 17 | 0 | 2 | 0 | ⋯ | 0 | 0 | 0 | 0 | 0 | 0 | 4 | 0 | 0 | 11 |\n",
       "| 6 | 1 | 8308462 | 8308470 | Col-01 | 12 | 2 | 14 | 1 | 2 | 0 | ⋯ | 0 | 0 | 0 | 0 | 0 | 0 | 4 | 0 | 0 |  9 |\n",
       "\n"
      ],
      "text/plain": [
       "  Chr Start   End     Sample StartReads EndReads TotalReads Mu1_L Mu1_R Mu2_L ⋯\n",
       "1 1   3124440 3124448 Col-01  2         2         4         0     0     0     ⋯\n",
       "2 1   3772030 3772038 Col-01  2         2         4         2     2     0     ⋯\n",
       "3 1   4498708 4498716 Col-01  8         5        13         0     2     0     ⋯\n",
       "4 1   4736284 4736292 Col-01  4         2         6         0     0     0     ⋯\n",
       "5 1   4909718 4909726 Col-01  9         8        17         0     2     0     ⋯\n",
       "6 1   8308462 8308470 Col-01 12         2        14         1     2     0     ⋯\n",
       "  Mu11_total Mu12_total Mu13_total Mu14_total Mu15_total Mu16_total Mu17_total\n",
       "1 0          0          0          0          0          0          0         \n",
       "2 0          0          0          0          0          0          4         \n",
       "3 2          0          0          2          0          2          4         \n",
       "4 1          0          0          1          0          1          0         \n",
       "5 0          0          0          0          0          0          4         \n",
       "6 0          0          0          0          0          0          4         \n",
       "  Mu18_total Mu19_total uncategorized\n",
       "1 0          0           4           \n",
       "2 0          0           0           \n",
       "3 0          2           6           \n",
       "4 0          1           3           \n",
       "5 0          0          11           \n",
       "6 0          0           9           "
      ]
     },
     "metadata": {},
     "output_type": "display_data"
    },
    {
     "data": {
      "text/html": [
       "<table class=\"dataframe\">\n",
       "<caption>A rowwise_df: 6 × 66</caption>\n",
       "<thead>\n",
       "\t<tr><th scope=col>Chr</th><th scope=col>Start</th><th scope=col>End</th><th scope=col>Sample</th><th scope=col>StartReads</th><th scope=col>EndReads</th><th scope=col>TotalReads</th><th scope=col>Mu1_L</th><th scope=col>Mu1_R</th><th scope=col>Mu2_L</th><th scope=col>⋯</th><th scope=col>Mu15_total</th><th scope=col>Mu16_total</th><th scope=col>Mu17_total</th><th scope=col>Mu18_total</th><th scope=col>Mu19_total</th><th scope=col>uncategorized</th><th scope=col>all_max_value</th><th scope=col>type_max_value</th><th scope=col>all_n_max_value</th><th scope=col>type_n_max_value</th></tr>\n",
       "\t<tr><th scope=col>&lt;chr&gt;</th><th scope=col>&lt;int&gt;</th><th scope=col>&lt;int&gt;</th><th scope=col>&lt;chr&gt;</th><th scope=col>&lt;int&gt;</th><th scope=col>&lt;int&gt;</th><th scope=col>&lt;int&gt;</th><th scope=col>&lt;dbl&gt;</th><th scope=col>&lt;dbl&gt;</th><th scope=col>&lt;dbl&gt;</th><th scope=col>⋯</th><th scope=col>&lt;dbl&gt;</th><th scope=col>&lt;dbl&gt;</th><th scope=col>&lt;dbl&gt;</th><th scope=col>&lt;dbl&gt;</th><th scope=col>&lt;dbl&gt;</th><th scope=col>&lt;dbl&gt;</th><th scope=col>&lt;dbl&gt;</th><th scope=col>&lt;dbl&gt;</th><th scope=col>&lt;int&gt;</th><th scope=col>&lt;int&gt;</th></tr>\n",
       "</thead>\n",
       "<tbody>\n",
       "\t<tr><td>1</td><td>3124440</td><td>3124448</td><td>Col-01</td><td> 2</td><td>2</td><td> 4</td><td>0</td><td>0</td><td>0</td><td>⋯</td><td>0</td><td>0</td><td>0</td><td>0</td><td>0</td><td> 4</td><td> 4</td><td>0</td><td>2</td><td>0</td></tr>\n",
       "\t<tr><td>1</td><td>3772030</td><td>3772038</td><td>Col-01</td><td> 2</td><td>2</td><td> 4</td><td>2</td><td>2</td><td>0</td><td>⋯</td><td>0</td><td>0</td><td>4</td><td>0</td><td>0</td><td> 0</td><td> 4</td><td>4</td><td>4</td><td>4</td></tr>\n",
       "\t<tr><td>1</td><td>4498708</td><td>4498716</td><td>Col-01</td><td> 8</td><td>5</td><td>13</td><td>0</td><td>2</td><td>0</td><td>⋯</td><td>0</td><td>2</td><td>4</td><td>0</td><td>2</td><td> 6</td><td> 6</td><td>6</td><td>3</td><td>2</td></tr>\n",
       "\t<tr><td>1</td><td>4736284</td><td>4736292</td><td>Col-01</td><td> 4</td><td>2</td><td> 6</td><td>0</td><td>0</td><td>0</td><td>⋯</td><td>0</td><td>1</td><td>0</td><td>0</td><td>1</td><td> 3</td><td> 4</td><td>4</td><td>2</td><td>2</td></tr>\n",
       "\t<tr><td>1</td><td>4909718</td><td>4909726</td><td>Col-01</td><td> 9</td><td>8</td><td>17</td><td>0</td><td>2</td><td>0</td><td>⋯</td><td>0</td><td>0</td><td>4</td><td>0</td><td>0</td><td>11</td><td>11</td><td>8</td><td>2</td><td>2</td></tr>\n",
       "\t<tr><td>1</td><td>8308462</td><td>8308470</td><td>Col-01</td><td>12</td><td>2</td><td>14</td><td>1</td><td>2</td><td>0</td><td>⋯</td><td>0</td><td>0</td><td>4</td><td>0</td><td>0</td><td> 9</td><td> 9</td><td>4</td><td>2</td><td>4</td></tr>\n",
       "</tbody>\n",
       "</table>\n"
      ],
      "text/latex": [
       "A rowwise\\_df: 6 × 66\n",
       "\\begin{tabular}{lllllllllllllllllllll}\n",
       " Chr & Start & End & Sample & StartReads & EndReads & TotalReads & Mu1\\_L & Mu1\\_R & Mu2\\_L & ⋯ & Mu15\\_total & Mu16\\_total & Mu17\\_total & Mu18\\_total & Mu19\\_total & uncategorized & all\\_max\\_value & type\\_max\\_value & all\\_n\\_max\\_value & type\\_n\\_max\\_value\\\\\n",
       " <chr> & <int> & <int> & <chr> & <int> & <int> & <int> & <dbl> & <dbl> & <dbl> & ⋯ & <dbl> & <dbl> & <dbl> & <dbl> & <dbl> & <dbl> & <dbl> & <dbl> & <int> & <int>\\\\\n",
       "\\hline\n",
       "\t 1 & 3124440 & 3124448 & Col-01 &  2 & 2 &  4 & 0 & 0 & 0 & ⋯ & 0 & 0 & 0 & 0 & 0 &  4 &  4 & 0 & 2 & 0\\\\\n",
       "\t 1 & 3772030 & 3772038 & Col-01 &  2 & 2 &  4 & 2 & 2 & 0 & ⋯ & 0 & 0 & 4 & 0 & 0 &  0 &  4 & 4 & 4 & 4\\\\\n",
       "\t 1 & 4498708 & 4498716 & Col-01 &  8 & 5 & 13 & 0 & 2 & 0 & ⋯ & 0 & 2 & 4 & 0 & 2 &  6 &  6 & 6 & 3 & 2\\\\\n",
       "\t 1 & 4736284 & 4736292 & Col-01 &  4 & 2 &  6 & 0 & 0 & 0 & ⋯ & 0 & 1 & 0 & 0 & 1 &  3 &  4 & 4 & 2 & 2\\\\\n",
       "\t 1 & 4909718 & 4909726 & Col-01 &  9 & 8 & 17 & 0 & 2 & 0 & ⋯ & 0 & 0 & 4 & 0 & 0 & 11 & 11 & 8 & 2 & 2\\\\\n",
       "\t 1 & 8308462 & 8308470 & Col-01 & 12 & 2 & 14 & 1 & 2 & 0 & ⋯ & 0 & 0 & 4 & 0 & 0 &  9 &  9 & 4 & 2 & 4\\\\\n",
       "\\end{tabular}\n"
      ],
      "text/markdown": [
       "\n",
       "A rowwise_df: 6 × 66\n",
       "\n",
       "| Chr &lt;chr&gt; | Start &lt;int&gt; | End &lt;int&gt; | Sample &lt;chr&gt; | StartReads &lt;int&gt; | EndReads &lt;int&gt; | TotalReads &lt;int&gt; | Mu1_L &lt;dbl&gt; | Mu1_R &lt;dbl&gt; | Mu2_L &lt;dbl&gt; | ⋯ ⋯ | Mu15_total &lt;dbl&gt; | Mu16_total &lt;dbl&gt; | Mu17_total &lt;dbl&gt; | Mu18_total &lt;dbl&gt; | Mu19_total &lt;dbl&gt; | uncategorized &lt;dbl&gt; | all_max_value &lt;dbl&gt; | type_max_value &lt;dbl&gt; | all_n_max_value &lt;int&gt; | type_n_max_value &lt;int&gt; |\n",
       "|---|---|---|---|---|---|---|---|---|---|---|---|---|---|---|---|---|---|---|---|---|\n",
       "| 1 | 3124440 | 3124448 | Col-01 |  2 | 2 |  4 | 0 | 0 | 0 | ⋯ | 0 | 0 | 0 | 0 | 0 |  4 |  4 | 0 | 2 | 0 |\n",
       "| 1 | 3772030 | 3772038 | Col-01 |  2 | 2 |  4 | 2 | 2 | 0 | ⋯ | 0 | 0 | 4 | 0 | 0 |  0 |  4 | 4 | 4 | 4 |\n",
       "| 1 | 4498708 | 4498716 | Col-01 |  8 | 5 | 13 | 0 | 2 | 0 | ⋯ | 0 | 2 | 4 | 0 | 2 |  6 |  6 | 6 | 3 | 2 |\n",
       "| 1 | 4736284 | 4736292 | Col-01 |  4 | 2 |  6 | 0 | 0 | 0 | ⋯ | 0 | 1 | 0 | 0 | 1 |  3 |  4 | 4 | 2 | 2 |\n",
       "| 1 | 4909718 | 4909726 | Col-01 |  9 | 8 | 17 | 0 | 2 | 0 | ⋯ | 0 | 0 | 4 | 0 | 0 | 11 | 11 | 8 | 2 | 2 |\n",
       "| 1 | 8308462 | 8308470 | Col-01 | 12 | 2 | 14 | 1 | 2 | 0 | ⋯ | 0 | 0 | 4 | 0 | 0 |  9 |  9 | 4 | 2 | 4 |\n",
       "\n"
      ],
      "text/plain": [
       "  Chr Start   End     Sample StartReads EndReads TotalReads Mu1_L Mu1_R Mu2_L ⋯\n",
       "1 1   3124440 3124448 Col-01  2         2         4         0     0     0     ⋯\n",
       "2 1   3772030 3772038 Col-01  2         2         4         2     2     0     ⋯\n",
       "3 1   4498708 4498716 Col-01  8         5        13         0     2     0     ⋯\n",
       "4 1   4736284 4736292 Col-01  4         2         6         0     0     0     ⋯\n",
       "5 1   4909718 4909726 Col-01  9         8        17         0     2     0     ⋯\n",
       "6 1   8308462 8308470 Col-01 12         2        14         1     2     0     ⋯\n",
       "  Mu15_total Mu16_total Mu17_total Mu18_total Mu19_total uncategorized\n",
       "1 0          0          0          0          0           4           \n",
       "2 0          0          4          0          0           0           \n",
       "3 0          2          4          0          2           6           \n",
       "4 0          1          0          0          1           3           \n",
       "5 0          0          4          0          0          11           \n",
       "6 0          0          4          0          0           9           \n",
       "  all_max_value type_max_value all_n_max_value type_n_max_value\n",
       "1  4            0              2               0               \n",
       "2  4            4              4               4               \n",
       "3  6            6              3               2               \n",
       "4  4            4              2               2               \n",
       "5 11            8              2               2               \n",
       "6  9            4              2               4               "
      ]
     },
     "metadata": {},
     "output_type": "display_data"
    },
    {
     "data": {
      "text/html": [
       "<table class=\"dataframe\">\n",
       "<caption>A rowwise_df: 1 × 18</caption>\n",
       "<thead>\n",
       "\t<tr><th scope=col>Mu1_total</th><th scope=col>Mu2_total</th><th scope=col>Mu3_total</th><th scope=col>Mu4_total</th><th scope=col>Mu5_total</th><th scope=col>Mu7_total</th><th scope=col>Mu8_total</th><th scope=col>MuDR_total</th><th scope=col>Mu10_total</th><th scope=col>Mu11_total</th><th scope=col>Mu12_total</th><th scope=col>Mu13_total</th><th scope=col>Mu14_total</th><th scope=col>Mu15_total</th><th scope=col>Mu16_total</th><th scope=col>Mu17_total</th><th scope=col>Mu18_total</th><th scope=col>Mu19_total</th></tr>\n",
       "\t<tr><th scope=col>&lt;dbl&gt;</th><th scope=col>&lt;dbl&gt;</th><th scope=col>&lt;dbl&gt;</th><th scope=col>&lt;dbl&gt;</th><th scope=col>&lt;dbl&gt;</th><th scope=col>&lt;dbl&gt;</th><th scope=col>&lt;dbl&gt;</th><th scope=col>&lt;dbl&gt;</th><th scope=col>&lt;dbl&gt;</th><th scope=col>&lt;dbl&gt;</th><th scope=col>&lt;dbl&gt;</th><th scope=col>&lt;dbl&gt;</th><th scope=col>&lt;dbl&gt;</th><th scope=col>&lt;dbl&gt;</th><th scope=col>&lt;dbl&gt;</th><th scope=col>&lt;dbl&gt;</th><th scope=col>&lt;dbl&gt;</th><th scope=col>&lt;dbl&gt;</th></tr>\n",
       "</thead>\n",
       "<tbody>\n",
       "\t<tr><td>0</td><td>0</td><td>0</td><td>0</td><td>0</td><td>0</td><td>0</td><td>0</td><td>0</td><td>0</td><td>0</td><td>0</td><td>0</td><td>0</td><td>0</td><td>0</td><td>0</td><td>0</td></tr>\n",
       "</tbody>\n",
       "</table>\n"
      ],
      "text/latex": [
       "A rowwise\\_df: 1 × 18\n",
       "\\begin{tabular}{llllllllllllllllll}\n",
       " Mu1\\_total & Mu2\\_total & Mu3\\_total & Mu4\\_total & Mu5\\_total & Mu7\\_total & Mu8\\_total & MuDR\\_total & Mu10\\_total & Mu11\\_total & Mu12\\_total & Mu13\\_total & Mu14\\_total & Mu15\\_total & Mu16\\_total & Mu17\\_total & Mu18\\_total & Mu19\\_total\\\\\n",
       " <dbl> & <dbl> & <dbl> & <dbl> & <dbl> & <dbl> & <dbl> & <dbl> & <dbl> & <dbl> & <dbl> & <dbl> & <dbl> & <dbl> & <dbl> & <dbl> & <dbl> & <dbl>\\\\\n",
       "\\hline\n",
       "\t 0 & 0 & 0 & 0 & 0 & 0 & 0 & 0 & 0 & 0 & 0 & 0 & 0 & 0 & 0 & 0 & 0 & 0\\\\\n",
       "\\end{tabular}\n"
      ],
      "text/markdown": [
       "\n",
       "A rowwise_df: 1 × 18\n",
       "\n",
       "| Mu1_total &lt;dbl&gt; | Mu2_total &lt;dbl&gt; | Mu3_total &lt;dbl&gt; | Mu4_total &lt;dbl&gt; | Mu5_total &lt;dbl&gt; | Mu7_total &lt;dbl&gt; | Mu8_total &lt;dbl&gt; | MuDR_total &lt;dbl&gt; | Mu10_total &lt;dbl&gt; | Mu11_total &lt;dbl&gt; | Mu12_total &lt;dbl&gt; | Mu13_total &lt;dbl&gt; | Mu14_total &lt;dbl&gt; | Mu15_total &lt;dbl&gt; | Mu16_total &lt;dbl&gt; | Mu17_total &lt;dbl&gt; | Mu18_total &lt;dbl&gt; | Mu19_total &lt;dbl&gt; |\n",
       "|---|---|---|---|---|---|---|---|---|---|---|---|---|---|---|---|---|---|\n",
       "| 0 | 0 | 0 | 0 | 0 | 0 | 0 | 0 | 0 | 0 | 0 | 0 | 0 | 0 | 0 | 0 | 0 | 0 |\n",
       "\n"
      ],
      "text/plain": [
       "  Mu1_total Mu2_total Mu3_total Mu4_total Mu5_total Mu7_total Mu8_total\n",
       "1 0         0         0         0         0         0         0        \n",
       "  MuDR_total Mu10_total Mu11_total Mu12_total Mu13_total Mu14_total Mu15_total\n",
       "1 0          0          0          0          0          0          0         \n",
       "  Mu16_total Mu17_total Mu18_total Mu19_total\n",
       "1 0          0          0          0         "
      ]
     },
     "metadata": {},
     "output_type": "display_data"
    },
    {
     "data": {
      "text/html": [
       "<table class=\"dataframe\">\n",
       "<caption>A rowwise_df: 6 × 68</caption>\n",
       "<thead>\n",
       "\t<tr><th scope=col>Chr</th><th scope=col>Start</th><th scope=col>End</th><th scope=col>Sample</th><th scope=col>StartReads</th><th scope=col>EndReads</th><th scope=col>TotalReads</th><th scope=col>Mu1_L</th><th scope=col>Mu1_R</th><th scope=col>Mu2_L</th><th scope=col>⋯</th><th scope=col>Mu17_total</th><th scope=col>Mu18_total</th><th scope=col>Mu19_total</th><th scope=col>uncategorized</th><th scope=col>all_max_value</th><th scope=col>type_max_value</th><th scope=col>all_n_max_value</th><th scope=col>type_n_max_value</th><th scope=col>all_TIES</th><th scope=col>type_TIES</th></tr>\n",
       "\t<tr><th scope=col>&lt;chr&gt;</th><th scope=col>&lt;int&gt;</th><th scope=col>&lt;int&gt;</th><th scope=col>&lt;chr&gt;</th><th scope=col>&lt;int&gt;</th><th scope=col>&lt;int&gt;</th><th scope=col>&lt;int&gt;</th><th scope=col>&lt;dbl&gt;</th><th scope=col>&lt;dbl&gt;</th><th scope=col>&lt;dbl&gt;</th><th scope=col>⋯</th><th scope=col>&lt;dbl&gt;</th><th scope=col>&lt;dbl&gt;</th><th scope=col>&lt;dbl&gt;</th><th scope=col>&lt;dbl&gt;</th><th scope=col>&lt;dbl&gt;</th><th scope=col>&lt;dbl&gt;</th><th scope=col>&lt;int&gt;</th><th scope=col>&lt;int&gt;</th><th scope=col>&lt;chr&gt;</th><th scope=col>&lt;chr&gt;</th></tr>\n",
       "</thead>\n",
       "<tbody>\n",
       "\t<tr><td>1</td><td>3124440</td><td>3124448</td><td>Col-01</td><td> 2</td><td>2</td><td> 4</td><td>0</td><td>0</td><td>0</td><td>⋯</td><td>0</td><td>0</td><td>0</td><td> 4</td><td> 4</td><td>0</td><td>2</td><td>0</td><td>WINNER</td><td>NO READS</td></tr>\n",
       "\t<tr><td>1</td><td>3772030</td><td>3772038</td><td>Col-01</td><td> 2</td><td>2</td><td> 4</td><td>2</td><td>2</td><td>0</td><td>⋯</td><td>4</td><td>0</td><td>0</td><td> 0</td><td> 4</td><td>4</td><td>4</td><td>4</td><td>TIED  </td><td>TIED    </td></tr>\n",
       "\t<tr><td>1</td><td>4498708</td><td>4498716</td><td>Col-01</td><td> 8</td><td>5</td><td>13</td><td>0</td><td>2</td><td>0</td><td>⋯</td><td>4</td><td>0</td><td>2</td><td> 6</td><td> 6</td><td>6</td><td>3</td><td>2</td><td>TIED  </td><td>WINNER  </td></tr>\n",
       "\t<tr><td>1</td><td>4736284</td><td>4736292</td><td>Col-01</td><td> 4</td><td>2</td><td> 6</td><td>0</td><td>0</td><td>0</td><td>⋯</td><td>0</td><td>0</td><td>1</td><td> 3</td><td> 4</td><td>4</td><td>2</td><td>2</td><td>WINNER</td><td>WINNER  </td></tr>\n",
       "\t<tr><td>1</td><td>4909718</td><td>4909726</td><td>Col-01</td><td> 9</td><td>8</td><td>17</td><td>0</td><td>2</td><td>0</td><td>⋯</td><td>4</td><td>0</td><td>0</td><td>11</td><td>11</td><td>8</td><td>2</td><td>2</td><td>WINNER</td><td>WINNER  </td></tr>\n",
       "\t<tr><td>1</td><td>8308462</td><td>8308470</td><td>Col-01</td><td>12</td><td>2</td><td>14</td><td>1</td><td>2</td><td>0</td><td>⋯</td><td>4</td><td>0</td><td>0</td><td> 9</td><td> 9</td><td>4</td><td>2</td><td>4</td><td>WINNER</td><td>TIED    </td></tr>\n",
       "</tbody>\n",
       "</table>\n"
      ],
      "text/latex": [
       "A rowwise\\_df: 6 × 68\n",
       "\\begin{tabular}{lllllllllllllllllllll}\n",
       " Chr & Start & End & Sample & StartReads & EndReads & TotalReads & Mu1\\_L & Mu1\\_R & Mu2\\_L & ⋯ & Mu17\\_total & Mu18\\_total & Mu19\\_total & uncategorized & all\\_max\\_value & type\\_max\\_value & all\\_n\\_max\\_value & type\\_n\\_max\\_value & all\\_TIES & type\\_TIES\\\\\n",
       " <chr> & <int> & <int> & <chr> & <int> & <int> & <int> & <dbl> & <dbl> & <dbl> & ⋯ & <dbl> & <dbl> & <dbl> & <dbl> & <dbl> & <dbl> & <int> & <int> & <chr> & <chr>\\\\\n",
       "\\hline\n",
       "\t 1 & 3124440 & 3124448 & Col-01 &  2 & 2 &  4 & 0 & 0 & 0 & ⋯ & 0 & 0 & 0 &  4 &  4 & 0 & 2 & 0 & WINNER & NO READS\\\\\n",
       "\t 1 & 3772030 & 3772038 & Col-01 &  2 & 2 &  4 & 2 & 2 & 0 & ⋯ & 4 & 0 & 0 &  0 &  4 & 4 & 4 & 4 & TIED   & TIED    \\\\\n",
       "\t 1 & 4498708 & 4498716 & Col-01 &  8 & 5 & 13 & 0 & 2 & 0 & ⋯ & 4 & 0 & 2 &  6 &  6 & 6 & 3 & 2 & TIED   & WINNER  \\\\\n",
       "\t 1 & 4736284 & 4736292 & Col-01 &  4 & 2 &  6 & 0 & 0 & 0 & ⋯ & 0 & 0 & 1 &  3 &  4 & 4 & 2 & 2 & WINNER & WINNER  \\\\\n",
       "\t 1 & 4909718 & 4909726 & Col-01 &  9 & 8 & 17 & 0 & 2 & 0 & ⋯ & 4 & 0 & 0 & 11 & 11 & 8 & 2 & 2 & WINNER & WINNER  \\\\\n",
       "\t 1 & 8308462 & 8308470 & Col-01 & 12 & 2 & 14 & 1 & 2 & 0 & ⋯ & 4 & 0 & 0 &  9 &  9 & 4 & 2 & 4 & WINNER & TIED    \\\\\n",
       "\\end{tabular}\n"
      ],
      "text/markdown": [
       "\n",
       "A rowwise_df: 6 × 68\n",
       "\n",
       "| Chr &lt;chr&gt; | Start &lt;int&gt; | End &lt;int&gt; | Sample &lt;chr&gt; | StartReads &lt;int&gt; | EndReads &lt;int&gt; | TotalReads &lt;int&gt; | Mu1_L &lt;dbl&gt; | Mu1_R &lt;dbl&gt; | Mu2_L &lt;dbl&gt; | ⋯ ⋯ | Mu17_total &lt;dbl&gt; | Mu18_total &lt;dbl&gt; | Mu19_total &lt;dbl&gt; | uncategorized &lt;dbl&gt; | all_max_value &lt;dbl&gt; | type_max_value &lt;dbl&gt; | all_n_max_value &lt;int&gt; | type_n_max_value &lt;int&gt; | all_TIES &lt;chr&gt; | type_TIES &lt;chr&gt; |\n",
       "|---|---|---|---|---|---|---|---|---|---|---|---|---|---|---|---|---|---|---|---|---|\n",
       "| 1 | 3124440 | 3124448 | Col-01 |  2 | 2 |  4 | 0 | 0 | 0 | ⋯ | 0 | 0 | 0 |  4 |  4 | 0 | 2 | 0 | WINNER | NO READS |\n",
       "| 1 | 3772030 | 3772038 | Col-01 |  2 | 2 |  4 | 2 | 2 | 0 | ⋯ | 4 | 0 | 0 |  0 |  4 | 4 | 4 | 4 | TIED   | TIED     |\n",
       "| 1 | 4498708 | 4498716 | Col-01 |  8 | 5 | 13 | 0 | 2 | 0 | ⋯ | 4 | 0 | 2 |  6 |  6 | 6 | 3 | 2 | TIED   | WINNER   |\n",
       "| 1 | 4736284 | 4736292 | Col-01 |  4 | 2 |  6 | 0 | 0 | 0 | ⋯ | 0 | 0 | 1 |  3 |  4 | 4 | 2 | 2 | WINNER | WINNER   |\n",
       "| 1 | 4909718 | 4909726 | Col-01 |  9 | 8 | 17 | 0 | 2 | 0 | ⋯ | 4 | 0 | 0 | 11 | 11 | 8 | 2 | 2 | WINNER | WINNER   |\n",
       "| 1 | 8308462 | 8308470 | Col-01 | 12 | 2 | 14 | 1 | 2 | 0 | ⋯ | 4 | 0 | 0 |  9 |  9 | 4 | 2 | 4 | WINNER | TIED     |\n",
       "\n"
      ],
      "text/plain": [
       "  Chr Start   End     Sample StartReads EndReads TotalReads Mu1_L Mu1_R Mu2_L ⋯\n",
       "1 1   3124440 3124448 Col-01  2         2         4         0     0     0     ⋯\n",
       "2 1   3772030 3772038 Col-01  2         2         4         2     2     0     ⋯\n",
       "3 1   4498708 4498716 Col-01  8         5        13         0     2     0     ⋯\n",
       "4 1   4736284 4736292 Col-01  4         2         6         0     0     0     ⋯\n",
       "5 1   4909718 4909726 Col-01  9         8        17         0     2     0     ⋯\n",
       "6 1   8308462 8308470 Col-01 12         2        14         1     2     0     ⋯\n",
       "  Mu17_total Mu18_total Mu19_total uncategorized all_max_value type_max_value\n",
       "1 0          0          0           4             4            0             \n",
       "2 4          0          0           0             4            4             \n",
       "3 4          0          2           6             6            6             \n",
       "4 0          0          1           3             4            4             \n",
       "5 4          0          0          11            11            8             \n",
       "6 4          0          0           9             9            4             \n",
       "  all_n_max_value type_n_max_value all_TIES type_TIES\n",
       "1 2               0                WINNER   NO READS \n",
       "2 4               4                TIED     TIED     \n",
       "3 3               2                TIED     WINNER   \n",
       "4 2               2                WINNER   WINNER   \n",
       "5 2               2                WINNER   WINNER   \n",
       "6 2               4                WINNER   TIED     "
      ]
     },
     "metadata": {},
     "output_type": "display_data"
    },
    {
     "data": {
      "text/html": [
       "<table class=\"dataframe\">\n",
       "<caption>A rowwise_df: 5 × 70</caption>\n",
       "<thead>\n",
       "\t<tr><th scope=col>Chr</th><th scope=col>Start</th><th scope=col>End</th><th scope=col>Sample</th><th scope=col>StartReads</th><th scope=col>EndReads</th><th scope=col>TotalReads</th><th scope=col>Mu1_L</th><th scope=col>Mu1_R</th><th scope=col>Mu2_L</th><th scope=col>⋯</th><th scope=col>Mu19_total</th><th scope=col>uncategorized</th><th scope=col>all_max_value</th><th scope=col>type_max_value</th><th scope=col>all_n_max_value</th><th scope=col>type_n_max_value</th><th scope=col>all_TIES</th><th scope=col>type_TIES</th><th scope=col>all_max_name</th><th scope=col>type_max_name</th></tr>\n",
       "\t<tr><th scope=col>&lt;chr&gt;</th><th scope=col>&lt;int&gt;</th><th scope=col>&lt;int&gt;</th><th scope=col>&lt;chr&gt;</th><th scope=col>&lt;int&gt;</th><th scope=col>&lt;int&gt;</th><th scope=col>&lt;int&gt;</th><th scope=col>&lt;dbl&gt;</th><th scope=col>&lt;dbl&gt;</th><th scope=col>&lt;dbl&gt;</th><th scope=col>⋯</th><th scope=col>&lt;dbl&gt;</th><th scope=col>&lt;dbl&gt;</th><th scope=col>&lt;dbl&gt;</th><th scope=col>&lt;dbl&gt;</th><th scope=col>&lt;int&gt;</th><th scope=col>&lt;int&gt;</th><th scope=col>&lt;chr&gt;</th><th scope=col>&lt;chr&gt;</th><th scope=col>&lt;chr&gt;</th><th scope=col>&lt;chr&gt;</th></tr>\n",
       "</thead>\n",
       "<tbody>\n",
       "\t<tr><td>1</td><td>3124440</td><td>3124448</td><td>Col-01</td><td>2</td><td>2</td><td> 4</td><td>0</td><td>0</td><td>0</td><td>⋯</td><td>0</td><td> 4</td><td> 4</td><td>0</td><td>2</td><td>0</td><td>WINNER</td><td>NO READS</td><td>uncategorized</td><td>NO READS</td></tr>\n",
       "\t<tr><td>1</td><td>3772030</td><td>3772038</td><td>Col-01</td><td>2</td><td>2</td><td> 4</td><td>2</td><td>2</td><td>0</td><td>⋯</td><td>0</td><td> 0</td><td> 4</td><td>4</td><td>4</td><td>4</td><td>TIED  </td><td>TIED    </td><td>TIED         </td><td>TIED    </td></tr>\n",
       "\t<tr><td>1</td><td>4498708</td><td>4498716</td><td>Col-01</td><td>8</td><td>5</td><td>13</td><td>0</td><td>2</td><td>0</td><td>⋯</td><td>2</td><td> 6</td><td> 6</td><td>6</td><td>3</td><td>2</td><td>TIED  </td><td>WINNER  </td><td>TIED         </td><td>MuDR    </td></tr>\n",
       "\t<tr><td>1</td><td>4736284</td><td>4736292</td><td>Col-01</td><td>4</td><td>2</td><td> 6</td><td>0</td><td>0</td><td>0</td><td>⋯</td><td>1</td><td> 3</td><td> 4</td><td>4</td><td>2</td><td>2</td><td>WINNER</td><td>WINNER  </td><td>MuDR         </td><td>MuDR    </td></tr>\n",
       "\t<tr><td>1</td><td>4909718</td><td>4909726</td><td>Col-01</td><td>9</td><td>8</td><td>17</td><td>0</td><td>2</td><td>0</td><td>⋯</td><td>0</td><td>11</td><td>11</td><td>8</td><td>2</td><td>2</td><td>WINNER</td><td>WINNER  </td><td>uncategorized</td><td>Mu4     </td></tr>\n",
       "</tbody>\n",
       "</table>\n"
      ],
      "text/latex": [
       "A rowwise\\_df: 5 × 70\n",
       "\\begin{tabular}{lllllllllllllllllllll}\n",
       " Chr & Start & End & Sample & StartReads & EndReads & TotalReads & Mu1\\_L & Mu1\\_R & Mu2\\_L & ⋯ & Mu19\\_total & uncategorized & all\\_max\\_value & type\\_max\\_value & all\\_n\\_max\\_value & type\\_n\\_max\\_value & all\\_TIES & type\\_TIES & all\\_max\\_name & type\\_max\\_name\\\\\n",
       " <chr> & <int> & <int> & <chr> & <int> & <int> & <int> & <dbl> & <dbl> & <dbl> & ⋯ & <dbl> & <dbl> & <dbl> & <dbl> & <int> & <int> & <chr> & <chr> & <chr> & <chr>\\\\\n",
       "\\hline\n",
       "\t 1 & 3124440 & 3124448 & Col-01 & 2 & 2 &  4 & 0 & 0 & 0 & ⋯ & 0 &  4 &  4 & 0 & 2 & 0 & WINNER & NO READS & uncategorized & NO READS\\\\\n",
       "\t 1 & 3772030 & 3772038 & Col-01 & 2 & 2 &  4 & 2 & 2 & 0 & ⋯ & 0 &  0 &  4 & 4 & 4 & 4 & TIED   & TIED     & TIED          & TIED    \\\\\n",
       "\t 1 & 4498708 & 4498716 & Col-01 & 8 & 5 & 13 & 0 & 2 & 0 & ⋯ & 2 &  6 &  6 & 6 & 3 & 2 & TIED   & WINNER   & TIED          & MuDR    \\\\\n",
       "\t 1 & 4736284 & 4736292 & Col-01 & 4 & 2 &  6 & 0 & 0 & 0 & ⋯ & 1 &  3 &  4 & 4 & 2 & 2 & WINNER & WINNER   & MuDR          & MuDR    \\\\\n",
       "\t 1 & 4909718 & 4909726 & Col-01 & 9 & 8 & 17 & 0 & 2 & 0 & ⋯ & 0 & 11 & 11 & 8 & 2 & 2 & WINNER & WINNER   & uncategorized & Mu4     \\\\\n",
       "\\end{tabular}\n"
      ],
      "text/markdown": [
       "\n",
       "A rowwise_df: 5 × 70\n",
       "\n",
       "| Chr &lt;chr&gt; | Start &lt;int&gt; | End &lt;int&gt; | Sample &lt;chr&gt; | StartReads &lt;int&gt; | EndReads &lt;int&gt; | TotalReads &lt;int&gt; | Mu1_L &lt;dbl&gt; | Mu1_R &lt;dbl&gt; | Mu2_L &lt;dbl&gt; | ⋯ ⋯ | Mu19_total &lt;dbl&gt; | uncategorized &lt;dbl&gt; | all_max_value &lt;dbl&gt; | type_max_value &lt;dbl&gt; | all_n_max_value &lt;int&gt; | type_n_max_value &lt;int&gt; | all_TIES &lt;chr&gt; | type_TIES &lt;chr&gt; | all_max_name &lt;chr&gt; | type_max_name &lt;chr&gt; |\n",
       "|---|---|---|---|---|---|---|---|---|---|---|---|---|---|---|---|---|---|---|---|---|\n",
       "| 1 | 3124440 | 3124448 | Col-01 | 2 | 2 |  4 | 0 | 0 | 0 | ⋯ | 0 |  4 |  4 | 0 | 2 | 0 | WINNER | NO READS | uncategorized | NO READS |\n",
       "| 1 | 3772030 | 3772038 | Col-01 | 2 | 2 |  4 | 2 | 2 | 0 | ⋯ | 0 |  0 |  4 | 4 | 4 | 4 | TIED   | TIED     | TIED          | TIED     |\n",
       "| 1 | 4498708 | 4498716 | Col-01 | 8 | 5 | 13 | 0 | 2 | 0 | ⋯ | 2 |  6 |  6 | 6 | 3 | 2 | TIED   | WINNER   | TIED          | MuDR     |\n",
       "| 1 | 4736284 | 4736292 | Col-01 | 4 | 2 |  6 | 0 | 0 | 0 | ⋯ | 1 |  3 |  4 | 4 | 2 | 2 | WINNER | WINNER   | MuDR          | MuDR     |\n",
       "| 1 | 4909718 | 4909726 | Col-01 | 9 | 8 | 17 | 0 | 2 | 0 | ⋯ | 0 | 11 | 11 | 8 | 2 | 2 | WINNER | WINNER   | uncategorized | Mu4      |\n",
       "\n"
      ],
      "text/plain": [
       "  Chr Start   End     Sample StartReads EndReads TotalReads Mu1_L Mu1_R Mu2_L ⋯\n",
       "1 1   3124440 3124448 Col-01 2          2         4         0     0     0     ⋯\n",
       "2 1   3772030 3772038 Col-01 2          2         4         2     2     0     ⋯\n",
       "3 1   4498708 4498716 Col-01 8          5        13         0     2     0     ⋯\n",
       "4 1   4736284 4736292 Col-01 4          2         6         0     0     0     ⋯\n",
       "5 1   4909718 4909726 Col-01 9          8        17         0     2     0     ⋯\n",
       "  Mu19_total uncategorized all_max_value type_max_value all_n_max_value\n",
       "1 0           4             4            0              2              \n",
       "2 0           0             4            4              4              \n",
       "3 2           6             6            6              3              \n",
       "4 1           3             4            4              2              \n",
       "5 0          11            11            8              2              \n",
       "  type_n_max_value all_TIES type_TIES all_max_name  type_max_name\n",
       "1 0                WINNER   NO READS  uncategorized NO READS     \n",
       "2 4                TIED     TIED      TIED          TIED         \n",
       "3 2                TIED     WINNER    TIED          MuDR         \n",
       "4 2                WINNER   WINNER    MuDR          MuDR         \n",
       "5 2                WINNER   WINNER    uncategorized Mu4          "
      ]
     },
     "metadata": {},
     "output_type": "display_data"
    },
    {
     "data": {
      "text/html": [
       "<table class=\"dataframe\">\n",
       "<caption>A rowwise_df: 6 × 72</caption>\n",
       "<thead>\n",
       "\t<tr><th scope=col>Chr</th><th scope=col>Start</th><th scope=col>End</th><th scope=col>Sample</th><th scope=col>StartReads</th><th scope=col>EndReads</th><th scope=col>TotalReads</th><th scope=col>Mu1_L</th><th scope=col>Mu1_R</th><th scope=col>Mu2_L</th><th scope=col>⋯</th><th scope=col>all_max_value</th><th scope=col>type_max_value</th><th scope=col>all_n_max_value</th><th scope=col>type_n_max_value</th><th scope=col>all_TIES</th><th scope=col>type_TIES</th><th scope=col>all_max_name</th><th scope=col>type_max_name</th><th scope=col>perc_uncategorized</th><th scope=col>perc_best_type</th></tr>\n",
       "\t<tr><th scope=col>&lt;chr&gt;</th><th scope=col>&lt;int&gt;</th><th scope=col>&lt;int&gt;</th><th scope=col>&lt;chr&gt;</th><th scope=col>&lt;int&gt;</th><th scope=col>&lt;int&gt;</th><th scope=col>&lt;int&gt;</th><th scope=col>&lt;dbl&gt;</th><th scope=col>&lt;dbl&gt;</th><th scope=col>&lt;dbl&gt;</th><th scope=col>⋯</th><th scope=col>&lt;dbl&gt;</th><th scope=col>&lt;dbl&gt;</th><th scope=col>&lt;int&gt;</th><th scope=col>&lt;int&gt;</th><th scope=col>&lt;chr&gt;</th><th scope=col>&lt;chr&gt;</th><th scope=col>&lt;chr&gt;</th><th scope=col>&lt;chr&gt;</th><th scope=col>&lt;dbl&gt;</th><th scope=col>&lt;dbl&gt;</th></tr>\n",
       "</thead>\n",
       "<tbody>\n",
       "\t<tr><td>1</td><td>3124440</td><td>3124448</td><td>Col-01</td><td> 2</td><td>2</td><td> 4</td><td>0</td><td>0</td><td>0</td><td>⋯</td><td> 4</td><td>0</td><td>2</td><td>0</td><td>WINNER</td><td>NO READS</td><td>uncategorized</td><td>NO READS</td><td>1.0000000</td><td>0.0000000</td></tr>\n",
       "\t<tr><td>1</td><td>3772030</td><td>3772038</td><td>Col-01</td><td> 2</td><td>2</td><td> 4</td><td>2</td><td>2</td><td>0</td><td>⋯</td><td> 4</td><td>4</td><td>4</td><td>4</td><td>TIED  </td><td>TIED    </td><td>TIED         </td><td>TIED    </td><td>0.0000000</td><td>1.0000000</td></tr>\n",
       "\t<tr><td>1</td><td>4498708</td><td>4498716</td><td>Col-01</td><td> 8</td><td>5</td><td>13</td><td>0</td><td>2</td><td>0</td><td>⋯</td><td> 6</td><td>6</td><td>3</td><td>2</td><td>TIED  </td><td>WINNER  </td><td>TIED         </td><td>MuDR    </td><td>0.4615385</td><td>0.4615385</td></tr>\n",
       "\t<tr><td>1</td><td>4736284</td><td>4736292</td><td>Col-01</td><td> 4</td><td>2</td><td> 6</td><td>0</td><td>0</td><td>0</td><td>⋯</td><td> 4</td><td>4</td><td>2</td><td>2</td><td>WINNER</td><td>WINNER  </td><td>MuDR         </td><td>MuDR    </td><td>0.5000000</td><td>0.6666667</td></tr>\n",
       "\t<tr><td>1</td><td>4909718</td><td>4909726</td><td>Col-01</td><td> 9</td><td>8</td><td>17</td><td>0</td><td>2</td><td>0</td><td>⋯</td><td>11</td><td>8</td><td>2</td><td>2</td><td>WINNER</td><td>WINNER  </td><td>uncategorized</td><td>Mu4     </td><td>0.6470588</td><td>0.4705882</td></tr>\n",
       "\t<tr><td>1</td><td>8308462</td><td>8308470</td><td>Col-01</td><td>12</td><td>2</td><td>14</td><td>1</td><td>2</td><td>0</td><td>⋯</td><td> 9</td><td>4</td><td>2</td><td>4</td><td>WINNER</td><td>TIED    </td><td>uncategorized</td><td>TIED    </td><td>0.6428571</td><td>0.2857143</td></tr>\n",
       "</tbody>\n",
       "</table>\n"
      ],
      "text/latex": [
       "A rowwise\\_df: 6 × 72\n",
       "\\begin{tabular}{lllllllllllllllllllll}\n",
       " Chr & Start & End & Sample & StartReads & EndReads & TotalReads & Mu1\\_L & Mu1\\_R & Mu2\\_L & ⋯ & all\\_max\\_value & type\\_max\\_value & all\\_n\\_max\\_value & type\\_n\\_max\\_value & all\\_TIES & type\\_TIES & all\\_max\\_name & type\\_max\\_name & perc\\_uncategorized & perc\\_best\\_type\\\\\n",
       " <chr> & <int> & <int> & <chr> & <int> & <int> & <int> & <dbl> & <dbl> & <dbl> & ⋯ & <dbl> & <dbl> & <int> & <int> & <chr> & <chr> & <chr> & <chr> & <dbl> & <dbl>\\\\\n",
       "\\hline\n",
       "\t 1 & 3124440 & 3124448 & Col-01 &  2 & 2 &  4 & 0 & 0 & 0 & ⋯ &  4 & 0 & 2 & 0 & WINNER & NO READS & uncategorized & NO READS & 1.0000000 & 0.0000000\\\\\n",
       "\t 1 & 3772030 & 3772038 & Col-01 &  2 & 2 &  4 & 2 & 2 & 0 & ⋯ &  4 & 4 & 4 & 4 & TIED   & TIED     & TIED          & TIED     & 0.0000000 & 1.0000000\\\\\n",
       "\t 1 & 4498708 & 4498716 & Col-01 &  8 & 5 & 13 & 0 & 2 & 0 & ⋯ &  6 & 6 & 3 & 2 & TIED   & WINNER   & TIED          & MuDR     & 0.4615385 & 0.4615385\\\\\n",
       "\t 1 & 4736284 & 4736292 & Col-01 &  4 & 2 &  6 & 0 & 0 & 0 & ⋯ &  4 & 4 & 2 & 2 & WINNER & WINNER   & MuDR          & MuDR     & 0.5000000 & 0.6666667\\\\\n",
       "\t 1 & 4909718 & 4909726 & Col-01 &  9 & 8 & 17 & 0 & 2 & 0 & ⋯ & 11 & 8 & 2 & 2 & WINNER & WINNER   & uncategorized & Mu4      & 0.6470588 & 0.4705882\\\\\n",
       "\t 1 & 8308462 & 8308470 & Col-01 & 12 & 2 & 14 & 1 & 2 & 0 & ⋯ &  9 & 4 & 2 & 4 & WINNER & TIED     & uncategorized & TIED     & 0.6428571 & 0.2857143\\\\\n",
       "\\end{tabular}\n"
      ],
      "text/markdown": [
       "\n",
       "A rowwise_df: 6 × 72\n",
       "\n",
       "| Chr &lt;chr&gt; | Start &lt;int&gt; | End &lt;int&gt; | Sample &lt;chr&gt; | StartReads &lt;int&gt; | EndReads &lt;int&gt; | TotalReads &lt;int&gt; | Mu1_L &lt;dbl&gt; | Mu1_R &lt;dbl&gt; | Mu2_L &lt;dbl&gt; | ⋯ ⋯ | all_max_value &lt;dbl&gt; | type_max_value &lt;dbl&gt; | all_n_max_value &lt;int&gt; | type_n_max_value &lt;int&gt; | all_TIES &lt;chr&gt; | type_TIES &lt;chr&gt; | all_max_name &lt;chr&gt; | type_max_name &lt;chr&gt; | perc_uncategorized &lt;dbl&gt; | perc_best_type &lt;dbl&gt; |\n",
       "|---|---|---|---|---|---|---|---|---|---|---|---|---|---|---|---|---|---|---|---|---|\n",
       "| 1 | 3124440 | 3124448 | Col-01 |  2 | 2 |  4 | 0 | 0 | 0 | ⋯ |  4 | 0 | 2 | 0 | WINNER | NO READS | uncategorized | NO READS | 1.0000000 | 0.0000000 |\n",
       "| 1 | 3772030 | 3772038 | Col-01 |  2 | 2 |  4 | 2 | 2 | 0 | ⋯ |  4 | 4 | 4 | 4 | TIED   | TIED     | TIED          | TIED     | 0.0000000 | 1.0000000 |\n",
       "| 1 | 4498708 | 4498716 | Col-01 |  8 | 5 | 13 | 0 | 2 | 0 | ⋯ |  6 | 6 | 3 | 2 | TIED   | WINNER   | TIED          | MuDR     | 0.4615385 | 0.4615385 |\n",
       "| 1 | 4736284 | 4736292 | Col-01 |  4 | 2 |  6 | 0 | 0 | 0 | ⋯ |  4 | 4 | 2 | 2 | WINNER | WINNER   | MuDR          | MuDR     | 0.5000000 | 0.6666667 |\n",
       "| 1 | 4909718 | 4909726 | Col-01 |  9 | 8 | 17 | 0 | 2 | 0 | ⋯ | 11 | 8 | 2 | 2 | WINNER | WINNER   | uncategorized | Mu4      | 0.6470588 | 0.4705882 |\n",
       "| 1 | 8308462 | 8308470 | Col-01 | 12 | 2 | 14 | 1 | 2 | 0 | ⋯ |  9 | 4 | 2 | 4 | WINNER | TIED     | uncategorized | TIED     | 0.6428571 | 0.2857143 |\n",
       "\n"
      ],
      "text/plain": [
       "  Chr Start   End     Sample StartReads EndReads TotalReads Mu1_L Mu1_R Mu2_L ⋯\n",
       "1 1   3124440 3124448 Col-01  2         2         4         0     0     0     ⋯\n",
       "2 1   3772030 3772038 Col-01  2         2         4         2     2     0     ⋯\n",
       "3 1   4498708 4498716 Col-01  8         5        13         0     2     0     ⋯\n",
       "4 1   4736284 4736292 Col-01  4         2         6         0     0     0     ⋯\n",
       "5 1   4909718 4909726 Col-01  9         8        17         0     2     0     ⋯\n",
       "6 1   8308462 8308470 Col-01 12         2        14         1     2     0     ⋯\n",
       "  all_max_value type_max_value all_n_max_value type_n_max_value all_TIES\n",
       "1  4            0              2               0                WINNER  \n",
       "2  4            4              4               4                TIED    \n",
       "3  6            6              3               2                TIED    \n",
       "4  4            4              2               2                WINNER  \n",
       "5 11            8              2               2                WINNER  \n",
       "6  9            4              2               4                WINNER  \n",
       "  type_TIES all_max_name  type_max_name perc_uncategorized perc_best_type\n",
       "1 NO READS  uncategorized NO READS      1.0000000          0.0000000     \n",
       "2 TIED      TIED          TIED          0.0000000          1.0000000     \n",
       "3 WINNER    TIED          MuDR          0.4615385          0.4615385     \n",
       "4 WINNER    MuDR          MuDR          0.5000000          0.6666667     \n",
       "5 WINNER    uncategorized Mu4           0.6470588          0.4705882     \n",
       "6 TIED      uncategorized TIED          0.6428571          0.2857143     "
      ]
     },
     "metadata": {},
     "output_type": "display_data"
    },
    {
     "data": {
      "text/html": [
       "<table class=\"dataframe\">\n",
       "<caption>A rowwise_df: 5 × 74</caption>\n",
       "<thead>\n",
       "\t<tr><th scope=col>Chr</th><th scope=col>Start</th><th scope=col>End</th><th scope=col>Sample</th><th scope=col>StartReads</th><th scope=col>EndReads</th><th scope=col>TotalReads</th><th scope=col>Mu1_L</th><th scope=col>Mu1_R</th><th scope=col>Mu2_L</th><th scope=col>⋯</th><th scope=col>all_n_max_value</th><th scope=col>type_n_max_value</th><th scope=col>all_TIES</th><th scope=col>type_TIES</th><th scope=col>all_max_name</th><th scope=col>type_max_name</th><th scope=col>perc_uncategorized</th><th scope=col>perc_best_type</th><th scope=col>all_candidates</th><th scope=col>type_candidates</th></tr>\n",
       "\t<tr><th scope=col>&lt;chr&gt;</th><th scope=col>&lt;int&gt;</th><th scope=col>&lt;int&gt;</th><th scope=col>&lt;chr&gt;</th><th scope=col>&lt;int&gt;</th><th scope=col>&lt;int&gt;</th><th scope=col>&lt;int&gt;</th><th scope=col>&lt;dbl&gt;</th><th scope=col>&lt;dbl&gt;</th><th scope=col>&lt;dbl&gt;</th><th scope=col>⋯</th><th scope=col>&lt;int&gt;</th><th scope=col>&lt;int&gt;</th><th scope=col>&lt;chr&gt;</th><th scope=col>&lt;chr&gt;</th><th scope=col>&lt;chr&gt;</th><th scope=col>&lt;chr&gt;</th><th scope=col>&lt;dbl&gt;</th><th scope=col>&lt;dbl&gt;</th><th scope=col>&lt;list&gt;</th><th scope=col>&lt;list&gt;</th></tr>\n",
       "</thead>\n",
       "<tbody>\n",
       "\t<tr><td>1</td><td>3124440</td><td>3124448</td><td>Col-01</td><td>2</td><td>2</td><td> 4</td><td>0</td><td>0</td><td>0</td><td>⋯</td><td>2</td><td>0</td><td>WINNER</td><td>NO READS</td><td>uncategorized</td><td>NO READS</td><td>1.0000000</td><td>0.0000000</td><td>uncategorized</td><td>NA</td></tr>\n",
       "\t<tr><td>1</td><td>3772030</td><td>3772038</td><td>Col-01</td><td>2</td><td>2</td><td> 4</td><td>2</td><td>2</td><td>0</td><td>⋯</td><td>4</td><td>4</td><td>TIED  </td><td>TIED    </td><td>TIED         </td><td>TIED    </td><td>0.0000000</td><td>1.0000000</td><td>Mu1 , Mu7 , Mu17</td><td>Mu1 , Mu7 , Mu17</td></tr>\n",
       "\t<tr><td>1</td><td>4498708</td><td>4498716</td><td>Col-01</td><td>8</td><td>5</td><td>13</td><td>0</td><td>2</td><td>0</td><td>⋯</td><td>3</td><td>2</td><td>TIED  </td><td>WINNER  </td><td>TIED         </td><td>MuDR    </td><td>0.4615385</td><td>0.4615385</td><td>MuDR         , uncategorized</td><td>MuDR</td></tr>\n",
       "\t<tr><td>1</td><td>4736284</td><td>4736292</td><td>Col-01</td><td>4</td><td>2</td><td> 6</td><td>0</td><td>0</td><td>0</td><td>⋯</td><td>2</td><td>2</td><td>WINNER</td><td>WINNER  </td><td>MuDR         </td><td>MuDR    </td><td>0.5000000</td><td>0.6666667</td><td>MuDR</td><td>MuDR</td></tr>\n",
       "\t<tr><td>1</td><td>4909718</td><td>4909726</td><td>Col-01</td><td>9</td><td>8</td><td>17</td><td>0</td><td>2</td><td>0</td><td>⋯</td><td>2</td><td>2</td><td>WINNER</td><td>WINNER  </td><td>uncategorized</td><td>Mu4     </td><td>0.6470588</td><td>0.4705882</td><td>Mu4          , uncategorized</td><td>Mu4</td></tr>\n",
       "</tbody>\n",
       "</table>\n"
      ],
      "text/latex": [
       "A rowwise\\_df: 5 × 74\n",
       "\\begin{tabular}{lllllllllllllllllllll}\n",
       " Chr & Start & End & Sample & StartReads & EndReads & TotalReads & Mu1\\_L & Mu1\\_R & Mu2\\_L & ⋯ & all\\_n\\_max\\_value & type\\_n\\_max\\_value & all\\_TIES & type\\_TIES & all\\_max\\_name & type\\_max\\_name & perc\\_uncategorized & perc\\_best\\_type & all\\_candidates & type\\_candidates\\\\\n",
       " <chr> & <int> & <int> & <chr> & <int> & <int> & <int> & <dbl> & <dbl> & <dbl> & ⋯ & <int> & <int> & <chr> & <chr> & <chr> & <chr> & <dbl> & <dbl> & <list> & <list>\\\\\n",
       "\\hline\n",
       "\t 1 & 3124440 & 3124448 & Col-01 & 2 & 2 &  4 & 0 & 0 & 0 & ⋯ & 2 & 0 & WINNER & NO READS & uncategorized & NO READS & 1.0000000 & 0.0000000 & uncategorized & NA\\\\\n",
       "\t 1 & 3772030 & 3772038 & Col-01 & 2 & 2 &  4 & 2 & 2 & 0 & ⋯ & 4 & 4 & TIED   & TIED     & TIED          & TIED     & 0.0000000 & 1.0000000 & Mu1 , Mu7 , Mu17 & Mu1 , Mu7 , Mu17\\\\\n",
       "\t 1 & 4498708 & 4498716 & Col-01 & 8 & 5 & 13 & 0 & 2 & 0 & ⋯ & 3 & 2 & TIED   & WINNER   & TIED          & MuDR     & 0.4615385 & 0.4615385 & MuDR         , uncategorized & MuDR\\\\\n",
       "\t 1 & 4736284 & 4736292 & Col-01 & 4 & 2 &  6 & 0 & 0 & 0 & ⋯ & 2 & 2 & WINNER & WINNER   & MuDR          & MuDR     & 0.5000000 & 0.6666667 & MuDR & MuDR\\\\\n",
       "\t 1 & 4909718 & 4909726 & Col-01 & 9 & 8 & 17 & 0 & 2 & 0 & ⋯ & 2 & 2 & WINNER & WINNER   & uncategorized & Mu4      & 0.6470588 & 0.4705882 & Mu4          , uncategorized & Mu4\\\\\n",
       "\\end{tabular}\n"
      ],
      "text/markdown": [
       "\n",
       "A rowwise_df: 5 × 74\n",
       "\n",
       "| Chr &lt;chr&gt; | Start &lt;int&gt; | End &lt;int&gt; | Sample &lt;chr&gt; | StartReads &lt;int&gt; | EndReads &lt;int&gt; | TotalReads &lt;int&gt; | Mu1_L &lt;dbl&gt; | Mu1_R &lt;dbl&gt; | Mu2_L &lt;dbl&gt; | ⋯ ⋯ | all_n_max_value &lt;int&gt; | type_n_max_value &lt;int&gt; | all_TIES &lt;chr&gt; | type_TIES &lt;chr&gt; | all_max_name &lt;chr&gt; | type_max_name &lt;chr&gt; | perc_uncategorized &lt;dbl&gt; | perc_best_type &lt;dbl&gt; | all_candidates &lt;list&gt; | type_candidates &lt;list&gt; |\n",
       "|---|---|---|---|---|---|---|---|---|---|---|---|---|---|---|---|---|---|---|---|---|\n",
       "| 1 | 3124440 | 3124448 | Col-01 | 2 | 2 |  4 | 0 | 0 | 0 | ⋯ | 2 | 0 | WINNER | NO READS | uncategorized | NO READS | 1.0000000 | 0.0000000 | uncategorized | NA |\n",
       "| 1 | 3772030 | 3772038 | Col-01 | 2 | 2 |  4 | 2 | 2 | 0 | ⋯ | 4 | 4 | TIED   | TIED     | TIED          | TIED     | 0.0000000 | 1.0000000 | Mu1 , Mu7 , Mu17 | Mu1 , Mu7 , Mu17 |\n",
       "| 1 | 4498708 | 4498716 | Col-01 | 8 | 5 | 13 | 0 | 2 | 0 | ⋯ | 3 | 2 | TIED   | WINNER   | TIED          | MuDR     | 0.4615385 | 0.4615385 | MuDR         , uncategorized | MuDR |\n",
       "| 1 | 4736284 | 4736292 | Col-01 | 4 | 2 |  6 | 0 | 0 | 0 | ⋯ | 2 | 2 | WINNER | WINNER   | MuDR          | MuDR     | 0.5000000 | 0.6666667 | MuDR | MuDR |\n",
       "| 1 | 4909718 | 4909726 | Col-01 | 9 | 8 | 17 | 0 | 2 | 0 | ⋯ | 2 | 2 | WINNER | WINNER   | uncategorized | Mu4      | 0.6470588 | 0.4705882 | Mu4          , uncategorized | Mu4 |\n",
       "\n"
      ],
      "text/plain": [
       "  Chr Start   End     Sample StartReads EndReads TotalReads Mu1_L Mu1_R Mu2_L ⋯\n",
       "1 1   3124440 3124448 Col-01 2          2         4         0     0     0     ⋯\n",
       "2 1   3772030 3772038 Col-01 2          2         4         2     2     0     ⋯\n",
       "3 1   4498708 4498716 Col-01 8          5        13         0     2     0     ⋯\n",
       "4 1   4736284 4736292 Col-01 4          2         6         0     0     0     ⋯\n",
       "5 1   4909718 4909726 Col-01 9          8        17         0     2     0     ⋯\n",
       "  all_n_max_value type_n_max_value all_TIES type_TIES all_max_name \n",
       "1 2               0                WINNER   NO READS  uncategorized\n",
       "2 4               4                TIED     TIED      TIED         \n",
       "3 3               2                TIED     WINNER    TIED         \n",
       "4 2               2                WINNER   WINNER    MuDR         \n",
       "5 2               2                WINNER   WINNER    uncategorized\n",
       "  type_max_name perc_uncategorized perc_best_type all_candidates              \n",
       "1 NO READS      1.0000000          0.0000000      uncategorized               \n",
       "2 TIED          0.0000000          1.0000000      Mu1 , Mu7 , Mu17            \n",
       "3 MuDR          0.4615385          0.4615385      MuDR         , uncategorized\n",
       "4 MuDR          0.5000000          0.6666667      MuDR                        \n",
       "5 Mu4           0.6470588          0.4705882      Mu4          , uncategorized\n",
       "  type_candidates \n",
       "1 NA              \n",
       "2 Mu1 , Mu7 , Mu17\n",
       "3 MuDR            \n",
       "4 MuDR            \n",
       "5 Mu4             "
      ]
     },
     "metadata": {},
     "output_type": "display_data"
    }
   ],
   "source": [
    "ait_annotated <- all_insertions_typed[1:100,]\n",
    "\n",
    "#compute TotalReads per insertion and total (left+right) reads per type per insertion\n",
    "for (t in base_all_types) {\n",
    "    \n",
    "  tmp_left <- paste0(t, \"_L\")\n",
    "  tmp_right <- paste0(t, \"_R\")\n",
    "    \n",
    "  ait_annotated <- ait_annotated %>%\n",
    "    #add total amount of reads supporting insertion\n",
    "    mutate(TotalReads = StartReads + EndReads) %>%\n",
    "    dplyr::relocate(TotalReads, .after = EndReads) %>%\n",
    "    #add total amount of support reads per (Mu) type\n",
    "    mutate(\"{t}_total\" := .data[[tmp_left]] + .data[[tmp_right]]) \n",
    "}\n",
    "\n",
    "#move uncategorized to the end of the df\n",
    "ait_annotated <- ait_annotated %>%\n",
    " relocate(uncategorized, .after = last_col())\n",
    "\n",
    "head(ait_annotated)\n",
    "\n",
    "\n",
    "#compute the maximum value found among types/types+uncategorized per insertion\n",
    "ait_annotated <- ait_annotated %>%\n",
    "  rowwise() %>%\n",
    "  #max value for all total and uncategorized columns\n",
    "  mutate(all_max_value = max(across(ends_with(c(\"_total\", \"uncategorized\"))))) %>%\n",
    "  #also compute max value for all types excl. uncategorized\n",
    "  mutate(type_max_value = max(across(ends_with(\"_total\")))) %>%\n",
    "  #number of max values for all total and uncategorized columns\n",
    "  #also, catch edge case when no type has any associated values/reads\n",
    "  mutate(all_n_max_value = case_when(\n",
    "           all_max_value > 0 ~ length(which(across(ends_with(c(\"_total\", \"uncategorized\", \"all_max_value\")))==all_max_value)),\n",
    "           TRUE ~ as.integer(0)\n",
    "    )\n",
    "  ) %>%\n",
    "  #number of max values for all total columns excl. uncategorized\n",
    "  #again, catch edge case when no type has any associated values/reads\n",
    "  mutate(type_n_max_value = case_when(\n",
    "            type_max_value > 0 ~ length(which(across(ends_with(c(\"_total\", \"type_max_value\")))==type_max_value)),\n",
    "            TRUE ~ as.integer(0)\n",
    "         )\n",
    "  )\n",
    "\n",
    "head(ait_annotated)\n",
    "\n",
    "ait_annotated[1,] %>%\n",
    "  select(., ends_with(\"_total\"))\n",
    "\n",
    "#loop over df to identify uncear cases in which the max support for type classification is tied\n",
    "#create column with info on whether or not one type is more often than others\n",
    "ait_annotated <- ait_annotated %>%\n",
    "  mutate(all_TIES = \n",
    "    case_when(\n",
    "      all_n_max_value > 2 ~ \"TIED\",\n",
    "      all_n_max_value == 2 ~ \"WINNER\",\n",
    "      TRUE ~ \"NO READS\"\n",
    "    ) \n",
    "  ) %>%\n",
    "  mutate(type_TIES = \n",
    "    case_when(\n",
    "      type_n_max_value > 2 ~ \"TIED\",\n",
    "      type_n_max_value == 2 ~ \"WINNER\",\n",
    "      TRUE ~ \"NO READS\"\n",
    "    ) \n",
    "  )\n",
    "\n",
    "head(ait_annotated)\n",
    "\n",
    "\n",
    "#isolate columns for all and type (without uncategorized) and write into vector\n",
    "all_sss_count_cols <- ait_annotated %>%\n",
    "  select(ends_with(c(\"_total\", \"uncategorized\"))) %>%\n",
    "  names()\n",
    "\n",
    "type_sss_count_cols <- ait_annotated %>%\n",
    "  select(ends_with(\"_total\")) %>%\n",
    "  names()\n",
    "\n",
    "\n",
    "#extract the name of the max value type/uncategorized or infer that it is unclear (\"TIED\")\n",
    "ait_annotated <- ait_annotated %>%\n",
    "  rowwise() %>%\n",
    "  #porbably a better way to do this - case_when() strict; \"WINNER\" code is a \"hidden\" list thus we have to add [1] on top\n",
    "  mutate(all_max_name = \n",
    "    case_when(\n",
    "      all_TIES == \"WINNER\" ~ names(.[,c(all_sss_count_cols)])[which(across(ends_with(c(\"_total\", \"uncategorized\")))==all_max_value)][1],\n",
    "      all_TIES == \"TIED\" ~ \"TIED\",\n",
    "      TRUE ~ \"NO READS\"\n",
    "         )\n",
    "  ) %>%\n",
    "    mutate(type_max_name = \n",
    "    case_when(\n",
    "      type_TIES == \"WINNER\" ~ names(.[,c(type_sss_count_cols)])[which(across(ends_with(\"_total\"))==type_max_value)][1],\n",
    "      type_TIES == \"TIED\" ~ \"TIED\",\n",
    "      TRUE ~ \"NO READS\"\n",
    "         )\n",
    "  ) %>%\n",
    "  mutate(all_max_name = str_remove(all_max_name, \"_total\")) %>%\n",
    "  mutate(type_max_name = str_remove(type_max_name, \"_total\"))\n",
    "\n",
    "head(ait_annotated, n=5)\n",
    "\n",
    "\n",
    "#compute stats:\n",
    "#percent uncategorized of all reads (TotalReads)\n",
    "#percent of the best type/s of all reads (TotalReads) \n",
    "ait_annotated <- ait_annotated %>%\n",
    "  mutate(perc_uncategorized = uncategorized/TotalReads) %>%\n",
    "  mutate(perc_best_type = type_max_value/TotalReads)\n",
    "\n",
    "head(ait_annotated)\n",
    "\n",
    "#add list elements as df entries per insertion - what are likely candidates (important in unclear cases):\n",
    "#excl. uncategorized\n",
    "#incl. uncategorized\n",
    "ait_annotated <- ait_annotated %>%\n",
    "  mutate(\n",
    "      all_candidates = case_when(\n",
    "          type_max_value > 0 ~ list(names(.[,c(all_sss_count_cols)])[which(across(ends_with(c(\"_total\", \"uncategorized\"))) >= type_max_value)]),\n",
    "          type_max_value == 0 & all_max_value > 0 ~ list(c(\"uncategorized\")),\n",
    "          TRUE ~ list(NA)\n",
    "        )\n",
    "      ) %>%\n",
    "  mutate(\n",
    "      type_candidates = case_when(\n",
    "          type_max_value > 0 ~ list(names(.[,c(type_sss_count_cols)])[which(across(ends_with(\"_total\")) >= type_max_value)]),\n",
    "          TRUE ~ list(NA)\n",
    "        )\n",
    "      ) %>%\n",
    "  mutate(all_candidates = list(str_remove(all_candidates, \"_total\"))) %>%\n",
    "  mutate(type_candidates = list(str_remove(type_candidates, \"_total\")))\n",
    "\n",
    "head(ait_annotated, n=5)"
   ]
  },
  {
   "cell_type": "markdown",
   "id": "cb3739ff-09e1-4af2-b389-2aecc953a41f",
   "metadata": {},
   "source": [
    "### investigating cases"
   ]
  },
  {
   "cell_type": "code",
   "execution_count": 13,
   "id": "954dd79b-ee77-48a5-959a-03ffb8e5f491",
   "metadata": {},
   "outputs": [
    {
     "data": {
      "text/html": [
       "27"
      ],
      "text/latex": [
       "27"
      ],
      "text/markdown": [
       "27"
      ],
      "text/plain": [
       "[1] 27"
      ]
     },
     "metadata": {},
     "output_type": "display_data"
    },
    {
     "data": {
      "text/html": [
       "227"
      ],
      "text/latex": [
       "227"
      ],
      "text/markdown": [
       "227"
      ],
      "text/plain": [
       "[1] 227"
      ]
     },
     "metadata": {},
     "output_type": "display_data"
    }
   ],
   "source": [
    "ait_annotated %>%\n",
    "  filter(type_max_name == \"NO READS\") %>%\n",
    "#  select(contains(\"value\")) %>%\n",
    "  nrow()\n",
    "\n",
    "ait_annotated %>%\n",
    "  filter(perc_uncategorized > 0.5) %>%\n",
    "#  select(contains(\"value\")) %>%\n",
    "  nrow()"
   ]
  },
  {
   "cell_type": "code",
   "execution_count": 57,
   "id": "5fef3ccf-292c-4e39-8e5a-042e74251eef",
   "metadata": {},
   "outputs": [
    {
     "name": "stderr",
     "output_type": "stream",
     "text": [
      "Warning message in cbind(parts$left, ellip_h, parts$right, deparse.level = 0L):\n",
      "“number of rows of result is not a multiple of vector length (arg 2)”\n",
      "Warning message in cbind(parts$left, ellip_h, parts$right, deparse.level = 0L):\n",
      "“number of rows of result is not a multiple of vector length (arg 2)”\n",
      "Warning message in cbind(parts$left, ellip_h, parts$right, deparse.level = 0L):\n",
      "“number of rows of result is not a multiple of vector length (arg 2)”\n",
      "Warning message in cbind(parts$left, ellip_h, parts$right, deparse.level = 0L):\n",
      "“number of rows of result is not a multiple of vector length (arg 2)”\n"
     ]
    },
    {
     "data": {
      "text/html": [
       "<table class=\"dataframe\">\n",
       "<caption>A rowwise_df: 0 × 74</caption>\n",
       "<thead>\n",
       "\t<tr><th scope=col>Chr</th><th scope=col>Start</th><th scope=col>End</th><th scope=col>Sample</th><th scope=col>StartReads</th><th scope=col>EndReads</th><th scope=col>TotalReads</th><th scope=col>Mu1_L</th><th scope=col>Mu1_R</th><th scope=col>Mu2_L</th><th scope=col>⋯</th><th scope=col>all_n_max_value</th><th scope=col>type_n_max_value</th><th scope=col>all_TIES</th><th scope=col>type_TIES</th><th scope=col>all_max_name</th><th scope=col>type_max_name</th><th scope=col>perc_uncategorized</th><th scope=col>perc_best_type</th><th scope=col>all_candidates</th><th scope=col>type_candidates</th></tr>\n",
       "\t<tr><th scope=col>&lt;chr&gt;</th><th scope=col>&lt;int&gt;</th><th scope=col>&lt;int&gt;</th><th scope=col>&lt;chr&gt;</th><th scope=col>&lt;int&gt;</th><th scope=col>&lt;int&gt;</th><th scope=col>&lt;int&gt;</th><th scope=col>&lt;dbl&gt;</th><th scope=col>&lt;dbl&gt;</th><th scope=col>&lt;dbl&gt;</th><th scope=col>⋯</th><th scope=col>&lt;int&gt;</th><th scope=col>&lt;int&gt;</th><th scope=col>&lt;chr&gt;</th><th scope=col>&lt;chr&gt;</th><th scope=col>&lt;chr&gt;</th><th scope=col>&lt;chr&gt;</th><th scope=col>&lt;dbl&gt;</th><th scope=col>&lt;dbl&gt;</th><th scope=col>&lt;list&gt;</th><th scope=col>&lt;list&gt;</th></tr>\n",
       "</thead>\n",
       "<tbody>\n",
       "</tbody>\n",
       "</table>\n"
      ],
      "text/latex": [
       "A rowwise\\_df: 0 × 74\n",
       "\\begin{tabular}{lllllllllllllllllllll}\n",
       " Chr & Start & End & Sample & StartReads & EndReads & TotalReads & Mu1\\_L & Mu1\\_R & Mu2\\_L & ⋯ & all\\_n\\_max\\_value & type\\_n\\_max\\_value & all\\_TIES & type\\_TIES & all\\_max\\_name & type\\_max\\_name & perc\\_uncategorized & perc\\_best\\_type & all\\_candidates & type\\_candidates\\\\\n",
       " <chr> & <int> & <int> & <chr> & <int> & <int> & <int> & <dbl> & <dbl> & <dbl> & ⋯ & <int> & <int> & <chr> & <chr> & <chr> & <chr> & <dbl> & <dbl> & <list> & <list>\\\\\n",
       "\\hline\n",
       "\\end{tabular}\n"
      ],
      "text/markdown": [
       "\n",
       "A rowwise_df: 0 × 74\n",
       "\n",
       "| Chr &lt;chr&gt; | Start &lt;int&gt; | End &lt;int&gt; | Sample &lt;chr&gt; | StartReads &lt;int&gt; | EndReads &lt;int&gt; | TotalReads &lt;int&gt; | Mu1_L &lt;dbl&gt; | Mu1_R &lt;dbl&gt; | Mu2_L &lt;dbl&gt; | ⋯ ⋯ | all_n_max_value &lt;int&gt; | type_n_max_value &lt;int&gt; | all_TIES &lt;chr&gt; | type_TIES &lt;chr&gt; | all_max_name &lt;chr&gt; | type_max_name &lt;chr&gt; | perc_uncategorized &lt;dbl&gt; | perc_best_type &lt;dbl&gt; | all_candidates &lt;list&gt; | type_candidates &lt;list&gt; |\n",
       "|---|---|---|---|---|---|---|---|---|---|---|---|---|---|---|---|---|---|---|---|---|\n",
       "\n"
      ],
      "text/plain": [
       "     Chr Start End Sample StartReads EndReads TotalReads Mu1_L Mu1_R Mu2_L ⋯\n",
       "     all_n_max_value type_n_max_value all_TIES type_TIES all_max_name\n",
       "     type_max_name perc_uncategorized perc_best_type all_candidates\n",
       "     type_candidates"
      ]
     },
     "metadata": {},
     "output_type": "display_data"
    },
    {
     "data": {
      "text/html": [],
      "text/latex": [],
      "text/markdown": [],
      "text/plain": [
       "character(0)"
      ]
     },
     "metadata": {},
     "output_type": "display_data"
    },
    {
     "ename": "ERROR",
     "evalue": "Error in get(paste0(\"sam_\", cur_ins$Sample)): object 'sam_' not found\n",
     "output_type": "error",
     "traceback": [
      "Error in get(paste0(\"sam_\", cur_ins$Sample)): object 'sam_' not found\nTraceback:\n",
      "1. get(paste0(\"sam_\", cur_ins$Sample))",
      "2. get(paste0(\"sam_\", cur_ins$Sample))"
     ]
    }
   ],
   "source": [
    "### getting reads for particular insertion\n",
    "\n",
    "#chose insertion - we extract its corresponding row\n",
    "cur_ins <- ait_annotated %>%\n",
    "  filter(type_max_name == \"NO READS\") %>%\n",
    "  filter(Chr==1 & Start==69324787 & End==69324795)\n",
    "\n",
    "cur_ins\n",
    "cur_ins$Sample\n",
    "\n",
    "#match Sample with sam object\n",
    "tmp_sam <- get(paste0(\"sam_\", cur_ins$Sample))\n",
    "\n",
    "#match sample of insertion file with te typing file\n",
    "tmp_type_file <- get(paste0(cur_ins$Sample, \"_type_file\"))\n",
    "\n",
    "\n",
    "# fuzzyjoin for overlap + end or start needs to match\n",
    "tmp_merge_ins_sam <- fuzzyjoin::genome_inner_join(cur_ins,\n",
    "                             tmp_sam, \n",
    "                              by=c(\"Chr\", \"Start\", \"End\")\n",
    "                            ) %>%\n",
    "select(Name, Strand, Chr.y, Start.y, End.y) %>%\n",
    "dplyr::rename(Chr=Chr.y, Start=Start.y, End=End.y) %>%\n",
    "filter(Start == cur_ins$Start | \n",
    "       Start == cur_ins$End | \n",
    "       End == cur_ins$Start | \n",
    "       End == cur_ins$End)\n",
    "\n",
    "\n",
    "head(tmp_merge_ins_sam)"
   ]
  },
  {
   "cell_type": "markdown",
   "id": "89a299d2-804c-450c-b6e8-d545baff0c72",
   "metadata": {},
   "source": [
    "### getting all uncategorized reads - with only uncategorized read support"
   ]
  },
  {
   "cell_type": "code",
   "execution_count": 17,
   "id": "ed42434b-3bc2-4605-a2fe-a9464f592be0",
   "metadata": {},
   "outputs": [
    {
     "data": {
      "text/html": [
       "<table class=\"dataframe\">\n",
       "<caption>A rowwise_df: 1 × 74</caption>\n",
       "<thead>\n",
       "\t<tr><th scope=col>Chr</th><th scope=col>Start</th><th scope=col>End</th><th scope=col>Sample</th><th scope=col>StartReads</th><th scope=col>EndReads</th><th scope=col>TotalReads</th><th scope=col>Mu1_L</th><th scope=col>Mu1_R</th><th scope=col>Mu2_L</th><th scope=col>⋯</th><th scope=col>all_n_max_value</th><th scope=col>type_n_max_value</th><th scope=col>all_TIES</th><th scope=col>type_TIES</th><th scope=col>all_max_name</th><th scope=col>type_max_name</th><th scope=col>perc_uncategorized</th><th scope=col>perc_best_type</th><th scope=col>all_candidates</th><th scope=col>type_candidates</th></tr>\n",
       "\t<tr><th scope=col>&lt;chr&gt;</th><th scope=col>&lt;int&gt;</th><th scope=col>&lt;int&gt;</th><th scope=col>&lt;chr&gt;</th><th scope=col>&lt;int&gt;</th><th scope=col>&lt;int&gt;</th><th scope=col>&lt;int&gt;</th><th scope=col>&lt;dbl&gt;</th><th scope=col>&lt;dbl&gt;</th><th scope=col>&lt;dbl&gt;</th><th scope=col>⋯</th><th scope=col>&lt;int&gt;</th><th scope=col>&lt;int&gt;</th><th scope=col>&lt;chr&gt;</th><th scope=col>&lt;chr&gt;</th><th scope=col>&lt;chr&gt;</th><th scope=col>&lt;chr&gt;</th><th scope=col>&lt;dbl&gt;</th><th scope=col>&lt;dbl&gt;</th><th scope=col>&lt;list&gt;</th><th scope=col>&lt;list&gt;</th></tr>\n",
       "</thead>\n",
       "<tbody>\n",
       "\t<tr><td>1</td><td>217940391</td><td>217940399</td><td>Col-01</td><td>2</td><td>3</td><td>5</td><td>0</td><td>0</td><td>0</td><td>⋯</td><td>2</td><td>0</td><td>WINNER</td><td>NO READS</td><td>uncategorized</td><td>NO READS</td><td>1</td><td>0</td><td>uncategorized</td><td>NA</td></tr>\n",
       "</tbody>\n",
       "</table>\n"
      ],
      "text/latex": [
       "A rowwise\\_df: 1 × 74\n",
       "\\begin{tabular}{lllllllllllllllllllll}\n",
       " Chr & Start & End & Sample & StartReads & EndReads & TotalReads & Mu1\\_L & Mu1\\_R & Mu2\\_L & ⋯ & all\\_n\\_max\\_value & type\\_n\\_max\\_value & all\\_TIES & type\\_TIES & all\\_max\\_name & type\\_max\\_name & perc\\_uncategorized & perc\\_best\\_type & all\\_candidates & type\\_candidates\\\\\n",
       " <chr> & <int> & <int> & <chr> & <int> & <int> & <int> & <dbl> & <dbl> & <dbl> & ⋯ & <int> & <int> & <chr> & <chr> & <chr> & <chr> & <dbl> & <dbl> & <list> & <list>\\\\\n",
       "\\hline\n",
       "\t 1 & 217940391 & 217940399 & Col-01 & 2 & 3 & 5 & 0 & 0 & 0 & ⋯ & 2 & 0 & WINNER & NO READS & uncategorized & NO READS & 1 & 0 & uncategorized & NA\\\\\n",
       "\\end{tabular}\n"
      ],
      "text/markdown": [
       "\n",
       "A rowwise_df: 1 × 74\n",
       "\n",
       "| Chr &lt;chr&gt; | Start &lt;int&gt; | End &lt;int&gt; | Sample &lt;chr&gt; | StartReads &lt;int&gt; | EndReads &lt;int&gt; | TotalReads &lt;int&gt; | Mu1_L &lt;dbl&gt; | Mu1_R &lt;dbl&gt; | Mu2_L &lt;dbl&gt; | ⋯ ⋯ | all_n_max_value &lt;int&gt; | type_n_max_value &lt;int&gt; | all_TIES &lt;chr&gt; | type_TIES &lt;chr&gt; | all_max_name &lt;chr&gt; | type_max_name &lt;chr&gt; | perc_uncategorized &lt;dbl&gt; | perc_best_type &lt;dbl&gt; | all_candidates &lt;list&gt; | type_candidates &lt;list&gt; |\n",
       "|---|---|---|---|---|---|---|---|---|---|---|---|---|---|---|---|---|---|---|---|---|\n",
       "| 1 | 217940391 | 217940399 | Col-01 | 2 | 3 | 5 | 0 | 0 | 0 | ⋯ | 2 | 0 | WINNER | NO READS | uncategorized | NO READS | 1 | 0 | uncategorized | NA |\n",
       "\n"
      ],
      "text/plain": [
       "  Chr Start     End       Sample StartReads EndReads TotalReads Mu1_L Mu1_R\n",
       "1 1   217940391 217940399 Col-01 2          3        5          0     0    \n",
       "  Mu2_L ⋯ all_n_max_value type_n_max_value all_TIES type_TIES all_max_name \n",
       "1 0     ⋯ 2               0                WINNER   NO READS  uncategorized\n",
       "  type_max_name perc_uncategorized perc_best_type all_candidates\n",
       "1 NO READS      1                  0              uncategorized \n",
       "  type_candidates\n",
       "1 NA             "
      ]
     },
     "metadata": {},
     "output_type": "display_data"
    },
    {
     "data": {
      "text/html": [
       "27"
      ],
      "text/latex": [
       "27"
      ],
      "text/markdown": [
       "27"
      ],
      "text/plain": [
       "[1] 27"
      ]
     },
     "metadata": {},
     "output_type": "display_data"
    },
    {
     "data": {
      "text/html": [
       "227"
      ],
      "text/latex": [
       "227"
      ],
      "text/markdown": [
       "227"
      ],
      "text/plain": [
       "[1] 227"
      ]
     },
     "metadata": {},
     "output_type": "display_data"
    }
   ],
   "source": [
    "ait_annotated %>%\n",
    "  filter(type_max_name == \"NO READS\") %>%\n",
    "  head(n=1)\n",
    "\n",
    "ait_annotated %>%\n",
    "  filter(type_max_name == \"NO READS\") %>%\n",
    "  nrow()\n",
    "\n",
    "ait_annotated %>%\n",
    "  filter(perc_uncategorized > 0.5) %>%\n",
    "  nrow()"
   ]
  },
  {
   "cell_type": "code",
   "execution_count": 18,
   "id": "4bd62e70-57cd-40b3-bc76-96b0b1bef28b",
   "metadata": {},
   "outputs": [
    {
     "data": {
      "text/html": [
       "<table class=\"dataframe\">\n",
       "<caption>A tibble: 6 × 8</caption>\n",
       "<thead>\n",
       "\t<tr><th scope=col>Name</th><th scope=col>Strand</th><th scope=col>Chr</th><th scope=col>Start</th><th scope=col>End</th><th scope=col>Sample</th><th scope=col>ins_Start</th><th scope=col>ins_End</th></tr>\n",
       "\t<tr><th scope=col>&lt;chr&gt;</th><th scope=col>&lt;chr&gt;</th><th scope=col>&lt;chr&gt;</th><th scope=col>&lt;int&gt;</th><th scope=col>&lt;dbl&gt;</th><th scope=col>&lt;chr&gt;</th><th scope=col>&lt;int&gt;</th><th scope=col>&lt;int&gt;</th></tr>\n",
       "</thead>\n",
       "<tbody>\n",
       "\t<tr><td>E00591:404:HFCMWCCX2:7:1101:26971:38051</td><td>2</td><td>1</td><td>38393425</td><td>38393520</td><td>Col-01</td><td>38393512</td><td>38393520</td></tr>\n",
       "\t<tr><td>E00591:404:HFCMWCCX2:7:1101:3082:7814  </td><td>2</td><td>1</td><td>38393442</td><td>38393520</td><td>Col-01</td><td>38393512</td><td>38393520</td></tr>\n",
       "\t<tr><td>E00591:404:HFCMWCCX2:7:1101:22516:8464 </td><td>2</td><td>1</td><td>38393512</td><td>38393533</td><td>Col-01</td><td>38393512</td><td>38393520</td></tr>\n",
       "\t<tr><td>E00591:404:HFCMWCCX2:7:1101:24688:45734</td><td>2</td><td>1</td><td>38393512</td><td>38393550</td><td>Col-01</td><td>38393512</td><td>38393520</td></tr>\n",
       "\t<tr><td>E00591:404:HFCMWCCX2:7:1102:14377:11101</td><td>2</td><td>1</td><td>39235046</td><td>39235094</td><td>Col-01</td><td>39235086</td><td>39235094</td></tr>\n",
       "\t<tr><td>E00591:404:HFCMWCCX2:7:1102:24748:8570 </td><td>2</td><td>1</td><td>39235048</td><td>39235094</td><td>Col-01</td><td>39235086</td><td>39235094</td></tr>\n",
       "</tbody>\n",
       "</table>\n"
      ],
      "text/latex": [
       "A tibble: 6 × 8\n",
       "\\begin{tabular}{llllllll}\n",
       " Name & Strand & Chr & Start & End & Sample & ins\\_Start & ins\\_End\\\\\n",
       " <chr> & <chr> & <chr> & <int> & <dbl> & <chr> & <int> & <int>\\\\\n",
       "\\hline\n",
       "\t E00591:404:HFCMWCCX2:7:1101:26971:38051 & 2 & 1 & 38393425 & 38393520 & Col-01 & 38393512 & 38393520\\\\\n",
       "\t E00591:404:HFCMWCCX2:7:1101:3082:7814   & 2 & 1 & 38393442 & 38393520 & Col-01 & 38393512 & 38393520\\\\\n",
       "\t E00591:404:HFCMWCCX2:7:1101:22516:8464  & 2 & 1 & 38393512 & 38393533 & Col-01 & 38393512 & 38393520\\\\\n",
       "\t E00591:404:HFCMWCCX2:7:1101:24688:45734 & 2 & 1 & 38393512 & 38393550 & Col-01 & 38393512 & 38393520\\\\\n",
       "\t E00591:404:HFCMWCCX2:7:1102:14377:11101 & 2 & 1 & 39235046 & 39235094 & Col-01 & 39235086 & 39235094\\\\\n",
       "\t E00591:404:HFCMWCCX2:7:1102:24748:8570  & 2 & 1 & 39235048 & 39235094 & Col-01 & 39235086 & 39235094\\\\\n",
       "\\end{tabular}\n"
      ],
      "text/markdown": [
       "\n",
       "A tibble: 6 × 8\n",
       "\n",
       "| Name &lt;chr&gt; | Strand &lt;chr&gt; | Chr &lt;chr&gt; | Start &lt;int&gt; | End &lt;dbl&gt; | Sample &lt;chr&gt; | ins_Start &lt;int&gt; | ins_End &lt;int&gt; |\n",
       "|---|---|---|---|---|---|---|---|\n",
       "| E00591:404:HFCMWCCX2:7:1101:26971:38051 | 2 | 1 | 38393425 | 38393520 | Col-01 | 38393512 | 38393520 |\n",
       "| E00591:404:HFCMWCCX2:7:1101:3082:7814   | 2 | 1 | 38393442 | 38393520 | Col-01 | 38393512 | 38393520 |\n",
       "| E00591:404:HFCMWCCX2:7:1101:22516:8464  | 2 | 1 | 38393512 | 38393533 | Col-01 | 38393512 | 38393520 |\n",
       "| E00591:404:HFCMWCCX2:7:1101:24688:45734 | 2 | 1 | 38393512 | 38393550 | Col-01 | 38393512 | 38393520 |\n",
       "| E00591:404:HFCMWCCX2:7:1102:14377:11101 | 2 | 1 | 39235046 | 39235094 | Col-01 | 39235086 | 39235094 |\n",
       "| E00591:404:HFCMWCCX2:7:1102:24748:8570  | 2 | 1 | 39235048 | 39235094 | Col-01 | 39235086 | 39235094 |\n",
       "\n"
      ],
      "text/plain": [
       "  Name                                    Strand Chr Start    End      Sample\n",
       "1 E00591:404:HFCMWCCX2:7:1101:26971:38051 2      1   38393425 38393520 Col-01\n",
       "2 E00591:404:HFCMWCCX2:7:1101:3082:7814   2      1   38393442 38393520 Col-01\n",
       "3 E00591:404:HFCMWCCX2:7:1101:22516:8464  2      1   38393512 38393533 Col-01\n",
       "4 E00591:404:HFCMWCCX2:7:1101:24688:45734 2      1   38393512 38393550 Col-01\n",
       "5 E00591:404:HFCMWCCX2:7:1102:14377:11101 2      1   39235046 39235094 Col-01\n",
       "6 E00591:404:HFCMWCCX2:7:1102:24748:8570  2      1   39235048 39235094 Col-01\n",
       "  ins_Start ins_End \n",
       "1 38393512  38393520\n",
       "2 38393512  38393520\n",
       "3 38393512  38393520\n",
       "4 38393512  38393520\n",
       "5 39235086  39235094\n",
       "6 39235086  39235094"
      ]
     },
     "metadata": {},
     "output_type": "display_data"
    }
   ],
   "source": [
    "#create subset df with only uncategorized insertions / or with a percentage cutoff\n",
    "#unc_ait_annotated <- ait_annotated %>%\n",
    "#  filter(type_max_name == \"NO READS\")\n",
    "\n",
    "#perhaps make this a config.yaml parameter\n",
    "unc_ait_annotated <- ait_annotated %>%\n",
    "  filter(perc_uncategorized > 0.5)\n",
    "\n",
    "\n",
    "# create empty dataframe/tibble\n",
    "all_uncategorized_ins <- tibble(\n",
    "                           Name = character(),\n",
    "                           Strand = character(),\n",
    "                           Chr = character(),\n",
    "                           Start = integer(),\n",
    "                           End = integer(),\n",
    "                           Sample = character()\n",
    "                         )\n",
    "\n",
    "#loop through all rows\n",
    "for (cur_row in 1:nrow(unc_ait_annotated)){\n",
    "\n",
    "    #match Sample with sam object\n",
    "    tmp_sam <- get(paste0(\"sam_\", unc_ait_annotated[cur_row,]$Sample))\n",
    "\n",
    "    #match sample of insertion file with te typing file\n",
    "    tmp_type_file <- get(paste0(unc_ait_annotated[cur_row,]$Sample, \"_type_file\"))\n",
    "\n",
    "\n",
    "    # fuzzyjoin for overlap + end or start needs to match\n",
    "    tmp_merge_ins_sam <- fuzzyjoin::genome_inner_join(unc_ait_annotated[cur_row,],\n",
    "                                                      tmp_sam, \n",
    "                                                      by=c(\"Chr\", \"Start\", \"End\")\n",
    "                          ) %>%\n",
    "    select(Name, Strand, Chr.y, Start.y, End.y, Sample, Start.x, End.x) %>%\n",
    "    dplyr::rename(Chr=Chr.y, Start=Start.y, End=End.y, ins_Start=Start.x, ins_End=End.x) %>%\n",
    "    filter(Start == unc_ait_annotated[cur_row,]$Start | \n",
    "           Start == unc_ait_annotated[cur_row,]$End | \n",
    "           End == unc_ait_annotated[cur_row,]$Start | \n",
    "           End == unc_ait_annotated[cur_row,]$End)\n",
    "    \n",
    "    all_uncategorized_ins <- bind_rows(all_uncategorized_ins, tmp_merge_ins_sam)\n",
    "}\n",
    "\n",
    "head(all_uncategorized_ins)"
   ]
  },
  {
   "cell_type": "code",
   "execution_count": 21,
   "id": "75ad6c5f-c08d-4dea-a67d-5f3ee149471c",
   "metadata": {},
   "outputs": [
    {
     "data": {
      "text/html": [
       "<table class=\"dataframe\">\n",
       "<caption>A tibble: 6 × 8</caption>\n",
       "<thead>\n",
       "\t<tr><th scope=col>Name</th><th scope=col>Strand</th><th scope=col>Chr</th><th scope=col>Start</th><th scope=col>End</th><th scope=col>Sample</th><th scope=col>ins_Start</th><th scope=col>ins_End</th></tr>\n",
       "\t<tr><th scope=col>&lt;chr&gt;</th><th scope=col>&lt;chr&gt;</th><th scope=col>&lt;chr&gt;</th><th scope=col>&lt;int&gt;</th><th scope=col>&lt;dbl&gt;</th><th scope=col>&lt;chr&gt;</th><th scope=col>&lt;int&gt;</th><th scope=col>&lt;int&gt;</th></tr>\n",
       "</thead>\n",
       "<tbody>\n",
       "\t<tr><td>E00591:404:HFCMWCCX2:7:1101:26971:38051</td><td>2</td><td>1</td><td>38393425</td><td>38393520</td><td>Col-01</td><td>38393512</td><td>38393520</td></tr>\n",
       "\t<tr><td>E00591:404:HFCMWCCX2:7:1101:3082:7814  </td><td>2</td><td>1</td><td>38393442</td><td>38393520</td><td>Col-01</td><td>38393512</td><td>38393520</td></tr>\n",
       "\t<tr><td>E00591:404:HFCMWCCX2:7:1101:22516:8464 </td><td>2</td><td>1</td><td>38393512</td><td>38393533</td><td>Col-01</td><td>38393512</td><td>38393520</td></tr>\n",
       "\t<tr><td>E00591:404:HFCMWCCX2:7:1101:24688:45734</td><td>2</td><td>1</td><td>38393512</td><td>38393550</td><td>Col-01</td><td>38393512</td><td>38393520</td></tr>\n",
       "\t<tr><td>E00591:404:HFCMWCCX2:7:1102:14377:11101</td><td>2</td><td>1</td><td>39235046</td><td>39235094</td><td>Col-01</td><td>39235086</td><td>39235094</td></tr>\n",
       "\t<tr><td>E00591:404:HFCMWCCX2:7:1102:24748:8570 </td><td>2</td><td>1</td><td>39235048</td><td>39235094</td><td>Col-01</td><td>39235086</td><td>39235094</td></tr>\n",
       "</tbody>\n",
       "</table>\n"
      ],
      "text/latex": [
       "A tibble: 6 × 8\n",
       "\\begin{tabular}{llllllll}\n",
       " Name & Strand & Chr & Start & End & Sample & ins\\_Start & ins\\_End\\\\\n",
       " <chr> & <chr> & <chr> & <int> & <dbl> & <chr> & <int> & <int>\\\\\n",
       "\\hline\n",
       "\t E00591:404:HFCMWCCX2:7:1101:26971:38051 & 2 & 1 & 38393425 & 38393520 & Col-01 & 38393512 & 38393520\\\\\n",
       "\t E00591:404:HFCMWCCX2:7:1101:3082:7814   & 2 & 1 & 38393442 & 38393520 & Col-01 & 38393512 & 38393520\\\\\n",
       "\t E00591:404:HFCMWCCX2:7:1101:22516:8464  & 2 & 1 & 38393512 & 38393533 & Col-01 & 38393512 & 38393520\\\\\n",
       "\t E00591:404:HFCMWCCX2:7:1101:24688:45734 & 2 & 1 & 38393512 & 38393550 & Col-01 & 38393512 & 38393520\\\\\n",
       "\t E00591:404:HFCMWCCX2:7:1102:14377:11101 & 2 & 1 & 39235046 & 39235094 & Col-01 & 39235086 & 39235094\\\\\n",
       "\t E00591:404:HFCMWCCX2:7:1102:24748:8570  & 2 & 1 & 39235048 & 39235094 & Col-01 & 39235086 & 39235094\\\\\n",
       "\\end{tabular}\n"
      ],
      "text/markdown": [
       "\n",
       "A tibble: 6 × 8\n",
       "\n",
       "| Name &lt;chr&gt; | Strand &lt;chr&gt; | Chr &lt;chr&gt; | Start &lt;int&gt; | End &lt;dbl&gt; | Sample &lt;chr&gt; | ins_Start &lt;int&gt; | ins_End &lt;int&gt; |\n",
       "|---|---|---|---|---|---|---|---|\n",
       "| E00591:404:HFCMWCCX2:7:1101:26971:38051 | 2 | 1 | 38393425 | 38393520 | Col-01 | 38393512 | 38393520 |\n",
       "| E00591:404:HFCMWCCX2:7:1101:3082:7814   | 2 | 1 | 38393442 | 38393520 | Col-01 | 38393512 | 38393520 |\n",
       "| E00591:404:HFCMWCCX2:7:1101:22516:8464  | 2 | 1 | 38393512 | 38393533 | Col-01 | 38393512 | 38393520 |\n",
       "| E00591:404:HFCMWCCX2:7:1101:24688:45734 | 2 | 1 | 38393512 | 38393550 | Col-01 | 38393512 | 38393520 |\n",
       "| E00591:404:HFCMWCCX2:7:1102:14377:11101 | 2 | 1 | 39235046 | 39235094 | Col-01 | 39235086 | 39235094 |\n",
       "| E00591:404:HFCMWCCX2:7:1102:24748:8570  | 2 | 1 | 39235048 | 39235094 | Col-01 | 39235086 | 39235094 |\n",
       "\n"
      ],
      "text/plain": [
       "  Name                                    Strand Chr Start    End      Sample\n",
       "1 E00591:404:HFCMWCCX2:7:1101:26971:38051 2      1   38393425 38393520 Col-01\n",
       "2 E00591:404:HFCMWCCX2:7:1101:3082:7814   2      1   38393442 38393520 Col-01\n",
       "3 E00591:404:HFCMWCCX2:7:1101:22516:8464  2      1   38393512 38393533 Col-01\n",
       "4 E00591:404:HFCMWCCX2:7:1101:24688:45734 2      1   38393512 38393550 Col-01\n",
       "5 E00591:404:HFCMWCCX2:7:1102:14377:11101 2      1   39235046 39235094 Col-01\n",
       "6 E00591:404:HFCMWCCX2:7:1102:24748:8570  2      1   39235048 39235094 Col-01\n",
       "  ins_Start ins_End \n",
       "1 38393512  38393520\n",
       "2 38393512  38393520\n",
       "3 38393512  38393520\n",
       "4 38393512  38393520\n",
       "5 39235086  39235094\n",
       "6 39235086  39235094"
      ]
     },
     "metadata": {},
     "output_type": "display_data"
    },
    {
     "data": {
      "text/html": [
       "3480"
      ],
      "text/latex": [
       "3480"
      ],
      "text/markdown": [
       "3480"
      ],
      "text/plain": [
       "[1] 3480"
      ]
     },
     "metadata": {},
     "output_type": "display_data"
    }
   ],
   "source": [
    "head(all_uncategorized_ins)\n",
    "nrow(all_uncategorized_ins)\n",
    "\n",
    "\n",
    "#split into forward and reverse reads\n",
    "strand_1_uncategorized_ins <- all_uncategorized_ins %>%\n",
    "  filter(Strand == \"1\")\n",
    "\n",
    "strand_2_uncategorized_ins <- all_uncategorized_ins %>%\n",
    "  filter(Strand == \"2\")\n",
    "\n",
    "\n",
    "#create files only with headers\n",
    "headers_all_uncategorized_ins <- all_uncategorized_ins %>%\n",
    "  select(Name)\n",
    "\n",
    "headers_strand_1_uncategorized_ins <- strand_1_uncategorized_ins %>%\n",
    "  select(Name)\n",
    "\n",
    "headers_strand_2_uncategorized_ins <- strand_2_uncategorized_ins %>%\n",
    "  select(Name)\n",
    "\n",
    "\n",
    "#names(headers_all_uncategorized_ins) <- NULL\n",
    "\n",
    "#head(headers_all_uncategorized_ins)\n",
    "\n",
    "#getwd()\n",
    "#?write.csv\n",
    "\n",
    "#write table for all_uncategorized_ins\n",
    "write.csv(all_uncategorized_ins, \"all_uncategorized_ins.csv\", quote=FALSE, row.names=FALSE)\n",
    "\n",
    "#header files for strand 1 and 2 seperate\n",
    "write.csv(headers_strand_1_uncategorized_ins, \"headers_strand_1_uncategorized_ins.csv\", quote=FALSE, row.names=FALSE)\n",
    "write.csv(headers_strand_2_uncategorized_ins, \"headers_strand_2_uncategorized_ins.csv\", quote=FALSE, row.names=FALSE)"
   ]
  },
  {
   "cell_type": "markdown",
   "id": "f4482993-9ee5-4f4f-bd80-f6e015fb60cb",
   "metadata": {
    "tags": []
   },
   "source": [
    "### distribution of counts"
   ]
  },
  {
   "cell_type": "code",
   "execution_count": 93,
   "id": "b42d8b64-cb76-4b7c-8cc6-2345df1b52e1",
   "metadata": {},
   "outputs": [
    {
     "data": {
      "text/html": [
       "<table class=\"dataframe\">\n",
       "<caption>A tibble: 7 × 2</caption>\n",
       "<thead>\n",
       "\t<tr><th scope=col>type_max_name</th><th scope=col>look</th></tr>\n",
       "\t<tr><th scope=col>&lt;chr&gt;</th><th scope=col>&lt;int&gt;</th></tr>\n",
       "</thead>\n",
       "<tbody>\n",
       "\t<tr><td>Mu1     </td><td> 113</td></tr>\n",
       "\t<tr><td>Mu11    </td><td>   1</td></tr>\n",
       "\t<tr><td>Mu4     </td><td> 662</td></tr>\n",
       "\t<tr><td>Mu8     </td><td>   2</td></tr>\n",
       "\t<tr><td>MuDR    </td><td>1430</td></tr>\n",
       "\t<tr><td>NO READS</td><td> 533</td></tr>\n",
       "\t<tr><td>TIED    </td><td>1939</td></tr>\n",
       "</tbody>\n",
       "</table>\n"
      ],
      "text/latex": [
       "A tibble: 7 × 2\n",
       "\\begin{tabular}{ll}\n",
       " type\\_max\\_name & look\\\\\n",
       " <chr> & <int>\\\\\n",
       "\\hline\n",
       "\t Mu1      &  113\\\\\n",
       "\t Mu11     &    1\\\\\n",
       "\t Mu4      &  662\\\\\n",
       "\t Mu8      &    2\\\\\n",
       "\t MuDR     & 1430\\\\\n",
       "\t NO READS &  533\\\\\n",
       "\t TIED     & 1939\\\\\n",
       "\\end{tabular}\n"
      ],
      "text/markdown": [
       "\n",
       "A tibble: 7 × 2\n",
       "\n",
       "| type_max_name &lt;chr&gt; | look &lt;int&gt; |\n",
       "|---|---|\n",
       "| Mu1      |  113 |\n",
       "| Mu11     |    1 |\n",
       "| Mu4      |  662 |\n",
       "| Mu8      |    2 |\n",
       "| MuDR     | 1430 |\n",
       "| NO READS |  533 |\n",
       "| TIED     | 1939 |\n",
       "\n"
      ],
      "text/plain": [
       "  type_max_name look\n",
       "1 Mu1            113\n",
       "2 Mu11             1\n",
       "3 Mu4            662\n",
       "4 Mu8              2\n",
       "5 MuDR          1430\n",
       "6 NO READS       533\n",
       "7 TIED          1939"
      ]
     },
     "metadata": {},
     "output_type": "display_data"
    }
   ],
   "source": [
    "sss %>%\n",
    "#  filter(Sample == \"Row-01\") %>%\n",
    "  group_by(type_max_name) %>%\n",
    "  summarize(look = n())"
   ]
  },
  {
   "cell_type": "code",
   "execution_count": 98,
   "id": "af2d43f9-fdd3-44cb-a5cb-5bdea310180a",
   "metadata": {},
   "outputs": [
    {
     "data": {
      "image/png": "[encoded data removed]",
      "text/plain": [
       "Plot with title “Histogram of .”"
      ]
     },
     "metadata": {
      "image/png": {
       "height": 420,
       "width": 420
      }
     },
     "output_type": "display_data"
    },
    {
     "data": {
      "image/png": "[encoded data removed]",
      "text/plain": [
       "Plot with title “Histogram of .”"
      ]
     },
     "metadata": {
      "image/png": {
       "height": 420,
       "width": 420
      }
     },
     "output_type": "display_data"
    }
   ],
   "source": [
    "sss %>%\n",
    "  pull(all_max_value) %>%\n",
    "  log() %>%\n",
    "  hist()\n",
    "\n",
    "sss %>%\n",
    "  pull(type_max_value) %>%\n",
    "  log() %>%\n",
    "  hist()"
   ]
  },
  {
   "cell_type": "code",
   "execution_count": 109,
   "id": "ef8db82c-efba-46bc-b7a7-5123ef4077b3",
   "metadata": {},
   "outputs": [
    {
     "data": {
      "text/html": [
       "<table class=\"dataframe\">\n",
       "<caption>A rowwise_df: 6 × 2</caption>\n",
       "<thead>\n",
       "\t<tr><th scope=col>TotalReads</th><th scope=col>type_max_value</th></tr>\n",
       "\t<tr><th scope=col>&lt;int&gt;</th><th scope=col>&lt;dbl&gt;</th></tr>\n",
       "</thead>\n",
       "<tbody>\n",
       "\t<tr><td> 4</td><td>0</td></tr>\n",
       "\t<tr><td> 4</td><td>4</td></tr>\n",
       "\t<tr><td>13</td><td>6</td></tr>\n",
       "\t<tr><td> 6</td><td>4</td></tr>\n",
       "\t<tr><td>17</td><td>8</td></tr>\n",
       "\t<tr><td>14</td><td>4</td></tr>\n",
       "</tbody>\n",
       "</table>\n"
      ],
      "text/latex": [
       "A rowwise\\_df: 6 × 2\n",
       "\\begin{tabular}{ll}\n",
       " TotalReads & type\\_max\\_value\\\\\n",
       " <int> & <dbl>\\\\\n",
       "\\hline\n",
       "\t  4 & 0\\\\\n",
       "\t  4 & 4\\\\\n",
       "\t 13 & 6\\\\\n",
       "\t  6 & 4\\\\\n",
       "\t 17 & 8\\\\\n",
       "\t 14 & 4\\\\\n",
       "\\end{tabular}\n"
      ],
      "text/markdown": [
       "\n",
       "A rowwise_df: 6 × 2\n",
       "\n",
       "| TotalReads &lt;int&gt; | type_max_value &lt;dbl&gt; |\n",
       "|---|---|\n",
       "|  4 | 0 |\n",
       "|  4 | 4 |\n",
       "| 13 | 6 |\n",
       "|  6 | 4 |\n",
       "| 17 | 8 |\n",
       "| 14 | 4 |\n",
       "\n"
      ],
      "text/plain": [
       "  TotalReads type_max_value\n",
       "1  4         0             \n",
       "2  4         4             \n",
       "3 13         6             \n",
       "4  6         4             \n",
       "5 17         8             \n",
       "6 14         4             "
      ]
     },
     "metadata": {},
     "output_type": "display_data"
    },
    {
     "data": {
      "text/html": [
       "65933"
      ],
      "text/latex": [
       "65933"
      ],
      "text/markdown": [
       "65933"
      ],
      "text/plain": [
       "[1] 65933"
      ]
     },
     "metadata": {},
     "output_type": "display_data"
    },
    {
     "data": {
      "text/html": [
       "24606"
      ],
      "text/latex": [
       "24606"
      ],
      "text/markdown": [
       "24606"
      ],
      "text/plain": [
       "[1] 24606"
      ]
     },
     "metadata": {},
     "output_type": "display_data"
    }
   ],
   "source": [
    "sss %>%\n",
    "  select(TotalReads, type_max_value) %>%\n",
    "  head()\n",
    "\n",
    "sss %>%\n",
    "  pull(TotalReads) %>%\n",
    "  sum()\n",
    "\n",
    "\n",
    "sss %>%\n",
    "  pull(type_max_value) %>%\n",
    "  sum()\n"
   ]
  },
  {
   "cell_type": "code",
   "execution_count": 111,
   "id": "5196ebf1-6e43-4e13-a84d-b6f02a60a0d9",
   "metadata": {},
   "outputs": [
    {
     "data": {
      "text/html": [
       "0.140287244852918"
      ],
      "text/latex": [
       "0.140287244852918"
      ],
      "text/markdown": [
       "0.140287244852918"
      ],
      "text/plain": [
       "[1] 0.1402872"
      ]
     },
     "metadata": {},
     "output_type": "display_data"
    }
   ],
   "source": [
    "q <- 8\n",
    "m <- 24606\n",
    "n <- 65933 - 24606\n",
    "k <- 17\n",
    "\n",
    "\n",
    "phyper(q, m, n, k, lower.tail = FALSE)"
   ]
  },
  {
   "cell_type": "code",
   "execution_count": 41,
   "id": "9031a583-47cb-4b66-8afd-ee59f317a897",
   "metadata": {},
   "outputs": [],
   "source": [
    "#?phyper"
   ]
  },
  {
   "cell_type": "code",
   "execution_count": null,
   "id": "85d05961-5943-4d6a-9822-d5404dd0dfd4",
   "metadata": {},
   "outputs": [],
   "source": []
  }
 ],
 "metadata": {
  "kernelspec": {
   "display_name": "R",
   "language": "R",
   "name": "ir"
  },
  "language_info": {
   "codemirror_mode": "r",
   "file_extension": ".r",
   "mimetype": "text/x-r-source",
   "name": "R",
   "pygments_lexer": "r",
   "version": "4.1.0"
  }
 },
 "nbformat": 4,
 "nbformat_minor": 5
}
