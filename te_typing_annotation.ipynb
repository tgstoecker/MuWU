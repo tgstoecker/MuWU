{
 "cells": [
  {
   "cell_type": "code",
   "execution_count": 78,
   "id": "faa925d7-3174-4e02-9a4c-3dc3ee4549dc",
   "metadata": {},
   "outputs": [],
   "source": [
    "library(dplyr)\n",
    "library(fuzzyjoin)\n",
    "library(readxl)\n",
    "library(IRanges)\n",
    "\n",
    "#install.packages(\"stringr\")\n",
    "library(stringr)\n",
    "library(tidyr)"
   ]
  },
  {
   "cell_type": "code",
   "execution_count": 223,
   "id": "7bf8f4bb-55e1-4841-94a9-725de3e5d0bd",
   "metadata": {},
   "outputs": [],
   "source": [
    "#samples <- snakemake@params[[\"samples\"]]\n",
    "#all_types <- snakemake@params[[\"all_types\"]]\n",
    "\n",
    "\n",
    "samples <- c('Row-01', 'Row-02', 'Row-03', 'Row-04',\n",
    "             'Col-01', 'Col-02', 'Col-03', 'Col-04')\n",
    "\n",
    "all_types <- c(\"Mu1_L\", \"Mu1_R\",\n",
    "\"Mu2_L\",\n",
    "\"Mu2_R\",\n",
    "\"Mu3_L\",\n",
    "\"Mu3_R\",\n",
    "\"Mu4_L\",\n",
    "\"Mu4_R\",\n",
    "\"Mu5_L\",\n",
    "\"Mu5_R\",\n",
    "\"Mu7_L\",\n",
    "\"Mu7_R\",\n",
    "\"Mu8_L\",\n",
    "\"Mu8_R\",\n",
    "\"MuDR_L\",\n",
    "\"MuDR_R\",\n",
    "\"Mu10_L\",\n",
    "\"Mu10_R\",\n",
    "\"Mu11_L\",\n",
    "\"Mu11_R\",\n",
    "\"Mu12_L\",\n",
    "\"Mu12_R\",\n",
    "\"Mu13_L\",\n",
    "\"Mu13_R\",\n",
    "\"Mu14_L\",\n",
    "\"Mu14_R\",\n",
    "\"Mu15_L\",\n",
    "\"Mu15_R\",\n",
    "\"Mu16_L\",\n",
    "\"Mu16_R\",\n",
    "\"Mu17_L\",\n",
    "\"Mu17_R\",\n",
    "\"Mu18_L\",\n",
    "\"Mu18_R\",\n",
    "\"Mu19_L\",\n",
    "\"Mu19_R\")\n",
    "\n",
    "\n",
    "\n",
    "all_insertions <- read.csv(\"results/insertions_table_final/all_identified_insertions.csv\", header = TRUE)"
   ]
  },
  {
   "cell_type": "code",
   "execution_count": 224,
   "id": "22233dc5-f8d3-49bc-a3f5-fae9b2543bab",
   "metadata": {},
   "outputs": [
    {
     "data": {
      "text/html": [
       "<style>\n",
       ".list-inline {list-style: none; margin:0; padding: 0}\n",
       ".list-inline>li {display: inline-block}\n",
       ".list-inline>li:not(:last-child)::after {content: \"\\00b7\"; padding: 0 .5ex}\n",
       "</style>\n",
       "<ol class=list-inline><li>'Mu1'</li><li>'Mu2'</li><li>'Mu3'</li><li>'Mu4'</li><li>'Mu5'</li><li>'Mu7'</li><li>'Mu8'</li><li>'MuDR'</li><li>'Mu10'</li><li>'Mu11'</li><li>'Mu12'</li><li>'Mu13'</li><li>'Mu14'</li><li>'Mu15'</li><li>'Mu16'</li><li>'Mu17'</li><li>'Mu18'</li><li>'Mu19'</li></ol>\n"
      ],
      "text/latex": [
       "\\begin{enumerate*}\n",
       "\\item 'Mu1'\n",
       "\\item 'Mu2'\n",
       "\\item 'Mu3'\n",
       "\\item 'Mu4'\n",
       "\\item 'Mu5'\n",
       "\\item 'Mu7'\n",
       "\\item 'Mu8'\n",
       "\\item 'MuDR'\n",
       "\\item 'Mu10'\n",
       "\\item 'Mu11'\n",
       "\\item 'Mu12'\n",
       "\\item 'Mu13'\n",
       "\\item 'Mu14'\n",
       "\\item 'Mu15'\n",
       "\\item 'Mu16'\n",
       "\\item 'Mu17'\n",
       "\\item 'Mu18'\n",
       "\\item 'Mu19'\n",
       "\\end{enumerate*}\n"
      ],
      "text/markdown": [
       "1. 'Mu1'\n",
       "2. 'Mu2'\n",
       "3. 'Mu3'\n",
       "4. 'Mu4'\n",
       "5. 'Mu5'\n",
       "6. 'Mu7'\n",
       "7. 'Mu8'\n",
       "8. 'MuDR'\n",
       "9. 'Mu10'\n",
       "10. 'Mu11'\n",
       "11. 'Mu12'\n",
       "12. 'Mu13'\n",
       "13. 'Mu14'\n",
       "14. 'Mu15'\n",
       "15. 'Mu16'\n",
       "16. 'Mu17'\n",
       "17. 'Mu18'\n",
       "18. 'Mu19'\n",
       "\n",
       "\n"
      ],
      "text/plain": [
       " [1] \"Mu1\"  \"Mu2\"  \"Mu3\"  \"Mu4\"  \"Mu5\"  \"Mu7\"  \"Mu8\"  \"MuDR\" \"Mu10\" \"Mu11\"\n",
       "[11] \"Mu12\" \"Mu13\" \"Mu14\" \"Mu15\" \"Mu16\" \"Mu17\" \"Mu18\" \"Mu19\""
      ]
     },
     "metadata": {},
     "output_type": "display_data"
    }
   ],
   "source": [
    "base_all_types <- str_remove(all_types, c(\"_L\"))\n",
    "base_all_types <- str_remove(base_all_types, c(\"_R\"))\n",
    "base_all_types <- unique(base_all_types)\n",
    "base_all_types"
   ]
  },
  {
   "cell_type": "code",
   "execution_count": 225,
   "id": "447f442c-8933-47a4-8c08-302838cae3df",
   "metadata": {},
   "outputs": [
    {
     "data": {
      "text/html": [
       "<table class=\"dataframe\">\n",
       "<caption>A data.frame: 6 × 43</caption>\n",
       "<thead>\n",
       "\t<tr><th></th><th scope=col>Chr</th><th scope=col>Start</th><th scope=col>End</th><th scope=col>Sample</th><th scope=col>StartReads</th><th scope=col>EndReads</th><th scope=col>Mu1_L</th><th scope=col>Mu1_R</th><th scope=col>Mu2_L</th><th scope=col>Mu2_R</th><th scope=col>⋯</th><th scope=col>Mu15_R</th><th scope=col>Mu16_L</th><th scope=col>Mu16_R</th><th scope=col>Mu17_L</th><th scope=col>Mu17_R</th><th scope=col>Mu18_L</th><th scope=col>Mu18_R</th><th scope=col>Mu19_L</th><th scope=col>Mu19_R</th><th scope=col>uncategorized</th></tr>\n",
       "\t<tr><th></th><th scope=col>&lt;chr&gt;</th><th scope=col>&lt;int&gt;</th><th scope=col>&lt;int&gt;</th><th scope=col>&lt;chr&gt;</th><th scope=col>&lt;int&gt;</th><th scope=col>&lt;int&gt;</th><th scope=col>&lt;dbl&gt;</th><th scope=col>&lt;dbl&gt;</th><th scope=col>&lt;dbl&gt;</th><th scope=col>&lt;dbl&gt;</th><th scope=col>⋯</th><th scope=col>&lt;dbl&gt;</th><th scope=col>&lt;dbl&gt;</th><th scope=col>&lt;dbl&gt;</th><th scope=col>&lt;dbl&gt;</th><th scope=col>&lt;dbl&gt;</th><th scope=col>&lt;dbl&gt;</th><th scope=col>&lt;dbl&gt;</th><th scope=col>&lt;dbl&gt;</th><th scope=col>&lt;dbl&gt;</th><th scope=col>&lt;dbl&gt;</th></tr>\n",
       "</thead>\n",
       "<tbody>\n",
       "\t<tr><th scope=row>1</th><td>1</td><td>3124440</td><td>3124448</td><td>Col-01</td><td> 2</td><td>2</td><td>0</td><td>0</td><td>0</td><td>0</td><td>⋯</td><td>0</td><td>0</td><td>0</td><td>0</td><td>0</td><td>0</td><td>0</td><td>0</td><td>0</td><td>0</td></tr>\n",
       "\t<tr><th scope=row>2</th><td>1</td><td>3772030</td><td>3772038</td><td>Col-01</td><td> 2</td><td>2</td><td>0</td><td>0</td><td>0</td><td>0</td><td>⋯</td><td>0</td><td>0</td><td>0</td><td>0</td><td>0</td><td>0</td><td>0</td><td>0</td><td>0</td><td>0</td></tr>\n",
       "\t<tr><th scope=row>3</th><td>1</td><td>4498708</td><td>4498716</td><td>Col-01</td><td> 8</td><td>5</td><td>0</td><td>0</td><td>0</td><td>0</td><td>⋯</td><td>0</td><td>0</td><td>0</td><td>0</td><td>0</td><td>0</td><td>0</td><td>0</td><td>0</td><td>0</td></tr>\n",
       "\t<tr><th scope=row>4</th><td>1</td><td>4736284</td><td>4736292</td><td>Col-01</td><td> 4</td><td>2</td><td>0</td><td>0</td><td>0</td><td>0</td><td>⋯</td><td>0</td><td>0</td><td>0</td><td>0</td><td>0</td><td>0</td><td>0</td><td>0</td><td>0</td><td>0</td></tr>\n",
       "\t<tr><th scope=row>5</th><td>1</td><td>4909718</td><td>4909726</td><td>Col-01</td><td> 9</td><td>8</td><td>0</td><td>0</td><td>0</td><td>0</td><td>⋯</td><td>0</td><td>0</td><td>0</td><td>0</td><td>0</td><td>0</td><td>0</td><td>0</td><td>0</td><td>0</td></tr>\n",
       "\t<tr><th scope=row>6</th><td>1</td><td>8308462</td><td>8308470</td><td>Col-01</td><td>12</td><td>2</td><td>0</td><td>0</td><td>0</td><td>0</td><td>⋯</td><td>0</td><td>0</td><td>0</td><td>0</td><td>0</td><td>0</td><td>0</td><td>0</td><td>0</td><td>0</td></tr>\n",
       "</tbody>\n",
       "</table>\n"
      ],
      "text/latex": [
       "A data.frame: 6 × 43\n",
       "\\begin{tabular}{r|lllllllllllllllllllll}\n",
       "  & Chr & Start & End & Sample & StartReads & EndReads & Mu1\\_L & Mu1\\_R & Mu2\\_L & Mu2\\_R & ⋯ & Mu15\\_R & Mu16\\_L & Mu16\\_R & Mu17\\_L & Mu17\\_R & Mu18\\_L & Mu18\\_R & Mu19\\_L & Mu19\\_R & uncategorized\\\\\n",
       "  & <chr> & <int> & <int> & <chr> & <int> & <int> & <dbl> & <dbl> & <dbl> & <dbl> & ⋯ & <dbl> & <dbl> & <dbl> & <dbl> & <dbl> & <dbl> & <dbl> & <dbl> & <dbl> & <dbl>\\\\\n",
       "\\hline\n",
       "\t1 & 1 & 3124440 & 3124448 & Col-01 &  2 & 2 & 0 & 0 & 0 & 0 & ⋯ & 0 & 0 & 0 & 0 & 0 & 0 & 0 & 0 & 0 & 0\\\\\n",
       "\t2 & 1 & 3772030 & 3772038 & Col-01 &  2 & 2 & 0 & 0 & 0 & 0 & ⋯ & 0 & 0 & 0 & 0 & 0 & 0 & 0 & 0 & 0 & 0\\\\\n",
       "\t3 & 1 & 4498708 & 4498716 & Col-01 &  8 & 5 & 0 & 0 & 0 & 0 & ⋯ & 0 & 0 & 0 & 0 & 0 & 0 & 0 & 0 & 0 & 0\\\\\n",
       "\t4 & 1 & 4736284 & 4736292 & Col-01 &  4 & 2 & 0 & 0 & 0 & 0 & ⋯ & 0 & 0 & 0 & 0 & 0 & 0 & 0 & 0 & 0 & 0\\\\\n",
       "\t5 & 1 & 4909718 & 4909726 & Col-01 &  9 & 8 & 0 & 0 & 0 & 0 & ⋯ & 0 & 0 & 0 & 0 & 0 & 0 & 0 & 0 & 0 & 0\\\\\n",
       "\t6 & 1 & 8308462 & 8308470 & Col-01 & 12 & 2 & 0 & 0 & 0 & 0 & ⋯ & 0 & 0 & 0 & 0 & 0 & 0 & 0 & 0 & 0 & 0\\\\\n",
       "\\end{tabular}\n"
      ],
      "text/markdown": [
       "\n",
       "A data.frame: 6 × 43\n",
       "\n",
       "| <!--/--> | Chr &lt;chr&gt; | Start &lt;int&gt; | End &lt;int&gt; | Sample &lt;chr&gt; | StartReads &lt;int&gt; | EndReads &lt;int&gt; | Mu1_L &lt;dbl&gt; | Mu1_R &lt;dbl&gt; | Mu2_L &lt;dbl&gt; | Mu2_R &lt;dbl&gt; | ⋯ ⋯ | Mu15_R &lt;dbl&gt; | Mu16_L &lt;dbl&gt; | Mu16_R &lt;dbl&gt; | Mu17_L &lt;dbl&gt; | Mu17_R &lt;dbl&gt; | Mu18_L &lt;dbl&gt; | Mu18_R &lt;dbl&gt; | Mu19_L &lt;dbl&gt; | Mu19_R &lt;dbl&gt; | uncategorized &lt;dbl&gt; |\n",
       "|---|---|---|---|---|---|---|---|---|---|---|---|---|---|---|---|---|---|---|---|---|---|\n",
       "| 1 | 1 | 3124440 | 3124448 | Col-01 |  2 | 2 | 0 | 0 | 0 | 0 | ⋯ | 0 | 0 | 0 | 0 | 0 | 0 | 0 | 0 | 0 | 0 |\n",
       "| 2 | 1 | 3772030 | 3772038 | Col-01 |  2 | 2 | 0 | 0 | 0 | 0 | ⋯ | 0 | 0 | 0 | 0 | 0 | 0 | 0 | 0 | 0 | 0 |\n",
       "| 3 | 1 | 4498708 | 4498716 | Col-01 |  8 | 5 | 0 | 0 | 0 | 0 | ⋯ | 0 | 0 | 0 | 0 | 0 | 0 | 0 | 0 | 0 | 0 |\n",
       "| 4 | 1 | 4736284 | 4736292 | Col-01 |  4 | 2 | 0 | 0 | 0 | 0 | ⋯ | 0 | 0 | 0 | 0 | 0 | 0 | 0 | 0 | 0 | 0 |\n",
       "| 5 | 1 | 4909718 | 4909726 | Col-01 |  9 | 8 | 0 | 0 | 0 | 0 | ⋯ | 0 | 0 | 0 | 0 | 0 | 0 | 0 | 0 | 0 | 0 |\n",
       "| 6 | 1 | 8308462 | 8308470 | Col-01 | 12 | 2 | 0 | 0 | 0 | 0 | ⋯ | 0 | 0 | 0 | 0 | 0 | 0 | 0 | 0 | 0 | 0 |\n",
       "\n"
      ],
      "text/plain": [
       "  Chr Start   End     Sample StartReads EndReads Mu1_L Mu1_R Mu2_L Mu2_R ⋯\n",
       "1 1   3124440 3124448 Col-01  2         2        0     0     0     0     ⋯\n",
       "2 1   3772030 3772038 Col-01  2         2        0     0     0     0     ⋯\n",
       "3 1   4498708 4498716 Col-01  8         5        0     0     0     0     ⋯\n",
       "4 1   4736284 4736292 Col-01  4         2        0     0     0     0     ⋯\n",
       "5 1   4909718 4909726 Col-01  9         8        0     0     0     0     ⋯\n",
       "6 1   8308462 8308470 Col-01 12         2        0     0     0     0     ⋯\n",
       "  Mu15_R Mu16_L Mu16_R Mu17_L Mu17_R Mu18_L Mu18_R Mu19_L Mu19_R uncategorized\n",
       "1 0      0      0      0      0      0      0      0      0      0            \n",
       "2 0      0      0      0      0      0      0      0      0      0            \n",
       "3 0      0      0      0      0      0      0      0      0      0            \n",
       "4 0      0      0      0      0      0      0      0      0      0            \n",
       "5 0      0      0      0      0      0      0      0      0      0            \n",
       "6 0      0      0      0      0      0      0      0      0      0            "
      ]
     },
     "metadata": {},
     "output_type": "display_data"
    }
   ],
   "source": [
    "#create insertions table with additional columns per (Mu) element/type\n",
    "all_insertions_typed <- all_insertions\n",
    "\n",
    "all_insertions_typed[,all_types]=0\n",
    "#add additional column for uncategorized reads\n",
    "all_insertions_typed[,\"uncategorized\"]=0\n",
    "\n",
    "head(all_insertions_typed)\n",
    "\n",
    "#for (t in all_types) {\n",
    "#  all_insertions_typed %>%\n",
    "#  tibble::add_column(get(t) = 0) %>%\n",
    "#  head() %>% print()\n",
    "#}"
   ]
  },
  {
   "cell_type": "code",
   "execution_count": 226,
   "id": "d095bfcc-d69a-42c5-af8c-762f9368f03e",
   "metadata": {},
   "outputs": [
    {
     "data": {
      "text/html": [
       "<table class=\"dataframe\">\n",
       "<caption>A data.frame: 6 × 3</caption>\n",
       "<thead>\n",
       "\t<tr><th></th><th scope=col>Name</th><th scope=col>Strand</th><th scope=col>Type</th></tr>\n",
       "\t<tr><th></th><th scope=col>&lt;chr&gt;</th><th scope=col>&lt;chr&gt;</th><th scope=col>&lt;chr&gt;</th></tr>\n",
       "</thead>\n",
       "<tbody>\n",
       "\t<tr><th scope=row>1</th><td>E00591:404:HFCMWCCX2:7:1101:10480:1573</td><td>1</td><td>Mu11_L</td></tr>\n",
       "\t<tr><th scope=row>2</th><td>E00591:404:HFCMWCCX2:7:1101:16092:1625</td><td>1</td><td>Mu11_L</td></tr>\n",
       "\t<tr><th scope=row>3</th><td>E00591:404:HFCMWCCX2:7:1101:13646:1678</td><td>1</td><td>Mu11_L</td></tr>\n",
       "\t<tr><th scope=row>4</th><td>E00591:404:HFCMWCCX2:7:1101:14681:1678</td><td>1</td><td>Mu11_L</td></tr>\n",
       "\t<tr><th scope=row>5</th><td>E00591:404:HFCMWCCX2:7:1101:13332:1766</td><td>1</td><td>Mu11_L</td></tr>\n",
       "\t<tr><th scope=row>6</th><td>E00591:404:HFCMWCCX2:7:1101:18182:1766</td><td>1</td><td>Mu11_L</td></tr>\n",
       "</tbody>\n",
       "</table>\n"
      ],
      "text/latex": [
       "A data.frame: 6 × 3\n",
       "\\begin{tabular}{r|lll}\n",
       "  & Name & Strand & Type\\\\\n",
       "  & <chr> & <chr> & <chr>\\\\\n",
       "\\hline\n",
       "\t1 & E00591:404:HFCMWCCX2:7:1101:10480:1573 & 1 & Mu11\\_L\\\\\n",
       "\t2 & E00591:404:HFCMWCCX2:7:1101:16092:1625 & 1 & Mu11\\_L\\\\\n",
       "\t3 & E00591:404:HFCMWCCX2:7:1101:13646:1678 & 1 & Mu11\\_L\\\\\n",
       "\t4 & E00591:404:HFCMWCCX2:7:1101:14681:1678 & 1 & Mu11\\_L\\\\\n",
       "\t5 & E00591:404:HFCMWCCX2:7:1101:13332:1766 & 1 & Mu11\\_L\\\\\n",
       "\t6 & E00591:404:HFCMWCCX2:7:1101:18182:1766 & 1 & Mu11\\_L\\\\\n",
       "\\end{tabular}\n"
      ],
      "text/markdown": [
       "\n",
       "A data.frame: 6 × 3\n",
       "\n",
       "| <!--/--> | Name &lt;chr&gt; | Strand &lt;chr&gt; | Type &lt;chr&gt; |\n",
       "|---|---|---|---|\n",
       "| 1 | E00591:404:HFCMWCCX2:7:1101:10480:1573 | 1 | Mu11_L |\n",
       "| 2 | E00591:404:HFCMWCCX2:7:1101:16092:1625 | 1 | Mu11_L |\n",
       "| 3 | E00591:404:HFCMWCCX2:7:1101:13646:1678 | 1 | Mu11_L |\n",
       "| 4 | E00591:404:HFCMWCCX2:7:1101:14681:1678 | 1 | Mu11_L |\n",
       "| 5 | E00591:404:HFCMWCCX2:7:1101:13332:1766 | 1 | Mu11_L |\n",
       "| 6 | E00591:404:HFCMWCCX2:7:1101:18182:1766 | 1 | Mu11_L |\n",
       "\n"
      ],
      "text/plain": [
       "  Name                                   Strand Type  \n",
       "1 E00591:404:HFCMWCCX2:7:1101:10480:1573 1      Mu11_L\n",
       "2 E00591:404:HFCMWCCX2:7:1101:16092:1625 1      Mu11_L\n",
       "3 E00591:404:HFCMWCCX2:7:1101:13646:1678 1      Mu11_L\n",
       "4 E00591:404:HFCMWCCX2:7:1101:14681:1678 1      Mu11_L\n",
       "5 E00591:404:HFCMWCCX2:7:1101:13332:1766 1      Mu11_L\n",
       "6 E00591:404:HFCMWCCX2:7:1101:18182:1766 1      Mu11_L"
      ]
     },
     "metadata": {},
     "output_type": "display_data"
    }
   ],
   "source": [
    "#read-in final sample files\n",
    "for (s in samples) {\n",
    "  tmp_type_file <- read.csv(paste0(\"results/te_typing/\", s, \"/\", s, \"_te_types_merged.tsv\"), header = TRUE, sep=\"\\t\")\n",
    "  tmp_type_file$Strand <- as.character(tmp_type_file$Strand)\n",
    "  assign(paste0(s, \"_type_file\"), tmp_type_file)\n",
    "}\n",
    "\n",
    "head(`Col-02_type_file`)"
   ]
  },
  {
   "cell_type": "code",
   "execution_count": null,
   "id": "f5e1cd8d-4e79-468b-aa36-691d460060a8",
   "metadata": {},
   "outputs": [],
   "source": []
  },
  {
   "cell_type": "code",
   "execution_count": 227,
   "id": "b8d2048b-3168-4126-9a89-60c3a32831fb",
   "metadata": {},
   "outputs": [],
   "source": [
    "#modified, but core idea idea from here - https://stackoverflow.com/a/12088263\n",
    "number2binary = function(number, noBits) {\n",
    "       binary_vector = rev(as.numeric(intToBits(number)))\n",
    "       if(missing(noBits)) {\n",
    "          return(rev(binary_vector))\n",
    "       } else {\n",
    "          return(rev(binary_vector[-(1:(length(binary_vector) - noBits))]))\n",
    "       }\n",
    "}\n",
    "\n",
    "#num=163\n",
    "#number2binary(num, 8)[7]\n",
    "#number2binary(num, 8)[8]"
   ]
  },
  {
   "cell_type": "code",
   "execution_count": 228,
   "id": "d5882799-2aa0-49d5-bf8d-7d3c35a0ff87",
   "metadata": {},
   "outputs": [],
   "source": [
    "#need to load all sam files\n",
    "for (s in samples) {\n",
    "    SAM_path <- paste0(\"results/dedup_sam/\", s, \".dedup.sam\")\n",
    "    SAM_object <- paste0(\"sam_\", s)\n",
    "    assign(SAM_object, read.csv(SAM_path, sep = \"\\t\", header = FALSE, row.names = NULL))\n",
    "    #take only the forst for columns and the sequence\n",
    "    assign(SAM_object, get(SAM_object)[,c(1:4,10)])\n",
    "    assign(SAM_object,\n",
    "           get(SAM_object) %>%\n",
    "             #some renaming of the header\n",
    "             dplyr::rename(Name=V1, Flag=V2, Chr=V3, Start=V4) %>%\n",
    "             #compute lengths of the alignments\n",
    "             mutate(Length = str_length(V10)) %>%\n",
    "             #compute and add End coordinate of reads\n",
    "             mutate(End = Start+Length-1) %>%\n",
    "             #drop Lengh & V10 (Sequence) columns\n",
    "             select(-V10, -Length) %>%\n",
    "             #translate Flag into forward (+) or reverse (-) strand mapping/read\n",
    "             rowwise() %>%\n",
    "             mutate(\n",
    "               Strand = case_when(\n",
    "                 number2binary(Flag, 8)[7] == 1 & number2binary(Flag, 8)[8] == 0 ~ \"1\",\n",
    "                 number2binary(Flag, 8)[7] == 0 & number2binary(Flag, 8)[8] == 1 ~ \"2\",\n",
    "                 TRUE ~ \"LOST\"\n",
    "               )\n",
    "             ) %>%\n",
    "            select(-Flag) %>%\n",
    "            relocate(Strand, .after=Name)\n",
    "    )\n",
    "}"
   ]
  },
  {
   "cell_type": "code",
   "execution_count": 135,
   "id": "58eefc3d-72c2-4e0c-b41f-a70a5fc35de8",
   "metadata": {},
   "outputs": [
    {
     "data": {
      "text/html": [
       "<table class=\"dataframe\">\n",
       "<caption>A rowwise_df: 6 × 5</caption>\n",
       "<thead>\n",
       "\t<tr><th scope=col>Name</th><th scope=col>Strand</th><th scope=col>Chr</th><th scope=col>Start</th><th scope=col>End</th></tr>\n",
       "\t<tr><th scope=col>&lt;chr&gt;</th><th scope=col>&lt;chr&gt;</th><th scope=col>&lt;chr&gt;</th><th scope=col>&lt;int&gt;</th><th scope=col>&lt;dbl&gt;</th></tr>\n",
       "</thead>\n",
       "<tbody>\n",
       "\t<tr><td>E00591:404:HFCMWCCX2:7:1101:19197:55666</td><td>1</td><td>1</td><td> 44317</td><td> 44343</td></tr>\n",
       "\t<tr><td>E00591:404:HFCMWCCX2:7:1101:19197:55666</td><td>2</td><td>1</td><td> 44317</td><td> 44343</td></tr>\n",
       "\t<tr><td>E00591:404:HFCMWCCX2:7:1101:15138:9572 </td><td>2</td><td>1</td><td>262584</td><td>262627</td></tr>\n",
       "\t<tr><td>E00591:404:HFCMWCCX2:7:1101:15138:9572 </td><td>1</td><td>1</td><td>262584</td><td>262627</td></tr>\n",
       "\t<tr><td>E00591:404:HFCMWCCX2:7:1101:7811:72614 </td><td>1</td><td>1</td><td>971328</td><td>971418</td></tr>\n",
       "\t<tr><td>E00591:404:HFCMWCCX2:7:1101:7811:72614 </td><td>2</td><td>1</td><td>971342</td><td>971418</td></tr>\n",
       "</tbody>\n",
       "</table>\n"
      ],
      "text/latex": [
       "A rowwise\\_df: 6 × 5\n",
       "\\begin{tabular}{lllll}\n",
       " Name & Strand & Chr & Start & End\\\\\n",
       " <chr> & <chr> & <chr> & <int> & <dbl>\\\\\n",
       "\\hline\n",
       "\t E00591:404:HFCMWCCX2:7:1101:19197:55666 & 1 & 1 &  44317 &  44343\\\\\n",
       "\t E00591:404:HFCMWCCX2:7:1101:19197:55666 & 2 & 1 &  44317 &  44343\\\\\n",
       "\t E00591:404:HFCMWCCX2:7:1101:15138:9572  & 2 & 1 & 262584 & 262627\\\\\n",
       "\t E00591:404:HFCMWCCX2:7:1101:15138:9572  & 1 & 1 & 262584 & 262627\\\\\n",
       "\t E00591:404:HFCMWCCX2:7:1101:7811:72614  & 1 & 1 & 971328 & 971418\\\\\n",
       "\t E00591:404:HFCMWCCX2:7:1101:7811:72614  & 2 & 1 & 971342 & 971418\\\\\n",
       "\\end{tabular}\n"
      ],
      "text/markdown": [
       "\n",
       "A rowwise_df: 6 × 5\n",
       "\n",
       "| Name &lt;chr&gt; | Strand &lt;chr&gt; | Chr &lt;chr&gt; | Start &lt;int&gt; | End &lt;dbl&gt; |\n",
       "|---|---|---|---|---|\n",
       "| E00591:404:HFCMWCCX2:7:1101:19197:55666 | 1 | 1 |  44317 |  44343 |\n",
       "| E00591:404:HFCMWCCX2:7:1101:19197:55666 | 2 | 1 |  44317 |  44343 |\n",
       "| E00591:404:HFCMWCCX2:7:1101:15138:9572  | 2 | 1 | 262584 | 262627 |\n",
       "| E00591:404:HFCMWCCX2:7:1101:15138:9572  | 1 | 1 | 262584 | 262627 |\n",
       "| E00591:404:HFCMWCCX2:7:1101:7811:72614  | 1 | 1 | 971328 | 971418 |\n",
       "| E00591:404:HFCMWCCX2:7:1101:7811:72614  | 2 | 1 | 971342 | 971418 |\n",
       "\n"
      ],
      "text/plain": [
       "  Name                                    Strand Chr Start  End   \n",
       "1 E00591:404:HFCMWCCX2:7:1101:19197:55666 1      1    44317  44343\n",
       "2 E00591:404:HFCMWCCX2:7:1101:19197:55666 2      1    44317  44343\n",
       "3 E00591:404:HFCMWCCX2:7:1101:15138:9572  2      1   262584 262627\n",
       "4 E00591:404:HFCMWCCX2:7:1101:15138:9572  1      1   262584 262627\n",
       "5 E00591:404:HFCMWCCX2:7:1101:7811:72614  1      1   971328 971418\n",
       "6 E00591:404:HFCMWCCX2:7:1101:7811:72614  2      1   971342 971418"
      ]
     },
     "metadata": {},
     "output_type": "display_data"
    }
   ],
   "source": [
    "head(`sam_Col-01`)"
   ]
  },
  {
   "cell_type": "markdown",
   "id": "9c9f2c89-7686-4a79-8c91-c86c304cd67c",
   "metadata": {},
   "source": [
    "### Annotating with type information"
   ]
  },
  {
   "cell_type": "code",
   "execution_count": 229,
   "id": "eb607789-98dd-4a8d-9f82-25da84edcb10",
   "metadata": {},
   "outputs": [],
   "source": [
    "for (row in 1:nrow(all_insertions_typed[1:100,])) {\n",
    "  \n",
    "  #take row to work on\n",
    "  tmp_ins <- all_insertions_typed[row,]\n",
    "\n",
    "  #match Sample with sam object\n",
    "  tmp_sam <- get(paste0(\"sam_\", tmp_ins$Sample))\n",
    "\n",
    "  #match sample of insertion file with te typing file\n",
    "  tmp_type_file <- get(paste0(tmp_ins$Sample, \"_type_file\"))\n",
    "\n",
    "\n",
    "  # fuzzyjoin for overlap + end or start needs to match\n",
    "  tmp_merge_ins_sam <- fuzzyjoin::genome_inner_join(tmp_ins,\n",
    "                             tmp_sam, \n",
    "                              by=c(\"Chr\", \"Start\", \"End\")\n",
    "                            ) %>%\n",
    "                       select(Name, Strand, Chr.y, Start.y, End.y) %>%\n",
    "                       dplyr::rename(Chr=Chr.y, Start=Start.y, End=End.y) %>%\n",
    "                       filter(Start == tmp_ins$Start | \n",
    "                              Start == tmp_ins$End | \n",
    "                              End == tmp_ins$Start | \n",
    "                              End == tmp_ins$End)\n",
    "\n",
    "  #associate sam reads with type information\n",
    "  tmp_merge_ins_sam_typed_summary <- dplyr::left_join(tmp_merge_ins_sam, tmp_type_file, by = c(\"Name\"=\"Name\", \"Strand\"=\"Strand\"), na_matches = \"na\") %>%\n",
    "  group_by(Type) %>%\n",
    "  summarize(n = n()) %>%\n",
    "  #change NA to uncategorized\n",
    "  tidyr::replace_na(list(Type = \"uncategorized\"))\n",
    "\n",
    "  #add number of type association to current row\n",
    "  for (t in tmp_merge_ins_sam_typed_summary$Type) {\n",
    "    tmp_ins <- tmp_ins %>%\n",
    "    mutate({{t}} := tmp_merge_ins_sam_typed_summary %>%\n",
    "                 filter(Type == {{t}}) %>%\n",
    "                 pull(n)\n",
    "          )\n",
    "  }\n",
    "    \n",
    "  #switch out new for old row in table\n",
    "  all_insertions_typed[row,] <- tmp_ins\n",
    "}\n",
    "\n",
    "\n"
   ]
  },
  {
   "cell_type": "code",
   "execution_count": 153,
   "id": "d820db4e-f3d8-45d9-856d-c6a052989aeb",
   "metadata": {},
   "outputs": [],
   "source": [
    "#all_insertions_typed %>%\n",
    "#  filter(MuDR_L != 0) %>%\n",
    "#  select(MuDR_L, MuDR_R, Mu8_L, Mu8_R)\n",
    "\n",
    "#all_insertions_typed %>%\n",
    "#  filter(Mu5_R != 0) %>%\n",
    "#  select(Mu5_R, Mu7_L, Mu7_R)"
   ]
  },
  {
   "cell_type": "markdown",
   "id": "a471dc07-88f1-41a4-8e24-59590c02a578",
   "metadata": {},
   "source": [
    "### dev notes and tests"
   ]
  },
  {
   "cell_type": "code",
   "execution_count": 115,
   "id": "2fcb44d8-08ff-45ba-b397-36efef5bec9d",
   "metadata": {},
   "outputs": [
    {
     "data": {
      "text/html": [
       "<table class=\"dataframe\">\n",
       "<caption>A data.frame: 6 × 5</caption>\n",
       "<thead>\n",
       "\t<tr><th></th><th scope=col>Name</th><th scope=col>Strand</th><th scope=col>Chr</th><th scope=col>Start</th><th scope=col>End</th></tr>\n",
       "\t<tr><th></th><th scope=col>&lt;chr&gt;</th><th scope=col>&lt;chr&gt;</th><th scope=col>&lt;chr&gt;</th><th scope=col>&lt;int&gt;</th><th scope=col>&lt;dbl&gt;</th></tr>\n",
       "</thead>\n",
       "<tbody>\n",
       "\t<tr><th scope=row>1</th><td>E00591:404:HFCMWCCX2:7:1102:21947:14441</td><td>2</td><td>1</td><td>4498621</td><td>4498716</td></tr>\n",
       "\t<tr><th scope=row>2</th><td>E00591:404:HFCMWCCX2:7:1101:2757:39036 </td><td>1</td><td>1</td><td>4498662</td><td>4498716</td></tr>\n",
       "\t<tr><th scope=row>3</th><td>E00591:404:HFCMWCCX2:7:1101:2757:39036 </td><td>2</td><td>1</td><td>4498662</td><td>4498716</td></tr>\n",
       "\t<tr><th scope=row>4</th><td>E00591:404:HFCMWCCX2:7:1101:20232:17061</td><td>1</td><td>1</td><td>4498667</td><td>4498716</td></tr>\n",
       "\t<tr><th scope=row>5</th><td>E00591:404:HFCMWCCX2:7:1101:20232:17061</td><td>2</td><td>1</td><td>4498667</td><td>4498716</td></tr>\n",
       "\t<tr><th scope=row>6</th><td>E00591:404:HFCMWCCX2:7:1101:23937:60255</td><td>2</td><td>1</td><td>4498708</td><td>4498766</td></tr>\n",
       "</tbody>\n",
       "</table>\n"
      ],
      "text/latex": [
       "A data.frame: 6 × 5\n",
       "\\begin{tabular}{r|lllll}\n",
       "  & Name & Strand & Chr & Start & End\\\\\n",
       "  & <chr> & <chr> & <chr> & <int> & <dbl>\\\\\n",
       "\\hline\n",
       "\t1 & E00591:404:HFCMWCCX2:7:1102:21947:14441 & 2 & 1 & 4498621 & 4498716\\\\\n",
       "\t2 & E00591:404:HFCMWCCX2:7:1101:2757:39036  & 1 & 1 & 4498662 & 4498716\\\\\n",
       "\t3 & E00591:404:HFCMWCCX2:7:1101:2757:39036  & 2 & 1 & 4498662 & 4498716\\\\\n",
       "\t4 & E00591:404:HFCMWCCX2:7:1101:20232:17061 & 1 & 1 & 4498667 & 4498716\\\\\n",
       "\t5 & E00591:404:HFCMWCCX2:7:1101:20232:17061 & 2 & 1 & 4498667 & 4498716\\\\\n",
       "\t6 & E00591:404:HFCMWCCX2:7:1101:23937:60255 & 2 & 1 & 4498708 & 4498766\\\\\n",
       "\\end{tabular}\n"
      ],
      "text/markdown": [
       "\n",
       "A data.frame: 6 × 5\n",
       "\n",
       "| <!--/--> | Name &lt;chr&gt; | Strand &lt;chr&gt; | Chr &lt;chr&gt; | Start &lt;int&gt; | End &lt;dbl&gt; |\n",
       "|---|---|---|---|---|---|\n",
       "| 1 | E00591:404:HFCMWCCX2:7:1102:21947:14441 | 2 | 1 | 4498621 | 4498716 |\n",
       "| 2 | E00591:404:HFCMWCCX2:7:1101:2757:39036  | 1 | 1 | 4498662 | 4498716 |\n",
       "| 3 | E00591:404:HFCMWCCX2:7:1101:2757:39036  | 2 | 1 | 4498662 | 4498716 |\n",
       "| 4 | E00591:404:HFCMWCCX2:7:1101:20232:17061 | 1 | 1 | 4498667 | 4498716 |\n",
       "| 5 | E00591:404:HFCMWCCX2:7:1101:20232:17061 | 2 | 1 | 4498667 | 4498716 |\n",
       "| 6 | E00591:404:HFCMWCCX2:7:1101:23937:60255 | 2 | 1 | 4498708 | 4498766 |\n",
       "\n"
      ],
      "text/plain": [
       "  Name                                    Strand Chr Start   End    \n",
       "1 E00591:404:HFCMWCCX2:7:1102:21947:14441 2      1   4498621 4498716\n",
       "2 E00591:404:HFCMWCCX2:7:1101:2757:39036  1      1   4498662 4498716\n",
       "3 E00591:404:HFCMWCCX2:7:1101:2757:39036  2      1   4498662 4498716\n",
       "4 E00591:404:HFCMWCCX2:7:1101:20232:17061 1      1   4498667 4498716\n",
       "5 E00591:404:HFCMWCCX2:7:1101:20232:17061 2      1   4498667 4498716\n",
       "6 E00591:404:HFCMWCCX2:7:1101:23937:60255 2      1   4498708 4498766"
      ]
     },
     "metadata": {},
     "output_type": "display_data"
    }
   ],
   "source": [
    "tmp_ins <- all_insertions_typed[3,]\n",
    "#tmp_ins\n",
    "\n",
    "#tmp_ins$Sample\n",
    "#tmp_ins$Start\n",
    "#tmp_ins$End\n",
    "\n",
    "\n",
    "#match Sample with sam object\n",
    "tmp_sam <- get(paste0(\"sam_\", tmp_ins$Sample))\n",
    "\n",
    "#match sample of insertion file with te typing file\n",
    "tmp_type_file <- get(paste0(tmp_ins$Sample, \"_type_file\"))\n",
    "\n",
    "\n",
    "# fuzzyjoin for overlap + end or start needs to match\n",
    "tmp_merge_ins_sam <- fuzzyjoin::genome_inner_join(tmp_ins,\n",
    "                             tmp_sam, \n",
    "                              by=c(\"Chr\", \"Start\", \"End\")\n",
    "                            ) %>%\n",
    "select(Name, Strand, Chr.y, Start.y, End.y) %>%\n",
    "#names()\n",
    "dplyr::rename(Chr=Chr.y, Start=Start.y, End=End.y) %>%\n",
    "filter(Start == tmp_ins$Start | \n",
    "       Start == tmp_ins$End | \n",
    "       End == tmp_ins$Start | \n",
    "       End == tmp_ins$End)\n",
    "\n",
    "\n",
    "head(tmp_merge_ins_sam)"
   ]
  },
  {
   "cell_type": "code",
   "execution_count": 39,
   "id": "eddb81de-cc6f-46e6-99ff-415ad08e3367",
   "metadata": {},
   "outputs": [
    {
     "data": {
      "text/html": [
       "<table class=\"dataframe\">\n",
       "<caption>A data.frame: 6 × 3</caption>\n",
       "<thead>\n",
       "\t<tr><th></th><th scope=col>Name</th><th scope=col>Strand</th><th scope=col>Type</th></tr>\n",
       "\t<tr><th></th><th scope=col>&lt;chr&gt;</th><th scope=col>&lt;int&gt;</th><th scope=col>&lt;chr&gt;</th></tr>\n",
       "</thead>\n",
       "<tbody>\n",
       "\t<tr><th scope=row>1</th><td>E00591:404:HFCMWCCX2:7:1101:17695:1731</td><td>1</td><td>Mu1_L</td></tr>\n",
       "\t<tr><th scope=row>2</th><td>E00591:404:HFCMWCCX2:7:1101:12763:1836</td><td>1</td><td>Mu1_L</td></tr>\n",
       "\t<tr><th scope=row>3</th><td>E00591:404:HFCMWCCX2:7:1101:16528:1854</td><td>1</td><td>Mu1_L</td></tr>\n",
       "\t<tr><th scope=row>4</th><td>E00591:404:HFCMWCCX2:7:1101:19177:1872</td><td>1</td><td>Mu1_L</td></tr>\n",
       "\t<tr><th scope=row>5</th><td>E00591:404:HFCMWCCX2:7:1101:20801:2645</td><td>1</td><td>Mu1_L</td></tr>\n",
       "\t<tr><th scope=row>6</th><td>E00591:404:HFCMWCCX2:7:1101:6502:2803 </td><td>1</td><td>Mu1_L</td></tr>\n",
       "</tbody>\n",
       "</table>\n"
      ],
      "text/latex": [
       "A data.frame: 6 × 3\n",
       "\\begin{tabular}{r|lll}\n",
       "  & Name & Strand & Type\\\\\n",
       "  & <chr> & <int> & <chr>\\\\\n",
       "\\hline\n",
       "\t1 & E00591:404:HFCMWCCX2:7:1101:17695:1731 & 1 & Mu1\\_L\\\\\n",
       "\t2 & E00591:404:HFCMWCCX2:7:1101:12763:1836 & 1 & Mu1\\_L\\\\\n",
       "\t3 & E00591:404:HFCMWCCX2:7:1101:16528:1854 & 1 & Mu1\\_L\\\\\n",
       "\t4 & E00591:404:HFCMWCCX2:7:1101:19177:1872 & 1 & Mu1\\_L\\\\\n",
       "\t5 & E00591:404:HFCMWCCX2:7:1101:20801:2645 & 1 & Mu1\\_L\\\\\n",
       "\t6 & E00591:404:HFCMWCCX2:7:1101:6502:2803  & 1 & Mu1\\_L\\\\\n",
       "\\end{tabular}\n"
      ],
      "text/markdown": [
       "\n",
       "A data.frame: 6 × 3\n",
       "\n",
       "| <!--/--> | Name &lt;chr&gt; | Strand &lt;int&gt; | Type &lt;chr&gt; |\n",
       "|---|---|---|---|\n",
       "| 1 | E00591:404:HFCMWCCX2:7:1101:17695:1731 | 1 | Mu1_L |\n",
       "| 2 | E00591:404:HFCMWCCX2:7:1101:12763:1836 | 1 | Mu1_L |\n",
       "| 3 | E00591:404:HFCMWCCX2:7:1101:16528:1854 | 1 | Mu1_L |\n",
       "| 4 | E00591:404:HFCMWCCX2:7:1101:19177:1872 | 1 | Mu1_L |\n",
       "| 5 | E00591:404:HFCMWCCX2:7:1101:20801:2645 | 1 | Mu1_L |\n",
       "| 6 | E00591:404:HFCMWCCX2:7:1101:6502:2803  | 1 | Mu1_L |\n",
       "\n"
      ],
      "text/plain": [
       "  Name                                   Strand Type \n",
       "1 E00591:404:HFCMWCCX2:7:1101:17695:1731 1      Mu1_L\n",
       "2 E00591:404:HFCMWCCX2:7:1101:12763:1836 1      Mu1_L\n",
       "3 E00591:404:HFCMWCCX2:7:1101:16528:1854 1      Mu1_L\n",
       "4 E00591:404:HFCMWCCX2:7:1101:19177:1872 1      Mu1_L\n",
       "5 E00591:404:HFCMWCCX2:7:1101:20801:2645 1      Mu1_L\n",
       "6 E00591:404:HFCMWCCX2:7:1101:6502:2803  1      Mu1_L"
      ]
     },
     "metadata": {},
     "output_type": "display_data"
    }
   ],
   "source": [
    "#?genome_inner_join\n",
    "#?findOverlaps"
   ]
  },
  {
   "cell_type": "code",
   "execution_count": 116,
   "id": "ecc7b1a2-1d3c-4979-af87-bd262d6908ab",
   "metadata": {},
   "outputs": [
    {
     "data": {
      "text/html": [
       "<table class=\"dataframe\">\n",
       "<caption>A tibble: 2 × 2</caption>\n",
       "<thead>\n",
       "\t<tr><th scope=col>Type</th><th scope=col>n</th></tr>\n",
       "\t<tr><th scope=col>&lt;chr&gt;</th><th scope=col>&lt;int&gt;</th></tr>\n",
       "</thead>\n",
       "<tbody>\n",
       "\t<tr><td>Mu1_R        </td><td> 2</td></tr>\n",
       "\t<tr><td>uncategorized</td><td>11</td></tr>\n",
       "</tbody>\n",
       "</table>\n"
      ],
      "text/latex": [
       "A tibble: 2 × 2\n",
       "\\begin{tabular}{ll}\n",
       " Type & n\\\\\n",
       " <chr> & <int>\\\\\n",
       "\\hline\n",
       "\t Mu1\\_R         &  2\\\\\n",
       "\t uncategorized & 11\\\\\n",
       "\\end{tabular}\n"
      ],
      "text/markdown": [
       "\n",
       "A tibble: 2 × 2\n",
       "\n",
       "| Type &lt;chr&gt; | n &lt;int&gt; |\n",
       "|---|---|\n",
       "| Mu1_R         |  2 |\n",
       "| uncategorized | 11 |\n",
       "\n"
      ],
      "text/plain": [
       "  Type          n \n",
       "1 Mu1_R          2\n",
       "2 uncategorized 11"
      ]
     },
     "metadata": {},
     "output_type": "display_data"
    }
   ],
   "source": [
    "tmp_merge_ins_sam_typed_summary <- dplyr::left_join(tmp_merge_ins_sam, tmp_type_file, by = c(\"Name\"=\"Name\", \"Strand\"=\"Strand\"), na_matches = \"na\") %>%\n",
    "  group_by(Type) %>%\n",
    "  summarize(n = n()) %>%\n",
    "  #change NA to uncategorized\n",
    "  tidyr::replace_na(list(Type = \"uncategorized\"))\n",
    "\n",
    "for (t in tmp_merge_ins_sam_typed_summary$Type) {\n",
    "  tmp_ins <- tmp_ins %>%\n",
    "  mutate({{t}} := tmp_merge_ins_sam_typed_summary %>%\n",
    "                 filter(Type == {{t}}) %>%\n",
    "                 pull(n)\n",
    "         )\n",
    "}"
   ]
  },
  {
   "cell_type": "code",
   "execution_count": 86,
   "id": "1cc789b3-861d-47bd-9635-75f4c0b4bfd8",
   "metadata": {},
   "outputs": [
    {
     "data": {
      "text/html": [
       "<style>\n",
       ".list-inline {list-style: none; margin:0; padding: 0}\n",
       ".list-inline>li {display: inline-block}\n",
       ".list-inline>li:not(:last-child)::after {content: \"\\00b7\"; padding: 0 .5ex}\n",
       "</style>\n",
       "<ol class=list-inline><li>'Mu1_R'</li><li>'uncategorized'</li></ol>\n"
      ],
      "text/latex": [
       "\\begin{enumerate*}\n",
       "\\item 'Mu1\\_R'\n",
       "\\item 'uncategorized'\n",
       "\\end{enumerate*}\n"
      ],
      "text/markdown": [
       "1. 'Mu1_R'\n",
       "2. 'uncategorized'\n",
       "\n",
       "\n"
      ],
      "text/plain": [
       "[1] \"Mu1_R\"         \"uncategorized\""
      ]
     },
     "metadata": {},
     "output_type": "display_data"
    }
   ],
   "source": [
    "head(tmp_merge_ins_sam_typed_summary)\n",
    "\n",
    "tmp_merge_ins_sam_typed_summary$Type"
   ]
  },
  {
   "cell_type": "code",
   "execution_count": 51,
   "id": "17b65951-cdc2-47d7-a99d-5235aed65b92",
   "metadata": {},
   "outputs": [
    {
     "data": {
      "text/html": [
       "<table class=\"dataframe\">\n",
       "<caption>A data.frame: 1 × 9</caption>\n",
       "<thead>\n",
       "\t<tr><th></th><th scope=col>Chr</th><th scope=col>Start</th><th scope=col>End</th><th scope=col>Sample</th><th scope=col>StartReads</th><th scope=col>EndReads</th><th scope=col>Mu1_L</th><th scope=col>Mu1_R</th><th scope=col>uncategorized</th></tr>\n",
       "\t<tr><th></th><th scope=col>&lt;chr&gt;</th><th scope=col>&lt;int&gt;</th><th scope=col>&lt;int&gt;</th><th scope=col>&lt;chr&gt;</th><th scope=col>&lt;int&gt;</th><th scope=col>&lt;int&gt;</th><th scope=col>&lt;dbl&gt;</th><th scope=col>&lt;dbl&gt;</th><th scope=col>&lt;dbl&gt;</th></tr>\n",
       "</thead>\n",
       "<tbody>\n",
       "\t<tr><th scope=row>3</th><td>1</td><td>4498708</td><td>4498716</td><td>Col-01</td><td>8</td><td>5</td><td>0</td><td>0</td><td>0</td></tr>\n",
       "</tbody>\n",
       "</table>\n"
      ],
      "text/latex": [
       "A data.frame: 1 × 9\n",
       "\\begin{tabular}{r|lllllllll}\n",
       "  & Chr & Start & End & Sample & StartReads & EndReads & Mu1\\_L & Mu1\\_R & uncategorized\\\\\n",
       "  & <chr> & <int> & <int> & <chr> & <int> & <int> & <dbl> & <dbl> & <dbl>\\\\\n",
       "\\hline\n",
       "\t3 & 1 & 4498708 & 4498716 & Col-01 & 8 & 5 & 0 & 0 & 0\\\\\n",
       "\\end{tabular}\n"
      ],
      "text/markdown": [
       "\n",
       "A data.frame: 1 × 9\n",
       "\n",
       "| <!--/--> | Chr &lt;chr&gt; | Start &lt;int&gt; | End &lt;int&gt; | Sample &lt;chr&gt; | StartReads &lt;int&gt; | EndReads &lt;int&gt; | Mu1_L &lt;dbl&gt; | Mu1_R &lt;dbl&gt; | uncategorized &lt;dbl&gt; |\n",
       "|---|---|---|---|---|---|---|---|---|---|\n",
       "| 3 | 1 | 4498708 | 4498716 | Col-01 | 8 | 5 | 0 | 0 | 0 |\n",
       "\n"
      ],
      "text/plain": [
       "  Chr Start   End     Sample StartReads EndReads Mu1_L Mu1_R uncategorized\n",
       "3 1   4498708 4498716 Col-01 8          5        0     0     0            "
      ]
     },
     "metadata": {},
     "output_type": "display_data"
    }
   ],
   "source": [
    "head(tmp_ins)"
   ]
  },
  {
   "cell_type": "code",
   "execution_count": 117,
   "id": "687b8aeb-5bc6-42ce-8cce-bf6cf27712e3",
   "metadata": {},
   "outputs": [
    {
     "name": "stdout",
     "output_type": "stream",
     "text": [
      "[1] \"Mu1_R\"\n",
      "[1] \"uncategorized\"\n"
     ]
    }
   ],
   "source": [
    "for (t in tmp_merge_ins_sam_typed_summary$Type) {\n",
    "  print(t)\n",
    "}"
   ]
  },
  {
   "cell_type": "code",
   "execution_count": 118,
   "id": "05a871c2-2125-43e4-ba54-f572ac8ad764",
   "metadata": {},
   "outputs": [
    {
     "data": {
      "text/html": [
       "<table class=\"dataframe\">\n",
       "<caption>A data.frame: 1 × 9</caption>\n",
       "<thead>\n",
       "\t<tr><th></th><th scope=col>Chr</th><th scope=col>Start</th><th scope=col>End</th><th scope=col>Sample</th><th scope=col>StartReads</th><th scope=col>EndReads</th><th scope=col>Mu1_L</th><th scope=col>Mu1_R</th><th scope=col>uncategorized</th></tr>\n",
       "\t<tr><th></th><th scope=col>&lt;chr&gt;</th><th scope=col>&lt;int&gt;</th><th scope=col>&lt;int&gt;</th><th scope=col>&lt;chr&gt;</th><th scope=col>&lt;int&gt;</th><th scope=col>&lt;int&gt;</th><th scope=col>&lt;dbl&gt;</th><th scope=col>&lt;int&gt;</th><th scope=col>&lt;int&gt;</th></tr>\n",
       "</thead>\n",
       "<tbody>\n",
       "\t<tr><th scope=row>3</th><td>1</td><td>4498708</td><td>4498716</td><td>Col-01</td><td>8</td><td>5</td><td>0</td><td>2</td><td>11</td></tr>\n",
       "</tbody>\n",
       "</table>\n"
      ],
      "text/latex": [
       "A data.frame: 1 × 9\n",
       "\\begin{tabular}{r|lllllllll}\n",
       "  & Chr & Start & End & Sample & StartReads & EndReads & Mu1\\_L & Mu1\\_R & uncategorized\\\\\n",
       "  & <chr> & <int> & <int> & <chr> & <int> & <int> & <dbl> & <int> & <int>\\\\\n",
       "\\hline\n",
       "\t3 & 1 & 4498708 & 4498716 & Col-01 & 8 & 5 & 0 & 2 & 11\\\\\n",
       "\\end{tabular}\n"
      ],
      "text/markdown": [
       "\n",
       "A data.frame: 1 × 9\n",
       "\n",
       "| <!--/--> | Chr &lt;chr&gt; | Start &lt;int&gt; | End &lt;int&gt; | Sample &lt;chr&gt; | StartReads &lt;int&gt; | EndReads &lt;int&gt; | Mu1_L &lt;dbl&gt; | Mu1_R &lt;int&gt; | uncategorized &lt;int&gt; |\n",
       "|---|---|---|---|---|---|---|---|---|---|\n",
       "| 3 | 1 | 4498708 | 4498716 | Col-01 | 8 | 5 | 0 | 2 | 11 |\n",
       "\n"
      ],
      "text/plain": [
       "  Chr Start   End     Sample StartReads EndReads Mu1_L Mu1_R uncategorized\n",
       "3 1   4498708 4498716 Col-01 8          5        0     2     11           "
      ]
     },
     "metadata": {},
     "output_type": "display_data"
    }
   ],
   "source": [
    "for (t in tmp_merge_ins_sam_typed_summary$Type) {\n",
    "  tmp_ins <- tmp_ins %>%\n",
    "  mutate({{t}} := tmp_merge_ins_sam_typed_summary %>%\n",
    "                 filter(Type == {{t}}) %>%\n",
    "                 pull(n)\n",
    "         )\n",
    "}\n",
    "\n",
    "head(tmp_ins)\n",
    "\n",
    "#tmp_ins %>%\n",
    "#  mutate(Mu1_R = tmp_merge_ins_sam_typed_summary %>%\n",
    "#                 filter(Type == \"Mu1_R\") %>%\n",
    "#                 pull(n)\n",
    "#         )"
   ]
  },
  {
   "cell_type": "code",
   "execution_count": 57,
   "id": "661ccd38-afa3-4978-85ad-cb243902cf74",
   "metadata": {},
   "outputs": [
    {
     "data": {
      "text/html": [
       "2"
      ],
      "text/latex": [
       "2"
      ],
      "text/markdown": [
       "2"
      ],
      "text/plain": [
       "[1] 2"
      ]
     },
     "metadata": {},
     "output_type": "display_data"
    }
   ],
   "source": [
    "tmp_merge_ins_sam_typed_summary %>%\n",
    "  filter(Type == \"Mu1_R\") %>%\n",
    "  pull(n)"
   ]
  },
  {
   "cell_type": "code",
   "execution_count": 335,
   "id": "a587176c-8d85-43d2-a7c0-2aeff7d7d3ee",
   "metadata": {},
   "outputs": [
    {
     "data": {
      "text/html": [
       "<table class=\"dataframe\">\n",
       "<caption>A data.frame: 6 × 1</caption>\n",
       "<thead>\n",
       "\t<tr><th></th><th scope=col>Mu1_total</th></tr>\n",
       "\t<tr><th></th><th scope=col>&lt;dbl&gt;</th></tr>\n",
       "</thead>\n",
       "<tbody>\n",
       "\t<tr><th scope=row>1</th><td>0</td></tr>\n",
       "\t<tr><th scope=row>2</th><td>4</td></tr>\n",
       "\t<tr><th scope=row>3</th><td>2</td></tr>\n",
       "\t<tr><th scope=row>4</th><td>0</td></tr>\n",
       "\t<tr><th scope=row>5</th><td>2</td></tr>\n",
       "\t<tr><th scope=row>6</th><td>3</td></tr>\n",
       "</tbody>\n",
       "</table>\n"
      ],
      "text/latex": [
       "A data.frame: 6 × 1\n",
       "\\begin{tabular}{r|l}\n",
       "  & Mu1\\_total\\\\\n",
       "  & <dbl>\\\\\n",
       "\\hline\n",
       "\t1 & 0\\\\\n",
       "\t2 & 4\\\\\n",
       "\t3 & 2\\\\\n",
       "\t4 & 0\\\\\n",
       "\t5 & 2\\\\\n",
       "\t6 & 3\\\\\n",
       "\\end{tabular}\n"
      ],
      "text/markdown": [
       "\n",
       "A data.frame: 6 × 1\n",
       "\n",
       "| <!--/--> | Mu1_total &lt;dbl&gt; |\n",
       "|---|---|\n",
       "| 1 | 0 |\n",
       "| 2 | 4 |\n",
       "| 3 | 2 |\n",
       "| 4 | 0 |\n",
       "| 5 | 2 |\n",
       "| 6 | 3 |\n",
       "\n"
      ],
      "text/plain": [
       "  Mu1_total\n",
       "1 0        \n",
       "2 4        \n",
       "3 2        \n",
       "4 0        \n",
       "5 2        \n",
       "6 3        "
      ]
     },
     "metadata": {},
     "output_type": "display_data"
    }
   ],
   "source": [
    "head(ttt)"
   ]
  },
  {
   "cell_type": "code",
   "execution_count": 481,
   "id": "3b8f60f1-20f4-410b-be46-acc59356612f",
   "metadata": {
    "tags": []
   },
   "outputs": [
    {
     "data": {
      "text/html": [
       "<table class=\"dataframe\">\n",
       "<caption>A data.frame: 6 × 62</caption>\n",
       "<thead>\n",
       "\t<tr><th></th><th scope=col>Chr</th><th scope=col>Start</th><th scope=col>End</th><th scope=col>Sample</th><th scope=col>StartReads</th><th scope=col>EndReads</th><th scope=col>TotalReads</th><th scope=col>Mu1_L</th><th scope=col>Mu1_R</th><th scope=col>Mu2_L</th><th scope=col>⋯</th><th scope=col>Mu10_total</th><th scope=col>Mu11_total</th><th scope=col>Mu12_total</th><th scope=col>Mu13_total</th><th scope=col>Mu14_total</th><th scope=col>Mu15_total</th><th scope=col>Mu16_total</th><th scope=col>Mu17_total</th><th scope=col>Mu18_total</th><th scope=col>Mu19_total</th></tr>\n",
       "\t<tr><th></th><th scope=col>&lt;chr&gt;</th><th scope=col>&lt;int&gt;</th><th scope=col>&lt;int&gt;</th><th scope=col>&lt;chr&gt;</th><th scope=col>&lt;int&gt;</th><th scope=col>&lt;int&gt;</th><th scope=col>&lt;int&gt;</th><th scope=col>&lt;dbl&gt;</th><th scope=col>&lt;dbl&gt;</th><th scope=col>&lt;dbl&gt;</th><th scope=col>⋯</th><th scope=col>&lt;dbl&gt;</th><th scope=col>&lt;dbl&gt;</th><th scope=col>&lt;dbl&gt;</th><th scope=col>&lt;dbl&gt;</th><th scope=col>&lt;dbl&gt;</th><th scope=col>&lt;dbl&gt;</th><th scope=col>&lt;dbl&gt;</th><th scope=col>&lt;dbl&gt;</th><th scope=col>&lt;dbl&gt;</th><th scope=col>&lt;dbl&gt;</th></tr>\n",
       "</thead>\n",
       "<tbody>\n",
       "\t<tr><th scope=row>1</th><td>1</td><td>3124440</td><td>3124448</td><td>Col-01</td><td> 2</td><td>2</td><td> 4</td><td>0</td><td>0</td><td>0</td><td>⋯</td><td>0</td><td>0</td><td>0</td><td>0</td><td>0</td><td>0</td><td>0</td><td>0</td><td>0</td><td>0</td></tr>\n",
       "\t<tr><th scope=row>2</th><td>1</td><td>3772030</td><td>3772038</td><td>Col-01</td><td> 2</td><td>2</td><td> 4</td><td>2</td><td>2</td><td>0</td><td>⋯</td><td>0</td><td>0</td><td>0</td><td>0</td><td>0</td><td>0</td><td>0</td><td>4</td><td>0</td><td>0</td></tr>\n",
       "\t<tr><th scope=row>3</th><td>1</td><td>4498708</td><td>4498716</td><td>Col-01</td><td> 8</td><td>5</td><td>13</td><td>0</td><td>2</td><td>0</td><td>⋯</td><td>0</td><td>2</td><td>0</td><td>0</td><td>2</td><td>0</td><td>2</td><td>4</td><td>0</td><td>2</td></tr>\n",
       "\t<tr><th scope=row>4</th><td>1</td><td>4736284</td><td>4736292</td><td>Col-01</td><td> 4</td><td>2</td><td> 6</td><td>0</td><td>0</td><td>0</td><td>⋯</td><td>0</td><td>1</td><td>0</td><td>0</td><td>1</td><td>0</td><td>1</td><td>0</td><td>0</td><td>1</td></tr>\n",
       "\t<tr><th scope=row>5</th><td>1</td><td>4909718</td><td>4909726</td><td>Col-01</td><td> 9</td><td>8</td><td>17</td><td>0</td><td>2</td><td>0</td><td>⋯</td><td>0</td><td>0</td><td>0</td><td>0</td><td>0</td><td>0</td><td>0</td><td>4</td><td>0</td><td>0</td></tr>\n",
       "\t<tr><th scope=row>6</th><td>1</td><td>8308462</td><td>8308470</td><td>Col-01</td><td>12</td><td>2</td><td>14</td><td>1</td><td>2</td><td>0</td><td>⋯</td><td>0</td><td>0</td><td>0</td><td>0</td><td>0</td><td>0</td><td>0</td><td>4</td><td>0</td><td>0</td></tr>\n",
       "</tbody>\n",
       "</table>\n"
      ],
      "text/latex": [
       "A data.frame: 6 × 62\n",
       "\\begin{tabular}{r|lllllllllllllllllllll}\n",
       "  & Chr & Start & End & Sample & StartReads & EndReads & TotalReads & Mu1\\_L & Mu1\\_R & Mu2\\_L & ⋯ & Mu10\\_total & Mu11\\_total & Mu12\\_total & Mu13\\_total & Mu14\\_total & Mu15\\_total & Mu16\\_total & Mu17\\_total & Mu18\\_total & Mu19\\_total\\\\\n",
       "  & <chr> & <int> & <int> & <chr> & <int> & <int> & <int> & <dbl> & <dbl> & <dbl> & ⋯ & <dbl> & <dbl> & <dbl> & <dbl> & <dbl> & <dbl> & <dbl> & <dbl> & <dbl> & <dbl>\\\\\n",
       "\\hline\n",
       "\t1 & 1 & 3124440 & 3124448 & Col-01 &  2 & 2 &  4 & 0 & 0 & 0 & ⋯ & 0 & 0 & 0 & 0 & 0 & 0 & 0 & 0 & 0 & 0\\\\\n",
       "\t2 & 1 & 3772030 & 3772038 & Col-01 &  2 & 2 &  4 & 2 & 2 & 0 & ⋯ & 0 & 0 & 0 & 0 & 0 & 0 & 0 & 4 & 0 & 0\\\\\n",
       "\t3 & 1 & 4498708 & 4498716 & Col-01 &  8 & 5 & 13 & 0 & 2 & 0 & ⋯ & 0 & 2 & 0 & 0 & 2 & 0 & 2 & 4 & 0 & 2\\\\\n",
       "\t4 & 1 & 4736284 & 4736292 & Col-01 &  4 & 2 &  6 & 0 & 0 & 0 & ⋯ & 0 & 1 & 0 & 0 & 1 & 0 & 1 & 0 & 0 & 1\\\\\n",
       "\t5 & 1 & 4909718 & 4909726 & Col-01 &  9 & 8 & 17 & 0 & 2 & 0 & ⋯ & 0 & 0 & 0 & 0 & 0 & 0 & 0 & 4 & 0 & 0\\\\\n",
       "\t6 & 1 & 8308462 & 8308470 & Col-01 & 12 & 2 & 14 & 1 & 2 & 0 & ⋯ & 0 & 0 & 0 & 0 & 0 & 0 & 0 & 4 & 0 & 0\\\\\n",
       "\\end{tabular}\n"
      ],
      "text/markdown": [
       "\n",
       "A data.frame: 6 × 62\n",
       "\n",
       "| <!--/--> | Chr &lt;chr&gt; | Start &lt;int&gt; | End &lt;int&gt; | Sample &lt;chr&gt; | StartReads &lt;int&gt; | EndReads &lt;int&gt; | TotalReads &lt;int&gt; | Mu1_L &lt;dbl&gt; | Mu1_R &lt;dbl&gt; | Mu2_L &lt;dbl&gt; | ⋯ ⋯ | Mu10_total &lt;dbl&gt; | Mu11_total &lt;dbl&gt; | Mu12_total &lt;dbl&gt; | Mu13_total &lt;dbl&gt; | Mu14_total &lt;dbl&gt; | Mu15_total &lt;dbl&gt; | Mu16_total &lt;dbl&gt; | Mu17_total &lt;dbl&gt; | Mu18_total &lt;dbl&gt; | Mu19_total &lt;dbl&gt; |\n",
       "|---|---|---|---|---|---|---|---|---|---|---|---|---|---|---|---|---|---|---|---|---|---|\n",
       "| 1 | 1 | 3124440 | 3124448 | Col-01 |  2 | 2 |  4 | 0 | 0 | 0 | ⋯ | 0 | 0 | 0 | 0 | 0 | 0 | 0 | 0 | 0 | 0 |\n",
       "| 2 | 1 | 3772030 | 3772038 | Col-01 |  2 | 2 |  4 | 2 | 2 | 0 | ⋯ | 0 | 0 | 0 | 0 | 0 | 0 | 0 | 4 | 0 | 0 |\n",
       "| 3 | 1 | 4498708 | 4498716 | Col-01 |  8 | 5 | 13 | 0 | 2 | 0 | ⋯ | 0 | 2 | 0 | 0 | 2 | 0 | 2 | 4 | 0 | 2 |\n",
       "| 4 | 1 | 4736284 | 4736292 | Col-01 |  4 | 2 |  6 | 0 | 0 | 0 | ⋯ | 0 | 1 | 0 | 0 | 1 | 0 | 1 | 0 | 0 | 1 |\n",
       "| 5 | 1 | 4909718 | 4909726 | Col-01 |  9 | 8 | 17 | 0 | 2 | 0 | ⋯ | 0 | 0 | 0 | 0 | 0 | 0 | 0 | 4 | 0 | 0 |\n",
       "| 6 | 1 | 8308462 | 8308470 | Col-01 | 12 | 2 | 14 | 1 | 2 | 0 | ⋯ | 0 | 0 | 0 | 0 | 0 | 0 | 0 | 4 | 0 | 0 |\n",
       "\n"
      ],
      "text/plain": [
       "  Chr Start   End     Sample StartReads EndReads TotalReads Mu1_L Mu1_R Mu2_L ⋯\n",
       "1 1   3124440 3124448 Col-01  2         2         4         0     0     0     ⋯\n",
       "2 1   3772030 3772038 Col-01  2         2         4         2     2     0     ⋯\n",
       "3 1   4498708 4498716 Col-01  8         5        13         0     2     0     ⋯\n",
       "4 1   4736284 4736292 Col-01  4         2         6         0     0     0     ⋯\n",
       "5 1   4909718 4909726 Col-01  9         8        17         0     2     0     ⋯\n",
       "6 1   8308462 8308470 Col-01 12         2        14         1     2     0     ⋯\n",
       "  Mu10_total Mu11_total Mu12_total Mu13_total Mu14_total Mu15_total Mu16_total\n",
       "1 0          0          0          0          0          0          0         \n",
       "2 0          0          0          0          0          0          0         \n",
       "3 0          2          0          0          2          0          2         \n",
       "4 0          1          0          0          1          0          1         \n",
       "5 0          0          0          0          0          0          0         \n",
       "6 0          0          0          0          0          0          0         \n",
       "  Mu17_total Mu18_total Mu19_total\n",
       "1 0          0          0         \n",
       "2 4          0          0         \n",
       "3 4          0          2         \n",
       "4 0          0          1         \n",
       "5 4          0          0         \n",
       "6 4          0          0         "
      ]
     },
     "metadata": {},
     "output_type": "display_data"
    },
    {
     "data": {
      "text/html": [
       "<table class=\"dataframe\">\n",
       "<caption>A data.frame: 6 × 21</caption>\n",
       "<thead>\n",
       "\t<tr><th></th><th scope=col>Mu1_total</th><th scope=col>Mu2_total</th><th scope=col>Mu3_total</th><th scope=col>Mu4_total</th><th scope=col>Mu5_total</th><th scope=col>Mu7_total</th><th scope=col>Mu8_total</th><th scope=col>MuDR_total</th><th scope=col>Mu10_total</th><th scope=col>Mu11_total</th><th scope=col>⋯</th><th scope=col>Mu13_total</th><th scope=col>Mu14_total</th><th scope=col>Mu15_total</th><th scope=col>Mu16_total</th><th scope=col>Mu17_total</th><th scope=col>Mu18_total</th><th scope=col>Mu19_total</th><th scope=col>uncategorized</th><th scope=col>max_value</th><th scope=col>count</th></tr>\n",
       "\t<tr><th></th><th scope=col>&lt;dbl&gt;</th><th scope=col>&lt;dbl&gt;</th><th scope=col>&lt;dbl&gt;</th><th scope=col>&lt;dbl&gt;</th><th scope=col>&lt;dbl&gt;</th><th scope=col>&lt;dbl&gt;</th><th scope=col>&lt;dbl&gt;</th><th scope=col>&lt;dbl&gt;</th><th scope=col>&lt;dbl&gt;</th><th scope=col>&lt;dbl&gt;</th><th scope=col>⋯</th><th scope=col>&lt;dbl&gt;</th><th scope=col>&lt;dbl&gt;</th><th scope=col>&lt;dbl&gt;</th><th scope=col>&lt;dbl&gt;</th><th scope=col>&lt;dbl&gt;</th><th scope=col>&lt;dbl&gt;</th><th scope=col>&lt;dbl&gt;</th><th scope=col>&lt;dbl&gt;</th><th scope=col>&lt;dbl&gt;</th><th scope=col>&lt;dbl&gt;</th></tr>\n",
       "</thead>\n",
       "<tbody>\n",
       "\t<tr><th scope=row>1</th><td>0</td><td>0</td><td>0</td><td>0</td><td>0</td><td>0</td><td>0</td><td>0</td><td>0</td><td>0</td><td>⋯</td><td>0</td><td>0</td><td>0</td><td>0</td><td>0</td><td>0</td><td>0</td><td> 4</td><td> 4</td><td>2</td></tr>\n",
       "\t<tr><th scope=row>2</th><td>4</td><td>2</td><td>0</td><td>0</td><td>2</td><td>4</td><td>0</td><td>0</td><td>0</td><td>0</td><td>⋯</td><td>0</td><td>0</td><td>0</td><td>0</td><td>4</td><td>0</td><td>0</td><td> 0</td><td> 4</td><td>4</td></tr>\n",
       "\t<tr><th scope=row>3</th><td>2</td><td>0</td><td>0</td><td>0</td><td>2</td><td>4</td><td>3</td><td>6</td><td>0</td><td>2</td><td>⋯</td><td>0</td><td>2</td><td>0</td><td>2</td><td>4</td><td>0</td><td>2</td><td> 6</td><td> 6</td><td>3</td></tr>\n",
       "\t<tr><th scope=row>4</th><td>0</td><td>0</td><td>0</td><td>0</td><td>0</td><td>0</td><td>2</td><td>4</td><td>0</td><td>1</td><td>⋯</td><td>0</td><td>1</td><td>0</td><td>1</td><td>0</td><td>0</td><td>1</td><td> 3</td><td> 4</td><td>2</td></tr>\n",
       "\t<tr><th scope=row>5</th><td>2</td><td>0</td><td>4</td><td>8</td><td>2</td><td>4</td><td>0</td><td>0</td><td>0</td><td>0</td><td>⋯</td><td>0</td><td>0</td><td>0</td><td>0</td><td>4</td><td>0</td><td>0</td><td>11</td><td>11</td><td>2</td></tr>\n",
       "\t<tr><th scope=row>6</th><td>3</td><td>1</td><td>2</td><td>4</td><td>2</td><td>4</td><td>0</td><td>0</td><td>0</td><td>0</td><td>⋯</td><td>0</td><td>0</td><td>0</td><td>0</td><td>4</td><td>0</td><td>0</td><td> 9</td><td> 9</td><td>2</td></tr>\n",
       "</tbody>\n",
       "</table>\n"
      ],
      "text/latex": [
       "A data.frame: 6 × 21\n",
       "\\begin{tabular}{r|lllllllllllllllllllll}\n",
       "  & Mu1\\_total & Mu2\\_total & Mu3\\_total & Mu4\\_total & Mu5\\_total & Mu7\\_total & Mu8\\_total & MuDR\\_total & Mu10\\_total & Mu11\\_total & ⋯ & Mu13\\_total & Mu14\\_total & Mu15\\_total & Mu16\\_total & Mu17\\_total & Mu18\\_total & Mu19\\_total & uncategorized & max\\_value & count\\\\\n",
       "  & <dbl> & <dbl> & <dbl> & <dbl> & <dbl> & <dbl> & <dbl> & <dbl> & <dbl> & <dbl> & ⋯ & <dbl> & <dbl> & <dbl> & <dbl> & <dbl> & <dbl> & <dbl> & <dbl> & <dbl> & <dbl>\\\\\n",
       "\\hline\n",
       "\t1 & 0 & 0 & 0 & 0 & 0 & 0 & 0 & 0 & 0 & 0 & ⋯ & 0 & 0 & 0 & 0 & 0 & 0 & 0 &  4 &  4 & 2\\\\\n",
       "\t2 & 4 & 2 & 0 & 0 & 2 & 4 & 0 & 0 & 0 & 0 & ⋯ & 0 & 0 & 0 & 0 & 4 & 0 & 0 &  0 &  4 & 4\\\\\n",
       "\t3 & 2 & 0 & 0 & 0 & 2 & 4 & 3 & 6 & 0 & 2 & ⋯ & 0 & 2 & 0 & 2 & 4 & 0 & 2 &  6 &  6 & 3\\\\\n",
       "\t4 & 0 & 0 & 0 & 0 & 0 & 0 & 2 & 4 & 0 & 1 & ⋯ & 0 & 1 & 0 & 1 & 0 & 0 & 1 &  3 &  4 & 2\\\\\n",
       "\t5 & 2 & 0 & 4 & 8 & 2 & 4 & 0 & 0 & 0 & 0 & ⋯ & 0 & 0 & 0 & 0 & 4 & 0 & 0 & 11 & 11 & 2\\\\\n",
       "\t6 & 3 & 1 & 2 & 4 & 2 & 4 & 0 & 0 & 0 & 0 & ⋯ & 0 & 0 & 0 & 0 & 4 & 0 & 0 &  9 &  9 & 2\\\\\n",
       "\\end{tabular}\n"
      ],
      "text/markdown": [
       "\n",
       "A data.frame: 6 × 21\n",
       "\n",
       "| <!--/--> | Mu1_total &lt;dbl&gt; | Mu2_total &lt;dbl&gt; | Mu3_total &lt;dbl&gt; | Mu4_total &lt;dbl&gt; | Mu5_total &lt;dbl&gt; | Mu7_total &lt;dbl&gt; | Mu8_total &lt;dbl&gt; | MuDR_total &lt;dbl&gt; | Mu10_total &lt;dbl&gt; | Mu11_total &lt;dbl&gt; | ⋯ ⋯ | Mu13_total &lt;dbl&gt; | Mu14_total &lt;dbl&gt; | Mu15_total &lt;dbl&gt; | Mu16_total &lt;dbl&gt; | Mu17_total &lt;dbl&gt; | Mu18_total &lt;dbl&gt; | Mu19_total &lt;dbl&gt; | uncategorized &lt;dbl&gt; | max_value &lt;dbl&gt; | count &lt;dbl&gt; |\n",
       "|---|---|---|---|---|---|---|---|---|---|---|---|---|---|---|---|---|---|---|---|---|---|\n",
       "| 1 | 0 | 0 | 0 | 0 | 0 | 0 | 0 | 0 | 0 | 0 | ⋯ | 0 | 0 | 0 | 0 | 0 | 0 | 0 |  4 |  4 | 2 |\n",
       "| 2 | 4 | 2 | 0 | 0 | 2 | 4 | 0 | 0 | 0 | 0 | ⋯ | 0 | 0 | 0 | 0 | 4 | 0 | 0 |  0 |  4 | 4 |\n",
       "| 3 | 2 | 0 | 0 | 0 | 2 | 4 | 3 | 6 | 0 | 2 | ⋯ | 0 | 2 | 0 | 2 | 4 | 0 | 2 |  6 |  6 | 3 |\n",
       "| 4 | 0 | 0 | 0 | 0 | 0 | 0 | 2 | 4 | 0 | 1 | ⋯ | 0 | 1 | 0 | 1 | 0 | 0 | 1 |  3 |  4 | 2 |\n",
       "| 5 | 2 | 0 | 4 | 8 | 2 | 4 | 0 | 0 | 0 | 0 | ⋯ | 0 | 0 | 0 | 0 | 4 | 0 | 0 | 11 | 11 | 2 |\n",
       "| 6 | 3 | 1 | 2 | 4 | 2 | 4 | 0 | 0 | 0 | 0 | ⋯ | 0 | 0 | 0 | 0 | 4 | 0 | 0 |  9 |  9 | 2 |\n",
       "\n"
      ],
      "text/plain": [
       "  Mu1_total Mu2_total Mu3_total Mu4_total Mu5_total Mu7_total Mu8_total\n",
       "1 0         0         0         0         0         0         0        \n",
       "2 4         2         0         0         2         4         0        \n",
       "3 2         0         0         0         2         4         3        \n",
       "4 0         0         0         0         0         0         2        \n",
       "5 2         0         4         8         2         4         0        \n",
       "6 3         1         2         4         2         4         0        \n",
       "  MuDR_total Mu10_total Mu11_total ⋯ Mu13_total Mu14_total Mu15_total\n",
       "1 0          0          0          ⋯ 0          0          0         \n",
       "2 0          0          0          ⋯ 0          0          0         \n",
       "3 6          0          2          ⋯ 0          2          0         \n",
       "4 4          0          1          ⋯ 0          1          0         \n",
       "5 0          0          0          ⋯ 0          0          0         \n",
       "6 0          0          0          ⋯ 0          0          0         \n",
       "  Mu16_total Mu17_total Mu18_total Mu19_total uncategorized max_value count\n",
       "1 0          0          0          0           4             4        2    \n",
       "2 0          4          0          0           0             4        4    \n",
       "3 2          4          0          2           6             6        3    \n",
       "4 1          0          0          1           3             4        2    \n",
       "5 0          4          0          0          11            11        2    \n",
       "6 0          4          0          0           9             9        2    "
      ]
     },
     "metadata": {},
     "output_type": "display_data"
    },
    {
     "data": {
      "text/html": [
       "<table class=\"dataframe\">\n",
       "<caption>A data.frame: 6 × 22</caption>\n",
       "<thead>\n",
       "\t<tr><th></th><th scope=col>Mu1_total</th><th scope=col>Mu2_total</th><th scope=col>Mu3_total</th><th scope=col>Mu4_total</th><th scope=col>Mu5_total</th><th scope=col>Mu7_total</th><th scope=col>Mu8_total</th><th scope=col>MuDR_total</th><th scope=col>Mu10_total</th><th scope=col>Mu11_total</th><th scope=col>⋯</th><th scope=col>Mu14_total</th><th scope=col>Mu15_total</th><th scope=col>Mu16_total</th><th scope=col>Mu17_total</th><th scope=col>Mu18_total</th><th scope=col>Mu19_total</th><th scope=col>uncategorized</th><th scope=col>max_value</th><th scope=col>count</th><th scope=col>Clear</th></tr>\n",
       "\t<tr><th></th><th scope=col>&lt;dbl&gt;</th><th scope=col>&lt;dbl&gt;</th><th scope=col>&lt;dbl&gt;</th><th scope=col>&lt;dbl&gt;</th><th scope=col>&lt;dbl&gt;</th><th scope=col>&lt;dbl&gt;</th><th scope=col>&lt;dbl&gt;</th><th scope=col>&lt;dbl&gt;</th><th scope=col>&lt;dbl&gt;</th><th scope=col>&lt;dbl&gt;</th><th scope=col>⋯</th><th scope=col>&lt;dbl&gt;</th><th scope=col>&lt;dbl&gt;</th><th scope=col>&lt;dbl&gt;</th><th scope=col>&lt;dbl&gt;</th><th scope=col>&lt;dbl&gt;</th><th scope=col>&lt;dbl&gt;</th><th scope=col>&lt;dbl&gt;</th><th scope=col>&lt;dbl&gt;</th><th scope=col>&lt;dbl&gt;</th><th scope=col>&lt;chr&gt;</th></tr>\n",
       "</thead>\n",
       "<tbody>\n",
       "\t<tr><th scope=row>1</th><td>0</td><td>0</td><td>0</td><td>0</td><td>0</td><td>0</td><td>0</td><td>0</td><td>0</td><td>0</td><td>⋯</td><td>0</td><td>0</td><td>0</td><td>0</td><td>0</td><td>0</td><td> 4</td><td> 4</td><td>2</td><td>Clear</td></tr>\n",
       "\t<tr><th scope=row>2</th><td>4</td><td>2</td><td>0</td><td>0</td><td>2</td><td>4</td><td>0</td><td>0</td><td>0</td><td>0</td><td>⋯</td><td>0</td><td>0</td><td>0</td><td>4</td><td>0</td><td>0</td><td> 0</td><td> 4</td><td>4</td><td>TIED </td></tr>\n",
       "\t<tr><th scope=row>3</th><td>2</td><td>0</td><td>0</td><td>0</td><td>2</td><td>4</td><td>3</td><td>6</td><td>0</td><td>2</td><td>⋯</td><td>2</td><td>0</td><td>2</td><td>4</td><td>0</td><td>2</td><td> 6</td><td> 6</td><td>3</td><td>TIED </td></tr>\n",
       "\t<tr><th scope=row>4</th><td>0</td><td>0</td><td>0</td><td>0</td><td>0</td><td>0</td><td>2</td><td>4</td><td>0</td><td>1</td><td>⋯</td><td>1</td><td>0</td><td>1</td><td>0</td><td>0</td><td>1</td><td> 3</td><td> 4</td><td>2</td><td>Clear</td></tr>\n",
       "\t<tr><th scope=row>5</th><td>2</td><td>0</td><td>4</td><td>8</td><td>2</td><td>4</td><td>0</td><td>0</td><td>0</td><td>0</td><td>⋯</td><td>0</td><td>0</td><td>0</td><td>4</td><td>0</td><td>0</td><td>11</td><td>11</td><td>2</td><td>Clear</td></tr>\n",
       "\t<tr><th scope=row>6</th><td>3</td><td>1</td><td>2</td><td>4</td><td>2</td><td>4</td><td>0</td><td>0</td><td>0</td><td>0</td><td>⋯</td><td>0</td><td>0</td><td>0</td><td>4</td><td>0</td><td>0</td><td> 9</td><td> 9</td><td>2</td><td>Clear</td></tr>\n",
       "</tbody>\n",
       "</table>\n"
      ],
      "text/latex": [
       "A data.frame: 6 × 22\n",
       "\\begin{tabular}{r|lllllllllllllllllllll}\n",
       "  & Mu1\\_total & Mu2\\_total & Mu3\\_total & Mu4\\_total & Mu5\\_total & Mu7\\_total & Mu8\\_total & MuDR\\_total & Mu10\\_total & Mu11\\_total & ⋯ & Mu14\\_total & Mu15\\_total & Mu16\\_total & Mu17\\_total & Mu18\\_total & Mu19\\_total & uncategorized & max\\_value & count & Clear\\\\\n",
       "  & <dbl> & <dbl> & <dbl> & <dbl> & <dbl> & <dbl> & <dbl> & <dbl> & <dbl> & <dbl> & ⋯ & <dbl> & <dbl> & <dbl> & <dbl> & <dbl> & <dbl> & <dbl> & <dbl> & <dbl> & <chr>\\\\\n",
       "\\hline\n",
       "\t1 & 0 & 0 & 0 & 0 & 0 & 0 & 0 & 0 & 0 & 0 & ⋯ & 0 & 0 & 0 & 0 & 0 & 0 &  4 &  4 & 2 & Clear\\\\\n",
       "\t2 & 4 & 2 & 0 & 0 & 2 & 4 & 0 & 0 & 0 & 0 & ⋯ & 0 & 0 & 0 & 4 & 0 & 0 &  0 &  4 & 4 & TIED \\\\\n",
       "\t3 & 2 & 0 & 0 & 0 & 2 & 4 & 3 & 6 & 0 & 2 & ⋯ & 2 & 0 & 2 & 4 & 0 & 2 &  6 &  6 & 3 & TIED \\\\\n",
       "\t4 & 0 & 0 & 0 & 0 & 0 & 0 & 2 & 4 & 0 & 1 & ⋯ & 1 & 0 & 1 & 0 & 0 & 1 &  3 &  4 & 2 & Clear\\\\\n",
       "\t5 & 2 & 0 & 4 & 8 & 2 & 4 & 0 & 0 & 0 & 0 & ⋯ & 0 & 0 & 0 & 4 & 0 & 0 & 11 & 11 & 2 & Clear\\\\\n",
       "\t6 & 3 & 1 & 2 & 4 & 2 & 4 & 0 & 0 & 0 & 0 & ⋯ & 0 & 0 & 0 & 4 & 0 & 0 &  9 &  9 & 2 & Clear\\\\\n",
       "\\end{tabular}\n"
      ],
      "text/markdown": [
       "\n",
       "A data.frame: 6 × 22\n",
       "\n",
       "| <!--/--> | Mu1_total &lt;dbl&gt; | Mu2_total &lt;dbl&gt; | Mu3_total &lt;dbl&gt; | Mu4_total &lt;dbl&gt; | Mu5_total &lt;dbl&gt; | Mu7_total &lt;dbl&gt; | Mu8_total &lt;dbl&gt; | MuDR_total &lt;dbl&gt; | Mu10_total &lt;dbl&gt; | Mu11_total &lt;dbl&gt; | ⋯ ⋯ | Mu14_total &lt;dbl&gt; | Mu15_total &lt;dbl&gt; | Mu16_total &lt;dbl&gt; | Mu17_total &lt;dbl&gt; | Mu18_total &lt;dbl&gt; | Mu19_total &lt;dbl&gt; | uncategorized &lt;dbl&gt; | max_value &lt;dbl&gt; | count &lt;dbl&gt; | Clear &lt;chr&gt; |\n",
       "|---|---|---|---|---|---|---|---|---|---|---|---|---|---|---|---|---|---|---|---|---|---|\n",
       "| 1 | 0 | 0 | 0 | 0 | 0 | 0 | 0 | 0 | 0 | 0 | ⋯ | 0 | 0 | 0 | 0 | 0 | 0 |  4 |  4 | 2 | Clear |\n",
       "| 2 | 4 | 2 | 0 | 0 | 2 | 4 | 0 | 0 | 0 | 0 | ⋯ | 0 | 0 | 0 | 4 | 0 | 0 |  0 |  4 | 4 | TIED  |\n",
       "| 3 | 2 | 0 | 0 | 0 | 2 | 4 | 3 | 6 | 0 | 2 | ⋯ | 2 | 0 | 2 | 4 | 0 | 2 |  6 |  6 | 3 | TIED  |\n",
       "| 4 | 0 | 0 | 0 | 0 | 0 | 0 | 2 | 4 | 0 | 1 | ⋯ | 1 | 0 | 1 | 0 | 0 | 1 |  3 |  4 | 2 | Clear |\n",
       "| 5 | 2 | 0 | 4 | 8 | 2 | 4 | 0 | 0 | 0 | 0 | ⋯ | 0 | 0 | 0 | 4 | 0 | 0 | 11 | 11 | 2 | Clear |\n",
       "| 6 | 3 | 1 | 2 | 4 | 2 | 4 | 0 | 0 | 0 | 0 | ⋯ | 0 | 0 | 0 | 4 | 0 | 0 |  9 |  9 | 2 | Clear |\n",
       "\n"
      ],
      "text/plain": [
       "  Mu1_total Mu2_total Mu3_total Mu4_total Mu5_total Mu7_total Mu8_total\n",
       "1 0         0         0         0         0         0         0        \n",
       "2 4         2         0         0         2         4         0        \n",
       "3 2         0         0         0         2         4         3        \n",
       "4 0         0         0         0         0         0         2        \n",
       "5 2         0         4         8         2         4         0        \n",
       "6 3         1         2         4         2         4         0        \n",
       "  MuDR_total Mu10_total Mu11_total ⋯ Mu14_total Mu15_total Mu16_total\n",
       "1 0          0          0          ⋯ 0          0          0         \n",
       "2 0          0          0          ⋯ 0          0          0         \n",
       "3 6          0          2          ⋯ 2          0          2         \n",
       "4 4          0          1          ⋯ 1          0          1         \n",
       "5 0          0          0          ⋯ 0          0          0         \n",
       "6 0          0          0          ⋯ 0          0          0         \n",
       "  Mu17_total Mu18_total Mu19_total uncategorized max_value count Clear\n",
       "1 0          0          0           4             4        2     Clear\n",
       "2 4          0          0           0             4        4     TIED \n",
       "3 4          0          2           6             6        3     TIED \n",
       "4 0          0          1           3             4        2     Clear\n",
       "5 4          0          0          11            11        2     Clear\n",
       "6 4          0          0           9             9        2     Clear"
      ]
     },
     "metadata": {},
     "output_type": "display_data"
    }
   ],
   "source": [
    "ttt <- all_insertions_typed[1:100,]\n",
    "#head(ttt)\n",
    "\n",
    "\n",
    "for (t in base_all_types) {\n",
    "    \n",
    "  tmp_left <- paste0(t, \"_L\")\n",
    "  tmp_right <- paste0(t, \"_R\")\n",
    "    \n",
    "  ttt <- ttt %>%\n",
    "#    rowwise() %>%\n",
    "    #add total amount of reads supporting insertion\n",
    "    mutate(TotalReads = StartReads + EndReads) %>%\n",
    "    dplyr::relocate(TotalReads, .after = EndReads) %>%\n",
    "    #add total amount of support reads per (Mu) type\n",
    "    mutate(\"{t}_total\" := .data[[tmp_left]] + .data[[tmp_right]]) #%>%\n",
    "#    rowwise() %>%\n",
    "#    select(., matches(\"_total\")) #%>%\n",
    "#    mutate(Class = names(c(StartReads, EndReads))[max.col(.)])\n",
    "}\n",
    "\n",
    "head(ttt)\n",
    "\n",
    "#create df to write to\n",
    "sss <- ttt %>%\n",
    "  select(., matches(c(\"_total\", \"uncategorized\")))\n",
    "sss[,c(\"max_value\",\"count\")]=0\n",
    "\n",
    "#loop over df to identify uncear cases in which the max support for type classification is tied\n",
    "for (l in 1:nrow(ttt)) {\n",
    "tmp_tie_check <- ttt[l,] %>%\n",
    "  select(., matches(c(\"_total\", \"uncategorized\"))) %>%\n",
    "  rowwise() %>%\n",
    "  mutate(max_value = max(across())) %>%\n",
    "#  mutate(across(.fns = ~ as.integer(.x))) %>%\n",
    "  rowwise() %>%\n",
    "  mutate(count = length(which(.==max_value)))\n",
    "    \n",
    "  sss[l,] <- tmp_tie_check\n",
    "}\n",
    "\n",
    "head(sss)\n",
    "\n",
    "sss %>%\n",
    "  mutate(Clear = \n",
    "    case_when(\n",
    "      count > 2 ~ \"TIED\",\n",
    "      count == 2 ~ \"Clear\",\n",
    "      TRUE ~ \"ERROR\"\n",
    "    )\n",
    "  ) %>% head()\n",
    "\n",
    "#  mutate(max = names(.)[max.col(., ties.method = \"first\")]) %>%\n",
    "#  mutate(sum_yes = rowSums(. == max_value)) %>%\n"
   ]
  },
  {
   "cell_type": "code",
   "execution_count": 479,
   "id": "062614c9-693d-476c-9284-0fce803407d2",
   "metadata": {},
   "outputs": [
    {
     "data": {
      "text/html": [
       "<table class=\"dataframe\">\n",
       "<caption>A rowwise_df: 1 × 21</caption>\n",
       "<thead>\n",
       "\t<tr><th scope=col>Mu1_total</th><th scope=col>Mu2_total</th><th scope=col>Mu3_total</th><th scope=col>Mu4_total</th><th scope=col>Mu5_total</th><th scope=col>Mu7_total</th><th scope=col>Mu8_total</th><th scope=col>MuDR_total</th><th scope=col>Mu10_total</th><th scope=col>Mu11_total</th><th scope=col>⋯</th><th scope=col>Mu13_total</th><th scope=col>Mu14_total</th><th scope=col>Mu15_total</th><th scope=col>Mu16_total</th><th scope=col>Mu17_total</th><th scope=col>Mu18_total</th><th scope=col>Mu19_total</th><th scope=col>uncategorized</th><th scope=col>max_value</th><th scope=col>count</th></tr>\n",
       "\t<tr><th scope=col>&lt;dbl&gt;</th><th scope=col>&lt;dbl&gt;</th><th scope=col>&lt;dbl&gt;</th><th scope=col>&lt;dbl&gt;</th><th scope=col>&lt;dbl&gt;</th><th scope=col>&lt;dbl&gt;</th><th scope=col>&lt;dbl&gt;</th><th scope=col>&lt;dbl&gt;</th><th scope=col>&lt;dbl&gt;</th><th scope=col>&lt;dbl&gt;</th><th scope=col>⋯</th><th scope=col>&lt;dbl&gt;</th><th scope=col>&lt;dbl&gt;</th><th scope=col>&lt;dbl&gt;</th><th scope=col>&lt;dbl&gt;</th><th scope=col>&lt;dbl&gt;</th><th scope=col>&lt;dbl&gt;</th><th scope=col>&lt;dbl&gt;</th><th scope=col>&lt;dbl&gt;</th><th scope=col>&lt;dbl&gt;</th><th scope=col>&lt;int&gt;</th></tr>\n",
       "</thead>\n",
       "<tbody>\n",
       "\t<tr><td>0</td><td>0</td><td>1</td><td>2</td><td>0</td><td>0</td><td>0</td><td>0</td><td>0</td><td>0</td><td>⋯</td><td>0</td><td>0</td><td>0</td><td>0</td><td>0</td><td>0</td><td>0</td><td>7</td><td>7</td><td>2</td></tr>\n",
       "</tbody>\n",
       "</table>\n"
      ],
      "text/latex": [
       "A rowwise\\_df: 1 × 21\n",
       "\\begin{tabular}{lllllllllllllllllllll}\n",
       " Mu1\\_total & Mu2\\_total & Mu3\\_total & Mu4\\_total & Mu5\\_total & Mu7\\_total & Mu8\\_total & MuDR\\_total & Mu10\\_total & Mu11\\_total & ⋯ & Mu13\\_total & Mu14\\_total & Mu15\\_total & Mu16\\_total & Mu17\\_total & Mu18\\_total & Mu19\\_total & uncategorized & max\\_value & count\\\\\n",
       " <dbl> & <dbl> & <dbl> & <dbl> & <dbl> & <dbl> & <dbl> & <dbl> & <dbl> & <dbl> & ⋯ & <dbl> & <dbl> & <dbl> & <dbl> & <dbl> & <dbl> & <dbl> & <dbl> & <dbl> & <int>\\\\\n",
       "\\hline\n",
       "\t 0 & 0 & 1 & 2 & 0 & 0 & 0 & 0 & 0 & 0 & ⋯ & 0 & 0 & 0 & 0 & 0 & 0 & 0 & 7 & 7 & 2\\\\\n",
       "\\end{tabular}\n"
      ],
      "text/markdown": [
       "\n",
       "A rowwise_df: 1 × 21\n",
       "\n",
       "| Mu1_total &lt;dbl&gt; | Mu2_total &lt;dbl&gt; | Mu3_total &lt;dbl&gt; | Mu4_total &lt;dbl&gt; | Mu5_total &lt;dbl&gt; | Mu7_total &lt;dbl&gt; | Mu8_total &lt;dbl&gt; | MuDR_total &lt;dbl&gt; | Mu10_total &lt;dbl&gt; | Mu11_total &lt;dbl&gt; | ⋯ ⋯ | Mu13_total &lt;dbl&gt; | Mu14_total &lt;dbl&gt; | Mu15_total &lt;dbl&gt; | Mu16_total &lt;dbl&gt; | Mu17_total &lt;dbl&gt; | Mu18_total &lt;dbl&gt; | Mu19_total &lt;dbl&gt; | uncategorized &lt;dbl&gt; | max_value &lt;dbl&gt; | count &lt;int&gt; |\n",
       "|---|---|---|---|---|---|---|---|---|---|---|---|---|---|---|---|---|---|---|---|---|\n",
       "| 0 | 0 | 1 | 2 | 0 | 0 | 0 | 0 | 0 | 0 | ⋯ | 0 | 0 | 0 | 0 | 0 | 0 | 0 | 7 | 7 | 2 |\n",
       "\n"
      ],
      "text/plain": [
       "  Mu1_total Mu2_total Mu3_total Mu4_total Mu5_total Mu7_total Mu8_total\n",
       "1 0         0         1         2         0         0         0        \n",
       "  MuDR_total Mu10_total Mu11_total ⋯ Mu13_total Mu14_total Mu15_total\n",
       "1 0          0          0          ⋯ 0          0          0         \n",
       "  Mu16_total Mu17_total Mu18_total Mu19_total uncategorized max_value count\n",
       "1 0          0          0          0          7             7         2    "
      ]
     },
     "metadata": {},
     "output_type": "display_data"
    },
    {
     "data": {
      "text/html": [
       "<table class=\"dataframe\">\n",
       "<caption>A data.frame: 6 × 20</caption>\n",
       "<thead>\n",
       "\t<tr><th></th><th scope=col>Mu1_total</th><th scope=col>Mu2_total</th><th scope=col>Mu3_total</th><th scope=col>Mu4_total</th><th scope=col>Mu5_total</th><th scope=col>Mu7_total</th><th scope=col>Mu8_total</th><th scope=col>MuDR_total</th><th scope=col>Mu10_total</th><th scope=col>Mu11_total</th><th scope=col>Mu12_total</th><th scope=col>Mu13_total</th><th scope=col>Mu14_total</th><th scope=col>Mu15_total</th><th scope=col>Mu16_total</th><th scope=col>Mu17_total</th><th scope=col>Mu18_total</th><th scope=col>Mu19_total</th><th scope=col>uncategorized</th><th scope=col>max_value</th></tr>\n",
       "\t<tr><th></th><th scope=col>&lt;dbl&gt;</th><th scope=col>&lt;dbl&gt;</th><th scope=col>&lt;dbl&gt;</th><th scope=col>&lt;dbl&gt;</th><th scope=col>&lt;dbl&gt;</th><th scope=col>&lt;dbl&gt;</th><th scope=col>&lt;dbl&gt;</th><th scope=col>&lt;dbl&gt;</th><th scope=col>&lt;dbl&gt;</th><th scope=col>&lt;dbl&gt;</th><th scope=col>&lt;dbl&gt;</th><th scope=col>&lt;dbl&gt;</th><th scope=col>&lt;dbl&gt;</th><th scope=col>&lt;dbl&gt;</th><th scope=col>&lt;dbl&gt;</th><th scope=col>&lt;dbl&gt;</th><th scope=col>&lt;dbl&gt;</th><th scope=col>&lt;dbl&gt;</th><th scope=col>&lt;dbl&gt;</th><th scope=col>&lt;dbl&gt;</th></tr>\n",
       "</thead>\n",
       "<tbody>\n",
       "\t<tr><th scope=row>1</th><td>0</td><td>0</td><td>0</td><td>0</td><td>0</td><td>0</td><td>0</td><td>0</td><td>0</td><td>0</td><td>0</td><td>0</td><td>0</td><td>0</td><td>0</td><td>0</td><td>0</td><td>0</td><td> 4</td><td> 4</td></tr>\n",
       "\t<tr><th scope=row>2</th><td>4</td><td>2</td><td>0</td><td>0</td><td>2</td><td>4</td><td>0</td><td>0</td><td>0</td><td>0</td><td>0</td><td>0</td><td>0</td><td>0</td><td>0</td><td>4</td><td>0</td><td>0</td><td> 0</td><td> 4</td></tr>\n",
       "\t<tr><th scope=row>3</th><td>2</td><td>0</td><td>0</td><td>0</td><td>2</td><td>4</td><td>3</td><td>6</td><td>0</td><td>2</td><td>0</td><td>0</td><td>2</td><td>0</td><td>2</td><td>4</td><td>0</td><td>2</td><td> 6</td><td> 6</td></tr>\n",
       "\t<tr><th scope=row>4</th><td>0</td><td>0</td><td>0</td><td>0</td><td>0</td><td>0</td><td>2</td><td>4</td><td>0</td><td>1</td><td>0</td><td>0</td><td>1</td><td>0</td><td>1</td><td>0</td><td>0</td><td>1</td><td> 3</td><td> 4</td></tr>\n",
       "\t<tr><th scope=row>5</th><td>2</td><td>0</td><td>4</td><td>8</td><td>2</td><td>4</td><td>0</td><td>0</td><td>0</td><td>0</td><td>0</td><td>0</td><td>0</td><td>0</td><td>0</td><td>4</td><td>0</td><td>0</td><td>11</td><td>11</td></tr>\n",
       "\t<tr><th scope=row>6</th><td>3</td><td>1</td><td>2</td><td>4</td><td>2</td><td>4</td><td>0</td><td>0</td><td>0</td><td>0</td><td>0</td><td>0</td><td>0</td><td>0</td><td>0</td><td>4</td><td>0</td><td>0</td><td> 9</td><td> 9</td></tr>\n",
       "</tbody>\n",
       "</table>\n"
      ],
      "text/latex": [
       "A data.frame: 6 × 20\n",
       "\\begin{tabular}{r|llllllllllllllllllll}\n",
       "  & Mu1\\_total & Mu2\\_total & Mu3\\_total & Mu4\\_total & Mu5\\_total & Mu7\\_total & Mu8\\_total & MuDR\\_total & Mu10\\_total & Mu11\\_total & Mu12\\_total & Mu13\\_total & Mu14\\_total & Mu15\\_total & Mu16\\_total & Mu17\\_total & Mu18\\_total & Mu19\\_total & uncategorized & max\\_value\\\\\n",
       "  & <dbl> & <dbl> & <dbl> & <dbl> & <dbl> & <dbl> & <dbl> & <dbl> & <dbl> & <dbl> & <dbl> & <dbl> & <dbl> & <dbl> & <dbl> & <dbl> & <dbl> & <dbl> & <dbl> & <dbl>\\\\\n",
       "\\hline\n",
       "\t1 & 0 & 0 & 0 & 0 & 0 & 0 & 0 & 0 & 0 & 0 & 0 & 0 & 0 & 0 & 0 & 0 & 0 & 0 &  4 &  4\\\\\n",
       "\t2 & 4 & 2 & 0 & 0 & 2 & 4 & 0 & 0 & 0 & 0 & 0 & 0 & 0 & 0 & 0 & 4 & 0 & 0 &  0 &  4\\\\\n",
       "\t3 & 2 & 0 & 0 & 0 & 2 & 4 & 3 & 6 & 0 & 2 & 0 & 0 & 2 & 0 & 2 & 4 & 0 & 2 &  6 &  6\\\\\n",
       "\t4 & 0 & 0 & 0 & 0 & 0 & 0 & 2 & 4 & 0 & 1 & 0 & 0 & 1 & 0 & 1 & 0 & 0 & 1 &  3 &  4\\\\\n",
       "\t5 & 2 & 0 & 4 & 8 & 2 & 4 & 0 & 0 & 0 & 0 & 0 & 0 & 0 & 0 & 0 & 4 & 0 & 0 & 11 & 11\\\\\n",
       "\t6 & 3 & 1 & 2 & 4 & 2 & 4 & 0 & 0 & 0 & 0 & 0 & 0 & 0 & 0 & 0 & 4 & 0 & 0 &  9 &  9\\\\\n",
       "\\end{tabular}\n"
      ],
      "text/markdown": [
       "\n",
       "A data.frame: 6 × 20\n",
       "\n",
       "| <!--/--> | Mu1_total &lt;dbl&gt; | Mu2_total &lt;dbl&gt; | Mu3_total &lt;dbl&gt; | Mu4_total &lt;dbl&gt; | Mu5_total &lt;dbl&gt; | Mu7_total &lt;dbl&gt; | Mu8_total &lt;dbl&gt; | MuDR_total &lt;dbl&gt; | Mu10_total &lt;dbl&gt; | Mu11_total &lt;dbl&gt; | Mu12_total &lt;dbl&gt; | Mu13_total &lt;dbl&gt; | Mu14_total &lt;dbl&gt; | Mu15_total &lt;dbl&gt; | Mu16_total &lt;dbl&gt; | Mu17_total &lt;dbl&gt; | Mu18_total &lt;dbl&gt; | Mu19_total &lt;dbl&gt; | uncategorized &lt;dbl&gt; | max_value &lt;dbl&gt; |\n",
       "|---|---|---|---|---|---|---|---|---|---|---|---|---|---|---|---|---|---|---|---|---|\n",
       "| 1 | 0 | 0 | 0 | 0 | 0 | 0 | 0 | 0 | 0 | 0 | 0 | 0 | 0 | 0 | 0 | 0 | 0 | 0 |  4 |  4 |\n",
       "| 2 | 4 | 2 | 0 | 0 | 2 | 4 | 0 | 0 | 0 | 0 | 0 | 0 | 0 | 0 | 0 | 4 | 0 | 0 |  0 |  4 |\n",
       "| 3 | 2 | 0 | 0 | 0 | 2 | 4 | 3 | 6 | 0 | 2 | 0 | 0 | 2 | 0 | 2 | 4 | 0 | 2 |  6 |  6 |\n",
       "| 4 | 0 | 0 | 0 | 0 | 0 | 0 | 2 | 4 | 0 | 1 | 0 | 0 | 1 | 0 | 1 | 0 | 0 | 1 |  3 |  4 |\n",
       "| 5 | 2 | 0 | 4 | 8 | 2 | 4 | 0 | 0 | 0 | 0 | 0 | 0 | 0 | 0 | 0 | 4 | 0 | 0 | 11 | 11 |\n",
       "| 6 | 3 | 1 | 2 | 4 | 2 | 4 | 0 | 0 | 0 | 0 | 0 | 0 | 0 | 0 | 0 | 4 | 0 | 0 |  9 |  9 |\n",
       "\n"
      ],
      "text/plain": [
       "  Mu1_total Mu2_total Mu3_total Mu4_total Mu5_total Mu7_total Mu8_total\n",
       "1 0         0         0         0         0         0         0        \n",
       "2 4         2         0         0         2         4         0        \n",
       "3 2         0         0         0         2         4         3        \n",
       "4 0         0         0         0         0         0         2        \n",
       "5 2         0         4         8         2         4         0        \n",
       "6 3         1         2         4         2         4         0        \n",
       "  MuDR_total Mu10_total Mu11_total Mu12_total Mu13_total Mu14_total Mu15_total\n",
       "1 0          0          0          0          0          0          0         \n",
       "2 0          0          0          0          0          0          0         \n",
       "3 6          0          2          0          0          2          0         \n",
       "4 4          0          1          0          0          1          0         \n",
       "5 0          0          0          0          0          0          0         \n",
       "6 0          0          0          0          0          0          0         \n",
       "  Mu16_total Mu17_total Mu18_total Mu19_total uncategorized max_value\n",
       "1 0          0          0          0           4             4       \n",
       "2 0          4          0          0           0             4       \n",
       "3 2          4          0          2           6             6       \n",
       "4 1          0          0          1           3             4       \n",
       "5 0          4          0          0          11            11       \n",
       "6 0          4          0          0           9             9       "
      ]
     },
     "metadata": {},
     "output_type": "display_data"
    }
   ],
   "source": [
    "head(tmp_tie_check)\n",
    "head(sss)"
   ]
  },
  {
   "cell_type": "code",
   "execution_count": 320,
   "id": "169942d5-4103-4067-a2ec-14f739ab735c",
   "metadata": {},
   "outputs": [
    {
     "data": {
      "text/html": [
       "<table class=\"dataframe\">\n",
       "<caption>A data.frame: 1 × 43</caption>\n",
       "<thead>\n",
       "\t<tr><th></th><th scope=col>Chr</th><th scope=col>Start</th><th scope=col>End</th><th scope=col>Sample</th><th scope=col>StartReads</th><th scope=col>EndReads</th><th scope=col>Mu1_L</th><th scope=col>Mu1_R</th><th scope=col>Mu2_L</th><th scope=col>Mu2_R</th><th scope=col>⋯</th><th scope=col>Mu15_R</th><th scope=col>Mu16_L</th><th scope=col>Mu16_R</th><th scope=col>Mu17_L</th><th scope=col>Mu17_R</th><th scope=col>Mu18_L</th><th scope=col>Mu18_R</th><th scope=col>Mu19_L</th><th scope=col>Mu19_R</th><th scope=col>uncategorized</th></tr>\n",
       "\t<tr><th></th><th scope=col>&lt;chr&gt;</th><th scope=col>&lt;int&gt;</th><th scope=col>&lt;int&gt;</th><th scope=col>&lt;chr&gt;</th><th scope=col>&lt;int&gt;</th><th scope=col>&lt;int&gt;</th><th scope=col>&lt;dbl&gt;</th><th scope=col>&lt;dbl&gt;</th><th scope=col>&lt;dbl&gt;</th><th scope=col>&lt;dbl&gt;</th><th scope=col>⋯</th><th scope=col>&lt;dbl&gt;</th><th scope=col>&lt;dbl&gt;</th><th scope=col>&lt;dbl&gt;</th><th scope=col>&lt;dbl&gt;</th><th scope=col>&lt;dbl&gt;</th><th scope=col>&lt;dbl&gt;</th><th scope=col>&lt;dbl&gt;</th><th scope=col>&lt;dbl&gt;</th><th scope=col>&lt;dbl&gt;</th><th scope=col>&lt;dbl&gt;</th></tr>\n",
       "</thead>\n",
       "<tbody>\n",
       "\t<tr><th scope=row>1</th><td>1</td><td>3124440</td><td>3124448</td><td>Col-01</td><td>2</td><td>2</td><td>0</td><td>0</td><td>0</td><td>0</td><td>⋯</td><td>0</td><td>0</td><td>0</td><td>0</td><td>0</td><td>0</td><td>0</td><td>0</td><td>0</td><td>4</td></tr>\n",
       "</tbody>\n",
       "</table>\n"
      ],
      "text/latex": [
       "A data.frame: 1 × 43\n",
       "\\begin{tabular}{r|lllllllllllllllllllll}\n",
       "  & Chr & Start & End & Sample & StartReads & EndReads & Mu1\\_L & Mu1\\_R & Mu2\\_L & Mu2\\_R & ⋯ & Mu15\\_R & Mu16\\_L & Mu16\\_R & Mu17\\_L & Mu17\\_R & Mu18\\_L & Mu18\\_R & Mu19\\_L & Mu19\\_R & uncategorized\\\\\n",
       "  & <chr> & <int> & <int> & <chr> & <int> & <int> & <dbl> & <dbl> & <dbl> & <dbl> & ⋯ & <dbl> & <dbl> & <dbl> & <dbl> & <dbl> & <dbl> & <dbl> & <dbl> & <dbl> & <dbl>\\\\\n",
       "\\hline\n",
       "\t1 & 1 & 3124440 & 3124448 & Col-01 & 2 & 2 & 0 & 0 & 0 & 0 & ⋯ & 0 & 0 & 0 & 0 & 0 & 0 & 0 & 0 & 0 & 4\\\\\n",
       "\\end{tabular}\n"
      ],
      "text/markdown": [
       "\n",
       "A data.frame: 1 × 43\n",
       "\n",
       "| <!--/--> | Chr &lt;chr&gt; | Start &lt;int&gt; | End &lt;int&gt; | Sample &lt;chr&gt; | StartReads &lt;int&gt; | EndReads &lt;int&gt; | Mu1_L &lt;dbl&gt; | Mu1_R &lt;dbl&gt; | Mu2_L &lt;dbl&gt; | Mu2_R &lt;dbl&gt; | ⋯ ⋯ | Mu15_R &lt;dbl&gt; | Mu16_L &lt;dbl&gt; | Mu16_R &lt;dbl&gt; | Mu17_L &lt;dbl&gt; | Mu17_R &lt;dbl&gt; | Mu18_L &lt;dbl&gt; | Mu18_R &lt;dbl&gt; | Mu19_L &lt;dbl&gt; | Mu19_R &lt;dbl&gt; | uncategorized &lt;dbl&gt; |\n",
       "|---|---|---|---|---|---|---|---|---|---|---|---|---|---|---|---|---|---|---|---|---|---|\n",
       "| 1 | 1 | 3124440 | 3124448 | Col-01 | 2 | 2 | 0 | 0 | 0 | 0 | ⋯ | 0 | 0 | 0 | 0 | 0 | 0 | 0 | 0 | 0 | 4 |\n",
       "\n"
      ],
      "text/plain": [
       "  Chr Start   End     Sample StartReads EndReads Mu1_L Mu1_R Mu2_L Mu2_R ⋯\n",
       "1 1   3124440 3124448 Col-01 2          2        0     0     0     0     ⋯\n",
       "  Mu15_R Mu16_L Mu16_R Mu17_L Mu17_R Mu18_L Mu18_R Mu19_L Mu19_R uncategorized\n",
       "1 0      0      0      0      0      0      0      0      0      4            "
      ]
     },
     "metadata": {},
     "output_type": "display_data"
    },
    {
     "data": {
      "text/html": [
       "<table class=\"dataframe\">\n",
       "<caption>A data.frame: 6 × 0</caption>\n",
       "<tbody>\n",
       "\t<tr><th scope=row>1</th></tr>\n",
       "\t<tr><th scope=row>2</th></tr>\n",
       "\t<tr><th scope=row>3</th></tr>\n",
       "\t<tr><th scope=row>4</th></tr>\n",
       "\t<tr><th scope=row>5</th></tr>\n",
       "\t<tr><th scope=row>6</th></tr>\n",
       "</tbody>\n",
       "</table>\n"
      ],
      "text/latex": [
       "A data.frame: 6 × 0\n",
       "\\begin{tabular}{r|}\n",
       "\t1\\\\\n",
       "\t2\\\\\n",
       "\t3\\\\\n",
       "\t4\\\\\n",
       "\t5\\\\\n",
       "\t6\\\\\n",
       "\\end{tabular}\n"
      ],
      "text/markdown": [
       "\n",
       "A data.frame: 6 × 0\n",
       "\n",
       "| 1 |\n",
       "| 2 |\n",
       "| 3 |\n",
       "| 4 |\n",
       "| 5 |\n",
       "| 6 |\n",
       "\n"
      ],
      "text/plain": [
       " \n",
       "1\n",
       "2\n",
       "3\n",
       "4\n",
       "5\n",
       "6"
      ]
     },
     "metadata": {},
     "output_type": "display_data"
    }
   ],
   "source": [
    "ttt <- all_insertions_typed[1:100,]\n",
    "\n",
    "head(ttt, n=1)\n",
    "\n",
    "ttt %>%\n",
    "  select(., ends_with(\"_total\")) %>%\n",
    "#  rowwise() %>%\n",
    "#  mutate(row_max = names(.)[which.max(c(\"StartReads\",\"EndReads\"))]) %>%\n",
    "#  relocate(row_max, .after = uncategorized) %>%\n",
    "  head()"
   ]
  }
 ],
 "metadata": {
  "kernelspec": {
   "display_name": "R",
   "language": "R",
   "name": "ir"
  },
  "language_info": {
   "codemirror_mode": "r",
   "file_extension": ".r",
   "mimetype": "text/x-r-source",
   "name": "R",
   "pygments_lexer": "r",
   "version": "4.1.0"
  }
 },
 "nbformat": 4,
 "nbformat_minor": 5
}
